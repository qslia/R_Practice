{
 "cells": [
  {
   "cell_type": "code",
   "execution_count": 3,
   "id": "a13af672",
   "metadata": {
    "vscode": {
     "languageId": "r"
    }
   },
   "outputs": [
    {
     "data": {
      "text/html": [
       "8"
      ],
      "text/latex": [
       "8"
      ],
      "text/markdown": [
       "8"
      ],
      "text/plain": [
       "[1] 8"
      ]
     },
     "metadata": {},
     "output_type": "display_data"
    }
   ],
   "source": [
    "jenny_rocks <- 2 ^ 3\n",
    "jenny_rocks"
   ]
  },
  {
   "cell_type": "code",
   "execution_count": 4,
   "id": "0831fe80",
   "metadata": {
    "vscode": {
     "languageId": "r"
    }
   },
   "outputs": [
    {
     "data": {
      "text/html": [
       "<style>\n",
       ".list-inline {list-style: none; margin:0; padding: 0}\n",
       ".list-inline>li {display: inline-block}\n",
       ".list-inline>li:not(:last-child)::after {content: \"\\00b7\"; padding: 0 .5ex}\n",
       "</style>\n",
       "<ol class=list-inline><li>1</li><li>2</li><li>3</li><li>4</li><li>5</li><li>6</li><li>7</li><li>8</li><li>9</li><li>10</li></ol>\n"
      ],
      "text/latex": [
       "\\begin{enumerate*}\n",
       "\\item 1\n",
       "\\item 2\n",
       "\\item 3\n",
       "\\item 4\n",
       "\\item 5\n",
       "\\item 6\n",
       "\\item 7\n",
       "\\item 8\n",
       "\\item 9\n",
       "\\item 10\n",
       "\\end{enumerate*}\n"
      ],
      "text/markdown": [
       "1. 1\n",
       "2. 2\n",
       "3. 3\n",
       "4. 4\n",
       "5. 5\n",
       "6. 6\n",
       "7. 7\n",
       "8. 8\n",
       "9. 9\n",
       "10. 10\n",
       "\n",
       "\n"
      ],
      "text/plain": [
       " [1]  1  2  3  4  5  6  7  8  9 10"
      ]
     },
     "metadata": {},
     "output_type": "display_data"
    }
   ],
   "source": [
    "seq(1, 10)"
   ]
  },
  {
   "cell_type": "code",
   "execution_count": 5,
   "id": "69ddd388",
   "metadata": {
    "vscode": {
     "languageId": "r"
    }
   },
   "outputs": [
    {
     "data": {
      "text/html": [
       "'jenny_rocks'"
      ],
      "text/latex": [
       "'jenny\\_rocks'"
      ],
      "text/markdown": [
       "'jenny_rocks'"
      ],
      "text/plain": [
       "[1] \"jenny_rocks\""
      ]
     },
     "metadata": {},
     "output_type": "display_data"
    }
   ],
   "source": [
    "objects()"
   ]
  },
  {
   "cell_type": "code",
   "execution_count": 6,
   "id": "d81abb78",
   "metadata": {
    "vscode": {
     "languageId": "r"
    }
   },
   "outputs": [
    {
     "data": {
      "text/html": [
       "'jenny_rocks'"
      ],
      "text/latex": [
       "'jenny\\_rocks'"
      ],
      "text/markdown": [
       "'jenny_rocks'"
      ],
      "text/plain": [
       "[1] \"jenny_rocks\""
      ]
     },
     "metadata": {},
     "output_type": "display_data"
    }
   ],
   "source": [
    "ls()"
   ]
  },
  {
   "cell_type": "code",
   "execution_count": 7,
   "id": "4db3df98",
   "metadata": {
    "vscode": {
     "languageId": "r"
    }
   },
   "outputs": [],
   "source": [
    "rm(list = ls())"
   ]
  },
  {
   "cell_type": "code",
   "execution_count": 8,
   "id": "9fc8ae08",
   "metadata": {
    "vscode": {
     "languageId": "r"
    }
   },
   "outputs": [
    {
     "data": {
      "text/html": [],
      "text/latex": [],
      "text/markdown": [],
      "text/plain": [
       "character(0)"
      ]
     },
     "metadata": {},
     "output_type": "display_data"
    }
   ],
   "source": [
    "ls()"
   ]
  },
  {
   "cell_type": "code",
   "execution_count": 9,
   "id": "267fcdca",
   "metadata": {
    "vscode": {
     "languageId": "r"
    }
   },
   "outputs": [
    {
     "data": {
      "text/html": [],
      "text/latex": [],
      "text/markdown": [],
      "text/plain": [
       "character(0)"
      ]
     },
     "metadata": {},
     "output_type": "display_data"
    }
   ],
   "source": [
    "objects()"
   ]
  },
  {
   "cell_type": "code",
   "execution_count": 13,
   "id": "46c483b0",
   "metadata": {
    "vscode": {
     "languageId": "r"
    }
   },
   "outputs": [
    {
     "data": {
      "text/html": [
       "<style>\n",
       ".list-inline {list-style: none; margin:0; padding: 0}\n",
       ".list-inline>li {display: inline-block}\n",
       ".list-inline>li:not(:last-child)::after {content: \"\\00b7\"; padding: 0 .5ex}\n",
       "</style>\n",
       "<ol class=list-inline><li>0.701702297432348</li><li>0.235760569339618</li><li>0.244540673913434</li><li>0.185258069308475</li><li>0.448951446451247</li><li>0.438200046308339</li><li>0.385737081058323</li><li>0.470655486453325</li><li>0.994541278108954</li><li>0.967664802679792</li><li>0.803669533226639</li><li>0.518701021792367</li><li>0.455151323694736</li><li>0.694258254021406</li><li>0.810124157229438</li><li>0.48131868802011</li><li>0.815459128003567</li><li>0.0327233979478478</li><li>0.444219943601638</li><li>0.72185307694599</li><li>0.20764261810109</li><li>0.956458160886541</li><li>0.990272980183363</li><li>0.931305774021894</li><li>0.733320792205632</li><li>0.01472601830028</li><li>0.137483860366046</li><li>0.865432109916583</li><li>0.345038016792387</li><li>0.370029691141099</li><li>0.644154357491061</li><li>0.470857294509187</li><li>0.443980247480795</li><li>0.791694548446685</li><li>0.955204139230773</li><li>0.307124234503135</li><li>0.39743587677367</li><li>0.7425893235486</li><li>0.532996640540659</li><li>0.573914961190894</li></ol>\n"
      ],
      "text/latex": [
       "\\begin{enumerate*}\n",
       "\\item 0.701702297432348\n",
       "\\item 0.235760569339618\n",
       "\\item 0.244540673913434\n",
       "\\item 0.185258069308475\n",
       "\\item 0.448951446451247\n",
       "\\item 0.438200046308339\n",
       "\\item 0.385737081058323\n",
       "\\item 0.470655486453325\n",
       "\\item 0.994541278108954\n",
       "\\item 0.967664802679792\n",
       "\\item 0.803669533226639\n",
       "\\item 0.518701021792367\n",
       "\\item 0.455151323694736\n",
       "\\item 0.694258254021406\n",
       "\\item 0.810124157229438\n",
       "\\item 0.48131868802011\n",
       "\\item 0.815459128003567\n",
       "\\item 0.0327233979478478\n",
       "\\item 0.444219943601638\n",
       "\\item 0.72185307694599\n",
       "\\item 0.20764261810109\n",
       "\\item 0.956458160886541\n",
       "\\item 0.990272980183363\n",
       "\\item 0.931305774021894\n",
       "\\item 0.733320792205632\n",
       "\\item 0.01472601830028\n",
       "\\item 0.137483860366046\n",
       "\\item 0.865432109916583\n",
       "\\item 0.345038016792387\n",
       "\\item 0.370029691141099\n",
       "\\item 0.644154357491061\n",
       "\\item 0.470857294509187\n",
       "\\item 0.443980247480795\n",
       "\\item 0.791694548446685\n",
       "\\item 0.955204139230773\n",
       "\\item 0.307124234503135\n",
       "\\item 0.39743587677367\n",
       "\\item 0.7425893235486\n",
       "\\item 0.532996640540659\n",
       "\\item 0.573914961190894\n",
       "\\end{enumerate*}\n"
      ],
      "text/markdown": [
       "1. 0.701702297432348\n",
       "2. 0.235760569339618\n",
       "3. 0.244540673913434\n",
       "4. 0.185258069308475\n",
       "5. 0.448951446451247\n",
       "6. 0.438200046308339\n",
       "7. 0.385737081058323\n",
       "8. 0.470655486453325\n",
       "9. 0.994541278108954\n",
       "10. 0.967664802679792\n",
       "11. 0.803669533226639\n",
       "12. 0.518701021792367\n",
       "13. 0.455151323694736\n",
       "14. 0.694258254021406\n",
       "15. 0.810124157229438\n",
       "16. 0.48131868802011\n",
       "17. 0.815459128003567\n",
       "18. 0.0327233979478478\n",
       "19. 0.444219943601638\n",
       "20. 0.72185307694599\n",
       "21. 0.20764261810109\n",
       "22. 0.956458160886541\n",
       "23. 0.990272980183363\n",
       "24. 0.931305774021894\n",
       "25. 0.733320792205632\n",
       "26. 0.01472601830028\n",
       "27. 0.137483860366046\n",
       "28. 0.865432109916583\n",
       "29. 0.345038016792387\n",
       "30. 0.370029691141099\n",
       "31. 0.644154357491061\n",
       "32. 0.470857294509187\n",
       "33. 0.443980247480795\n",
       "34. 0.791694548446685\n",
       "35. 0.955204139230773\n",
       "36. 0.307124234503135\n",
       "37. 0.39743587677367\n",
       "38. 0.7425893235486\n",
       "39. 0.532996640540659\n",
       "40. 0.573914961190894\n",
       "\n",
       "\n"
      ],
      "text/plain": [
       " [1] 0.70170230 0.23576057 0.24454067 0.18525807 0.44895145 0.43820005\n",
       " [7] 0.38573708 0.47065549 0.99454128 0.96766480 0.80366953 0.51870102\n",
       "[13] 0.45515132 0.69425825 0.81012416 0.48131869 0.81545913 0.03272340\n",
       "[19] 0.44421994 0.72185308 0.20764262 0.95645816 0.99027298 0.93130577\n",
       "[25] 0.73332079 0.01472602 0.13748386 0.86543211 0.34503802 0.37002969\n",
       "[31] 0.64415436 0.47085729 0.44398025 0.79169455 0.95520414 0.30712423\n",
       "[37] 0.39743588 0.74258932 0.53299664 0.57391496"
      ]
     },
     "metadata": {},
     "output_type": "display_data"
    }
   ],
   "source": [
    "x <- runif(40)\n",
    "x"
   ]
  },
  {
   "cell_type": "code",
   "execution_count": 14,
   "id": "03d25792",
   "metadata": {
    "vscode": {
     "languageId": "r"
    }
   },
   "outputs": [
    {
     "data": {
      "text/html": [
       "0.556553798029199"
      ],
      "text/latex": [
       "0.556553798029199"
      ],
      "text/markdown": [
       "0.556553798029199"
      ],
      "text/plain": [
       "[1] 0.5565538"
      ]
     },
     "metadata": {},
     "output_type": "display_data"
    }
   ],
   "source": [
    "avg_x <- mean(x)\n",
    "avg_x"
   ]
  },
  {
   "cell_type": "code",
   "execution_count": null,
   "id": "29ae108e",
   "metadata": {
    "vscode": {
     "languageId": "r"
    }
   },
   "outputs": [
    {
     "data": {
      "image/png": "[encoded data removed]",
      "text/plain": [
       "plot without title"
      ]
     },
     "metadata": {
      "image/png": {
       "height": 420,
       "width": 420
      }
     },
     "output_type": "display_data"
    }
   ],
   "source": [
    "a <- 2\n",
    "b <- -3\n",
    "sig_sq <- 0.5\n",
    "y <- a + b * x + rnorm(40, sd = sqrt(sig_sq))\n",
    "plot(x, y)"
   ]
  },
  {
   "cell_type": "code",
   "execution_count": 18,
   "id": "0cbc444c",
   "metadata": {
    "vscode": {
     "languageId": "r"
    }
   },
   "outputs": [
    {
     "data": {
      "image/png": "[encoded data removed]",
      "text/plain": [
       "plot without title"
      ]
     },
     "metadata": {
      "image/png": {
       "height": 420,
       "width": 420
      }
     },
     "output_type": "display_data"
    }
   ],
   "source": [
    "plot(x, y)\n",
    "abline(a, b, col = \"purple\")"
   ]
  },
  {
   "cell_type": "code",
   "execution_count": 19,
   "id": "7f5066dd",
   "metadata": {
    "vscode": {
     "languageId": "r"
    }
   },
   "outputs": [
    {
     "name": "stderr",
     "output_type": "stream",
     "text": [
      "Installing package into 'C:/Users/qslia/AppData/Local/R/win-library/4.5'\n",
      "(as 'lib' is unspecified)\n",
      "\n"
     ]
    },
    {
     "name": "stdout",
     "output_type": "stream",
     "text": [
      "package 'gapminder' successfully unpacked and MD5 sums checked\n",
      "\n",
      "The downloaded binary packages are in\n",
      "\tC:\\Users\\qslia\\AppData\\Local\\Temp\\Rtmp8G3YRE\\downloaded_packages\n"
     ]
    }
   ],
   "source": [
    "install.packages(\"gapminder\")"
   ]
  },
  {
   "cell_type": "code",
   "execution_count": 20,
   "id": "fd3b05ba",
   "metadata": {
    "vscode": {
     "languageId": "r"
    }
   },
   "outputs": [],
   "source": [
    "library(gapminder)"
   ]
  },
  {
   "cell_type": "code",
   "execution_count": 21,
   "id": "5014a2a4",
   "metadata": {
    "vscode": {
     "languageId": "r"
    }
   },
   "outputs": [
    {
     "name": "stdout",
     "output_type": "stream",
     "text": [
      "tibble [1,704 × 6] (S3: tbl_df/tbl/data.frame)\n",
      " $ country  : Factor w/ 142 levels \"Afghanistan\",..: 1 1 1 1 1 1 1 1 1 1 ...\n",
      " $ continent: Factor w/ 5 levels \"Africa\",\"Americas\",..: 3 3 3 3 3 3 3 3 3 3 ...\n",
      " $ year     : int [1:1704] 1952 1957 1962 1967 1972 1977 1982 1987 1992 1997 ...\n",
      " $ lifeExp  : num [1:1704] 28.8 30.3 32 34 36.1 ...\n",
      " $ pop      : int [1:1704] 8425333 9240934 10267083 11537966 13079460 14880372 12881816 13867957 16317921 22227415 ...\n",
      " $ gdpPercap: num [1:1704] 779 821 853 836 740 ...\n"
     ]
    }
   ],
   "source": [
    "str(gapminder)"
   ]
  },
  {
   "cell_type": "code",
   "execution_count": 22,
   "id": "95c28ddd",
   "metadata": {
    "vscode": {
     "languageId": "r"
    }
   },
   "outputs": [
    {
     "name": "stderr",
     "output_type": "stream",
     "text": [
      "Installing package into 'C:/Users/qslia/AppData/Local/R/win-library/4.5'\n",
      "(as 'lib' is unspecified)\n",
      "\n"
     ]
    },
    {
     "name": "stdout",
     "output_type": "stream",
     "text": [
      "package 'tidyverse' successfully unpacked and MD5 sums checked\n",
      "\n",
      "The downloaded binary packages are in\n",
      "\tC:\\Users\\qslia\\AppData\\Local\\Temp\\Rtmp8G3YRE\\downloaded_packages\n"
     ]
    }
   ],
   "source": [
    "install.packages(\"tidyverse\")"
   ]
  },
  {
   "cell_type": "code",
   "execution_count": 23,
   "id": "f4929fbb",
   "metadata": {
    "vscode": {
     "languageId": "r"
    }
   },
   "outputs": [
    {
     "name": "stderr",
     "output_type": "stream",
     "text": [
      "── \u001b[1mAttaching core tidyverse packages\u001b[22m ──────────────────────── tidyverse 2.0.0 ──\n",
      "\u001b[32m✔\u001b[39m \u001b[34mdplyr    \u001b[39m 1.1.4     \u001b[32m✔\u001b[39m \u001b[34mreadr    \u001b[39m 2.1.5\n",
      "\u001b[32m✔\u001b[39m \u001b[34mforcats  \u001b[39m 1.0.0     \u001b[32m✔\u001b[39m \u001b[34mstringr  \u001b[39m 1.5.1\n",
      "\u001b[32m✔\u001b[39m \u001b[34mggplot2  \u001b[39m 3.5.2     \u001b[32m✔\u001b[39m \u001b[34mtibble   \u001b[39m 3.3.0\n",
      "\u001b[32m✔\u001b[39m \u001b[34mlubridate\u001b[39m 1.9.4     \u001b[32m✔\u001b[39m \u001b[34mtidyr    \u001b[39m 1.3.1\n",
      "\u001b[32m✔\u001b[39m \u001b[34mpurrr    \u001b[39m 1.1.0     \n",
      "── \u001b[1mConflicts\u001b[22m ────────────────────────────────────────── tidyverse_conflicts() ──\n",
      "\u001b[31m✖\u001b[39m \u001b[34mdplyr\u001b[39m::\u001b[32mfilter()\u001b[39m masks \u001b[34mstats\u001b[39m::filter()\n",
      "\u001b[31m✖\u001b[39m \u001b[34mdplyr\u001b[39m::\u001b[32mlag()\u001b[39m    masks \u001b[34mstats\u001b[39m::lag()\n",
      "\u001b[36mℹ\u001b[39m Use the conflicted package (\u001b[3m\u001b[34m<http://conflicted.r-lib.org/>\u001b[39m\u001b[23m) to force all conflicts to become errors\n"
     ]
    }
   ],
   "source": [
    "library(tidyverse)"
   ]
  },
  {
   "cell_type": "code",
   "execution_count": 24,
   "id": "131766a0",
   "metadata": {
    "vscode": {
     "languageId": "r"
    }
   },
   "outputs": [
    {
     "data": {
      "text/html": [
       "<style>\n",
       ".list-inline {list-style: none; margin:0; padding: 0}\n",
       ".list-inline>li {display: inline-block}\n",
       ".list-inline>li:not(:last-child)::after {content: \"\\00b7\"; padding: 0 .5ex}\n",
       "</style>\n",
       "<ol class=list-inline><li>'tbl_df'</li><li>'tbl'</li><li>'data.frame'</li></ol>\n"
      ],
      "text/latex": [
       "\\begin{enumerate*}\n",
       "\\item 'tbl\\_df'\n",
       "\\item 'tbl'\n",
       "\\item 'data.frame'\n",
       "\\end{enumerate*}\n"
      ],
      "text/markdown": [
       "1. 'tbl_df'\n",
       "2. 'tbl'\n",
       "3. 'data.frame'\n",
       "\n",
       "\n"
      ],
      "text/plain": [
       "[1] \"tbl_df\"     \"tbl\"        \"data.frame\""
      ]
     },
     "metadata": {},
     "output_type": "display_data"
    }
   ],
   "source": [
    "class(gapminder)"
   ]
  },
  {
   "cell_type": "code",
   "execution_count": 28,
   "id": "339ce008",
   "metadata": {
    "vscode": {
     "languageId": "r"
    }
   },
   "outputs": [
    {
     "data": {
      "text/html": [
       "<table class=\"dataframe\">\n",
       "<caption>A tibble: 6 × 6</caption>\n",
       "<thead>\n",
       "\t<tr><th scope=col>country</th><th scope=col>continent</th><th scope=col>year</th><th scope=col>lifeExp</th><th scope=col>pop</th><th scope=col>gdpPercap</th></tr>\n",
       "\t<tr><th scope=col>&lt;fct&gt;</th><th scope=col>&lt;fct&gt;</th><th scope=col>&lt;int&gt;</th><th scope=col>&lt;dbl&gt;</th><th scope=col>&lt;int&gt;</th><th scope=col>&lt;dbl&gt;</th></tr>\n",
       "</thead>\n",
       "<tbody>\n",
       "\t<tr><td>Afghanistan</td><td>Asia</td><td>1952</td><td>28.801</td><td> 8425333</td><td>779.4453</td></tr>\n",
       "\t<tr><td>Afghanistan</td><td>Asia</td><td>1957</td><td>30.332</td><td> 9240934</td><td>820.8530</td></tr>\n",
       "\t<tr><td>Afghanistan</td><td>Asia</td><td>1962</td><td>31.997</td><td>10267083</td><td>853.1007</td></tr>\n",
       "\t<tr><td>Afghanistan</td><td>Asia</td><td>1967</td><td>34.020</td><td>11537966</td><td>836.1971</td></tr>\n",
       "\t<tr><td>Afghanistan</td><td>Asia</td><td>1972</td><td>36.088</td><td>13079460</td><td>739.9811</td></tr>\n",
       "\t<tr><td>Afghanistan</td><td>Asia</td><td>1977</td><td>38.438</td><td>14880372</td><td>786.1134</td></tr>\n",
       "</tbody>\n",
       "</table>\n"
      ],
      "text/latex": [
       "A tibble: 6 × 6\n",
       "\\begin{tabular}{llllll}\n",
       " country & continent & year & lifeExp & pop & gdpPercap\\\\\n",
       " <fct> & <fct> & <int> & <dbl> & <int> & <dbl>\\\\\n",
       "\\hline\n",
       "\t Afghanistan & Asia & 1952 & 28.801 &  8425333 & 779.4453\\\\\n",
       "\t Afghanistan & Asia & 1957 & 30.332 &  9240934 & 820.8530\\\\\n",
       "\t Afghanistan & Asia & 1962 & 31.997 & 10267083 & 853.1007\\\\\n",
       "\t Afghanistan & Asia & 1967 & 34.020 & 11537966 & 836.1971\\\\\n",
       "\t Afghanistan & Asia & 1972 & 36.088 & 13079460 & 739.9811\\\\\n",
       "\t Afghanistan & Asia & 1977 & 38.438 & 14880372 & 786.1134\\\\\n",
       "\\end{tabular}\n"
      ],
      "text/markdown": [
       "\n",
       "A tibble: 6 × 6\n",
       "\n",
       "| country &lt;fct&gt; | continent &lt;fct&gt; | year &lt;int&gt; | lifeExp &lt;dbl&gt; | pop &lt;int&gt; | gdpPercap &lt;dbl&gt; |\n",
       "|---|---|---|---|---|---|\n",
       "| Afghanistan | Asia | 1952 | 28.801 |  8425333 | 779.4453 |\n",
       "| Afghanistan | Asia | 1957 | 30.332 |  9240934 | 820.8530 |\n",
       "| Afghanistan | Asia | 1962 | 31.997 | 10267083 | 853.1007 |\n",
       "| Afghanistan | Asia | 1967 | 34.020 | 11537966 | 836.1971 |\n",
       "| Afghanistan | Asia | 1972 | 36.088 | 13079460 | 739.9811 |\n",
       "| Afghanistan | Asia | 1977 | 38.438 | 14880372 | 786.1134 |\n",
       "\n"
      ],
      "text/plain": [
       "  country     continent year lifeExp pop      gdpPercap\n",
       "1 Afghanistan Asia      1952 28.801   8425333 779.4453 \n",
       "2 Afghanistan Asia      1957 30.332   9240934 820.8530 \n",
       "3 Afghanistan Asia      1962 31.997  10267083 853.1007 \n",
       "4 Afghanistan Asia      1967 34.020  11537966 836.1971 \n",
       "5 Afghanistan Asia      1972 36.088  13079460 739.9811 \n",
       "6 Afghanistan Asia      1977 38.438  14880372 786.1134 "
      ]
     },
     "metadata": {},
     "output_type": "display_data"
    }
   ],
   "source": [
    "head(gapminder)"
   ]
  },
  {
   "cell_type": "code",
   "execution_count": 29,
   "id": "18cb71d3",
   "metadata": {
    "vscode": {
     "languageId": "r"
    }
   },
   "outputs": [
    {
     "data": {
      "text/html": [
       "<table class=\"dataframe\">\n",
       "<caption>A tibble: 6 × 6</caption>\n",
       "<thead>\n",
       "\t<tr><th scope=col>country</th><th scope=col>continent</th><th scope=col>year</th><th scope=col>lifeExp</th><th scope=col>pop</th><th scope=col>gdpPercap</th></tr>\n",
       "\t<tr><th scope=col>&lt;fct&gt;</th><th scope=col>&lt;fct&gt;</th><th scope=col>&lt;int&gt;</th><th scope=col>&lt;dbl&gt;</th><th scope=col>&lt;int&gt;</th><th scope=col>&lt;dbl&gt;</th></tr>\n",
       "</thead>\n",
       "<tbody>\n",
       "\t<tr><td>Zimbabwe</td><td>Africa</td><td>1982</td><td>60.363</td><td> 7636524</td><td>788.8550</td></tr>\n",
       "\t<tr><td>Zimbabwe</td><td>Africa</td><td>1987</td><td>62.351</td><td> 9216418</td><td>706.1573</td></tr>\n",
       "\t<tr><td>Zimbabwe</td><td>Africa</td><td>1992</td><td>60.377</td><td>10704340</td><td>693.4208</td></tr>\n",
       "\t<tr><td>Zimbabwe</td><td>Africa</td><td>1997</td><td>46.809</td><td>11404948</td><td>792.4500</td></tr>\n",
       "\t<tr><td>Zimbabwe</td><td>Africa</td><td>2002</td><td>39.989</td><td>11926563</td><td>672.0386</td></tr>\n",
       "\t<tr><td>Zimbabwe</td><td>Africa</td><td>2007</td><td>43.487</td><td>12311143</td><td>469.7093</td></tr>\n",
       "</tbody>\n",
       "</table>\n"
      ],
      "text/latex": [
       "A tibble: 6 × 6\n",
       "\\begin{tabular}{llllll}\n",
       " country & continent & year & lifeExp & pop & gdpPercap\\\\\n",
       " <fct> & <fct> & <int> & <dbl> & <int> & <dbl>\\\\\n",
       "\\hline\n",
       "\t Zimbabwe & Africa & 1982 & 60.363 &  7636524 & 788.8550\\\\\n",
       "\t Zimbabwe & Africa & 1987 & 62.351 &  9216418 & 706.1573\\\\\n",
       "\t Zimbabwe & Africa & 1992 & 60.377 & 10704340 & 693.4208\\\\\n",
       "\t Zimbabwe & Africa & 1997 & 46.809 & 11404948 & 792.4500\\\\\n",
       "\t Zimbabwe & Africa & 2002 & 39.989 & 11926563 & 672.0386\\\\\n",
       "\t Zimbabwe & Africa & 2007 & 43.487 & 12311143 & 469.7093\\\\\n",
       "\\end{tabular}\n"
      ],
      "text/markdown": [
       "\n",
       "A tibble: 6 × 6\n",
       "\n",
       "| country &lt;fct&gt; | continent &lt;fct&gt; | year &lt;int&gt; | lifeExp &lt;dbl&gt; | pop &lt;int&gt; | gdpPercap &lt;dbl&gt; |\n",
       "|---|---|---|---|---|---|\n",
       "| Zimbabwe | Africa | 1982 | 60.363 |  7636524 | 788.8550 |\n",
       "| Zimbabwe | Africa | 1987 | 62.351 |  9216418 | 706.1573 |\n",
       "| Zimbabwe | Africa | 1992 | 60.377 | 10704340 | 693.4208 |\n",
       "| Zimbabwe | Africa | 1997 | 46.809 | 11404948 | 792.4500 |\n",
       "| Zimbabwe | Africa | 2002 | 39.989 | 11926563 | 672.0386 |\n",
       "| Zimbabwe | Africa | 2007 | 43.487 | 12311143 | 469.7093 |\n",
       "\n"
      ],
      "text/plain": [
       "  country  continent year lifeExp pop      gdpPercap\n",
       "1 Zimbabwe Africa    1982 60.363   7636524 788.8550 \n",
       "2 Zimbabwe Africa    1987 62.351   9216418 706.1573 \n",
       "3 Zimbabwe Africa    1992 60.377  10704340 693.4208 \n",
       "4 Zimbabwe Africa    1997 46.809  11404948 792.4500 \n",
       "5 Zimbabwe Africa    2002 39.989  11926563 672.0386 \n",
       "6 Zimbabwe Africa    2007 43.487  12311143 469.7093 "
      ]
     },
     "metadata": {},
     "output_type": "display_data"
    }
   ],
   "source": [
    "tail(gapminder)"
   ]
  },
  {
   "cell_type": "code",
   "execution_count": 30,
   "id": "301c26e1",
   "metadata": {
    "vscode": {
     "languageId": "r"
    }
   },
   "outputs": [
    {
     "data": {
      "text/html": [
       "<style>\n",
       ".list-inline {list-style: none; margin:0; padding: 0}\n",
       ".list-inline>li {display: inline-block}\n",
       ".list-inline>li:not(:last-child)::after {content: \"\\00b7\"; padding: 0 .5ex}\n",
       "</style>\n",
       "<ol class=list-inline><li>1704</li><li>6</li></ol>\n"
      ],
      "text/latex": [
       "\\begin{enumerate*}\n",
       "\\item 1704\n",
       "\\item 6\n",
       "\\end{enumerate*}\n"
      ],
      "text/markdown": [
       "1. 1704\n",
       "2. 6\n",
       "\n",
       "\n"
      ],
      "text/plain": [
       "[1] 1704    6"
      ]
     },
     "metadata": {},
     "output_type": "display_data"
    }
   ],
   "source": [
    "dim(gapminder)"
   ]
  },
  {
   "cell_type": "code",
   "execution_count": 31,
   "id": "2a850622",
   "metadata": {
    "vscode": {
     "languageId": "r"
    }
   },
   "outputs": [
    {
     "data": {
      "text/html": [
       "1704"
      ],
      "text/latex": [
       "1704"
      ],
      "text/markdown": [
       "1704"
      ],
      "text/plain": [
       "[1] 1704"
      ]
     },
     "metadata": {},
     "output_type": "display_data"
    }
   ],
   "source": [
    "nrow(gapminder)"
   ]
  },
  {
   "cell_type": "code",
   "execution_count": 32,
   "id": "3d841dba",
   "metadata": {
    "vscode": {
     "languageId": "r"
    }
   },
   "outputs": [
    {
     "data": {
      "text/html": [
       "6"
      ],
      "text/latex": [
       "6"
      ],
      "text/markdown": [
       "6"
      ],
      "text/plain": [
       "[1] 6"
      ]
     },
     "metadata": {},
     "output_type": "display_data"
    }
   ],
   "source": [
    "ncol(gapminder)"
   ]
  },
  {
   "cell_type": "code",
   "execution_count": 34,
   "id": "9e8c34a9",
   "metadata": {
    "vscode": {
     "languageId": "r"
    }
   },
   "outputs": [
    {
     "data": {
      "text/html": [
       "6"
      ],
      "text/latex": [
       "6"
      ],
      "text/markdown": [
       "6"
      ],
      "text/plain": [
       "[1] 6"
      ]
     },
     "metadata": {},
     "output_type": "display_data"
    }
   ],
   "source": [
    "length(gapminder) # Note: For data frames, length() gives number of columns"
   ]
  },
  {
   "cell_type": "code",
   "execution_count": 36,
   "id": "3f20f8fc",
   "metadata": {
    "vscode": {
     "languageId": "r"
    }
   },
   "outputs": [
    {
     "name": "stdout",
     "output_type": "stream",
     "text": [
      "tibble [1,704 × 6] (S3: tbl_df/tbl/data.frame)\n",
      " $ country  : Factor w/ 142 levels \"Afghanistan\",..: 1 1 1 1 1 1 1 1 1 1 ...\n",
      " $ continent: Factor w/ 5 levels \"Africa\",\"Americas\",..: 3 3 3 3 3 3 3 3 3 3 ...\n",
      " $ year     : int [1:1704] 1952 1957 1962 1967 1972 1977 1982 1987 1992 1997 ...\n",
      " $ lifeExp  : num [1:1704] 28.8 30.3 32 34 36.1 ...\n",
      " $ pop      : int [1:1704] 8425333 9240934 10267083 11537966 13079460 14880372 12881816 13867957 16317921 22227415 ...\n",
      " $ gdpPercap: num [1:1704] 779 821 853 836 740 ...\n"
     ]
    }
   ],
   "source": [
    "str(gapminder) # str() - Structure (includes dimensions)"
   ]
  },
  {
   "cell_type": "code",
   "execution_count": 38,
   "id": "d0b98f87",
   "metadata": {
    "vscode": {
     "languageId": "r"
    }
   },
   "outputs": [
    {
     "data": {
      "text/html": [
       "'data.frame'"
      ],
      "text/latex": [
       "'data.frame'"
      ],
      "text/markdown": [
       "'data.frame'"
      ],
      "text/plain": [
       "[1] \"data.frame\""
      ]
     },
     "metadata": {},
     "output_type": "display_data"
    }
   ],
   "source": [
    "class(iris)"
   ]
  },
  {
   "cell_type": "code",
   "execution_count": 39,
   "id": "6310332f",
   "metadata": {
    "vscode": {
     "languageId": "r"
    }
   },
   "outputs": [
    {
     "name": "stdout",
     "output_type": "stream",
     "text": [
      "'data.frame':\t150 obs. of  5 variables:\n",
      " $ Sepal.Length: num  5.1 4.9 4.7 4.6 5 5.4 4.6 5 4.4 4.9 ...\n",
      " $ Sepal.Width : num  3.5 3 3.2 3.1 3.6 3.9 3.4 3.4 2.9 3.1 ...\n",
      " $ Petal.Length: num  1.4 1.4 1.3 1.5 1.4 1.7 1.4 1.5 1.4 1.5 ...\n",
      " $ Petal.Width : num  0.2 0.2 0.2 0.2 0.2 0.4 0.3 0.2 0.2 0.1 ...\n",
      " $ Species     : Factor w/ 3 levels \"setosa\",\"versicolor\",..: 1 1 1 1 1 1 1 1 1 1 ...\n"
     ]
    }
   ],
   "source": [
    "str(iris)"
   ]
  },
  {
   "cell_type": "code",
   "execution_count": 41,
   "id": "6907e5a6",
   "metadata": {
    "vscode": {
     "languageId": "r"
    }
   },
   "outputs": [
    {
     "data": {
      "text/html": [
       "'list'"
      ],
      "text/latex": [
       "'list'"
      ],
      "text/markdown": [
       "'list'"
      ],
      "text/plain": [
       "[1] \"list\""
      ]
     },
     "metadata": {},
     "output_type": "display_data"
    }
   ],
   "source": [
    "typeof(iris) # typeof() - Storage type\n",
    "# (data frames are internally lists)"
   ]
  },
  {
   "cell_type": "code",
   "execution_count": 42,
   "id": "d4ccac28",
   "metadata": {
    "vscode": {
     "languageId": "r"
    }
   },
   "outputs": [
    {
     "data": {
      "text/html": [
       "'numeric'"
      ],
      "text/latex": [
       "'numeric'"
      ],
      "text/markdown": [
       "'numeric'"
      ],
      "text/plain": [
       "[1] \"numeric\""
      ]
     },
     "metadata": {},
     "output_type": "display_data"
    }
   ],
   "source": [
    "class(iris$Sepal.Length)"
   ]
  },
  {
   "cell_type": "code",
   "execution_count": 44,
   "id": "85a9f1bf",
   "metadata": {
    "vscode": {
     "languageId": "r"
    }
   },
   "outputs": [
    {
     "data": {
      "text/html": [
       "'factor'"
      ],
      "text/latex": [
       "'factor'"
      ],
      "text/markdown": [
       "'factor'"
      ],
      "text/plain": [
       "[1] \"factor\""
      ]
     },
     "metadata": {},
     "output_type": "display_data"
    }
   ],
   "source": [
    "class(iris$Species)"
   ]
  },
  {
   "cell_type": "code",
   "execution_count": 45,
   "id": "7aa58674",
   "metadata": {
    "vscode": {
     "languageId": "r"
    }
   },
   "outputs": [
    {
     "data": {
      "text/html": [
       "'numeric'"
      ],
      "text/latex": [
       "'numeric'"
      ],
      "text/markdown": [
       "'numeric'"
      ],
      "text/plain": [
       "[1] \"numeric\""
      ]
     },
     "metadata": {},
     "output_type": "display_data"
    }
   ],
   "source": [
    "class(iris$Petal.Length)"
   ]
  },
  {
   "cell_type": "code",
   "execution_count": 47,
   "id": "f91756b7",
   "metadata": {
    "vscode": {
     "languageId": "r"
    }
   },
   "outputs": [
    {
     "data": {
      "text/html": [
       "<style>\n",
       ".list-inline {list-style: none; margin:0; padding: 0}\n",
       ".list-inline>li {display: inline-block}\n",
       ".list-inline>li:not(:last-child)::after {content: \"\\00b7\"; padding: 0 .5ex}\n",
       "</style>\n",
       "<ol class=list-inline><li>'tbl_df'</li><li>'tbl'</li><li>'data.frame'</li></ol>\n"
      ],
      "text/latex": [
       "\\begin{enumerate*}\n",
       "\\item 'tbl\\_df'\n",
       "\\item 'tbl'\n",
       "\\item 'data.frame'\n",
       "\\end{enumerate*}\n"
      ],
      "text/markdown": [
       "1. 'tbl_df'\n",
       "2. 'tbl'\n",
       "3. 'data.frame'\n",
       "\n",
       "\n"
      ],
      "text/plain": [
       "[1] \"tbl_df\"     \"tbl\"        \"data.frame\""
      ]
     },
     "metadata": {},
     "output_type": "display_data"
    },
    {
     "name": "stdout",
     "output_type": "stream",
     "text": [
      "tibble [150 × 5] (S3: tbl_df/tbl/data.frame)\n",
      " $ Sepal.Length: num [1:150] 5.1 4.9 4.7 4.6 5 5.4 4.6 5 4.4 4.9 ...\n",
      " $ Sepal.Width : num [1:150] 3.5 3 3.2 3.1 3.6 3.9 3.4 3.4 2.9 3.1 ...\n",
      " $ Petal.Length: num [1:150] 1.4 1.4 1.3 1.5 1.4 1.7 1.4 1.5 1.4 1.5 ...\n",
      " $ Petal.Width : num [1:150] 0.2 0.2 0.2 0.2 0.2 0.4 0.3 0.2 0.2 0.1 ...\n",
      " $ Species     : Factor w/ 3 levels \"setosa\",\"versicolor\",..: 1 1 1 1 1 1 1 1 1 1 ...\n"
     ]
    },
    {
     "data": {
      "text/html": [
       "'list'"
      ],
      "text/latex": [
       "'list'"
      ],
      "text/markdown": [
       "'list'"
      ],
      "text/plain": [
       "[1] \"list\""
      ]
     },
     "metadata": {},
     "output_type": "display_data"
    },
    {
     "data": {
      "text/html": [
       "'numeric'"
      ],
      "text/latex": [
       "'numeric'"
      ],
      "text/markdown": [
       "'numeric'"
      ],
      "text/plain": [
       "[1] \"numeric\""
      ]
     },
     "metadata": {},
     "output_type": "display_data"
    },
    {
     "data": {
      "text/html": [
       "'factor'"
      ],
      "text/latex": [
       "'factor'"
      ],
      "text/markdown": [
       "'factor'"
      ],
      "text/plain": [
       "[1] \"factor\""
      ]
     },
     "metadata": {},
     "output_type": "display_data"
    },
    {
     "data": {
      "text/html": [
       "'numeric'"
      ],
      "text/latex": [
       "'numeric'"
      ],
      "text/markdown": [
       "'numeric'"
      ],
      "text/plain": [
       "[1] \"numeric\""
      ]
     },
     "metadata": {},
     "output_type": "display_data"
    }
   ],
   "source": [
    "iris_tibble <- as_tibble(iris)\n",
    "class(iris_tibble)\n",
    "str(iris_tibble)\n",
    "typeof(iris_tibble)\n",
    "class(iris_tibble$Sepal.Length)\n",
    "class(iris_tibble$Species)\n",
    "class(iris_tibble$Petal.Length)"
   ]
  },
  {
   "cell_type": "code",
   "execution_count": 50,
   "id": "902a98a9",
   "metadata": {
    "vscode": {
     "languageId": "r"
    }
   },
   "outputs": [
    {
     "data": {
      "text/html": [
       "<style>\n",
       ".list-inline {list-style: none; margin:0; padding: 0}\n",
       ".list-inline>li {display: inline-block}\n",
       ".list-inline>li:not(:last-child)::after {content: \"\\00b7\"; padding: 0 .5ex}\n",
       "</style>\n",
       "<ol class=list-inline><li>'Sepal.Length'</li><li>'Sepal.Width'</li><li>'Petal.Length'</li><li>'Petal.Width'</li><li>'Species'</li></ol>\n"
      ],
      "text/latex": [
       "\\begin{enumerate*}\n",
       "\\item 'Sepal.Length'\n",
       "\\item 'Sepal.Width'\n",
       "\\item 'Petal.Length'\n",
       "\\item 'Petal.Width'\n",
       "\\item 'Species'\n",
       "\\end{enumerate*}\n"
      ],
      "text/markdown": [
       "1. 'Sepal.Length'\n",
       "2. 'Sepal.Width'\n",
       "3. 'Petal.Length'\n",
       "4. 'Petal.Width'\n",
       "5. 'Species'\n",
       "\n",
       "\n"
      ],
      "text/plain": [
       "[1] \"Sepal.Length\" \"Sepal.Width\"  \"Petal.Length\" \"Petal.Width\"  \"Species\"     "
      ]
     },
     "metadata": {},
     "output_type": "display_data"
    },
    {
     "data": {
      "text/html": [
       "<style>\n",
       ".list-inline {list-style: none; margin:0; padding: 0}\n",
       ".list-inline>li {display: inline-block}\n",
       ".list-inline>li:not(:last-child)::after {content: \"\\00b7\"; padding: 0 .5ex}\n",
       "</style>\n",
       "<ol class=list-inline><li>'Sepal.Length'</li><li>'Sepal.Width'</li><li>'Petal.Length'</li><li>'Petal.Width'</li><li>'Species'</li></ol>\n"
      ],
      "text/latex": [
       "\\begin{enumerate*}\n",
       "\\item 'Sepal.Length'\n",
       "\\item 'Sepal.Width'\n",
       "\\item 'Petal.Length'\n",
       "\\item 'Petal.Width'\n",
       "\\item 'Species'\n",
       "\\end{enumerate*}\n"
      ],
      "text/markdown": [
       "1. 'Sepal.Length'\n",
       "2. 'Sepal.Width'\n",
       "3. 'Petal.Length'\n",
       "4. 'Petal.Width'\n",
       "5. 'Species'\n",
       "\n",
       "\n"
      ],
      "text/plain": [
       "[1] \"Sepal.Length\" \"Sepal.Width\"  \"Petal.Length\" \"Petal.Width\"  \"Species\"     "
      ]
     },
     "metadata": {},
     "output_type": "display_data"
    },
    {
     "data": {
      "text/html": [
       "<style>\n",
       ".list-inline {list-style: none; margin:0; padding: 0}\n",
       ".list-inline>li {display: inline-block}\n",
       ".list-inline>li:not(:last-child)::after {content: \"\\00b7\"; padding: 0 .5ex}\n",
       "</style>\n",
       "<ol class=list-inline><li>150</li><li>5</li></ol>\n"
      ],
      "text/latex": [
       "\\begin{enumerate*}\n",
       "\\item 150\n",
       "\\item 5\n",
       "\\end{enumerate*}\n"
      ],
      "text/markdown": [
       "1. 150\n",
       "2. 5\n",
       "\n",
       "\n"
      ],
      "text/plain": [
       "[1] 150   5"
      ]
     },
     "metadata": {},
     "output_type": "display_data"
    },
    {
     "data": {
      "text/html": [
       "<style>\n",
       ".list-inline {list-style: none; margin:0; padding: 0}\n",
       ".list-inline>li {display: inline-block}\n",
       ".list-inline>li:not(:last-child)::after {content: \"\\00b7\"; padding: 0 .5ex}\n",
       "</style>\n",
       "<ol class=list-inline><li>150</li><li>5</li></ol>\n"
      ],
      "text/latex": [
       "\\begin{enumerate*}\n",
       "\\item 150\n",
       "\\item 5\n",
       "\\end{enumerate*}\n"
      ],
      "text/markdown": [
       "1. 150\n",
       "2. 5\n",
       "\n",
       "\n"
      ],
      "text/plain": [
       "[1] 150   5"
      ]
     },
     "metadata": {},
     "output_type": "display_data"
    },
    {
     "data": {
      "text/html": [
       "150"
      ],
      "text/latex": [
       "150"
      ],
      "text/markdown": [
       "150"
      ],
      "text/plain": [
       "[1] 150"
      ]
     },
     "metadata": {},
     "output_type": "display_data"
    },
    {
     "data": {
      "text/html": [
       "150"
      ],
      "text/latex": [
       "150"
      ],
      "text/markdown": [
       "150"
      ],
      "text/plain": [
       "[1] 150"
      ]
     },
     "metadata": {},
     "output_type": "display_data"
    },
    {
     "data": {
      "text/html": [
       "5"
      ],
      "text/latex": [
       "5"
      ],
      "text/markdown": [
       "5"
      ],
      "text/plain": [
       "[1] 5"
      ]
     },
     "metadata": {},
     "output_type": "display_data"
    },
    {
     "data": {
      "text/html": [
       "5"
      ],
      "text/latex": [
       "5"
      ],
      "text/markdown": [
       "5"
      ],
      "text/plain": [
       "[1] 5"
      ]
     },
     "metadata": {},
     "output_type": "display_data"
    }
   ],
   "source": [
    "names(iris_tibble)\n",
    "names(iris)\n",
    "dim(iris)\n",
    "dim(iris_tibble)\n",
    "nrow(iris)\n",
    "nrow(iris_tibble)\n",
    "ncol(iris)\n",
    "ncol(iris_tibble)\n"
   ]
  },
  {
   "cell_type": "code",
   "execution_count": 51,
   "id": "b2c7ba19",
   "metadata": {
    "vscode": {
     "languageId": "r"
    }
   },
   "outputs": [
    {
     "data": {
      "text/html": [
       "<style>\n",
       ".list-inline {list-style: none; margin:0; padding: 0}\n",
       ".list-inline>li {display: inline-block}\n",
       ".list-inline>li:not(:last-child)::after {content: \"\\00b7\"; padding: 0 .5ex}\n",
       "</style>\n",
       "<ol class=list-inline><li>'country'</li><li>'continent'</li><li>'year'</li><li>'lifeExp'</li><li>'pop'</li><li>'gdpPercap'</li></ol>\n"
      ],
      "text/latex": [
       "\\begin{enumerate*}\n",
       "\\item 'country'\n",
       "\\item 'continent'\n",
       "\\item 'year'\n",
       "\\item 'lifeExp'\n",
       "\\item 'pop'\n",
       "\\item 'gdpPercap'\n",
       "\\end{enumerate*}\n"
      ],
      "text/markdown": [
       "1. 'country'\n",
       "2. 'continent'\n",
       "3. 'year'\n",
       "4. 'lifeExp'\n",
       "5. 'pop'\n",
       "6. 'gdpPercap'\n",
       "\n",
       "\n"
      ],
      "text/plain": [
       "[1] \"country\"   \"continent\" \"year\"      \"lifeExp\"   \"pop\"       \"gdpPercap\""
      ]
     },
     "metadata": {},
     "output_type": "display_data"
    }
   ],
   "source": [
    "names(gapminder)"
   ]
  },
  {
   "cell_type": "code",
   "execution_count": 52,
   "id": "d94f7920",
   "metadata": {
    "vscode": {
     "languageId": "r"
    }
   },
   "outputs": [
    {
     "data": {
      "text/html": [
       "6"
      ],
      "text/latex": [
       "6"
      ],
      "text/markdown": [
       "6"
      ],
      "text/plain": [
       "[1] 6"
      ]
     },
     "metadata": {},
     "output_type": "display_data"
    }
   ],
   "source": [
    "ncol(gapminder)"
   ]
  },
  {
   "cell_type": "code",
   "execution_count": 53,
   "id": "4e9af6f3",
   "metadata": {
    "vscode": {
     "languageId": "r"
    }
   },
   "outputs": [
    {
     "data": {
      "text/html": [
       "6"
      ],
      "text/latex": [
       "6"
      ],
      "text/markdown": [
       "6"
      ],
      "text/plain": [
       "[1] 6"
      ]
     },
     "metadata": {},
     "output_type": "display_data"
    }
   ],
   "source": [
    "length(gapminder)"
   ]
  },
  {
   "cell_type": "code",
   "execution_count": 54,
   "id": "3660592c",
   "metadata": {
    "vscode": {
     "languageId": "r"
    }
   },
   "outputs": [
    {
     "data": {
      "text/html": [
       "<style>\n",
       ".list-inline {list-style: none; margin:0; padding: 0}\n",
       ".list-inline>li {display: inline-block}\n",
       ".list-inline>li:not(:last-child)::after {content: \"\\00b7\"; padding: 0 .5ex}\n",
       "</style>\n",
       "<ol class=list-inline><li>1704</li><li>6</li></ol>\n"
      ],
      "text/latex": [
       "\\begin{enumerate*}\n",
       "\\item 1704\n",
       "\\item 6\n",
       "\\end{enumerate*}\n"
      ],
      "text/markdown": [
       "1. 1704\n",
       "2. 6\n",
       "\n",
       "\n"
      ],
      "text/plain": [
       "[1] 1704    6"
      ]
     },
     "metadata": {},
     "output_type": "display_data"
    }
   ],
   "source": [
    "dim(gapminder)"
   ]
  },
  {
   "cell_type": "code",
   "execution_count": 55,
   "id": "2fa8e847",
   "metadata": {
    "vscode": {
     "languageId": "r"
    }
   },
   "outputs": [
    {
     "data": {
      "text/html": [
       "1704"
      ],
      "text/latex": [
       "1704"
      ],
      "text/markdown": [
       "1704"
      ],
      "text/plain": [
       "[1] 1704"
      ]
     },
     "metadata": {},
     "output_type": "display_data"
    }
   ],
   "source": [
    "nrow(gapminder)"
   ]
  },
  {
   "cell_type": "code",
   "execution_count": 56,
   "id": "2efb661b",
   "metadata": {
    "vscode": {
     "languageId": "r"
    }
   },
   "outputs": [
    {
     "data": {
      "text/plain": [
       "        country        continent        year         lifeExp     \n",
       " Afghanistan:  12   Africa  :624   Min.   :1952   Min.   :23.60  \n",
       " Albania    :  12   Americas:300   1st Qu.:1966   1st Qu.:48.20  \n",
       " Algeria    :  12   Asia    :396   Median :1980   Median :60.71  \n",
       " Angola     :  12   Europe  :360   Mean   :1980   Mean   :59.47  \n",
       " Argentina  :  12   Oceania : 24   3rd Qu.:1993   3rd Qu.:70.85  \n",
       " Australia  :  12                  Max.   :2007   Max.   :82.60  \n",
       " (Other)    :1632                                                \n",
       "      pop              gdpPercap       \n",
       " Min.   :6.001e+04   Min.   :   241.2  \n",
       " 1st Qu.:2.794e+06   1st Qu.:  1202.1  \n",
       " Median :7.024e+06   Median :  3531.8  \n",
       " Mean   :2.960e+07   Mean   :  7215.3  \n",
       " 3rd Qu.:1.959e+07   3rd Qu.:  9325.5  \n",
       " Max.   :1.319e+09   Max.   :113523.1  \n",
       "                                       "
      ]
     },
     "metadata": {},
     "output_type": "display_data"
    }
   ],
   "source": [
    "summary(gapminder)"
   ]
  },
  {
   "cell_type": "code",
   "execution_count": 57,
   "id": "0055c5b6",
   "metadata": {
    "vscode": {
     "languageId": "r"
    }
   },
   "outputs": [
    {
     "data": {
      "text/plain": [
       "  Sepal.Length    Sepal.Width     Petal.Length    Petal.Width   \n",
       " Min.   :4.300   Min.   :2.000   Min.   :1.000   Min.   :0.100  \n",
       " 1st Qu.:5.100   1st Qu.:2.800   1st Qu.:1.600   1st Qu.:0.300  \n",
       " Median :5.800   Median :3.000   Median :4.350   Median :1.300  \n",
       " Mean   :5.843   Mean   :3.057   Mean   :3.758   Mean   :1.199  \n",
       " 3rd Qu.:6.400   3rd Qu.:3.300   3rd Qu.:5.100   3rd Qu.:1.800  \n",
       " Max.   :7.900   Max.   :4.400   Max.   :6.900   Max.   :2.500  \n",
       "       Species  \n",
       " setosa    :50  \n",
       " versicolor:50  \n",
       " virginica :50  \n",
       "                \n",
       "                \n",
       "                "
      ]
     },
     "metadata": {},
     "output_type": "display_data"
    }
   ],
   "source": [
    "summary(iris_tibble)"
   ]
  },
  {
   "cell_type": "code",
   "execution_count": 58,
   "id": "e3190d39",
   "metadata": {
    "vscode": {
     "languageId": "r"
    }
   },
   "outputs": [
    {
     "data": {
      "text/plain": [
       "  Sepal.Length    Sepal.Width     Petal.Length    Petal.Width   \n",
       " Min.   :4.300   Min.   :2.000   Min.   :1.000   Min.   :0.100  \n",
       " 1st Qu.:5.100   1st Qu.:2.800   1st Qu.:1.600   1st Qu.:0.300  \n",
       " Median :5.800   Median :3.000   Median :4.350   Median :1.300  \n",
       " Mean   :5.843   Mean   :3.057   Mean   :3.758   Mean   :1.199  \n",
       " 3rd Qu.:6.400   3rd Qu.:3.300   3rd Qu.:5.100   3rd Qu.:1.800  \n",
       " Max.   :7.900   Max.   :4.400   Max.   :6.900   Max.   :2.500  \n",
       "       Species  \n",
       " setosa    :50  \n",
       " versicolor:50  \n",
       " virginica :50  \n",
       "                \n",
       "                \n",
       "                "
      ]
     },
     "metadata": {},
     "output_type": "display_data"
    }
   ],
   "source": [
    "summary(iris)"
   ]
  },
  {
   "cell_type": "code",
   "execution_count": 59,
   "id": "4855c26d",
   "metadata": {
    "vscode": {
     "languageId": "r"
    }
   },
   "outputs": [
    {
     "data": {
      "image/png": "[encoded data removed]",
      "text/plain": [
       "plot without title"
      ]
     },
     "metadata": {
      "image/png": {
       "height": 420,
       "width": 420
      }
     },
     "output_type": "display_data"
    }
   ],
   "source": [
    "plot(Sepal.Length ~ Sepal.Width, data = iris_tibble)"
   ]
  },
  {
   "cell_type": "code",
   "execution_count": 63,
   "id": "0324484e",
   "metadata": {
    "vscode": {
     "languageId": "r"
    }
   },
   "outputs": [
    {
     "data": {
      "image/png": "[encoded data removed]",
      "text/plain": [
       "plot without title"
      ]
     },
     "metadata": {
      "image/png": {
       "height": 420,
       "width": 420
      }
     },
     "output_type": "display_data"
    }
   ],
   "source": [
    "plot(Sepal.Length ~ log(Sepal.Width), data = iris_tibble)"
   ]
  },
  {
   "cell_type": "code",
   "execution_count": 60,
   "id": "3e081857",
   "metadata": {
    "vscode": {
     "languageId": "r"
    }
   },
   "outputs": [
    {
     "data": {
      "image/png": "[encoded data removed]",
      "text/plain": [
       "plot without title"
      ]
     },
     "metadata": {
      "image/png": {
       "height": 420,
       "width": 420
      }
     },
     "output_type": "display_data"
    }
   ],
   "source": [
    "plot(lifeExp ~ year, gapminder)"
   ]
  },
  {
   "cell_type": "code",
   "execution_count": 64,
   "id": "b64bb9b2",
   "metadata": {
    "vscode": {
     "languageId": "r"
    }
   },
   "outputs": [
    {
     "data": {
      "image/png": "[encoded data removed]",
      "text/plain": [
       "plot without title"
      ]
     },
     "metadata": {
      "image/png": {
       "height": 420,
       "width": 420
      }
     },
     "output_type": "display_data"
    }
   ],
   "source": [
    "plot(log(lifeExp) ~ year, gapminder)"
   ]
  },
  {
   "cell_type": "code",
   "execution_count": 65,
   "id": "b5cd1a83",
   "metadata": {
    "vscode": {
     "languageId": "r"
    }
   },
   "outputs": [
    {
     "data": {
      "text/html": [
       "<style>\n",
       ".list-inline {list-style: none; margin:0; padding: 0}\n",
       ".list-inline>li {display: inline-block}\n",
       ".list-inline>li:not(:last-child)::after {content: \"\\00b7\"; padding: 0 .5ex}\n",
       "</style>\n",
       "<ol class=list-inline><li>'country'</li><li>'continent'</li><li>'year'</li><li>'lifeExp'</li><li>'pop'</li><li>'gdpPercap'</li></ol>\n"
      ],
      "text/latex": [
       "\\begin{enumerate*}\n",
       "\\item 'country'\n",
       "\\item 'continent'\n",
       "\\item 'year'\n",
       "\\item 'lifeExp'\n",
       "\\item 'pop'\n",
       "\\item 'gdpPercap'\n",
       "\\end{enumerate*}\n"
      ],
      "text/markdown": [
       "1. 'country'\n",
       "2. 'continent'\n",
       "3. 'year'\n",
       "4. 'lifeExp'\n",
       "5. 'pop'\n",
       "6. 'gdpPercap'\n",
       "\n",
       "\n"
      ],
      "text/plain": [
       "[1] \"country\"   \"continent\" \"year\"      \"lifeExp\"   \"pop\"       \"gdpPercap\""
      ]
     },
     "metadata": {},
     "output_type": "display_data"
    }
   ],
   "source": [
    "names(gapminder)"
   ]
  },
  {
   "cell_type": "code",
   "execution_count": 68,
   "id": "ce4492a9",
   "metadata": {
    "vscode": {
     "languageId": "r"
    }
   },
   "outputs": [
    {
     "data": {
      "image/png": "[encoded data removed]",
      "text/plain": [
       "plot without title"
      ]
     },
     "metadata": {
      "image/png": {
       "height": 420,
       "width": 420
      }
     },
     "output_type": "display_data"
    }
   ],
   "source": [
    "plot(lifeExp ~ country, gapminder)"
   ]
  },
  {
   "cell_type": "code",
   "execution_count": 69,
   "id": "5a07c05e",
   "metadata": {
    "vscode": {
     "languageId": "r"
    }
   },
   "outputs": [
    {
     "data": {
      "image/png": "[encoded data removed]",
      "text/plain": [
       "plot without title"
      ]
     },
     "metadata": {
      "image/png": {
       "height": 420,
       "width": 420
      }
     },
     "output_type": "display_data"
    }
   ],
   "source": [
    "plot(lifeExp ~ gdpPercap, gapminder)"
   ]
  },
  {
   "cell_type": "code",
   "execution_count": 70,
   "id": "1292b24e",
   "metadata": {
    "vscode": {
     "languageId": "r"
    }
   },
   "outputs": [
    {
     "data": {
      "image/png": "[encoded data removed]",
      "text/plain": [
       "plot without title"
      ]
     },
     "metadata": {
      "image/png": {
       "height": 420,
       "width": 420
      }
     },
     "output_type": "display_data"
    }
   ],
   "source": [
    "plot(lifeExp ~ log(gdpPercap), gapminder)"
   ]
  },
  {
   "cell_type": "code",
   "execution_count": 71,
   "id": "2c0fea67",
   "metadata": {
    "vscode": {
     "languageId": "r"
    }
   },
   "outputs": [
    {
     "name": "stdout",
     "output_type": "stream",
     "text": [
      "tibble [1,704 × 6] (S3: tbl_df/tbl/data.frame)\n",
      " $ country  : Factor w/ 142 levels \"Afghanistan\",..: 1 1 1 1 1 1 1 1 1 1 ...\n",
      " $ continent: Factor w/ 5 levels \"Africa\",\"Americas\",..: 3 3 3 3 3 3 3 3 3 3 ...\n",
      " $ year     : int [1:1704] 1952 1957 1962 1967 1972 1977 1982 1987 1992 1997 ...\n",
      " $ lifeExp  : num [1:1704] 28.8 30.3 32 34 36.1 ...\n",
      " $ pop      : int [1:1704] 8425333 9240934 10267083 11537966 13079460 14880372 12881816 13867957 16317921 22227415 ...\n",
      " $ gdpPercap: num [1:1704] 779 821 853 836 740 ...\n"
     ]
    }
   ],
   "source": [
    "str(gapminder)"
   ]
  },
  {
   "cell_type": "code",
   "execution_count": 72,
   "id": "180c5719",
   "metadata": {
    "vscode": {
     "languageId": "r"
    }
   },
   "outputs": [
    {
     "data": {
      "text/html": [
       "<style>\n",
       ".list-inline {list-style: none; margin:0; padding: 0}\n",
       ".list-inline>li {display: inline-block}\n",
       ".list-inline>li:not(:last-child)::after {content: \"\\00b7\"; padding: 0 .5ex}\n",
       "</style>\n",
       "<ol class=list-inline><li>28.801</li><li>30.332</li><li>31.997</li><li>34.02</li><li>36.088</li><li>38.438</li></ol>\n"
      ],
      "text/latex": [
       "\\begin{enumerate*}\n",
       "\\item 28.801\n",
       "\\item 30.332\n",
       "\\item 31.997\n",
       "\\item 34.02\n",
       "\\item 36.088\n",
       "\\item 38.438\n",
       "\\end{enumerate*}\n"
      ],
      "text/markdown": [
       "1. 28.801\n",
       "2. 30.332\n",
       "3. 31.997\n",
       "4. 34.02\n",
       "5. 36.088\n",
       "6. 38.438\n",
       "\n",
       "\n"
      ],
      "text/plain": [
       "[1] 28.801 30.332 31.997 34.020 36.088 38.438"
      ]
     },
     "metadata": {},
     "output_type": "display_data"
    }
   ],
   "source": [
    "head(gapminder$lifeExp)"
   ]
  },
  {
   "cell_type": "code",
   "execution_count": 73,
   "id": "ce3e85ad",
   "metadata": {
    "vscode": {
     "languageId": "r"
    }
   },
   "outputs": [
    {
     "data": {
      "text/plain": [
       "   Min. 1st Qu.  Median    Mean 3rd Qu.    Max. \n",
       "  23.60   48.20   60.71   59.47   70.85   82.60 "
      ]
     },
     "metadata": {},
     "output_type": "display_data"
    }
   ],
   "source": [
    "summary(gapminder$lifeExp)"
   ]
  },
  {
   "cell_type": "code",
   "execution_count": 74,
   "id": "b94e83b4",
   "metadata": {
    "vscode": {
     "languageId": "r"
    }
   },
   "outputs": [
    {
     "data": {
      "image/png": "[encoded data removed]",
      "text/plain": [
       "Plot with title \"Histogram of gapminder$lifeExp\""
      ]
     },
     "metadata": {
      "image/png": {
       "height": 420,
       "width": 420
      }
     },
     "output_type": "display_data"
    }
   ],
   "source": [
    "hist(gapminder$lifeExp)"
   ]
  },
  {
   "cell_type": "code",
   "execution_count": 75,
   "id": "c4106840",
   "metadata": {
    "vscode": {
     "languageId": "r"
    }
   },
   "outputs": [
    {
     "data": {
      "image/png": "[encoded data removed]",
      "text/plain": [
       "Plot with title \"Histogram of iris_tibble$Sepal.Length\""
      ]
     },
     "metadata": {
      "image/png": {
       "height": 420,
       "width": 420
      }
     },
     "output_type": "display_data"
    }
   ],
   "source": [
    "hist(iris_tibble$Sepal.Length)"
   ]
  },
  {
   "cell_type": "code",
   "execution_count": 76,
   "id": "7af65b9d",
   "metadata": {
    "vscode": {
     "languageId": "r"
    }
   },
   "outputs": [
    {
     "data": {
      "image/png": "[encoded data removed]",
      "text/plain": [
       "Plot with title \"Histogram of iris_tibble$Petal.Width\""
      ]
     },
     "metadata": {
      "image/png": {
       "height": 420,
       "width": 420
      }
     },
     "output_type": "display_data"
    }
   ],
   "source": [
    "hist(iris_tibble$Petal.Width)"
   ]
  },
  {
   "cell_type": "code",
   "execution_count": 77,
   "id": "9fd586b3",
   "metadata": {
    "vscode": {
     "languageId": "r"
    }
   },
   "outputs": [
    {
     "data": {
      "text/plain": [
       "   Min. 1st Qu.  Median    Mean 3rd Qu.    Max. \n",
       "   1952    1966    1980    1980    1993    2007 "
      ]
     },
     "metadata": {},
     "output_type": "display_data"
    }
   ],
   "source": [
    "summary(gapminder$year)"
   ]
  },
  {
   "cell_type": "code",
   "execution_count": 78,
   "id": "13373732",
   "metadata": {
    "vscode": {
     "languageId": "r"
    }
   },
   "outputs": [
    {
     "data": {
      "text/plain": [
       "\n",
       "1952 1957 1962 1967 1972 1977 1982 1987 1992 1997 2002 2007 \n",
       " 142  142  142  142  142  142  142  142  142  142  142  142 "
      ]
     },
     "metadata": {},
     "output_type": "display_data"
    }
   ],
   "source": [
    "table(gapminder$year)"
   ]
  },
  {
   "cell_type": "code",
   "execution_count": 79,
   "id": "e84fb48c",
   "metadata": {
    "vscode": {
     "languageId": "r"
    }
   },
   "outputs": [
    {
     "data": {
      "text/plain": [
       "\n",
       "    setosa versicolor  virginica \n",
       "        50         50         50 "
      ]
     },
     "metadata": {},
     "output_type": "display_data"
    }
   ],
   "source": [
    "table(iris_tibble$Species)"
   ]
  },
  {
   "cell_type": "code",
   "execution_count": 81,
   "id": "a46e87a4",
   "metadata": {
    "vscode": {
     "languageId": "r"
    }
   },
   "outputs": [
    {
     "data": {
      "text/html": [
       "<style>\n",
       ".list-inline {list-style: none; margin:0; padding: 0}\n",
       ".list-inline>li {display: inline-block}\n",
       ".list-inline>li:not(:last-child)::after {content: \"\\00b7\"; padding: 0 .5ex}\n",
       "</style>\n",
       "<ol class=list-inline><li>5.1</li><li>4.9</li><li>4.7</li><li>4.6</li><li>5</li><li>5.4</li><li>4.6</li><li>5</li><li>4.4</li><li>4.9</li><li>5.4</li><li>4.8</li><li>4.8</li><li>4.3</li><li>5.8</li><li>5.7</li><li>5.4</li><li>5.1</li><li>5.7</li><li>5.1</li><li>5.4</li><li>5.1</li><li>4.6</li><li>5.1</li><li>4.8</li><li>5</li><li>5</li><li>5.2</li><li>5.2</li><li>4.7</li><li>4.8</li><li>5.4</li><li>5.2</li><li>5.5</li><li>4.9</li><li>5</li><li>5.5</li><li>4.9</li><li>4.4</li><li>5.1</li><li>5</li><li>4.5</li><li>4.4</li><li>5</li><li>5.1</li><li>4.8</li><li>5.1</li><li>4.6</li><li>5.3</li><li>5</li><li>7</li><li>6.4</li><li>6.9</li><li>5.5</li><li>6.5</li><li>5.7</li><li>6.3</li><li>4.9</li><li>6.6</li><li>5.2</li><li>5</li><li>5.9</li><li>6</li><li>6.1</li><li>5.6</li><li>6.7</li><li>5.6</li><li>5.8</li><li>6.2</li><li>5.6</li><li>5.9</li><li>6.1</li><li>6.3</li><li>6.1</li><li>6.4</li><li>6.6</li><li>6.8</li><li>6.7</li><li>6</li><li>5.7</li><li>5.5</li><li>5.5</li><li>5.8</li><li>6</li><li>5.4</li><li>6</li><li>6.7</li><li>6.3</li><li>5.6</li><li>5.5</li><li>5.5</li><li>6.1</li><li>5.8</li><li>5</li><li>5.6</li><li>5.7</li><li>5.7</li><li>6.2</li><li>5.1</li><li>5.7</li><li>6.3</li><li>5.8</li><li>7.1</li><li>6.3</li><li>6.5</li><li>7.6</li><li>4.9</li><li>7.3</li><li>6.7</li><li>7.2</li><li>6.5</li><li>6.4</li><li>6.8</li><li>5.7</li><li>5.8</li><li>6.4</li><li>6.5</li><li>7.7</li><li>7.7</li><li>6</li><li>6.9</li><li>5.6</li><li>7.7</li><li>6.3</li><li>6.7</li><li>7.2</li><li>6.2</li><li>6.1</li><li>6.4</li><li>7.2</li><li>7.4</li><li>7.9</li><li>6.4</li><li>6.3</li><li>6.1</li><li>7.7</li><li>6.3</li><li>6.4</li><li>6</li><li>6.9</li><li>6.7</li><li>6.9</li><li>5.8</li><li>6.8</li><li>6.7</li><li>6.7</li><li>6.3</li><li>6.5</li><li>6.2</li><li>5.9</li></ol>\n"
      ],
      "text/latex": [
       "\\begin{enumerate*}\n",
       "\\item 5.1\n",
       "\\item 4.9\n",
       "\\item 4.7\n",
       "\\item 4.6\n",
       "\\item 5\n",
       "\\item 5.4\n",
       "\\item 4.6\n",
       "\\item 5\n",
       "\\item 4.4\n",
       "\\item 4.9\n",
       "\\item 5.4\n",
       "\\item 4.8\n",
       "\\item 4.8\n",
       "\\item 4.3\n",
       "\\item 5.8\n",
       "\\item 5.7\n",
       "\\item 5.4\n",
       "\\item 5.1\n",
       "\\item 5.7\n",
       "\\item 5.1\n",
       "\\item 5.4\n",
       "\\item 5.1\n",
       "\\item 4.6\n",
       "\\item 5.1\n",
       "\\item 4.8\n",
       "\\item 5\n",
       "\\item 5\n",
       "\\item 5.2\n",
       "\\item 5.2\n",
       "\\item 4.7\n",
       "\\item 4.8\n",
       "\\item 5.4\n",
       "\\item 5.2\n",
       "\\item 5.5\n",
       "\\item 4.9\n",
       "\\item 5\n",
       "\\item 5.5\n",
       "\\item 4.9\n",
       "\\item 4.4\n",
       "\\item 5.1\n",
       "\\item 5\n",
       "\\item 4.5\n",
       "\\item 4.4\n",
       "\\item 5\n",
       "\\item 5.1\n",
       "\\item 4.8\n",
       "\\item 5.1\n",
       "\\item 4.6\n",
       "\\item 5.3\n",
       "\\item 5\n",
       "\\item 7\n",
       "\\item 6.4\n",
       "\\item 6.9\n",
       "\\item 5.5\n",
       "\\item 6.5\n",
       "\\item 5.7\n",
       "\\item 6.3\n",
       "\\item 4.9\n",
       "\\item 6.6\n",
       "\\item 5.2\n",
       "\\item 5\n",
       "\\item 5.9\n",
       "\\item 6\n",
       "\\item 6.1\n",
       "\\item 5.6\n",
       "\\item 6.7\n",
       "\\item 5.6\n",
       "\\item 5.8\n",
       "\\item 6.2\n",
       "\\item 5.6\n",
       "\\item 5.9\n",
       "\\item 6.1\n",
       "\\item 6.3\n",
       "\\item 6.1\n",
       "\\item 6.4\n",
       "\\item 6.6\n",
       "\\item 6.8\n",
       "\\item 6.7\n",
       "\\item 6\n",
       "\\item 5.7\n",
       "\\item 5.5\n",
       "\\item 5.5\n",
       "\\item 5.8\n",
       "\\item 6\n",
       "\\item 5.4\n",
       "\\item 6\n",
       "\\item 6.7\n",
       "\\item 6.3\n",
       "\\item 5.6\n",
       "\\item 5.5\n",
       "\\item 5.5\n",
       "\\item 6.1\n",
       "\\item 5.8\n",
       "\\item 5\n",
       "\\item 5.6\n",
       "\\item 5.7\n",
       "\\item 5.7\n",
       "\\item 6.2\n",
       "\\item 5.1\n",
       "\\item 5.7\n",
       "\\item 6.3\n",
       "\\item 5.8\n",
       "\\item 7.1\n",
       "\\item 6.3\n",
       "\\item 6.5\n",
       "\\item 7.6\n",
       "\\item 4.9\n",
       "\\item 7.3\n",
       "\\item 6.7\n",
       "\\item 7.2\n",
       "\\item 6.5\n",
       "\\item 6.4\n",
       "\\item 6.8\n",
       "\\item 5.7\n",
       "\\item 5.8\n",
       "\\item 6.4\n",
       "\\item 6.5\n",
       "\\item 7.7\n",
       "\\item 7.7\n",
       "\\item 6\n",
       "\\item 6.9\n",
       "\\item 5.6\n",
       "\\item 7.7\n",
       "\\item 6.3\n",
       "\\item 6.7\n",
       "\\item 7.2\n",
       "\\item 6.2\n",
       "\\item 6.1\n",
       "\\item 6.4\n",
       "\\item 7.2\n",
       "\\item 7.4\n",
       "\\item 7.9\n",
       "\\item 6.4\n",
       "\\item 6.3\n",
       "\\item 6.1\n",
       "\\item 7.7\n",
       "\\item 6.3\n",
       "\\item 6.4\n",
       "\\item 6\n",
       "\\item 6.9\n",
       "\\item 6.7\n",
       "\\item 6.9\n",
       "\\item 5.8\n",
       "\\item 6.8\n",
       "\\item 6.7\n",
       "\\item 6.7\n",
       "\\item 6.3\n",
       "\\item 6.5\n",
       "\\item 6.2\n",
       "\\item 5.9\n",
       "\\end{enumerate*}\n"
      ],
      "text/markdown": [
       "1. 5.1\n",
       "2. 4.9\n",
       "3. 4.7\n",
       "4. 4.6\n",
       "5. 5\n",
       "6. 5.4\n",
       "7. 4.6\n",
       "8. 5\n",
       "9. 4.4\n",
       "10. 4.9\n",
       "11. 5.4\n",
       "12. 4.8\n",
       "13. 4.8\n",
       "14. 4.3\n",
       "15. 5.8\n",
       "16. 5.7\n",
       "17. 5.4\n",
       "18. 5.1\n",
       "19. 5.7\n",
       "20. 5.1\n",
       "21. 5.4\n",
       "22. 5.1\n",
       "23. 4.6\n",
       "24. 5.1\n",
       "25. 4.8\n",
       "26. 5\n",
       "27. 5\n",
       "28. 5.2\n",
       "29. 5.2\n",
       "30. 4.7\n",
       "31. 4.8\n",
       "32. 5.4\n",
       "33. 5.2\n",
       "34. 5.5\n",
       "35. 4.9\n",
       "36. 5\n",
       "37. 5.5\n",
       "38. 4.9\n",
       "39. 4.4\n",
       "40. 5.1\n",
       "41. 5\n",
       "42. 4.5\n",
       "43. 4.4\n",
       "44. 5\n",
       "45. 5.1\n",
       "46. 4.8\n",
       "47. 5.1\n",
       "48. 4.6\n",
       "49. 5.3\n",
       "50. 5\n",
       "51. 7\n",
       "52. 6.4\n",
       "53. 6.9\n",
       "54. 5.5\n",
       "55. 6.5\n",
       "56. 5.7\n",
       "57. 6.3\n",
       "58. 4.9\n",
       "59. 6.6\n",
       "60. 5.2\n",
       "61. 5\n",
       "62. 5.9\n",
       "63. 6\n",
       "64. 6.1\n",
       "65. 5.6\n",
       "66. 6.7\n",
       "67. 5.6\n",
       "68. 5.8\n",
       "69. 6.2\n",
       "70. 5.6\n",
       "71. 5.9\n",
       "72. 6.1\n",
       "73. 6.3\n",
       "74. 6.1\n",
       "75. 6.4\n",
       "76. 6.6\n",
       "77. 6.8\n",
       "78. 6.7\n",
       "79. 6\n",
       "80. 5.7\n",
       "81. 5.5\n",
       "82. 5.5\n",
       "83. 5.8\n",
       "84. 6\n",
       "85. 5.4\n",
       "86. 6\n",
       "87. 6.7\n",
       "88. 6.3\n",
       "89. 5.6\n",
       "90. 5.5\n",
       "91. 5.5\n",
       "92. 6.1\n",
       "93. 5.8\n",
       "94. 5\n",
       "95. 5.6\n",
       "96. 5.7\n",
       "97. 5.7\n",
       "98. 6.2\n",
       "99. 5.1\n",
       "100. 5.7\n",
       "101. 6.3\n",
       "102. 5.8\n",
       "103. 7.1\n",
       "104. 6.3\n",
       "105. 6.5\n",
       "106. 7.6\n",
       "107. 4.9\n",
       "108. 7.3\n",
       "109. 6.7\n",
       "110. 7.2\n",
       "111. 6.5\n",
       "112. 6.4\n",
       "113. 6.8\n",
       "114. 5.7\n",
       "115. 5.8\n",
       "116. 6.4\n",
       "117. 6.5\n",
       "118. 7.7\n",
       "119. 7.7\n",
       "120. 6\n",
       "121. 6.9\n",
       "122. 5.6\n",
       "123. 7.7\n",
       "124. 6.3\n",
       "125. 6.7\n",
       "126. 7.2\n",
       "127. 6.2\n",
       "128. 6.1\n",
       "129. 6.4\n",
       "130. 7.2\n",
       "131. 7.4\n",
       "132. 7.9\n",
       "133. 6.4\n",
       "134. 6.3\n",
       "135. 6.1\n",
       "136. 7.7\n",
       "137. 6.3\n",
       "138. 6.4\n",
       "139. 6\n",
       "140. 6.9\n",
       "141. 6.7\n",
       "142. 6.9\n",
       "143. 5.8\n",
       "144. 6.8\n",
       "145. 6.7\n",
       "146. 6.7\n",
       "147. 6.3\n",
       "148. 6.5\n",
       "149. 6.2\n",
       "150. 5.9\n",
       "\n",
       "\n"
      ],
      "text/plain": [
       "  [1] 5.1 4.9 4.7 4.6 5.0 5.4 4.6 5.0 4.4 4.9 5.4 4.8 4.8 4.3 5.8 5.7 5.4 5.1\n",
       " [19] 5.7 5.1 5.4 5.1 4.6 5.1 4.8 5.0 5.0 5.2 5.2 4.7 4.8 5.4 5.2 5.5 4.9 5.0\n",
       " [37] 5.5 4.9 4.4 5.1 5.0 4.5 4.4 5.0 5.1 4.8 5.1 4.6 5.3 5.0 7.0 6.4 6.9 5.5\n",
       " [55] 6.5 5.7 6.3 4.9 6.6 5.2 5.0 5.9 6.0 6.1 5.6 6.7 5.6 5.8 6.2 5.6 5.9 6.1\n",
       " [73] 6.3 6.1 6.4 6.6 6.8 6.7 6.0 5.7 5.5 5.5 5.8 6.0 5.4 6.0 6.7 6.3 5.6 5.5\n",
       " [91] 5.5 6.1 5.8 5.0 5.6 5.7 5.7 6.2 5.1 5.7 6.3 5.8 7.1 6.3 6.5 7.6 4.9 7.3\n",
       "[109] 6.7 7.2 6.5 6.4 6.8 5.7 5.8 6.4 6.5 7.7 7.7 6.0 6.9 5.6 7.7 6.3 6.7 7.2\n",
       "[127] 6.2 6.1 6.4 7.2 7.4 7.9 6.4 6.3 6.1 7.7 6.3 6.4 6.0 6.9 6.7 6.9 5.8 6.8\n",
       "[145] 6.7 6.7 6.3 6.5 6.2 5.9"
      ]
     },
     "metadata": {},
     "output_type": "display_data"
    }
   ],
   "source": [
    "iris_tibble$Sepal.Length"
   ]
  },
  {
   "cell_type": "code",
   "execution_count": 83,
   "id": "06b57764",
   "metadata": {
    "vscode": {
     "languageId": "r"
    }
   },
   "outputs": [
    {
     "data": {
      "text/html": [
       "<table class=\"dataframe\">\n",
       "<caption>A tibble: 6 × 5</caption>\n",
       "<thead>\n",
       "\t<tr><th scope=col>Sepal.Length</th><th scope=col>Sepal.Width</th><th scope=col>Petal.Length</th><th scope=col>Petal.Width</th><th scope=col>Species</th></tr>\n",
       "\t<tr><th scope=col>&lt;dbl&gt;</th><th scope=col>&lt;dbl&gt;</th><th scope=col>&lt;dbl&gt;</th><th scope=col>&lt;dbl&gt;</th><th scope=col>&lt;fct&gt;</th></tr>\n",
       "</thead>\n",
       "<tbody>\n",
       "\t<tr><td>5.1</td><td>3.5</td><td>1.4</td><td>0.2</td><td>setosa</td></tr>\n",
       "\t<tr><td>4.9</td><td>3.0</td><td>1.4</td><td>0.2</td><td>setosa</td></tr>\n",
       "\t<tr><td>4.7</td><td>3.2</td><td>1.3</td><td>0.2</td><td>setosa</td></tr>\n",
       "\t<tr><td>4.6</td><td>3.1</td><td>1.5</td><td>0.2</td><td>setosa</td></tr>\n",
       "\t<tr><td>5.0</td><td>3.6</td><td>1.4</td><td>0.2</td><td>setosa</td></tr>\n",
       "\t<tr><td>5.4</td><td>3.9</td><td>1.7</td><td>0.4</td><td>setosa</td></tr>\n",
       "</tbody>\n",
       "</table>\n"
      ],
      "text/latex": [
       "A tibble: 6 × 5\n",
       "\\begin{tabular}{lllll}\n",
       " Sepal.Length & Sepal.Width & Petal.Length & Petal.Width & Species\\\\\n",
       " <dbl> & <dbl> & <dbl> & <dbl> & <fct>\\\\\n",
       "\\hline\n",
       "\t 5.1 & 3.5 & 1.4 & 0.2 & setosa\\\\\n",
       "\t 4.9 & 3.0 & 1.4 & 0.2 & setosa\\\\\n",
       "\t 4.7 & 3.2 & 1.3 & 0.2 & setosa\\\\\n",
       "\t 4.6 & 3.1 & 1.5 & 0.2 & setosa\\\\\n",
       "\t 5.0 & 3.6 & 1.4 & 0.2 & setosa\\\\\n",
       "\t 5.4 & 3.9 & 1.7 & 0.4 & setosa\\\\\n",
       "\\end{tabular}\n"
      ],
      "text/markdown": [
       "\n",
       "A tibble: 6 × 5\n",
       "\n",
       "| Sepal.Length &lt;dbl&gt; | Sepal.Width &lt;dbl&gt; | Petal.Length &lt;dbl&gt; | Petal.Width &lt;dbl&gt; | Species &lt;fct&gt; |\n",
       "|---|---|---|---|---|\n",
       "| 5.1 | 3.5 | 1.4 | 0.2 | setosa |\n",
       "| 4.9 | 3.0 | 1.4 | 0.2 | setosa |\n",
       "| 4.7 | 3.2 | 1.3 | 0.2 | setosa |\n",
       "| 4.6 | 3.1 | 1.5 | 0.2 | setosa |\n",
       "| 5.0 | 3.6 | 1.4 | 0.2 | setosa |\n",
       "| 5.4 | 3.9 | 1.7 | 0.4 | setosa |\n",
       "\n"
      ],
      "text/plain": [
       "  Sepal.Length Sepal.Width Petal.Length Petal.Width Species\n",
       "1 5.1          3.5         1.4          0.2         setosa \n",
       "2 4.9          3.0         1.4          0.2         setosa \n",
       "3 4.7          3.2         1.3          0.2         setosa \n",
       "4 4.6          3.1         1.5          0.2         setosa \n",
       "5 5.0          3.6         1.4          0.2         setosa \n",
       "6 5.4          3.9         1.7          0.4         setosa "
      ]
     },
     "metadata": {},
     "output_type": "display_data"
    }
   ],
   "source": [
    "head(iris_tibble)"
   ]
  },
  {
   "cell_type": "code",
   "execution_count": 80,
   "id": "ce5cc34a",
   "metadata": {
    "vscode": {
     "languageId": "r"
    }
   },
   "outputs": [
    {
     "data": {
      "text/plain": [
       "\n",
       "4.3 4.4 4.5 4.6 4.7 4.8 4.9   5 5.1 5.2 5.3 5.4 5.5 5.6 5.7 5.8 5.9   6 6.1 6.2 \n",
       "  1   3   1   4   2   5   6  10   9   4   1   6   7   6   8   7   3   6   6   4 \n",
       "6.3 6.4 6.5 6.6 6.7 6.8 6.9   7 7.1 7.2 7.3 7.4 7.6 7.7 7.9 \n",
       "  9   7   5   2   8   3   4   1   1   3   1   1   1   4   1 "
      ]
     },
     "metadata": {},
     "output_type": "display_data"
    }
   ],
   "source": [
    "table(iris_tibble$Sepal.Length)"
   ]
  },
  {
   "cell_type": "code",
   "execution_count": 84,
   "id": "6d7bbdc6",
   "metadata": {
    "vscode": {
     "languageId": "r"
    }
   },
   "outputs": [
    {
     "data": {
      "text/html": [
       "'factor'"
      ],
      "text/latex": [
       "'factor'"
      ],
      "text/markdown": [
       "'factor'"
      ],
      "text/plain": [
       "[1] \"factor\""
      ]
     },
     "metadata": {},
     "output_type": "display_data"
    }
   ],
   "source": [
    "class(gapminder$continent)"
   ]
  },
  {
   "cell_type": "code",
   "execution_count": 85,
   "id": "a68a2bcd",
   "metadata": {
    "vscode": {
     "languageId": "r"
    }
   },
   "outputs": [
    {
     "data": {
      "text/html": [
       "<style>\n",
       ".dl-inline {width: auto; margin:0; padding: 0}\n",
       ".dl-inline>dt, .dl-inline>dd {float: none; width: auto; display: inline-block}\n",
       ".dl-inline>dt::after {content: \":\\0020\"; padding-right: .5ex}\n",
       ".dl-inline>dt:not(:first-of-type) {padding-left: .5ex}\n",
       "</style><dl class=dl-inline><dt>Africa</dt><dd>624</dd><dt>Americas</dt><dd>300</dd><dt>Asia</dt><dd>396</dd><dt>Europe</dt><dd>360</dd><dt>Oceania</dt><dd>24</dd></dl>\n"
      ],
      "text/latex": [
       "\\begin{description*}\n",
       "\\item[Africa] 624\n",
       "\\item[Americas] 300\n",
       "\\item[Asia] 396\n",
       "\\item[Europe] 360\n",
       "\\item[Oceania] 24\n",
       "\\end{description*}\n"
      ],
      "text/markdown": [
       "Africa\n",
       ":   624Americas\n",
       ":   300Asia\n",
       ":   396Europe\n",
       ":   360Oceania\n",
       ":   24\n",
       "\n"
      ],
      "text/plain": [
       "  Africa Americas     Asia   Europe  Oceania \n",
       "     624      300      396      360       24 "
      ]
     },
     "metadata": {},
     "output_type": "display_data"
    }
   ],
   "source": [
    "summary(gapminder$continent)"
   ]
  },
  {
   "cell_type": "code",
   "execution_count": 86,
   "id": "d97d8e84",
   "metadata": {
    "vscode": {
     "languageId": "r"
    }
   },
   "outputs": [
    {
     "data": {
      "text/html": [
       "<style>\n",
       ".dl-inline {width: auto; margin:0; padding: 0}\n",
       ".dl-inline>dt, .dl-inline>dd {float: none; width: auto; display: inline-block}\n",
       ".dl-inline>dt::after {content: \":\\0020\"; padding-right: .5ex}\n",
       ".dl-inline>dt:not(:first-of-type) {padding-left: .5ex}\n",
       "</style><dl class=dl-inline><dt>setosa</dt><dd>50</dd><dt>versicolor</dt><dd>50</dd><dt>virginica</dt><dd>50</dd></dl>\n"
      ],
      "text/latex": [
       "\\begin{description*}\n",
       "\\item[setosa] 50\n",
       "\\item[versicolor] 50\n",
       "\\item[virginica] 50\n",
       "\\end{description*}\n"
      ],
      "text/markdown": [
       "setosa\n",
       ":   50versicolor\n",
       ":   50virginica\n",
       ":   50\n",
       "\n"
      ],
      "text/plain": [
       "    setosa versicolor  virginica \n",
       "        50         50         50 "
      ]
     },
     "metadata": {},
     "output_type": "display_data"
    }
   ],
   "source": [
    "summary(iris_tibble$Species)"
   ]
  },
  {
   "cell_type": "code",
   "execution_count": 87,
   "id": "48a2ad16",
   "metadata": {
    "vscode": {
     "languageId": "r"
    }
   },
   "outputs": [
    {
     "data": {
      "text/html": [
       "<style>\n",
       ".list-inline {list-style: none; margin:0; padding: 0}\n",
       ".list-inline>li {display: inline-block}\n",
       ".list-inline>li:not(:last-child)::after {content: \"\\00b7\"; padding: 0 .5ex}\n",
       "</style>\n",
       "<ol class=list-inline><li>'Africa'</li><li>'Americas'</li><li>'Asia'</li><li>'Europe'</li><li>'Oceania'</li></ol>\n"
      ],
      "text/latex": [
       "\\begin{enumerate*}\n",
       "\\item 'Africa'\n",
       "\\item 'Americas'\n",
       "\\item 'Asia'\n",
       "\\item 'Europe'\n",
       "\\item 'Oceania'\n",
       "\\end{enumerate*}\n"
      ],
      "text/markdown": [
       "1. 'Africa'\n",
       "2. 'Americas'\n",
       "3. 'Asia'\n",
       "4. 'Europe'\n",
       "5. 'Oceania'\n",
       "\n",
       "\n"
      ],
      "text/plain": [
       "[1] \"Africa\"   \"Americas\" \"Asia\"     \"Europe\"   \"Oceania\" "
      ]
     },
     "metadata": {},
     "output_type": "display_data"
    }
   ],
   "source": [
    "levels(gapminder$continent)"
   ]
  },
  {
   "cell_type": "code",
   "execution_count": 88,
   "id": "d4079f9d",
   "metadata": {
    "vscode": {
     "languageId": "r"
    }
   },
   "outputs": [
    {
     "data": {
      "text/html": [
       "<style>\n",
       ".list-inline {list-style: none; margin:0; padding: 0}\n",
       ".list-inline>li {display: inline-block}\n",
       ".list-inline>li:not(:last-child)::after {content: \"\\00b7\"; padding: 0 .5ex}\n",
       "</style>\n",
       "<ol class=list-inline><li>'setosa'</li><li>'versicolor'</li><li>'virginica'</li></ol>\n"
      ],
      "text/latex": [
       "\\begin{enumerate*}\n",
       "\\item 'setosa'\n",
       "\\item 'versicolor'\n",
       "\\item 'virginica'\n",
       "\\end{enumerate*}\n"
      ],
      "text/markdown": [
       "1. 'setosa'\n",
       "2. 'versicolor'\n",
       "3. 'virginica'\n",
       "\n",
       "\n"
      ],
      "text/plain": [
       "[1] \"setosa\"     \"versicolor\" \"virginica\" "
      ]
     },
     "metadata": {},
     "output_type": "display_data"
    }
   ],
   "source": [
    "levels(iris_tibble$Species)"
   ]
  },
  {
   "cell_type": "code",
   "execution_count": 89,
   "id": "c717fcd6",
   "metadata": {
    "vscode": {
     "languageId": "r"
    }
   },
   "outputs": [
    {
     "data": {
      "text/html": [
       "5"
      ],
      "text/latex": [
       "5"
      ],
      "text/markdown": [
       "5"
      ],
      "text/plain": [
       "[1] 5"
      ]
     },
     "metadata": {},
     "output_type": "display_data"
    }
   ],
   "source": [
    "nlevels(gapminder$continent)"
   ]
  },
  {
   "cell_type": "code",
   "execution_count": 90,
   "id": "b5087f05",
   "metadata": {
    "vscode": {
     "languageId": "r"
    }
   },
   "outputs": [
    {
     "data": {
      "text/html": [
       "3"
      ],
      "text/latex": [
       "3"
      ],
      "text/markdown": [
       "3"
      ],
      "text/plain": [
       "[1] 3"
      ]
     },
     "metadata": {},
     "output_type": "display_data"
    }
   ],
   "source": [
    "nlevels(iris_tibble$Species)"
   ]
  },
  {
   "cell_type": "code",
   "execution_count": 91,
   "id": "191f812e",
   "metadata": {
    "vscode": {
     "languageId": "r"
    }
   },
   "outputs": [
    {
     "name": "stdout",
     "output_type": "stream",
     "text": [
      " Factor w/ 5 levels \"Africa\",\"Americas\",..: 3 3 3 3 3 3 3 3 3 3 ...\n"
     ]
    }
   ],
   "source": [
    "str(gapminder$continent)"
   ]
  },
  {
   "cell_type": "code",
   "execution_count": 94,
   "id": "487c669c",
   "metadata": {
    "vscode": {
     "languageId": "r"
    }
   },
   "outputs": [
    {
     "data": {
      "text/html": [
       "<style>\n",
       ".list-inline {list-style: none; margin:0; padding: 0}\n",
       ".list-inline>li {display: inline-block}\n",
       ".list-inline>li:not(:last-child)::after {content: \"\\00b7\"; padding: 0 .5ex}\n",
       "</style>\n",
       "<ol class=list-inline><li>Asia</li><li>Asia</li><li>Asia</li><li>Asia</li><li>Asia</li><li>Asia</li><li>Asia</li><li>Asia</li><li>Asia</li><li>Asia</li><li>Asia</li><li>Asia</li><li>Europe</li><li>Europe</li><li>Europe</li><li>Europe</li><li>Europe</li><li>Europe</li><li>Europe</li><li>Europe</li><li>Europe</li><li>Europe</li><li>Europe</li><li>Europe</li><li>Africa</li><li>Africa</li><li>Africa</li><li>Africa</li><li>Africa</li><li>Africa</li><li>Africa</li><li>Africa</li><li>Africa</li><li>Africa</li><li>Africa</li><li>Africa</li><li>Africa</li><li>Africa</li><li>Africa</li><li>Africa</li><li>Africa</li><li>Africa</li><li>Africa</li><li>Africa</li><li>Africa</li><li>Africa</li><li>Africa</li><li>Africa</li><li>Americas</li><li>Americas</li><li>Americas</li><li>Americas</li><li>Americas</li><li>Americas</li><li>Americas</li><li>Americas</li><li>Americas</li><li>Americas</li><li>Americas</li><li>Americas</li><li>Oceania</li><li>Oceania</li><li>Oceania</li><li>Oceania</li><li>Oceania</li><li>Oceania</li><li>Oceania</li><li>Oceania</li><li>Oceania</li><li>Oceania</li><li>Oceania</li><li>Oceania</li><li>Europe</li><li>Europe</li><li>Europe</li><li>Europe</li><li>Europe</li><li>Europe</li><li>Europe</li><li>Europe</li><li>Europe</li><li>Europe</li><li>Europe</li><li>Europe</li><li>Asia</li><li>Asia</li><li>Asia</li><li>Asia</li><li>Asia</li><li>Asia</li><li>Asia</li><li>Asia</li><li>Asia</li><li>Asia</li><li>Asia</li><li>Asia</li><li>Asia</li><li>Asia</li><li>Asia</li><li>Asia</li><li>Asia</li><li>Asia</li><li>Asia</li><li>Asia</li><li>Asia</li><li>Asia</li><li>Asia</li><li>Asia</li><li>Europe</li><li>Europe</li><li>Europe</li><li>Europe</li><li>Europe</li><li>Europe</li><li>Europe</li><li>Europe</li><li>Europe</li><li>Europe</li><li>Europe</li><li>Europe</li><li>Africa</li><li>Africa</li><li>Africa</li><li>Africa</li><li>Africa</li><li>Africa</li><li>Africa</li><li>Africa</li><li>Africa</li><li>Africa</li><li>Africa</li><li>Africa</li><li>Americas</li><li>Americas</li><li>Americas</li><li>Americas</li><li>Americas</li><li>Americas</li><li>Americas</li><li>Americas</li><li>Americas</li><li>Americas</li><li>Americas</li><li>Americas</li><li>Europe</li><li>Europe</li><li>Europe</li><li>Europe</li><li>Europe</li><li>Europe</li><li>Europe</li><li>Europe</li><li>Europe</li><li>Europe</li><li>Europe</li><li>Europe</li><li>Africa</li><li>Africa</li><li>Africa</li><li>Africa</li><li>Africa</li><li>Africa</li><li>Africa</li><li>Africa</li><li>Africa</li><li>Africa</li><li>Africa</li><li>Africa</li><li>Americas</li><li>Americas</li><li>Americas</li><li>Americas</li><li>Americas</li><li>Americas</li><li>Americas</li><li>Americas</li><li>Americas</li><li>Americas</li><li>Americas</li><li>Americas</li><li>Europe</li><li>Europe</li><li>Europe</li><li>Europe</li><li>Europe</li><li>Europe</li><li>Europe</li><li>Europe</li><li>Europe</li><li>Europe</li><li>Europe</li><li>Europe</li><li>Africa</li><li>Africa</li><li>Africa</li><li>Africa</li><li>Africa</li><li>Africa</li><li>Africa</li><li>Africa</li><li>⋯</li><li>Asia</li><li>Asia</li><li>Asia</li><li>Asia</li><li>Asia</li><li>Asia</li><li>Asia</li><li>Asia</li><li>Africa</li><li>Africa</li><li>Africa</li><li>Africa</li><li>Africa</li><li>Africa</li><li>Africa</li><li>Africa</li><li>Africa</li><li>Africa</li><li>Africa</li><li>Africa</li><li>Asia</li><li>Asia</li><li>Asia</li><li>Asia</li><li>Asia</li><li>Asia</li><li>Asia</li><li>Asia</li><li>Asia</li><li>Asia</li><li>Asia</li><li>Asia</li><li>Africa</li><li>Africa</li><li>Africa</li><li>Africa</li><li>Africa</li><li>Africa</li><li>Africa</li><li>Africa</li><li>Africa</li><li>Africa</li><li>Africa</li><li>Africa</li><li>Americas</li><li>Americas</li><li>Americas</li><li>Americas</li><li>Americas</li><li>Americas</li><li>Americas</li><li>Americas</li><li>Americas</li><li>Americas</li><li>Americas</li><li>Americas</li><li>Africa</li><li>Africa</li><li>Africa</li><li>Africa</li><li>Africa</li><li>Africa</li><li>Africa</li><li>Africa</li><li>Africa</li><li>Africa</li><li>Africa</li><li>Africa</li><li>Europe</li><li>Europe</li><li>Europe</li><li>Europe</li><li>Europe</li><li>Europe</li><li>Europe</li><li>Europe</li><li>Europe</li><li>Europe</li><li>Europe</li><li>Europe</li><li>Africa</li><li>Africa</li><li>Africa</li><li>Africa</li><li>Africa</li><li>Africa</li><li>Africa</li><li>Africa</li><li>Africa</li><li>Africa</li><li>Africa</li><li>Africa</li><li>Europe</li><li>Europe</li><li>Europe</li><li>Europe</li><li>Europe</li><li>Europe</li><li>Europe</li><li>Europe</li><li>Europe</li><li>Europe</li><li>Europe</li><li>Europe</li><li>Americas</li><li>Americas</li><li>Americas</li><li>Americas</li><li>Americas</li><li>Americas</li><li>Americas</li><li>Americas</li><li>Americas</li><li>Americas</li><li>Americas</li><li>Americas</li><li>Americas</li><li>Americas</li><li>Americas</li><li>Americas</li><li>Americas</li><li>Americas</li><li>Americas</li><li>Americas</li><li>Americas</li><li>Americas</li><li>Americas</li><li>Americas</li><li>Americas</li><li>Americas</li><li>Americas</li><li>Americas</li><li>Americas</li><li>Americas</li><li>Americas</li><li>Americas</li><li>Americas</li><li>Americas</li><li>Americas</li><li>Americas</li><li>Asia</li><li>Asia</li><li>Asia</li><li>Asia</li><li>Asia</li><li>Asia</li><li>Asia</li><li>Asia</li><li>Asia</li><li>Asia</li><li>Asia</li><li>Asia</li><li>Asia</li><li>Asia</li><li>Asia</li><li>Asia</li><li>Asia</li><li>Asia</li><li>Asia</li><li>Asia</li><li>Asia</li><li>Asia</li><li>Asia</li><li>Asia</li><li>Asia</li><li>Asia</li><li>Asia</li><li>Asia</li><li>Asia</li><li>Asia</li><li>Asia</li><li>Asia</li><li>Asia</li><li>Asia</li><li>Asia</li><li>Asia</li><li>Africa</li><li>Africa</li><li>Africa</li><li>Africa</li><li>Africa</li><li>Africa</li><li>Africa</li><li>Africa</li><li>Africa</li><li>Africa</li><li>Africa</li><li>Africa</li><li>Africa</li><li>Africa</li><li>Africa</li><li>Africa</li><li>Africa</li><li>Africa</li><li>Africa</li><li>Africa</li><li>Africa</li><li>Africa</li><li>Africa</li><li>Africa</li></ol>\n",
       "\n",
       "<details>\n",
       "\t<summary style=display:list-item;cursor:pointer>\n",
       "\t\t<strong>Levels</strong>:\n",
       "\t</summary>\n",
       "\t<style>\n",
       "\t.list-inline {list-style: none; margin:0; padding: 0}\n",
       "\t.list-inline>li {display: inline-block}\n",
       "\t.list-inline>li:not(:last-child)::after {content: \"\\00b7\"; padding: 0 .5ex}\n",
       "\t</style>\n",
       "\t<ol class=list-inline><li>'Africa'</li><li>'Americas'</li><li>'Asia'</li><li>'Europe'</li><li>'Oceania'</li></ol>\n",
       "</details>"
      ],
      "text/latex": [
       "\\begin{enumerate*}\n",
       "\\item Asia\n",
       "\\item Asia\n",
       "\\item Asia\n",
       "\\item Asia\n",
       "\\item Asia\n",
       "\\item Asia\n",
       "\\item Asia\n",
       "\\item Asia\n",
       "\\item Asia\n",
       "\\item Asia\n",
       "\\item Asia\n",
       "\\item Asia\n",
       "\\item Europe\n",
       "\\item Europe\n",
       "\\item Europe\n",
       "\\item Europe\n",
       "\\item Europe\n",
       "\\item Europe\n",
       "\\item Europe\n",
       "\\item Europe\n",
       "\\item Europe\n",
       "\\item Europe\n",
       "\\item Europe\n",
       "\\item Europe\n",
       "\\item Africa\n",
       "\\item Africa\n",
       "\\item Africa\n",
       "\\item Africa\n",
       "\\item Africa\n",
       "\\item Africa\n",
       "\\item Africa\n",
       "\\item Africa\n",
       "\\item Africa\n",
       "\\item Africa\n",
       "\\item Africa\n",
       "\\item Africa\n",
       "\\item Africa\n",
       "\\item Africa\n",
       "\\item Africa\n",
       "\\item Africa\n",
       "\\item Africa\n",
       "\\item Africa\n",
       "\\item Africa\n",
       "\\item Africa\n",
       "\\item Africa\n",
       "\\item Africa\n",
       "\\item Africa\n",
       "\\item Africa\n",
       "\\item Americas\n",
       "\\item Americas\n",
       "\\item Americas\n",
       "\\item Americas\n",
       "\\item Americas\n",
       "\\item Americas\n",
       "\\item Americas\n",
       "\\item Americas\n",
       "\\item Americas\n",
       "\\item Americas\n",
       "\\item Americas\n",
       "\\item Americas\n",
       "\\item Oceania\n",
       "\\item Oceania\n",
       "\\item Oceania\n",
       "\\item Oceania\n",
       "\\item Oceania\n",
       "\\item Oceania\n",
       "\\item Oceania\n",
       "\\item Oceania\n",
       "\\item Oceania\n",
       "\\item Oceania\n",
       "\\item Oceania\n",
       "\\item Oceania\n",
       "\\item Europe\n",
       "\\item Europe\n",
       "\\item Europe\n",
       "\\item Europe\n",
       "\\item Europe\n",
       "\\item Europe\n",
       "\\item Europe\n",
       "\\item Europe\n",
       "\\item Europe\n",
       "\\item Europe\n",
       "\\item Europe\n",
       "\\item Europe\n",
       "\\item Asia\n",
       "\\item Asia\n",
       "\\item Asia\n",
       "\\item Asia\n",
       "\\item Asia\n",
       "\\item Asia\n",
       "\\item Asia\n",
       "\\item Asia\n",
       "\\item Asia\n",
       "\\item Asia\n",
       "\\item Asia\n",
       "\\item Asia\n",
       "\\item Asia\n",
       "\\item Asia\n",
       "\\item Asia\n",
       "\\item Asia\n",
       "\\item Asia\n",
       "\\item Asia\n",
       "\\item Asia\n",
       "\\item Asia\n",
       "\\item Asia\n",
       "\\item Asia\n",
       "\\item Asia\n",
       "\\item Asia\n",
       "\\item Europe\n",
       "\\item Europe\n",
       "\\item Europe\n",
       "\\item Europe\n",
       "\\item Europe\n",
       "\\item Europe\n",
       "\\item Europe\n",
       "\\item Europe\n",
       "\\item Europe\n",
       "\\item Europe\n",
       "\\item Europe\n",
       "\\item Europe\n",
       "\\item Africa\n",
       "\\item Africa\n",
       "\\item Africa\n",
       "\\item Africa\n",
       "\\item Africa\n",
       "\\item Africa\n",
       "\\item Africa\n",
       "\\item Africa\n",
       "\\item Africa\n",
       "\\item Africa\n",
       "\\item Africa\n",
       "\\item Africa\n",
       "\\item Americas\n",
       "\\item Americas\n",
       "\\item Americas\n",
       "\\item Americas\n",
       "\\item Americas\n",
       "\\item Americas\n",
       "\\item Americas\n",
       "\\item Americas\n",
       "\\item Americas\n",
       "\\item Americas\n",
       "\\item Americas\n",
       "\\item Americas\n",
       "\\item Europe\n",
       "\\item Europe\n",
       "\\item Europe\n",
       "\\item Europe\n",
       "\\item Europe\n",
       "\\item Europe\n",
       "\\item Europe\n",
       "\\item Europe\n",
       "\\item Europe\n",
       "\\item Europe\n",
       "\\item Europe\n",
       "\\item Europe\n",
       "\\item Africa\n",
       "\\item Africa\n",
       "\\item Africa\n",
       "\\item Africa\n",
       "\\item Africa\n",
       "\\item Africa\n",
       "\\item Africa\n",
       "\\item Africa\n",
       "\\item Africa\n",
       "\\item Africa\n",
       "\\item Africa\n",
       "\\item Africa\n",
       "\\item Americas\n",
       "\\item Americas\n",
       "\\item Americas\n",
       "\\item Americas\n",
       "\\item Americas\n",
       "\\item Americas\n",
       "\\item Americas\n",
       "\\item Americas\n",
       "\\item Americas\n",
       "\\item Americas\n",
       "\\item Americas\n",
       "\\item Americas\n",
       "\\item Europe\n",
       "\\item Europe\n",
       "\\item Europe\n",
       "\\item Europe\n",
       "\\item Europe\n",
       "\\item Europe\n",
       "\\item Europe\n",
       "\\item Europe\n",
       "\\item Europe\n",
       "\\item Europe\n",
       "\\item Europe\n",
       "\\item Europe\n",
       "\\item Africa\n",
       "\\item Africa\n",
       "\\item Africa\n",
       "\\item Africa\n",
       "\\item Africa\n",
       "\\item Africa\n",
       "\\item Africa\n",
       "\\item Africa\n",
       "\\item ⋯\n",
       "\\item Asia\n",
       "\\item Asia\n",
       "\\item Asia\n",
       "\\item Asia\n",
       "\\item Asia\n",
       "\\item Asia\n",
       "\\item Asia\n",
       "\\item Asia\n",
       "\\item Africa\n",
       "\\item Africa\n",
       "\\item Africa\n",
       "\\item Africa\n",
       "\\item Africa\n",
       "\\item Africa\n",
       "\\item Africa\n",
       "\\item Africa\n",
       "\\item Africa\n",
       "\\item Africa\n",
       "\\item Africa\n",
       "\\item Africa\n",
       "\\item Asia\n",
       "\\item Asia\n",
       "\\item Asia\n",
       "\\item Asia\n",
       "\\item Asia\n",
       "\\item Asia\n",
       "\\item Asia\n",
       "\\item Asia\n",
       "\\item Asia\n",
       "\\item Asia\n",
       "\\item Asia\n",
       "\\item Asia\n",
       "\\item Africa\n",
       "\\item Africa\n",
       "\\item Africa\n",
       "\\item Africa\n",
       "\\item Africa\n",
       "\\item Africa\n",
       "\\item Africa\n",
       "\\item Africa\n",
       "\\item Africa\n",
       "\\item Africa\n",
       "\\item Africa\n",
       "\\item Africa\n",
       "\\item Americas\n",
       "\\item Americas\n",
       "\\item Americas\n",
       "\\item Americas\n",
       "\\item Americas\n",
       "\\item Americas\n",
       "\\item Americas\n",
       "\\item Americas\n",
       "\\item Americas\n",
       "\\item Americas\n",
       "\\item Americas\n",
       "\\item Americas\n",
       "\\item Africa\n",
       "\\item Africa\n",
       "\\item Africa\n",
       "\\item Africa\n",
       "\\item Africa\n",
       "\\item Africa\n",
       "\\item Africa\n",
       "\\item Africa\n",
       "\\item Africa\n",
       "\\item Africa\n",
       "\\item Africa\n",
       "\\item Africa\n",
       "\\item Europe\n",
       "\\item Europe\n",
       "\\item Europe\n",
       "\\item Europe\n",
       "\\item Europe\n",
       "\\item Europe\n",
       "\\item Europe\n",
       "\\item Europe\n",
       "\\item Europe\n",
       "\\item Europe\n",
       "\\item Europe\n",
       "\\item Europe\n",
       "\\item Africa\n",
       "\\item Africa\n",
       "\\item Africa\n",
       "\\item Africa\n",
       "\\item Africa\n",
       "\\item Africa\n",
       "\\item Africa\n",
       "\\item Africa\n",
       "\\item Africa\n",
       "\\item Africa\n",
       "\\item Africa\n",
       "\\item Africa\n",
       "\\item Europe\n",
       "\\item Europe\n",
       "\\item Europe\n",
       "\\item Europe\n",
       "\\item Europe\n",
       "\\item Europe\n",
       "\\item Europe\n",
       "\\item Europe\n",
       "\\item Europe\n",
       "\\item Europe\n",
       "\\item Europe\n",
       "\\item Europe\n",
       "\\item Americas\n",
       "\\item Americas\n",
       "\\item Americas\n",
       "\\item Americas\n",
       "\\item Americas\n",
       "\\item Americas\n",
       "\\item Americas\n",
       "\\item Americas\n",
       "\\item Americas\n",
       "\\item Americas\n",
       "\\item Americas\n",
       "\\item Americas\n",
       "\\item Americas\n",
       "\\item Americas\n",
       "\\item Americas\n",
       "\\item Americas\n",
       "\\item Americas\n",
       "\\item Americas\n",
       "\\item Americas\n",
       "\\item Americas\n",
       "\\item Americas\n",
       "\\item Americas\n",
       "\\item Americas\n",
       "\\item Americas\n",
       "\\item Americas\n",
       "\\item Americas\n",
       "\\item Americas\n",
       "\\item Americas\n",
       "\\item Americas\n",
       "\\item Americas\n",
       "\\item Americas\n",
       "\\item Americas\n",
       "\\item Americas\n",
       "\\item Americas\n",
       "\\item Americas\n",
       "\\item Americas\n",
       "\\item Asia\n",
       "\\item Asia\n",
       "\\item Asia\n",
       "\\item Asia\n",
       "\\item Asia\n",
       "\\item Asia\n",
       "\\item Asia\n",
       "\\item Asia\n",
       "\\item Asia\n",
       "\\item Asia\n",
       "\\item Asia\n",
       "\\item Asia\n",
       "\\item Asia\n",
       "\\item Asia\n",
       "\\item Asia\n",
       "\\item Asia\n",
       "\\item Asia\n",
       "\\item Asia\n",
       "\\item Asia\n",
       "\\item Asia\n",
       "\\item Asia\n",
       "\\item Asia\n",
       "\\item Asia\n",
       "\\item Asia\n",
       "\\item Asia\n",
       "\\item Asia\n",
       "\\item Asia\n",
       "\\item Asia\n",
       "\\item Asia\n",
       "\\item Asia\n",
       "\\item Asia\n",
       "\\item Asia\n",
       "\\item Asia\n",
       "\\item Asia\n",
       "\\item Asia\n",
       "\\item Asia\n",
       "\\item Africa\n",
       "\\item Africa\n",
       "\\item Africa\n",
       "\\item Africa\n",
       "\\item Africa\n",
       "\\item Africa\n",
       "\\item Africa\n",
       "\\item Africa\n",
       "\\item Africa\n",
       "\\item Africa\n",
       "\\item Africa\n",
       "\\item Africa\n",
       "\\item Africa\n",
       "\\item Africa\n",
       "\\item Africa\n",
       "\\item Africa\n",
       "\\item Africa\n",
       "\\item Africa\n",
       "\\item Africa\n",
       "\\item Africa\n",
       "\\item Africa\n",
       "\\item Africa\n",
       "\\item Africa\n",
       "\\item Africa\n",
       "\\end{enumerate*}\n",
       "\n",
       "\\emph{Levels}: \\begin{enumerate*}\n",
       "\\item 'Africa'\n",
       "\\item 'Americas'\n",
       "\\item 'Asia'\n",
       "\\item 'Europe'\n",
       "\\item 'Oceania'\n",
       "\\end{enumerate*}\n"
      ],
      "text/markdown": [
       "1. Asia\n",
       "2. Asia\n",
       "3. Asia\n",
       "4. Asia\n",
       "5. Asia\n",
       "6. Asia\n",
       "7. Asia\n",
       "8. Asia\n",
       "9. Asia\n",
       "10. Asia\n",
       "11. Asia\n",
       "12. Asia\n",
       "13. Europe\n",
       "14. Europe\n",
       "15. Europe\n",
       "16. Europe\n",
       "17. Europe\n",
       "18. Europe\n",
       "19. Europe\n",
       "20. Europe\n",
       "21. Europe\n",
       "22. Europe\n",
       "23. Europe\n",
       "24. Europe\n",
       "25. Africa\n",
       "26. Africa\n",
       "27. Africa\n",
       "28. Africa\n",
       "29. Africa\n",
       "30. Africa\n",
       "31. Africa\n",
       "32. Africa\n",
       "33. Africa\n",
       "34. Africa\n",
       "35. Africa\n",
       "36. Africa\n",
       "37. Africa\n",
       "38. Africa\n",
       "39. Africa\n",
       "40. Africa\n",
       "41. Africa\n",
       "42. Africa\n",
       "43. Africa\n",
       "44. Africa\n",
       "45. Africa\n",
       "46. Africa\n",
       "47. Africa\n",
       "48. Africa\n",
       "49. Americas\n",
       "50. Americas\n",
       "51. Americas\n",
       "52. Americas\n",
       "53. Americas\n",
       "54. Americas\n",
       "55. Americas\n",
       "56. Americas\n",
       "57. Americas\n",
       "58. Americas\n",
       "59. Americas\n",
       "60. Americas\n",
       "61. Oceania\n",
       "62. Oceania\n",
       "63. Oceania\n",
       "64. Oceania\n",
       "65. Oceania\n",
       "66. Oceania\n",
       "67. Oceania\n",
       "68. Oceania\n",
       "69. Oceania\n",
       "70. Oceania\n",
       "71. Oceania\n",
       "72. Oceania\n",
       "73. Europe\n",
       "74. Europe\n",
       "75. Europe\n",
       "76. Europe\n",
       "77. Europe\n",
       "78. Europe\n",
       "79. Europe\n",
       "80. Europe\n",
       "81. Europe\n",
       "82. Europe\n",
       "83. Europe\n",
       "84. Europe\n",
       "85. Asia\n",
       "86. Asia\n",
       "87. Asia\n",
       "88. Asia\n",
       "89. Asia\n",
       "90. Asia\n",
       "91. Asia\n",
       "92. Asia\n",
       "93. Asia\n",
       "94. Asia\n",
       "95. Asia\n",
       "96. Asia\n",
       "97. Asia\n",
       "98. Asia\n",
       "99. Asia\n",
       "100. Asia\n",
       "101. Asia\n",
       "102. Asia\n",
       "103. Asia\n",
       "104. Asia\n",
       "105. Asia\n",
       "106. Asia\n",
       "107. Asia\n",
       "108. Asia\n",
       "109. Europe\n",
       "110. Europe\n",
       "111. Europe\n",
       "112. Europe\n",
       "113. Europe\n",
       "114. Europe\n",
       "115. Europe\n",
       "116. Europe\n",
       "117. Europe\n",
       "118. Europe\n",
       "119. Europe\n",
       "120. Europe\n",
       "121. Africa\n",
       "122. Africa\n",
       "123. Africa\n",
       "124. Africa\n",
       "125. Africa\n",
       "126. Africa\n",
       "127. Africa\n",
       "128. Africa\n",
       "129. Africa\n",
       "130. Africa\n",
       "131. Africa\n",
       "132. Africa\n",
       "133. Americas\n",
       "134. Americas\n",
       "135. Americas\n",
       "136. Americas\n",
       "137. Americas\n",
       "138. Americas\n",
       "139. Americas\n",
       "140. Americas\n",
       "141. Americas\n",
       "142. Americas\n",
       "143. Americas\n",
       "144. Americas\n",
       "145. Europe\n",
       "146. Europe\n",
       "147. Europe\n",
       "148. Europe\n",
       "149. Europe\n",
       "150. Europe\n",
       "151. Europe\n",
       "152. Europe\n",
       "153. Europe\n",
       "154. Europe\n",
       "155. Europe\n",
       "156. Europe\n",
       "157. Africa\n",
       "158. Africa\n",
       "159. Africa\n",
       "160. Africa\n",
       "161. Africa\n",
       "162. Africa\n",
       "163. Africa\n",
       "164. Africa\n",
       "165. Africa\n",
       "166. Africa\n",
       "167. Africa\n",
       "168. Africa\n",
       "169. Americas\n",
       "170. Americas\n",
       "171. Americas\n",
       "172. Americas\n",
       "173. Americas\n",
       "174. Americas\n",
       "175. Americas\n",
       "176. Americas\n",
       "177. Americas\n",
       "178. Americas\n",
       "179. Americas\n",
       "180. Americas\n",
       "181. Europe\n",
       "182. Europe\n",
       "183. Europe\n",
       "184. Europe\n",
       "185. Europe\n",
       "186. Europe\n",
       "187. Europe\n",
       "188. Europe\n",
       "189. Europe\n",
       "190. Europe\n",
       "191. Europe\n",
       "192. Europe\n",
       "193. Africa\n",
       "194. Africa\n",
       "195. Africa\n",
       "196. Africa\n",
       "197. Africa\n",
       "198. Africa\n",
       "199. Africa\n",
       "200. Africa\n",
       "201. ⋯\n",
       "202. Asia\n",
       "203. Asia\n",
       "204. Asia\n",
       "205. Asia\n",
       "206. Asia\n",
       "207. Asia\n",
       "208. Asia\n",
       "209. Asia\n",
       "210. Africa\n",
       "211. Africa\n",
       "212. Africa\n",
       "213. Africa\n",
       "214. Africa\n",
       "215. Africa\n",
       "216. Africa\n",
       "217. Africa\n",
       "218. Africa\n",
       "219. Africa\n",
       "220. Africa\n",
       "221. Africa\n",
       "222. Asia\n",
       "223. Asia\n",
       "224. Asia\n",
       "225. Asia\n",
       "226. Asia\n",
       "227. Asia\n",
       "228. Asia\n",
       "229. Asia\n",
       "230. Asia\n",
       "231. Asia\n",
       "232. Asia\n",
       "233. Asia\n",
       "234. Africa\n",
       "235. Africa\n",
       "236. Africa\n",
       "237. Africa\n",
       "238. Africa\n",
       "239. Africa\n",
       "240. Africa\n",
       "241. Africa\n",
       "242. Africa\n",
       "243. Africa\n",
       "244. Africa\n",
       "245. Africa\n",
       "246. Americas\n",
       "247. Americas\n",
       "248. Americas\n",
       "249. Americas\n",
       "250. Americas\n",
       "251. Americas\n",
       "252. Americas\n",
       "253. Americas\n",
       "254. Americas\n",
       "255. Americas\n",
       "256. Americas\n",
       "257. Americas\n",
       "258. Africa\n",
       "259. Africa\n",
       "260. Africa\n",
       "261. Africa\n",
       "262. Africa\n",
       "263. Africa\n",
       "264. Africa\n",
       "265. Africa\n",
       "266. Africa\n",
       "267. Africa\n",
       "268. Africa\n",
       "269. Africa\n",
       "270. Europe\n",
       "271. Europe\n",
       "272. Europe\n",
       "273. Europe\n",
       "274. Europe\n",
       "275. Europe\n",
       "276. Europe\n",
       "277. Europe\n",
       "278. Europe\n",
       "279. Europe\n",
       "280. Europe\n",
       "281. Europe\n",
       "282. Africa\n",
       "283. Africa\n",
       "284. Africa\n",
       "285. Africa\n",
       "286. Africa\n",
       "287. Africa\n",
       "288. Africa\n",
       "289. Africa\n",
       "290. Africa\n",
       "291. Africa\n",
       "292. Africa\n",
       "293. Africa\n",
       "294. Europe\n",
       "295. Europe\n",
       "296. Europe\n",
       "297. Europe\n",
       "298. Europe\n",
       "299. Europe\n",
       "300. Europe\n",
       "301. Europe\n",
       "302. Europe\n",
       "303. Europe\n",
       "304. Europe\n",
       "305. Europe\n",
       "306. Americas\n",
       "307. Americas\n",
       "308. Americas\n",
       "309. Americas\n",
       "310. Americas\n",
       "311. Americas\n",
       "312. Americas\n",
       "313. Americas\n",
       "314. Americas\n",
       "315. Americas\n",
       "316. Americas\n",
       "317. Americas\n",
       "318. Americas\n",
       "319. Americas\n",
       "320. Americas\n",
       "321. Americas\n",
       "322. Americas\n",
       "323. Americas\n",
       "324. Americas\n",
       "325. Americas\n",
       "326. Americas\n",
       "327. Americas\n",
       "328. Americas\n",
       "329. Americas\n",
       "330. Americas\n",
       "331. Americas\n",
       "332. Americas\n",
       "333. Americas\n",
       "334. Americas\n",
       "335. Americas\n",
       "336. Americas\n",
       "337. Americas\n",
       "338. Americas\n",
       "339. Americas\n",
       "340. Americas\n",
       "341. Americas\n",
       "342. Asia\n",
       "343. Asia\n",
       "344. Asia\n",
       "345. Asia\n",
       "346. Asia\n",
       "347. Asia\n",
       "348. Asia\n",
       "349. Asia\n",
       "350. Asia\n",
       "351. Asia\n",
       "352. Asia\n",
       "353. Asia\n",
       "354. Asia\n",
       "355. Asia\n",
       "356. Asia\n",
       "357. Asia\n",
       "358. Asia\n",
       "359. Asia\n",
       "360. Asia\n",
       "361. Asia\n",
       "362. Asia\n",
       "363. Asia\n",
       "364. Asia\n",
       "365. Asia\n",
       "366. Asia\n",
       "367. Asia\n",
       "368. Asia\n",
       "369. Asia\n",
       "370. Asia\n",
       "371. Asia\n",
       "372. Asia\n",
       "373. Asia\n",
       "374. Asia\n",
       "375. Asia\n",
       "376. Asia\n",
       "377. Asia\n",
       "378. Africa\n",
       "379. Africa\n",
       "380. Africa\n",
       "381. Africa\n",
       "382. Africa\n",
       "383. Africa\n",
       "384. Africa\n",
       "385. Africa\n",
       "386. Africa\n",
       "387. Africa\n",
       "388. Africa\n",
       "389. Africa\n",
       "390. Africa\n",
       "391. Africa\n",
       "392. Africa\n",
       "393. Africa\n",
       "394. Africa\n",
       "395. Africa\n",
       "396. Africa\n",
       "397. Africa\n",
       "398. Africa\n",
       "399. Africa\n",
       "400. Africa\n",
       "401. Africa\n",
       "\n",
       "\n",
       "\n",
       "**Levels**: 1. 'Africa'\n",
       "2. 'Americas'\n",
       "3. 'Asia'\n",
       "4. 'Europe'\n",
       "5. 'Oceania'\n",
       "\n",
       "\n"
      ],
      "text/plain": [
       "   [1] Asia     Asia     Asia     Asia     Asia     Asia     Asia     Asia    \n",
       "   [9] Asia     Asia     Asia     Asia     Europe   Europe   Europe   Europe  \n",
       "  [17] Europe   Europe   Europe   Europe   Europe   Europe   Europe   Europe  \n",
       "  [25] Africa   Africa   Africa   Africa   Africa   Africa   Africa   Africa  \n",
       "  [33] Africa   Africa   Africa   Africa   Africa   Africa   Africa   Africa  \n",
       "  [41] Africa   Africa   Africa   Africa   Africa   Africa   Africa   Africa  \n",
       "  [49] Americas Americas Americas Americas Americas Americas Americas Americas\n",
       "  [57] Americas Americas Americas Americas Oceania  Oceania  Oceania  Oceania \n",
       "  [65] Oceania  Oceania  Oceania  Oceania  Oceania  Oceania  Oceania  Oceania \n",
       "  [73] Europe   Europe   Europe   Europe   Europe   Europe   Europe   Europe  \n",
       "  [81] Europe   Europe   Europe   Europe   Asia     Asia     Asia     Asia    \n",
       "  [89] Asia     Asia     Asia     Asia     Asia     Asia     Asia     Asia    \n",
       "  [97] Asia     Asia     Asia     Asia     Asia     Asia     Asia     Asia    \n",
       " [105] Asia     Asia     Asia     Asia     Europe   Europe   Europe   Europe  \n",
       " [113] Europe   Europe   Europe   Europe   Europe   Europe   Europe   Europe  \n",
       " [121] Africa   Africa   Africa   Africa   Africa   Africa   Africa   Africa  \n",
       " [129] Africa   Africa   Africa   Africa   Americas Americas Americas Americas\n",
       " [137] Americas Americas Americas Americas Americas Americas Americas Americas\n",
       " [145] Europe   Europe   Europe   Europe   Europe   Europe   Europe   Europe  \n",
       " [153] Europe   Europe   Europe   Europe   Africa   Africa   Africa   Africa  \n",
       " [161] Africa   Africa   Africa   Africa   Africa   Africa   Africa   Africa  \n",
       " [169] Americas Americas Americas Americas Americas Americas Americas Americas\n",
       " [177] Americas Americas Americas Americas Europe   Europe   Europe   Europe  \n",
       " [185] Europe   Europe   Europe   Europe   Europe   Europe   Europe   Europe  \n",
       " [193] Africa   Africa   Africa   Africa   Africa   Africa   Africa   Africa  \n",
       " [201] Africa   Africa   Africa   Africa   Africa   Africa   Africa   Africa  \n",
       " [209] Africa   Africa   Africa   Africa   Africa   Africa   Africa   Africa  \n",
       " [217] Asia     Asia     Asia     Asia     Asia     Asia     Asia     Asia    \n",
       " [225] Asia     Asia     Asia     Asia     Africa   Africa   Africa   Africa  \n",
       " [233] Africa   Africa   Africa   Africa   Africa   Africa   Africa   Africa  \n",
       " [241] Americas Americas Americas Americas Americas Americas Americas Americas\n",
       " [249] Americas Americas Americas Americas Africa   Africa   Africa   Africa  \n",
       " [257] Africa   Africa   Africa   Africa   Africa   Africa   Africa   Africa  \n",
       " [265] Africa   Africa   Africa   Africa   Africa   Africa   Africa   Africa  \n",
       " [273] Africa   Africa   Africa   Africa   Americas Americas Americas Americas\n",
       " [281] Americas Americas Americas Americas Americas Americas Americas Americas\n",
       " [289] Asia     Asia     Asia     Asia     Asia     Asia     Asia     Asia    \n",
       " [297] Asia     Asia     Asia     Asia     Americas Americas Americas Americas\n",
       " [305] Americas Americas Americas Americas Americas Americas Americas Americas\n",
       " [313] Africa   Africa   Africa   Africa   Africa   Africa   Africa   Africa  \n",
       " [321] Africa   Africa   Africa   Africa   Africa   Africa   Africa   Africa  \n",
       " [329] Africa   Africa   Africa   Africa   Africa   Africa   Africa   Africa  \n",
       " [337] Africa   Africa   Africa   Africa   Africa   Africa   Africa   Africa  \n",
       " [345] Africa   Africa   Africa   Africa   Americas Americas Americas Americas\n",
       " [353] Americas Americas Americas Americas Americas Americas Americas Americas\n",
       " [361] Africa   Africa   Africa   Africa   Africa   Africa   Africa   Africa  \n",
       " [369] Africa   Africa   Africa   Africa   Europe   Europe   Europe   Europe  \n",
       " [377] Europe   Europe   Europe   Europe   Europe   Europe   Europe   Europe  \n",
       " [385] Americas Americas Americas Americas Americas Americas Americas Americas\n",
       " [393] Americas Americas Americas Americas Europe   Europe   Europe   Europe  \n",
       " [401] Europe   Europe   Europe   Europe   Europe   Europe   Europe   Europe  \n",
       " [409] Europe   Europe   Europe   Europe   Europe   Europe   Europe   Europe  \n",
       " [417] Europe   Europe   Europe   Europe   Africa   Africa   Africa   Africa  \n",
       " [425] Africa   Africa   Africa   Africa   Africa   Africa   Africa   Africa  \n",
       " [433] Americas Americas Americas Americas Americas Americas Americas Americas\n",
       " [441] Americas Americas Americas Americas Americas Americas Americas Americas\n",
       " [449] Americas Americas Americas Americas Americas Americas Americas Americas\n",
       " [457] Africa   Africa   Africa   Africa   Africa   Africa   Africa   Africa  \n",
       " [465] Africa   Africa   Africa   Africa   Americas Americas Americas Americas\n",
       " [473] Americas Americas Americas Americas Americas Americas Americas Americas\n",
       " [481] Africa   Africa   Africa   Africa   Africa   Africa   Africa   Africa  \n",
       " [489] Africa   Africa   Africa   Africa   Africa   Africa   Africa   Africa  \n",
       " [497] Africa   Africa   Africa   Africa   Africa   Africa   Africa   Africa  \n",
       " [505] Africa   Africa   Africa   Africa   Africa   Africa   Africa   Africa  \n",
       " [513] Africa   Africa   Africa   Africa   Europe   Europe   Europe   Europe  \n",
       " [521] Europe   Europe   Europe   Europe   Europe   Europe   Europe   Europe  \n",
       " [529] Europe   Europe   Europe   Europe   Europe   Europe   Europe   Europe  \n",
       " [537] Europe   Europe   Europe   Europe   Africa   Africa   Africa   Africa  \n",
       " [545] Africa   Africa   Africa   Africa   Africa   Africa   Africa   Africa  \n",
       " [553] Africa   Africa   Africa   Africa   Africa   Africa   Africa   Africa  \n",
       " [561] Africa   Africa   Africa   Africa   Europe   Europe   Europe   Europe  \n",
       " [569] Europe   Europe   Europe   Europe   Europe   Europe   Europe   Europe  \n",
       " [577] Africa   Africa   Africa   Africa   Africa   Africa   Africa   Africa  \n",
       " [585] Africa   Africa   Africa   Africa   Europe   Europe   Europe   Europe  \n",
       " [593] Europe   Europe   Europe   Europe   Europe   Europe   Europe   Europe  \n",
       " [601] Americas Americas Americas Americas Americas Americas Americas Americas\n",
       " [609] Americas Americas Americas Americas Africa   Africa   Africa   Africa  \n",
       " [617] Africa   Africa   Africa   Africa   Africa   Africa   Africa   Africa  \n",
       " [625] Africa   Africa   Africa   Africa   Africa   Africa   Africa   Africa  \n",
       " [633] Africa   Africa   Africa   Africa   Americas Americas Americas Americas\n",
       " [641] Americas Americas Americas Americas Americas Americas Americas Americas\n",
       " [649] Americas Americas Americas Americas Americas Americas Americas Americas\n",
       " [657] Americas Americas Americas Americas Asia     Asia     Asia     Asia    \n",
       " [665] Asia     Asia     Asia     Asia     Asia     Asia     Asia     Asia    \n",
       " [673] Europe   Europe   Europe   Europe   Europe   Europe   Europe   Europe  \n",
       " [681] Europe   Europe   Europe   Europe   Europe   Europe   Europe   Europe  \n",
       " [689] Europe   Europe   Europe   Europe   Europe   Europe   Europe   Europe  \n",
       " [697] Asia     Asia     Asia     Asia     Asia     Asia     Asia     Asia    \n",
       " [705] Asia     Asia     Asia     Asia     Asia     Asia     Asia     Asia    \n",
       " [713] Asia     Asia     Asia     Asia     Asia     Asia     Asia     Asia    \n",
       " [721] Asia     Asia     Asia     Asia     Asia     Asia     Asia     Asia    \n",
       " [729] Asia     Asia     Asia     Asia     Asia     Asia     Asia     Asia    \n",
       " [737] Asia     Asia     Asia     Asia     Asia     Asia     Asia     Asia    \n",
       " [745] Europe   Europe   Europe   Europe   Europe   Europe   Europe   Europe  \n",
       " [753] Europe   Europe   Europe   Europe   Asia     Asia     Asia     Asia    \n",
       " [761] Asia     Asia     Asia     Asia     Asia     Asia     Asia     Asia    \n",
       " [769] Europe   Europe   Europe   Europe   Europe   Europe   Europe   Europe  \n",
       " [777] Europe   Europe   Europe   Europe   Americas Americas Americas Americas\n",
       " [785] Americas Americas Americas Americas Americas Americas Americas Americas\n",
       " [793] Asia     Asia     Asia     Asia     Asia     Asia     Asia     Asia    \n",
       " [801] Asia     Asia     Asia     Asia     Asia     Asia     Asia     Asia    \n",
       " [809] Asia     Asia     Asia     Asia     Asia     Asia     Asia     Asia    \n",
       " [817] Africa   Africa   Africa   Africa   Africa   Africa   Africa   Africa  \n",
       " [825] Africa   Africa   Africa   Africa   Asia     Asia     Asia     Asia    \n",
       " [833] Asia     Asia     Asia     Asia     Asia     Asia     Asia     Asia    \n",
       " [841] Asia     Asia     Asia     Asia     Asia     Asia     Asia     Asia    \n",
       " [849] Asia     Asia     Asia     Asia     Asia     Asia     Asia     Asia    \n",
       " [857] Asia     Asia     Asia     Asia     Asia     Asia     Asia     Asia    \n",
       " [865] Asia     Asia     Asia     Asia     Asia     Asia     Asia     Asia    \n",
       " [873] Asia     Asia     Asia     Asia     Africa   Africa   Africa   Africa  \n",
       " [881] Africa   Africa   Africa   Africa   Africa   Africa   Africa   Africa  \n",
       " [889] Africa   Africa   Africa   Africa   Africa   Africa   Africa   Africa  \n",
       " [897] Africa   Africa   Africa   Africa   Africa   Africa   Africa   Africa  \n",
       " [905] Africa   Africa   Africa   Africa   Africa   Africa   Africa   Africa  \n",
       " [913] Africa   Africa   Africa   Africa   Africa   Africa   Africa   Africa  \n",
       " [921] Africa   Africa   Africa   Africa   Africa   Africa   Africa   Africa  \n",
       " [929] Africa   Africa   Africa   Africa   Africa   Africa   Africa   Africa  \n",
       " [937] Asia     Asia     Asia     Asia     Asia     Asia     Asia     Asia    \n",
       " [945] Asia     Asia     Asia     Asia     Africa   Africa   Africa   Africa  \n",
       " [953] Africa   Africa   Africa   Africa   Africa   Africa   Africa   Africa  \n",
       " [961] Africa   Africa   Africa   Africa   Africa   Africa   Africa   Africa  \n",
       " [969] Africa   Africa   Africa   Africa   Africa   Africa   Africa   Africa  \n",
       " [977] Africa   Africa   Africa   Africa   Africa   Africa   Africa   Africa  \n",
       " [985] Americas Americas Americas Americas Americas Americas Americas Americas\n",
       " [993] Americas Americas Americas Americas Asia     Asia     Asia     Asia    \n",
       "[1001] Asia     Asia     Asia     Asia     Asia     Asia     Asia     Asia    \n",
       "[1009] Europe   Europe   Europe   Europe   Europe   Europe   Europe   Europe  \n",
       "[1017] Europe   Europe   Europe   Europe   Africa   Africa   Africa   Africa  \n",
       "[1025] Africa   Africa   Africa   Africa   Africa   Africa   Africa   Africa  \n",
       "[1033] Africa   Africa   Africa   Africa   Africa   Africa   Africa   Africa  \n",
       "[1041] Africa   Africa   Africa   Africa   Asia     Asia     Asia     Asia    \n",
       "[1049] Asia     Asia     Asia     Asia     Asia     Asia     Asia     Asia    \n",
       "[1057] Africa   Africa   Africa   Africa   Africa   Africa   Africa   Africa  \n",
       "[1065] Africa   Africa   Africa   Africa   Asia     Asia     Asia     Asia    \n",
       "[1073] Asia     Asia     Asia     Asia     Asia     Asia     Asia     Asia    \n",
       "[1081] Europe   Europe   Europe   Europe   Europe   Europe   Europe   Europe  \n",
       "[1089] Europe   Europe   Europe   Europe   Oceania  Oceania  Oceania  Oceania \n",
       "[1097] Oceania  Oceania  Oceania  Oceania  Oceania  Oceania  Oceania  Oceania \n",
       "[1105] Americas Americas Americas Americas Americas Americas Americas Americas\n",
       "[1113] Americas Americas Americas Americas Africa   Africa   Africa   Africa  \n",
       "[1121] Africa   Africa   Africa   Africa   Africa   Africa   Africa   Africa  \n",
       "[1129] Africa   Africa   Africa   Africa   Africa   Africa   Africa   Africa  \n",
       "[1137] Africa   Africa   Africa   Africa   Europe   Europe   Europe   Europe  \n",
       "[1145] Europe   Europe   Europe   Europe   Europe   Europe   Europe   Europe  \n",
       "[1153] Asia     Asia     Asia     Asia     Asia     Asia     Asia     Asia    \n",
       "[1161] Asia     Asia     Asia     Asia     Asia     Asia     Asia     Asia    \n",
       "[1169] Asia     Asia     Asia     Asia     Asia     Asia     Asia     Asia    \n",
       "[1177] Americas Americas Americas Americas Americas Americas Americas Americas\n",
       "[1185] Americas Americas Americas Americas Americas Americas Americas Americas\n",
       "[1193] Americas Americas Americas Americas Americas Americas Americas Americas\n",
       "[1201] Americas Americas Americas Americas Americas Americas Americas Americas\n",
       "[1209] Americas Americas Americas Americas Asia     Asia     Asia     Asia    \n",
       "[1217] Asia     Asia     Asia     Asia     Asia     Asia     Asia     Asia    \n",
       "[1225] Europe   Europe   Europe   Europe   Europe   Europe   Europe   Europe  \n",
       "[1233] Europe   Europe   Europe   Europe   Europe   Europe   Europe   Europe  \n",
       "[1241] Europe   Europe   Europe   Europe   Europe   Europe   Europe   Europe  \n",
       "[1249] Americas Americas Americas Americas Americas Americas Americas Americas\n",
       "[1257] Americas Americas Americas Americas Africa   Africa   Africa   Africa  \n",
       "[1265] Africa   Africa   Africa   Africa   Africa   Africa   Africa   Africa  \n",
       "[1273] Europe   Europe   Europe   Europe   Europe   Europe   Europe   Europe  \n",
       "[1281] Europe   Europe   Europe   Europe   Africa   Africa   Africa   Africa  \n",
       "[1289] Africa   Africa   Africa   Africa   Africa   Africa   Africa   Africa  \n",
       "[1297] Africa   Africa   Africa   Africa   Africa   Africa   Africa   Africa  \n",
       "[1305] Africa   Africa   Africa   Africa   Asia     Asia     Asia     Asia    \n",
       "[1313] Asia     Asia     Asia     Asia     Asia     Asia     Asia     Asia    \n",
       "[1321] Africa   Africa   Africa   Africa   Africa   Africa   Africa   Africa  \n",
       "[1329] Africa   Africa   Africa   Africa   Europe   Europe   Europe   Europe  \n",
       "[1337] Europe   Europe   Europe   Europe   Europe   Europe   Europe   Europe  \n",
       "[1345] Africa   Africa   Africa   Africa   Africa   Africa   Africa   Africa  \n",
       "[1353] Africa   Africa   Africa   Africa   Asia     Asia     Asia     Asia    \n",
       "[1361] Asia     Asia     Asia     Asia     Asia     Asia     Asia     Asia    \n",
       "[1369] Europe   Europe   Europe   Europe   Europe   Europe   Europe   Europe  \n",
       "[1377] Europe   Europe   Europe   Europe   Europe   Europe   Europe   Europe  \n",
       "[1385] Europe   Europe   Europe   Europe   Europe   Europe   Europe   Europe  \n",
       "[1393] Africa   Africa   Africa   Africa   Africa   Africa   Africa   Africa  \n",
       "[1401] Africa   Africa   Africa   Africa   Africa   Africa   Africa   Africa  \n",
       "[1409] Africa   Africa   Africa   Africa   Africa   Africa   Africa   Africa  \n",
       "[1417] Europe   Europe   Europe   Europe   Europe   Europe   Europe   Europe  \n",
       "[1425] Europe   Europe   Europe   Europe   Asia     Asia     Asia     Asia    \n",
       "[1433] Asia     Asia     Asia     Asia     Asia     Asia     Asia     Asia    \n",
       "[1441] Africa   Africa   Africa   Africa   Africa   Africa   Africa   Africa  \n",
       "[1449] Africa   Africa   Africa   Africa   Africa   Africa   Africa   Africa  \n",
       "[1457] Africa   Africa   Africa   Africa   Africa   Africa   Africa   Africa  \n",
       "[1465] Europe   Europe   Europe   Europe   Europe   Europe   Europe   Europe  \n",
       "[1473] Europe   Europe   Europe   Europe   Europe   Europe   Europe   Europe  \n",
       "[1481] Europe   Europe   Europe   Europe   Europe   Europe   Europe   Europe  \n",
       "[1489] Asia     Asia     Asia     Asia     Asia     Asia     Asia     Asia    \n",
       "[1497] Asia     Asia     Asia     Asia     Asia     Asia     Asia     Asia    \n",
       "[1505] Asia     Asia     Asia     Asia     Asia     Asia     Asia     Asia    \n",
       "[1513] Africa   Africa   Africa   Africa   Africa   Africa   Africa   Africa  \n",
       "[1521] Africa   Africa   Africa   Africa   Asia     Asia     Asia     Asia    \n",
       "[1529] Asia     Asia     Asia     Asia     Asia     Asia     Asia     Asia    \n",
       "[1537] Africa   Africa   Africa   Africa   Africa   Africa   Africa   Africa  \n",
       "[1545] Africa   Africa   Africa   Africa   Americas Americas Americas Americas\n",
       "[1553] Americas Americas Americas Americas Americas Americas Americas Americas\n",
       "[1561] Africa   Africa   Africa   Africa   Africa   Africa   Africa   Africa  \n",
       "[1569] Africa   Africa   Africa   Africa   Europe   Europe   Europe   Europe  \n",
       "[1577] Europe   Europe   Europe   Europe   Europe   Europe   Europe   Europe  \n",
       "[1585] Africa   Africa   Africa   Africa   Africa   Africa   Africa   Africa  \n",
       "[1593] Africa   Africa   Africa   Africa   Europe   Europe   Europe   Europe  \n",
       "[1601] Europe   Europe   Europe   Europe   Europe   Europe   Europe   Europe  \n",
       "[1609] Americas Americas Americas Americas Americas Americas Americas Americas\n",
       "[1617] Americas Americas Americas Americas Americas Americas Americas Americas\n",
       "[1625] Americas Americas Americas Americas Americas Americas Americas Americas\n",
       "[1633] Americas Americas Americas Americas Americas Americas Americas Americas\n",
       "[1641] Americas Americas Americas Americas Asia     Asia     Asia     Asia    \n",
       "[1649] Asia     Asia     Asia     Asia     Asia     Asia     Asia     Asia    \n",
       "[1657] Asia     Asia     Asia     Asia     Asia     Asia     Asia     Asia    \n",
       "[1665] Asia     Asia     Asia     Asia     Asia     Asia     Asia     Asia    \n",
       "[1673] Asia     Asia     Asia     Asia     Asia     Asia     Asia     Asia    \n",
       "[1681] Africa   Africa   Africa   Africa   Africa   Africa   Africa   Africa  \n",
       "[1689] Africa   Africa   Africa   Africa   Africa   Africa   Africa   Africa  \n",
       "[1697] Africa   Africa   Africa   Africa   Africa   Africa   Africa   Africa  \n",
       "Levels: Africa Americas Asia Europe Oceania"
      ]
     },
     "metadata": {},
     "output_type": "display_data"
    }
   ],
   "source": [
    "gapminder$continent"
   ]
  },
  {
   "cell_type": "code",
   "execution_count": 92,
   "id": "5ca66285",
   "metadata": {
    "vscode": {
     "languageId": "r"
    }
   },
   "outputs": [
    {
     "name": "stdout",
     "output_type": "stream",
     "text": [
      " Factor w/ 3 levels \"setosa\",\"versicolor\",..: 1 1 1 1 1 1 1 1 1 1 ...\n"
     ]
    }
   ],
   "source": [
    "str(iris_tibble$Species)"
   ]
  },
  {
   "cell_type": "code",
   "execution_count": 93,
   "id": "84156eb5",
   "metadata": {
    "vscode": {
     "languageId": "r"
    }
   },
   "outputs": [
    {
     "data": {
      "text/html": [
       "<style>\n",
       ".list-inline {list-style: none; margin:0; padding: 0}\n",
       ".list-inline>li {display: inline-block}\n",
       ".list-inline>li:not(:last-child)::after {content: \"\\00b7\"; padding: 0 .5ex}\n",
       "</style>\n",
       "<ol class=list-inline><li>setosa</li><li>setosa</li><li>setosa</li><li>setosa</li><li>setosa</li><li>setosa</li><li>setosa</li><li>setosa</li><li>setosa</li><li>setosa</li><li>setosa</li><li>setosa</li><li>setosa</li><li>setosa</li><li>setosa</li><li>setosa</li><li>setosa</li><li>setosa</li><li>setosa</li><li>setosa</li><li>setosa</li><li>setosa</li><li>setosa</li><li>setosa</li><li>setosa</li><li>setosa</li><li>setosa</li><li>setosa</li><li>setosa</li><li>setosa</li><li>setosa</li><li>setosa</li><li>setosa</li><li>setosa</li><li>setosa</li><li>setosa</li><li>setosa</li><li>setosa</li><li>setosa</li><li>setosa</li><li>setosa</li><li>setosa</li><li>setosa</li><li>setosa</li><li>setosa</li><li>setosa</li><li>setosa</li><li>setosa</li><li>setosa</li><li>setosa</li><li>versicolor</li><li>versicolor</li><li>versicolor</li><li>versicolor</li><li>versicolor</li><li>versicolor</li><li>versicolor</li><li>versicolor</li><li>versicolor</li><li>versicolor</li><li>versicolor</li><li>versicolor</li><li>versicolor</li><li>versicolor</li><li>versicolor</li><li>versicolor</li><li>versicolor</li><li>versicolor</li><li>versicolor</li><li>versicolor</li><li>versicolor</li><li>versicolor</li><li>versicolor</li><li>versicolor</li><li>versicolor</li><li>versicolor</li><li>versicolor</li><li>versicolor</li><li>versicolor</li><li>versicolor</li><li>versicolor</li><li>versicolor</li><li>versicolor</li><li>versicolor</li><li>versicolor</li><li>versicolor</li><li>versicolor</li><li>versicolor</li><li>versicolor</li><li>versicolor</li><li>versicolor</li><li>versicolor</li><li>versicolor</li><li>versicolor</li><li>versicolor</li><li>versicolor</li><li>versicolor</li><li>versicolor</li><li>versicolor</li><li>versicolor</li><li>virginica</li><li>virginica</li><li>virginica</li><li>virginica</li><li>virginica</li><li>virginica</li><li>virginica</li><li>virginica</li><li>virginica</li><li>virginica</li><li>virginica</li><li>virginica</li><li>virginica</li><li>virginica</li><li>virginica</li><li>virginica</li><li>virginica</li><li>virginica</li><li>virginica</li><li>virginica</li><li>virginica</li><li>virginica</li><li>virginica</li><li>virginica</li><li>virginica</li><li>virginica</li><li>virginica</li><li>virginica</li><li>virginica</li><li>virginica</li><li>virginica</li><li>virginica</li><li>virginica</li><li>virginica</li><li>virginica</li><li>virginica</li><li>virginica</li><li>virginica</li><li>virginica</li><li>virginica</li><li>virginica</li><li>virginica</li><li>virginica</li><li>virginica</li><li>virginica</li><li>virginica</li><li>virginica</li><li>virginica</li><li>virginica</li><li>virginica</li></ol>\n",
       "\n",
       "<details>\n",
       "\t<summary style=display:list-item;cursor:pointer>\n",
       "\t\t<strong>Levels</strong>:\n",
       "\t</summary>\n",
       "\t<style>\n",
       "\t.list-inline {list-style: none; margin:0; padding: 0}\n",
       "\t.list-inline>li {display: inline-block}\n",
       "\t.list-inline>li:not(:last-child)::after {content: \"\\00b7\"; padding: 0 .5ex}\n",
       "\t</style>\n",
       "\t<ol class=list-inline><li>'setosa'</li><li>'versicolor'</li><li>'virginica'</li></ol>\n",
       "</details>"
      ],
      "text/latex": [
       "\\begin{enumerate*}\n",
       "\\item setosa\n",
       "\\item setosa\n",
       "\\item setosa\n",
       "\\item setosa\n",
       "\\item setosa\n",
       "\\item setosa\n",
       "\\item setosa\n",
       "\\item setosa\n",
       "\\item setosa\n",
       "\\item setosa\n",
       "\\item setosa\n",
       "\\item setosa\n",
       "\\item setosa\n",
       "\\item setosa\n",
       "\\item setosa\n",
       "\\item setosa\n",
       "\\item setosa\n",
       "\\item setosa\n",
       "\\item setosa\n",
       "\\item setosa\n",
       "\\item setosa\n",
       "\\item setosa\n",
       "\\item setosa\n",
       "\\item setosa\n",
       "\\item setosa\n",
       "\\item setosa\n",
       "\\item setosa\n",
       "\\item setosa\n",
       "\\item setosa\n",
       "\\item setosa\n",
       "\\item setosa\n",
       "\\item setosa\n",
       "\\item setosa\n",
       "\\item setosa\n",
       "\\item setosa\n",
       "\\item setosa\n",
       "\\item setosa\n",
       "\\item setosa\n",
       "\\item setosa\n",
       "\\item setosa\n",
       "\\item setosa\n",
       "\\item setosa\n",
       "\\item setosa\n",
       "\\item setosa\n",
       "\\item setosa\n",
       "\\item setosa\n",
       "\\item setosa\n",
       "\\item setosa\n",
       "\\item setosa\n",
       "\\item setosa\n",
       "\\item versicolor\n",
       "\\item versicolor\n",
       "\\item versicolor\n",
       "\\item versicolor\n",
       "\\item versicolor\n",
       "\\item versicolor\n",
       "\\item versicolor\n",
       "\\item versicolor\n",
       "\\item versicolor\n",
       "\\item versicolor\n",
       "\\item versicolor\n",
       "\\item versicolor\n",
       "\\item versicolor\n",
       "\\item versicolor\n",
       "\\item versicolor\n",
       "\\item versicolor\n",
       "\\item versicolor\n",
       "\\item versicolor\n",
       "\\item versicolor\n",
       "\\item versicolor\n",
       "\\item versicolor\n",
       "\\item versicolor\n",
       "\\item versicolor\n",
       "\\item versicolor\n",
       "\\item versicolor\n",
       "\\item versicolor\n",
       "\\item versicolor\n",
       "\\item versicolor\n",
       "\\item versicolor\n",
       "\\item versicolor\n",
       "\\item versicolor\n",
       "\\item versicolor\n",
       "\\item versicolor\n",
       "\\item versicolor\n",
       "\\item versicolor\n",
       "\\item versicolor\n",
       "\\item versicolor\n",
       "\\item versicolor\n",
       "\\item versicolor\n",
       "\\item versicolor\n",
       "\\item versicolor\n",
       "\\item versicolor\n",
       "\\item versicolor\n",
       "\\item versicolor\n",
       "\\item versicolor\n",
       "\\item versicolor\n",
       "\\item versicolor\n",
       "\\item versicolor\n",
       "\\item versicolor\n",
       "\\item versicolor\n",
       "\\item virginica\n",
       "\\item virginica\n",
       "\\item virginica\n",
       "\\item virginica\n",
       "\\item virginica\n",
       "\\item virginica\n",
       "\\item virginica\n",
       "\\item virginica\n",
       "\\item virginica\n",
       "\\item virginica\n",
       "\\item virginica\n",
       "\\item virginica\n",
       "\\item virginica\n",
       "\\item virginica\n",
       "\\item virginica\n",
       "\\item virginica\n",
       "\\item virginica\n",
       "\\item virginica\n",
       "\\item virginica\n",
       "\\item virginica\n",
       "\\item virginica\n",
       "\\item virginica\n",
       "\\item virginica\n",
       "\\item virginica\n",
       "\\item virginica\n",
       "\\item virginica\n",
       "\\item virginica\n",
       "\\item virginica\n",
       "\\item virginica\n",
       "\\item virginica\n",
       "\\item virginica\n",
       "\\item virginica\n",
       "\\item virginica\n",
       "\\item virginica\n",
       "\\item virginica\n",
       "\\item virginica\n",
       "\\item virginica\n",
       "\\item virginica\n",
       "\\item virginica\n",
       "\\item virginica\n",
       "\\item virginica\n",
       "\\item virginica\n",
       "\\item virginica\n",
       "\\item virginica\n",
       "\\item virginica\n",
       "\\item virginica\n",
       "\\item virginica\n",
       "\\item virginica\n",
       "\\item virginica\n",
       "\\item virginica\n",
       "\\end{enumerate*}\n",
       "\n",
       "\\emph{Levels}: \\begin{enumerate*}\n",
       "\\item 'setosa'\n",
       "\\item 'versicolor'\n",
       "\\item 'virginica'\n",
       "\\end{enumerate*}\n"
      ],
      "text/markdown": [
       "1. setosa\n",
       "2. setosa\n",
       "3. setosa\n",
       "4. setosa\n",
       "5. setosa\n",
       "6. setosa\n",
       "7. setosa\n",
       "8. setosa\n",
       "9. setosa\n",
       "10. setosa\n",
       "11. setosa\n",
       "12. setosa\n",
       "13. setosa\n",
       "14. setosa\n",
       "15. setosa\n",
       "16. setosa\n",
       "17. setosa\n",
       "18. setosa\n",
       "19. setosa\n",
       "20. setosa\n",
       "21. setosa\n",
       "22. setosa\n",
       "23. setosa\n",
       "24. setosa\n",
       "25. setosa\n",
       "26. setosa\n",
       "27. setosa\n",
       "28. setosa\n",
       "29. setosa\n",
       "30. setosa\n",
       "31. setosa\n",
       "32. setosa\n",
       "33. setosa\n",
       "34. setosa\n",
       "35. setosa\n",
       "36. setosa\n",
       "37. setosa\n",
       "38. setosa\n",
       "39. setosa\n",
       "40. setosa\n",
       "41. setosa\n",
       "42. setosa\n",
       "43. setosa\n",
       "44. setosa\n",
       "45. setosa\n",
       "46. setosa\n",
       "47. setosa\n",
       "48. setosa\n",
       "49. setosa\n",
       "50. setosa\n",
       "51. versicolor\n",
       "52. versicolor\n",
       "53. versicolor\n",
       "54. versicolor\n",
       "55. versicolor\n",
       "56. versicolor\n",
       "57. versicolor\n",
       "58. versicolor\n",
       "59. versicolor\n",
       "60. versicolor\n",
       "61. versicolor\n",
       "62. versicolor\n",
       "63. versicolor\n",
       "64. versicolor\n",
       "65. versicolor\n",
       "66. versicolor\n",
       "67. versicolor\n",
       "68. versicolor\n",
       "69. versicolor\n",
       "70. versicolor\n",
       "71. versicolor\n",
       "72. versicolor\n",
       "73. versicolor\n",
       "74. versicolor\n",
       "75. versicolor\n",
       "76. versicolor\n",
       "77. versicolor\n",
       "78. versicolor\n",
       "79. versicolor\n",
       "80. versicolor\n",
       "81. versicolor\n",
       "82. versicolor\n",
       "83. versicolor\n",
       "84. versicolor\n",
       "85. versicolor\n",
       "86. versicolor\n",
       "87. versicolor\n",
       "88. versicolor\n",
       "89. versicolor\n",
       "90. versicolor\n",
       "91. versicolor\n",
       "92. versicolor\n",
       "93. versicolor\n",
       "94. versicolor\n",
       "95. versicolor\n",
       "96. versicolor\n",
       "97. versicolor\n",
       "98. versicolor\n",
       "99. versicolor\n",
       "100. versicolor\n",
       "101. virginica\n",
       "102. virginica\n",
       "103. virginica\n",
       "104. virginica\n",
       "105. virginica\n",
       "106. virginica\n",
       "107. virginica\n",
       "108. virginica\n",
       "109. virginica\n",
       "110. virginica\n",
       "111. virginica\n",
       "112. virginica\n",
       "113. virginica\n",
       "114. virginica\n",
       "115. virginica\n",
       "116. virginica\n",
       "117. virginica\n",
       "118. virginica\n",
       "119. virginica\n",
       "120. virginica\n",
       "121. virginica\n",
       "122. virginica\n",
       "123. virginica\n",
       "124. virginica\n",
       "125. virginica\n",
       "126. virginica\n",
       "127. virginica\n",
       "128. virginica\n",
       "129. virginica\n",
       "130. virginica\n",
       "131. virginica\n",
       "132. virginica\n",
       "133. virginica\n",
       "134. virginica\n",
       "135. virginica\n",
       "136. virginica\n",
       "137. virginica\n",
       "138. virginica\n",
       "139. virginica\n",
       "140. virginica\n",
       "141. virginica\n",
       "142. virginica\n",
       "143. virginica\n",
       "144. virginica\n",
       "145. virginica\n",
       "146. virginica\n",
       "147. virginica\n",
       "148. virginica\n",
       "149. virginica\n",
       "150. virginica\n",
       "\n",
       "\n",
       "\n",
       "**Levels**: 1. 'setosa'\n",
       "2. 'versicolor'\n",
       "3. 'virginica'\n",
       "\n",
       "\n"
      ],
      "text/plain": [
       "  [1] setosa     setosa     setosa     setosa     setosa     setosa    \n",
       "  [7] setosa     setosa     setosa     setosa     setosa     setosa    \n",
       " [13] setosa     setosa     setosa     setosa     setosa     setosa    \n",
       " [19] setosa     setosa     setosa     setosa     setosa     setosa    \n",
       " [25] setosa     setosa     setosa     setosa     setosa     setosa    \n",
       " [31] setosa     setosa     setosa     setosa     setosa     setosa    \n",
       " [37] setosa     setosa     setosa     setosa     setosa     setosa    \n",
       " [43] setosa     setosa     setosa     setosa     setosa     setosa    \n",
       " [49] setosa     setosa     versicolor versicolor versicolor versicolor\n",
       " [55] versicolor versicolor versicolor versicolor versicolor versicolor\n",
       " [61] versicolor versicolor versicolor versicolor versicolor versicolor\n",
       " [67] versicolor versicolor versicolor versicolor versicolor versicolor\n",
       " [73] versicolor versicolor versicolor versicolor versicolor versicolor\n",
       " [79] versicolor versicolor versicolor versicolor versicolor versicolor\n",
       " [85] versicolor versicolor versicolor versicolor versicolor versicolor\n",
       " [91] versicolor versicolor versicolor versicolor versicolor versicolor\n",
       " [97] versicolor versicolor versicolor versicolor virginica  virginica \n",
       "[103] virginica  virginica  virginica  virginica  virginica  virginica \n",
       "[109] virginica  virginica  virginica  virginica  virginica  virginica \n",
       "[115] virginica  virginica  virginica  virginica  virginica  virginica \n",
       "[121] virginica  virginica  virginica  virginica  virginica  virginica \n",
       "[127] virginica  virginica  virginica  virginica  virginica  virginica \n",
       "[133] virginica  virginica  virginica  virginica  virginica  virginica \n",
       "[139] virginica  virginica  virginica  virginica  virginica  virginica \n",
       "[145] virginica  virginica  virginica  virginica  virginica  virginica \n",
       "Levels: setosa versicolor virginica"
      ]
     },
     "metadata": {},
     "output_type": "display_data"
    }
   ],
   "source": [
    "iris_tibble$Species"
   ]
  },
  {
   "cell_type": "code",
   "execution_count": 95,
   "id": "aaf7f6b3",
   "metadata": {
    "vscode": {
     "languageId": "r"
    }
   },
   "outputs": [
    {
     "data": {
      "text/plain": [
       "\n",
       "  Africa Americas     Asia   Europe  Oceania \n",
       "     624      300      396      360       24 "
      ]
     },
     "metadata": {},
     "output_type": "display_data"
    }
   ],
   "source": [
    "table(gapminder$continent)"
   ]
  },
  {
   "cell_type": "code",
   "execution_count": 96,
   "id": "8075bf36",
   "metadata": {
    "vscode": {
     "languageId": "r"
    }
   },
   "outputs": [
    {
     "data": {
      "image/png": "[encoded data removed]",
      "text/plain": [
       "plot without title"
      ]
     },
     "metadata": {
      "image/png": {
       "height": 420,
       "width": 420
      }
     },
     "output_type": "display_data"
    }
   ],
   "source": [
    "barplot(table(gapminder$continent))"
   ]
  },
  {
   "cell_type": "code",
   "execution_count": null,
   "id": "242ba3c3",
   "metadata": {
    "vscode": {
     "languageId": "r"
    }
   },
   "outputs": [],
   "source": []
  }
 ],
 "metadata": {
  "kernelspec": {
   "display_name": "R",
   "language": "R",
   "name": "ir"
  },
  "language_info": {
   "codemirror_mode": "r",
   "file_extension": ".r",
   "mimetype": "text/x-r-source",
   "name": "R",
   "pygments_lexer": "r",
   "version": "4.5.1"
  }
 },
 "nbformat": 4,
 "nbformat_minor": 5
}
