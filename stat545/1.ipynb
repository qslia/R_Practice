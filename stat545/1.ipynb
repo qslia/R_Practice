{
 "cells": [
  {
   "cell_type": "code",
   "execution_count": 11,
   "id": "a13af672",
   "metadata": {
    "vscode": {
     "languageId": "r"
    }
   },
   "outputs": [],
   "source": [
    "jenny_rocks <- 2 ^ 3"
   ]
  },
  {
   "cell_type": "code",
   "execution_count": 12,
   "id": "90727f73",
   "metadata": {
    "vscode": {
     "languageId": "r"
    }
   },
   "outputs": [
    {
     "data": {
      "text/html": [
       "8"
      ],
      "text/latex": [
       "8"
      ],
      "text/markdown": [
       "8"
      ],
      "text/plain": [
       "[1] 8"
      ]
     },
     "metadata": {},
     "output_type": "display_data"
    }
   ],
   "source": [
    "jenny_rocks"
   ]
  },
  {
   "cell_type": "code",
   "execution_count": 4,
   "id": "0831fe80",
   "metadata": {
    "vscode": {
     "languageId": "r"
    }
   },
   "outputs": [
    {
     "data": {
      "text/html": [
       "<style>\n",
       ".list-inline {list-style: none; margin:0; padding: 0}\n",
       ".list-inline>li {display: inline-block}\n",
       ".list-inline>li:not(:last-child)::after {content: \"\\00b7\"; padding: 0 .5ex}\n",
       "</style>\n",
       "<ol class=list-inline><li>1</li><li>2</li><li>3</li><li>4</li><li>5</li><li>6</li><li>7</li><li>8</li><li>9</li><li>10</li></ol>\n"
      ],
      "text/latex": [
       "\\begin{enumerate*}\n",
       "\\item 1\n",
       "\\item 2\n",
       "\\item 3\n",
       "\\item 4\n",
       "\\item 5\n",
       "\\item 6\n",
       "\\item 7\n",
       "\\item 8\n",
       "\\item 9\n",
       "\\item 10\n",
       "\\end{enumerate*}\n"
      ],
      "text/markdown": [
       "1. 1\n",
       "2. 2\n",
       "3. 3\n",
       "4. 4\n",
       "5. 5\n",
       "6. 6\n",
       "7. 7\n",
       "8. 8\n",
       "9. 9\n",
       "10. 10\n",
       "\n",
       "\n"
      ],
      "text/plain": [
       " [1]  1  2  3  4  5  6  7  8  9 10"
      ]
     },
     "metadata": {},
     "output_type": "display_data"
    }
   ],
   "source": [
    "seq(1, 10)"
   ]
  },
  {
   "cell_type": "code",
   "execution_count": 8,
   "id": "69ddd388",
   "metadata": {
    "vscode": {
     "languageId": "r"
    }
   },
   "outputs": [
    {
     "data": {
      "text/html": [],
      "text/latex": [],
      "text/markdown": [],
      "text/plain": [
       "character(0)"
      ]
     },
     "metadata": {},
     "output_type": "display_data"
    }
   ],
   "source": [
    "objects()"
   ]
  },
  {
   "cell_type": "code",
   "execution_count": 9,
   "id": "d81abb78",
   "metadata": {
    "vscode": {
     "languageId": "r"
    }
   },
   "outputs": [
    {
     "data": {
      "text/html": [],
      "text/latex": [],
      "text/markdown": [],
      "text/plain": [
       "character(0)"
      ]
     },
     "metadata": {},
     "output_type": "display_data"
    }
   ],
   "source": [
    "ls()"
   ]
  },
  {
   "cell_type": "code",
   "execution_count": 10,
   "id": "4db3df98",
   "metadata": {
    "vscode": {
     "languageId": "r"
    }
   },
   "outputs": [],
   "source": [
    "rm(list = ls())"
   ]
  },
  {
   "cell_type": "code",
   "execution_count": 20,
   "id": "46c483b0",
   "metadata": {
    "vscode": {
     "languageId": "r"
    }
   },
   "outputs": [
    {
     "data": {
      "text/html": [
       "<style>\n",
       ".list-inline {list-style: none; margin:0; padding: 0}\n",
       ".list-inline>li {display: inline-block}\n",
       ".list-inline>li:not(:last-child)::after {content: \"\\00b7\"; padding: 0 .5ex}\n",
       "</style>\n",
       "<ol class=list-inline><li>0.379492704058066</li><li>0.398623108863831</li><li>0.81385896471329</li><li>0.677988487528637</li><li>0.855379291810095</li><li>0.696694916114211</li><li>0.789375323336571</li><li>0.883021061774343</li><li>0.582112580304965</li><li>0.919481491204351</li><li>0.616928865201771</li><li>0.0530579329933971</li><li>0.83653098391369</li><li>0.25935956207104</li><li>0.239384752465412</li><li>0.729174794163555</li><li>0.77374989609234</li><li>0.687134897336364</li><li>0.42969469865784</li><li>0.948065945180133</li><li>0.0183448744937778</li><li>0.201945926761255</li><li>0.0642183558084071</li><li>0.0152778045739979</li><li>0.112411238253117</li><li>0.772790031973273</li><li>0.997053359635174</li><li>0.399995181942359</li><li>0.914572314592078</li><li>0.201219763141125</li><li>0.394477958325297</li><li>0.0623031561262906</li><li>0.406043744878843</li><li>0.223166902316734</li><li>0.599753258284181</li><li>0.128353228094056</li><li>0.998753213323653</li><li>0.498308636946604</li><li>0.322600737214088</li><li>0.625029793009162</li></ol>\n"
      ],
      "text/latex": [
       "\\begin{enumerate*}\n",
       "\\item 0.379492704058066\n",
       "\\item 0.398623108863831\n",
       "\\item 0.81385896471329\n",
       "\\item 0.677988487528637\n",
       "\\item 0.855379291810095\n",
       "\\item 0.696694916114211\n",
       "\\item 0.789375323336571\n",
       "\\item 0.883021061774343\n",
       "\\item 0.582112580304965\n",
       "\\item 0.919481491204351\n",
       "\\item 0.616928865201771\n",
       "\\item 0.0530579329933971\n",
       "\\item 0.83653098391369\n",
       "\\item 0.25935956207104\n",
       "\\item 0.239384752465412\n",
       "\\item 0.729174794163555\n",
       "\\item 0.77374989609234\n",
       "\\item 0.687134897336364\n",
       "\\item 0.42969469865784\n",
       "\\item 0.948065945180133\n",
       "\\item 0.0183448744937778\n",
       "\\item 0.201945926761255\n",
       "\\item 0.0642183558084071\n",
       "\\item 0.0152778045739979\n",
       "\\item 0.112411238253117\n",
       "\\item 0.772790031973273\n",
       "\\item 0.997053359635174\n",
       "\\item 0.399995181942359\n",
       "\\item 0.914572314592078\n",
       "\\item 0.201219763141125\n",
       "\\item 0.394477958325297\n",
       "\\item 0.0623031561262906\n",
       "\\item 0.406043744878843\n",
       "\\item 0.223166902316734\n",
       "\\item 0.599753258284181\n",
       "\\item 0.128353228094056\n",
       "\\item 0.998753213323653\n",
       "\\item 0.498308636946604\n",
       "\\item 0.322600737214088\n",
       "\\item 0.625029793009162\n",
       "\\end{enumerate*}\n"
      ],
      "text/markdown": [
       "1. 0.379492704058066\n",
       "2. 0.398623108863831\n",
       "3. 0.81385896471329\n",
       "4. 0.677988487528637\n",
       "5. 0.855379291810095\n",
       "6. 0.696694916114211\n",
       "7. 0.789375323336571\n",
       "8. 0.883021061774343\n",
       "9. 0.582112580304965\n",
       "10. 0.919481491204351\n",
       "11. 0.616928865201771\n",
       "12. 0.0530579329933971\n",
       "13. 0.83653098391369\n",
       "14. 0.25935956207104\n",
       "15. 0.239384752465412\n",
       "16. 0.729174794163555\n",
       "17. 0.77374989609234\n",
       "18. 0.687134897336364\n",
       "19. 0.42969469865784\n",
       "20. 0.948065945180133\n",
       "21. 0.0183448744937778\n",
       "22. 0.201945926761255\n",
       "23. 0.0642183558084071\n",
       "24. 0.0152778045739979\n",
       "25. 0.112411238253117\n",
       "26. 0.772790031973273\n",
       "27. 0.997053359635174\n",
       "28. 0.399995181942359\n",
       "29. 0.914572314592078\n",
       "30. 0.201219763141125\n",
       "31. 0.394477958325297\n",
       "32. 0.0623031561262906\n",
       "33. 0.406043744878843\n",
       "34. 0.223166902316734\n",
       "35. 0.599753258284181\n",
       "36. 0.128353228094056\n",
       "37. 0.998753213323653\n",
       "38. 0.498308636946604\n",
       "39. 0.322600737214088\n",
       "40. 0.625029793009162\n",
       "\n",
       "\n"
      ],
      "text/plain": [
       " [1] 0.37949270 0.39862311 0.81385896 0.67798849 0.85537929 0.69669492\n",
       " [7] 0.78937532 0.88302106 0.58211258 0.91948149 0.61692887 0.05305793\n",
       "[13] 0.83653098 0.25935956 0.23938475 0.72917479 0.77374990 0.68713490\n",
       "[19] 0.42969470 0.94806595 0.01834487 0.20194593 0.06421836 0.01527780\n",
       "[25] 0.11241124 0.77279003 0.99705336 0.39999518 0.91457231 0.20121976\n",
       "[31] 0.39447796 0.06230316 0.40604374 0.22316690 0.59975326 0.12835323\n",
       "[37] 0.99875321 0.49830864 0.32260074 0.62502979"
      ]
     },
     "metadata": {},
     "output_type": "display_data"
    }
   ],
   "source": [
    "a <- 2\n",
    "b <- -3\n",
    "sig_sq <- 0.5\n",
    "x <- runif(40)\n",
    "x"
   ]
  },
  {
   "cell_type": "code",
   "execution_count": 21,
   "id": "03d25792",
   "metadata": {
    "vscode": {
     "languageId": "r"
    }
   },
   "outputs": [
    {
     "data": {
      "text/html": [
       "0.513143243436934"
      ],
      "text/latex": [
       "0.513143243436934"
      ],
      "text/markdown": [
       "0.513143243436934"
      ],
      "text/plain": [
       "[1] 0.5131432"
      ]
     },
     "metadata": {},
     "output_type": "display_data"
    }
   ],
   "source": [
    "avg_x <- mean(x)\n",
    "avg_x"
   ]
  },
  {
   "cell_type": "code",
   "execution_count": 22,
   "id": "29ae108e",
   "metadata": {
    "vscode": {
     "languageId": "r"
    }
   },
   "outputs": [
    {
     "data": {
      "image/png": "[encoded data removed]",
      "text/plain": [
       "plot without title"
      ]
     },
     "metadata": {
      "image/png": {
       "height": 420,
       "width": 420
      }
     },
     "output_type": "display_data"
    }
   ],
   "source": [
    "y <- a + b * x + rnorm(40, sd = sqrt(sig_sq))\n",
    "plot(x, y)\n",
    "abline(a, b, col = \"purple\")"
   ]
  },
  {
   "cell_type": "code",
   "execution_count": 23,
   "id": "7f5066dd",
   "metadata": {
    "vscode": {
     "languageId": "r"
    }
   },
   "outputs": [
    {
     "name": "stderr",
     "output_type": "stream",
     "text": [
      "Installing package into 'C:/Users/qslia/AppData/Local/R/win-library/4.5'\n",
      "(as 'lib' is unspecified)\n",
      "\n"
     ]
    },
    {
     "name": "stdout",
     "output_type": "stream",
     "text": [
      "package 'gapminder' successfully unpacked and MD5 sums checked\n",
      "\n",
      "The downloaded binary packages are in\n",
      "\tC:\\Users\\qslia\\AppData\\Local\\Temp\\Rtmpk1zcWg\\downloaded_packages\n"
     ]
    }
   ],
   "source": [
    "install.packages(\"gapminder\")"
   ]
  },
  {
   "cell_type": "code",
   "execution_count": 24,
   "id": "fd3b05ba",
   "metadata": {
    "vscode": {
     "languageId": "r"
    }
   },
   "outputs": [],
   "source": [
    "library(gapminder)"
   ]
  },
  {
   "cell_type": "code",
   "execution_count": 25,
   "id": "5014a2a4",
   "metadata": {
    "vscode": {
     "languageId": "r"
    }
   },
   "outputs": [
    {
     "name": "stdout",
     "output_type": "stream",
     "text": [
      "tibble [1,704 × 6] (S3: tbl_df/tbl/data.frame)\n",
      " $ country  : Factor w/ 142 levels \"Afghanistan\",..: 1 1 1 1 1 1 1 1 1 1 ...\n",
      " $ continent: Factor w/ 5 levels \"Africa\",\"Americas\",..: 3 3 3 3 3 3 3 3 3 3 ...\n",
      " $ year     : int [1:1704] 1952 1957 1962 1967 1972 1977 1982 1987 1992 1997 ...\n",
      " $ lifeExp  : num [1:1704] 28.8 30.3 32 34 36.1 ...\n",
      " $ pop      : int [1:1704] 8425333 9240934 10267083 11537966 13079460 14880372 12881816 13867957 16317921 22227415 ...\n",
      " $ gdpPercap: num [1:1704] 779 821 853 836 740 ...\n"
     ]
    }
   ],
   "source": [
    "str(gapminder)"
   ]
  },
  {
   "cell_type": "code",
   "execution_count": 26,
   "id": "95c28ddd",
   "metadata": {
    "vscode": {
     "languageId": "r"
    }
   },
   "outputs": [
    {
     "name": "stderr",
     "output_type": "stream",
     "text": [
      "Installing package into 'C:/Users/qslia/AppData/Local/R/win-library/4.5'\n",
      "(as 'lib' is unspecified)\n",
      "\n"
     ]
    },
    {
     "name": "stdout",
     "output_type": "stream",
     "text": [
      "package 'tidyverse' successfully unpacked and MD5 sums checked\n",
      "\n",
      "The downloaded binary packages are in\n",
      "\tC:\\Users\\qslia\\AppData\\Local\\Temp\\Rtmpk1zcWg\\downloaded_packages\n"
     ]
    }
   ],
   "source": [
    "install.packages(\"tidyverse\")"
   ]
  },
  {
   "cell_type": "code",
   "execution_count": 27,
   "id": "f4929fbb",
   "metadata": {
    "vscode": {
     "languageId": "r"
    }
   },
   "outputs": [
    {
     "name": "stderr",
     "output_type": "stream",
     "text": [
      "── \u001b[1mAttaching core tidyverse packages\u001b[22m ──────────────────────── tidyverse 2.0.0 ──\n",
      "\u001b[32m✔\u001b[39m \u001b[34mdplyr    \u001b[39m 1.1.4     \u001b[32m✔\u001b[39m \u001b[34mreadr    \u001b[39m 2.1.5\n",
      "\u001b[32m✔\u001b[39m \u001b[34mforcats  \u001b[39m 1.0.0     \u001b[32m✔\u001b[39m \u001b[34mstringr  \u001b[39m 1.5.1\n",
      "\u001b[32m✔\u001b[39m \u001b[34mggplot2  \u001b[39m 3.5.2     \u001b[32m✔\u001b[39m \u001b[34mtibble   \u001b[39m 3.3.0\n",
      "\u001b[32m✔\u001b[39m \u001b[34mlubridate\u001b[39m 1.9.4     \u001b[32m✔\u001b[39m \u001b[34mtidyr    \u001b[39m 1.3.1\n",
      "\u001b[32m✔\u001b[39m \u001b[34mpurrr    \u001b[39m 1.1.0     \n",
      "── \u001b[1mConflicts\u001b[22m ────────────────────────────────────────── tidyverse_conflicts() ──\n",
      "\u001b[31m✖\u001b[39m \u001b[34mdplyr\u001b[39m::\u001b[32mfilter()\u001b[39m masks \u001b[34mstats\u001b[39m::filter()\n",
      "\u001b[31m✖\u001b[39m \u001b[34mdplyr\u001b[39m::\u001b[32mlag()\u001b[39m    masks \u001b[34mstats\u001b[39m::lag()\n",
      "\u001b[36mℹ\u001b[39m Use the conflicted package (\u001b[3m\u001b[34m<http://conflicted.r-lib.org/>\u001b[39m\u001b[23m) to force all conflicts to become errors\n"
     ]
    }
   ],
   "source": [
    "library(tidyverse)"
   ]
  },
  {
   "cell_type": "code",
   "execution_count": 28,
   "id": "131766a0",
   "metadata": {
    "vscode": {
     "languageId": "r"
    }
   },
   "outputs": [
    {
     "data": {
      "text/html": [
       "<style>\n",
       ".list-inline {list-style: none; margin:0; padding: 0}\n",
       ".list-inline>li {display: inline-block}\n",
       ".list-inline>li:not(:last-child)::after {content: \"\\00b7\"; padding: 0 .5ex}\n",
       "</style>\n",
       "<ol class=list-inline><li>'tbl_df'</li><li>'tbl'</li><li>'data.frame'</li></ol>\n"
      ],
      "text/latex": [
       "\\begin{enumerate*}\n",
       "\\item 'tbl\\_df'\n",
       "\\item 'tbl'\n",
       "\\item 'data.frame'\n",
       "\\end{enumerate*}\n"
      ],
      "text/markdown": [
       "1. 'tbl_df'\n",
       "2. 'tbl'\n",
       "3. 'data.frame'\n",
       "\n",
       "\n"
      ],
      "text/plain": [
       "[1] \"tbl_df\"     \"tbl\"        \"data.frame\""
      ]
     },
     "metadata": {},
     "output_type": "display_data"
    }
   ],
   "source": [
    "class(gapminder)"
   ]
  },
  {
   "cell_type": "code",
   "execution_count": 29,
   "id": "cf0facb0",
   "metadata": {
    "vscode": {
     "languageId": "r"
    }
   },
   "outputs": [
    {
     "data": {
      "text/html": [
       "<table class=\"dataframe\">\n",
       "<caption>A tibble: 1704 × 6</caption>\n",
       "<thead>\n",
       "\t<tr><th scope=col>country</th><th scope=col>continent</th><th scope=col>year</th><th scope=col>lifeExp</th><th scope=col>pop</th><th scope=col>gdpPercap</th></tr>\n",
       "\t<tr><th scope=col>&lt;fct&gt;</th><th scope=col>&lt;fct&gt;</th><th scope=col>&lt;int&gt;</th><th scope=col>&lt;dbl&gt;</th><th scope=col>&lt;int&gt;</th><th scope=col>&lt;dbl&gt;</th></tr>\n",
       "</thead>\n",
       "<tbody>\n",
       "\t<tr><td>Afghanistan</td><td>Asia  </td><td>1952</td><td>28.801</td><td> 8425333</td><td> 779.4453</td></tr>\n",
       "\t<tr><td>Afghanistan</td><td>Asia  </td><td>1957</td><td>30.332</td><td> 9240934</td><td> 820.8530</td></tr>\n",
       "\t<tr><td>Afghanistan</td><td>Asia  </td><td>1962</td><td>31.997</td><td>10267083</td><td> 853.1007</td></tr>\n",
       "\t<tr><td>Afghanistan</td><td>Asia  </td><td>1967</td><td>34.020</td><td>11537966</td><td> 836.1971</td></tr>\n",
       "\t<tr><td>Afghanistan</td><td>Asia  </td><td>1972</td><td>36.088</td><td>13079460</td><td> 739.9811</td></tr>\n",
       "\t<tr><td>Afghanistan</td><td>Asia  </td><td>1977</td><td>38.438</td><td>14880372</td><td> 786.1134</td></tr>\n",
       "\t<tr><td>Afghanistan</td><td>Asia  </td><td>1982</td><td>39.854</td><td>12881816</td><td> 978.0114</td></tr>\n",
       "\t<tr><td>Afghanistan</td><td>Asia  </td><td>1987</td><td>40.822</td><td>13867957</td><td> 852.3959</td></tr>\n",
       "\t<tr><td>Afghanistan</td><td>Asia  </td><td>1992</td><td>41.674</td><td>16317921</td><td> 649.3414</td></tr>\n",
       "\t<tr><td>Afghanistan</td><td>Asia  </td><td>1997</td><td>41.763</td><td>22227415</td><td> 635.3414</td></tr>\n",
       "\t<tr><td>Afghanistan</td><td>Asia  </td><td>2002</td><td>42.129</td><td>25268405</td><td> 726.7341</td></tr>\n",
       "\t<tr><td>Afghanistan</td><td>Asia  </td><td>2007</td><td>43.828</td><td>31889923</td><td> 974.5803</td></tr>\n",
       "\t<tr><td>Albania    </td><td>Europe</td><td>1952</td><td>55.230</td><td> 1282697</td><td>1601.0561</td></tr>\n",
       "\t<tr><td>Albania    </td><td>Europe</td><td>1957</td><td>59.280</td><td> 1476505</td><td>1942.2842</td></tr>\n",
       "\t<tr><td>Albania    </td><td>Europe</td><td>1962</td><td>64.820</td><td> 1728137</td><td>2312.8890</td></tr>\n",
       "\t<tr><td>Albania    </td><td>Europe</td><td>1967</td><td>66.220</td><td> 1984060</td><td>2760.1969</td></tr>\n",
       "\t<tr><td>Albania    </td><td>Europe</td><td>1972</td><td>67.690</td><td> 2263554</td><td>3313.4222</td></tr>\n",
       "\t<tr><td>Albania    </td><td>Europe</td><td>1977</td><td>68.930</td><td> 2509048</td><td>3533.0039</td></tr>\n",
       "\t<tr><td>Albania    </td><td>Europe</td><td>1982</td><td>70.420</td><td> 2780097</td><td>3630.8807</td></tr>\n",
       "\t<tr><td>Albania    </td><td>Europe</td><td>1987</td><td>72.000</td><td> 3075321</td><td>3738.9327</td></tr>\n",
       "\t<tr><td>Albania    </td><td>Europe</td><td>1992</td><td>71.581</td><td> 3326498</td><td>2497.4379</td></tr>\n",
       "\t<tr><td>Albania    </td><td>Europe</td><td>1997</td><td>72.950</td><td> 3428038</td><td>3193.0546</td></tr>\n",
       "\t<tr><td>Albania    </td><td>Europe</td><td>2002</td><td>75.651</td><td> 3508512</td><td>4604.2117</td></tr>\n",
       "\t<tr><td>Albania    </td><td>Europe</td><td>2007</td><td>76.423</td><td> 3600523</td><td>5937.0295</td></tr>\n",
       "\t<tr><td>Algeria    </td><td>Africa</td><td>1952</td><td>43.077</td><td> 9279525</td><td>2449.0082</td></tr>\n",
       "\t<tr><td>Algeria    </td><td>Africa</td><td>1957</td><td>45.685</td><td>10270856</td><td>3013.9760</td></tr>\n",
       "\t<tr><td>Algeria    </td><td>Africa</td><td>1962</td><td>48.303</td><td>11000948</td><td>2550.8169</td></tr>\n",
       "\t<tr><td>Algeria    </td><td>Africa</td><td>1967</td><td>51.407</td><td>12760499</td><td>3246.9918</td></tr>\n",
       "\t<tr><td>Algeria    </td><td>Africa</td><td>1972</td><td>54.518</td><td>14760787</td><td>4182.6638</td></tr>\n",
       "\t<tr><td>Algeria    </td><td>Africa</td><td>1977</td><td>58.014</td><td>17152804</td><td>4910.4168</td></tr>\n",
       "\t<tr><td>⋮</td><td>⋮</td><td>⋮</td><td>⋮</td><td>⋮</td><td>⋮</td></tr>\n",
       "\t<tr><td>Yemen, Rep.</td><td>Asia  </td><td>1982</td><td>49.113</td><td> 9657618</td><td>1977.5570</td></tr>\n",
       "\t<tr><td>Yemen, Rep.</td><td>Asia  </td><td>1987</td><td>52.922</td><td>11219340</td><td>1971.7415</td></tr>\n",
       "\t<tr><td>Yemen, Rep.</td><td>Asia  </td><td>1992</td><td>55.599</td><td>13367997</td><td>1879.4967</td></tr>\n",
       "\t<tr><td>Yemen, Rep.</td><td>Asia  </td><td>1997</td><td>58.020</td><td>15826497</td><td>2117.4845</td></tr>\n",
       "\t<tr><td>Yemen, Rep.</td><td>Asia  </td><td>2002</td><td>60.308</td><td>18701257</td><td>2234.8208</td></tr>\n",
       "\t<tr><td>Yemen, Rep.</td><td>Asia  </td><td>2007</td><td>62.698</td><td>22211743</td><td>2280.7699</td></tr>\n",
       "\t<tr><td>Zambia     </td><td>Africa</td><td>1952</td><td>42.038</td><td> 2672000</td><td>1147.3888</td></tr>\n",
       "\t<tr><td>Zambia     </td><td>Africa</td><td>1957</td><td>44.077</td><td> 3016000</td><td>1311.9568</td></tr>\n",
       "\t<tr><td>Zambia     </td><td>Africa</td><td>1962</td><td>46.023</td><td> 3421000</td><td>1452.7258</td></tr>\n",
       "\t<tr><td>Zambia     </td><td>Africa</td><td>1967</td><td>47.768</td><td> 3900000</td><td>1777.0773</td></tr>\n",
       "\t<tr><td>Zambia     </td><td>Africa</td><td>1972</td><td>50.107</td><td> 4506497</td><td>1773.4983</td></tr>\n",
       "\t<tr><td>Zambia     </td><td>Africa</td><td>1977</td><td>51.386</td><td> 5216550</td><td>1588.6883</td></tr>\n",
       "\t<tr><td>Zambia     </td><td>Africa</td><td>1982</td><td>51.821</td><td> 6100407</td><td>1408.6786</td></tr>\n",
       "\t<tr><td>Zambia     </td><td>Africa</td><td>1987</td><td>50.821</td><td> 7272406</td><td>1213.3151</td></tr>\n",
       "\t<tr><td>Zambia     </td><td>Africa</td><td>1992</td><td>46.100</td><td> 8381163</td><td>1210.8846</td></tr>\n",
       "\t<tr><td>Zambia     </td><td>Africa</td><td>1997</td><td>40.238</td><td> 9417789</td><td>1071.3538</td></tr>\n",
       "\t<tr><td>Zambia     </td><td>Africa</td><td>2002</td><td>39.193</td><td>10595811</td><td>1071.6139</td></tr>\n",
       "\t<tr><td>Zambia     </td><td>Africa</td><td>2007</td><td>42.384</td><td>11746035</td><td>1271.2116</td></tr>\n",
       "\t<tr><td>Zimbabwe   </td><td>Africa</td><td>1952</td><td>48.451</td><td> 3080907</td><td> 406.8841</td></tr>\n",
       "\t<tr><td>Zimbabwe   </td><td>Africa</td><td>1957</td><td>50.469</td><td> 3646340</td><td> 518.7643</td></tr>\n",
       "\t<tr><td>Zimbabwe   </td><td>Africa</td><td>1962</td><td>52.358</td><td> 4277736</td><td> 527.2722</td></tr>\n",
       "\t<tr><td>Zimbabwe   </td><td>Africa</td><td>1967</td><td>53.995</td><td> 4995432</td><td> 569.7951</td></tr>\n",
       "\t<tr><td>Zimbabwe   </td><td>Africa</td><td>1972</td><td>55.635</td><td> 5861135</td><td> 799.3622</td></tr>\n",
       "\t<tr><td>Zimbabwe   </td><td>Africa</td><td>1977</td><td>57.674</td><td> 6642107</td><td> 685.5877</td></tr>\n",
       "\t<tr><td>Zimbabwe   </td><td>Africa</td><td>1982</td><td>60.363</td><td> 7636524</td><td> 788.8550</td></tr>\n",
       "\t<tr><td>Zimbabwe   </td><td>Africa</td><td>1987</td><td>62.351</td><td> 9216418</td><td> 706.1573</td></tr>\n",
       "\t<tr><td>Zimbabwe   </td><td>Africa</td><td>1992</td><td>60.377</td><td>10704340</td><td> 693.4208</td></tr>\n",
       "\t<tr><td>Zimbabwe   </td><td>Africa</td><td>1997</td><td>46.809</td><td>11404948</td><td> 792.4500</td></tr>\n",
       "\t<tr><td>Zimbabwe   </td><td>Africa</td><td>2002</td><td>39.989</td><td>11926563</td><td> 672.0386</td></tr>\n",
       "\t<tr><td>Zimbabwe   </td><td>Africa</td><td>2007</td><td>43.487</td><td>12311143</td><td> 469.7093</td></tr>\n",
       "</tbody>\n",
       "</table>\n"
      ],
      "text/latex": [
       "A tibble: 1704 × 6\n",
       "\\begin{tabular}{llllll}\n",
       " country & continent & year & lifeExp & pop & gdpPercap\\\\\n",
       " <fct> & <fct> & <int> & <dbl> & <int> & <dbl>\\\\\n",
       "\\hline\n",
       "\t Afghanistan & Asia   & 1952 & 28.801 &  8425333 &  779.4453\\\\\n",
       "\t Afghanistan & Asia   & 1957 & 30.332 &  9240934 &  820.8530\\\\\n",
       "\t Afghanistan & Asia   & 1962 & 31.997 & 10267083 &  853.1007\\\\\n",
       "\t Afghanistan & Asia   & 1967 & 34.020 & 11537966 &  836.1971\\\\\n",
       "\t Afghanistan & Asia   & 1972 & 36.088 & 13079460 &  739.9811\\\\\n",
       "\t Afghanistan & Asia   & 1977 & 38.438 & 14880372 &  786.1134\\\\\n",
       "\t Afghanistan & Asia   & 1982 & 39.854 & 12881816 &  978.0114\\\\\n",
       "\t Afghanistan & Asia   & 1987 & 40.822 & 13867957 &  852.3959\\\\\n",
       "\t Afghanistan & Asia   & 1992 & 41.674 & 16317921 &  649.3414\\\\\n",
       "\t Afghanistan & Asia   & 1997 & 41.763 & 22227415 &  635.3414\\\\\n",
       "\t Afghanistan & Asia   & 2002 & 42.129 & 25268405 &  726.7341\\\\\n",
       "\t Afghanistan & Asia   & 2007 & 43.828 & 31889923 &  974.5803\\\\\n",
       "\t Albania     & Europe & 1952 & 55.230 &  1282697 & 1601.0561\\\\\n",
       "\t Albania     & Europe & 1957 & 59.280 &  1476505 & 1942.2842\\\\\n",
       "\t Albania     & Europe & 1962 & 64.820 &  1728137 & 2312.8890\\\\\n",
       "\t Albania     & Europe & 1967 & 66.220 &  1984060 & 2760.1969\\\\\n",
       "\t Albania     & Europe & 1972 & 67.690 &  2263554 & 3313.4222\\\\\n",
       "\t Albania     & Europe & 1977 & 68.930 &  2509048 & 3533.0039\\\\\n",
       "\t Albania     & Europe & 1982 & 70.420 &  2780097 & 3630.8807\\\\\n",
       "\t Albania     & Europe & 1987 & 72.000 &  3075321 & 3738.9327\\\\\n",
       "\t Albania     & Europe & 1992 & 71.581 &  3326498 & 2497.4379\\\\\n",
       "\t Albania     & Europe & 1997 & 72.950 &  3428038 & 3193.0546\\\\\n",
       "\t Albania     & Europe & 2002 & 75.651 &  3508512 & 4604.2117\\\\\n",
       "\t Albania     & Europe & 2007 & 76.423 &  3600523 & 5937.0295\\\\\n",
       "\t Algeria     & Africa & 1952 & 43.077 &  9279525 & 2449.0082\\\\\n",
       "\t Algeria     & Africa & 1957 & 45.685 & 10270856 & 3013.9760\\\\\n",
       "\t Algeria     & Africa & 1962 & 48.303 & 11000948 & 2550.8169\\\\\n",
       "\t Algeria     & Africa & 1967 & 51.407 & 12760499 & 3246.9918\\\\\n",
       "\t Algeria     & Africa & 1972 & 54.518 & 14760787 & 4182.6638\\\\\n",
       "\t Algeria     & Africa & 1977 & 58.014 & 17152804 & 4910.4168\\\\\n",
       "\t ⋮ & ⋮ & ⋮ & ⋮ & ⋮ & ⋮\\\\\n",
       "\t Yemen, Rep. & Asia   & 1982 & 49.113 &  9657618 & 1977.5570\\\\\n",
       "\t Yemen, Rep. & Asia   & 1987 & 52.922 & 11219340 & 1971.7415\\\\\n",
       "\t Yemen, Rep. & Asia   & 1992 & 55.599 & 13367997 & 1879.4967\\\\\n",
       "\t Yemen, Rep. & Asia   & 1997 & 58.020 & 15826497 & 2117.4845\\\\\n",
       "\t Yemen, Rep. & Asia   & 2002 & 60.308 & 18701257 & 2234.8208\\\\\n",
       "\t Yemen, Rep. & Asia   & 2007 & 62.698 & 22211743 & 2280.7699\\\\\n",
       "\t Zambia      & Africa & 1952 & 42.038 &  2672000 & 1147.3888\\\\\n",
       "\t Zambia      & Africa & 1957 & 44.077 &  3016000 & 1311.9568\\\\\n",
       "\t Zambia      & Africa & 1962 & 46.023 &  3421000 & 1452.7258\\\\\n",
       "\t Zambia      & Africa & 1967 & 47.768 &  3900000 & 1777.0773\\\\\n",
       "\t Zambia      & Africa & 1972 & 50.107 &  4506497 & 1773.4983\\\\\n",
       "\t Zambia      & Africa & 1977 & 51.386 &  5216550 & 1588.6883\\\\\n",
       "\t Zambia      & Africa & 1982 & 51.821 &  6100407 & 1408.6786\\\\\n",
       "\t Zambia      & Africa & 1987 & 50.821 &  7272406 & 1213.3151\\\\\n",
       "\t Zambia      & Africa & 1992 & 46.100 &  8381163 & 1210.8846\\\\\n",
       "\t Zambia      & Africa & 1997 & 40.238 &  9417789 & 1071.3538\\\\\n",
       "\t Zambia      & Africa & 2002 & 39.193 & 10595811 & 1071.6139\\\\\n",
       "\t Zambia      & Africa & 2007 & 42.384 & 11746035 & 1271.2116\\\\\n",
       "\t Zimbabwe    & Africa & 1952 & 48.451 &  3080907 &  406.8841\\\\\n",
       "\t Zimbabwe    & Africa & 1957 & 50.469 &  3646340 &  518.7643\\\\\n",
       "\t Zimbabwe    & Africa & 1962 & 52.358 &  4277736 &  527.2722\\\\\n",
       "\t Zimbabwe    & Africa & 1967 & 53.995 &  4995432 &  569.7951\\\\\n",
       "\t Zimbabwe    & Africa & 1972 & 55.635 &  5861135 &  799.3622\\\\\n",
       "\t Zimbabwe    & Africa & 1977 & 57.674 &  6642107 &  685.5877\\\\\n",
       "\t Zimbabwe    & Africa & 1982 & 60.363 &  7636524 &  788.8550\\\\\n",
       "\t Zimbabwe    & Africa & 1987 & 62.351 &  9216418 &  706.1573\\\\\n",
       "\t Zimbabwe    & Africa & 1992 & 60.377 & 10704340 &  693.4208\\\\\n",
       "\t Zimbabwe    & Africa & 1997 & 46.809 & 11404948 &  792.4500\\\\\n",
       "\t Zimbabwe    & Africa & 2002 & 39.989 & 11926563 &  672.0386\\\\\n",
       "\t Zimbabwe    & Africa & 2007 & 43.487 & 12311143 &  469.7093\\\\\n",
       "\\end{tabular}\n"
      ],
      "text/markdown": [
       "\n",
       "A tibble: 1704 × 6\n",
       "\n",
       "| country &lt;fct&gt; | continent &lt;fct&gt; | year &lt;int&gt; | lifeExp &lt;dbl&gt; | pop &lt;int&gt; | gdpPercap &lt;dbl&gt; |\n",
       "|---|---|---|---|---|---|\n",
       "| Afghanistan | Asia   | 1952 | 28.801 |  8425333 |  779.4453 |\n",
       "| Afghanistan | Asia   | 1957 | 30.332 |  9240934 |  820.8530 |\n",
       "| Afghanistan | Asia   | 1962 | 31.997 | 10267083 |  853.1007 |\n",
       "| Afghanistan | Asia   | 1967 | 34.020 | 11537966 |  836.1971 |\n",
       "| Afghanistan | Asia   | 1972 | 36.088 | 13079460 |  739.9811 |\n",
       "| Afghanistan | Asia   | 1977 | 38.438 | 14880372 |  786.1134 |\n",
       "| Afghanistan | Asia   | 1982 | 39.854 | 12881816 |  978.0114 |\n",
       "| Afghanistan | Asia   | 1987 | 40.822 | 13867957 |  852.3959 |\n",
       "| Afghanistan | Asia   | 1992 | 41.674 | 16317921 |  649.3414 |\n",
       "| Afghanistan | Asia   | 1997 | 41.763 | 22227415 |  635.3414 |\n",
       "| Afghanistan | Asia   | 2002 | 42.129 | 25268405 |  726.7341 |\n",
       "| Afghanistan | Asia   | 2007 | 43.828 | 31889923 |  974.5803 |\n",
       "| Albania     | Europe | 1952 | 55.230 |  1282697 | 1601.0561 |\n",
       "| Albania     | Europe | 1957 | 59.280 |  1476505 | 1942.2842 |\n",
       "| Albania     | Europe | 1962 | 64.820 |  1728137 | 2312.8890 |\n",
       "| Albania     | Europe | 1967 | 66.220 |  1984060 | 2760.1969 |\n",
       "| Albania     | Europe | 1972 | 67.690 |  2263554 | 3313.4222 |\n",
       "| Albania     | Europe | 1977 | 68.930 |  2509048 | 3533.0039 |\n",
       "| Albania     | Europe | 1982 | 70.420 |  2780097 | 3630.8807 |\n",
       "| Albania     | Europe | 1987 | 72.000 |  3075321 | 3738.9327 |\n",
       "| Albania     | Europe | 1992 | 71.581 |  3326498 | 2497.4379 |\n",
       "| Albania     | Europe | 1997 | 72.950 |  3428038 | 3193.0546 |\n",
       "| Albania     | Europe | 2002 | 75.651 |  3508512 | 4604.2117 |\n",
       "| Albania     | Europe | 2007 | 76.423 |  3600523 | 5937.0295 |\n",
       "| Algeria     | Africa | 1952 | 43.077 |  9279525 | 2449.0082 |\n",
       "| Algeria     | Africa | 1957 | 45.685 | 10270856 | 3013.9760 |\n",
       "| Algeria     | Africa | 1962 | 48.303 | 11000948 | 2550.8169 |\n",
       "| Algeria     | Africa | 1967 | 51.407 | 12760499 | 3246.9918 |\n",
       "| Algeria     | Africa | 1972 | 54.518 | 14760787 | 4182.6638 |\n",
       "| Algeria     | Africa | 1977 | 58.014 | 17152804 | 4910.4168 |\n",
       "| ⋮ | ⋮ | ⋮ | ⋮ | ⋮ | ⋮ |\n",
       "| Yemen, Rep. | Asia   | 1982 | 49.113 |  9657618 | 1977.5570 |\n",
       "| Yemen, Rep. | Asia   | 1987 | 52.922 | 11219340 | 1971.7415 |\n",
       "| Yemen, Rep. | Asia   | 1992 | 55.599 | 13367997 | 1879.4967 |\n",
       "| Yemen, Rep. | Asia   | 1997 | 58.020 | 15826497 | 2117.4845 |\n",
       "| Yemen, Rep. | Asia   | 2002 | 60.308 | 18701257 | 2234.8208 |\n",
       "| Yemen, Rep. | Asia   | 2007 | 62.698 | 22211743 | 2280.7699 |\n",
       "| Zambia      | Africa | 1952 | 42.038 |  2672000 | 1147.3888 |\n",
       "| Zambia      | Africa | 1957 | 44.077 |  3016000 | 1311.9568 |\n",
       "| Zambia      | Africa | 1962 | 46.023 |  3421000 | 1452.7258 |\n",
       "| Zambia      | Africa | 1967 | 47.768 |  3900000 | 1777.0773 |\n",
       "| Zambia      | Africa | 1972 | 50.107 |  4506497 | 1773.4983 |\n",
       "| Zambia      | Africa | 1977 | 51.386 |  5216550 | 1588.6883 |\n",
       "| Zambia      | Africa | 1982 | 51.821 |  6100407 | 1408.6786 |\n",
       "| Zambia      | Africa | 1987 | 50.821 |  7272406 | 1213.3151 |\n",
       "| Zambia      | Africa | 1992 | 46.100 |  8381163 | 1210.8846 |\n",
       "| Zambia      | Africa | 1997 | 40.238 |  9417789 | 1071.3538 |\n",
       "| Zambia      | Africa | 2002 | 39.193 | 10595811 | 1071.6139 |\n",
       "| Zambia      | Africa | 2007 | 42.384 | 11746035 | 1271.2116 |\n",
       "| Zimbabwe    | Africa | 1952 | 48.451 |  3080907 |  406.8841 |\n",
       "| Zimbabwe    | Africa | 1957 | 50.469 |  3646340 |  518.7643 |\n",
       "| Zimbabwe    | Africa | 1962 | 52.358 |  4277736 |  527.2722 |\n",
       "| Zimbabwe    | Africa | 1967 | 53.995 |  4995432 |  569.7951 |\n",
       "| Zimbabwe    | Africa | 1972 | 55.635 |  5861135 |  799.3622 |\n",
       "| Zimbabwe    | Africa | 1977 | 57.674 |  6642107 |  685.5877 |\n",
       "| Zimbabwe    | Africa | 1982 | 60.363 |  7636524 |  788.8550 |\n",
       "| Zimbabwe    | Africa | 1987 | 62.351 |  9216418 |  706.1573 |\n",
       "| Zimbabwe    | Africa | 1992 | 60.377 | 10704340 |  693.4208 |\n",
       "| Zimbabwe    | Africa | 1997 | 46.809 | 11404948 |  792.4500 |\n",
       "| Zimbabwe    | Africa | 2002 | 39.989 | 11926563 |  672.0386 |\n",
       "| Zimbabwe    | Africa | 2007 | 43.487 | 12311143 |  469.7093 |\n",
       "\n"
      ],
      "text/plain": [
       "     country     continent year lifeExp pop      gdpPercap\n",
       "1    Afghanistan Asia      1952 28.801   8425333  779.4453\n",
       "2    Afghanistan Asia      1957 30.332   9240934  820.8530\n",
       "3    Afghanistan Asia      1962 31.997  10267083  853.1007\n",
       "4    Afghanistan Asia      1967 34.020  11537966  836.1971\n",
       "5    Afghanistan Asia      1972 36.088  13079460  739.9811\n",
       "6    Afghanistan Asia      1977 38.438  14880372  786.1134\n",
       "7    Afghanistan Asia      1982 39.854  12881816  978.0114\n",
       "8    Afghanistan Asia      1987 40.822  13867957  852.3959\n",
       "9    Afghanistan Asia      1992 41.674  16317921  649.3414\n",
       "10   Afghanistan Asia      1997 41.763  22227415  635.3414\n",
       "11   Afghanistan Asia      2002 42.129  25268405  726.7341\n",
       "12   Afghanistan Asia      2007 43.828  31889923  974.5803\n",
       "13   Albania     Europe    1952 55.230   1282697 1601.0561\n",
       "14   Albania     Europe    1957 59.280   1476505 1942.2842\n",
       "15   Albania     Europe    1962 64.820   1728137 2312.8890\n",
       "16   Albania     Europe    1967 66.220   1984060 2760.1969\n",
       "17   Albania     Europe    1972 67.690   2263554 3313.4222\n",
       "18   Albania     Europe    1977 68.930   2509048 3533.0039\n",
       "19   Albania     Europe    1982 70.420   2780097 3630.8807\n",
       "20   Albania     Europe    1987 72.000   3075321 3738.9327\n",
       "21   Albania     Europe    1992 71.581   3326498 2497.4379\n",
       "22   Albania     Europe    1997 72.950   3428038 3193.0546\n",
       "23   Albania     Europe    2002 75.651   3508512 4604.2117\n",
       "24   Albania     Europe    2007 76.423   3600523 5937.0295\n",
       "25   Algeria     Africa    1952 43.077   9279525 2449.0082\n",
       "26   Algeria     Africa    1957 45.685  10270856 3013.9760\n",
       "27   Algeria     Africa    1962 48.303  11000948 2550.8169\n",
       "28   Algeria     Africa    1967 51.407  12760499 3246.9918\n",
       "29   Algeria     Africa    1972 54.518  14760787 4182.6638\n",
       "30   Algeria     Africa    1977 58.014  17152804 4910.4168\n",
       "⋮    ⋮           ⋮         ⋮    ⋮       ⋮        ⋮        \n",
       "1675 Yemen, Rep. Asia      1982 49.113   9657618 1977.5570\n",
       "1676 Yemen, Rep. Asia      1987 52.922  11219340 1971.7415\n",
       "1677 Yemen, Rep. Asia      1992 55.599  13367997 1879.4967\n",
       "1678 Yemen, Rep. Asia      1997 58.020  15826497 2117.4845\n",
       "1679 Yemen, Rep. Asia      2002 60.308  18701257 2234.8208\n",
       "1680 Yemen, Rep. Asia      2007 62.698  22211743 2280.7699\n",
       "1681 Zambia      Africa    1952 42.038   2672000 1147.3888\n",
       "1682 Zambia      Africa    1957 44.077   3016000 1311.9568\n",
       "1683 Zambia      Africa    1962 46.023   3421000 1452.7258\n",
       "1684 Zambia      Africa    1967 47.768   3900000 1777.0773\n",
       "1685 Zambia      Africa    1972 50.107   4506497 1773.4983\n",
       "1686 Zambia      Africa    1977 51.386   5216550 1588.6883\n",
       "1687 Zambia      Africa    1982 51.821   6100407 1408.6786\n",
       "1688 Zambia      Africa    1987 50.821   7272406 1213.3151\n",
       "1689 Zambia      Africa    1992 46.100   8381163 1210.8846\n",
       "1690 Zambia      Africa    1997 40.238   9417789 1071.3538\n",
       "1691 Zambia      Africa    2002 39.193  10595811 1071.6139\n",
       "1692 Zambia      Africa    2007 42.384  11746035 1271.2116\n",
       "1693 Zimbabwe    Africa    1952 48.451   3080907  406.8841\n",
       "1694 Zimbabwe    Africa    1957 50.469   3646340  518.7643\n",
       "1695 Zimbabwe    Africa    1962 52.358   4277736  527.2722\n",
       "1696 Zimbabwe    Africa    1967 53.995   4995432  569.7951\n",
       "1697 Zimbabwe    Africa    1972 55.635   5861135  799.3622\n",
       "1698 Zimbabwe    Africa    1977 57.674   6642107  685.5877\n",
       "1699 Zimbabwe    Africa    1982 60.363   7636524  788.8550\n",
       "1700 Zimbabwe    Africa    1987 62.351   9216418  706.1573\n",
       "1701 Zimbabwe    Africa    1992 60.377  10704340  693.4208\n",
       "1702 Zimbabwe    Africa    1997 46.809  11404948  792.4500\n",
       "1703 Zimbabwe    Africa    2002 39.989  11926563  672.0386\n",
       "1704 Zimbabwe    Africa    2007 43.487  12311143  469.7093"
      ]
     },
     "metadata": {},
     "output_type": "display_data"
    }
   ],
   "source": [
    "gapminder"
   ]
  },
  {
   "cell_type": "code",
   "execution_count": 30,
   "id": "339ce008",
   "metadata": {
    "vscode": {
     "languageId": "r"
    }
   },
   "outputs": [
    {
     "data": {
      "text/html": [
       "<table class=\"dataframe\">\n",
       "<caption>A tibble: 6 × 6</caption>\n",
       "<thead>\n",
       "\t<tr><th scope=col>country</th><th scope=col>continent</th><th scope=col>year</th><th scope=col>lifeExp</th><th scope=col>pop</th><th scope=col>gdpPercap</th></tr>\n",
       "\t<tr><th scope=col>&lt;fct&gt;</th><th scope=col>&lt;fct&gt;</th><th scope=col>&lt;int&gt;</th><th scope=col>&lt;dbl&gt;</th><th scope=col>&lt;int&gt;</th><th scope=col>&lt;dbl&gt;</th></tr>\n",
       "</thead>\n",
       "<tbody>\n",
       "\t<tr><td>Afghanistan</td><td>Asia</td><td>1952</td><td>28.801</td><td> 8425333</td><td>779.4453</td></tr>\n",
       "\t<tr><td>Afghanistan</td><td>Asia</td><td>1957</td><td>30.332</td><td> 9240934</td><td>820.8530</td></tr>\n",
       "\t<tr><td>Afghanistan</td><td>Asia</td><td>1962</td><td>31.997</td><td>10267083</td><td>853.1007</td></tr>\n",
       "\t<tr><td>Afghanistan</td><td>Asia</td><td>1967</td><td>34.020</td><td>11537966</td><td>836.1971</td></tr>\n",
       "\t<tr><td>Afghanistan</td><td>Asia</td><td>1972</td><td>36.088</td><td>13079460</td><td>739.9811</td></tr>\n",
       "\t<tr><td>Afghanistan</td><td>Asia</td><td>1977</td><td>38.438</td><td>14880372</td><td>786.1134</td></tr>\n",
       "</tbody>\n",
       "</table>\n"
      ],
      "text/latex": [
       "A tibble: 6 × 6\n",
       "\\begin{tabular}{llllll}\n",
       " country & continent & year & lifeExp & pop & gdpPercap\\\\\n",
       " <fct> & <fct> & <int> & <dbl> & <int> & <dbl>\\\\\n",
       "\\hline\n",
       "\t Afghanistan & Asia & 1952 & 28.801 &  8425333 & 779.4453\\\\\n",
       "\t Afghanistan & Asia & 1957 & 30.332 &  9240934 & 820.8530\\\\\n",
       "\t Afghanistan & Asia & 1962 & 31.997 & 10267083 & 853.1007\\\\\n",
       "\t Afghanistan & Asia & 1967 & 34.020 & 11537966 & 836.1971\\\\\n",
       "\t Afghanistan & Asia & 1972 & 36.088 & 13079460 & 739.9811\\\\\n",
       "\t Afghanistan & Asia & 1977 & 38.438 & 14880372 & 786.1134\\\\\n",
       "\\end{tabular}\n"
      ],
      "text/markdown": [
       "\n",
       "A tibble: 6 × 6\n",
       "\n",
       "| country &lt;fct&gt; | continent &lt;fct&gt; | year &lt;int&gt; | lifeExp &lt;dbl&gt; | pop &lt;int&gt; | gdpPercap &lt;dbl&gt; |\n",
       "|---|---|---|---|---|---|\n",
       "| Afghanistan | Asia | 1952 | 28.801 |  8425333 | 779.4453 |\n",
       "| Afghanistan | Asia | 1957 | 30.332 |  9240934 | 820.8530 |\n",
       "| Afghanistan | Asia | 1962 | 31.997 | 10267083 | 853.1007 |\n",
       "| Afghanistan | Asia | 1967 | 34.020 | 11537966 | 836.1971 |\n",
       "| Afghanistan | Asia | 1972 | 36.088 | 13079460 | 739.9811 |\n",
       "| Afghanistan | Asia | 1977 | 38.438 | 14880372 | 786.1134 |\n",
       "\n"
      ],
      "text/plain": [
       "  country     continent year lifeExp pop      gdpPercap\n",
       "1 Afghanistan Asia      1952 28.801   8425333 779.4453 \n",
       "2 Afghanistan Asia      1957 30.332   9240934 820.8530 \n",
       "3 Afghanistan Asia      1962 31.997  10267083 853.1007 \n",
       "4 Afghanistan Asia      1967 34.020  11537966 836.1971 \n",
       "5 Afghanistan Asia      1972 36.088  13079460 739.9811 \n",
       "6 Afghanistan Asia      1977 38.438  14880372 786.1134 "
      ]
     },
     "metadata": {},
     "output_type": "display_data"
    }
   ],
   "source": [
    "head(gapminder)"
   ]
  },
  {
   "cell_type": "code",
   "execution_count": 31,
   "id": "18cb71d3",
   "metadata": {
    "vscode": {
     "languageId": "r"
    }
   },
   "outputs": [
    {
     "data": {
      "text/html": [
       "<table class=\"dataframe\">\n",
       "<caption>A tibble: 6 × 6</caption>\n",
       "<thead>\n",
       "\t<tr><th scope=col>country</th><th scope=col>continent</th><th scope=col>year</th><th scope=col>lifeExp</th><th scope=col>pop</th><th scope=col>gdpPercap</th></tr>\n",
       "\t<tr><th scope=col>&lt;fct&gt;</th><th scope=col>&lt;fct&gt;</th><th scope=col>&lt;int&gt;</th><th scope=col>&lt;dbl&gt;</th><th scope=col>&lt;int&gt;</th><th scope=col>&lt;dbl&gt;</th></tr>\n",
       "</thead>\n",
       "<tbody>\n",
       "\t<tr><td>Zimbabwe</td><td>Africa</td><td>1982</td><td>60.363</td><td> 7636524</td><td>788.8550</td></tr>\n",
       "\t<tr><td>Zimbabwe</td><td>Africa</td><td>1987</td><td>62.351</td><td> 9216418</td><td>706.1573</td></tr>\n",
       "\t<tr><td>Zimbabwe</td><td>Africa</td><td>1992</td><td>60.377</td><td>10704340</td><td>693.4208</td></tr>\n",
       "\t<tr><td>Zimbabwe</td><td>Africa</td><td>1997</td><td>46.809</td><td>11404948</td><td>792.4500</td></tr>\n",
       "\t<tr><td>Zimbabwe</td><td>Africa</td><td>2002</td><td>39.989</td><td>11926563</td><td>672.0386</td></tr>\n",
       "\t<tr><td>Zimbabwe</td><td>Africa</td><td>2007</td><td>43.487</td><td>12311143</td><td>469.7093</td></tr>\n",
       "</tbody>\n",
       "</table>\n"
      ],
      "text/latex": [
       "A tibble: 6 × 6\n",
       "\\begin{tabular}{llllll}\n",
       " country & continent & year & lifeExp & pop & gdpPercap\\\\\n",
       " <fct> & <fct> & <int> & <dbl> & <int> & <dbl>\\\\\n",
       "\\hline\n",
       "\t Zimbabwe & Africa & 1982 & 60.363 &  7636524 & 788.8550\\\\\n",
       "\t Zimbabwe & Africa & 1987 & 62.351 &  9216418 & 706.1573\\\\\n",
       "\t Zimbabwe & Africa & 1992 & 60.377 & 10704340 & 693.4208\\\\\n",
       "\t Zimbabwe & Africa & 1997 & 46.809 & 11404948 & 792.4500\\\\\n",
       "\t Zimbabwe & Africa & 2002 & 39.989 & 11926563 & 672.0386\\\\\n",
       "\t Zimbabwe & Africa & 2007 & 43.487 & 12311143 & 469.7093\\\\\n",
       "\\end{tabular}\n"
      ],
      "text/markdown": [
       "\n",
       "A tibble: 6 × 6\n",
       "\n",
       "| country &lt;fct&gt; | continent &lt;fct&gt; | year &lt;int&gt; | lifeExp &lt;dbl&gt; | pop &lt;int&gt; | gdpPercap &lt;dbl&gt; |\n",
       "|---|---|---|---|---|---|\n",
       "| Zimbabwe | Africa | 1982 | 60.363 |  7636524 | 788.8550 |\n",
       "| Zimbabwe | Africa | 1987 | 62.351 |  9216418 | 706.1573 |\n",
       "| Zimbabwe | Africa | 1992 | 60.377 | 10704340 | 693.4208 |\n",
       "| Zimbabwe | Africa | 1997 | 46.809 | 11404948 | 792.4500 |\n",
       "| Zimbabwe | Africa | 2002 | 39.989 | 11926563 | 672.0386 |\n",
       "| Zimbabwe | Africa | 2007 | 43.487 | 12311143 | 469.7093 |\n",
       "\n"
      ],
      "text/plain": [
       "  country  continent year lifeExp pop      gdpPercap\n",
       "1 Zimbabwe Africa    1982 60.363   7636524 788.8550 \n",
       "2 Zimbabwe Africa    1987 62.351   9216418 706.1573 \n",
       "3 Zimbabwe Africa    1992 60.377  10704340 693.4208 \n",
       "4 Zimbabwe Africa    1997 46.809  11404948 792.4500 \n",
       "5 Zimbabwe Africa    2002 39.989  11926563 672.0386 \n",
       "6 Zimbabwe Africa    2007 43.487  12311143 469.7093 "
      ]
     },
     "metadata": {},
     "output_type": "display_data"
    }
   ],
   "source": [
    "tail(gapminder)"
   ]
  },
  {
   "cell_type": "code",
   "execution_count": 32,
   "id": "f91756b7",
   "metadata": {
    "vscode": {
     "languageId": "r"
    }
   },
   "outputs": [
    {
     "data": {
      "text/html": [
       "<table class=\"dataframe\">\n",
       "<caption>A tibble: 150 × 5</caption>\n",
       "<thead>\n",
       "\t<tr><th scope=col>Sepal.Length</th><th scope=col>Sepal.Width</th><th scope=col>Petal.Length</th><th scope=col>Petal.Width</th><th scope=col>Species</th></tr>\n",
       "\t<tr><th scope=col>&lt;dbl&gt;</th><th scope=col>&lt;dbl&gt;</th><th scope=col>&lt;dbl&gt;</th><th scope=col>&lt;dbl&gt;</th><th scope=col>&lt;fct&gt;</th></tr>\n",
       "</thead>\n",
       "<tbody>\n",
       "\t<tr><td>5.1</td><td>3.5</td><td>1.4</td><td>0.2</td><td>setosa</td></tr>\n",
       "\t<tr><td>4.9</td><td>3.0</td><td>1.4</td><td>0.2</td><td>setosa</td></tr>\n",
       "\t<tr><td>4.7</td><td>3.2</td><td>1.3</td><td>0.2</td><td>setosa</td></tr>\n",
       "\t<tr><td>4.6</td><td>3.1</td><td>1.5</td><td>0.2</td><td>setosa</td></tr>\n",
       "\t<tr><td>5.0</td><td>3.6</td><td>1.4</td><td>0.2</td><td>setosa</td></tr>\n",
       "\t<tr><td>5.4</td><td>3.9</td><td>1.7</td><td>0.4</td><td>setosa</td></tr>\n",
       "\t<tr><td>4.6</td><td>3.4</td><td>1.4</td><td>0.3</td><td>setosa</td></tr>\n",
       "\t<tr><td>5.0</td><td>3.4</td><td>1.5</td><td>0.2</td><td>setosa</td></tr>\n",
       "\t<tr><td>4.4</td><td>2.9</td><td>1.4</td><td>0.2</td><td>setosa</td></tr>\n",
       "\t<tr><td>4.9</td><td>3.1</td><td>1.5</td><td>0.1</td><td>setosa</td></tr>\n",
       "\t<tr><td>5.4</td><td>3.7</td><td>1.5</td><td>0.2</td><td>setosa</td></tr>\n",
       "\t<tr><td>4.8</td><td>3.4</td><td>1.6</td><td>0.2</td><td>setosa</td></tr>\n",
       "\t<tr><td>4.8</td><td>3.0</td><td>1.4</td><td>0.1</td><td>setosa</td></tr>\n",
       "\t<tr><td>4.3</td><td>3.0</td><td>1.1</td><td>0.1</td><td>setosa</td></tr>\n",
       "\t<tr><td>5.8</td><td>4.0</td><td>1.2</td><td>0.2</td><td>setosa</td></tr>\n",
       "\t<tr><td>5.7</td><td>4.4</td><td>1.5</td><td>0.4</td><td>setosa</td></tr>\n",
       "\t<tr><td>5.4</td><td>3.9</td><td>1.3</td><td>0.4</td><td>setosa</td></tr>\n",
       "\t<tr><td>5.1</td><td>3.5</td><td>1.4</td><td>0.3</td><td>setosa</td></tr>\n",
       "\t<tr><td>5.7</td><td>3.8</td><td>1.7</td><td>0.3</td><td>setosa</td></tr>\n",
       "\t<tr><td>5.1</td><td>3.8</td><td>1.5</td><td>0.3</td><td>setosa</td></tr>\n",
       "\t<tr><td>5.4</td><td>3.4</td><td>1.7</td><td>0.2</td><td>setosa</td></tr>\n",
       "\t<tr><td>5.1</td><td>3.7</td><td>1.5</td><td>0.4</td><td>setosa</td></tr>\n",
       "\t<tr><td>4.6</td><td>3.6</td><td>1.0</td><td>0.2</td><td>setosa</td></tr>\n",
       "\t<tr><td>5.1</td><td>3.3</td><td>1.7</td><td>0.5</td><td>setosa</td></tr>\n",
       "\t<tr><td>4.8</td><td>3.4</td><td>1.9</td><td>0.2</td><td>setosa</td></tr>\n",
       "\t<tr><td>5.0</td><td>3.0</td><td>1.6</td><td>0.2</td><td>setosa</td></tr>\n",
       "\t<tr><td>5.0</td><td>3.4</td><td>1.6</td><td>0.4</td><td>setosa</td></tr>\n",
       "\t<tr><td>5.2</td><td>3.5</td><td>1.5</td><td>0.2</td><td>setosa</td></tr>\n",
       "\t<tr><td>5.2</td><td>3.4</td><td>1.4</td><td>0.2</td><td>setosa</td></tr>\n",
       "\t<tr><td>4.7</td><td>3.2</td><td>1.6</td><td>0.2</td><td>setosa</td></tr>\n",
       "\t<tr><td>⋮</td><td>⋮</td><td>⋮</td><td>⋮</td><td>⋮</td></tr>\n",
       "\t<tr><td>6.9</td><td>3.2</td><td>5.7</td><td>2.3</td><td>virginica</td></tr>\n",
       "\t<tr><td>5.6</td><td>2.8</td><td>4.9</td><td>2.0</td><td>virginica</td></tr>\n",
       "\t<tr><td>7.7</td><td>2.8</td><td>6.7</td><td>2.0</td><td>virginica</td></tr>\n",
       "\t<tr><td>6.3</td><td>2.7</td><td>4.9</td><td>1.8</td><td>virginica</td></tr>\n",
       "\t<tr><td>6.7</td><td>3.3</td><td>5.7</td><td>2.1</td><td>virginica</td></tr>\n",
       "\t<tr><td>7.2</td><td>3.2</td><td>6.0</td><td>1.8</td><td>virginica</td></tr>\n",
       "\t<tr><td>6.2</td><td>2.8</td><td>4.8</td><td>1.8</td><td>virginica</td></tr>\n",
       "\t<tr><td>6.1</td><td>3.0</td><td>4.9</td><td>1.8</td><td>virginica</td></tr>\n",
       "\t<tr><td>6.4</td><td>2.8</td><td>5.6</td><td>2.1</td><td>virginica</td></tr>\n",
       "\t<tr><td>7.2</td><td>3.0</td><td>5.8</td><td>1.6</td><td>virginica</td></tr>\n",
       "\t<tr><td>7.4</td><td>2.8</td><td>6.1</td><td>1.9</td><td>virginica</td></tr>\n",
       "\t<tr><td>7.9</td><td>3.8</td><td>6.4</td><td>2.0</td><td>virginica</td></tr>\n",
       "\t<tr><td>6.4</td><td>2.8</td><td>5.6</td><td>2.2</td><td>virginica</td></tr>\n",
       "\t<tr><td>6.3</td><td>2.8</td><td>5.1</td><td>1.5</td><td>virginica</td></tr>\n",
       "\t<tr><td>6.1</td><td>2.6</td><td>5.6</td><td>1.4</td><td>virginica</td></tr>\n",
       "\t<tr><td>7.7</td><td>3.0</td><td>6.1</td><td>2.3</td><td>virginica</td></tr>\n",
       "\t<tr><td>6.3</td><td>3.4</td><td>5.6</td><td>2.4</td><td>virginica</td></tr>\n",
       "\t<tr><td>6.4</td><td>3.1</td><td>5.5</td><td>1.8</td><td>virginica</td></tr>\n",
       "\t<tr><td>6.0</td><td>3.0</td><td>4.8</td><td>1.8</td><td>virginica</td></tr>\n",
       "\t<tr><td>6.9</td><td>3.1</td><td>5.4</td><td>2.1</td><td>virginica</td></tr>\n",
       "\t<tr><td>6.7</td><td>3.1</td><td>5.6</td><td>2.4</td><td>virginica</td></tr>\n",
       "\t<tr><td>6.9</td><td>3.1</td><td>5.1</td><td>2.3</td><td>virginica</td></tr>\n",
       "\t<tr><td>5.8</td><td>2.7</td><td>5.1</td><td>1.9</td><td>virginica</td></tr>\n",
       "\t<tr><td>6.8</td><td>3.2</td><td>5.9</td><td>2.3</td><td>virginica</td></tr>\n",
       "\t<tr><td>6.7</td><td>3.3</td><td>5.7</td><td>2.5</td><td>virginica</td></tr>\n",
       "\t<tr><td>6.7</td><td>3.0</td><td>5.2</td><td>2.3</td><td>virginica</td></tr>\n",
       "\t<tr><td>6.3</td><td>2.5</td><td>5.0</td><td>1.9</td><td>virginica</td></tr>\n",
       "\t<tr><td>6.5</td><td>3.0</td><td>5.2</td><td>2.0</td><td>virginica</td></tr>\n",
       "\t<tr><td>6.2</td><td>3.4</td><td>5.4</td><td>2.3</td><td>virginica</td></tr>\n",
       "\t<tr><td>5.9</td><td>3.0</td><td>5.1</td><td>1.8</td><td>virginica</td></tr>\n",
       "</tbody>\n",
       "</table>\n"
      ],
      "text/latex": [
       "A tibble: 150 × 5\n",
       "\\begin{tabular}{lllll}\n",
       " Sepal.Length & Sepal.Width & Petal.Length & Petal.Width & Species\\\\\n",
       " <dbl> & <dbl> & <dbl> & <dbl> & <fct>\\\\\n",
       "\\hline\n",
       "\t 5.1 & 3.5 & 1.4 & 0.2 & setosa\\\\\n",
       "\t 4.9 & 3.0 & 1.4 & 0.2 & setosa\\\\\n",
       "\t 4.7 & 3.2 & 1.3 & 0.2 & setosa\\\\\n",
       "\t 4.6 & 3.1 & 1.5 & 0.2 & setosa\\\\\n",
       "\t 5.0 & 3.6 & 1.4 & 0.2 & setosa\\\\\n",
       "\t 5.4 & 3.9 & 1.7 & 0.4 & setosa\\\\\n",
       "\t 4.6 & 3.4 & 1.4 & 0.3 & setosa\\\\\n",
       "\t 5.0 & 3.4 & 1.5 & 0.2 & setosa\\\\\n",
       "\t 4.4 & 2.9 & 1.4 & 0.2 & setosa\\\\\n",
       "\t 4.9 & 3.1 & 1.5 & 0.1 & setosa\\\\\n",
       "\t 5.4 & 3.7 & 1.5 & 0.2 & setosa\\\\\n",
       "\t 4.8 & 3.4 & 1.6 & 0.2 & setosa\\\\\n",
       "\t 4.8 & 3.0 & 1.4 & 0.1 & setosa\\\\\n",
       "\t 4.3 & 3.0 & 1.1 & 0.1 & setosa\\\\\n",
       "\t 5.8 & 4.0 & 1.2 & 0.2 & setosa\\\\\n",
       "\t 5.7 & 4.4 & 1.5 & 0.4 & setosa\\\\\n",
       "\t 5.4 & 3.9 & 1.3 & 0.4 & setosa\\\\\n",
       "\t 5.1 & 3.5 & 1.4 & 0.3 & setosa\\\\\n",
       "\t 5.7 & 3.8 & 1.7 & 0.3 & setosa\\\\\n",
       "\t 5.1 & 3.8 & 1.5 & 0.3 & setosa\\\\\n",
       "\t 5.4 & 3.4 & 1.7 & 0.2 & setosa\\\\\n",
       "\t 5.1 & 3.7 & 1.5 & 0.4 & setosa\\\\\n",
       "\t 4.6 & 3.6 & 1.0 & 0.2 & setosa\\\\\n",
       "\t 5.1 & 3.3 & 1.7 & 0.5 & setosa\\\\\n",
       "\t 4.8 & 3.4 & 1.9 & 0.2 & setosa\\\\\n",
       "\t 5.0 & 3.0 & 1.6 & 0.2 & setosa\\\\\n",
       "\t 5.0 & 3.4 & 1.6 & 0.4 & setosa\\\\\n",
       "\t 5.2 & 3.5 & 1.5 & 0.2 & setosa\\\\\n",
       "\t 5.2 & 3.4 & 1.4 & 0.2 & setosa\\\\\n",
       "\t 4.7 & 3.2 & 1.6 & 0.2 & setosa\\\\\n",
       "\t ⋮ & ⋮ & ⋮ & ⋮ & ⋮\\\\\n",
       "\t 6.9 & 3.2 & 5.7 & 2.3 & virginica\\\\\n",
       "\t 5.6 & 2.8 & 4.9 & 2.0 & virginica\\\\\n",
       "\t 7.7 & 2.8 & 6.7 & 2.0 & virginica\\\\\n",
       "\t 6.3 & 2.7 & 4.9 & 1.8 & virginica\\\\\n",
       "\t 6.7 & 3.3 & 5.7 & 2.1 & virginica\\\\\n",
       "\t 7.2 & 3.2 & 6.0 & 1.8 & virginica\\\\\n",
       "\t 6.2 & 2.8 & 4.8 & 1.8 & virginica\\\\\n",
       "\t 6.1 & 3.0 & 4.9 & 1.8 & virginica\\\\\n",
       "\t 6.4 & 2.8 & 5.6 & 2.1 & virginica\\\\\n",
       "\t 7.2 & 3.0 & 5.8 & 1.6 & virginica\\\\\n",
       "\t 7.4 & 2.8 & 6.1 & 1.9 & virginica\\\\\n",
       "\t 7.9 & 3.8 & 6.4 & 2.0 & virginica\\\\\n",
       "\t 6.4 & 2.8 & 5.6 & 2.2 & virginica\\\\\n",
       "\t 6.3 & 2.8 & 5.1 & 1.5 & virginica\\\\\n",
       "\t 6.1 & 2.6 & 5.6 & 1.4 & virginica\\\\\n",
       "\t 7.7 & 3.0 & 6.1 & 2.3 & virginica\\\\\n",
       "\t 6.3 & 3.4 & 5.6 & 2.4 & virginica\\\\\n",
       "\t 6.4 & 3.1 & 5.5 & 1.8 & virginica\\\\\n",
       "\t 6.0 & 3.0 & 4.8 & 1.8 & virginica\\\\\n",
       "\t 6.9 & 3.1 & 5.4 & 2.1 & virginica\\\\\n",
       "\t 6.7 & 3.1 & 5.6 & 2.4 & virginica\\\\\n",
       "\t 6.9 & 3.1 & 5.1 & 2.3 & virginica\\\\\n",
       "\t 5.8 & 2.7 & 5.1 & 1.9 & virginica\\\\\n",
       "\t 6.8 & 3.2 & 5.9 & 2.3 & virginica\\\\\n",
       "\t 6.7 & 3.3 & 5.7 & 2.5 & virginica\\\\\n",
       "\t 6.7 & 3.0 & 5.2 & 2.3 & virginica\\\\\n",
       "\t 6.3 & 2.5 & 5.0 & 1.9 & virginica\\\\\n",
       "\t 6.5 & 3.0 & 5.2 & 2.0 & virginica\\\\\n",
       "\t 6.2 & 3.4 & 5.4 & 2.3 & virginica\\\\\n",
       "\t 5.9 & 3.0 & 5.1 & 1.8 & virginica\\\\\n",
       "\\end{tabular}\n"
      ],
      "text/markdown": [
       "\n",
       "A tibble: 150 × 5\n",
       "\n",
       "| Sepal.Length &lt;dbl&gt; | Sepal.Width &lt;dbl&gt; | Petal.Length &lt;dbl&gt; | Petal.Width &lt;dbl&gt; | Species &lt;fct&gt; |\n",
       "|---|---|---|---|---|\n",
       "| 5.1 | 3.5 | 1.4 | 0.2 | setosa |\n",
       "| 4.9 | 3.0 | 1.4 | 0.2 | setosa |\n",
       "| 4.7 | 3.2 | 1.3 | 0.2 | setosa |\n",
       "| 4.6 | 3.1 | 1.5 | 0.2 | setosa |\n",
       "| 5.0 | 3.6 | 1.4 | 0.2 | setosa |\n",
       "| 5.4 | 3.9 | 1.7 | 0.4 | setosa |\n",
       "| 4.6 | 3.4 | 1.4 | 0.3 | setosa |\n",
       "| 5.0 | 3.4 | 1.5 | 0.2 | setosa |\n",
       "| 4.4 | 2.9 | 1.4 | 0.2 | setosa |\n",
       "| 4.9 | 3.1 | 1.5 | 0.1 | setosa |\n",
       "| 5.4 | 3.7 | 1.5 | 0.2 | setosa |\n",
       "| 4.8 | 3.4 | 1.6 | 0.2 | setosa |\n",
       "| 4.8 | 3.0 | 1.4 | 0.1 | setosa |\n",
       "| 4.3 | 3.0 | 1.1 | 0.1 | setosa |\n",
       "| 5.8 | 4.0 | 1.2 | 0.2 | setosa |\n",
       "| 5.7 | 4.4 | 1.5 | 0.4 | setosa |\n",
       "| 5.4 | 3.9 | 1.3 | 0.4 | setosa |\n",
       "| 5.1 | 3.5 | 1.4 | 0.3 | setosa |\n",
       "| 5.7 | 3.8 | 1.7 | 0.3 | setosa |\n",
       "| 5.1 | 3.8 | 1.5 | 0.3 | setosa |\n",
       "| 5.4 | 3.4 | 1.7 | 0.2 | setosa |\n",
       "| 5.1 | 3.7 | 1.5 | 0.4 | setosa |\n",
       "| 4.6 | 3.6 | 1.0 | 0.2 | setosa |\n",
       "| 5.1 | 3.3 | 1.7 | 0.5 | setosa |\n",
       "| 4.8 | 3.4 | 1.9 | 0.2 | setosa |\n",
       "| 5.0 | 3.0 | 1.6 | 0.2 | setosa |\n",
       "| 5.0 | 3.4 | 1.6 | 0.4 | setosa |\n",
       "| 5.2 | 3.5 | 1.5 | 0.2 | setosa |\n",
       "| 5.2 | 3.4 | 1.4 | 0.2 | setosa |\n",
       "| 4.7 | 3.2 | 1.6 | 0.2 | setosa |\n",
       "| ⋮ | ⋮ | ⋮ | ⋮ | ⋮ |\n",
       "| 6.9 | 3.2 | 5.7 | 2.3 | virginica |\n",
       "| 5.6 | 2.8 | 4.9 | 2.0 | virginica |\n",
       "| 7.7 | 2.8 | 6.7 | 2.0 | virginica |\n",
       "| 6.3 | 2.7 | 4.9 | 1.8 | virginica |\n",
       "| 6.7 | 3.3 | 5.7 | 2.1 | virginica |\n",
       "| 7.2 | 3.2 | 6.0 | 1.8 | virginica |\n",
       "| 6.2 | 2.8 | 4.8 | 1.8 | virginica |\n",
       "| 6.1 | 3.0 | 4.9 | 1.8 | virginica |\n",
       "| 6.4 | 2.8 | 5.6 | 2.1 | virginica |\n",
       "| 7.2 | 3.0 | 5.8 | 1.6 | virginica |\n",
       "| 7.4 | 2.8 | 6.1 | 1.9 | virginica |\n",
       "| 7.9 | 3.8 | 6.4 | 2.0 | virginica |\n",
       "| 6.4 | 2.8 | 5.6 | 2.2 | virginica |\n",
       "| 6.3 | 2.8 | 5.1 | 1.5 | virginica |\n",
       "| 6.1 | 2.6 | 5.6 | 1.4 | virginica |\n",
       "| 7.7 | 3.0 | 6.1 | 2.3 | virginica |\n",
       "| 6.3 | 3.4 | 5.6 | 2.4 | virginica |\n",
       "| 6.4 | 3.1 | 5.5 | 1.8 | virginica |\n",
       "| 6.0 | 3.0 | 4.8 | 1.8 | virginica |\n",
       "| 6.9 | 3.1 | 5.4 | 2.1 | virginica |\n",
       "| 6.7 | 3.1 | 5.6 | 2.4 | virginica |\n",
       "| 6.9 | 3.1 | 5.1 | 2.3 | virginica |\n",
       "| 5.8 | 2.7 | 5.1 | 1.9 | virginica |\n",
       "| 6.8 | 3.2 | 5.9 | 2.3 | virginica |\n",
       "| 6.7 | 3.3 | 5.7 | 2.5 | virginica |\n",
       "| 6.7 | 3.0 | 5.2 | 2.3 | virginica |\n",
       "| 6.3 | 2.5 | 5.0 | 1.9 | virginica |\n",
       "| 6.5 | 3.0 | 5.2 | 2.0 | virginica |\n",
       "| 6.2 | 3.4 | 5.4 | 2.3 | virginica |\n",
       "| 5.9 | 3.0 | 5.1 | 1.8 | virginica |\n",
       "\n"
      ],
      "text/plain": [
       "    Sepal.Length Sepal.Width Petal.Length Petal.Width Species  \n",
       "1   5.1          3.5         1.4          0.2         setosa   \n",
       "2   4.9          3.0         1.4          0.2         setosa   \n",
       "3   4.7          3.2         1.3          0.2         setosa   \n",
       "4   4.6          3.1         1.5          0.2         setosa   \n",
       "5   5.0          3.6         1.4          0.2         setosa   \n",
       "6   5.4          3.9         1.7          0.4         setosa   \n",
       "7   4.6          3.4         1.4          0.3         setosa   \n",
       "8   5.0          3.4         1.5          0.2         setosa   \n",
       "9   4.4          2.9         1.4          0.2         setosa   \n",
       "10  4.9          3.1         1.5          0.1         setosa   \n",
       "11  5.4          3.7         1.5          0.2         setosa   \n",
       "12  4.8          3.4         1.6          0.2         setosa   \n",
       "13  4.8          3.0         1.4          0.1         setosa   \n",
       "14  4.3          3.0         1.1          0.1         setosa   \n",
       "15  5.8          4.0         1.2          0.2         setosa   \n",
       "16  5.7          4.4         1.5          0.4         setosa   \n",
       "17  5.4          3.9         1.3          0.4         setosa   \n",
       "18  5.1          3.5         1.4          0.3         setosa   \n",
       "19  5.7          3.8         1.7          0.3         setosa   \n",
       "20  5.1          3.8         1.5          0.3         setosa   \n",
       "21  5.4          3.4         1.7          0.2         setosa   \n",
       "22  5.1          3.7         1.5          0.4         setosa   \n",
       "23  4.6          3.6         1.0          0.2         setosa   \n",
       "24  5.1          3.3         1.7          0.5         setosa   \n",
       "25  4.8          3.4         1.9          0.2         setosa   \n",
       "26  5.0          3.0         1.6          0.2         setosa   \n",
       "27  5.0          3.4         1.6          0.4         setosa   \n",
       "28  5.2          3.5         1.5          0.2         setosa   \n",
       "29  5.2          3.4         1.4          0.2         setosa   \n",
       "30  4.7          3.2         1.6          0.2         setosa   \n",
       "⋮   ⋮            ⋮           ⋮            ⋮           ⋮        \n",
       "121 6.9          3.2         5.7          2.3         virginica\n",
       "122 5.6          2.8         4.9          2.0         virginica\n",
       "123 7.7          2.8         6.7          2.0         virginica\n",
       "124 6.3          2.7         4.9          1.8         virginica\n",
       "125 6.7          3.3         5.7          2.1         virginica\n",
       "126 7.2          3.2         6.0          1.8         virginica\n",
       "127 6.2          2.8         4.8          1.8         virginica\n",
       "128 6.1          3.0         4.9          1.8         virginica\n",
       "129 6.4          2.8         5.6          2.1         virginica\n",
       "130 7.2          3.0         5.8          1.6         virginica\n",
       "131 7.4          2.8         6.1          1.9         virginica\n",
       "132 7.9          3.8         6.4          2.0         virginica\n",
       "133 6.4          2.8         5.6          2.2         virginica\n",
       "134 6.3          2.8         5.1          1.5         virginica\n",
       "135 6.1          2.6         5.6          1.4         virginica\n",
       "136 7.7          3.0         6.1          2.3         virginica\n",
       "137 6.3          3.4         5.6          2.4         virginica\n",
       "138 6.4          3.1         5.5          1.8         virginica\n",
       "139 6.0          3.0         4.8          1.8         virginica\n",
       "140 6.9          3.1         5.4          2.1         virginica\n",
       "141 6.7          3.1         5.6          2.4         virginica\n",
       "142 6.9          3.1         5.1          2.3         virginica\n",
       "143 5.8          2.7         5.1          1.9         virginica\n",
       "144 6.8          3.2         5.9          2.3         virginica\n",
       "145 6.7          3.3         5.7          2.5         virginica\n",
       "146 6.7          3.0         5.2          2.3         virginica\n",
       "147 6.3          2.5         5.0          1.9         virginica\n",
       "148 6.5          3.0         5.2          2.0         virginica\n",
       "149 6.2          3.4         5.4          2.3         virginica\n",
       "150 5.9          3.0         5.1          1.8         virginica"
      ]
     },
     "metadata": {},
     "output_type": "display_data"
    }
   ],
   "source": [
    "as_tibble(iris)"
   ]
  },
  {
   "cell_type": "code",
   "execution_count": 33,
   "id": "b2c7ba19",
   "metadata": {
    "vscode": {
     "languageId": "r"
    }
   },
   "outputs": [
    {
     "data": {
      "text/html": [
       "<style>\n",
       ".list-inline {list-style: none; margin:0; padding: 0}\n",
       ".list-inline>li {display: inline-block}\n",
       ".list-inline>li:not(:last-child)::after {content: \"\\00b7\"; padding: 0 .5ex}\n",
       "</style>\n",
       "<ol class=list-inline><li>'country'</li><li>'continent'</li><li>'year'</li><li>'lifeExp'</li><li>'pop'</li><li>'gdpPercap'</li></ol>\n"
      ],
      "text/latex": [
       "\\begin{enumerate*}\n",
       "\\item 'country'\n",
       "\\item 'continent'\n",
       "\\item 'year'\n",
       "\\item 'lifeExp'\n",
       "\\item 'pop'\n",
       "\\item 'gdpPercap'\n",
       "\\end{enumerate*}\n"
      ],
      "text/markdown": [
       "1. 'country'\n",
       "2. 'continent'\n",
       "3. 'year'\n",
       "4. 'lifeExp'\n",
       "5. 'pop'\n",
       "6. 'gdpPercap'\n",
       "\n",
       "\n"
      ],
      "text/plain": [
       "[1] \"country\"   \"continent\" \"year\"      \"lifeExp\"   \"pop\"       \"gdpPercap\""
      ]
     },
     "metadata": {},
     "output_type": "display_data"
    }
   ],
   "source": [
    "names(gapminder)"
   ]
  },
  {
   "cell_type": "code",
   "execution_count": 34,
   "id": "d94f7920",
   "metadata": {
    "vscode": {
     "languageId": "r"
    }
   },
   "outputs": [
    {
     "data": {
      "text/html": [
       "6"
      ],
      "text/latex": [
       "6"
      ],
      "text/markdown": [
       "6"
      ],
      "text/plain": [
       "[1] 6"
      ]
     },
     "metadata": {},
     "output_type": "display_data"
    }
   ],
   "source": [
    "ncol(gapminder)"
   ]
  },
  {
   "cell_type": "code",
   "execution_count": 35,
   "id": "4e9af6f3",
   "metadata": {
    "vscode": {
     "languageId": "r"
    }
   },
   "outputs": [
    {
     "data": {
      "text/html": [
       "6"
      ],
      "text/latex": [
       "6"
      ],
      "text/markdown": [
       "6"
      ],
      "text/plain": [
       "[1] 6"
      ]
     },
     "metadata": {},
     "output_type": "display_data"
    }
   ],
   "source": [
    "length(gapminder)"
   ]
  },
  {
   "cell_type": "code",
   "execution_count": 36,
   "id": "3660592c",
   "metadata": {
    "vscode": {
     "languageId": "r"
    }
   },
   "outputs": [
    {
     "data": {
      "text/html": [
       "<style>\n",
       ".list-inline {list-style: none; margin:0; padding: 0}\n",
       ".list-inline>li {display: inline-block}\n",
       ".list-inline>li:not(:last-child)::after {content: \"\\00b7\"; padding: 0 .5ex}\n",
       "</style>\n",
       "<ol class=list-inline><li>1704</li><li>6</li></ol>\n"
      ],
      "text/latex": [
       "\\begin{enumerate*}\n",
       "\\item 1704\n",
       "\\item 6\n",
       "\\end{enumerate*}\n"
      ],
      "text/markdown": [
       "1. 1704\n",
       "2. 6\n",
       "\n",
       "\n"
      ],
      "text/plain": [
       "[1] 1704    6"
      ]
     },
     "metadata": {},
     "output_type": "display_data"
    }
   ],
   "source": [
    "dim(gapminder)"
   ]
  },
  {
   "cell_type": "code",
   "execution_count": 37,
   "id": "2fa8e847",
   "metadata": {
    "vscode": {
     "languageId": "r"
    }
   },
   "outputs": [
    {
     "data": {
      "text/html": [
       "1704"
      ],
      "text/latex": [
       "1704"
      ],
      "text/markdown": [
       "1704"
      ],
      "text/plain": [
       "[1] 1704"
      ]
     },
     "metadata": {},
     "output_type": "display_data"
    }
   ],
   "source": [
    "nrow(gapminder)"
   ]
  },
  {
   "cell_type": "code",
   "execution_count": 38,
   "id": "2efb661b",
   "metadata": {
    "vscode": {
     "languageId": "r"
    }
   },
   "outputs": [
    {
     "data": {
      "text/plain": [
       "        country        continent        year         lifeExp     \n",
       " Afghanistan:  12   Africa  :624   Min.   :1952   Min.   :23.60  \n",
       " Albania    :  12   Americas:300   1st Qu.:1966   1st Qu.:48.20  \n",
       " Algeria    :  12   Asia    :396   Median :1980   Median :60.71  \n",
       " Angola     :  12   Europe  :360   Mean   :1980   Mean   :59.47  \n",
       " Argentina  :  12   Oceania : 24   3rd Qu.:1993   3rd Qu.:70.85  \n",
       " Australia  :  12                  Max.   :2007   Max.   :82.60  \n",
       " (Other)    :1632                                                \n",
       "      pop              gdpPercap       \n",
       " Min.   :6.001e+04   Min.   :   241.2  \n",
       " 1st Qu.:2.794e+06   1st Qu.:  1202.1  \n",
       " Median :7.024e+06   Median :  3531.8  \n",
       " Mean   :2.960e+07   Mean   :  7215.3  \n",
       " 3rd Qu.:1.959e+07   3rd Qu.:  9325.5  \n",
       " Max.   :1.319e+09   Max.   :113523.1  \n",
       "                                       "
      ]
     },
     "metadata": {},
     "output_type": "display_data"
    }
   ],
   "source": [
    "summary(gapminder)"
   ]
  },
  {
   "cell_type": "code",
   "execution_count": 39,
   "id": "3e081857",
   "metadata": {
    "vscode": {
     "languageId": "r"
    }
   },
   "outputs": [
    {
     "data": {
      "image/png": "[encoded data removed]",
      "text/plain": [
       "plot without title"
      ]
     },
     "metadata": {
      "image/png": {
       "height": 420,
       "width": 420
      }
     },
     "output_type": "display_data"
    }
   ],
   "source": [
    "plot(lifeExp ~ year, gapminder)"
   ]
  },
  {
   "cell_type": "code",
   "execution_count": 40,
   "id": "5a07c05e",
   "metadata": {
    "vscode": {
     "languageId": "r"
    }
   },
   "outputs": [
    {
     "data": {
      "image/png": "[encoded data removed]",
      "text/plain": [
       "plot without title"
      ]
     },
     "metadata": {
      "image/png": {
       "height": 420,
       "width": 420
      }
     },
     "output_type": "display_data"
    }
   ],
   "source": [
    "plot(lifeExp ~ gdpPercap, gapminder)"
   ]
  },
  {
   "cell_type": "code",
   "execution_count": 41,
   "id": "1292b24e",
   "metadata": {
    "vscode": {
     "languageId": "r"
    }
   },
   "outputs": [
    {
     "data": {
      "image/png": "[encoded data removed]",
      "text/plain": [
       "plot without title"
      ]
     },
     "metadata": {
      "image/png": {
       "height": 420,
       "width": 420
      }
     },
     "output_type": "display_data"
    }
   ],
   "source": [
    "plot(lifeExp ~ log(gdpPercap), gapminder)"
   ]
  },
  {
   "cell_type": "code",
   "execution_count": 42,
   "id": "2c0fea67",
   "metadata": {
    "vscode": {
     "languageId": "r"
    }
   },
   "outputs": [
    {
     "name": "stdout",
     "output_type": "stream",
     "text": [
      "tibble [1,704 × 6] (S3: tbl_df/tbl/data.frame)\n",
      " $ country  : Factor w/ 142 levels \"Afghanistan\",..: 1 1 1 1 1 1 1 1 1 1 ...\n",
      " $ continent: Factor w/ 5 levels \"Africa\",\"Americas\",..: 3 3 3 3 3 3 3 3 3 3 ...\n",
      " $ year     : int [1:1704] 1952 1957 1962 1967 1972 1977 1982 1987 1992 1997 ...\n",
      " $ lifeExp  : num [1:1704] 28.8 30.3 32 34 36.1 ...\n",
      " $ pop      : int [1:1704] 8425333 9240934 10267083 11537966 13079460 14880372 12881816 13867957 16317921 22227415 ...\n",
      " $ gdpPercap: num [1:1704] 779 821 853 836 740 ...\n"
     ]
    }
   ],
   "source": [
    "str(gapminder)"
   ]
  },
  {
   "cell_type": "code",
   "execution_count": 43,
   "id": "180c5719",
   "metadata": {
    "vscode": {
     "languageId": "r"
    }
   },
   "outputs": [
    {
     "data": {
      "text/html": [
       "<style>\n",
       ".list-inline {list-style: none; margin:0; padding: 0}\n",
       ".list-inline>li {display: inline-block}\n",
       ".list-inline>li:not(:last-child)::after {content: \"\\00b7\"; padding: 0 .5ex}\n",
       "</style>\n",
       "<ol class=list-inline><li>28.801</li><li>30.332</li><li>31.997</li><li>34.02</li><li>36.088</li><li>38.438</li></ol>\n"
      ],
      "text/latex": [
       "\\begin{enumerate*}\n",
       "\\item 28.801\n",
       "\\item 30.332\n",
       "\\item 31.997\n",
       "\\item 34.02\n",
       "\\item 36.088\n",
       "\\item 38.438\n",
       "\\end{enumerate*}\n"
      ],
      "text/markdown": [
       "1. 28.801\n",
       "2. 30.332\n",
       "3. 31.997\n",
       "4. 34.02\n",
       "5. 36.088\n",
       "6. 38.438\n",
       "\n",
       "\n"
      ],
      "text/plain": [
       "[1] 28.801 30.332 31.997 34.020 36.088 38.438"
      ]
     },
     "metadata": {},
     "output_type": "display_data"
    }
   ],
   "source": [
    "head(gapminder$lifeExp)"
   ]
  },
  {
   "cell_type": "code",
   "execution_count": 44,
   "id": "ce3e85ad",
   "metadata": {
    "vscode": {
     "languageId": "r"
    }
   },
   "outputs": [
    {
     "data": {
      "text/plain": [
       "   Min. 1st Qu.  Median    Mean 3rd Qu.    Max. \n",
       "  23.60   48.20   60.71   59.47   70.85   82.60 "
      ]
     },
     "metadata": {},
     "output_type": "display_data"
    }
   ],
   "source": [
    "summary(gapminder$lifeExp)"
   ]
  },
  {
   "cell_type": "code",
   "execution_count": 45,
   "id": "b94e83b4",
   "metadata": {
    "vscode": {
     "languageId": "r"
    }
   },
   "outputs": [
    {
     "data": {
      "image/png": "[encoded data removed]",
      "text/plain": [
       "Plot with title \"Histogram of gapminder$lifeExp\""
      ]
     },
     "metadata": {
      "image/png": {
       "height": 420,
       "width": 420
      }
     },
     "output_type": "display_data"
    }
   ],
   "source": [
    "hist(gapminder$lifeExp)"
   ]
  },
  {
   "cell_type": "code",
   "execution_count": 46,
   "id": "9fd586b3",
   "metadata": {
    "vscode": {
     "languageId": "r"
    }
   },
   "outputs": [
    {
     "data": {
      "text/plain": [
       "   Min. 1st Qu.  Median    Mean 3rd Qu.    Max. \n",
       "   1952    1966    1980    1980    1993    2007 "
      ]
     },
     "metadata": {},
     "output_type": "display_data"
    }
   ],
   "source": [
    "summary(gapminder$year)"
   ]
  },
  {
   "cell_type": "code",
   "execution_count": 47,
   "id": "13373732",
   "metadata": {
    "vscode": {
     "languageId": "r"
    }
   },
   "outputs": [
    {
     "data": {
      "text/plain": [
       "\n",
       "1952 1957 1962 1967 1972 1977 1982 1987 1992 1997 2002 2007 \n",
       " 142  142  142  142  142  142  142  142  142  142  142  142 "
      ]
     },
     "metadata": {},
     "output_type": "display_data"
    }
   ],
   "source": [
    "table(gapminder$year)"
   ]
  },
  {
   "cell_type": "code",
   "execution_count": 48,
   "id": "6d7bbdc6",
   "metadata": {
    "vscode": {
     "languageId": "r"
    }
   },
   "outputs": [
    {
     "data": {
      "text/html": [
       "'factor'"
      ],
      "text/latex": [
       "'factor'"
      ],
      "text/markdown": [
       "'factor'"
      ],
      "text/plain": [
       "[1] \"factor\""
      ]
     },
     "metadata": {},
     "output_type": "display_data"
    }
   ],
   "source": [
    "class(gapminder$continent)"
   ]
  },
  {
   "cell_type": "code",
   "execution_count": 49,
   "id": "a68a2bcd",
   "metadata": {
    "vscode": {
     "languageId": "r"
    }
   },
   "outputs": [
    {
     "data": {
      "text/html": [
       "<style>\n",
       ".dl-inline {width: auto; margin:0; padding: 0}\n",
       ".dl-inline>dt, .dl-inline>dd {float: none; width: auto; display: inline-block}\n",
       ".dl-inline>dt::after {content: \":\\0020\"; padding-right: .5ex}\n",
       ".dl-inline>dt:not(:first-of-type) {padding-left: .5ex}\n",
       "</style><dl class=dl-inline><dt>Africa</dt><dd>624</dd><dt>Americas</dt><dd>300</dd><dt>Asia</dt><dd>396</dd><dt>Europe</dt><dd>360</dd><dt>Oceania</dt><dd>24</dd></dl>\n"
      ],
      "text/latex": [
       "\\begin{description*}\n",
       "\\item[Africa] 624\n",
       "\\item[Americas] 300\n",
       "\\item[Asia] 396\n",
       "\\item[Europe] 360\n",
       "\\item[Oceania] 24\n",
       "\\end{description*}\n"
      ],
      "text/markdown": [
       "Africa\n",
       ":   624Americas\n",
       ":   300Asia\n",
       ":   396Europe\n",
       ":   360Oceania\n",
       ":   24\n",
       "\n"
      ],
      "text/plain": [
       "  Africa Americas     Asia   Europe  Oceania \n",
       "     624      300      396      360       24 "
      ]
     },
     "metadata": {},
     "output_type": "display_data"
    }
   ],
   "source": [
    "summary(gapminder$continent)"
   ]
  },
  {
   "cell_type": "code",
   "execution_count": 50,
   "id": "48a2ad16",
   "metadata": {
    "vscode": {
     "languageId": "r"
    }
   },
   "outputs": [
    {
     "data": {
      "text/html": [
       "<style>\n",
       ".list-inline {list-style: none; margin:0; padding: 0}\n",
       ".list-inline>li {display: inline-block}\n",
       ".list-inline>li:not(:last-child)::after {content: \"\\00b7\"; padding: 0 .5ex}\n",
       "</style>\n",
       "<ol class=list-inline><li>'Africa'</li><li>'Americas'</li><li>'Asia'</li><li>'Europe'</li><li>'Oceania'</li></ol>\n"
      ],
      "text/latex": [
       "\\begin{enumerate*}\n",
       "\\item 'Africa'\n",
       "\\item 'Americas'\n",
       "\\item 'Asia'\n",
       "\\item 'Europe'\n",
       "\\item 'Oceania'\n",
       "\\end{enumerate*}\n"
      ],
      "text/markdown": [
       "1. 'Africa'\n",
       "2. 'Americas'\n",
       "3. 'Asia'\n",
       "4. 'Europe'\n",
       "5. 'Oceania'\n",
       "\n",
       "\n"
      ],
      "text/plain": [
       "[1] \"Africa\"   \"Americas\" \"Asia\"     \"Europe\"   \"Oceania\" "
      ]
     },
     "metadata": {},
     "output_type": "display_data"
    }
   ],
   "source": [
    "levels(gapminder$continent)"
   ]
  },
  {
   "cell_type": "code",
   "execution_count": 51,
   "id": "c717fcd6",
   "metadata": {
    "vscode": {
     "languageId": "r"
    }
   },
   "outputs": [
    {
     "data": {
      "text/html": [
       "5"
      ],
      "text/latex": [
       "5"
      ],
      "text/markdown": [
       "5"
      ],
      "text/plain": [
       "[1] 5"
      ]
     },
     "metadata": {},
     "output_type": "display_data"
    }
   ],
   "source": [
    "nlevels(gapminder$continent)"
   ]
  },
  {
   "cell_type": "code",
   "execution_count": 52,
   "id": "191f812e",
   "metadata": {
    "vscode": {
     "languageId": "r"
    }
   },
   "outputs": [
    {
     "name": "stdout",
     "output_type": "stream",
     "text": [
      " Factor w/ 5 levels \"Africa\",\"Americas\",..: 3 3 3 3 3 3 3 3 3 3 ...\n"
     ]
    }
   ],
   "source": [
    "str(gapminder$continent)"
   ]
  },
  {
   "cell_type": "code",
   "execution_count": 53,
   "id": "aaf7f6b3",
   "metadata": {
    "vscode": {
     "languageId": "r"
    }
   },
   "outputs": [
    {
     "data": {
      "text/plain": [
       "\n",
       "  Africa Americas     Asia   Europe  Oceania \n",
       "     624      300      396      360       24 "
      ]
     },
     "metadata": {},
     "output_type": "display_data"
    }
   ],
   "source": [
    "table(gapminder$continent)"
   ]
  },
  {
   "cell_type": "code",
   "execution_count": 54,
   "id": "8075bf36",
   "metadata": {
    "vscode": {
     "languageId": "r"
    }
   },
   "outputs": [
    {
     "data": {
      "image/png": "[encoded data removed]",
      "text/plain": [
       "plot without title"
      ]
     },
     "metadata": {
      "image/png": {
       "height": 420,
       "width": 420
      }
     },
     "output_type": "display_data"
    }
   ],
   "source": [
    "barplot(table(gapminder$continent))"
   ]
  },
  {
   "cell_type": "code",
   "execution_count": null,
   "id": "242ba3c3",
   "metadata": {
    "vscode": {
     "languageId": "r"
    }
   },
   "outputs": [],
   "source": []
  }
 ],
 "metadata": {
  "kernelspec": {
   "display_name": "R",
   "language": "R",
   "name": "ir"
  },
  "language_info": {
   "codemirror_mode": "r",
   "file_extension": ".r",
   "mimetype": "text/x-r-source",
   "name": "R",
   "pygments_lexer": "r",
   "version": "4.5.1"
  }
 },
 "nbformat": 4,
 "nbformat_minor": 5
}
