{
 "cells": [
  {
   "cell_type": "code",
   "execution_count": 2,
   "id": "1b74fa0a",
   "metadata": {
    "vscode": {
     "languageId": "r"
    }
   },
   "outputs": [
    {
     "name": "stderr",
     "output_type": "stream",
     "text": [
      "── \u001b[1mAttaching core tidyverse packages\u001b[22m ──────────────────────── tidyverse 2.0.0 ──\n",
      "\u001b[32m✔\u001b[39m \u001b[34mdplyr    \u001b[39m 1.1.4     \u001b[32m✔\u001b[39m \u001b[34mreadr    \u001b[39m 2.1.5\n",
      "\u001b[32m✔\u001b[39m \u001b[34mforcats  \u001b[39m 1.0.0     \u001b[32m✔\u001b[39m \u001b[34mstringr  \u001b[39m 1.5.1\n",
      "\u001b[32m✔\u001b[39m \u001b[34mggplot2  \u001b[39m 3.5.2     \u001b[32m✔\u001b[39m \u001b[34mtibble   \u001b[39m 3.3.0\n",
      "\u001b[32m✔\u001b[39m \u001b[34mlubridate\u001b[39m 1.9.4     \u001b[32m✔\u001b[39m \u001b[34mtidyr    \u001b[39m 1.3.1\n",
      "\u001b[32m✔\u001b[39m \u001b[34mpurrr    \u001b[39m 1.1.0     \n",
      "── \u001b[1mConflicts\u001b[22m ────────────────────────────────────────── tidyverse_conflicts() ──\n",
      "\u001b[31m✖\u001b[39m \u001b[34mdplyr\u001b[39m::\u001b[32mfilter()\u001b[39m masks \u001b[34mstats\u001b[39m::filter()\n",
      "\u001b[31m✖\u001b[39m \u001b[34mdplyr\u001b[39m::\u001b[32mlag()\u001b[39m    masks \u001b[34mstats\u001b[39m::lag()\n",
      "\u001b[36mℹ\u001b[39m Use the conflicted package (\u001b[3m\u001b[34m<http://conflicted.r-lib.org/>\u001b[39m\u001b[23m) to force all conflicts to become errors\n"
     ]
    }
   ],
   "source": [
    "library(tidyverse)"
   ]
  },
  {
   "cell_type": "code",
   "execution_count": 3,
   "id": "9b073d6a",
   "metadata": {
    "vscode": {
     "languageId": "r"
    }
   },
   "outputs": [],
   "source": [
    "library(gapminder)"
   ]
  },
  {
   "cell_type": "code",
   "execution_count": 4,
   "id": "e9c5d0e0",
   "metadata": {
    "vscode": {
     "languageId": "r"
    }
   },
   "outputs": [
    {
     "data": {
      "text/html": [
       "<style>\n",
       ".list-inline {list-style: none; margin:0; padding: 0}\n",
       ".list-inline>li {display: inline-block}\n",
       ".list-inline>li:not(:last-child)::after {content: \"\\00b7\"; padding: 0 .5ex}\n",
       "</style>\n",
       "<ol class=list-inline><li>'tbl_df'</li><li>'tbl'</li><li>'data.frame'</li></ol>\n"
      ],
      "text/latex": [
       "\\begin{enumerate*}\n",
       "\\item 'tbl\\_df'\n",
       "\\item 'tbl'\n",
       "\\item 'data.frame'\n",
       "\\end{enumerate*}\n"
      ],
      "text/markdown": [
       "1. 'tbl_df'\n",
       "2. 'tbl'\n",
       "3. 'data.frame'\n",
       "\n",
       "\n"
      ],
      "text/plain": [
       "[1] \"tbl_df\"     \"tbl\"        \"data.frame\""
      ]
     },
     "metadata": {},
     "output_type": "display_data"
    }
   ],
   "source": [
    "class(gapminder)"
   ]
  },
  {
   "cell_type": "code",
   "execution_count": 5,
   "id": "54a43509",
   "metadata": {
    "vscode": {
     "languageId": "r"
    }
   },
   "outputs": [
    {
     "data": {
      "text/html": [
       "<table class=\"dataframe\">\n",
       "<caption>A tibble: 150 × 5</caption>\n",
       "<thead>\n",
       "\t<tr><th scope=col>Sepal.Length</th><th scope=col>Sepal.Width</th><th scope=col>Petal.Length</th><th scope=col>Petal.Width</th><th scope=col>Species</th></tr>\n",
       "\t<tr><th scope=col>&lt;dbl&gt;</th><th scope=col>&lt;dbl&gt;</th><th scope=col>&lt;dbl&gt;</th><th scope=col>&lt;dbl&gt;</th><th scope=col>&lt;fct&gt;</th></tr>\n",
       "</thead>\n",
       "<tbody>\n",
       "\t<tr><td>5.1</td><td>3.5</td><td>1.4</td><td>0.2</td><td>setosa</td></tr>\n",
       "\t<tr><td>4.9</td><td>3.0</td><td>1.4</td><td>0.2</td><td>setosa</td></tr>\n",
       "\t<tr><td>4.7</td><td>3.2</td><td>1.3</td><td>0.2</td><td>setosa</td></tr>\n",
       "\t<tr><td>4.6</td><td>3.1</td><td>1.5</td><td>0.2</td><td>setosa</td></tr>\n",
       "\t<tr><td>5.0</td><td>3.6</td><td>1.4</td><td>0.2</td><td>setosa</td></tr>\n",
       "\t<tr><td>5.4</td><td>3.9</td><td>1.7</td><td>0.4</td><td>setosa</td></tr>\n",
       "\t<tr><td>4.6</td><td>3.4</td><td>1.4</td><td>0.3</td><td>setosa</td></tr>\n",
       "\t<tr><td>5.0</td><td>3.4</td><td>1.5</td><td>0.2</td><td>setosa</td></tr>\n",
       "\t<tr><td>4.4</td><td>2.9</td><td>1.4</td><td>0.2</td><td>setosa</td></tr>\n",
       "\t<tr><td>4.9</td><td>3.1</td><td>1.5</td><td>0.1</td><td>setosa</td></tr>\n",
       "\t<tr><td>5.4</td><td>3.7</td><td>1.5</td><td>0.2</td><td>setosa</td></tr>\n",
       "\t<tr><td>4.8</td><td>3.4</td><td>1.6</td><td>0.2</td><td>setosa</td></tr>\n",
       "\t<tr><td>4.8</td><td>3.0</td><td>1.4</td><td>0.1</td><td>setosa</td></tr>\n",
       "\t<tr><td>4.3</td><td>3.0</td><td>1.1</td><td>0.1</td><td>setosa</td></tr>\n",
       "\t<tr><td>5.8</td><td>4.0</td><td>1.2</td><td>0.2</td><td>setosa</td></tr>\n",
       "\t<tr><td>5.7</td><td>4.4</td><td>1.5</td><td>0.4</td><td>setosa</td></tr>\n",
       "\t<tr><td>5.4</td><td>3.9</td><td>1.3</td><td>0.4</td><td>setosa</td></tr>\n",
       "\t<tr><td>5.1</td><td>3.5</td><td>1.4</td><td>0.3</td><td>setosa</td></tr>\n",
       "\t<tr><td>5.7</td><td>3.8</td><td>1.7</td><td>0.3</td><td>setosa</td></tr>\n",
       "\t<tr><td>5.1</td><td>3.8</td><td>1.5</td><td>0.3</td><td>setosa</td></tr>\n",
       "\t<tr><td>5.4</td><td>3.4</td><td>1.7</td><td>0.2</td><td>setosa</td></tr>\n",
       "\t<tr><td>5.1</td><td>3.7</td><td>1.5</td><td>0.4</td><td>setosa</td></tr>\n",
       "\t<tr><td>4.6</td><td>3.6</td><td>1.0</td><td>0.2</td><td>setosa</td></tr>\n",
       "\t<tr><td>5.1</td><td>3.3</td><td>1.7</td><td>0.5</td><td>setosa</td></tr>\n",
       "\t<tr><td>4.8</td><td>3.4</td><td>1.9</td><td>0.2</td><td>setosa</td></tr>\n",
       "\t<tr><td>5.0</td><td>3.0</td><td>1.6</td><td>0.2</td><td>setosa</td></tr>\n",
       "\t<tr><td>5.0</td><td>3.4</td><td>1.6</td><td>0.4</td><td>setosa</td></tr>\n",
       "\t<tr><td>5.2</td><td>3.5</td><td>1.5</td><td>0.2</td><td>setosa</td></tr>\n",
       "\t<tr><td>5.2</td><td>3.4</td><td>1.4</td><td>0.2</td><td>setosa</td></tr>\n",
       "\t<tr><td>4.7</td><td>3.2</td><td>1.6</td><td>0.2</td><td>setosa</td></tr>\n",
       "\t<tr><td>⋮</td><td>⋮</td><td>⋮</td><td>⋮</td><td>⋮</td></tr>\n",
       "\t<tr><td>6.9</td><td>3.2</td><td>5.7</td><td>2.3</td><td>virginica</td></tr>\n",
       "\t<tr><td>5.6</td><td>2.8</td><td>4.9</td><td>2.0</td><td>virginica</td></tr>\n",
       "\t<tr><td>7.7</td><td>2.8</td><td>6.7</td><td>2.0</td><td>virginica</td></tr>\n",
       "\t<tr><td>6.3</td><td>2.7</td><td>4.9</td><td>1.8</td><td>virginica</td></tr>\n",
       "\t<tr><td>6.7</td><td>3.3</td><td>5.7</td><td>2.1</td><td>virginica</td></tr>\n",
       "\t<tr><td>7.2</td><td>3.2</td><td>6.0</td><td>1.8</td><td>virginica</td></tr>\n",
       "\t<tr><td>6.2</td><td>2.8</td><td>4.8</td><td>1.8</td><td>virginica</td></tr>\n",
       "\t<tr><td>6.1</td><td>3.0</td><td>4.9</td><td>1.8</td><td>virginica</td></tr>\n",
       "\t<tr><td>6.4</td><td>2.8</td><td>5.6</td><td>2.1</td><td>virginica</td></tr>\n",
       "\t<tr><td>7.2</td><td>3.0</td><td>5.8</td><td>1.6</td><td>virginica</td></tr>\n",
       "\t<tr><td>7.4</td><td>2.8</td><td>6.1</td><td>1.9</td><td>virginica</td></tr>\n",
       "\t<tr><td>7.9</td><td>3.8</td><td>6.4</td><td>2.0</td><td>virginica</td></tr>\n",
       "\t<tr><td>6.4</td><td>2.8</td><td>5.6</td><td>2.2</td><td>virginica</td></tr>\n",
       "\t<tr><td>6.3</td><td>2.8</td><td>5.1</td><td>1.5</td><td>virginica</td></tr>\n",
       "\t<tr><td>6.1</td><td>2.6</td><td>5.6</td><td>1.4</td><td>virginica</td></tr>\n",
       "\t<tr><td>7.7</td><td>3.0</td><td>6.1</td><td>2.3</td><td>virginica</td></tr>\n",
       "\t<tr><td>6.3</td><td>3.4</td><td>5.6</td><td>2.4</td><td>virginica</td></tr>\n",
       "\t<tr><td>6.4</td><td>3.1</td><td>5.5</td><td>1.8</td><td>virginica</td></tr>\n",
       "\t<tr><td>6.0</td><td>3.0</td><td>4.8</td><td>1.8</td><td>virginica</td></tr>\n",
       "\t<tr><td>6.9</td><td>3.1</td><td>5.4</td><td>2.1</td><td>virginica</td></tr>\n",
       "\t<tr><td>6.7</td><td>3.1</td><td>5.6</td><td>2.4</td><td>virginica</td></tr>\n",
       "\t<tr><td>6.9</td><td>3.1</td><td>5.1</td><td>2.3</td><td>virginica</td></tr>\n",
       "\t<tr><td>5.8</td><td>2.7</td><td>5.1</td><td>1.9</td><td>virginica</td></tr>\n",
       "\t<tr><td>6.8</td><td>3.2</td><td>5.9</td><td>2.3</td><td>virginica</td></tr>\n",
       "\t<tr><td>6.7</td><td>3.3</td><td>5.7</td><td>2.5</td><td>virginica</td></tr>\n",
       "\t<tr><td>6.7</td><td>3.0</td><td>5.2</td><td>2.3</td><td>virginica</td></tr>\n",
       "\t<tr><td>6.3</td><td>2.5</td><td>5.0</td><td>1.9</td><td>virginica</td></tr>\n",
       "\t<tr><td>6.5</td><td>3.0</td><td>5.2</td><td>2.0</td><td>virginica</td></tr>\n",
       "\t<tr><td>6.2</td><td>3.4</td><td>5.4</td><td>2.3</td><td>virginica</td></tr>\n",
       "\t<tr><td>5.9</td><td>3.0</td><td>5.1</td><td>1.8</td><td>virginica</td></tr>\n",
       "</tbody>\n",
       "</table>\n"
      ],
      "text/latex": [
       "A tibble: 150 × 5\n",
       "\\begin{tabular}{lllll}\n",
       " Sepal.Length & Sepal.Width & Petal.Length & Petal.Width & Species\\\\\n",
       " <dbl> & <dbl> & <dbl> & <dbl> & <fct>\\\\\n",
       "\\hline\n",
       "\t 5.1 & 3.5 & 1.4 & 0.2 & setosa\\\\\n",
       "\t 4.9 & 3.0 & 1.4 & 0.2 & setosa\\\\\n",
       "\t 4.7 & 3.2 & 1.3 & 0.2 & setosa\\\\\n",
       "\t 4.6 & 3.1 & 1.5 & 0.2 & setosa\\\\\n",
       "\t 5.0 & 3.6 & 1.4 & 0.2 & setosa\\\\\n",
       "\t 5.4 & 3.9 & 1.7 & 0.4 & setosa\\\\\n",
       "\t 4.6 & 3.4 & 1.4 & 0.3 & setosa\\\\\n",
       "\t 5.0 & 3.4 & 1.5 & 0.2 & setosa\\\\\n",
       "\t 4.4 & 2.9 & 1.4 & 0.2 & setosa\\\\\n",
       "\t 4.9 & 3.1 & 1.5 & 0.1 & setosa\\\\\n",
       "\t 5.4 & 3.7 & 1.5 & 0.2 & setosa\\\\\n",
       "\t 4.8 & 3.4 & 1.6 & 0.2 & setosa\\\\\n",
       "\t 4.8 & 3.0 & 1.4 & 0.1 & setosa\\\\\n",
       "\t 4.3 & 3.0 & 1.1 & 0.1 & setosa\\\\\n",
       "\t 5.8 & 4.0 & 1.2 & 0.2 & setosa\\\\\n",
       "\t 5.7 & 4.4 & 1.5 & 0.4 & setosa\\\\\n",
       "\t 5.4 & 3.9 & 1.3 & 0.4 & setosa\\\\\n",
       "\t 5.1 & 3.5 & 1.4 & 0.3 & setosa\\\\\n",
       "\t 5.7 & 3.8 & 1.7 & 0.3 & setosa\\\\\n",
       "\t 5.1 & 3.8 & 1.5 & 0.3 & setosa\\\\\n",
       "\t 5.4 & 3.4 & 1.7 & 0.2 & setosa\\\\\n",
       "\t 5.1 & 3.7 & 1.5 & 0.4 & setosa\\\\\n",
       "\t 4.6 & 3.6 & 1.0 & 0.2 & setosa\\\\\n",
       "\t 5.1 & 3.3 & 1.7 & 0.5 & setosa\\\\\n",
       "\t 4.8 & 3.4 & 1.9 & 0.2 & setosa\\\\\n",
       "\t 5.0 & 3.0 & 1.6 & 0.2 & setosa\\\\\n",
       "\t 5.0 & 3.4 & 1.6 & 0.4 & setosa\\\\\n",
       "\t 5.2 & 3.5 & 1.5 & 0.2 & setosa\\\\\n",
       "\t 5.2 & 3.4 & 1.4 & 0.2 & setosa\\\\\n",
       "\t 4.7 & 3.2 & 1.6 & 0.2 & setosa\\\\\n",
       "\t ⋮ & ⋮ & ⋮ & ⋮ & ⋮\\\\\n",
       "\t 6.9 & 3.2 & 5.7 & 2.3 & virginica\\\\\n",
       "\t 5.6 & 2.8 & 4.9 & 2.0 & virginica\\\\\n",
       "\t 7.7 & 2.8 & 6.7 & 2.0 & virginica\\\\\n",
       "\t 6.3 & 2.7 & 4.9 & 1.8 & virginica\\\\\n",
       "\t 6.7 & 3.3 & 5.7 & 2.1 & virginica\\\\\n",
       "\t 7.2 & 3.2 & 6.0 & 1.8 & virginica\\\\\n",
       "\t 6.2 & 2.8 & 4.8 & 1.8 & virginica\\\\\n",
       "\t 6.1 & 3.0 & 4.9 & 1.8 & virginica\\\\\n",
       "\t 6.4 & 2.8 & 5.6 & 2.1 & virginica\\\\\n",
       "\t 7.2 & 3.0 & 5.8 & 1.6 & virginica\\\\\n",
       "\t 7.4 & 2.8 & 6.1 & 1.9 & virginica\\\\\n",
       "\t 7.9 & 3.8 & 6.4 & 2.0 & virginica\\\\\n",
       "\t 6.4 & 2.8 & 5.6 & 2.2 & virginica\\\\\n",
       "\t 6.3 & 2.8 & 5.1 & 1.5 & virginica\\\\\n",
       "\t 6.1 & 2.6 & 5.6 & 1.4 & virginica\\\\\n",
       "\t 7.7 & 3.0 & 6.1 & 2.3 & virginica\\\\\n",
       "\t 6.3 & 3.4 & 5.6 & 2.4 & virginica\\\\\n",
       "\t 6.4 & 3.1 & 5.5 & 1.8 & virginica\\\\\n",
       "\t 6.0 & 3.0 & 4.8 & 1.8 & virginica\\\\\n",
       "\t 6.9 & 3.1 & 5.4 & 2.1 & virginica\\\\\n",
       "\t 6.7 & 3.1 & 5.6 & 2.4 & virginica\\\\\n",
       "\t 6.9 & 3.1 & 5.1 & 2.3 & virginica\\\\\n",
       "\t 5.8 & 2.7 & 5.1 & 1.9 & virginica\\\\\n",
       "\t 6.8 & 3.2 & 5.9 & 2.3 & virginica\\\\\n",
       "\t 6.7 & 3.3 & 5.7 & 2.5 & virginica\\\\\n",
       "\t 6.7 & 3.0 & 5.2 & 2.3 & virginica\\\\\n",
       "\t 6.3 & 2.5 & 5.0 & 1.9 & virginica\\\\\n",
       "\t 6.5 & 3.0 & 5.2 & 2.0 & virginica\\\\\n",
       "\t 6.2 & 3.4 & 5.4 & 2.3 & virginica\\\\\n",
       "\t 5.9 & 3.0 & 5.1 & 1.8 & virginica\\\\\n",
       "\\end{tabular}\n"
      ],
      "text/markdown": [
       "\n",
       "A tibble: 150 × 5\n",
       "\n",
       "| Sepal.Length &lt;dbl&gt; | Sepal.Width &lt;dbl&gt; | Petal.Length &lt;dbl&gt; | Petal.Width &lt;dbl&gt; | Species &lt;fct&gt; |\n",
       "|---|---|---|---|---|\n",
       "| 5.1 | 3.5 | 1.4 | 0.2 | setosa |\n",
       "| 4.9 | 3.0 | 1.4 | 0.2 | setosa |\n",
       "| 4.7 | 3.2 | 1.3 | 0.2 | setosa |\n",
       "| 4.6 | 3.1 | 1.5 | 0.2 | setosa |\n",
       "| 5.0 | 3.6 | 1.4 | 0.2 | setosa |\n",
       "| 5.4 | 3.9 | 1.7 | 0.4 | setosa |\n",
       "| 4.6 | 3.4 | 1.4 | 0.3 | setosa |\n",
       "| 5.0 | 3.4 | 1.5 | 0.2 | setosa |\n",
       "| 4.4 | 2.9 | 1.4 | 0.2 | setosa |\n",
       "| 4.9 | 3.1 | 1.5 | 0.1 | setosa |\n",
       "| 5.4 | 3.7 | 1.5 | 0.2 | setosa |\n",
       "| 4.8 | 3.4 | 1.6 | 0.2 | setosa |\n",
       "| 4.8 | 3.0 | 1.4 | 0.1 | setosa |\n",
       "| 4.3 | 3.0 | 1.1 | 0.1 | setosa |\n",
       "| 5.8 | 4.0 | 1.2 | 0.2 | setosa |\n",
       "| 5.7 | 4.4 | 1.5 | 0.4 | setosa |\n",
       "| 5.4 | 3.9 | 1.3 | 0.4 | setosa |\n",
       "| 5.1 | 3.5 | 1.4 | 0.3 | setosa |\n",
       "| 5.7 | 3.8 | 1.7 | 0.3 | setosa |\n",
       "| 5.1 | 3.8 | 1.5 | 0.3 | setosa |\n",
       "| 5.4 | 3.4 | 1.7 | 0.2 | setosa |\n",
       "| 5.1 | 3.7 | 1.5 | 0.4 | setosa |\n",
       "| 4.6 | 3.6 | 1.0 | 0.2 | setosa |\n",
       "| 5.1 | 3.3 | 1.7 | 0.5 | setosa |\n",
       "| 4.8 | 3.4 | 1.9 | 0.2 | setosa |\n",
       "| 5.0 | 3.0 | 1.6 | 0.2 | setosa |\n",
       "| 5.0 | 3.4 | 1.6 | 0.4 | setosa |\n",
       "| 5.2 | 3.5 | 1.5 | 0.2 | setosa |\n",
       "| 5.2 | 3.4 | 1.4 | 0.2 | setosa |\n",
       "| 4.7 | 3.2 | 1.6 | 0.2 | setosa |\n",
       "| ⋮ | ⋮ | ⋮ | ⋮ | ⋮ |\n",
       "| 6.9 | 3.2 | 5.7 | 2.3 | virginica |\n",
       "| 5.6 | 2.8 | 4.9 | 2.0 | virginica |\n",
       "| 7.7 | 2.8 | 6.7 | 2.0 | virginica |\n",
       "| 6.3 | 2.7 | 4.9 | 1.8 | virginica |\n",
       "| 6.7 | 3.3 | 5.7 | 2.1 | virginica |\n",
       "| 7.2 | 3.2 | 6.0 | 1.8 | virginica |\n",
       "| 6.2 | 2.8 | 4.8 | 1.8 | virginica |\n",
       "| 6.1 | 3.0 | 4.9 | 1.8 | virginica |\n",
       "| 6.4 | 2.8 | 5.6 | 2.1 | virginica |\n",
       "| 7.2 | 3.0 | 5.8 | 1.6 | virginica |\n",
       "| 7.4 | 2.8 | 6.1 | 1.9 | virginica |\n",
       "| 7.9 | 3.8 | 6.4 | 2.0 | virginica |\n",
       "| 6.4 | 2.8 | 5.6 | 2.2 | virginica |\n",
       "| 6.3 | 2.8 | 5.1 | 1.5 | virginica |\n",
       "| 6.1 | 2.6 | 5.6 | 1.4 | virginica |\n",
       "| 7.7 | 3.0 | 6.1 | 2.3 | virginica |\n",
       "| 6.3 | 3.4 | 5.6 | 2.4 | virginica |\n",
       "| 6.4 | 3.1 | 5.5 | 1.8 | virginica |\n",
       "| 6.0 | 3.0 | 4.8 | 1.8 | virginica |\n",
       "| 6.9 | 3.1 | 5.4 | 2.1 | virginica |\n",
       "| 6.7 | 3.1 | 5.6 | 2.4 | virginica |\n",
       "| 6.9 | 3.1 | 5.1 | 2.3 | virginica |\n",
       "| 5.8 | 2.7 | 5.1 | 1.9 | virginica |\n",
       "| 6.8 | 3.2 | 5.9 | 2.3 | virginica |\n",
       "| 6.7 | 3.3 | 5.7 | 2.5 | virginica |\n",
       "| 6.7 | 3.0 | 5.2 | 2.3 | virginica |\n",
       "| 6.3 | 2.5 | 5.0 | 1.9 | virginica |\n",
       "| 6.5 | 3.0 | 5.2 | 2.0 | virginica |\n",
       "| 6.2 | 3.4 | 5.4 | 2.3 | virginica |\n",
       "| 5.9 | 3.0 | 5.1 | 1.8 | virginica |\n",
       "\n"
      ],
      "text/plain": [
       "    Sepal.Length Sepal.Width Petal.Length Petal.Width Species  \n",
       "1   5.1          3.5         1.4          0.2         setosa   \n",
       "2   4.9          3.0         1.4          0.2         setosa   \n",
       "3   4.7          3.2         1.3          0.2         setosa   \n",
       "4   4.6          3.1         1.5          0.2         setosa   \n",
       "5   5.0          3.6         1.4          0.2         setosa   \n",
       "6   5.4          3.9         1.7          0.4         setosa   \n",
       "7   4.6          3.4         1.4          0.3         setosa   \n",
       "8   5.0          3.4         1.5          0.2         setosa   \n",
       "9   4.4          2.9         1.4          0.2         setosa   \n",
       "10  4.9          3.1         1.5          0.1         setosa   \n",
       "11  5.4          3.7         1.5          0.2         setosa   \n",
       "12  4.8          3.4         1.6          0.2         setosa   \n",
       "13  4.8          3.0         1.4          0.1         setosa   \n",
       "14  4.3          3.0         1.1          0.1         setosa   \n",
       "15  5.8          4.0         1.2          0.2         setosa   \n",
       "16  5.7          4.4         1.5          0.4         setosa   \n",
       "17  5.4          3.9         1.3          0.4         setosa   \n",
       "18  5.1          3.5         1.4          0.3         setosa   \n",
       "19  5.7          3.8         1.7          0.3         setosa   \n",
       "20  5.1          3.8         1.5          0.3         setosa   \n",
       "21  5.4          3.4         1.7          0.2         setosa   \n",
       "22  5.1          3.7         1.5          0.4         setosa   \n",
       "23  4.6          3.6         1.0          0.2         setosa   \n",
       "24  5.1          3.3         1.7          0.5         setosa   \n",
       "25  4.8          3.4         1.9          0.2         setosa   \n",
       "26  5.0          3.0         1.6          0.2         setosa   \n",
       "27  5.0          3.4         1.6          0.4         setosa   \n",
       "28  5.2          3.5         1.5          0.2         setosa   \n",
       "29  5.2          3.4         1.4          0.2         setosa   \n",
       "30  4.7          3.2         1.6          0.2         setosa   \n",
       "⋮   ⋮            ⋮           ⋮            ⋮           ⋮        \n",
       "121 6.9          3.2         5.7          2.3         virginica\n",
       "122 5.6          2.8         4.9          2.0         virginica\n",
       "123 7.7          2.8         6.7          2.0         virginica\n",
       "124 6.3          2.7         4.9          1.8         virginica\n",
       "125 6.7          3.3         5.7          2.1         virginica\n",
       "126 7.2          3.2         6.0          1.8         virginica\n",
       "127 6.2          2.8         4.8          1.8         virginica\n",
       "128 6.1          3.0         4.9          1.8         virginica\n",
       "129 6.4          2.8         5.6          2.1         virginica\n",
       "130 7.2          3.0         5.8          1.6         virginica\n",
       "131 7.4          2.8         6.1          1.9         virginica\n",
       "132 7.9          3.8         6.4          2.0         virginica\n",
       "133 6.4          2.8         5.6          2.2         virginica\n",
       "134 6.3          2.8         5.1          1.5         virginica\n",
       "135 6.1          2.6         5.6          1.4         virginica\n",
       "136 7.7          3.0         6.1          2.3         virginica\n",
       "137 6.3          3.4         5.6          2.4         virginica\n",
       "138 6.4          3.1         5.5          1.8         virginica\n",
       "139 6.0          3.0         4.8          1.8         virginica\n",
       "140 6.9          3.1         5.4          2.1         virginica\n",
       "141 6.7          3.1         5.6          2.4         virginica\n",
       "142 6.9          3.1         5.1          2.3         virginica\n",
       "143 5.8          2.7         5.1          1.9         virginica\n",
       "144 6.8          3.2         5.9          2.3         virginica\n",
       "145 6.7          3.3         5.7          2.5         virginica\n",
       "146 6.7          3.0         5.2          2.3         virginica\n",
       "147 6.3          2.5         5.0          1.9         virginica\n",
       "148 6.5          3.0         5.2          2.0         virginica\n",
       "149 6.2          3.4         5.4          2.3         virginica\n",
       "150 5.9          3.0         5.1          1.8         virginica"
      ]
     },
     "metadata": {},
     "output_type": "display_data"
    }
   ],
   "source": [
    "as_tibble(iris)"
   ]
  },
  {
   "cell_type": "code",
   "execution_count": 6,
   "id": "39f68360",
   "metadata": {
    "vscode": {
     "languageId": "r"
    }
   },
   "outputs": [
    {
     "data": {
      "text/html": [
       "<table class=\"dataframe\">\n",
       "<caption>A tibble: 12 × 6</caption>\n",
       "<thead>\n",
       "\t<tr><th scope=col>country</th><th scope=col>continent</th><th scope=col>year</th><th scope=col>lifeExp</th><th scope=col>pop</th><th scope=col>gdpPercap</th></tr>\n",
       "\t<tr><th scope=col>&lt;fct&gt;</th><th scope=col>&lt;fct&gt;</th><th scope=col>&lt;int&gt;</th><th scope=col>&lt;dbl&gt;</th><th scope=col>&lt;int&gt;</th><th scope=col>&lt;dbl&gt;</th></tr>\n",
       "</thead>\n",
       "<tbody>\n",
       "\t<tr><td>Canada</td><td>Americas</td><td>1952</td><td>68.750</td><td>14785584</td><td>11367.16</td></tr>\n",
       "\t<tr><td>Canada</td><td>Americas</td><td>1957</td><td>69.960</td><td>17010154</td><td>12489.95</td></tr>\n",
       "\t<tr><td>Canada</td><td>Americas</td><td>1962</td><td>71.300</td><td>18985849</td><td>13462.49</td></tr>\n",
       "\t<tr><td>Canada</td><td>Americas</td><td>1967</td><td>72.130</td><td>20819767</td><td>16076.59</td></tr>\n",
       "\t<tr><td>Canada</td><td>Americas</td><td>1972</td><td>72.880</td><td>22284500</td><td>18970.57</td></tr>\n",
       "\t<tr><td>Canada</td><td>Americas</td><td>1977</td><td>74.210</td><td>23796400</td><td>22090.88</td></tr>\n",
       "\t<tr><td>Canada</td><td>Americas</td><td>1982</td><td>75.760</td><td>25201900</td><td>22898.79</td></tr>\n",
       "\t<tr><td>Canada</td><td>Americas</td><td>1987</td><td>76.860</td><td>26549700</td><td>26626.52</td></tr>\n",
       "\t<tr><td>Canada</td><td>Americas</td><td>1992</td><td>77.950</td><td>28523502</td><td>26342.88</td></tr>\n",
       "\t<tr><td>Canada</td><td>Americas</td><td>1997</td><td>78.610</td><td>30305843</td><td>28954.93</td></tr>\n",
       "\t<tr><td>Canada</td><td>Americas</td><td>2002</td><td>79.770</td><td>31902268</td><td>33328.97</td></tr>\n",
       "\t<tr><td>Canada</td><td>Americas</td><td>2007</td><td>80.653</td><td>33390141</td><td>36319.24</td></tr>\n",
       "</tbody>\n",
       "</table>\n"
      ],
      "text/latex": [
       "A tibble: 12 × 6\n",
       "\\begin{tabular}{llllll}\n",
       " country & continent & year & lifeExp & pop & gdpPercap\\\\\n",
       " <fct> & <fct> & <int> & <dbl> & <int> & <dbl>\\\\\n",
       "\\hline\n",
       "\t Canada & Americas & 1952 & 68.750 & 14785584 & 11367.16\\\\\n",
       "\t Canada & Americas & 1957 & 69.960 & 17010154 & 12489.95\\\\\n",
       "\t Canada & Americas & 1962 & 71.300 & 18985849 & 13462.49\\\\\n",
       "\t Canada & Americas & 1967 & 72.130 & 20819767 & 16076.59\\\\\n",
       "\t Canada & Americas & 1972 & 72.880 & 22284500 & 18970.57\\\\\n",
       "\t Canada & Americas & 1977 & 74.210 & 23796400 & 22090.88\\\\\n",
       "\t Canada & Americas & 1982 & 75.760 & 25201900 & 22898.79\\\\\n",
       "\t Canada & Americas & 1987 & 76.860 & 26549700 & 26626.52\\\\\n",
       "\t Canada & Americas & 1992 & 77.950 & 28523502 & 26342.88\\\\\n",
       "\t Canada & Americas & 1997 & 78.610 & 30305843 & 28954.93\\\\\n",
       "\t Canada & Americas & 2002 & 79.770 & 31902268 & 33328.97\\\\\n",
       "\t Canada & Americas & 2007 & 80.653 & 33390141 & 36319.24\\\\\n",
       "\\end{tabular}\n"
      ],
      "text/markdown": [
       "\n",
       "A tibble: 12 × 6\n",
       "\n",
       "| country &lt;fct&gt; | continent &lt;fct&gt; | year &lt;int&gt; | lifeExp &lt;dbl&gt; | pop &lt;int&gt; | gdpPercap &lt;dbl&gt; |\n",
       "|---|---|---|---|---|---|\n",
       "| Canada | Americas | 1952 | 68.750 | 14785584 | 11367.16 |\n",
       "| Canada | Americas | 1957 | 69.960 | 17010154 | 12489.95 |\n",
       "| Canada | Americas | 1962 | 71.300 | 18985849 | 13462.49 |\n",
       "| Canada | Americas | 1967 | 72.130 | 20819767 | 16076.59 |\n",
       "| Canada | Americas | 1972 | 72.880 | 22284500 | 18970.57 |\n",
       "| Canada | Americas | 1977 | 74.210 | 23796400 | 22090.88 |\n",
       "| Canada | Americas | 1982 | 75.760 | 25201900 | 22898.79 |\n",
       "| Canada | Americas | 1987 | 76.860 | 26549700 | 26626.52 |\n",
       "| Canada | Americas | 1992 | 77.950 | 28523502 | 26342.88 |\n",
       "| Canada | Americas | 1997 | 78.610 | 30305843 | 28954.93 |\n",
       "| Canada | Americas | 2002 | 79.770 | 31902268 | 33328.97 |\n",
       "| Canada | Americas | 2007 | 80.653 | 33390141 | 36319.24 |\n",
       "\n"
      ],
      "text/plain": [
       "   country continent year lifeExp pop      gdpPercap\n",
       "1  Canada  Americas  1952 68.750  14785584 11367.16 \n",
       "2  Canada  Americas  1957 69.960  17010154 12489.95 \n",
       "3  Canada  Americas  1962 71.300  18985849 13462.49 \n",
       "4  Canada  Americas  1967 72.130  20819767 16076.59 \n",
       "5  Canada  Americas  1972 72.880  22284500 18970.57 \n",
       "6  Canada  Americas  1977 74.210  23796400 22090.88 \n",
       "7  Canada  Americas  1982 75.760  25201900 22898.79 \n",
       "8  Canada  Americas  1987 76.860  26549700 26626.52 \n",
       "9  Canada  Americas  1992 77.950  28523502 26342.88 \n",
       "10 Canada  Americas  1997 78.610  30305843 28954.93 \n",
       "11 Canada  Americas  2002 79.770  31902268 33328.97 \n",
       "12 Canada  Americas  2007 80.653  33390141 36319.24 "
      ]
     },
     "metadata": {},
     "output_type": "display_data"
    }
   ],
   "source": [
    "(canada <- gapminder[241:252, ])"
   ]
  },
  {
   "cell_type": "code",
   "execution_count": 7,
   "id": "8bcf2a47",
   "metadata": {
    "vscode": {
     "languageId": "r"
    }
   },
   "outputs": [
    {
     "data": {
      "text/html": [
       "<table class=\"dataframe\">\n",
       "<caption>A tibble: 2 × 6</caption>\n",
       "<thead>\n",
       "\t<tr><th scope=col>country</th><th scope=col>continent</th><th scope=col>year</th><th scope=col>lifeExp</th><th scope=col>pop</th><th scope=col>gdpPercap</th></tr>\n",
       "\t<tr><th scope=col>&lt;fct&gt;</th><th scope=col>&lt;fct&gt;</th><th scope=col>&lt;int&gt;</th><th scope=col>&lt;dbl&gt;</th><th scope=col>&lt;int&gt;</th><th scope=col>&lt;dbl&gt;</th></tr>\n",
       "</thead>\n",
       "<tbody>\n",
       "\t<tr><td>Afghanistan</td><td>Asia  </td><td>1952</td><td>28.801</td><td>8425333</td><td>779.4453</td></tr>\n",
       "\t<tr><td>Rwanda     </td><td>Africa</td><td>1992</td><td>23.599</td><td>7290203</td><td>737.0686</td></tr>\n",
       "</tbody>\n",
       "</table>\n"
      ],
      "text/latex": [
       "A tibble: 2 × 6\n",
       "\\begin{tabular}{llllll}\n",
       " country & continent & year & lifeExp & pop & gdpPercap\\\\\n",
       " <fct> & <fct> & <int> & <dbl> & <int> & <dbl>\\\\\n",
       "\\hline\n",
       "\t Afghanistan & Asia   & 1952 & 28.801 & 8425333 & 779.4453\\\\\n",
       "\t Rwanda      & Africa & 1992 & 23.599 & 7290203 & 737.0686\\\\\n",
       "\\end{tabular}\n"
      ],
      "text/markdown": [
       "\n",
       "A tibble: 2 × 6\n",
       "\n",
       "| country &lt;fct&gt; | continent &lt;fct&gt; | year &lt;int&gt; | lifeExp &lt;dbl&gt; | pop &lt;int&gt; | gdpPercap &lt;dbl&gt; |\n",
       "|---|---|---|---|---|---|\n",
       "| Afghanistan | Asia   | 1952 | 28.801 | 8425333 | 779.4453 |\n",
       "| Rwanda      | Africa | 1992 | 23.599 | 7290203 | 737.0686 |\n",
       "\n"
      ],
      "text/plain": [
       "  country     continent year lifeExp pop     gdpPercap\n",
       "1 Afghanistan Asia      1952 28.801  8425333 779.4453 \n",
       "2 Rwanda      Africa    1992 23.599  7290203 737.0686 "
      ]
     },
     "metadata": {},
     "output_type": "display_data"
    }
   ],
   "source": [
    "filter(gapminder, lifeExp < 29)"
   ]
  },
  {
   "cell_type": "code",
   "execution_count": 8,
   "id": "ba995153",
   "metadata": {
    "vscode": {
     "languageId": "r"
    }
   },
   "outputs": [
    {
     "data": {
      "text/html": [
       "<table class=\"dataframe\">\n",
       "<caption>A tibble: 6 × 6</caption>\n",
       "<thead>\n",
       "\t<tr><th scope=col>country</th><th scope=col>continent</th><th scope=col>year</th><th scope=col>lifeExp</th><th scope=col>pop</th><th scope=col>gdpPercap</th></tr>\n",
       "\t<tr><th scope=col>&lt;fct&gt;</th><th scope=col>&lt;fct&gt;</th><th scope=col>&lt;int&gt;</th><th scope=col>&lt;dbl&gt;</th><th scope=col>&lt;int&gt;</th><th scope=col>&lt;dbl&gt;</th></tr>\n",
       "</thead>\n",
       "<tbody>\n",
       "\t<tr><td>Rwanda</td><td>Africa</td><td>1982</td><td>46.218</td><td>5507565</td><td>881.5706</td></tr>\n",
       "\t<tr><td>Rwanda</td><td>Africa</td><td>1987</td><td>44.020</td><td>6349365</td><td>847.9912</td></tr>\n",
       "\t<tr><td>Rwanda</td><td>Africa</td><td>1992</td><td>23.599</td><td>7290203</td><td>737.0686</td></tr>\n",
       "\t<tr><td>Rwanda</td><td>Africa</td><td>1997</td><td>36.087</td><td>7212583</td><td>589.9445</td></tr>\n",
       "\t<tr><td>Rwanda</td><td>Africa</td><td>2002</td><td>43.413</td><td>7852401</td><td>785.6538</td></tr>\n",
       "\t<tr><td>Rwanda</td><td>Africa</td><td>2007</td><td>46.242</td><td>8860588</td><td>863.0885</td></tr>\n",
       "</tbody>\n",
       "</table>\n"
      ],
      "text/latex": [
       "A tibble: 6 × 6\n",
       "\\begin{tabular}{llllll}\n",
       " country & continent & year & lifeExp & pop & gdpPercap\\\\\n",
       " <fct> & <fct> & <int> & <dbl> & <int> & <dbl>\\\\\n",
       "\\hline\n",
       "\t Rwanda & Africa & 1982 & 46.218 & 5507565 & 881.5706\\\\\n",
       "\t Rwanda & Africa & 1987 & 44.020 & 6349365 & 847.9912\\\\\n",
       "\t Rwanda & Africa & 1992 & 23.599 & 7290203 & 737.0686\\\\\n",
       "\t Rwanda & Africa & 1997 & 36.087 & 7212583 & 589.9445\\\\\n",
       "\t Rwanda & Africa & 2002 & 43.413 & 7852401 & 785.6538\\\\\n",
       "\t Rwanda & Africa & 2007 & 46.242 & 8860588 & 863.0885\\\\\n",
       "\\end{tabular}\n"
      ],
      "text/markdown": [
       "\n",
       "A tibble: 6 × 6\n",
       "\n",
       "| country &lt;fct&gt; | continent &lt;fct&gt; | year &lt;int&gt; | lifeExp &lt;dbl&gt; | pop &lt;int&gt; | gdpPercap &lt;dbl&gt; |\n",
       "|---|---|---|---|---|---|\n",
       "| Rwanda | Africa | 1982 | 46.218 | 5507565 | 881.5706 |\n",
       "| Rwanda | Africa | 1987 | 44.020 | 6349365 | 847.9912 |\n",
       "| Rwanda | Africa | 1992 | 23.599 | 7290203 | 737.0686 |\n",
       "| Rwanda | Africa | 1997 | 36.087 | 7212583 | 589.9445 |\n",
       "| Rwanda | Africa | 2002 | 43.413 | 7852401 | 785.6538 |\n",
       "| Rwanda | Africa | 2007 | 46.242 | 8860588 | 863.0885 |\n",
       "\n"
      ],
      "text/plain": [
       "  country continent year lifeExp pop     gdpPercap\n",
       "1 Rwanda  Africa    1982 46.218  5507565 881.5706 \n",
       "2 Rwanda  Africa    1987 44.020  6349365 847.9912 \n",
       "3 Rwanda  Africa    1992 23.599  7290203 737.0686 \n",
       "4 Rwanda  Africa    1997 36.087  7212583 589.9445 \n",
       "5 Rwanda  Africa    2002 43.413  7852401 785.6538 \n",
       "6 Rwanda  Africa    2007 46.242  8860588 863.0885 "
      ]
     },
     "metadata": {},
     "output_type": "display_data"
    }
   ],
   "source": [
    "filter(gapminder, country == \"Rwanda\", year > 1979)"
   ]
  },
  {
   "cell_type": "code",
   "execution_count": 9,
   "id": "641e9873",
   "metadata": {
    "vscode": {
     "languageId": "r"
    }
   },
   "outputs": [
    {
     "data": {
      "text/html": [
       "<table class=\"dataframe\">\n",
       "<caption>A tibble: 24 × 6</caption>\n",
       "<thead>\n",
       "\t<tr><th scope=col>country</th><th scope=col>continent</th><th scope=col>year</th><th scope=col>lifeExp</th><th scope=col>pop</th><th scope=col>gdpPercap</th></tr>\n",
       "\t<tr><th scope=col>&lt;fct&gt;</th><th scope=col>&lt;fct&gt;</th><th scope=col>&lt;int&gt;</th><th scope=col>&lt;dbl&gt;</th><th scope=col>&lt;int&gt;</th><th scope=col>&lt;dbl&gt;</th></tr>\n",
       "</thead>\n",
       "<tbody>\n",
       "\t<tr><td>Afghanistan</td><td>Asia  </td><td>1952</td><td>28.801</td><td> 8425333</td><td>779.4453</td></tr>\n",
       "\t<tr><td>Afghanistan</td><td>Asia  </td><td>1957</td><td>30.332</td><td> 9240934</td><td>820.8530</td></tr>\n",
       "\t<tr><td>Afghanistan</td><td>Asia  </td><td>1962</td><td>31.997</td><td>10267083</td><td>853.1007</td></tr>\n",
       "\t<tr><td>Afghanistan</td><td>Asia  </td><td>1967</td><td>34.020</td><td>11537966</td><td>836.1971</td></tr>\n",
       "\t<tr><td>Afghanistan</td><td>Asia  </td><td>1972</td><td>36.088</td><td>13079460</td><td>739.9811</td></tr>\n",
       "\t<tr><td>Afghanistan</td><td>Asia  </td><td>1977</td><td>38.438</td><td>14880372</td><td>786.1134</td></tr>\n",
       "\t<tr><td>Afghanistan</td><td>Asia  </td><td>1982</td><td>39.854</td><td>12881816</td><td>978.0114</td></tr>\n",
       "\t<tr><td>Afghanistan</td><td>Asia  </td><td>1987</td><td>40.822</td><td>13867957</td><td>852.3959</td></tr>\n",
       "\t<tr><td>Afghanistan</td><td>Asia  </td><td>1992</td><td>41.674</td><td>16317921</td><td>649.3414</td></tr>\n",
       "\t<tr><td>Afghanistan</td><td>Asia  </td><td>1997</td><td>41.763</td><td>22227415</td><td>635.3414</td></tr>\n",
       "\t<tr><td>Afghanistan</td><td>Asia  </td><td>2002</td><td>42.129</td><td>25268405</td><td>726.7341</td></tr>\n",
       "\t<tr><td>Afghanistan</td><td>Asia  </td><td>2007</td><td>43.828</td><td>31889923</td><td>974.5803</td></tr>\n",
       "\t<tr><td>Rwanda     </td><td>Africa</td><td>1952</td><td>40.000</td><td> 2534927</td><td>493.3239</td></tr>\n",
       "\t<tr><td>Rwanda     </td><td>Africa</td><td>1957</td><td>41.500</td><td> 2822082</td><td>540.2894</td></tr>\n",
       "\t<tr><td>Rwanda     </td><td>Africa</td><td>1962</td><td>43.000</td><td> 3051242</td><td>597.4731</td></tr>\n",
       "\t<tr><td>Rwanda     </td><td>Africa</td><td>1967</td><td>44.100</td><td> 3451079</td><td>510.9637</td></tr>\n",
       "\t<tr><td>Rwanda     </td><td>Africa</td><td>1972</td><td>44.600</td><td> 3992121</td><td>590.5807</td></tr>\n",
       "\t<tr><td>Rwanda     </td><td>Africa</td><td>1977</td><td>45.000</td><td> 4657072</td><td>670.0806</td></tr>\n",
       "\t<tr><td>Rwanda     </td><td>Africa</td><td>1982</td><td>46.218</td><td> 5507565</td><td>881.5706</td></tr>\n",
       "\t<tr><td>Rwanda     </td><td>Africa</td><td>1987</td><td>44.020</td><td> 6349365</td><td>847.9912</td></tr>\n",
       "\t<tr><td>Rwanda     </td><td>Africa</td><td>1992</td><td>23.599</td><td> 7290203</td><td>737.0686</td></tr>\n",
       "\t<tr><td>Rwanda     </td><td>Africa</td><td>1997</td><td>36.087</td><td> 7212583</td><td>589.9445</td></tr>\n",
       "\t<tr><td>Rwanda     </td><td>Africa</td><td>2002</td><td>43.413</td><td> 7852401</td><td>785.6538</td></tr>\n",
       "\t<tr><td>Rwanda     </td><td>Africa</td><td>2007</td><td>46.242</td><td> 8860588</td><td>863.0885</td></tr>\n",
       "</tbody>\n",
       "</table>\n"
      ],
      "text/latex": [
       "A tibble: 24 × 6\n",
       "\\begin{tabular}{llllll}\n",
       " country & continent & year & lifeExp & pop & gdpPercap\\\\\n",
       " <fct> & <fct> & <int> & <dbl> & <int> & <dbl>\\\\\n",
       "\\hline\n",
       "\t Afghanistan & Asia   & 1952 & 28.801 &  8425333 & 779.4453\\\\\n",
       "\t Afghanistan & Asia   & 1957 & 30.332 &  9240934 & 820.8530\\\\\n",
       "\t Afghanistan & Asia   & 1962 & 31.997 & 10267083 & 853.1007\\\\\n",
       "\t Afghanistan & Asia   & 1967 & 34.020 & 11537966 & 836.1971\\\\\n",
       "\t Afghanistan & Asia   & 1972 & 36.088 & 13079460 & 739.9811\\\\\n",
       "\t Afghanistan & Asia   & 1977 & 38.438 & 14880372 & 786.1134\\\\\n",
       "\t Afghanistan & Asia   & 1982 & 39.854 & 12881816 & 978.0114\\\\\n",
       "\t Afghanistan & Asia   & 1987 & 40.822 & 13867957 & 852.3959\\\\\n",
       "\t Afghanistan & Asia   & 1992 & 41.674 & 16317921 & 649.3414\\\\\n",
       "\t Afghanistan & Asia   & 1997 & 41.763 & 22227415 & 635.3414\\\\\n",
       "\t Afghanistan & Asia   & 2002 & 42.129 & 25268405 & 726.7341\\\\\n",
       "\t Afghanistan & Asia   & 2007 & 43.828 & 31889923 & 974.5803\\\\\n",
       "\t Rwanda      & Africa & 1952 & 40.000 &  2534927 & 493.3239\\\\\n",
       "\t Rwanda      & Africa & 1957 & 41.500 &  2822082 & 540.2894\\\\\n",
       "\t Rwanda      & Africa & 1962 & 43.000 &  3051242 & 597.4731\\\\\n",
       "\t Rwanda      & Africa & 1967 & 44.100 &  3451079 & 510.9637\\\\\n",
       "\t Rwanda      & Africa & 1972 & 44.600 &  3992121 & 590.5807\\\\\n",
       "\t Rwanda      & Africa & 1977 & 45.000 &  4657072 & 670.0806\\\\\n",
       "\t Rwanda      & Africa & 1982 & 46.218 &  5507565 & 881.5706\\\\\n",
       "\t Rwanda      & Africa & 1987 & 44.020 &  6349365 & 847.9912\\\\\n",
       "\t Rwanda      & Africa & 1992 & 23.599 &  7290203 & 737.0686\\\\\n",
       "\t Rwanda      & Africa & 1997 & 36.087 &  7212583 & 589.9445\\\\\n",
       "\t Rwanda      & Africa & 2002 & 43.413 &  7852401 & 785.6538\\\\\n",
       "\t Rwanda      & Africa & 2007 & 46.242 &  8860588 & 863.0885\\\\\n",
       "\\end{tabular}\n"
      ],
      "text/markdown": [
       "\n",
       "A tibble: 24 × 6\n",
       "\n",
       "| country &lt;fct&gt; | continent &lt;fct&gt; | year &lt;int&gt; | lifeExp &lt;dbl&gt; | pop &lt;int&gt; | gdpPercap &lt;dbl&gt; |\n",
       "|---|---|---|---|---|---|\n",
       "| Afghanistan | Asia   | 1952 | 28.801 |  8425333 | 779.4453 |\n",
       "| Afghanistan | Asia   | 1957 | 30.332 |  9240934 | 820.8530 |\n",
       "| Afghanistan | Asia   | 1962 | 31.997 | 10267083 | 853.1007 |\n",
       "| Afghanistan | Asia   | 1967 | 34.020 | 11537966 | 836.1971 |\n",
       "| Afghanistan | Asia   | 1972 | 36.088 | 13079460 | 739.9811 |\n",
       "| Afghanistan | Asia   | 1977 | 38.438 | 14880372 | 786.1134 |\n",
       "| Afghanistan | Asia   | 1982 | 39.854 | 12881816 | 978.0114 |\n",
       "| Afghanistan | Asia   | 1987 | 40.822 | 13867957 | 852.3959 |\n",
       "| Afghanistan | Asia   | 1992 | 41.674 | 16317921 | 649.3414 |\n",
       "| Afghanistan | Asia   | 1997 | 41.763 | 22227415 | 635.3414 |\n",
       "| Afghanistan | Asia   | 2002 | 42.129 | 25268405 | 726.7341 |\n",
       "| Afghanistan | Asia   | 2007 | 43.828 | 31889923 | 974.5803 |\n",
       "| Rwanda      | Africa | 1952 | 40.000 |  2534927 | 493.3239 |\n",
       "| Rwanda      | Africa | 1957 | 41.500 |  2822082 | 540.2894 |\n",
       "| Rwanda      | Africa | 1962 | 43.000 |  3051242 | 597.4731 |\n",
       "| Rwanda      | Africa | 1967 | 44.100 |  3451079 | 510.9637 |\n",
       "| Rwanda      | Africa | 1972 | 44.600 |  3992121 | 590.5807 |\n",
       "| Rwanda      | Africa | 1977 | 45.000 |  4657072 | 670.0806 |\n",
       "| Rwanda      | Africa | 1982 | 46.218 |  5507565 | 881.5706 |\n",
       "| Rwanda      | Africa | 1987 | 44.020 |  6349365 | 847.9912 |\n",
       "| Rwanda      | Africa | 1992 | 23.599 |  7290203 | 737.0686 |\n",
       "| Rwanda      | Africa | 1997 | 36.087 |  7212583 | 589.9445 |\n",
       "| Rwanda      | Africa | 2002 | 43.413 |  7852401 | 785.6538 |\n",
       "| Rwanda      | Africa | 2007 | 46.242 |  8860588 | 863.0885 |\n",
       "\n"
      ],
      "text/plain": [
       "   country     continent year lifeExp pop      gdpPercap\n",
       "1  Afghanistan Asia      1952 28.801   8425333 779.4453 \n",
       "2  Afghanistan Asia      1957 30.332   9240934 820.8530 \n",
       "3  Afghanistan Asia      1962 31.997  10267083 853.1007 \n",
       "4  Afghanistan Asia      1967 34.020  11537966 836.1971 \n",
       "5  Afghanistan Asia      1972 36.088  13079460 739.9811 \n",
       "6  Afghanistan Asia      1977 38.438  14880372 786.1134 \n",
       "7  Afghanistan Asia      1982 39.854  12881816 978.0114 \n",
       "8  Afghanistan Asia      1987 40.822  13867957 852.3959 \n",
       "9  Afghanistan Asia      1992 41.674  16317921 649.3414 \n",
       "10 Afghanistan Asia      1997 41.763  22227415 635.3414 \n",
       "11 Afghanistan Asia      2002 42.129  25268405 726.7341 \n",
       "12 Afghanistan Asia      2007 43.828  31889923 974.5803 \n",
       "13 Rwanda      Africa    1952 40.000   2534927 493.3239 \n",
       "14 Rwanda      Africa    1957 41.500   2822082 540.2894 \n",
       "15 Rwanda      Africa    1962 43.000   3051242 597.4731 \n",
       "16 Rwanda      Africa    1967 44.100   3451079 510.9637 \n",
       "17 Rwanda      Africa    1972 44.600   3992121 590.5807 \n",
       "18 Rwanda      Africa    1977 45.000   4657072 670.0806 \n",
       "19 Rwanda      Africa    1982 46.218   5507565 881.5706 \n",
       "20 Rwanda      Africa    1987 44.020   6349365 847.9912 \n",
       "21 Rwanda      Africa    1992 23.599   7290203 737.0686 \n",
       "22 Rwanda      Africa    1997 36.087   7212583 589.9445 \n",
       "23 Rwanda      Africa    2002 43.413   7852401 785.6538 \n",
       "24 Rwanda      Africa    2007 46.242   8860588 863.0885 "
      ]
     },
     "metadata": {},
     "output_type": "display_data"
    }
   ],
   "source": [
    "filter(gapminder, country %in% c(\"Rwanda\", \"Afghanistan\"))"
   ]
  },
  {
   "cell_type": "code",
   "execution_count": 11,
   "id": "20177215",
   "metadata": {
    "vscode": {
     "languageId": "r"
    }
   },
   "outputs": [
    {
     "data": {
      "text/html": [
       "<table class=\"dataframe\">\n",
       "<caption>A tibble: 2 × 6</caption>\n",
       "<thead>\n",
       "\t<tr><th scope=col>country</th><th scope=col>continent</th><th scope=col>year</th><th scope=col>lifeExp</th><th scope=col>pop</th><th scope=col>gdpPercap</th></tr>\n",
       "\t<tr><th scope=col>&lt;fct&gt;</th><th scope=col>&lt;fct&gt;</th><th scope=col>&lt;int&gt;</th><th scope=col>&lt;dbl&gt;</th><th scope=col>&lt;int&gt;</th><th scope=col>&lt;dbl&gt;</th></tr>\n",
       "</thead>\n",
       "<tbody>\n",
       "\t<tr><td>Afghanistan</td><td>Asia  </td><td>1952</td><td>28.801</td><td>8425333</td><td>779.4453</td></tr>\n",
       "\t<tr><td>Rwanda     </td><td>Africa</td><td>1992</td><td>23.599</td><td>7290203</td><td>737.0686</td></tr>\n",
       "</tbody>\n",
       "</table>\n"
      ],
      "text/latex": [
       "A tibble: 2 × 6\n",
       "\\begin{tabular}{llllll}\n",
       " country & continent & year & lifeExp & pop & gdpPercap\\\\\n",
       " <fct> & <fct> & <int> & <dbl> & <int> & <dbl>\\\\\n",
       "\\hline\n",
       "\t Afghanistan & Asia   & 1952 & 28.801 & 8425333 & 779.4453\\\\\n",
       "\t Rwanda      & Africa & 1992 & 23.599 & 7290203 & 737.0686\\\\\n",
       "\\end{tabular}\n"
      ],
      "text/markdown": [
       "\n",
       "A tibble: 2 × 6\n",
       "\n",
       "| country &lt;fct&gt; | continent &lt;fct&gt; | year &lt;int&gt; | lifeExp &lt;dbl&gt; | pop &lt;int&gt; | gdpPercap &lt;dbl&gt; |\n",
       "|---|---|---|---|---|---|\n",
       "| Afghanistan | Asia   | 1952 | 28.801 | 8425333 | 779.4453 |\n",
       "| Rwanda      | Africa | 1992 | 23.599 | 7290203 | 737.0686 |\n",
       "\n"
      ],
      "text/plain": [
       "  country     continent year lifeExp pop     gdpPercap\n",
       "1 Afghanistan Asia      1952 28.801  8425333 779.4453 \n",
       "2 Rwanda      Africa    1992 23.599  7290203 737.0686 "
      ]
     },
     "metadata": {},
     "output_type": "display_data"
    }
   ],
   "source": [
    "gapminder[gapminder$lifeExp < 29, ] ## repeat `gapminder`, [i, j] indexing is distracting"
   ]
  },
  {
   "cell_type": "code",
   "execution_count": 12,
   "id": "f955cdaf",
   "metadata": {
    "vscode": {
     "languageId": "r"
    }
   },
   "outputs": [
    {
     "data": {
      "text/html": [
       "<table class=\"dataframe\">\n",
       "<caption>A tibble: 12 × 6</caption>\n",
       "<thead>\n",
       "\t<tr><th scope=col>country</th><th scope=col>continent</th><th scope=col>year</th><th scope=col>lifeExp</th><th scope=col>pop</th><th scope=col>gdpPercap</th></tr>\n",
       "\t<tr><th scope=col>&lt;fct&gt;</th><th scope=col>&lt;fct&gt;</th><th scope=col>&lt;int&gt;</th><th scope=col>&lt;dbl&gt;</th><th scope=col>&lt;int&gt;</th><th scope=col>&lt;dbl&gt;</th></tr>\n",
       "</thead>\n",
       "<tbody>\n",
       "\t<tr><td>Rwanda</td><td>Africa</td><td>1952</td><td>40.000</td><td>2534927</td><td>493.3239</td></tr>\n",
       "\t<tr><td>Rwanda</td><td>Africa</td><td>1957</td><td>41.500</td><td>2822082</td><td>540.2894</td></tr>\n",
       "\t<tr><td>Rwanda</td><td>Africa</td><td>1962</td><td>43.000</td><td>3051242</td><td>597.4731</td></tr>\n",
       "\t<tr><td>Rwanda</td><td>Africa</td><td>1967</td><td>44.100</td><td>3451079</td><td>510.9637</td></tr>\n",
       "\t<tr><td>Rwanda</td><td>Africa</td><td>1972</td><td>44.600</td><td>3992121</td><td>590.5807</td></tr>\n",
       "\t<tr><td>Rwanda</td><td>Africa</td><td>1977</td><td>45.000</td><td>4657072</td><td>670.0806</td></tr>\n",
       "\t<tr><td>Rwanda</td><td>Africa</td><td>1982</td><td>46.218</td><td>5507565</td><td>881.5706</td></tr>\n",
       "\t<tr><td>Rwanda</td><td>Africa</td><td>1987</td><td>44.020</td><td>6349365</td><td>847.9912</td></tr>\n",
       "\t<tr><td>Rwanda</td><td>Africa</td><td>1992</td><td>23.599</td><td>7290203</td><td>737.0686</td></tr>\n",
       "\t<tr><td>Rwanda</td><td>Africa</td><td>1997</td><td>36.087</td><td>7212583</td><td>589.9445</td></tr>\n",
       "\t<tr><td>Rwanda</td><td>Africa</td><td>2002</td><td>43.413</td><td>7852401</td><td>785.6538</td></tr>\n",
       "\t<tr><td>Rwanda</td><td>Africa</td><td>2007</td><td>46.242</td><td>8860588</td><td>863.0885</td></tr>\n",
       "</tbody>\n",
       "</table>\n"
      ],
      "text/latex": [
       "A tibble: 12 × 6\n",
       "\\begin{tabular}{llllll}\n",
       " country & continent & year & lifeExp & pop & gdpPercap\\\\\n",
       " <fct> & <fct> & <int> & <dbl> & <int> & <dbl>\\\\\n",
       "\\hline\n",
       "\t Rwanda & Africa & 1952 & 40.000 & 2534927 & 493.3239\\\\\n",
       "\t Rwanda & Africa & 1957 & 41.500 & 2822082 & 540.2894\\\\\n",
       "\t Rwanda & Africa & 1962 & 43.000 & 3051242 & 597.4731\\\\\n",
       "\t Rwanda & Africa & 1967 & 44.100 & 3451079 & 510.9637\\\\\n",
       "\t Rwanda & Africa & 1972 & 44.600 & 3992121 & 590.5807\\\\\n",
       "\t Rwanda & Africa & 1977 & 45.000 & 4657072 & 670.0806\\\\\n",
       "\t Rwanda & Africa & 1982 & 46.218 & 5507565 & 881.5706\\\\\n",
       "\t Rwanda & Africa & 1987 & 44.020 & 6349365 & 847.9912\\\\\n",
       "\t Rwanda & Africa & 1992 & 23.599 & 7290203 & 737.0686\\\\\n",
       "\t Rwanda & Africa & 1997 & 36.087 & 7212583 & 589.9445\\\\\n",
       "\t Rwanda & Africa & 2002 & 43.413 & 7852401 & 785.6538\\\\\n",
       "\t Rwanda & Africa & 2007 & 46.242 & 8860588 & 863.0885\\\\\n",
       "\\end{tabular}\n"
      ],
      "text/markdown": [
       "\n",
       "A tibble: 12 × 6\n",
       "\n",
       "| country &lt;fct&gt; | continent &lt;fct&gt; | year &lt;int&gt; | lifeExp &lt;dbl&gt; | pop &lt;int&gt; | gdpPercap &lt;dbl&gt; |\n",
       "|---|---|---|---|---|---|\n",
       "| Rwanda | Africa | 1952 | 40.000 | 2534927 | 493.3239 |\n",
       "| Rwanda | Africa | 1957 | 41.500 | 2822082 | 540.2894 |\n",
       "| Rwanda | Africa | 1962 | 43.000 | 3051242 | 597.4731 |\n",
       "| Rwanda | Africa | 1967 | 44.100 | 3451079 | 510.9637 |\n",
       "| Rwanda | Africa | 1972 | 44.600 | 3992121 | 590.5807 |\n",
       "| Rwanda | Africa | 1977 | 45.000 | 4657072 | 670.0806 |\n",
       "| Rwanda | Africa | 1982 | 46.218 | 5507565 | 881.5706 |\n",
       "| Rwanda | Africa | 1987 | 44.020 | 6349365 | 847.9912 |\n",
       "| Rwanda | Africa | 1992 | 23.599 | 7290203 | 737.0686 |\n",
       "| Rwanda | Africa | 1997 | 36.087 | 7212583 | 589.9445 |\n",
       "| Rwanda | Africa | 2002 | 43.413 | 7852401 | 785.6538 |\n",
       "| Rwanda | Africa | 2007 | 46.242 | 8860588 | 863.0885 |\n",
       "\n"
      ],
      "text/plain": [
       "   country continent year lifeExp pop     gdpPercap\n",
       "1  Rwanda  Africa    1952 40.000  2534927 493.3239 \n",
       "2  Rwanda  Africa    1957 41.500  2822082 540.2894 \n",
       "3  Rwanda  Africa    1962 43.000  3051242 597.4731 \n",
       "4  Rwanda  Africa    1967 44.100  3451079 510.9637 \n",
       "5  Rwanda  Africa    1972 44.600  3992121 590.5807 \n",
       "6  Rwanda  Africa    1977 45.000  4657072 670.0806 \n",
       "7  Rwanda  Africa    1982 46.218  5507565 881.5706 \n",
       "8  Rwanda  Africa    1987 44.020  6349365 847.9912 \n",
       "9  Rwanda  Africa    1992 23.599  7290203 737.0686 \n",
       "10 Rwanda  Africa    1997 36.087  7212583 589.9445 \n",
       "11 Rwanda  Africa    2002 43.413  7852401 785.6538 \n",
       "12 Rwanda  Africa    2007 46.242  8860588 863.0885 "
      ]
     },
     "metadata": {},
     "output_type": "display_data"
    }
   ],
   "source": [
    "subset(gapminder, country == \"Rwanda\") ## almost same as filter; quite nice actually"
   ]
  },
  {
   "cell_type": "code",
   "execution_count": 13,
   "id": "2c917e93",
   "metadata": {
    "vscode": {
     "languageId": "r"
    }
   },
   "outputs": [
    {
     "data": {
      "text/html": [
       "<table class=\"dataframe\">\n",
       "<caption>A tibble: 12 × 6</caption>\n",
       "<thead>\n",
       "\t<tr><th scope=col>country</th><th scope=col>continent</th><th scope=col>year</th><th scope=col>lifeExp</th><th scope=col>pop</th><th scope=col>gdpPercap</th></tr>\n",
       "\t<tr><th scope=col>&lt;fct&gt;</th><th scope=col>&lt;fct&gt;</th><th scope=col>&lt;int&gt;</th><th scope=col>&lt;dbl&gt;</th><th scope=col>&lt;int&gt;</th><th scope=col>&lt;dbl&gt;</th></tr>\n",
       "</thead>\n",
       "<tbody>\n",
       "\t<tr><td>Canada</td><td>Americas</td><td>1952</td><td>68.750</td><td>14785584</td><td>11367.16</td></tr>\n",
       "\t<tr><td>Canada</td><td>Americas</td><td>1957</td><td>69.960</td><td>17010154</td><td>12489.95</td></tr>\n",
       "\t<tr><td>Canada</td><td>Americas</td><td>1962</td><td>71.300</td><td>18985849</td><td>13462.49</td></tr>\n",
       "\t<tr><td>Canada</td><td>Americas</td><td>1967</td><td>72.130</td><td>20819767</td><td>16076.59</td></tr>\n",
       "\t<tr><td>Canada</td><td>Americas</td><td>1972</td><td>72.880</td><td>22284500</td><td>18970.57</td></tr>\n",
       "\t<tr><td>Canada</td><td>Americas</td><td>1977</td><td>74.210</td><td>23796400</td><td>22090.88</td></tr>\n",
       "\t<tr><td>Canada</td><td>Americas</td><td>1982</td><td>75.760</td><td>25201900</td><td>22898.79</td></tr>\n",
       "\t<tr><td>Canada</td><td>Americas</td><td>1987</td><td>76.860</td><td>26549700</td><td>26626.52</td></tr>\n",
       "\t<tr><td>Canada</td><td>Americas</td><td>1992</td><td>77.950</td><td>28523502</td><td>26342.88</td></tr>\n",
       "\t<tr><td>Canada</td><td>Americas</td><td>1997</td><td>78.610</td><td>30305843</td><td>28954.93</td></tr>\n",
       "\t<tr><td>Canada</td><td>Americas</td><td>2002</td><td>79.770</td><td>31902268</td><td>33328.97</td></tr>\n",
       "\t<tr><td>Canada</td><td>Americas</td><td>2007</td><td>80.653</td><td>33390141</td><td>36319.24</td></tr>\n",
       "</tbody>\n",
       "</table>\n"
      ],
      "text/latex": [
       "A tibble: 12 × 6\n",
       "\\begin{tabular}{llllll}\n",
       " country & continent & year & lifeExp & pop & gdpPercap\\\\\n",
       " <fct> & <fct> & <int> & <dbl> & <int> & <dbl>\\\\\n",
       "\\hline\n",
       "\t Canada & Americas & 1952 & 68.750 & 14785584 & 11367.16\\\\\n",
       "\t Canada & Americas & 1957 & 69.960 & 17010154 & 12489.95\\\\\n",
       "\t Canada & Americas & 1962 & 71.300 & 18985849 & 13462.49\\\\\n",
       "\t Canada & Americas & 1967 & 72.130 & 20819767 & 16076.59\\\\\n",
       "\t Canada & Americas & 1972 & 72.880 & 22284500 & 18970.57\\\\\n",
       "\t Canada & Americas & 1977 & 74.210 & 23796400 & 22090.88\\\\\n",
       "\t Canada & Americas & 1982 & 75.760 & 25201900 & 22898.79\\\\\n",
       "\t Canada & Americas & 1987 & 76.860 & 26549700 & 26626.52\\\\\n",
       "\t Canada & Americas & 1992 & 77.950 & 28523502 & 26342.88\\\\\n",
       "\t Canada & Americas & 1997 & 78.610 & 30305843 & 28954.93\\\\\n",
       "\t Canada & Americas & 2002 & 79.770 & 31902268 & 33328.97\\\\\n",
       "\t Canada & Americas & 2007 & 80.653 & 33390141 & 36319.24\\\\\n",
       "\\end{tabular}\n"
      ],
      "text/markdown": [
       "\n",
       "A tibble: 12 × 6\n",
       "\n",
       "| country &lt;fct&gt; | continent &lt;fct&gt; | year &lt;int&gt; | lifeExp &lt;dbl&gt; | pop &lt;int&gt; | gdpPercap &lt;dbl&gt; |\n",
       "|---|---|---|---|---|---|\n",
       "| Canada | Americas | 1952 | 68.750 | 14785584 | 11367.16 |\n",
       "| Canada | Americas | 1957 | 69.960 | 17010154 | 12489.95 |\n",
       "| Canada | Americas | 1962 | 71.300 | 18985849 | 13462.49 |\n",
       "| Canada | Americas | 1967 | 72.130 | 20819767 | 16076.59 |\n",
       "| Canada | Americas | 1972 | 72.880 | 22284500 | 18970.57 |\n",
       "| Canada | Americas | 1977 | 74.210 | 23796400 | 22090.88 |\n",
       "| Canada | Americas | 1982 | 75.760 | 25201900 | 22898.79 |\n",
       "| Canada | Americas | 1987 | 76.860 | 26549700 | 26626.52 |\n",
       "| Canada | Americas | 1992 | 77.950 | 28523502 | 26342.88 |\n",
       "| Canada | Americas | 1997 | 78.610 | 30305843 | 28954.93 |\n",
       "| Canada | Americas | 2002 | 79.770 | 31902268 | 33328.97 |\n",
       "| Canada | Americas | 2007 | 80.653 | 33390141 | 36319.24 |\n",
       "\n"
      ],
      "text/plain": [
       "   country continent year lifeExp pop      gdpPercap\n",
       "1  Canada  Americas  1952 68.750  14785584 11367.16 \n",
       "2  Canada  Americas  1957 69.960  17010154 12489.95 \n",
       "3  Canada  Americas  1962 71.300  18985849 13462.49 \n",
       "4  Canada  Americas  1967 72.130  20819767 16076.59 \n",
       "5  Canada  Americas  1972 72.880  22284500 18970.57 \n",
       "6  Canada  Americas  1977 74.210  23796400 22090.88 \n",
       "7  Canada  Americas  1982 75.760  25201900 22898.79 \n",
       "8  Canada  Americas  1987 76.860  26549700 26626.52 \n",
       "9  Canada  Americas  1992 77.950  28523502 26342.88 \n",
       "10 Canada  Americas  1997 78.610  30305843 28954.93 \n",
       "11 Canada  Americas  2002 79.770  31902268 33328.97 \n",
       "12 Canada  Americas  2007 80.653  33390141 36319.24 "
      ]
     },
     "metadata": {},
     "output_type": "display_data"
    }
   ],
   "source": [
    "(excerpt <- gapminder[241:252, ])"
   ]
  },
  {
   "cell_type": "code",
   "execution_count": 14,
   "id": "83cd101a",
   "metadata": {
    "vscode": {
     "languageId": "r"
    }
   },
   "outputs": [
    {
     "data": {
      "text/html": [
       "<table class=\"dataframe\">\n",
       "<caption>A tibble: 12 × 6</caption>\n",
       "<thead>\n",
       "\t<tr><th scope=col>country</th><th scope=col>continent</th><th scope=col>year</th><th scope=col>lifeExp</th><th scope=col>pop</th><th scope=col>gdpPercap</th></tr>\n",
       "\t<tr><th scope=col>&lt;fct&gt;</th><th scope=col>&lt;fct&gt;</th><th scope=col>&lt;int&gt;</th><th scope=col>&lt;dbl&gt;</th><th scope=col>&lt;int&gt;</th><th scope=col>&lt;dbl&gt;</th></tr>\n",
       "</thead>\n",
       "<tbody>\n",
       "\t<tr><td>Canada</td><td>Americas</td><td>1952</td><td>68.750</td><td>14785584</td><td>11367.16</td></tr>\n",
       "\t<tr><td>Canada</td><td>Americas</td><td>1957</td><td>69.960</td><td>17010154</td><td>12489.95</td></tr>\n",
       "\t<tr><td>Canada</td><td>Americas</td><td>1962</td><td>71.300</td><td>18985849</td><td>13462.49</td></tr>\n",
       "\t<tr><td>Canada</td><td>Americas</td><td>1967</td><td>72.130</td><td>20819767</td><td>16076.59</td></tr>\n",
       "\t<tr><td>Canada</td><td>Americas</td><td>1972</td><td>72.880</td><td>22284500</td><td>18970.57</td></tr>\n",
       "\t<tr><td>Canada</td><td>Americas</td><td>1977</td><td>74.210</td><td>23796400</td><td>22090.88</td></tr>\n",
       "\t<tr><td>Canada</td><td>Americas</td><td>1982</td><td>75.760</td><td>25201900</td><td>22898.79</td></tr>\n",
       "\t<tr><td>Canada</td><td>Americas</td><td>1987</td><td>76.860</td><td>26549700</td><td>26626.52</td></tr>\n",
       "\t<tr><td>Canada</td><td>Americas</td><td>1992</td><td>77.950</td><td>28523502</td><td>26342.88</td></tr>\n",
       "\t<tr><td>Canada</td><td>Americas</td><td>1997</td><td>78.610</td><td>30305843</td><td>28954.93</td></tr>\n",
       "\t<tr><td>Canada</td><td>Americas</td><td>2002</td><td>79.770</td><td>31902268</td><td>33328.97</td></tr>\n",
       "\t<tr><td>Canada</td><td>Americas</td><td>2007</td><td>80.653</td><td>33390141</td><td>36319.24</td></tr>\n",
       "</tbody>\n",
       "</table>\n"
      ],
      "text/latex": [
       "A tibble: 12 × 6\n",
       "\\begin{tabular}{llllll}\n",
       " country & continent & year & lifeExp & pop & gdpPercap\\\\\n",
       " <fct> & <fct> & <int> & <dbl> & <int> & <dbl>\\\\\n",
       "\\hline\n",
       "\t Canada & Americas & 1952 & 68.750 & 14785584 & 11367.16\\\\\n",
       "\t Canada & Americas & 1957 & 69.960 & 17010154 & 12489.95\\\\\n",
       "\t Canada & Americas & 1962 & 71.300 & 18985849 & 13462.49\\\\\n",
       "\t Canada & Americas & 1967 & 72.130 & 20819767 & 16076.59\\\\\n",
       "\t Canada & Americas & 1972 & 72.880 & 22284500 & 18970.57\\\\\n",
       "\t Canada & Americas & 1977 & 74.210 & 23796400 & 22090.88\\\\\n",
       "\t Canada & Americas & 1982 & 75.760 & 25201900 & 22898.79\\\\\n",
       "\t Canada & Americas & 1987 & 76.860 & 26549700 & 26626.52\\\\\n",
       "\t Canada & Americas & 1992 & 77.950 & 28523502 & 26342.88\\\\\n",
       "\t Canada & Americas & 1997 & 78.610 & 30305843 & 28954.93\\\\\n",
       "\t Canada & Americas & 2002 & 79.770 & 31902268 & 33328.97\\\\\n",
       "\t Canada & Americas & 2007 & 80.653 & 33390141 & 36319.24\\\\\n",
       "\\end{tabular}\n"
      ],
      "text/markdown": [
       "\n",
       "A tibble: 12 × 6\n",
       "\n",
       "| country &lt;fct&gt; | continent &lt;fct&gt; | year &lt;int&gt; | lifeExp &lt;dbl&gt; | pop &lt;int&gt; | gdpPercap &lt;dbl&gt; |\n",
       "|---|---|---|---|---|---|\n",
       "| Canada | Americas | 1952 | 68.750 | 14785584 | 11367.16 |\n",
       "| Canada | Americas | 1957 | 69.960 | 17010154 | 12489.95 |\n",
       "| Canada | Americas | 1962 | 71.300 | 18985849 | 13462.49 |\n",
       "| Canada | Americas | 1967 | 72.130 | 20819767 | 16076.59 |\n",
       "| Canada | Americas | 1972 | 72.880 | 22284500 | 18970.57 |\n",
       "| Canada | Americas | 1977 | 74.210 | 23796400 | 22090.88 |\n",
       "| Canada | Americas | 1982 | 75.760 | 25201900 | 22898.79 |\n",
       "| Canada | Americas | 1987 | 76.860 | 26549700 | 26626.52 |\n",
       "| Canada | Americas | 1992 | 77.950 | 28523502 | 26342.88 |\n",
       "| Canada | Americas | 1997 | 78.610 | 30305843 | 28954.93 |\n",
       "| Canada | Americas | 2002 | 79.770 | 31902268 | 33328.97 |\n",
       "| Canada | Americas | 2007 | 80.653 | 33390141 | 36319.24 |\n",
       "\n"
      ],
      "text/plain": [
       "   country continent year lifeExp pop      gdpPercap\n",
       "1  Canada  Americas  1952 68.750  14785584 11367.16 \n",
       "2  Canada  Americas  1957 69.960  17010154 12489.95 \n",
       "3  Canada  Americas  1962 71.300  18985849 13462.49 \n",
       "4  Canada  Americas  1967 72.130  20819767 16076.59 \n",
       "5  Canada  Americas  1972 72.880  22284500 18970.57 \n",
       "6  Canada  Americas  1977 74.210  23796400 22090.88 \n",
       "7  Canada  Americas  1982 75.760  25201900 22898.79 \n",
       "8  Canada  Americas  1987 76.860  26549700 26626.52 \n",
       "9  Canada  Americas  1992 77.950  28523502 26342.88 \n",
       "10 Canada  Americas  1997 78.610  30305843 28954.93 \n",
       "11 Canada  Americas  2002 79.770  31902268 33328.97 \n",
       "12 Canada  Americas  2007 80.653  33390141 36319.24 "
      ]
     },
     "metadata": {},
     "output_type": "display_data"
    }
   ],
   "source": [
    "filter(gapminder, country == \"Canada\")"
   ]
  },
  {
   "cell_type": "code",
   "execution_count": 15,
   "id": "8879f092",
   "metadata": {
    "vscode": {
     "languageId": "r"
    }
   },
   "outputs": [
    {
     "data": {
      "text/html": [
       "<table class=\"dataframe\">\n",
       "<caption>A tibble: 6 × 6</caption>\n",
       "<thead>\n",
       "\t<tr><th scope=col>country</th><th scope=col>continent</th><th scope=col>year</th><th scope=col>lifeExp</th><th scope=col>pop</th><th scope=col>gdpPercap</th></tr>\n",
       "\t<tr><th scope=col>&lt;fct&gt;</th><th scope=col>&lt;fct&gt;</th><th scope=col>&lt;int&gt;</th><th scope=col>&lt;dbl&gt;</th><th scope=col>&lt;int&gt;</th><th scope=col>&lt;dbl&gt;</th></tr>\n",
       "</thead>\n",
       "<tbody>\n",
       "\t<tr><td>Afghanistan</td><td>Asia</td><td>1952</td><td>28.801</td><td> 8425333</td><td>779.4453</td></tr>\n",
       "\t<tr><td>Afghanistan</td><td>Asia</td><td>1957</td><td>30.332</td><td> 9240934</td><td>820.8530</td></tr>\n",
       "\t<tr><td>Afghanistan</td><td>Asia</td><td>1962</td><td>31.997</td><td>10267083</td><td>853.1007</td></tr>\n",
       "\t<tr><td>Afghanistan</td><td>Asia</td><td>1967</td><td>34.020</td><td>11537966</td><td>836.1971</td></tr>\n",
       "\t<tr><td>Afghanistan</td><td>Asia</td><td>1972</td><td>36.088</td><td>13079460</td><td>739.9811</td></tr>\n",
       "\t<tr><td>Afghanistan</td><td>Asia</td><td>1977</td><td>38.438</td><td>14880372</td><td>786.1134</td></tr>\n",
       "</tbody>\n",
       "</table>\n"
      ],
      "text/latex": [
       "A tibble: 6 × 6\n",
       "\\begin{tabular}{llllll}\n",
       " country & continent & year & lifeExp & pop & gdpPercap\\\\\n",
       " <fct> & <fct> & <int> & <dbl> & <int> & <dbl>\\\\\n",
       "\\hline\n",
       "\t Afghanistan & Asia & 1952 & 28.801 &  8425333 & 779.4453\\\\\n",
       "\t Afghanistan & Asia & 1957 & 30.332 &  9240934 & 820.8530\\\\\n",
       "\t Afghanistan & Asia & 1962 & 31.997 & 10267083 & 853.1007\\\\\n",
       "\t Afghanistan & Asia & 1967 & 34.020 & 11537966 & 836.1971\\\\\n",
       "\t Afghanistan & Asia & 1972 & 36.088 & 13079460 & 739.9811\\\\\n",
       "\t Afghanistan & Asia & 1977 & 38.438 & 14880372 & 786.1134\\\\\n",
       "\\end{tabular}\n"
      ],
      "text/markdown": [
       "\n",
       "A tibble: 6 × 6\n",
       "\n",
       "| country &lt;fct&gt; | continent &lt;fct&gt; | year &lt;int&gt; | lifeExp &lt;dbl&gt; | pop &lt;int&gt; | gdpPercap &lt;dbl&gt; |\n",
       "|---|---|---|---|---|---|\n",
       "| Afghanistan | Asia | 1952 | 28.801 |  8425333 | 779.4453 |\n",
       "| Afghanistan | Asia | 1957 | 30.332 |  9240934 | 820.8530 |\n",
       "| Afghanistan | Asia | 1962 | 31.997 | 10267083 | 853.1007 |\n",
       "| Afghanistan | Asia | 1967 | 34.020 | 11537966 | 836.1971 |\n",
       "| Afghanistan | Asia | 1972 | 36.088 | 13079460 | 739.9811 |\n",
       "| Afghanistan | Asia | 1977 | 38.438 | 14880372 | 786.1134 |\n",
       "\n"
      ],
      "text/plain": [
       "  country     continent year lifeExp pop      gdpPercap\n",
       "1 Afghanistan Asia      1952 28.801   8425333 779.4453 \n",
       "2 Afghanistan Asia      1957 30.332   9240934 820.8530 \n",
       "3 Afghanistan Asia      1962 31.997  10267083 853.1007 \n",
       "4 Afghanistan Asia      1967 34.020  11537966 836.1971 \n",
       "5 Afghanistan Asia      1972 36.088  13079460 739.9811 \n",
       "6 Afghanistan Asia      1977 38.438  14880372 786.1134 "
      ]
     },
     "metadata": {},
     "output_type": "display_data"
    }
   ],
   "source": [
    "gapminder %>% head()"
   ]
  },
  {
   "cell_type": "code",
   "execution_count": 16,
   "id": "462813aa",
   "metadata": {
    "vscode": {
     "languageId": "r"
    }
   },
   "outputs": [
    {
     "data": {
      "text/html": [
       "<table class=\"dataframe\">\n",
       "<caption>A tibble: 3 × 6</caption>\n",
       "<thead>\n",
       "\t<tr><th scope=col>country</th><th scope=col>continent</th><th scope=col>year</th><th scope=col>lifeExp</th><th scope=col>pop</th><th scope=col>gdpPercap</th></tr>\n",
       "\t<tr><th scope=col>&lt;fct&gt;</th><th scope=col>&lt;fct&gt;</th><th scope=col>&lt;int&gt;</th><th scope=col>&lt;dbl&gt;</th><th scope=col>&lt;int&gt;</th><th scope=col>&lt;dbl&gt;</th></tr>\n",
       "</thead>\n",
       "<tbody>\n",
       "\t<tr><td>Afghanistan</td><td>Asia</td><td>1952</td><td>28.801</td><td> 8425333</td><td>779.4453</td></tr>\n",
       "\t<tr><td>Afghanistan</td><td>Asia</td><td>1957</td><td>30.332</td><td> 9240934</td><td>820.8530</td></tr>\n",
       "\t<tr><td>Afghanistan</td><td>Asia</td><td>1962</td><td>31.997</td><td>10267083</td><td>853.1007</td></tr>\n",
       "</tbody>\n",
       "</table>\n"
      ],
      "text/latex": [
       "A tibble: 3 × 6\n",
       "\\begin{tabular}{llllll}\n",
       " country & continent & year & lifeExp & pop & gdpPercap\\\\\n",
       " <fct> & <fct> & <int> & <dbl> & <int> & <dbl>\\\\\n",
       "\\hline\n",
       "\t Afghanistan & Asia & 1952 & 28.801 &  8425333 & 779.4453\\\\\n",
       "\t Afghanistan & Asia & 1957 & 30.332 &  9240934 & 820.8530\\\\\n",
       "\t Afghanistan & Asia & 1962 & 31.997 & 10267083 & 853.1007\\\\\n",
       "\\end{tabular}\n"
      ],
      "text/markdown": [
       "\n",
       "A tibble: 3 × 6\n",
       "\n",
       "| country &lt;fct&gt; | continent &lt;fct&gt; | year &lt;int&gt; | lifeExp &lt;dbl&gt; | pop &lt;int&gt; | gdpPercap &lt;dbl&gt; |\n",
       "|---|---|---|---|---|---|\n",
       "| Afghanistan | Asia | 1952 | 28.801 |  8425333 | 779.4453 |\n",
       "| Afghanistan | Asia | 1957 | 30.332 |  9240934 | 820.8530 |\n",
       "| Afghanistan | Asia | 1962 | 31.997 | 10267083 | 853.1007 |\n",
       "\n"
      ],
      "text/plain": [
       "  country     continent year lifeExp pop      gdpPercap\n",
       "1 Afghanistan Asia      1952 28.801   8425333 779.4453 \n",
       "2 Afghanistan Asia      1957 30.332   9240934 820.8530 \n",
       "3 Afghanistan Asia      1962 31.997  10267083 853.1007 "
      ]
     },
     "metadata": {},
     "output_type": "display_data"
    }
   ],
   "source": [
    "gapminder %>% head(3)"
   ]
  },
  {
   "cell_type": "code",
   "execution_count": 17,
   "id": "5f794ce1",
   "metadata": {
    "vscode": {
     "languageId": "r"
    }
   },
   "outputs": [
    {
     "data": {
      "text/html": [
       "<table class=\"dataframe\">\n",
       "<caption>A tibble: 1704 × 2</caption>\n",
       "<thead>\n",
       "\t<tr><th scope=col>year</th><th scope=col>lifeExp</th></tr>\n",
       "\t<tr><th scope=col>&lt;int&gt;</th><th scope=col>&lt;dbl&gt;</th></tr>\n",
       "</thead>\n",
       "<tbody>\n",
       "\t<tr><td>1952</td><td>28.801</td></tr>\n",
       "\t<tr><td>1957</td><td>30.332</td></tr>\n",
       "\t<tr><td>1962</td><td>31.997</td></tr>\n",
       "\t<tr><td>1967</td><td>34.020</td></tr>\n",
       "\t<tr><td>1972</td><td>36.088</td></tr>\n",
       "\t<tr><td>1977</td><td>38.438</td></tr>\n",
       "\t<tr><td>1982</td><td>39.854</td></tr>\n",
       "\t<tr><td>1987</td><td>40.822</td></tr>\n",
       "\t<tr><td>1992</td><td>41.674</td></tr>\n",
       "\t<tr><td>1997</td><td>41.763</td></tr>\n",
       "\t<tr><td>2002</td><td>42.129</td></tr>\n",
       "\t<tr><td>2007</td><td>43.828</td></tr>\n",
       "\t<tr><td>1952</td><td>55.230</td></tr>\n",
       "\t<tr><td>1957</td><td>59.280</td></tr>\n",
       "\t<tr><td>1962</td><td>64.820</td></tr>\n",
       "\t<tr><td>1967</td><td>66.220</td></tr>\n",
       "\t<tr><td>1972</td><td>67.690</td></tr>\n",
       "\t<tr><td>1977</td><td>68.930</td></tr>\n",
       "\t<tr><td>1982</td><td>70.420</td></tr>\n",
       "\t<tr><td>1987</td><td>72.000</td></tr>\n",
       "\t<tr><td>1992</td><td>71.581</td></tr>\n",
       "\t<tr><td>1997</td><td>72.950</td></tr>\n",
       "\t<tr><td>2002</td><td>75.651</td></tr>\n",
       "\t<tr><td>2007</td><td>76.423</td></tr>\n",
       "\t<tr><td>1952</td><td>43.077</td></tr>\n",
       "\t<tr><td>1957</td><td>45.685</td></tr>\n",
       "\t<tr><td>1962</td><td>48.303</td></tr>\n",
       "\t<tr><td>1967</td><td>51.407</td></tr>\n",
       "\t<tr><td>1972</td><td>54.518</td></tr>\n",
       "\t<tr><td>1977</td><td>58.014</td></tr>\n",
       "\t<tr><td>⋮</td><td>⋮</td></tr>\n",
       "\t<tr><td>1982</td><td>49.113</td></tr>\n",
       "\t<tr><td>1987</td><td>52.922</td></tr>\n",
       "\t<tr><td>1992</td><td>55.599</td></tr>\n",
       "\t<tr><td>1997</td><td>58.020</td></tr>\n",
       "\t<tr><td>2002</td><td>60.308</td></tr>\n",
       "\t<tr><td>2007</td><td>62.698</td></tr>\n",
       "\t<tr><td>1952</td><td>42.038</td></tr>\n",
       "\t<tr><td>1957</td><td>44.077</td></tr>\n",
       "\t<tr><td>1962</td><td>46.023</td></tr>\n",
       "\t<tr><td>1967</td><td>47.768</td></tr>\n",
       "\t<tr><td>1972</td><td>50.107</td></tr>\n",
       "\t<tr><td>1977</td><td>51.386</td></tr>\n",
       "\t<tr><td>1982</td><td>51.821</td></tr>\n",
       "\t<tr><td>1987</td><td>50.821</td></tr>\n",
       "\t<tr><td>1992</td><td>46.100</td></tr>\n",
       "\t<tr><td>1997</td><td>40.238</td></tr>\n",
       "\t<tr><td>2002</td><td>39.193</td></tr>\n",
       "\t<tr><td>2007</td><td>42.384</td></tr>\n",
       "\t<tr><td>1952</td><td>48.451</td></tr>\n",
       "\t<tr><td>1957</td><td>50.469</td></tr>\n",
       "\t<tr><td>1962</td><td>52.358</td></tr>\n",
       "\t<tr><td>1967</td><td>53.995</td></tr>\n",
       "\t<tr><td>1972</td><td>55.635</td></tr>\n",
       "\t<tr><td>1977</td><td>57.674</td></tr>\n",
       "\t<tr><td>1982</td><td>60.363</td></tr>\n",
       "\t<tr><td>1987</td><td>62.351</td></tr>\n",
       "\t<tr><td>1992</td><td>60.377</td></tr>\n",
       "\t<tr><td>1997</td><td>46.809</td></tr>\n",
       "\t<tr><td>2002</td><td>39.989</td></tr>\n",
       "\t<tr><td>2007</td><td>43.487</td></tr>\n",
       "</tbody>\n",
       "</table>\n"
      ],
      "text/latex": [
       "A tibble: 1704 × 2\n",
       "\\begin{tabular}{ll}\n",
       " year & lifeExp\\\\\n",
       " <int> & <dbl>\\\\\n",
       "\\hline\n",
       "\t 1952 & 28.801\\\\\n",
       "\t 1957 & 30.332\\\\\n",
       "\t 1962 & 31.997\\\\\n",
       "\t 1967 & 34.020\\\\\n",
       "\t 1972 & 36.088\\\\\n",
       "\t 1977 & 38.438\\\\\n",
       "\t 1982 & 39.854\\\\\n",
       "\t 1987 & 40.822\\\\\n",
       "\t 1992 & 41.674\\\\\n",
       "\t 1997 & 41.763\\\\\n",
       "\t 2002 & 42.129\\\\\n",
       "\t 2007 & 43.828\\\\\n",
       "\t 1952 & 55.230\\\\\n",
       "\t 1957 & 59.280\\\\\n",
       "\t 1962 & 64.820\\\\\n",
       "\t 1967 & 66.220\\\\\n",
       "\t 1972 & 67.690\\\\\n",
       "\t 1977 & 68.930\\\\\n",
       "\t 1982 & 70.420\\\\\n",
       "\t 1987 & 72.000\\\\\n",
       "\t 1992 & 71.581\\\\\n",
       "\t 1997 & 72.950\\\\\n",
       "\t 2002 & 75.651\\\\\n",
       "\t 2007 & 76.423\\\\\n",
       "\t 1952 & 43.077\\\\\n",
       "\t 1957 & 45.685\\\\\n",
       "\t 1962 & 48.303\\\\\n",
       "\t 1967 & 51.407\\\\\n",
       "\t 1972 & 54.518\\\\\n",
       "\t 1977 & 58.014\\\\\n",
       "\t ⋮ & ⋮\\\\\n",
       "\t 1982 & 49.113\\\\\n",
       "\t 1987 & 52.922\\\\\n",
       "\t 1992 & 55.599\\\\\n",
       "\t 1997 & 58.020\\\\\n",
       "\t 2002 & 60.308\\\\\n",
       "\t 2007 & 62.698\\\\\n",
       "\t 1952 & 42.038\\\\\n",
       "\t 1957 & 44.077\\\\\n",
       "\t 1962 & 46.023\\\\\n",
       "\t 1967 & 47.768\\\\\n",
       "\t 1972 & 50.107\\\\\n",
       "\t 1977 & 51.386\\\\\n",
       "\t 1982 & 51.821\\\\\n",
       "\t 1987 & 50.821\\\\\n",
       "\t 1992 & 46.100\\\\\n",
       "\t 1997 & 40.238\\\\\n",
       "\t 2002 & 39.193\\\\\n",
       "\t 2007 & 42.384\\\\\n",
       "\t 1952 & 48.451\\\\\n",
       "\t 1957 & 50.469\\\\\n",
       "\t 1962 & 52.358\\\\\n",
       "\t 1967 & 53.995\\\\\n",
       "\t 1972 & 55.635\\\\\n",
       "\t 1977 & 57.674\\\\\n",
       "\t 1982 & 60.363\\\\\n",
       "\t 1987 & 62.351\\\\\n",
       "\t 1992 & 60.377\\\\\n",
       "\t 1997 & 46.809\\\\\n",
       "\t 2002 & 39.989\\\\\n",
       "\t 2007 & 43.487\\\\\n",
       "\\end{tabular}\n"
      ],
      "text/markdown": [
       "\n",
       "A tibble: 1704 × 2\n",
       "\n",
       "| year &lt;int&gt; | lifeExp &lt;dbl&gt; |\n",
       "|---|---|\n",
       "| 1952 | 28.801 |\n",
       "| 1957 | 30.332 |\n",
       "| 1962 | 31.997 |\n",
       "| 1967 | 34.020 |\n",
       "| 1972 | 36.088 |\n",
       "| 1977 | 38.438 |\n",
       "| 1982 | 39.854 |\n",
       "| 1987 | 40.822 |\n",
       "| 1992 | 41.674 |\n",
       "| 1997 | 41.763 |\n",
       "| 2002 | 42.129 |\n",
       "| 2007 | 43.828 |\n",
       "| 1952 | 55.230 |\n",
       "| 1957 | 59.280 |\n",
       "| 1962 | 64.820 |\n",
       "| 1967 | 66.220 |\n",
       "| 1972 | 67.690 |\n",
       "| 1977 | 68.930 |\n",
       "| 1982 | 70.420 |\n",
       "| 1987 | 72.000 |\n",
       "| 1992 | 71.581 |\n",
       "| 1997 | 72.950 |\n",
       "| 2002 | 75.651 |\n",
       "| 2007 | 76.423 |\n",
       "| 1952 | 43.077 |\n",
       "| 1957 | 45.685 |\n",
       "| 1962 | 48.303 |\n",
       "| 1967 | 51.407 |\n",
       "| 1972 | 54.518 |\n",
       "| 1977 | 58.014 |\n",
       "| ⋮ | ⋮ |\n",
       "| 1982 | 49.113 |\n",
       "| 1987 | 52.922 |\n",
       "| 1992 | 55.599 |\n",
       "| 1997 | 58.020 |\n",
       "| 2002 | 60.308 |\n",
       "| 2007 | 62.698 |\n",
       "| 1952 | 42.038 |\n",
       "| 1957 | 44.077 |\n",
       "| 1962 | 46.023 |\n",
       "| 1967 | 47.768 |\n",
       "| 1972 | 50.107 |\n",
       "| 1977 | 51.386 |\n",
       "| 1982 | 51.821 |\n",
       "| 1987 | 50.821 |\n",
       "| 1992 | 46.100 |\n",
       "| 1997 | 40.238 |\n",
       "| 2002 | 39.193 |\n",
       "| 2007 | 42.384 |\n",
       "| 1952 | 48.451 |\n",
       "| 1957 | 50.469 |\n",
       "| 1962 | 52.358 |\n",
       "| 1967 | 53.995 |\n",
       "| 1972 | 55.635 |\n",
       "| 1977 | 57.674 |\n",
       "| 1982 | 60.363 |\n",
       "| 1987 | 62.351 |\n",
       "| 1992 | 60.377 |\n",
       "| 1997 | 46.809 |\n",
       "| 2002 | 39.989 |\n",
       "| 2007 | 43.487 |\n",
       "\n"
      ],
      "text/plain": [
       "     year lifeExp\n",
       "1    1952 28.801 \n",
       "2    1957 30.332 \n",
       "3    1962 31.997 \n",
       "4    1967 34.020 \n",
       "5    1972 36.088 \n",
       "6    1977 38.438 \n",
       "7    1982 39.854 \n",
       "8    1987 40.822 \n",
       "9    1992 41.674 \n",
       "10   1997 41.763 \n",
       "11   2002 42.129 \n",
       "12   2007 43.828 \n",
       "13   1952 55.230 \n",
       "14   1957 59.280 \n",
       "15   1962 64.820 \n",
       "16   1967 66.220 \n",
       "17   1972 67.690 \n",
       "18   1977 68.930 \n",
       "19   1982 70.420 \n",
       "20   1987 72.000 \n",
       "21   1992 71.581 \n",
       "22   1997 72.950 \n",
       "23   2002 75.651 \n",
       "24   2007 76.423 \n",
       "25   1952 43.077 \n",
       "26   1957 45.685 \n",
       "27   1962 48.303 \n",
       "28   1967 51.407 \n",
       "29   1972 54.518 \n",
       "30   1977 58.014 \n",
       "⋮    ⋮    ⋮      \n",
       "1675 1982 49.113 \n",
       "1676 1987 52.922 \n",
       "1677 1992 55.599 \n",
       "1678 1997 58.020 \n",
       "1679 2002 60.308 \n",
       "1680 2007 62.698 \n",
       "1681 1952 42.038 \n",
       "1682 1957 44.077 \n",
       "1683 1962 46.023 \n",
       "1684 1967 47.768 \n",
       "1685 1972 50.107 \n",
       "1686 1977 51.386 \n",
       "1687 1982 51.821 \n",
       "1688 1987 50.821 \n",
       "1689 1992 46.100 \n",
       "1690 1997 40.238 \n",
       "1691 2002 39.193 \n",
       "1692 2007 42.384 \n",
       "1693 1952 48.451 \n",
       "1694 1957 50.469 \n",
       "1695 1962 52.358 \n",
       "1696 1967 53.995 \n",
       "1697 1972 55.635 \n",
       "1698 1977 57.674 \n",
       "1699 1982 60.363 \n",
       "1700 1987 62.351 \n",
       "1701 1992 60.377 \n",
       "1702 1997 46.809 \n",
       "1703 2002 39.989 \n",
       "1704 2007 43.487 "
      ]
     },
     "metadata": {},
     "output_type": "display_data"
    }
   ],
   "source": [
    "select(gapminder, year, lifeExp)"
   ]
  },
  {
   "cell_type": "code",
   "execution_count": 18,
   "id": "2f296ea8",
   "metadata": {
    "vscode": {
     "languageId": "r"
    }
   },
   "outputs": [
    {
     "data": {
      "text/html": [
       "<table class=\"dataframe\">\n",
       "<caption>A tibble: 4 × 2</caption>\n",
       "<thead>\n",
       "\t<tr><th scope=col>year</th><th scope=col>lifeExp</th></tr>\n",
       "\t<tr><th scope=col>&lt;int&gt;</th><th scope=col>&lt;dbl&gt;</th></tr>\n",
       "</thead>\n",
       "<tbody>\n",
       "\t<tr><td>1952</td><td>28.801</td></tr>\n",
       "\t<tr><td>1957</td><td>30.332</td></tr>\n",
       "\t<tr><td>1962</td><td>31.997</td></tr>\n",
       "\t<tr><td>1967</td><td>34.020</td></tr>\n",
       "</tbody>\n",
       "</table>\n"
      ],
      "text/latex": [
       "A tibble: 4 × 2\n",
       "\\begin{tabular}{ll}\n",
       " year & lifeExp\\\\\n",
       " <int> & <dbl>\\\\\n",
       "\\hline\n",
       "\t 1952 & 28.801\\\\\n",
       "\t 1957 & 30.332\\\\\n",
       "\t 1962 & 31.997\\\\\n",
       "\t 1967 & 34.020\\\\\n",
       "\\end{tabular}\n"
      ],
      "text/markdown": [
       "\n",
       "A tibble: 4 × 2\n",
       "\n",
       "| year &lt;int&gt; | lifeExp &lt;dbl&gt; |\n",
       "|---|---|\n",
       "| 1952 | 28.801 |\n",
       "| 1957 | 30.332 |\n",
       "| 1962 | 31.997 |\n",
       "| 1967 | 34.020 |\n",
       "\n"
      ],
      "text/plain": [
       "  year lifeExp\n",
       "1 1952 28.801 \n",
       "2 1957 30.332 \n",
       "3 1962 31.997 \n",
       "4 1967 34.020 "
      ]
     },
     "metadata": {},
     "output_type": "display_data"
    }
   ],
   "source": [
    "gapminder %>%\n",
    "  select(year, lifeExp) %>%\n",
    "  head(4)"
   ]
  },
  {
   "cell_type": "code",
   "execution_count": 19,
   "id": "43930d9c",
   "metadata": {
    "vscode": {
     "languageId": "r"
    }
   },
   "outputs": [
    {
     "data": {
      "text/html": [
       "<table class=\"dataframe\">\n",
       "<caption>A tibble: 12 × 2</caption>\n",
       "<thead>\n",
       "\t<tr><th scope=col>year</th><th scope=col>lifeExp</th></tr>\n",
       "\t<tr><th scope=col>&lt;int&gt;</th><th scope=col>&lt;dbl&gt;</th></tr>\n",
       "</thead>\n",
       "<tbody>\n",
       "\t<tr><td>1952</td><td>39.417</td></tr>\n",
       "\t<tr><td>1957</td><td>41.366</td></tr>\n",
       "\t<tr><td>1962</td><td>43.415</td></tr>\n",
       "\t<tr><td>1967</td><td>45.415</td></tr>\n",
       "\t<tr><td>1972</td><td>40.317</td></tr>\n",
       "\t<tr><td>1977</td><td>31.220</td></tr>\n",
       "\t<tr><td>1982</td><td>50.957</td></tr>\n",
       "\t<tr><td>1987</td><td>53.914</td></tr>\n",
       "\t<tr><td>1992</td><td>55.803</td></tr>\n",
       "\t<tr><td>1997</td><td>56.534</td></tr>\n",
       "\t<tr><td>2002</td><td>56.752</td></tr>\n",
       "\t<tr><td>2007</td><td>59.723</td></tr>\n",
       "</tbody>\n",
       "</table>\n"
      ],
      "text/latex": [
       "A tibble: 12 × 2\n",
       "\\begin{tabular}{ll}\n",
       " year & lifeExp\\\\\n",
       " <int> & <dbl>\\\\\n",
       "\\hline\n",
       "\t 1952 & 39.417\\\\\n",
       "\t 1957 & 41.366\\\\\n",
       "\t 1962 & 43.415\\\\\n",
       "\t 1967 & 45.415\\\\\n",
       "\t 1972 & 40.317\\\\\n",
       "\t 1977 & 31.220\\\\\n",
       "\t 1982 & 50.957\\\\\n",
       "\t 1987 & 53.914\\\\\n",
       "\t 1992 & 55.803\\\\\n",
       "\t 1997 & 56.534\\\\\n",
       "\t 2002 & 56.752\\\\\n",
       "\t 2007 & 59.723\\\\\n",
       "\\end{tabular}\n"
      ],
      "text/markdown": [
       "\n",
       "A tibble: 12 × 2\n",
       "\n",
       "| year &lt;int&gt; | lifeExp &lt;dbl&gt; |\n",
       "|---|---|\n",
       "| 1952 | 39.417 |\n",
       "| 1957 | 41.366 |\n",
       "| 1962 | 43.415 |\n",
       "| 1967 | 45.415 |\n",
       "| 1972 | 40.317 |\n",
       "| 1977 | 31.220 |\n",
       "| 1982 | 50.957 |\n",
       "| 1987 | 53.914 |\n",
       "| 1992 | 55.803 |\n",
       "| 1997 | 56.534 |\n",
       "| 2002 | 56.752 |\n",
       "| 2007 | 59.723 |\n",
       "\n"
      ],
      "text/plain": [
       "   year lifeExp\n",
       "1  1952 39.417 \n",
       "2  1957 41.366 \n",
       "3  1962 43.415 \n",
       "4  1967 45.415 \n",
       "5  1972 40.317 \n",
       "6  1977 31.220 \n",
       "7  1982 50.957 \n",
       "8  1987 53.914 \n",
       "9  1992 55.803 \n",
       "10 1997 56.534 \n",
       "11 2002 56.752 \n",
       "12 2007 59.723 "
      ]
     },
     "metadata": {},
     "output_type": "display_data"
    }
   ],
   "source": [
    "gapminder %>%\n",
    "  filter(country == \"Cambodia\") %>%\n",
    "  select(year, lifeExp)"
   ]
  },
  {
   "cell_type": "code",
   "execution_count": 20,
   "id": "bd58899d",
   "metadata": {
    "vscode": {
     "languageId": "r"
    }
   },
   "outputs": [
    {
     "data": {
      "text/html": [
       "<table class=\"dataframe\">\n",
       "<caption>A tibble: 12 × 2</caption>\n",
       "<thead>\n",
       "\t<tr><th scope=col>year</th><th scope=col>lifeExp</th></tr>\n",
       "\t<tr><th scope=col>&lt;int&gt;</th><th scope=col>&lt;dbl&gt;</th></tr>\n",
       "</thead>\n",
       "<tbody>\n",
       "\t<tr><td>1952</td><td>39.417</td></tr>\n",
       "\t<tr><td>1957</td><td>41.366</td></tr>\n",
       "\t<tr><td>1962</td><td>43.415</td></tr>\n",
       "\t<tr><td>1967</td><td>45.415</td></tr>\n",
       "\t<tr><td>1972</td><td>40.317</td></tr>\n",
       "\t<tr><td>1977</td><td>31.220</td></tr>\n",
       "\t<tr><td>1982</td><td>50.957</td></tr>\n",
       "\t<tr><td>1987</td><td>53.914</td></tr>\n",
       "\t<tr><td>1992</td><td>55.803</td></tr>\n",
       "\t<tr><td>1997</td><td>56.534</td></tr>\n",
       "\t<tr><td>2002</td><td>56.752</td></tr>\n",
       "\t<tr><td>2007</td><td>59.723</td></tr>\n",
       "</tbody>\n",
       "</table>\n"
      ],
      "text/latex": [
       "A tibble: 12 × 2\n",
       "\\begin{tabular}{ll}\n",
       " year & lifeExp\\\\\n",
       " <int> & <dbl>\\\\\n",
       "\\hline\n",
       "\t 1952 & 39.417\\\\\n",
       "\t 1957 & 41.366\\\\\n",
       "\t 1962 & 43.415\\\\\n",
       "\t 1967 & 45.415\\\\\n",
       "\t 1972 & 40.317\\\\\n",
       "\t 1977 & 31.220\\\\\n",
       "\t 1982 & 50.957\\\\\n",
       "\t 1987 & 53.914\\\\\n",
       "\t 1992 & 55.803\\\\\n",
       "\t 1997 & 56.534\\\\\n",
       "\t 2002 & 56.752\\\\\n",
       "\t 2007 & 59.723\\\\\n",
       "\\end{tabular}\n"
      ],
      "text/markdown": [
       "\n",
       "A tibble: 12 × 2\n",
       "\n",
       "| year &lt;int&gt; | lifeExp &lt;dbl&gt; |\n",
       "|---|---|\n",
       "| 1952 | 39.417 |\n",
       "| 1957 | 41.366 |\n",
       "| 1962 | 43.415 |\n",
       "| 1967 | 45.415 |\n",
       "| 1972 | 40.317 |\n",
       "| 1977 | 31.220 |\n",
       "| 1982 | 50.957 |\n",
       "| 1987 | 53.914 |\n",
       "| 1992 | 55.803 |\n",
       "| 1997 | 56.534 |\n",
       "| 2002 | 56.752 |\n",
       "| 2007 | 59.723 |\n",
       "\n"
      ],
      "text/plain": [
       "   year lifeExp\n",
       "1  1952 39.417 \n",
       "2  1957 41.366 \n",
       "3  1962 43.415 \n",
       "4  1967 45.415 \n",
       "5  1972 40.317 \n",
       "6  1977 31.220 \n",
       "7  1982 50.957 \n",
       "8  1987 53.914 \n",
       "9  1992 55.803 \n",
       "10 1997 56.534 \n",
       "11 2002 56.752 \n",
       "12 2007 59.723 "
      ]
     },
     "metadata": {},
     "output_type": "display_data"
    }
   ],
   "source": [
    "gapminder[gapminder$country == \"Cambodia\", c(\"year\", \"lifeExp\")]"
   ]
  },
  {
   "cell_type": "code",
   "execution_count": null,
   "id": "3ae313cb",
   "metadata": {
    "vscode": {
     "languageId": "r"
    }
   },
   "outputs": [],
   "source": []
  },
  {
   "cell_type": "code",
   "execution_count": null,
   "id": "7749511e",
   "metadata": {
    "vscode": {
     "languageId": "r"
    }
   },
   "outputs": [],
   "source": []
  },
  {
   "cell_type": "code",
   "execution_count": null,
   "id": "b79fe573",
   "metadata": {
    "vscode": {
     "languageId": "r"
    }
   },
   "outputs": [],
   "source": []
  },
  {
   "cell_type": "code",
   "execution_count": null,
   "id": "8738ae64",
   "metadata": {
    "vscode": {
     "languageId": "r"
    }
   },
   "outputs": [],
   "source": []
  },
  {
   "cell_type": "code",
   "execution_count": null,
   "id": "e093c881",
   "metadata": {
    "vscode": {
     "languageId": "r"
    }
   },
   "outputs": [],
   "source": []
  },
  {
   "cell_type": "code",
   "execution_count": null,
   "id": "0d4c74ef",
   "metadata": {
    "vscode": {
     "languageId": "r"
    }
   },
   "outputs": [],
   "source": []
  },
  {
   "cell_type": "code",
   "execution_count": null,
   "id": "198911d6",
   "metadata": {
    "vscode": {
     "languageId": "r"
    }
   },
   "outputs": [],
   "source": []
  },
  {
   "cell_type": "code",
   "execution_count": null,
   "id": "4140eb93",
   "metadata": {
    "vscode": {
     "languageId": "r"
    }
   },
   "outputs": [],
   "source": []
  },
  {
   "cell_type": "code",
   "execution_count": null,
   "id": "7e9b1157",
   "metadata": {
    "vscode": {
     "languageId": "r"
    }
   },
   "outputs": [],
   "source": []
  },
  {
   "cell_type": "code",
   "execution_count": null,
   "id": "bf2377ad",
   "metadata": {
    "vscode": {
     "languageId": "r"
    }
   },
   "outputs": [],
   "source": []
  },
  {
   "cell_type": "code",
   "execution_count": null,
   "id": "5a773bcc",
   "metadata": {
    "vscode": {
     "languageId": "r"
    }
   },
   "outputs": [],
   "source": []
  },
  {
   "cell_type": "code",
   "execution_count": null,
   "id": "c001a8e8",
   "metadata": {
    "vscode": {
     "languageId": "r"
    }
   },
   "outputs": [],
   "source": []
  }
 ],
 "metadata": {
  "kernelspec": {
   "display_name": "R",
   "language": "R",
   "name": "ir"
  },
  "language_info": {
   "codemirror_mode": "r",
   "file_extension": ".r",
   "mimetype": "text/x-r-source",
   "name": "R",
   "pygments_lexer": "r",
   "version": "4.5.1"
  }
 },
 "nbformat": 4,
 "nbformat_minor": 5
}
