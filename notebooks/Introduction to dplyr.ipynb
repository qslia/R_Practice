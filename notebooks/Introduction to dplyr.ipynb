{
 "cells": [
  {
   "cell_type": "code",
   "execution_count": 1,
   "id": "278869ed",
   "metadata": {
    "vscode": {
     "languageId": "r"
    }
   },
   "outputs": [
    {
     "name": "stdout",
     "output_type": "stream",
     "text": [
      "=== Basic Variables and Operations ===\n",
      "x = 10 \n",
      "y = 5 \n",
      "x + y = 15 \n",
      "x * y = 50 \n",
      "x / y = 2 \n",
      "\n"
     ]
    }
   ],
   "source": [
    "# Simple R Program\n",
    "# This program demonstrates basic R concepts\n",
    "\n",
    "# 1. Variables and basic operations\n",
    "cat(\"=== Basic Variables and Operations ===\\n\")\n",
    "x <- 10\n",
    "y <- 5\n",
    "z <- x + y\n",
    "cat(\"x =\", x, \"\\n\")\n",
    "cat(\"y =\", y, \"\\n\")\n",
    "cat(\"x + y =\", z, \"\\n\")\n",
    "cat(\"x * y =\", x * y, \"\\n\")\n",
    "cat(\"x / y =\", x / y, \"\\n\\n\")"
   ]
  },
  {
   "cell_type": "code",
   "execution_count": 2,
   "id": "084f632b",
   "metadata": {
    "vscode": {
     "languageId": "r"
    }
   },
   "outputs": [
    {
     "name": "stdout",
     "output_type": "stream",
     "text": [
      "=== Working with Vectors ===\n",
      "Vector of numbers: 1 2 3 4 5 6 7 8 9 10 \n",
      "Mean of numbers: 5.5 \n",
      "Sum of numbers: 55 \n",
      "Length of vector: 10 \n",
      "\n"
     ]
    }
   ],
   "source": [
    "# 2. Vectors\n",
    "cat(\"=== Working with Vectors ===\\n\")\n",
    "numbers <- c(1, 2, 3, 4, 5, 6, 7, 8, 9, 10)\n",
    "cat(\"Vector of numbers:\", numbers, \"\\n\")\n",
    "cat(\"Mean of numbers:\", mean(numbers), \"\\n\")\n",
    "cat(\"Sum of numbers:\", sum(numbers), \"\\n\")\n",
    "cat(\"Length of vector:\", length(numbers), \"\\n\\n\")"
   ]
  },
  {
   "cell_type": "code",
   "execution_count": 3,
   "id": "e0a9d7a1",
   "metadata": {
    "vscode": {
     "languageId": "r"
    }
   },
   "outputs": [
    {
     "name": "stdout",
     "output_type": "stream",
     "text": [
      "=== Creating a Data Frame ===\n",
      "Student data:\n",
      "     Name Age Score\n",
      "1   Alice  25    85\n",
      "2     Bob  30    92\n",
      "3 Charlie  35    78\n",
      "4   Diana  28    95\n",
      "5     Eve  32    88\n",
      "\n"
     ]
    }
   ],
   "source": [
    "# 3. Data Frame\n",
    "cat(\"=== Creating a Data Frame ===\\n\")\n",
    "names <- c(\"Alice\", \"Bob\", \"Charlie\", \"Diana\", \"Eve\")\n",
    "ages <- c(25, 30, 35, 28, 32)\n",
    "scores <- c(85, 92, 78, 95, 88)\n",
    "\n",
    "students <- data.frame(\n",
    "  Name = names,\n",
    "  Age = ages,\n",
    "  Score = scores\n",
    ")\n",
    "\n",
    "cat(\"Student data:\\n\")\n",
    "print(students)\n",
    "cat(\"\\n\")"
   ]
  },
  {
   "cell_type": "code",
   "execution_count": 5,
   "id": "5d2d98a1",
   "metadata": {
    "vscode": {
     "languageId": "r"
    }
   },
   "outputs": [
    {
     "name": "stdout",
     "output_type": "stream",
     "text": [
      "=== Basic Statistics ===\n",
      "Average age: 30 \n",
      "Average score: 87.6 \n",
      "Standard deviation of scores: 6.580274 \n",
      "Highest score: 95 \n",
      "Lowest score: 78 \n"
     ]
    }
   ],
   "source": [
    "# 4. Basic Statistics\n",
    "cat(\"=== Basic Statistics ===\\n\")\n",
    "cat(\"Average age:\", mean(ages), \"\\n\")\n",
    "cat(\"Average score:\", mean(scores), \"\\n\")\n",
    "cat(\"Standard deviation of scores:\", sd(scores), \"\\n\")\n",
    "cat(\"Highest score:\", max(scores), \"\\n\")\n",
    "cat(\"Lowest score:\", min(scores), \"\\n\")"
   ]
  },
  {
   "cell_type": "code",
   "execution_count": 8,
   "id": "fe5dc302",
   "metadata": {
    "vscode": {
     "languageId": "r"
    }
   },
   "outputs": [
    {
     "name": "stdout",
     "output_type": "stream",
     "text": [
      "=== Conditional Logic ===\n",
      "Alice has a good score: 85 \n",
      "Bob has an excellent score: 92 \n",
      "Charlie needs improvement. Score: 78 \n",
      "Diana has an excellent score: 95 \n",
      "Eve has a good score: 88 \n"
     ]
    }
   ],
   "source": [
    "# 5. Conditional statements\n",
    "cat(\"=== Conditional Logic ===\\n\")\n",
    "for (i in 1:length(scores)) {\n",
    "  if (scores[i] >= 90) {\n",
    "    cat(students$Name[i], \"has an excellent score:\", scores[i], \"\\n\")\n",
    "  } else if (scores[i] >= 80) {\n",
    "    cat(students$Name[i], \"has a good score:\", scores[i], \"\\n\")\n",
    "  } else {\n",
    "    cat(students$Name[i], \"needs improvement. Score:\", scores[i], \"\\n\")\n",
    "  }\n",
    "}"
   ]
  },
  {
   "cell_type": "code",
   "execution_count": 10,
   "id": "0c538009",
   "metadata": {
    "vscode": {
     "languageId": "r"
    }
   },
   "outputs": [
    {
     "name": "stdout",
     "output_type": "stream",
     "text": [
      "=== Creating a Simple Plot ===\n",
      "Bar plot created successfully!\n"
     ]
    },
    {
     "data": {
      "image/png": "[encoded data removed]",
      "text/plain": [
       "Plot with title \"Student Scores\""
      ]
     },
     "metadata": {
      "image/png": {
       "height": 420,
       "width": 420
      }
     },
     "output_type": "display_data"
    }
   ],
   "source": [
    "# 6. Simple plotting (if graphics are available)\n",
    "cat(\"=== Creating a Simple Plot ===\\n\")\n",
    "# Create a simple bar plot of scores\n",
    "if (require(graphics, quietly = TRUE)) {\n",
    "  barplot(scores, \n",
    "          names.arg = names, \n",
    "          col = \"skyblue\",\n",
    "          main = \"Student Scores\",\n",
    "          ylab = \"Score\",\n",
    "          ylim = c(0, 100))\n",
    "  cat(\"Bar plot created successfully!\\n\")\n",
    "} else {\n",
    "  cat(\"Graphics package not available for plotting\\n\")\n",
    "}"
   ]
  },
  {
   "cell_type": "code",
   "execution_count": null,
   "id": "f2951c64",
   "metadata": {
    "vscode": {
     "languageId": "r"
    }
   },
   "outputs": [
    {
     "name": "stderr",
     "output_type": "stream",
     "text": [
      "\n",
      "Attaching package: 'dplyr'\n",
      "\n",
      "\n",
      "The following objects are masked from 'package:stats':\n",
      "\n",
      "    filter, lag\n",
      "\n",
      "\n",
      "The following objects are masked from 'package:base':\n",
      "\n",
      "    intersect, setdiff, setequal, union\n",
      "\n",
      "\n"
     ]
    }
   ],
   "source": [
    "# Load the dplyr library\n",
    "library(dplyr)"
   ]
  },
  {
   "cell_type": "code",
   "execution_count": 13,
   "id": "5a6bb1f4",
   "metadata": {
    "vscode": {
     "languageId": "r"
    }
   },
   "outputs": [
    {
     "data": {
      "text/html": [
       "<style>\n",
       ".list-inline {list-style: none; margin:0; padding: 0}\n",
       ".list-inline>li {display: inline-block}\n",
       ".list-inline>li:not(:last-child)::after {content: \"\\00b7\"; padding: 0 .5ex}\n",
       "</style>\n",
       "<ol class=list-inline><li>87</li><li>14</li></ol>\n"
      ],
      "text/latex": [
       "\\begin{enumerate*}\n",
       "\\item 87\n",
       "\\item 14\n",
       "\\end{enumerate*}\n"
      ],
      "text/markdown": [
       "1. 87\n",
       "2. 14\n",
       "\n",
       "\n"
      ],
      "text/plain": [
       "[1] 87 14"
      ]
     },
     "metadata": {},
     "output_type": "display_data"
    }
   ],
   "source": [
    "\n",
    "# Check the dimensions of the starwars dataset\n",
    "dim(starwars)"
   ]
  },
  {
   "cell_type": "code",
   "execution_count": 14,
   "id": "39ea707f",
   "metadata": {
    "vscode": {
     "languageId": "r"
    }
   },
   "outputs": [
    {
     "name": "stdout",
     "output_type": "stream",
     "text": [
      "tibble [87 × 14] (S3: tbl_df/tbl/data.frame)\n",
      " $ name      : chr [1:87] \"Luke Skywalker\" \"C-3PO\" \"R2-D2\" \"Darth Vader\" ...\n",
      " $ height    : int [1:87] 172 167 96 202 150 178 165 97 183 182 ...\n",
      " $ mass      : num [1:87] 77 75 32 136 49 120 75 32 84 77 ...\n",
      " $ hair_color: chr [1:87] \"blond\" NA NA \"none\" ...\n",
      " $ skin_color: chr [1:87] \"fair\" \"gold\" \"white, blue\" \"white\" ...\n",
      " $ eye_color : chr [1:87] \"blue\" \"yellow\" \"red\" \"yellow\" ...\n",
      " $ birth_year: num [1:87] 19 112 33 41.9 19 52 47 NA 24 57 ...\n",
      " $ sex       : chr [1:87] \"male\" \"none\" \"none\" \"male\" ...\n",
      " $ gender    : chr [1:87] \"masculine\" \"masculine\" \"masculine\" \"masculine\" ...\n",
      " $ homeworld : chr [1:87] \"Tatooine\" \"Tatooine\" \"Naboo\" \"Tatooine\" ...\n",
      " $ species   : chr [1:87] \"Human\" \"Droid\" \"Droid\" \"Human\" ...\n",
      " $ films     :List of 87\n",
      "  ..$ : chr [1:5] \"A New Hope\" \"The Empire Strikes Back\" \"Return of the Jedi\" \"Revenge of the Sith\" ...\n",
      "  ..$ : chr [1:6] \"A New Hope\" \"The Empire Strikes Back\" \"Return of the Jedi\" \"The Phantom Menace\" ...\n",
      "  ..$ : chr [1:7] \"A New Hope\" \"The Empire Strikes Back\" \"Return of the Jedi\" \"The Phantom Menace\" ...\n",
      "  ..$ : chr [1:4] \"A New Hope\" \"The Empire Strikes Back\" \"Return of the Jedi\" \"Revenge of the Sith\"\n",
      "  ..$ : chr [1:5] \"A New Hope\" \"The Empire Strikes Back\" \"Return of the Jedi\" \"Revenge of the Sith\" ...\n",
      "  ..$ : chr [1:3] \"A New Hope\" \"Attack of the Clones\" \"Revenge of the Sith\"\n",
      "  ..$ : chr [1:3] \"A New Hope\" \"Attack of the Clones\" \"Revenge of the Sith\"\n",
      "  ..$ : chr \"A New Hope\"\n",
      "  ..$ : chr \"A New Hope\"\n",
      "  ..$ : chr [1:6] \"A New Hope\" \"The Empire Strikes Back\" \"Return of the Jedi\" \"The Phantom Menace\" ...\n",
      "  ..$ : chr [1:3] \"The Phantom Menace\" \"Attack of the Clones\" \"Revenge of the Sith\"\n",
      "  ..$ : chr [1:2] \"A New Hope\" \"Revenge of the Sith\"\n",
      "  ..$ : chr [1:5] \"A New Hope\" \"The Empire Strikes Back\" \"Return of the Jedi\" \"Revenge of the Sith\" ...\n",
      "  ..$ : chr [1:4] \"A New Hope\" \"The Empire Strikes Back\" \"Return of the Jedi\" \"The Force Awakens\"\n",
      "  ..$ : chr \"A New Hope\"\n",
      "  ..$ : chr [1:3] \"A New Hope\" \"Return of the Jedi\" \"The Phantom Menace\"\n",
      "  ..$ : chr [1:3] \"A New Hope\" \"The Empire Strikes Back\" \"Return of the Jedi\"\n",
      "  ..$ : chr \"A New Hope\"\n",
      "  ..$ : chr [1:5] \"The Empire Strikes Back\" \"Return of the Jedi\" \"The Phantom Menace\" \"Attack of the Clones\" ...\n",
      "  ..$ : chr [1:5] \"The Empire Strikes Back\" \"Return of the Jedi\" \"The Phantom Menace\" \"Attack of the Clones\" ...\n",
      "  ..$ : chr [1:3] \"The Empire Strikes Back\" \"Return of the Jedi\" \"Attack of the Clones\"\n",
      "  ..$ : chr \"The Empire Strikes Back\"\n",
      "  ..$ : chr \"The Empire Strikes Back\"\n",
      "  ..$ : chr [1:2] \"The Empire Strikes Back\" \"Return of the Jedi\"\n",
      "  ..$ : chr \"The Empire Strikes Back\"\n",
      "  ..$ : chr [1:2] \"Return of the Jedi\" \"The Force Awakens\"\n",
      "  ..$ : chr \"Return of the Jedi\"\n",
      "  ..$ : chr \"Return of the Jedi\"\n",
      "  ..$ : chr \"Return of the Jedi\"\n",
      "  ..$ : chr \"Return of the Jedi\"\n",
      "  ..$ : chr \"The Phantom Menace\"\n",
      "  ..$ : chr [1:3] \"The Phantom Menace\" \"Attack of the Clones\" \"Revenge of the Sith\"\n",
      "  ..$ : chr \"The Phantom Menace\"\n",
      "  ..$ : chr [1:3] \"The Phantom Menace\" \"Attack of the Clones\" \"Revenge of the Sith\"\n",
      "  ..$ : chr [1:2] \"The Phantom Menace\" \"Attack of the Clones\"\n",
      "  ..$ : chr \"The Phantom Menace\"\n",
      "  ..$ : chr \"The Phantom Menace\"\n",
      "  ..$ : chr \"The Phantom Menace\"\n",
      "  ..$ : chr [1:2] \"The Phantom Menace\" \"Attack of the Clones\"\n",
      "  ..$ : chr \"The Phantom Menace\"\n",
      "  ..$ : chr \"The Phantom Menace\"\n",
      "  ..$ : chr [1:2] \"The Phantom Menace\" \"Attack of the Clones\"\n",
      "  ..$ : chr \"The Phantom Menace\"\n",
      "  ..$ : chr \"Return of the Jedi\"\n",
      "  ..$ : chr [1:3] \"The Phantom Menace\" \"Attack of the Clones\" \"Revenge of the Sith\"\n",
      "  ..$ : chr \"The Phantom Menace\"\n",
      "  ..$ : chr \"The Phantom Menace\"\n",
      "  ..$ : chr \"The Phantom Menace\"\n",
      "  ..$ : chr \"The Phantom Menace\"\n",
      "  ..$ : chr [1:3] \"The Phantom Menace\" \"Attack of the Clones\" \"Revenge of the Sith\"\n",
      "  ..$ : chr [1:3] \"The Phantom Menace\" \"Attack of the Clones\" \"Revenge of the Sith\"\n",
      "  ..$ : chr [1:3] \"The Phantom Menace\" \"Attack of the Clones\" \"Revenge of the Sith\"\n",
      "  ..$ : chr [1:2] \"The Phantom Menace\" \"Revenge of the Sith\"\n",
      "  ..$ : chr [1:2] \"The Phantom Menace\" \"Revenge of the Sith\"\n",
      "  ..$ : chr [1:2] \"The Phantom Menace\" \"Revenge of the Sith\"\n",
      "  ..$ : chr \"The Phantom Menace\"\n",
      "  ..$ : chr [1:3] \"The Phantom Menace\" \"Attack of the Clones\" \"Revenge of the Sith\"\n",
      "  ..$ : chr [1:2] \"The Phantom Menace\" \"Attack of the Clones\"\n",
      "  ..$ : chr \"Attack of the Clones\"\n",
      "  ..$ : chr \"Attack of the Clones\"\n",
      "  ..$ : chr \"Attack of the Clones\"\n",
      "  ..$ : chr [1:2] \"Attack of the Clones\" \"Revenge of the Sith\"\n",
      "  ..$ : chr [1:2] \"Attack of the Clones\" \"Revenge of the Sith\"\n",
      "  ..$ : chr \"Attack of the Clones\"\n",
      "  ..$ : chr \"Attack of the Clones\"\n",
      "  ..$ : chr [1:2] \"Attack of the Clones\" \"Revenge of the Sith\"\n",
      "  ..$ : chr [1:2] \"Attack of the Clones\" \"Revenge of the Sith\"\n",
      "  ..$ : chr \"Attack of the Clones\"\n",
      "  ..$ : chr \"Attack of the Clones\"\n",
      "  ..$ : chr \"Attack of the Clones\"\n",
      "  ..$ : chr \"Attack of the Clones\"\n",
      "  ..$ : chr \"Attack of the Clones\"\n",
      "  ..$ : chr \"Attack of the Clones\"\n",
      "  ..$ : chr [1:2] \"Attack of the Clones\" \"Revenge of the Sith\"\n",
      "  ..$ : chr \"Attack of the Clones\"\n",
      "  ..$ : chr \"Attack of the Clones\"\n",
      "  ..$ : chr [1:2] \"Attack of the Clones\" \"Revenge of the Sith\"\n",
      "  ..$ : chr \"Revenge of the Sith\"\n",
      "  ..$ : chr \"Revenge of the Sith\"\n",
      "  ..$ : chr [1:2] \"A New Hope\" \"Revenge of the Sith\"\n",
      "  ..$ : chr [1:2] \"Attack of the Clones\" \"Revenge of the Sith\"\n",
      "  ..$ : chr \"Revenge of the Sith\"\n",
      "  ..$ : chr \"The Force Awakens\"\n",
      "  ..$ : chr \"The Force Awakens\"\n",
      "  ..$ : chr \"The Force Awakens\"\n",
      "  ..$ : chr \"The Force Awakens\"\n",
      "  ..$ : chr \"The Force Awakens\"\n",
      " $ vehicles  :List of 87\n",
      "  ..$ : chr [1:2] \"Snowspeeder\" \"Imperial Speeder Bike\"\n",
      "  ..$ : chr(0) \n",
      "  ..$ : chr(0) \n",
      "  ..$ : chr(0) \n",
      "  ..$ : chr \"Imperial Speeder Bike\"\n",
      "  ..$ : chr(0) \n",
      "  ..$ : chr(0) \n",
      "  ..$ : chr(0) \n",
      "  ..$ : chr(0) \n",
      "  ..$ : chr \"Tribubble bongo\"\n",
      "  ..$ : chr [1:2] \"Zephyr-G swoop bike\" \"XJ-6 airspeeder\"\n",
      "  ..$ : chr(0) \n",
      "  ..$ : chr \"AT-ST\"\n",
      "  ..$ : chr(0) \n",
      "  ..$ : chr(0) \n",
      "  ..$ : chr(0) \n",
      "  ..$ : chr \"Snowspeeder\"\n",
      "  ..$ : chr(0) \n",
      "  ..$ : chr(0) \n",
      "  ..$ : chr(0) \n",
      "  ..$ : chr(0) \n",
      "  ..$ : chr(0) \n",
      "  ..$ : chr(0) \n",
      "  ..$ : chr(0) \n",
      "  ..$ : chr(0) \n",
      "  ..$ : chr(0) \n",
      "  ..$ : chr(0) \n",
      "  ..$ : chr(0) \n",
      "  ..$ : chr(0) \n",
      "  ..$ : chr(0) \n",
      "  ..$ : chr \"Tribubble bongo\"\n",
      "  ..$ : chr(0) \n",
      "  ..$ : chr(0) \n",
      "  ..$ : chr(0) \n",
      "  ..$ : chr(0) \n",
      "  ..$ : chr(0) \n",
      "  ..$ : chr(0) \n",
      "  ..$ : chr(0) \n",
      "  ..$ : chr(0) \n",
      "  ..$ : chr(0) \n",
      "  ..$ : chr(0) \n",
      "  ..$ : chr(0) \n",
      "  ..$ : chr \"Sith speeder\"\n",
      "  ..$ : chr(0) \n",
      "  ..$ : chr(0) \n",
      "  ..$ : chr(0) \n",
      "  ..$ : chr(0) \n",
      "  ..$ : chr(0) \n",
      "  ..$ : chr(0) \n",
      "  ..$ : chr(0) \n",
      "  ..$ : chr(0) \n",
      "  ..$ : chr(0) \n",
      "  ..$ : chr(0) \n",
      "  ..$ : chr(0) \n",
      "  ..$ : chr(0) \n",
      "  ..$ : chr(0) \n",
      "  ..$ : chr(0) \n",
      "  ..$ : chr(0) \n",
      "  ..$ : chr(0) \n",
      "  ..$ : chr(0) \n",
      "  ..$ : chr(0) \n",
      "  ..$ : chr(0) \n",
      "  ..$ : chr(0) \n",
      "  ..$ : chr(0) \n",
      "  ..$ : chr(0) \n",
      "  ..$ : chr \"Flitknot speeder\"\n",
      "  ..$ : chr(0) \n",
      "  ..$ : chr(0) \n",
      "  ..$ : chr \"Koro-2 Exodrive airspeeder\"\n",
      "  ..$ : chr(0) \n",
      "  ..$ : chr(0) \n",
      "  ..$ : chr(0) \n",
      "  ..$ : chr(0) \n",
      "  ..$ : chr(0) \n",
      "  ..$ : chr(0) \n",
      "  ..$ : chr(0) \n",
      "  ..$ : chr(0) \n",
      "  ..$ : chr \"Tsmeu-6 personal wheel bike\"\n",
      "  ..$ : chr(0) \n",
      "  ..$ : chr(0) \n",
      "  ..$ : chr(0) \n",
      "  ..$ : chr(0) \n",
      "  ..$ : chr(0) \n",
      "  ..$ : chr(0) \n",
      "  ..$ : chr(0) \n",
      "  ..$ : chr(0) \n",
      "  ..$ : chr(0) \n",
      " $ starships :List of 87\n",
      "  ..$ : chr [1:2] \"X-wing\" \"Imperial shuttle\"\n",
      "  ..$ : chr(0) \n",
      "  ..$ : chr(0) \n",
      "  ..$ : chr \"TIE Advanced x1\"\n",
      "  ..$ : chr(0) \n",
      "  ..$ : chr(0) \n",
      "  ..$ : chr(0) \n",
      "  ..$ : chr(0) \n",
      "  ..$ : chr \"X-wing\"\n",
      "  ..$ : chr [1:5] \"Jedi starfighter\" \"Trade Federation cruiser\" \"Naboo star skiff\" \"Jedi Interceptor\" ...\n",
      "  ..$ : chr [1:3] \"Naboo fighter\" \"Trade Federation cruiser\" \"Jedi Interceptor\"\n",
      "  ..$ : chr(0) \n",
      "  ..$ : chr [1:2] \"Millennium Falcon\" \"Imperial shuttle\"\n",
      "  ..$ : chr [1:2] \"Millennium Falcon\" \"Imperial shuttle\"\n",
      "  ..$ : chr(0) \n",
      "  ..$ : chr(0) \n",
      "  ..$ : chr \"X-wing\"\n",
      "  ..$ : chr \"X-wing\"\n",
      "  ..$ : chr(0) \n",
      "  ..$ : chr(0) \n",
      "  ..$ : chr \"Slave 1\"\n",
      "  ..$ : chr(0) \n",
      "  ..$ : chr(0) \n",
      "  ..$ : chr \"Millennium Falcon\"\n",
      "  ..$ : chr(0) \n",
      "  ..$ : chr(0) \n",
      "  ..$ : chr(0) \n",
      "  ..$ : chr \"A-wing\"\n",
      "  ..$ : chr(0) \n",
      "  ..$ : chr \"Millennium Falcon\"\n",
      "  ..$ : chr(0) \n",
      "  ..$ : chr(0) \n",
      "  ..$ : chr(0) \n",
      "  ..$ : chr [1:3] \"Naboo fighter\" \"H-type Nubian yacht\" \"Naboo star skiff\"\n",
      "  ..$ : chr(0) \n",
      "  ..$ : chr(0) \n",
      "  ..$ : chr(0) \n",
      "  ..$ : chr \"Naboo Royal Starship\"\n",
      "  ..$ : chr(0) \n",
      "  ..$ : chr(0) \n",
      "  ..$ : chr(0) \n",
      "  ..$ : chr(0) \n",
      "  ..$ : chr \"Scimitar\"\n",
      "  ..$ : chr(0) \n",
      "  ..$ : chr(0) \n",
      "  ..$ : chr(0) \n",
      "  ..$ : chr(0) \n",
      "  ..$ : chr(0) \n",
      "  ..$ : chr(0) \n",
      "  ..$ : chr(0) \n",
      "  ..$ : chr(0) \n",
      "  ..$ : chr(0) \n",
      "  ..$ : chr(0) \n",
      "  ..$ : chr(0) \n",
      "  ..$ : chr(0) \n",
      "  ..$ : chr(0) \n",
      "  ..$ : chr \"Jedi starfighter\"\n",
      "  ..$ : chr(0) \n",
      "  ..$ : chr \"Naboo fighter\"\n",
      "  ..$ : chr(0) \n",
      "  ..$ : chr(0) \n",
      "  ..$ : chr(0) \n",
      "  ..$ : chr(0) \n",
      "  ..$ : chr(0) \n",
      "  ..$ : chr(0) \n",
      "  ..$ : chr(0) \n",
      "  ..$ : chr(0) \n",
      "  ..$ : chr(0) \n",
      "  ..$ : chr(0) \n",
      "  ..$ : chr(0) \n",
      "  ..$ : chr(0) \n",
      "  ..$ : chr(0) \n",
      "  ..$ : chr(0) \n",
      "  ..$ : chr(0) \n",
      "  ..$ : chr(0) \n",
      "  ..$ : chr(0) \n",
      "  ..$ : chr(0) \n",
      "  ..$ : chr \"Belbullab-22 starfighter\"\n",
      "  ..$ : chr(0) \n",
      "  ..$ : chr(0) \n",
      "  ..$ : chr(0) \n",
      "  ..$ : chr(0) \n",
      "  ..$ : chr(0) \n",
      "  ..$ : chr(0) \n",
      "  ..$ : chr \"X-wing\"\n",
      "  ..$ : chr(0) \n",
      "  ..$ : chr(0) \n"
     ]
    }
   ],
   "source": [
    "str(starwars)"
   ]
  },
  {
   "cell_type": "code",
   "execution_count": 15,
   "id": "d1f0a36f",
   "metadata": {
    "vscode": {
     "languageId": "r"
    }
   },
   "outputs": [
    {
     "name": "stdout",
     "output_type": "stream",
     "text": [
      "Rows: 87\n",
      "Columns: 14\n",
      "$ name       \u001b[3m\u001b[90m<chr>\u001b[39m\u001b[23m \"Luke Skywalker\"\u001b[90m, \u001b[39m\"C-3PO\"\u001b[90m, \u001b[39m\"R2-D2\"\u001b[90m, \u001b[39m\"Darth Vader\"\u001b[90m, \u001b[39m\"Leia Or…\n",
      "$ height     \u001b[3m\u001b[90m<int>\u001b[39m\u001b[23m 172\u001b[90m, \u001b[39m167\u001b[90m, \u001b[39m96\u001b[90m, \u001b[39m202\u001b[90m, \u001b[39m150\u001b[90m, \u001b[39m178\u001b[90m, \u001b[39m165\u001b[90m, \u001b[39m97\u001b[90m, \u001b[39m183\u001b[90m, \u001b[39m182\u001b[90m, \u001b[39m188\u001b[90m, \u001b[39m180\u001b[90m, \u001b[39m2…\n",
      "$ mass       \u001b[3m\u001b[90m<dbl>\u001b[39m\u001b[23m 77.0\u001b[90m, \u001b[39m75.0\u001b[90m, \u001b[39m32.0\u001b[90m, \u001b[39m136.0\u001b[90m, \u001b[39m49.0\u001b[90m, \u001b[39m120.0\u001b[90m, \u001b[39m75.0\u001b[90m, \u001b[39m32.0\u001b[90m, \u001b[39m84.0\u001b[90m, \u001b[39m77.…\n",
      "$ hair_color \u001b[3m\u001b[90m<chr>\u001b[39m\u001b[23m \"blond\"\u001b[90m, \u001b[39m\u001b[31mNA\u001b[39m\u001b[90m, \u001b[39m\u001b[31mNA\u001b[39m\u001b[90m, \u001b[39m\"none\"\u001b[90m, \u001b[39m\"brown\"\u001b[90m, \u001b[39m\"brown, grey\"\u001b[90m, \u001b[39m\"brown\"\u001b[90m, \u001b[39m\u001b[31mN\u001b[39m…\n",
      "$ skin_color \u001b[3m\u001b[90m<chr>\u001b[39m\u001b[23m \"fair\"\u001b[90m, \u001b[39m\"gold\"\u001b[90m, \u001b[39m\"white, blue\"\u001b[90m, \u001b[39m\"white\"\u001b[90m, \u001b[39m\"light\"\u001b[90m, \u001b[39m\"light\"\u001b[90m, \u001b[39m\"…\n",
      "$ eye_color  \u001b[3m\u001b[90m<chr>\u001b[39m\u001b[23m \"blue\"\u001b[90m, \u001b[39m\"yellow\"\u001b[90m, \u001b[39m\"red\"\u001b[90m, \u001b[39m\"yellow\"\u001b[90m, \u001b[39m\"brown\"\u001b[90m, \u001b[39m\"blue\"\u001b[90m, \u001b[39m\"blue\"\u001b[90m,\u001b[39m…\n",
      "$ birth_year \u001b[3m\u001b[90m<dbl>\u001b[39m\u001b[23m 19.0\u001b[90m, \u001b[39m112.0\u001b[90m, \u001b[39m33.0\u001b[90m, \u001b[39m41.9\u001b[90m, \u001b[39m19.0\u001b[90m, \u001b[39m52.0\u001b[90m, \u001b[39m47.0\u001b[90m, \u001b[39m\u001b[31mNA\u001b[39m\u001b[90m, \u001b[39m24.0\u001b[90m, \u001b[39m57.0\u001b[90m, \u001b[39m…\n",
      "$ sex        \u001b[3m\u001b[90m<chr>\u001b[39m\u001b[23m \"male\"\u001b[90m, \u001b[39m\"none\"\u001b[90m, \u001b[39m\"none\"\u001b[90m, \u001b[39m\"male\"\u001b[90m, \u001b[39m\"female\"\u001b[90m, \u001b[39m\"male\"\u001b[90m, \u001b[39m\"female\"\u001b[90m,\u001b[39m…\n",
      "$ gender     \u001b[3m\u001b[90m<chr>\u001b[39m\u001b[23m \"masculine\"\u001b[90m, \u001b[39m\"masculine\"\u001b[90m, \u001b[39m\"masculine\"\u001b[90m, \u001b[39m\"masculine\"\u001b[90m, \u001b[39m\"femini…\n",
      "$ homeworld  \u001b[3m\u001b[90m<chr>\u001b[39m\u001b[23m \"Tatooine\"\u001b[90m, \u001b[39m\"Tatooine\"\u001b[90m, \u001b[39m\"Naboo\"\u001b[90m, \u001b[39m\"Tatooine\"\u001b[90m, \u001b[39m\"Alderaan\"\u001b[90m, \u001b[39m\"T…\n",
      "$ species    \u001b[3m\u001b[90m<chr>\u001b[39m\u001b[23m \"Human\"\u001b[90m, \u001b[39m\"Droid\"\u001b[90m, \u001b[39m\"Droid\"\u001b[90m, \u001b[39m\"Human\"\u001b[90m, \u001b[39m\"Human\"\u001b[90m, \u001b[39m\"Human\"\u001b[90m, \u001b[39m\"Huma…\n",
      "$ films      \u001b[3m\u001b[90m<list>\u001b[39m\u001b[23m <\"A New Hope\", \"The Empire Strikes Back\", \"Return of the J…\n",
      "$ vehicles   \u001b[3m\u001b[90m<list>\u001b[39m\u001b[23m <\"Snowspeeder\", \"Imperial Speeder Bike\">\u001b[90m, \u001b[39m<>\u001b[90m, \u001b[39m<>\u001b[90m, \u001b[39m<>\u001b[90m, \u001b[39m\"Imp…\n",
      "$ starships  \u001b[3m\u001b[90m<list>\u001b[39m\u001b[23m <\"X-wing\", \"Imperial shuttle\">\u001b[90m, \u001b[39m<>\u001b[90m, \u001b[39m<>\u001b[90m, \u001b[39m\"TIE Advanced x1\"\u001b[90m,\u001b[39m…\n"
     ]
    }
   ],
   "source": [
    "# Get a glimpse of the dataset structure\n",
    "glimpse(starwars)"
   ]
  },
  {
   "cell_type": "code",
   "execution_count": 16,
   "id": "2773b10e",
   "metadata": {
    "vscode": {
     "languageId": "r"
    }
   },
   "outputs": [
    {
     "data": {
      "text/html": [
       "<style>\n",
       ".list-inline {list-style: none; margin:0; padding: 0}\n",
       ".list-inline>li {display: inline-block}\n",
       ".list-inline>li:not(:last-child)::after {content: \"\\00b7\"; padding: 0 .5ex}\n",
       "</style>\n",
       "<ol class=list-inline><li>'name'</li><li>'height'</li><li>'mass'</li><li>'hair_color'</li><li>'skin_color'</li><li>'eye_color'</li><li>'birth_year'</li><li>'sex'</li><li>'gender'</li><li>'homeworld'</li><li>'species'</li><li>'films'</li><li>'vehicles'</li><li>'starships'</li></ol>\n"
      ],
      "text/latex": [
       "\\begin{enumerate*}\n",
       "\\item 'name'\n",
       "\\item 'height'\n",
       "\\item 'mass'\n",
       "\\item 'hair\\_color'\n",
       "\\item 'skin\\_color'\n",
       "\\item 'eye\\_color'\n",
       "\\item 'birth\\_year'\n",
       "\\item 'sex'\n",
       "\\item 'gender'\n",
       "\\item 'homeworld'\n",
       "\\item 'species'\n",
       "\\item 'films'\n",
       "\\item 'vehicles'\n",
       "\\item 'starships'\n",
       "\\end{enumerate*}\n"
      ],
      "text/markdown": [
       "1. 'name'\n",
       "2. 'height'\n",
       "3. 'mass'\n",
       "4. 'hair_color'\n",
       "5. 'skin_color'\n",
       "6. 'eye_color'\n",
       "7. 'birth_year'\n",
       "8. 'sex'\n",
       "9. 'gender'\n",
       "10. 'homeworld'\n",
       "11. 'species'\n",
       "12. 'films'\n",
       "13. 'vehicles'\n",
       "14. 'starships'\n",
       "\n",
       "\n"
      ],
      "text/plain": [
       " [1] \"name\"       \"height\"     \"mass\"       \"hair_color\" \"skin_color\"\n",
       " [6] \"eye_color\"  \"birth_year\" \"sex\"        \"gender\"     \"homeworld\" \n",
       "[11] \"species\"    \"films\"      \"vehicles\"   \"starships\" "
      ]
     },
     "metadata": {},
     "output_type": "display_data"
    }
   ],
   "source": [
    "# Get column names\n",
    "names(starwars)"
   ]
  },
  {
   "cell_type": "code",
   "execution_count": 18,
   "id": "ce1e9dbf",
   "metadata": {
    "vscode": {
     "languageId": "r"
    }
   },
   "outputs": [
    {
     "data": {
      "text/html": [
       "<table class=\"dataframe\">\n",
       "<caption>A tibble: 6 × 11</caption>\n",
       "<thead>\n",
       "\t<tr><th scope=col>name</th><th scope=col>height</th><th scope=col>mass</th><th scope=col>hair_color</th><th scope=col>skin_color</th><th scope=col>eye_color</th><th scope=col>birth_year</th><th scope=col>sex</th><th scope=col>gender</th><th scope=col>homeworld</th><th scope=col>species</th></tr>\n",
       "\t<tr><th scope=col>&lt;chr&gt;</th><th scope=col>&lt;int&gt;</th><th scope=col>&lt;dbl&gt;</th><th scope=col>&lt;chr&gt;</th><th scope=col>&lt;chr&gt;</th><th scope=col>&lt;chr&gt;</th><th scope=col>&lt;dbl&gt;</th><th scope=col>&lt;chr&gt;</th><th scope=col>&lt;chr&gt;</th><th scope=col>&lt;chr&gt;</th><th scope=col>&lt;chr&gt;</th></tr>\n",
       "</thead>\n",
       "<tbody>\n",
       "\t<tr><td>Luke Skywalker</td><td>172</td><td> 77</td><td>blond      </td><td>fair       </td><td>blue  </td><td> 19.0</td><td>male  </td><td>masculine</td><td>Tatooine</td><td>Human</td></tr>\n",
       "\t<tr><td>C-3PO         </td><td>167</td><td> 75</td><td>NA         </td><td>gold       </td><td>yellow</td><td>112.0</td><td>none  </td><td>masculine</td><td>Tatooine</td><td>Droid</td></tr>\n",
       "\t<tr><td>R2-D2         </td><td> 96</td><td> 32</td><td>NA         </td><td>white, blue</td><td>red   </td><td> 33.0</td><td>none  </td><td>masculine</td><td>Naboo   </td><td>Droid</td></tr>\n",
       "\t<tr><td>Darth Vader   </td><td>202</td><td>136</td><td>none       </td><td>white      </td><td>yellow</td><td> 41.9</td><td>male  </td><td>masculine</td><td>Tatooine</td><td>Human</td></tr>\n",
       "\t<tr><td>Leia Organa   </td><td>150</td><td> 49</td><td>brown      </td><td>light      </td><td>brown </td><td> 19.0</td><td>female</td><td>feminine </td><td>Alderaan</td><td>Human</td></tr>\n",
       "\t<tr><td>Owen Lars     </td><td>178</td><td>120</td><td>brown, grey</td><td>light      </td><td>blue  </td><td> 52.0</td><td>male  </td><td>masculine</td><td>Tatooine</td><td>Human</td></tr>\n",
       "</tbody>\n",
       "</table>\n"
      ],
      "text/latex": [
       "A tibble: 6 × 11\n",
       "\\begin{tabular}{lllllllllll}\n",
       " name & height & mass & hair\\_color & skin\\_color & eye\\_color & birth\\_year & sex & gender & homeworld & species\\\\\n",
       " <chr> & <int> & <dbl> & <chr> & <chr> & <chr> & <dbl> & <chr> & <chr> & <chr> & <chr>\\\\\n",
       "\\hline\n",
       "\t Luke Skywalker & 172 &  77 & blond       & fair        & blue   &  19.0 & male   & masculine & Tatooine & Human\\\\\n",
       "\t C-3PO          & 167 &  75 & NA          & gold        & yellow & 112.0 & none   & masculine & Tatooine & Droid\\\\\n",
       "\t R2-D2          &  96 &  32 & NA          & white, blue & red    &  33.0 & none   & masculine & Naboo    & Droid\\\\\n",
       "\t Darth Vader    & 202 & 136 & none        & white       & yellow &  41.9 & male   & masculine & Tatooine & Human\\\\\n",
       "\t Leia Organa    & 150 &  49 & brown       & light       & brown  &  19.0 & female & feminine  & Alderaan & Human\\\\\n",
       "\t Owen Lars      & 178 & 120 & brown, grey & light       & blue   &  52.0 & male   & masculine & Tatooine & Human\\\\\n",
       "\\end{tabular}\n"
      ],
      "text/markdown": [
       "\n",
       "A tibble: 6 × 11\n",
       "\n",
       "| name &lt;chr&gt; | height &lt;int&gt; | mass &lt;dbl&gt; | hair_color &lt;chr&gt; | skin_color &lt;chr&gt; | eye_color &lt;chr&gt; | birth_year &lt;dbl&gt; | sex &lt;chr&gt; | gender &lt;chr&gt; | homeworld &lt;chr&gt; | species &lt;chr&gt; |\n",
       "|---|---|---|---|---|---|---|---|---|---|---|\n",
       "| Luke Skywalker | 172 |  77 | blond       | fair        | blue   |  19.0 | male   | masculine | Tatooine | Human |\n",
       "| C-3PO          | 167 |  75 | NA          | gold        | yellow | 112.0 | none   | masculine | Tatooine | Droid |\n",
       "| R2-D2          |  96 |  32 | NA          | white, blue | red    |  33.0 | none   | masculine | Naboo    | Droid |\n",
       "| Darth Vader    | 202 | 136 | none        | white       | yellow |  41.9 | male   | masculine | Tatooine | Human |\n",
       "| Leia Organa    | 150 |  49 | brown       | light       | brown  |  19.0 | female | feminine  | Alderaan | Human |\n",
       "| Owen Lars      | 178 | 120 | brown, grey | light       | blue   |  52.0 | male   | masculine | Tatooine | Human |\n",
       "\n"
      ],
      "text/plain": [
       "  name           height mass hair_color  skin_color  eye_color birth_year\n",
       "1 Luke Skywalker 172     77  blond       fair        blue       19.0     \n",
       "2 C-3PO          167     75  NA          gold        yellow    112.0     \n",
       "3 R2-D2           96     32  NA          white, blue red        33.0     \n",
       "4 Darth Vader    202    136  none        white       yellow     41.9     \n",
       "5 Leia Organa    150     49  brown       light       brown      19.0     \n",
       "6 Owen Lars      178    120  brown, grey light       blue       52.0     \n",
       "  sex    gender    homeworld species\n",
       "1 male   masculine Tatooine  Human  \n",
       "2 none   masculine Tatooine  Droid  \n",
       "3 none   masculine Naboo     Droid  \n",
       "4 male   masculine Tatooine  Human  \n",
       "5 female feminine  Alderaan  Human  \n",
       "6 male   masculine Tatooine  Human  "
      ]
     },
     "metadata": {},
     "output_type": "display_data"
    }
   ],
   "source": [
    "starwars %>% \n",
    "  select(-films, -vehicles, -starships) %>% \n",
    "  head()"
   ]
  },
  {
   "cell_type": "code",
   "execution_count": 19,
   "id": "c453a5cb",
   "metadata": {
    "vscode": {
     "languageId": "r"
    }
   },
   "outputs": [
    {
     "data": {
      "text/html": [
       "<ol>\n",
       "\t<li><style>\n",
       ".list-inline {list-style: none; margin:0; padding: 0}\n",
       ".list-inline>li {display: inline-block}\n",
       ".list-inline>li:not(:last-child)::after {content: \"\\00b7\"; padding: 0 .5ex}\n",
       "</style>\n",
       "<ol class=list-inline><li>'A New Hope'</li><li>'The Empire Strikes Back'</li><li>'Return of the Jedi'</li><li>'Revenge of the Sith'</li><li>'The Force Awakens'</li></ol>\n",
       "</li>\n",
       "\t<li><style>\n",
       ".list-inline {list-style: none; margin:0; padding: 0}\n",
       ".list-inline>li {display: inline-block}\n",
       ".list-inline>li:not(:last-child)::after {content: \"\\00b7\"; padding: 0 .5ex}\n",
       "</style>\n",
       "<ol class=list-inline><li>'A New Hope'</li><li>'The Empire Strikes Back'</li><li>'Return of the Jedi'</li><li>'The Phantom Menace'</li><li>'Attack of the Clones'</li><li>'Revenge of the Sith'</li></ol>\n",
       "</li>\n",
       "\t<li><style>\n",
       ".list-inline {list-style: none; margin:0; padding: 0}\n",
       ".list-inline>li {display: inline-block}\n",
       ".list-inline>li:not(:last-child)::after {content: \"\\00b7\"; padding: 0 .5ex}\n",
       "</style>\n",
       "<ol class=list-inline><li>'A New Hope'</li><li>'The Empire Strikes Back'</li><li>'Return of the Jedi'</li><li>'The Phantom Menace'</li><li>'Attack of the Clones'</li><li>'Revenge of the Sith'</li><li>'The Force Awakens'</li></ol>\n",
       "</li>\n",
       "\t<li><style>\n",
       ".list-inline {list-style: none; margin:0; padding: 0}\n",
       ".list-inline>li {display: inline-block}\n",
       ".list-inline>li:not(:last-child)::after {content: \"\\00b7\"; padding: 0 .5ex}\n",
       "</style>\n",
       "<ol class=list-inline><li>'A New Hope'</li><li>'The Empire Strikes Back'</li><li>'Return of the Jedi'</li><li>'Revenge of the Sith'</li></ol>\n",
       "</li>\n",
       "\t<li><style>\n",
       ".list-inline {list-style: none; margin:0; padding: 0}\n",
       ".list-inline>li {display: inline-block}\n",
       ".list-inline>li:not(:last-child)::after {content: \"\\00b7\"; padding: 0 .5ex}\n",
       "</style>\n",
       "<ol class=list-inline><li>'A New Hope'</li><li>'The Empire Strikes Back'</li><li>'Return of the Jedi'</li><li>'Revenge of the Sith'</li><li>'The Force Awakens'</li></ol>\n",
       "</li>\n",
       "</ol>\n"
      ],
      "text/latex": [
       "\\begin{enumerate}\n",
       "\\item \\begin{enumerate*}\n",
       "\\item 'A New Hope'\n",
       "\\item 'The Empire Strikes Back'\n",
       "\\item 'Return of the Jedi'\n",
       "\\item 'Revenge of the Sith'\n",
       "\\item 'The Force Awakens'\n",
       "\\end{enumerate*}\n",
       "\n",
       "\\item \\begin{enumerate*}\n",
       "\\item 'A New Hope'\n",
       "\\item 'The Empire Strikes Back'\n",
       "\\item 'Return of the Jedi'\n",
       "\\item 'The Phantom Menace'\n",
       "\\item 'Attack of the Clones'\n",
       "\\item 'Revenge of the Sith'\n",
       "\\end{enumerate*}\n",
       "\n",
       "\\item \\begin{enumerate*}\n",
       "\\item 'A New Hope'\n",
       "\\item 'The Empire Strikes Back'\n",
       "\\item 'Return of the Jedi'\n",
       "\\item 'The Phantom Menace'\n",
       "\\item 'Attack of the Clones'\n",
       "\\item 'Revenge of the Sith'\n",
       "\\item 'The Force Awakens'\n",
       "\\end{enumerate*}\n",
       "\n",
       "\\item \\begin{enumerate*}\n",
       "\\item 'A New Hope'\n",
       "\\item 'The Empire Strikes Back'\n",
       "\\item 'Return of the Jedi'\n",
       "\\item 'Revenge of the Sith'\n",
       "\\end{enumerate*}\n",
       "\n",
       "\\item \\begin{enumerate*}\n",
       "\\item 'A New Hope'\n",
       "\\item 'The Empire Strikes Back'\n",
       "\\item 'Return of the Jedi'\n",
       "\\item 'Revenge of the Sith'\n",
       "\\item 'The Force Awakens'\n",
       "\\end{enumerate*}\n",
       "\n",
       "\\end{enumerate}\n"
      ],
      "text/markdown": [
       "1. 1. 'A New Hope'\n",
       "2. 'The Empire Strikes Back'\n",
       "3. 'Return of the Jedi'\n",
       "4. 'Revenge of the Sith'\n",
       "5. 'The Force Awakens'\n",
       "\n",
       "\n",
       "\n",
       "2. 1. 'A New Hope'\n",
       "2. 'The Empire Strikes Back'\n",
       "3. 'Return of the Jedi'\n",
       "4. 'The Phantom Menace'\n",
       "5. 'Attack of the Clones'\n",
       "6. 'Revenge of the Sith'\n",
       "\n",
       "\n",
       "\n",
       "3. 1. 'A New Hope'\n",
       "2. 'The Empire Strikes Back'\n",
       "3. 'Return of the Jedi'\n",
       "4. 'The Phantom Menace'\n",
       "5. 'Attack of the Clones'\n",
       "6. 'Revenge of the Sith'\n",
       "7. 'The Force Awakens'\n",
       "\n",
       "\n",
       "\n",
       "4. 1. 'A New Hope'\n",
       "2. 'The Empire Strikes Back'\n",
       "3. 'Return of the Jedi'\n",
       "4. 'Revenge of the Sith'\n",
       "\n",
       "\n",
       "\n",
       "5. 1. 'A New Hope'\n",
       "2. 'The Empire Strikes Back'\n",
       "3. 'Return of the Jedi'\n",
       "4. 'Revenge of the Sith'\n",
       "5. 'The Force Awakens'\n",
       "\n",
       "\n",
       "\n",
       "\n",
       "\n"
      ],
      "text/plain": [
       "[[1]]\n",
       "[1] \"A New Hope\"              \"The Empire Strikes Back\"\n",
       "[3] \"Return of the Jedi\"      \"Revenge of the Sith\"    \n",
       "[5] \"The Force Awakens\"      \n",
       "\n",
       "[[2]]\n",
       "[1] \"A New Hope\"              \"The Empire Strikes Back\"\n",
       "[3] \"Return of the Jedi\"      \"The Phantom Menace\"     \n",
       "[5] \"Attack of the Clones\"    \"Revenge of the Sith\"    \n",
       "\n",
       "[[3]]\n",
       "[1] \"A New Hope\"              \"The Empire Strikes Back\"\n",
       "[3] \"Return of the Jedi\"      \"The Phantom Menace\"     \n",
       "[5] \"Attack of the Clones\"    \"Revenge of the Sith\"    \n",
       "[7] \"The Force Awakens\"      \n",
       "\n",
       "[[4]]\n",
       "[1] \"A New Hope\"              \"The Empire Strikes Back\"\n",
       "[3] \"Return of the Jedi\"      \"Revenge of the Sith\"    \n",
       "\n",
       "[[5]]\n",
       "[1] \"A New Hope\"              \"The Empire Strikes Back\"\n",
       "[3] \"Return of the Jedi\"      \"Revenge of the Sith\"    \n",
       "[5] \"The Force Awakens\"      \n"
      ]
     },
     "metadata": {},
     "output_type": "display_data"
    }
   ],
   "source": [
    "starwars$films[1:5]"
   ]
  },
  {
   "cell_type": "code",
   "execution_count": 27,
   "id": "732ae088",
   "metadata": {
    "vscode": {
     "languageId": "r"
    }
   },
   "outputs": [
    {
     "name": "stdout",
     "output_type": "stream",
     "text": [
      "Films for first 3 characters:\n",
      "Luke Skywalker : A New Hope,#, The Empire Strikes Back,#, Return of the Jedi,#, Revenge of the Sith,#, The Force Awakens \n",
      "C-3PO : A New Hope,#, The Empire Strikes Back,#, Return of the Jedi,#, The Phantom Menace,#, Attack of the Clones,#, Revenge of the Sith \n",
      "R2-D2 : A New Hope,#, The Empire Strikes Back,#, Return of the Jedi,#, The Phantom Menace,#, Attack of the Clones,#, Revenge of the Sith,#, The Force Awakens \n"
     ]
    }
   ],
   "source": [
    "# Examine the list columns (films, vehicles, starships) for first few characters\n",
    "cat(\"Films for first 3 characters:\\n\")\n",
    "for(i in 1:3) {\n",
    "  cat(starwars$name[i], \":\", paste(starwars$films[[i]], collapse = \",#, \"), \"\\n\")\n",
    "}"
   ]
  },
  {
   "cell_type": "code",
   "execution_count": 28,
   "id": "8dcf6568",
   "metadata": {
    "vscode": {
     "languageId": "r"
    }
   },
   "outputs": [
    {
     "name": "stdout",
     "output_type": "stream",
     "text": [
      "Films for first 3 characters:\n",
      "Luke Skywalker : c(\"A New Hope\", \"The Empire Strikes Back\", \"Return of the Jedi\", \"Revenge of the Sith\", \"The Force Awakens\") \n",
      "C-3PO : c(\"A New Hope\", \"The Empire Strikes Back\", \"Return of the Jedi\", \"The Phantom Menace\", \"Attack of the Clones\", \"Revenge of the Sith\") \n",
      "R2-D2 : c(\"A New Hope\", \"The Empire Strikes Back\", \"Return of the Jedi\", \"The Phantom Menace\", \"Attack of the Clones\", \"Revenge of the Sith\", \"The Force Awakens\") \n"
     ]
    }
   ],
   "source": [
    "# Examine the list columns (films, vehicles, starships) for first few characters\n",
    "cat(\"Films for first 3 characters:\\n\")\n",
    "for(i in 1:3) {\n",
    "  cat(starwars$name[i], \":\", paste(starwars$films[i], collapse = \",#, \"), \"\\n\")\n",
    "}"
   ]
  },
  {
   "cell_type": "code",
   "execution_count": 23,
   "id": "1425c5f4",
   "metadata": {
    "vscode": {
     "languageId": "r"
    }
   },
   "outputs": [
    {
     "data": {
      "text/html": [
       "<style>\n",
       ".list-inline {list-style: none; margin:0; padding: 0}\n",
       ".list-inline>li {display: inline-block}\n",
       ".list-inline>li:not(:last-child)::after {content: \"\\00b7\"; padding: 0 .5ex}\n",
       "</style>\n",
       "<ol class=list-inline><li>'A'</li><li>'B'</li><li>'C'</li></ol>\n"
      ],
      "text/latex": [
       "\\begin{enumerate*}\n",
       "\\item 'A'\n",
       "\\item 'B'\n",
       "\\item 'C'\n",
       "\\end{enumerate*}\n"
      ],
      "text/markdown": [
       "1. 'A'\n",
       "2. 'B'\n",
       "3. 'C'\n",
       "\n",
       "\n"
      ],
      "text/plain": [
       "[1] \"A\" \"B\" \"C\""
      ]
     },
     "metadata": {},
     "output_type": "display_data"
    }
   ],
   "source": [
    "paste(c(\"A\", \"B\", \"C\"))"
   ]
  },
  {
   "cell_type": "code",
   "execution_count": 25,
   "id": "851addaa",
   "metadata": {
    "vscode": {
     "languageId": "r"
    }
   },
   "outputs": [
    {
     "data": {
      "text/html": [
       "'A,# B,# C'"
      ],
      "text/latex": [
       "'A,\\# B,\\# C'"
      ],
      "text/markdown": [
       "'A,# B,# C'"
      ],
      "text/plain": [
       "[1] \"A,# B,# C\""
      ]
     },
     "metadata": {},
     "output_type": "display_data"
    }
   ],
   "source": [
    "paste(c(\"A\", \"B\", \"C\"), collapse = \",# \")"
   ]
  },
  {
   "cell_type": "code",
   "execution_count": 33,
   "id": "8b818ce1",
   "metadata": {
    "vscode": {
     "languageId": "r"
    }
   },
   "outputs": [
    {
     "data": {
      "text/html": [
       "<table class=\"dataframe\">\n",
       "<caption>A tibble: 10 × 11</caption>\n",
       "<thead>\n",
       "\t<tr><th scope=col>name</th><th scope=col>height</th><th scope=col>mass</th><th scope=col>hair_color</th><th scope=col>skin_color</th><th scope=col>eye_color</th><th scope=col>birth_year</th><th scope=col>sex</th><th scope=col>gender</th><th scope=col>homeworld</th><th scope=col>species</th></tr>\n",
       "\t<tr><th scope=col>&lt;chr&gt;</th><th scope=col>&lt;int&gt;</th><th scope=col>&lt;dbl&gt;</th><th scope=col>&lt;chr&gt;</th><th scope=col>&lt;chr&gt;</th><th scope=col>&lt;chr&gt;</th><th scope=col>&lt;dbl&gt;</th><th scope=col>&lt;chr&gt;</th><th scope=col>&lt;chr&gt;</th><th scope=col>&lt;chr&gt;</th><th scope=col>&lt;chr&gt;</th></tr>\n",
       "</thead>\n",
       "<tbody>\n",
       "\t<tr><td>Luke Skywalker    </td><td>172</td><td> 77</td><td>blond        </td><td>fair       </td><td>blue     </td><td> 19.0</td><td>male  </td><td>masculine</td><td>Tatooine</td><td>Human</td></tr>\n",
       "\t<tr><td>C-3PO             </td><td>167</td><td> 75</td><td>NA           </td><td>gold       </td><td>yellow   </td><td>112.0</td><td>none  </td><td>masculine</td><td>Tatooine</td><td>Droid</td></tr>\n",
       "\t<tr><td>R2-D2             </td><td> 96</td><td> 32</td><td>NA           </td><td>white, blue</td><td>red      </td><td> 33.0</td><td>none  </td><td>masculine</td><td>Naboo   </td><td>Droid</td></tr>\n",
       "\t<tr><td>Darth Vader       </td><td>202</td><td>136</td><td>none         </td><td>white      </td><td>yellow   </td><td> 41.9</td><td>male  </td><td>masculine</td><td>Tatooine</td><td>Human</td></tr>\n",
       "\t<tr><td>Leia Organa       </td><td>150</td><td> 49</td><td>brown        </td><td>light      </td><td>brown    </td><td> 19.0</td><td>female</td><td>feminine </td><td>Alderaan</td><td>Human</td></tr>\n",
       "\t<tr><td>Owen Lars         </td><td>178</td><td>120</td><td>brown, grey  </td><td>light      </td><td>blue     </td><td> 52.0</td><td>male  </td><td>masculine</td><td>Tatooine</td><td>Human</td></tr>\n",
       "\t<tr><td>Beru Whitesun Lars</td><td>165</td><td> 75</td><td>brown        </td><td>light      </td><td>blue     </td><td> 47.0</td><td>female</td><td>feminine </td><td>Tatooine</td><td>Human</td></tr>\n",
       "\t<tr><td>R5-D4             </td><td> 97</td><td> 32</td><td>NA           </td><td>white, red </td><td>red      </td><td>   NA</td><td>none  </td><td>masculine</td><td>Tatooine</td><td>Droid</td></tr>\n",
       "\t<tr><td>Biggs Darklighter </td><td>183</td><td> 84</td><td>black        </td><td>light      </td><td>brown    </td><td> 24.0</td><td>male  </td><td>masculine</td><td>Tatooine</td><td>Human</td></tr>\n",
       "\t<tr><td>Obi-Wan Kenobi    </td><td>182</td><td> 77</td><td>auburn, white</td><td>fair       </td><td>blue-gray</td><td> 57.0</td><td>male  </td><td>masculine</td><td>Stewjon </td><td>Human</td></tr>\n",
       "</tbody>\n",
       "</table>\n"
      ],
      "text/latex": [
       "A tibble: 10 × 11\n",
       "\\begin{tabular}{lllllllllll}\n",
       " name & height & mass & hair\\_color & skin\\_color & eye\\_color & birth\\_year & sex & gender & homeworld & species\\\\\n",
       " <chr> & <int> & <dbl> & <chr> & <chr> & <chr> & <dbl> & <chr> & <chr> & <chr> & <chr>\\\\\n",
       "\\hline\n",
       "\t Luke Skywalker     & 172 &  77 & blond         & fair        & blue      &  19.0 & male   & masculine & Tatooine & Human\\\\\n",
       "\t C-3PO              & 167 &  75 & NA            & gold        & yellow    & 112.0 & none   & masculine & Tatooine & Droid\\\\\n",
       "\t R2-D2              &  96 &  32 & NA            & white, blue & red       &  33.0 & none   & masculine & Naboo    & Droid\\\\\n",
       "\t Darth Vader        & 202 & 136 & none          & white       & yellow    &  41.9 & male   & masculine & Tatooine & Human\\\\\n",
       "\t Leia Organa        & 150 &  49 & brown         & light       & brown     &  19.0 & female & feminine  & Alderaan & Human\\\\\n",
       "\t Owen Lars          & 178 & 120 & brown, grey   & light       & blue      &  52.0 & male   & masculine & Tatooine & Human\\\\\n",
       "\t Beru Whitesun Lars & 165 &  75 & brown         & light       & blue      &  47.0 & female & feminine  & Tatooine & Human\\\\\n",
       "\t R5-D4              &  97 &  32 & NA            & white, red  & red       &    NA & none   & masculine & Tatooine & Droid\\\\\n",
       "\t Biggs Darklighter  & 183 &  84 & black         & light       & brown     &  24.0 & male   & masculine & Tatooine & Human\\\\\n",
       "\t Obi-Wan Kenobi     & 182 &  77 & auburn, white & fair        & blue-gray &  57.0 & male   & masculine & Stewjon  & Human\\\\\n",
       "\\end{tabular}\n"
      ],
      "text/markdown": [
       "\n",
       "A tibble: 10 × 11\n",
       "\n",
       "| name &lt;chr&gt; | height &lt;int&gt; | mass &lt;dbl&gt; | hair_color &lt;chr&gt; | skin_color &lt;chr&gt; | eye_color &lt;chr&gt; | birth_year &lt;dbl&gt; | sex &lt;chr&gt; | gender &lt;chr&gt; | homeworld &lt;chr&gt; | species &lt;chr&gt; |\n",
       "|---|---|---|---|---|---|---|---|---|---|---|\n",
       "| Luke Skywalker     | 172 |  77 | blond         | fair        | blue      |  19.0 | male   | masculine | Tatooine | Human |\n",
       "| C-3PO              | 167 |  75 | NA            | gold        | yellow    | 112.0 | none   | masculine | Tatooine | Droid |\n",
       "| R2-D2              |  96 |  32 | NA            | white, blue | red       |  33.0 | none   | masculine | Naboo    | Droid |\n",
       "| Darth Vader        | 202 | 136 | none          | white       | yellow    |  41.9 | male   | masculine | Tatooine | Human |\n",
       "| Leia Organa        | 150 |  49 | brown         | light       | brown     |  19.0 | female | feminine  | Alderaan | Human |\n",
       "| Owen Lars          | 178 | 120 | brown, grey   | light       | blue      |  52.0 | male   | masculine | Tatooine | Human |\n",
       "| Beru Whitesun Lars | 165 |  75 | brown         | light       | blue      |  47.0 | female | feminine  | Tatooine | Human |\n",
       "| R5-D4              |  97 |  32 | NA            | white, red  | red       |    NA | none   | masculine | Tatooine | Droid |\n",
       "| Biggs Darklighter  | 183 |  84 | black         | light       | brown     |  24.0 | male   | masculine | Tatooine | Human |\n",
       "| Obi-Wan Kenobi     | 182 |  77 | auburn, white | fair        | blue-gray |  57.0 | male   | masculine | Stewjon  | Human |\n",
       "\n"
      ],
      "text/plain": [
       "   name               height mass hair_color    skin_color  eye_color\n",
       "1  Luke Skywalker     172     77  blond         fair        blue     \n",
       "2  C-3PO              167     75  NA            gold        yellow   \n",
       "3  R2-D2               96     32  NA            white, blue red      \n",
       "4  Darth Vader        202    136  none          white       yellow   \n",
       "5  Leia Organa        150     49  brown         light       brown    \n",
       "6  Owen Lars          178    120  brown, grey   light       blue     \n",
       "7  Beru Whitesun Lars 165     75  brown         light       blue     \n",
       "8  R5-D4               97     32  NA            white, red  red      \n",
       "9  Biggs Darklighter  183     84  black         light       brown    \n",
       "10 Obi-Wan Kenobi     182     77  auburn, white fair        blue-gray\n",
       "   birth_year sex    gender    homeworld species\n",
       "1   19.0      male   masculine Tatooine  Human  \n",
       "2  112.0      none   masculine Tatooine  Droid  \n",
       "3   33.0      none   masculine Naboo     Droid  \n",
       "4   41.9      male   masculine Tatooine  Human  \n",
       "5   19.0      female feminine  Alderaan  Human  \n",
       "6   52.0      male   masculine Tatooine  Human  \n",
       "7   47.0      female feminine  Tatooine  Human  \n",
       "8     NA      none   masculine Tatooine  Droid  \n",
       "9   24.0      male   masculine Tatooine  Human  \n",
       "10  57.0      male   masculine Stewjon   Human  "
      ]
     },
     "metadata": {},
     "output_type": "display_data"
    }
   ],
   "source": [
    "# The starwars dataset has list columns that can cause display issues\n",
    "# Let's view it safely by excluding the problematic list columns first\n",
    "\n",
    "# Option 1: View without list columns\n",
    "starwars %>% \n",
    "  select(-films, -vehicles, -starships) %>% \n",
    "  head(10)\n",
    "\n",
    "# Option 2: Check the structure instead of displaying all data\n",
    "# str(starwars)\n",
    "\n",
    "# Option 3: Use glimpse for a safe overview\n",
    "# glimpse(starwars)"
   ]
  },
  {
   "cell_type": "code",
   "execution_count": 38,
   "id": "ad134edb",
   "metadata": {
    "vscode": {
     "languageId": "r"
    }
   },
   "outputs": [
    {
     "data": {
      "text/html": [
       "<table class=\"dataframe\">\n",
       "<caption>A tibble: 10 × 2</caption>\n",
       "<thead>\n",
       "\t<tr><th scope=col>name</th><th scope=col>num_films</th></tr>\n",
       "\t<tr><th scope=col>&lt;chr&gt;</th><th scope=col>&lt;int&gt;</th></tr>\n",
       "</thead>\n",
       "<tbody>\n",
       "\t<tr><td>Luke Skywalker    </td><td>5</td></tr>\n",
       "\t<tr><td>C-3PO             </td><td>6</td></tr>\n",
       "\t<tr><td>R2-D2             </td><td>7</td></tr>\n",
       "\t<tr><td>Darth Vader       </td><td>4</td></tr>\n",
       "\t<tr><td>Leia Organa       </td><td>5</td></tr>\n",
       "\t<tr><td>Owen Lars         </td><td>3</td></tr>\n",
       "\t<tr><td>Beru Whitesun Lars</td><td>3</td></tr>\n",
       "\t<tr><td>R5-D4             </td><td>1</td></tr>\n",
       "\t<tr><td>Biggs Darklighter </td><td>1</td></tr>\n",
       "\t<tr><td>Obi-Wan Kenobi    </td><td>6</td></tr>\n",
       "</tbody>\n",
       "</table>\n"
      ],
      "text/latex": [
       "A tibble: 10 × 2\n",
       "\\begin{tabular}{ll}\n",
       " name & num\\_films\\\\\n",
       " <chr> & <int>\\\\\n",
       "\\hline\n",
       "\t Luke Skywalker     & 5\\\\\n",
       "\t C-3PO              & 6\\\\\n",
       "\t R2-D2              & 7\\\\\n",
       "\t Darth Vader        & 4\\\\\n",
       "\t Leia Organa        & 5\\\\\n",
       "\t Owen Lars          & 3\\\\\n",
       "\t Beru Whitesun Lars & 3\\\\\n",
       "\t R5-D4              & 1\\\\\n",
       "\t Biggs Darklighter  & 1\\\\\n",
       "\t Obi-Wan Kenobi     & 6\\\\\n",
       "\\end{tabular}\n"
      ],
      "text/markdown": [
       "\n",
       "A tibble: 10 × 2\n",
       "\n",
       "| name &lt;chr&gt; | num_films &lt;int&gt; |\n",
       "|---|---|\n",
       "| Luke Skywalker     | 5 |\n",
       "| C-3PO              | 6 |\n",
       "| R2-D2              | 7 |\n",
       "| Darth Vader        | 4 |\n",
       "| Leia Organa        | 5 |\n",
       "| Owen Lars          | 3 |\n",
       "| Beru Whitesun Lars | 3 |\n",
       "| R5-D4              | 1 |\n",
       "| Biggs Darklighter  | 1 |\n",
       "| Obi-Wan Kenobi     | 6 |\n",
       "\n"
      ],
      "text/plain": [
       "   name               num_films\n",
       "1  Luke Skywalker     5        \n",
       "2  C-3PO              6        \n",
       "3  R2-D2              7        \n",
       "4  Darth Vader        4        \n",
       "5  Leia Organa        5        \n",
       "6  Owen Lars          3        \n",
       "7  Beru Whitesun Lars 3        \n",
       "8  R5-D4              1        \n",
       "9  Biggs Darklighter  1        \n",
       "10 Obi-Wan Kenobi     6        "
      ]
     },
     "metadata": {},
     "output_type": "display_data"
    }
   ],
   "source": [
    "# Working safely with list columns\n",
    "# The error occurs because list columns contain vectors of different lengths\n",
    "\n",
    "# Check the number of films for each character\n",
    "starwars %>% \n",
    "  mutate(num_films = lengths(films)) %>% \n",
    "  select(name, num_films) %>% \n",
    "  head(10)"
   ]
  },
  {
   "cell_type": "code",
   "execution_count": 40,
   "id": "a21ab8a9",
   "metadata": {
    "vscode": {
     "languageId": "r"
    }
   },
   "outputs": [
    {
     "data": {
      "text/html": [
       "<table class=\"dataframe\">\n",
       "<caption>A tibble: 7 × 11</caption>\n",
       "<thead>\n",
       "\t<tr><th scope=col>name</th><th scope=col>height</th><th scope=col>mass</th><th scope=col>hair_color</th><th scope=col>skin_color</th><th scope=col>eye_color</th><th scope=col>birth_year</th><th scope=col>sex</th><th scope=col>gender</th><th scope=col>homeworld</th><th scope=col>species</th></tr>\n",
       "\t<tr><th scope=col>&lt;chr&gt;</th><th scope=col>&lt;int&gt;</th><th scope=col>&lt;dbl&gt;</th><th scope=col>&lt;chr&gt;</th><th scope=col>&lt;chr&gt;</th><th scope=col>&lt;chr&gt;</th><th scope=col>&lt;dbl&gt;</th><th scope=col>&lt;chr&gt;</th><th scope=col>&lt;chr&gt;</th><th scope=col>&lt;chr&gt;</th><th scope=col>&lt;chr&gt;</th></tr>\n",
       "</thead>\n",
       "<tbody>\n",
       "\t<tr><td>Leia Organa      </td><td>150</td><td>49</td><td>brown</td><td>light</td><td>brown</td><td>19</td><td>female</td><td>feminine </td><td>Alderaan</td><td>Human</td></tr>\n",
       "\t<tr><td>Biggs Darklighter</td><td>183</td><td>84</td><td>black</td><td>light</td><td>brown</td><td>24</td><td>male  </td><td>masculine</td><td>Tatooine</td><td>Human</td></tr>\n",
       "\t<tr><td>Padmé Amidala    </td><td>185</td><td>45</td><td>brown</td><td>light</td><td>brown</td><td>46</td><td>female</td><td>feminine </td><td>Naboo   </td><td>Human</td></tr>\n",
       "\t<tr><td>Cordé            </td><td>157</td><td>NA</td><td>brown</td><td>light</td><td>brown</td><td>NA</td><td>NA    </td><td>NA       </td><td>Naboo   </td><td>NA   </td></tr>\n",
       "\t<tr><td>Dormé            </td><td>165</td><td>NA</td><td>brown</td><td>light</td><td>brown</td><td>NA</td><td>female</td><td>feminine </td><td>Naboo   </td><td>Human</td></tr>\n",
       "\t<tr><td>Raymus Antilles  </td><td>188</td><td>79</td><td>brown</td><td>light</td><td>brown</td><td>NA</td><td>male  </td><td>masculine</td><td>Alderaan</td><td>Human</td></tr>\n",
       "\t<tr><td>Poe Dameron      </td><td> NA</td><td>NA</td><td>brown</td><td>light</td><td>brown</td><td>NA</td><td>male  </td><td>masculine</td><td>NA      </td><td>Human</td></tr>\n",
       "</tbody>\n",
       "</table>\n"
      ],
      "text/latex": [
       "A tibble: 7 × 11\n",
       "\\begin{tabular}{lllllllllll}\n",
       " name & height & mass & hair\\_color & skin\\_color & eye\\_color & birth\\_year & sex & gender & homeworld & species\\\\\n",
       " <chr> & <int> & <dbl> & <chr> & <chr> & <chr> & <dbl> & <chr> & <chr> & <chr> & <chr>\\\\\n",
       "\\hline\n",
       "\t Leia Organa       & 150 & 49 & brown & light & brown & 19 & female & feminine  & Alderaan & Human\\\\\n",
       "\t Biggs Darklighter & 183 & 84 & black & light & brown & 24 & male   & masculine & Tatooine & Human\\\\\n",
       "\t Padmé Amidala     & 185 & 45 & brown & light & brown & 46 & female & feminine  & Naboo    & Human\\\\\n",
       "\t Cordé             & 157 & NA & brown & light & brown & NA & NA     & NA        & Naboo    & NA   \\\\\n",
       "\t Dormé             & 165 & NA & brown & light & brown & NA & female & feminine  & Naboo    & Human\\\\\n",
       "\t Raymus Antilles   & 188 & 79 & brown & light & brown & NA & male   & masculine & Alderaan & Human\\\\\n",
       "\t Poe Dameron       &  NA & NA & brown & light & brown & NA & male   & masculine & NA       & Human\\\\\n",
       "\\end{tabular}\n"
      ],
      "text/markdown": [
       "\n",
       "A tibble: 7 × 11\n",
       "\n",
       "| name &lt;chr&gt; | height &lt;int&gt; | mass &lt;dbl&gt; | hair_color &lt;chr&gt; | skin_color &lt;chr&gt; | eye_color &lt;chr&gt; | birth_year &lt;dbl&gt; | sex &lt;chr&gt; | gender &lt;chr&gt; | homeworld &lt;chr&gt; | species &lt;chr&gt; |\n",
       "|---|---|---|---|---|---|---|---|---|---|---|\n",
       "| Leia Organa       | 150 | 49 | brown | light | brown | 19 | female | feminine  | Alderaan | Human |\n",
       "| Biggs Darklighter | 183 | 84 | black | light | brown | 24 | male   | masculine | Tatooine | Human |\n",
       "| Padmé Amidala     | 185 | 45 | brown | light | brown | 46 | female | feminine  | Naboo    | Human |\n",
       "| Cordé             | 157 | NA | brown | light | brown | NA | NA     | NA        | Naboo    | NA    |\n",
       "| Dormé             | 165 | NA | brown | light | brown | NA | female | feminine  | Naboo    | Human |\n",
       "| Raymus Antilles   | 188 | 79 | brown | light | brown | NA | male   | masculine | Alderaan | Human |\n",
       "| Poe Dameron       |  NA | NA | brown | light | brown | NA | male   | masculine | NA       | Human |\n",
       "\n"
      ],
      "text/plain": [
       "  name              height mass hair_color skin_color eye_color birth_year\n",
       "1 Leia Organa       150    49   brown      light      brown     19        \n",
       "2 Biggs Darklighter 183    84   black      light      brown     24        \n",
       "3 Padmé Amidala     185    45   brown      light      brown     46        \n",
       "4 Cordé             157    NA   brown      light      brown     NA        \n",
       "5 Dormé             165    NA   brown      light      brown     NA        \n",
       "6 Raymus Antilles   188    79   brown      light      brown     NA        \n",
       "7 Poe Dameron        NA    NA   brown      light      brown     NA        \n",
       "  sex    gender    homeworld species\n",
       "1 female feminine  Alderaan  Human  \n",
       "2 male   masculine Tatooine  Human  \n",
       "3 female feminine  Naboo     Human  \n",
       "4 NA     NA        Naboo     NA     \n",
       "5 female feminine  Naboo     Human  \n",
       "6 male   masculine Alderaan  Human  \n",
       "7 male   masculine NA        Human  "
      ]
     },
     "metadata": {},
     "output_type": "display_data"
    }
   ],
   "source": [
    "starwars %>% \n",
    "  filter(skin_color == \"light\", eye_color == \"brown\") %>% \n",
    "  select(-films, -vehicles, -starships) %>% \n",
    "  head(10)"
   ]
  },
  {
   "cell_type": "code",
   "execution_count": null,
   "id": "5c1ba75d",
   "metadata": {
    "vscode": {
     "languageId": "r"
    }
   },
   "outputs": [
    {
     "data": {
      "text/html": [
       "<table class=\"dataframe\">\n",
       "<caption>A tibble: 7 × 11</caption>\n",
       "<thead>\n",
       "\t<tr><th scope=col>name</th><th scope=col>height</th><th scope=col>mass</th><th scope=col>hair_color</th><th scope=col>skin_color</th><th scope=col>eye_color</th><th scope=col>birth_year</th><th scope=col>sex</th><th scope=col>gender</th><th scope=col>homeworld</th><th scope=col>species</th></tr>\n",
       "\t<tr><th scope=col>&lt;chr&gt;</th><th scope=col>&lt;int&gt;</th><th scope=col>&lt;dbl&gt;</th><th scope=col>&lt;chr&gt;</th><th scope=col>&lt;chr&gt;</th><th scope=col>&lt;chr&gt;</th><th scope=col>&lt;dbl&gt;</th><th scope=col>&lt;chr&gt;</th><th scope=col>&lt;chr&gt;</th><th scope=col>&lt;chr&gt;</th><th scope=col>&lt;chr&gt;</th></tr>\n",
       "</thead>\n",
       "<tbody>\n",
       "\t<tr><td>Leia Organa      </td><td>150</td><td>49</td><td>brown</td><td>light</td><td>brown</td><td>19</td><td>female</td><td>feminine </td><td>Alderaan</td><td>Human</td></tr>\n",
       "\t<tr><td>Biggs Darklighter</td><td>183</td><td>84</td><td>black</td><td>light</td><td>brown</td><td>24</td><td>male  </td><td>masculine</td><td>Tatooine</td><td>Human</td></tr>\n",
       "\t<tr><td>Padmé Amidala    </td><td>185</td><td>45</td><td>brown</td><td>light</td><td>brown</td><td>46</td><td>female</td><td>feminine </td><td>Naboo   </td><td>Human</td></tr>\n",
       "\t<tr><td>Cordé            </td><td>157</td><td>NA</td><td>brown</td><td>light</td><td>brown</td><td>NA</td><td>NA    </td><td>NA       </td><td>Naboo   </td><td>NA   </td></tr>\n",
       "\t<tr><td>Dormé            </td><td>165</td><td>NA</td><td>brown</td><td>light</td><td>brown</td><td>NA</td><td>female</td><td>feminine </td><td>Naboo   </td><td>Human</td></tr>\n",
       "\t<tr><td>Raymus Antilles  </td><td>188</td><td>79</td><td>brown</td><td>light</td><td>brown</td><td>NA</td><td>male  </td><td>masculine</td><td>Alderaan</td><td>Human</td></tr>\n",
       "\t<tr><td>Poe Dameron      </td><td> NA</td><td>NA</td><td>brown</td><td>light</td><td>brown</td><td>NA</td><td>male  </td><td>masculine</td><td>NA      </td><td>Human</td></tr>\n",
       "</tbody>\n",
       "</table>\n"
      ],
      "text/latex": [
       "A tibble: 7 × 11\n",
       "\\begin{tabular}{lllllllllll}\n",
       " name & height & mass & hair\\_color & skin\\_color & eye\\_color & birth\\_year & sex & gender & homeworld & species\\\\\n",
       " <chr> & <int> & <dbl> & <chr> & <chr> & <chr> & <dbl> & <chr> & <chr> & <chr> & <chr>\\\\\n",
       "\\hline\n",
       "\t Leia Organa       & 150 & 49 & brown & light & brown & 19 & female & feminine  & Alderaan & Human\\\\\n",
       "\t Biggs Darklighter & 183 & 84 & black & light & brown & 24 & male   & masculine & Tatooine & Human\\\\\n",
       "\t Padmé Amidala     & 185 & 45 & brown & light & brown & 46 & female & feminine  & Naboo    & Human\\\\\n",
       "\t Cordé             & 157 & NA & brown & light & brown & NA & NA     & NA        & Naboo    & NA   \\\\\n",
       "\t Dormé             & 165 & NA & brown & light & brown & NA & female & feminine  & Naboo    & Human\\\\\n",
       "\t Raymus Antilles   & 188 & 79 & brown & light & brown & NA & male   & masculine & Alderaan & Human\\\\\n",
       "\t Poe Dameron       &  NA & NA & brown & light & brown & NA & male   & masculine & NA       & Human\\\\\n",
       "\\end{tabular}\n"
      ],
      "text/markdown": [
       "\n",
       "A tibble: 7 × 11\n",
       "\n",
       "| name &lt;chr&gt; | height &lt;int&gt; | mass &lt;dbl&gt; | hair_color &lt;chr&gt; | skin_color &lt;chr&gt; | eye_color &lt;chr&gt; | birth_year &lt;dbl&gt; | sex &lt;chr&gt; | gender &lt;chr&gt; | homeworld &lt;chr&gt; | species &lt;chr&gt; |\n",
       "|---|---|---|---|---|---|---|---|---|---|---|\n",
       "| Leia Organa       | 150 | 49 | brown | light | brown | 19 | female | feminine  | Alderaan | Human |\n",
       "| Biggs Darklighter | 183 | 84 | black | light | brown | 24 | male   | masculine | Tatooine | Human |\n",
       "| Padmé Amidala     | 185 | 45 | brown | light | brown | 46 | female | feminine  | Naboo    | Human |\n",
       "| Cordé             | 157 | NA | brown | light | brown | NA | NA     | NA        | Naboo    | NA    |\n",
       "| Dormé             | 165 | NA | brown | light | brown | NA | female | feminine  | Naboo    | Human |\n",
       "| Raymus Antilles   | 188 | 79 | brown | light | brown | NA | male   | masculine | Alderaan | Human |\n",
       "| Poe Dameron       |  NA | NA | brown | light | brown | NA | male   | masculine | NA       | Human |\n",
       "\n"
      ],
      "text/plain": [
       "  name              height mass hair_color skin_color eye_color birth_year\n",
       "1 Leia Organa       150    49   brown      light      brown     19        \n",
       "2 Biggs Darklighter 183    84   black      light      brown     24        \n",
       "3 Padmé Amidala     185    45   brown      light      brown     46        \n",
       "4 Cordé             157    NA   brown      light      brown     NA        \n",
       "5 Dormé             165    NA   brown      light      brown     NA        \n",
       "6 Raymus Antilles   188    79   brown      light      brown     NA        \n",
       "7 Poe Dameron        NA    NA   brown      light      brown     NA        \n",
       "  sex    gender    homeworld species\n",
       "1 female feminine  Alderaan  Human  \n",
       "2 male   masculine Tatooine  Human  \n",
       "3 female feminine  Naboo     Human  \n",
       "4 NA     NA        Naboo     NA     \n",
       "5 female feminine  Naboo     Human  \n",
       "6 male   masculine Alderaan  Human  \n",
       "7 male   masculine NA        Human  "
      ]
     },
     "metadata": {},
     "output_type": "display_data"
    }
   ],
   "source": [
    "starwars %>% filter(skin_color == \"light\", eye_color == \"brown\") %>% \n",
    "    select(-films, -vehicles, -starships) "
   ]
  },
  {
   "cell_type": "code",
   "execution_count": 44,
   "id": "78fab007",
   "metadata": {
    "vscode": {
     "languageId": "r"
    }
   },
   "outputs": [
    {
     "data": {
      "text/html": [
       "<table class=\"dataframe\">\n",
       "<caption>A tibble: 7 × 11</caption>\n",
       "<thead>\n",
       "\t<tr><th scope=col>name</th><th scope=col>height</th><th scope=col>mass</th><th scope=col>hair_color</th><th scope=col>skin_color</th><th scope=col>eye_color</th><th scope=col>birth_year</th><th scope=col>sex</th><th scope=col>gender</th><th scope=col>homeworld</th><th scope=col>species</th></tr>\n",
       "\t<tr><th scope=col>&lt;chr&gt;</th><th scope=col>&lt;int&gt;</th><th scope=col>&lt;dbl&gt;</th><th scope=col>&lt;chr&gt;</th><th scope=col>&lt;chr&gt;</th><th scope=col>&lt;chr&gt;</th><th scope=col>&lt;dbl&gt;</th><th scope=col>&lt;chr&gt;</th><th scope=col>&lt;chr&gt;</th><th scope=col>&lt;chr&gt;</th><th scope=col>&lt;chr&gt;</th></tr>\n",
       "</thead>\n",
       "<tbody>\n",
       "\t<tr><td>Leia Organa      </td><td>150</td><td>49</td><td>brown</td><td>light</td><td>brown</td><td>19</td><td>female</td><td>feminine </td><td>Alderaan</td><td>Human</td></tr>\n",
       "\t<tr><td>Biggs Darklighter</td><td>183</td><td>84</td><td>black</td><td>light</td><td>brown</td><td>24</td><td>male  </td><td>masculine</td><td>Tatooine</td><td>Human</td></tr>\n",
       "\t<tr><td>Padmé Amidala    </td><td>185</td><td>45</td><td>brown</td><td>light</td><td>brown</td><td>46</td><td>female</td><td>feminine </td><td>Naboo   </td><td>Human</td></tr>\n",
       "\t<tr><td>Cordé            </td><td>157</td><td>NA</td><td>brown</td><td>light</td><td>brown</td><td>NA</td><td>NA    </td><td>NA       </td><td>Naboo   </td><td>NA   </td></tr>\n",
       "\t<tr><td>Dormé            </td><td>165</td><td>NA</td><td>brown</td><td>light</td><td>brown</td><td>NA</td><td>female</td><td>feminine </td><td>Naboo   </td><td>Human</td></tr>\n",
       "\t<tr><td>Raymus Antilles  </td><td>188</td><td>79</td><td>brown</td><td>light</td><td>brown</td><td>NA</td><td>male  </td><td>masculine</td><td>Alderaan</td><td>Human</td></tr>\n",
       "\t<tr><td>Poe Dameron      </td><td> NA</td><td>NA</td><td>brown</td><td>light</td><td>brown</td><td>NA</td><td>male  </td><td>masculine</td><td>NA      </td><td>Human</td></tr>\n",
       "</tbody>\n",
       "</table>\n"
      ],
      "text/latex": [
       "A tibble: 7 × 11\n",
       "\\begin{tabular}{lllllllllll}\n",
       " name & height & mass & hair\\_color & skin\\_color & eye\\_color & birth\\_year & sex & gender & homeworld & species\\\\\n",
       " <chr> & <int> & <dbl> & <chr> & <chr> & <chr> & <dbl> & <chr> & <chr> & <chr> & <chr>\\\\\n",
       "\\hline\n",
       "\t Leia Organa       & 150 & 49 & brown & light & brown & 19 & female & feminine  & Alderaan & Human\\\\\n",
       "\t Biggs Darklighter & 183 & 84 & black & light & brown & 24 & male   & masculine & Tatooine & Human\\\\\n",
       "\t Padmé Amidala     & 185 & 45 & brown & light & brown & 46 & female & feminine  & Naboo    & Human\\\\\n",
       "\t Cordé             & 157 & NA & brown & light & brown & NA & NA     & NA        & Naboo    & NA   \\\\\n",
       "\t Dormé             & 165 & NA & brown & light & brown & NA & female & feminine  & Naboo    & Human\\\\\n",
       "\t Raymus Antilles   & 188 & 79 & brown & light & brown & NA & male   & masculine & Alderaan & Human\\\\\n",
       "\t Poe Dameron       &  NA & NA & brown & light & brown & NA & male   & masculine & NA       & Human\\\\\n",
       "\\end{tabular}\n"
      ],
      "text/markdown": [
       "\n",
       "A tibble: 7 × 11\n",
       "\n",
       "| name &lt;chr&gt; | height &lt;int&gt; | mass &lt;dbl&gt; | hair_color &lt;chr&gt; | skin_color &lt;chr&gt; | eye_color &lt;chr&gt; | birth_year &lt;dbl&gt; | sex &lt;chr&gt; | gender &lt;chr&gt; | homeworld &lt;chr&gt; | species &lt;chr&gt; |\n",
       "|---|---|---|---|---|---|---|---|---|---|---|\n",
       "| Leia Organa       | 150 | 49 | brown | light | brown | 19 | female | feminine  | Alderaan | Human |\n",
       "| Biggs Darklighter | 183 | 84 | black | light | brown | 24 | male   | masculine | Tatooine | Human |\n",
       "| Padmé Amidala     | 185 | 45 | brown | light | brown | 46 | female | feminine  | Naboo    | Human |\n",
       "| Cordé             | 157 | NA | brown | light | brown | NA | NA     | NA        | Naboo    | NA    |\n",
       "| Dormé             | 165 | NA | brown | light | brown | NA | female | feminine  | Naboo    | Human |\n",
       "| Raymus Antilles   | 188 | 79 | brown | light | brown | NA | male   | masculine | Alderaan | Human |\n",
       "| Poe Dameron       |  NA | NA | brown | light | brown | NA | male   | masculine | NA       | Human |\n",
       "\n"
      ],
      "text/plain": [
       "  name              height mass hair_color skin_color eye_color birth_year\n",
       "1 Leia Organa       150    49   brown      light      brown     19        \n",
       "2 Biggs Darklighter 183    84   black      light      brown     24        \n",
       "3 Padmé Amidala     185    45   brown      light      brown     46        \n",
       "4 Cordé             157    NA   brown      light      brown     NA        \n",
       "5 Dormé             165    NA   brown      light      brown     NA        \n",
       "6 Raymus Antilles   188    79   brown      light      brown     NA        \n",
       "7 Poe Dameron        NA    NA   brown      light      brown     NA        \n",
       "  sex    gender    homeworld species\n",
       "1 female feminine  Alderaan  Human  \n",
       "2 male   masculine Tatooine  Human  \n",
       "3 female feminine  Naboo     Human  \n",
       "4 NA     NA        Naboo     NA     \n",
       "5 female feminine  Naboo     Human  \n",
       "6 male   masculine Alderaan  Human  \n",
       "7 male   masculine NA        Human  "
      ]
     },
     "metadata": {},
     "output_type": "display_data"
    }
   ],
   "source": [
    "starwars[starwars$skin_color == \"light\" & starwars$eye_color == \"brown\", ] %>% \n",
    "    select(-films, -vehicles, -starships) "
   ]
  },
  {
   "cell_type": "code",
   "execution_count": 46,
   "id": "f9993638",
   "metadata": {
    "vscode": {
     "languageId": "r"
    }
   },
   "outputs": [],
   "source": [
    "starwars %>% \n",
    "  select(-films, -vehicles, -starships) -> starwars.filters"
   ]
  },
  {
   "cell_type": "code",
   "execution_count": 49,
   "id": "c7ca5d27",
   "metadata": {
    "vscode": {
     "languageId": "r"
    }
   },
   "outputs": [
    {
     "data": {
      "text/html": [
       "<table class=\"dataframe\">\n",
       "<caption>A tibble: 7 × 11</caption>\n",
       "<thead>\n",
       "\t<tr><th scope=col>name</th><th scope=col>height</th><th scope=col>mass</th><th scope=col>hair_color</th><th scope=col>skin_color</th><th scope=col>eye_color</th><th scope=col>birth_year</th><th scope=col>sex</th><th scope=col>gender</th><th scope=col>homeworld</th><th scope=col>species</th></tr>\n",
       "\t<tr><th scope=col>&lt;chr&gt;</th><th scope=col>&lt;int&gt;</th><th scope=col>&lt;dbl&gt;</th><th scope=col>&lt;chr&gt;</th><th scope=col>&lt;chr&gt;</th><th scope=col>&lt;chr&gt;</th><th scope=col>&lt;dbl&gt;</th><th scope=col>&lt;chr&gt;</th><th scope=col>&lt;chr&gt;</th><th scope=col>&lt;chr&gt;</th><th scope=col>&lt;chr&gt;</th></tr>\n",
       "</thead>\n",
       "<tbody>\n",
       "\t<tr><td>Leia Organa      </td><td>150</td><td>49</td><td>brown</td><td>light</td><td>brown</td><td>19</td><td>female</td><td>feminine </td><td>Alderaan</td><td>Human</td></tr>\n",
       "\t<tr><td>Biggs Darklighter</td><td>183</td><td>84</td><td>black</td><td>light</td><td>brown</td><td>24</td><td>male  </td><td>masculine</td><td>Tatooine</td><td>Human</td></tr>\n",
       "\t<tr><td>Padmé Amidala    </td><td>185</td><td>45</td><td>brown</td><td>light</td><td>brown</td><td>46</td><td>female</td><td>feminine </td><td>Naboo   </td><td>Human</td></tr>\n",
       "\t<tr><td>Cordé            </td><td>157</td><td>NA</td><td>brown</td><td>light</td><td>brown</td><td>NA</td><td>NA    </td><td>NA       </td><td>Naboo   </td><td>NA   </td></tr>\n",
       "\t<tr><td>Dormé            </td><td>165</td><td>NA</td><td>brown</td><td>light</td><td>brown</td><td>NA</td><td>female</td><td>feminine </td><td>Naboo   </td><td>Human</td></tr>\n",
       "\t<tr><td>Raymus Antilles  </td><td>188</td><td>79</td><td>brown</td><td>light</td><td>brown</td><td>NA</td><td>male  </td><td>masculine</td><td>Alderaan</td><td>Human</td></tr>\n",
       "\t<tr><td>Poe Dameron      </td><td> NA</td><td>NA</td><td>brown</td><td>light</td><td>brown</td><td>NA</td><td>male  </td><td>masculine</td><td>NA      </td><td>Human</td></tr>\n",
       "</tbody>\n",
       "</table>\n"
      ],
      "text/latex": [
       "A tibble: 7 × 11\n",
       "\\begin{tabular}{lllllllllll}\n",
       " name & height & mass & hair\\_color & skin\\_color & eye\\_color & birth\\_year & sex & gender & homeworld & species\\\\\n",
       " <chr> & <int> & <dbl> & <chr> & <chr> & <chr> & <dbl> & <chr> & <chr> & <chr> & <chr>\\\\\n",
       "\\hline\n",
       "\t Leia Organa       & 150 & 49 & brown & light & brown & 19 & female & feminine  & Alderaan & Human\\\\\n",
       "\t Biggs Darklighter & 183 & 84 & black & light & brown & 24 & male   & masculine & Tatooine & Human\\\\\n",
       "\t Padmé Amidala     & 185 & 45 & brown & light & brown & 46 & female & feminine  & Naboo    & Human\\\\\n",
       "\t Cordé             & 157 & NA & brown & light & brown & NA & NA     & NA        & Naboo    & NA   \\\\\n",
       "\t Dormé             & 165 & NA & brown & light & brown & NA & female & feminine  & Naboo    & Human\\\\\n",
       "\t Raymus Antilles   & 188 & 79 & brown & light & brown & NA & male   & masculine & Alderaan & Human\\\\\n",
       "\t Poe Dameron       &  NA & NA & brown & light & brown & NA & male   & masculine & NA       & Human\\\\\n",
       "\\end{tabular}\n"
      ],
      "text/markdown": [
       "\n",
       "A tibble: 7 × 11\n",
       "\n",
       "| name &lt;chr&gt; | height &lt;int&gt; | mass &lt;dbl&gt; | hair_color &lt;chr&gt; | skin_color &lt;chr&gt; | eye_color &lt;chr&gt; | birth_year &lt;dbl&gt; | sex &lt;chr&gt; | gender &lt;chr&gt; | homeworld &lt;chr&gt; | species &lt;chr&gt; |\n",
       "|---|---|---|---|---|---|---|---|---|---|---|\n",
       "| Leia Organa       | 150 | 49 | brown | light | brown | 19 | female | feminine  | Alderaan | Human |\n",
       "| Biggs Darklighter | 183 | 84 | black | light | brown | 24 | male   | masculine | Tatooine | Human |\n",
       "| Padmé Amidala     | 185 | 45 | brown | light | brown | 46 | female | feminine  | Naboo    | Human |\n",
       "| Cordé             | 157 | NA | brown | light | brown | NA | NA     | NA        | Naboo    | NA    |\n",
       "| Dormé             | 165 | NA | brown | light | brown | NA | female | feminine  | Naboo    | Human |\n",
       "| Raymus Antilles   | 188 | 79 | brown | light | brown | NA | male   | masculine | Alderaan | Human |\n",
       "| Poe Dameron       |  NA | NA | brown | light | brown | NA | male   | masculine | NA       | Human |\n",
       "\n"
      ],
      "text/plain": [
       "  name              height mass hair_color skin_color eye_color birth_year\n",
       "1 Leia Organa       150    49   brown      light      brown     19        \n",
       "2 Biggs Darklighter 183    84   black      light      brown     24        \n",
       "3 Padmé Amidala     185    45   brown      light      brown     46        \n",
       "4 Cordé             157    NA   brown      light      brown     NA        \n",
       "5 Dormé             165    NA   brown      light      brown     NA        \n",
       "6 Raymus Antilles   188    79   brown      light      brown     NA        \n",
       "7 Poe Dameron        NA    NA   brown      light      brown     NA        \n",
       "  sex    gender    homeworld species\n",
       "1 female feminine  Alderaan  Human  \n",
       "2 male   masculine Tatooine  Human  \n",
       "3 female feminine  Naboo     Human  \n",
       "4 NA     NA        Naboo     NA     \n",
       "5 female feminine  Naboo     Human  \n",
       "6 male   masculine Alderaan  Human  \n",
       "7 male   masculine NA        Human  "
      ]
     },
     "metadata": {},
     "output_type": "display_data"
    }
   ],
   "source": [
    "starwars.filters %>%filter(skin_color == \"light\", eye_color == \"brown\")"
   ]
  },
  {
   "cell_type": "code",
   "execution_count": 50,
   "id": "4f25972c",
   "metadata": {
    "vscode": {
     "languageId": "r"
    }
   },
   "outputs": [
    {
     "data": {
      "text/html": [
       "<table class=\"dataframe\">\n",
       "<caption>A tibble: 10 × 11</caption>\n",
       "<thead>\n",
       "\t<tr><th scope=col>name</th><th scope=col>height</th><th scope=col>mass</th><th scope=col>hair_color</th><th scope=col>skin_color</th><th scope=col>eye_color</th><th scope=col>birth_year</th><th scope=col>sex</th><th scope=col>gender</th><th scope=col>homeworld</th><th scope=col>species</th></tr>\n",
       "\t<tr><th scope=col>&lt;chr&gt;</th><th scope=col>&lt;int&gt;</th><th scope=col>&lt;dbl&gt;</th><th scope=col>&lt;chr&gt;</th><th scope=col>&lt;chr&gt;</th><th scope=col>&lt;chr&gt;</th><th scope=col>&lt;dbl&gt;</th><th scope=col>&lt;chr&gt;</th><th scope=col>&lt;chr&gt;</th><th scope=col>&lt;chr&gt;</th><th scope=col>&lt;chr&gt;</th></tr>\n",
       "</thead>\n",
       "<tbody>\n",
       "\t<tr><td>Yoda                 </td><td> 66</td><td>17</td><td>white</td><td>green      </td><td>brown    </td><td>896</td><td>male</td><td>masculine</td><td>NA         </td><td>Yoda's species</td></tr>\n",
       "\t<tr><td>Ratts Tyerel         </td><td> 79</td><td>15</td><td>none </td><td>grey, blue </td><td>unknown  </td><td> NA</td><td>male</td><td>masculine</td><td>Aleen Minor</td><td>Aleena        </td></tr>\n",
       "\t<tr><td>Wicket Systri Warrick</td><td> 88</td><td>20</td><td>brown</td><td>brown      </td><td>brown    </td><td>  8</td><td>male</td><td>masculine</td><td>Endor      </td><td>Ewok          </td></tr>\n",
       "\t<tr><td>Dud Bolt             </td><td> 94</td><td>45</td><td>none </td><td>blue, grey </td><td>yellow   </td><td> NA</td><td>male</td><td>masculine</td><td>Vulpter    </td><td>Vulptereen    </td></tr>\n",
       "\t<tr><td>R2-D2                </td><td> 96</td><td>32</td><td>NA   </td><td>white, blue</td><td>red      </td><td> 33</td><td>none</td><td>masculine</td><td>Naboo      </td><td>Droid         </td></tr>\n",
       "\t<tr><td>R4-P17               </td><td> 96</td><td>NA</td><td>none </td><td>silver, red</td><td>red, blue</td><td> NA</td><td>none</td><td>feminine </td><td>NA         </td><td>Droid         </td></tr>\n",
       "\t<tr><td>R5-D4                </td><td> 97</td><td>32</td><td>NA   </td><td>white, red </td><td>red      </td><td> NA</td><td>none</td><td>masculine</td><td>Tatooine   </td><td>Droid         </td></tr>\n",
       "\t<tr><td>Sebulba              </td><td>112</td><td>40</td><td>none </td><td>grey, red  </td><td>orange   </td><td> NA</td><td>male</td><td>masculine</td><td>Malastare  </td><td>Dug           </td></tr>\n",
       "\t<tr><td>Gasgano              </td><td>122</td><td>NA</td><td>none </td><td>white, blue</td><td>black    </td><td> NA</td><td>male</td><td>masculine</td><td>Troiken    </td><td>Xexto         </td></tr>\n",
       "\t<tr><td>Watto                </td><td>137</td><td>NA</td><td>black</td><td>blue, grey </td><td>yellow   </td><td> NA</td><td>male</td><td>masculine</td><td>Toydaria   </td><td>Toydarian     </td></tr>\n",
       "</tbody>\n",
       "</table>\n"
      ],
      "text/latex": [
       "A tibble: 10 × 11\n",
       "\\begin{tabular}{lllllllllll}\n",
       " name & height & mass & hair\\_color & skin\\_color & eye\\_color & birth\\_year & sex & gender & homeworld & species\\\\\n",
       " <chr> & <int> & <dbl> & <chr> & <chr> & <chr> & <dbl> & <chr> & <chr> & <chr> & <chr>\\\\\n",
       "\\hline\n",
       "\t Yoda                  &  66 & 17 & white & green       & brown     & 896 & male & masculine & NA          & Yoda's species\\\\\n",
       "\t Ratts Tyerel          &  79 & 15 & none  & grey, blue  & unknown   &  NA & male & masculine & Aleen Minor & Aleena        \\\\\n",
       "\t Wicket Systri Warrick &  88 & 20 & brown & brown       & brown     &   8 & male & masculine & Endor       & Ewok          \\\\\n",
       "\t Dud Bolt              &  94 & 45 & none  & blue, grey  & yellow    &  NA & male & masculine & Vulpter     & Vulptereen    \\\\\n",
       "\t R2-D2                 &  96 & 32 & NA    & white, blue & red       &  33 & none & masculine & Naboo       & Droid         \\\\\n",
       "\t R4-P17                &  96 & NA & none  & silver, red & red, blue &  NA & none & feminine  & NA          & Droid         \\\\\n",
       "\t R5-D4                 &  97 & 32 & NA    & white, red  & red       &  NA & none & masculine & Tatooine    & Droid         \\\\\n",
       "\t Sebulba               & 112 & 40 & none  & grey, red   & orange    &  NA & male & masculine & Malastare   & Dug           \\\\\n",
       "\t Gasgano               & 122 & NA & none  & white, blue & black     &  NA & male & masculine & Troiken     & Xexto         \\\\\n",
       "\t Watto                 & 137 & NA & black & blue, grey  & yellow    &  NA & male & masculine & Toydaria    & Toydarian     \\\\\n",
       "\\end{tabular}\n"
      ],
      "text/markdown": [
       "\n",
       "A tibble: 10 × 11\n",
       "\n",
       "| name &lt;chr&gt; | height &lt;int&gt; | mass &lt;dbl&gt; | hair_color &lt;chr&gt; | skin_color &lt;chr&gt; | eye_color &lt;chr&gt; | birth_year &lt;dbl&gt; | sex &lt;chr&gt; | gender &lt;chr&gt; | homeworld &lt;chr&gt; | species &lt;chr&gt; |\n",
       "|---|---|---|---|---|---|---|---|---|---|---|\n",
       "| Yoda                  |  66 | 17 | white | green       | brown     | 896 | male | masculine | NA          | Yoda's species |\n",
       "| Ratts Tyerel          |  79 | 15 | none  | grey, blue  | unknown   |  NA | male | masculine | Aleen Minor | Aleena         |\n",
       "| Wicket Systri Warrick |  88 | 20 | brown | brown       | brown     |   8 | male | masculine | Endor       | Ewok           |\n",
       "| Dud Bolt              |  94 | 45 | none  | blue, grey  | yellow    |  NA | male | masculine | Vulpter     | Vulptereen     |\n",
       "| R2-D2                 |  96 | 32 | NA    | white, blue | red       |  33 | none | masculine | Naboo       | Droid          |\n",
       "| R4-P17                |  96 | NA | none  | silver, red | red, blue |  NA | none | feminine  | NA          | Droid          |\n",
       "| R5-D4                 |  97 | 32 | NA    | white, red  | red       |  NA | none | masculine | Tatooine    | Droid          |\n",
       "| Sebulba               | 112 | 40 | none  | grey, red   | orange    |  NA | male | masculine | Malastare   | Dug            |\n",
       "| Gasgano               | 122 | NA | none  | white, blue | black     |  NA | male | masculine | Troiken     | Xexto          |\n",
       "| Watto                 | 137 | NA | black | blue, grey  | yellow    |  NA | male | masculine | Toydaria    | Toydarian      |\n",
       "\n"
      ],
      "text/plain": [
       "   name                  height mass hair_color skin_color  eye_color\n",
       "1  Yoda                   66    17   white      green       brown    \n",
       "2  Ratts Tyerel           79    15   none       grey, blue  unknown  \n",
       "3  Wicket Systri Warrick  88    20   brown      brown       brown    \n",
       "4  Dud Bolt               94    45   none       blue, grey  yellow   \n",
       "5  R2-D2                  96    32   NA         white, blue red      \n",
       "6  R4-P17                 96    NA   none       silver, red red, blue\n",
       "7  R5-D4                  97    32   NA         white, red  red      \n",
       "8  Sebulba               112    40   none       grey, red   orange   \n",
       "9  Gasgano               122    NA   none       white, blue black    \n",
       "10 Watto                 137    NA   black      blue, grey  yellow   \n",
       "   birth_year sex  gender    homeworld   species       \n",
       "1  896        male masculine NA          Yoda's species\n",
       "2   NA        male masculine Aleen Minor Aleena        \n",
       "3    8        male masculine Endor       Ewok          \n",
       "4   NA        male masculine Vulpter     Vulptereen    \n",
       "5   33        none masculine Naboo       Droid         \n",
       "6   NA        none feminine  NA          Droid         \n",
       "7   NA        none masculine Tatooine    Droid         \n",
       "8   NA        male masculine Malastare   Dug           \n",
       "9   NA        male masculine Troiken     Xexto         \n",
       "10  NA        male masculine Toydaria    Toydarian     "
      ]
     },
     "metadata": {},
     "output_type": "display_data"
    }
   ],
   "source": [
    "starwars.filters %>% arrange(height, mass) %>% head(10)"
   ]
  },
  {
   "cell_type": "code",
   "execution_count": 51,
   "id": "847388e0",
   "metadata": {
    "vscode": {
     "languageId": "r"
    }
   },
   "outputs": [
    {
     "data": {
      "text/html": [
       "<table class=\"dataframe\">\n",
       "<caption>A tibble: 10 × 11</caption>\n",
       "<thead>\n",
       "\t<tr><th scope=col>name</th><th scope=col>height</th><th scope=col>mass</th><th scope=col>hair_color</th><th scope=col>skin_color</th><th scope=col>eye_color</th><th scope=col>birth_year</th><th scope=col>sex</th><th scope=col>gender</th><th scope=col>homeworld</th><th scope=col>species</th></tr>\n",
       "\t<tr><th scope=col>&lt;chr&gt;</th><th scope=col>&lt;int&gt;</th><th scope=col>&lt;dbl&gt;</th><th scope=col>&lt;chr&gt;</th><th scope=col>&lt;chr&gt;</th><th scope=col>&lt;chr&gt;</th><th scope=col>&lt;dbl&gt;</th><th scope=col>&lt;chr&gt;</th><th scope=col>&lt;chr&gt;</th><th scope=col>&lt;chr&gt;</th><th scope=col>&lt;chr&gt;</th></tr>\n",
       "</thead>\n",
       "<tbody>\n",
       "\t<tr><td>Yarael Poof </td><td>264</td><td> NA</td><td>none </td><td>white       </td><td>yellow       </td><td>   NA</td><td>male  </td><td>masculine</td><td>Quermia </td><td>Quermian</td></tr>\n",
       "\t<tr><td>Tarfful     </td><td>234</td><td>136</td><td>brown</td><td>brown       </td><td>blue         </td><td>   NA</td><td>male  </td><td>masculine</td><td>Kashyyyk</td><td>Wookiee </td></tr>\n",
       "\t<tr><td>Lama Su     </td><td>229</td><td> 88</td><td>none </td><td>grey        </td><td>black        </td><td>   NA</td><td>male  </td><td>masculine</td><td>Kamino  </td><td>Kaminoan</td></tr>\n",
       "\t<tr><td>Chewbacca   </td><td>228</td><td>112</td><td>brown</td><td>unknown     </td><td>blue         </td><td>200.0</td><td>male  </td><td>masculine</td><td>Kashyyyk</td><td>Wookiee </td></tr>\n",
       "\t<tr><td>Roos Tarpals</td><td>224</td><td> 82</td><td>none </td><td>grey        </td><td>orange       </td><td>   NA</td><td>male  </td><td>masculine</td><td>Naboo   </td><td>Gungan  </td></tr>\n",
       "\t<tr><td>Grievous    </td><td>216</td><td>159</td><td>none </td><td>brown, white</td><td>green, yellow</td><td>   NA</td><td>male  </td><td>masculine</td><td>Kalee   </td><td>Kaleesh </td></tr>\n",
       "\t<tr><td>Taun We     </td><td>213</td><td> NA</td><td>none </td><td>grey        </td><td>black        </td><td>   NA</td><td>female</td><td>feminine </td><td>Kamino  </td><td>Kaminoan</td></tr>\n",
       "\t<tr><td>Rugor Nass  </td><td>206</td><td> NA</td><td>none </td><td>green       </td><td>orange       </td><td>   NA</td><td>male  </td><td>masculine</td><td>Naboo   </td><td>Gungan  </td></tr>\n",
       "\t<tr><td>Tion Medon  </td><td>206</td><td> 80</td><td>none </td><td>grey        </td><td>black        </td><td>   NA</td><td>male  </td><td>masculine</td><td>Utapau  </td><td>Pau'an  </td></tr>\n",
       "\t<tr><td>Darth Vader </td><td>202</td><td>136</td><td>none </td><td>white       </td><td>yellow       </td><td> 41.9</td><td>male  </td><td>masculine</td><td>Tatooine</td><td>Human   </td></tr>\n",
       "</tbody>\n",
       "</table>\n"
      ],
      "text/latex": [
       "A tibble: 10 × 11\n",
       "\\begin{tabular}{lllllllllll}\n",
       " name & height & mass & hair\\_color & skin\\_color & eye\\_color & birth\\_year & sex & gender & homeworld & species\\\\\n",
       " <chr> & <int> & <dbl> & <chr> & <chr> & <chr> & <dbl> & <chr> & <chr> & <chr> & <chr>\\\\\n",
       "\\hline\n",
       "\t Yarael Poof  & 264 &  NA & none  & white        & yellow        &    NA & male   & masculine & Quermia  & Quermian\\\\\n",
       "\t Tarfful      & 234 & 136 & brown & brown        & blue          &    NA & male   & masculine & Kashyyyk & Wookiee \\\\\n",
       "\t Lama Su      & 229 &  88 & none  & grey         & black         &    NA & male   & masculine & Kamino   & Kaminoan\\\\\n",
       "\t Chewbacca    & 228 & 112 & brown & unknown      & blue          & 200.0 & male   & masculine & Kashyyyk & Wookiee \\\\\n",
       "\t Roos Tarpals & 224 &  82 & none  & grey         & orange        &    NA & male   & masculine & Naboo    & Gungan  \\\\\n",
       "\t Grievous     & 216 & 159 & none  & brown, white & green, yellow &    NA & male   & masculine & Kalee    & Kaleesh \\\\\n",
       "\t Taun We      & 213 &  NA & none  & grey         & black         &    NA & female & feminine  & Kamino   & Kaminoan\\\\\n",
       "\t Rugor Nass   & 206 &  NA & none  & green        & orange        &    NA & male   & masculine & Naboo    & Gungan  \\\\\n",
       "\t Tion Medon   & 206 &  80 & none  & grey         & black         &    NA & male   & masculine & Utapau   & Pau'an  \\\\\n",
       "\t Darth Vader  & 202 & 136 & none  & white        & yellow        &  41.9 & male   & masculine & Tatooine & Human   \\\\\n",
       "\\end{tabular}\n"
      ],
      "text/markdown": [
       "\n",
       "A tibble: 10 × 11\n",
       "\n",
       "| name &lt;chr&gt; | height &lt;int&gt; | mass &lt;dbl&gt; | hair_color &lt;chr&gt; | skin_color &lt;chr&gt; | eye_color &lt;chr&gt; | birth_year &lt;dbl&gt; | sex &lt;chr&gt; | gender &lt;chr&gt; | homeworld &lt;chr&gt; | species &lt;chr&gt; |\n",
       "|---|---|---|---|---|---|---|---|---|---|---|\n",
       "| Yarael Poof  | 264 |  NA | none  | white        | yellow        |    NA | male   | masculine | Quermia  | Quermian |\n",
       "| Tarfful      | 234 | 136 | brown | brown        | blue          |    NA | male   | masculine | Kashyyyk | Wookiee  |\n",
       "| Lama Su      | 229 |  88 | none  | grey         | black         |    NA | male   | masculine | Kamino   | Kaminoan |\n",
       "| Chewbacca    | 228 | 112 | brown | unknown      | blue          | 200.0 | male   | masculine | Kashyyyk | Wookiee  |\n",
       "| Roos Tarpals | 224 |  82 | none  | grey         | orange        |    NA | male   | masculine | Naboo    | Gungan   |\n",
       "| Grievous     | 216 | 159 | none  | brown, white | green, yellow |    NA | male   | masculine | Kalee    | Kaleesh  |\n",
       "| Taun We      | 213 |  NA | none  | grey         | black         |    NA | female | feminine  | Kamino   | Kaminoan |\n",
       "| Rugor Nass   | 206 |  NA | none  | green        | orange        |    NA | male   | masculine | Naboo    | Gungan   |\n",
       "| Tion Medon   | 206 |  80 | none  | grey         | black         |    NA | male   | masculine | Utapau   | Pau'an   |\n",
       "| Darth Vader  | 202 | 136 | none  | white        | yellow        |  41.9 | male   | masculine | Tatooine | Human    |\n",
       "\n"
      ],
      "text/plain": [
       "   name         height mass hair_color skin_color   eye_color     birth_year\n",
       "1  Yarael Poof  264     NA  none       white        yellow           NA     \n",
       "2  Tarfful      234    136  brown      brown        blue             NA     \n",
       "3  Lama Su      229     88  none       grey         black            NA     \n",
       "4  Chewbacca    228    112  brown      unknown      blue          200.0     \n",
       "5  Roos Tarpals 224     82  none       grey         orange           NA     \n",
       "6  Grievous     216    159  none       brown, white green, yellow    NA     \n",
       "7  Taun We      213     NA  none       grey         black            NA     \n",
       "8  Rugor Nass   206     NA  none       green        orange           NA     \n",
       "9  Tion Medon   206     80  none       grey         black            NA     \n",
       "10 Darth Vader  202    136  none       white        yellow         41.9     \n",
       "   sex    gender    homeworld species \n",
       "1  male   masculine Quermia   Quermian\n",
       "2  male   masculine Kashyyyk  Wookiee \n",
       "3  male   masculine Kamino    Kaminoan\n",
       "4  male   masculine Kashyyyk  Wookiee \n",
       "5  male   masculine Naboo     Gungan  \n",
       "6  male   masculine Kalee     Kaleesh \n",
       "7  female feminine  Kamino    Kaminoan\n",
       "8  male   masculine Naboo     Gungan  \n",
       "9  male   masculine Utapau    Pau'an  \n",
       "10 male   masculine Tatooine  Human   "
      ]
     },
     "metadata": {},
     "output_type": "display_data"
    }
   ],
   "source": [
    "starwars.filters %>% arrange(desc(height)) %>% head(10)"
   ]
  },
  {
   "cell_type": "code",
   "execution_count": 52,
   "id": "f7eedc1d",
   "metadata": {
    "vscode": {
     "languageId": "r"
    }
   },
   "outputs": [
    {
     "data": {
      "text/html": [
       "<table class=\"dataframe\">\n",
       "<caption>A tibble: 6 × 11</caption>\n",
       "<thead>\n",
       "\t<tr><th scope=col>name</th><th scope=col>height</th><th scope=col>mass</th><th scope=col>hair_color</th><th scope=col>skin_color</th><th scope=col>eye_color</th><th scope=col>birth_year</th><th scope=col>sex</th><th scope=col>gender</th><th scope=col>homeworld</th><th scope=col>species</th></tr>\n",
       "\t<tr><th scope=col>&lt;chr&gt;</th><th scope=col>&lt;int&gt;</th><th scope=col>&lt;dbl&gt;</th><th scope=col>&lt;chr&gt;</th><th scope=col>&lt;chr&gt;</th><th scope=col>&lt;chr&gt;</th><th scope=col>&lt;dbl&gt;</th><th scope=col>&lt;chr&gt;</th><th scope=col>&lt;chr&gt;</th><th scope=col>&lt;chr&gt;</th><th scope=col>&lt;chr&gt;</th></tr>\n",
       "</thead>\n",
       "<tbody>\n",
       "\t<tr><td>Leia Organa       </td><td>150</td><td> 49</td><td>brown        </td><td>light     </td><td>brown    </td><td>19</td><td>female</td><td>feminine </td><td>Alderaan</td><td>Human</td></tr>\n",
       "\t<tr><td>Owen Lars         </td><td>178</td><td>120</td><td>brown, grey  </td><td>light     </td><td>blue     </td><td>52</td><td>male  </td><td>masculine</td><td>Tatooine</td><td>Human</td></tr>\n",
       "\t<tr><td>Beru Whitesun Lars</td><td>165</td><td> 75</td><td>brown        </td><td>light     </td><td>blue     </td><td>47</td><td>female</td><td>feminine </td><td>Tatooine</td><td>Human</td></tr>\n",
       "\t<tr><td>R5-D4             </td><td> 97</td><td> 32</td><td>NA           </td><td>white, red</td><td>red      </td><td>NA</td><td>none  </td><td>masculine</td><td>Tatooine</td><td>Droid</td></tr>\n",
       "\t<tr><td>Biggs Darklighter </td><td>183</td><td> 84</td><td>black        </td><td>light     </td><td>brown    </td><td>24</td><td>male  </td><td>masculine</td><td>Tatooine</td><td>Human</td></tr>\n",
       "\t<tr><td>Obi-Wan Kenobi    </td><td>182</td><td> 77</td><td>auburn, white</td><td>fair      </td><td>blue-gray</td><td>57</td><td>male  </td><td>masculine</td><td>Stewjon </td><td>Human</td></tr>\n",
       "</tbody>\n",
       "</table>\n"
      ],
      "text/latex": [
       "A tibble: 6 × 11\n",
       "\\begin{tabular}{lllllllllll}\n",
       " name & height & mass & hair\\_color & skin\\_color & eye\\_color & birth\\_year & sex & gender & homeworld & species\\\\\n",
       " <chr> & <int> & <dbl> & <chr> & <chr> & <chr> & <dbl> & <chr> & <chr> & <chr> & <chr>\\\\\n",
       "\\hline\n",
       "\t Leia Organa        & 150 &  49 & brown         & light      & brown     & 19 & female & feminine  & Alderaan & Human\\\\\n",
       "\t Owen Lars          & 178 & 120 & brown, grey   & light      & blue      & 52 & male   & masculine & Tatooine & Human\\\\\n",
       "\t Beru Whitesun Lars & 165 &  75 & brown         & light      & blue      & 47 & female & feminine  & Tatooine & Human\\\\\n",
       "\t R5-D4              &  97 &  32 & NA            & white, red & red       & NA & none   & masculine & Tatooine & Droid\\\\\n",
       "\t Biggs Darklighter  & 183 &  84 & black         & light      & brown     & 24 & male   & masculine & Tatooine & Human\\\\\n",
       "\t Obi-Wan Kenobi     & 182 &  77 & auburn, white & fair       & blue-gray & 57 & male   & masculine & Stewjon  & Human\\\\\n",
       "\\end{tabular}\n"
      ],
      "text/markdown": [
       "\n",
       "A tibble: 6 × 11\n",
       "\n",
       "| name &lt;chr&gt; | height &lt;int&gt; | mass &lt;dbl&gt; | hair_color &lt;chr&gt; | skin_color &lt;chr&gt; | eye_color &lt;chr&gt; | birth_year &lt;dbl&gt; | sex &lt;chr&gt; | gender &lt;chr&gt; | homeworld &lt;chr&gt; | species &lt;chr&gt; |\n",
       "|---|---|---|---|---|---|---|---|---|---|---|\n",
       "| Leia Organa        | 150 |  49 | brown         | light      | brown     | 19 | female | feminine  | Alderaan | Human |\n",
       "| Owen Lars          | 178 | 120 | brown, grey   | light      | blue      | 52 | male   | masculine | Tatooine | Human |\n",
       "| Beru Whitesun Lars | 165 |  75 | brown         | light      | blue      | 47 | female | feminine  | Tatooine | Human |\n",
       "| R5-D4              |  97 |  32 | NA            | white, red | red       | NA | none   | masculine | Tatooine | Droid |\n",
       "| Biggs Darklighter  | 183 |  84 | black         | light      | brown     | 24 | male   | masculine | Tatooine | Human |\n",
       "| Obi-Wan Kenobi     | 182 |  77 | auburn, white | fair       | blue-gray | 57 | male   | masculine | Stewjon  | Human |\n",
       "\n"
      ],
      "text/plain": [
       "  name               height mass hair_color    skin_color eye_color birth_year\n",
       "1 Leia Organa        150     49  brown         light      brown     19        \n",
       "2 Owen Lars          178    120  brown, grey   light      blue      52        \n",
       "3 Beru Whitesun Lars 165     75  brown         light      blue      47        \n",
       "4 R5-D4               97     32  NA            white, red red       NA        \n",
       "5 Biggs Darklighter  183     84  black         light      brown     24        \n",
       "6 Obi-Wan Kenobi     182     77  auburn, white fair       blue-gray 57        \n",
       "  sex    gender    homeworld species\n",
       "1 female feminine  Alderaan  Human  \n",
       "2 male   masculine Tatooine  Human  \n",
       "3 female feminine  Tatooine  Human  \n",
       "4 none   masculine Tatooine  Droid  \n",
       "5 male   masculine Tatooine  Human  \n",
       "6 male   masculine Stewjon   Human  "
      ]
     },
     "metadata": {},
     "output_type": "display_data"
    }
   ],
   "source": [
    "starwars.filters %>% slice(5:10)"
   ]
  },
  {
   "cell_type": "code",
   "execution_count": 53,
   "id": "3ddce3e7",
   "metadata": {
    "vscode": {
     "languageId": "r"
    }
   },
   "outputs": [
    {
     "data": {
      "text/html": [
       "<table class=\"dataframe\">\n",
       "<caption>A tibble: 3 × 11</caption>\n",
       "<thead>\n",
       "\t<tr><th scope=col>name</th><th scope=col>height</th><th scope=col>mass</th><th scope=col>hair_color</th><th scope=col>skin_color</th><th scope=col>eye_color</th><th scope=col>birth_year</th><th scope=col>sex</th><th scope=col>gender</th><th scope=col>homeworld</th><th scope=col>species</th></tr>\n",
       "\t<tr><th scope=col>&lt;chr&gt;</th><th scope=col>&lt;int&gt;</th><th scope=col>&lt;dbl&gt;</th><th scope=col>&lt;chr&gt;</th><th scope=col>&lt;chr&gt;</th><th scope=col>&lt;chr&gt;</th><th scope=col>&lt;dbl&gt;</th><th scope=col>&lt;chr&gt;</th><th scope=col>&lt;chr&gt;</th><th scope=col>&lt;chr&gt;</th><th scope=col>&lt;chr&gt;</th></tr>\n",
       "</thead>\n",
       "<tbody>\n",
       "\t<tr><td>Luke Skywalker</td><td>172</td><td>77</td><td>blond</td><td>fair       </td><td>blue  </td><td> 19</td><td>male</td><td>masculine</td><td>Tatooine</td><td>Human</td></tr>\n",
       "\t<tr><td>C-3PO         </td><td>167</td><td>75</td><td>NA   </td><td>gold       </td><td>yellow</td><td>112</td><td>none</td><td>masculine</td><td>Tatooine</td><td>Droid</td></tr>\n",
       "\t<tr><td>R2-D2         </td><td> 96</td><td>32</td><td>NA   </td><td>white, blue</td><td>red   </td><td> 33</td><td>none</td><td>masculine</td><td>Naboo   </td><td>Droid</td></tr>\n",
       "</tbody>\n",
       "</table>\n"
      ],
      "text/latex": [
       "A tibble: 3 × 11\n",
       "\\begin{tabular}{lllllllllll}\n",
       " name & height & mass & hair\\_color & skin\\_color & eye\\_color & birth\\_year & sex & gender & homeworld & species\\\\\n",
       " <chr> & <int> & <dbl> & <chr> & <chr> & <chr> & <dbl> & <chr> & <chr> & <chr> & <chr>\\\\\n",
       "\\hline\n",
       "\t Luke Skywalker & 172 & 77 & blond & fair        & blue   &  19 & male & masculine & Tatooine & Human\\\\\n",
       "\t C-3PO          & 167 & 75 & NA    & gold        & yellow & 112 & none & masculine & Tatooine & Droid\\\\\n",
       "\t R2-D2          &  96 & 32 & NA    & white, blue & red    &  33 & none & masculine & Naboo    & Droid\\\\\n",
       "\\end{tabular}\n"
      ],
      "text/markdown": [
       "\n",
       "A tibble: 3 × 11\n",
       "\n",
       "| name &lt;chr&gt; | height &lt;int&gt; | mass &lt;dbl&gt; | hair_color &lt;chr&gt; | skin_color &lt;chr&gt; | eye_color &lt;chr&gt; | birth_year &lt;dbl&gt; | sex &lt;chr&gt; | gender &lt;chr&gt; | homeworld &lt;chr&gt; | species &lt;chr&gt; |\n",
       "|---|---|---|---|---|---|---|---|---|---|---|\n",
       "| Luke Skywalker | 172 | 77 | blond | fair        | blue   |  19 | male | masculine | Tatooine | Human |\n",
       "| C-3PO          | 167 | 75 | NA    | gold        | yellow | 112 | none | masculine | Tatooine | Droid |\n",
       "| R2-D2          |  96 | 32 | NA    | white, blue | red    |  33 | none | masculine | Naboo    | Droid |\n",
       "\n"
      ],
      "text/plain": [
       "  name           height mass hair_color skin_color  eye_color birth_year sex \n",
       "1 Luke Skywalker 172    77   blond      fair        blue       19        male\n",
       "2 C-3PO          167    75   NA         gold        yellow    112        none\n",
       "3 R2-D2           96    32   NA         white, blue red        33        none\n",
       "  gender    homeworld species\n",
       "1 masculine Tatooine  Human  \n",
       "2 masculine Tatooine  Droid  \n",
       "3 masculine Naboo     Droid  "
      ]
     },
     "metadata": {},
     "output_type": "display_data"
    }
   ],
   "source": [
    "starwars.filters %>% slice_head(n = 3)"
   ]
  },
  {
   "cell_type": "code",
   "execution_count": 54,
   "id": "b74da5ec",
   "metadata": {
    "vscode": {
     "languageId": "r"
    }
   },
   "outputs": [
    {
     "data": {
      "text/html": [
       "<table class=\"dataframe\">\n",
       "<caption>A tibble: 3 × 11</caption>\n",
       "<thead>\n",
       "\t<tr><th scope=col>name</th><th scope=col>height</th><th scope=col>mass</th><th scope=col>hair_color</th><th scope=col>skin_color</th><th scope=col>eye_color</th><th scope=col>birth_year</th><th scope=col>sex</th><th scope=col>gender</th><th scope=col>homeworld</th><th scope=col>species</th></tr>\n",
       "\t<tr><th scope=col>&lt;chr&gt;</th><th scope=col>&lt;int&gt;</th><th scope=col>&lt;dbl&gt;</th><th scope=col>&lt;chr&gt;</th><th scope=col>&lt;chr&gt;</th><th scope=col>&lt;chr&gt;</th><th scope=col>&lt;dbl&gt;</th><th scope=col>&lt;chr&gt;</th><th scope=col>&lt;chr&gt;</th><th scope=col>&lt;chr&gt;</th><th scope=col>&lt;chr&gt;</th></tr>\n",
       "</thead>\n",
       "<tbody>\n",
       "\t<tr><td>Luke Skywalker</td><td>172</td><td>77</td><td>blond</td><td>fair       </td><td>blue  </td><td> 19</td><td>male</td><td>masculine</td><td>Tatooine</td><td>Human</td></tr>\n",
       "\t<tr><td>C-3PO         </td><td>167</td><td>75</td><td>NA   </td><td>gold       </td><td>yellow</td><td>112</td><td>none</td><td>masculine</td><td>Tatooine</td><td>Droid</td></tr>\n",
       "\t<tr><td>R2-D2         </td><td> 96</td><td>32</td><td>NA   </td><td>white, blue</td><td>red   </td><td> 33</td><td>none</td><td>masculine</td><td>Naboo   </td><td>Droid</td></tr>\n",
       "</tbody>\n",
       "</table>\n"
      ],
      "text/latex": [
       "A tibble: 3 × 11\n",
       "\\begin{tabular}{lllllllllll}\n",
       " name & height & mass & hair\\_color & skin\\_color & eye\\_color & birth\\_year & sex & gender & homeworld & species\\\\\n",
       " <chr> & <int> & <dbl> & <chr> & <chr> & <chr> & <dbl> & <chr> & <chr> & <chr> & <chr>\\\\\n",
       "\\hline\n",
       "\t Luke Skywalker & 172 & 77 & blond & fair        & blue   &  19 & male & masculine & Tatooine & Human\\\\\n",
       "\t C-3PO          & 167 & 75 & NA    & gold        & yellow & 112 & none & masculine & Tatooine & Droid\\\\\n",
       "\t R2-D2          &  96 & 32 & NA    & white, blue & red    &  33 & none & masculine & Naboo    & Droid\\\\\n",
       "\\end{tabular}\n"
      ],
      "text/markdown": [
       "\n",
       "A tibble: 3 × 11\n",
       "\n",
       "| name &lt;chr&gt; | height &lt;int&gt; | mass &lt;dbl&gt; | hair_color &lt;chr&gt; | skin_color &lt;chr&gt; | eye_color &lt;chr&gt; | birth_year &lt;dbl&gt; | sex &lt;chr&gt; | gender &lt;chr&gt; | homeworld &lt;chr&gt; | species &lt;chr&gt; |\n",
       "|---|---|---|---|---|---|---|---|---|---|---|\n",
       "| Luke Skywalker | 172 | 77 | blond | fair        | blue   |  19 | male | masculine | Tatooine | Human |\n",
       "| C-3PO          | 167 | 75 | NA    | gold        | yellow | 112 | none | masculine | Tatooine | Droid |\n",
       "| R2-D2          |  96 | 32 | NA    | white, blue | red    |  33 | none | masculine | Naboo    | Droid |\n",
       "\n"
      ],
      "text/plain": [
       "  name           height mass hair_color skin_color  eye_color birth_year sex \n",
       "1 Luke Skywalker 172    77   blond      fair        blue       19        male\n",
       "2 C-3PO          167    75   NA         gold        yellow    112        none\n",
       "3 R2-D2           96    32   NA         white, blue red        33        none\n",
       "  gender    homeworld species\n",
       "1 masculine Tatooine  Human  \n",
       "2 masculine Tatooine  Droid  \n",
       "3 masculine Naboo     Droid  "
      ]
     },
     "metadata": {},
     "output_type": "display_data"
    }
   ],
   "source": [
    "starwars.filters %>% head(3)"
   ]
  },
  {
   "cell_type": "code",
   "execution_count": 55,
   "id": "21698d50",
   "metadata": {
    "vscode": {
     "languageId": "r"
    }
   },
   "outputs": [
    {
     "data": {
      "text/html": [
       "<table class=\"dataframe\">\n",
       "<caption>A tibble: 5 × 11</caption>\n",
       "<thead>\n",
       "\t<tr><th scope=col>name</th><th scope=col>height</th><th scope=col>mass</th><th scope=col>hair_color</th><th scope=col>skin_color</th><th scope=col>eye_color</th><th scope=col>birth_year</th><th scope=col>sex</th><th scope=col>gender</th><th scope=col>homeworld</th><th scope=col>species</th></tr>\n",
       "\t<tr><th scope=col>&lt;chr&gt;</th><th scope=col>&lt;int&gt;</th><th scope=col>&lt;dbl&gt;</th><th scope=col>&lt;chr&gt;</th><th scope=col>&lt;chr&gt;</th><th scope=col>&lt;chr&gt;</th><th scope=col>&lt;dbl&gt;</th><th scope=col>&lt;chr&gt;</th><th scope=col>&lt;chr&gt;</th><th scope=col>&lt;chr&gt;</th><th scope=col>&lt;chr&gt;</th></tr>\n",
       "</thead>\n",
       "<tbody>\n",
       "\t<tr><td>Palpatine         </td><td>170</td><td> 75</td><td>grey </td><td>pale </td><td>yellow </td><td>82</td><td>male  </td><td>masculine</td><td>Naboo     </td><td>Human</td></tr>\n",
       "\t<tr><td>Beru Whitesun Lars</td><td>165</td><td> 75</td><td>brown</td><td>light</td><td>blue   </td><td>47</td><td>female</td><td>feminine </td><td>Tatooine  </td><td>Human</td></tr>\n",
       "\t<tr><td>Captain Phasma    </td><td> NA</td><td> NA</td><td>none </td><td>none </td><td>unknown</td><td>NA</td><td>female</td><td>feminine </td><td>NA        </td><td>Human</td></tr>\n",
       "\t<tr><td>Raymus Antilles   </td><td>188</td><td> 79</td><td>brown</td><td>light</td><td>brown  </td><td>NA</td><td>male  </td><td>masculine</td><td>Alderaan  </td><td>Human</td></tr>\n",
       "\t<tr><td>Jek Tono Porkins  </td><td>180</td><td>110</td><td>brown</td><td>fair </td><td>blue   </td><td>NA</td><td>NA    </td><td>NA       </td><td>Bestine IV</td><td>NA   </td></tr>\n",
       "</tbody>\n",
       "</table>\n"
      ],
      "text/latex": [
       "A tibble: 5 × 11\n",
       "\\begin{tabular}{lllllllllll}\n",
       " name & height & mass & hair\\_color & skin\\_color & eye\\_color & birth\\_year & sex & gender & homeworld & species\\\\\n",
       " <chr> & <int> & <dbl> & <chr> & <chr> & <chr> & <dbl> & <chr> & <chr> & <chr> & <chr>\\\\\n",
       "\\hline\n",
       "\t Palpatine          & 170 &  75 & grey  & pale  & yellow  & 82 & male   & masculine & Naboo      & Human\\\\\n",
       "\t Beru Whitesun Lars & 165 &  75 & brown & light & blue    & 47 & female & feminine  & Tatooine   & Human\\\\\n",
       "\t Captain Phasma     &  NA &  NA & none  & none  & unknown & NA & female & feminine  & NA         & Human\\\\\n",
       "\t Raymus Antilles    & 188 &  79 & brown & light & brown   & NA & male   & masculine & Alderaan   & Human\\\\\n",
       "\t Jek Tono Porkins   & 180 & 110 & brown & fair  & blue    & NA & NA     & NA        & Bestine IV & NA   \\\\\n",
       "\\end{tabular}\n"
      ],
      "text/markdown": [
       "\n",
       "A tibble: 5 × 11\n",
       "\n",
       "| name &lt;chr&gt; | height &lt;int&gt; | mass &lt;dbl&gt; | hair_color &lt;chr&gt; | skin_color &lt;chr&gt; | eye_color &lt;chr&gt; | birth_year &lt;dbl&gt; | sex &lt;chr&gt; | gender &lt;chr&gt; | homeworld &lt;chr&gt; | species &lt;chr&gt; |\n",
       "|---|---|---|---|---|---|---|---|---|---|---|\n",
       "| Palpatine          | 170 |  75 | grey  | pale  | yellow  | 82 | male   | masculine | Naboo      | Human |\n",
       "| Beru Whitesun Lars | 165 |  75 | brown | light | blue    | 47 | female | feminine  | Tatooine   | Human |\n",
       "| Captain Phasma     |  NA |  NA | none  | none  | unknown | NA | female | feminine  | NA         | Human |\n",
       "| Raymus Antilles    | 188 |  79 | brown | light | brown   | NA | male   | masculine | Alderaan   | Human |\n",
       "| Jek Tono Porkins   | 180 | 110 | brown | fair  | blue    | NA | NA     | NA        | Bestine IV | NA    |\n",
       "\n"
      ],
      "text/plain": [
       "  name               height mass hair_color skin_color eye_color birth_year\n",
       "1 Palpatine          170     75  grey       pale       yellow    82        \n",
       "2 Beru Whitesun Lars 165     75  brown      light      blue      47        \n",
       "3 Captain Phasma      NA     NA  none       none       unknown   NA        \n",
       "4 Raymus Antilles    188     79  brown      light      brown     NA        \n",
       "5 Jek Tono Porkins   180    110  brown      fair       blue      NA        \n",
       "  sex    gender    homeworld  species\n",
       "1 male   masculine Naboo      Human  \n",
       "2 female feminine  Tatooine   Human  \n",
       "3 female feminine  NA         Human  \n",
       "4 male   masculine Alderaan   Human  \n",
       "5 NA     NA        Bestine IV NA     "
      ]
     },
     "metadata": {},
     "output_type": "display_data"
    }
   ],
   "source": [
    "starwars.filters %>% slice_sample(n = 5)"
   ]
  },
  {
   "cell_type": "code",
   "execution_count": 56,
   "id": "5b34189c",
   "metadata": {
    "vscode": {
     "languageId": "r"
    }
   },
   "outputs": [
    {
     "data": {
      "text/html": [
       "<table class=\"dataframe\">\n",
       "<caption>A tibble: 8 × 11</caption>\n",
       "<thead>\n",
       "\t<tr><th scope=col>name</th><th scope=col>height</th><th scope=col>mass</th><th scope=col>hair_color</th><th scope=col>skin_color</th><th scope=col>eye_color</th><th scope=col>birth_year</th><th scope=col>sex</th><th scope=col>gender</th><th scope=col>homeworld</th><th scope=col>species</th></tr>\n",
       "\t<tr><th scope=col>&lt;chr&gt;</th><th scope=col>&lt;int&gt;</th><th scope=col>&lt;dbl&gt;</th><th scope=col>&lt;chr&gt;</th><th scope=col>&lt;chr&gt;</th><th scope=col>&lt;chr&gt;</th><th scope=col>&lt;dbl&gt;</th><th scope=col>&lt;chr&gt;</th><th scope=col>&lt;chr&gt;</th><th scope=col>&lt;chr&gt;</th><th scope=col>&lt;chr&gt;</th></tr>\n",
       "</thead>\n",
       "<tbody>\n",
       "\t<tr><td>Bossk             </td><td>190</td><td>113</td><td>none       </td><td>green     </td><td>red   </td><td>53</td><td>male  </td><td>masculine</td><td>Trandosha  </td><td>Trandoshan</td></tr>\n",
       "\t<tr><td>Dud Bolt          </td><td> 94</td><td> 45</td><td>none       </td><td>blue, grey</td><td>yellow</td><td>NA</td><td>male  </td><td>masculine</td><td>Vulpter    </td><td>Vulptereen</td></tr>\n",
       "\t<tr><td>Dexter Jettster   </td><td>198</td><td>102</td><td>none       </td><td>brown     </td><td>yellow</td><td>NA</td><td>male  </td><td>masculine</td><td>Ojom       </td><td>Besalisk  </td></tr>\n",
       "\t<tr><td>Kit Fisto         </td><td>196</td><td> 87</td><td>none       </td><td>green     </td><td>black </td><td>NA</td><td>male  </td><td>masculine</td><td>Glee Anselm</td><td>Nautolan  </td></tr>\n",
       "\t<tr><td>Beru Whitesun Lars</td><td>165</td><td> 75</td><td>brown      </td><td>light     </td><td>blue  </td><td>47</td><td>female</td><td>feminine </td><td>Tatooine   </td><td>Human     </td></tr>\n",
       "\t<tr><td>Jek Tono Porkins  </td><td>180</td><td>110</td><td>brown      </td><td>fair      </td><td>blue  </td><td>NA</td><td>NA    </td><td>NA       </td><td>Bestine IV </td><td>NA        </td></tr>\n",
       "\t<tr><td>Owen Lars         </td><td>178</td><td>120</td><td>brown, grey</td><td>light     </td><td>blue  </td><td>52</td><td>male  </td><td>masculine</td><td>Tatooine   </td><td>Human     </td></tr>\n",
       "\t<tr><td>Finis Valorum     </td><td>170</td><td> NA</td><td>blond      </td><td>fair      </td><td>blue  </td><td>91</td><td>male  </td><td>masculine</td><td>Coruscant  </td><td>Human     </td></tr>\n",
       "</tbody>\n",
       "</table>\n"
      ],
      "text/latex": [
       "A tibble: 8 × 11\n",
       "\\begin{tabular}{lllllllllll}\n",
       " name & height & mass & hair\\_color & skin\\_color & eye\\_color & birth\\_year & sex & gender & homeworld & species\\\\\n",
       " <chr> & <int> & <dbl> & <chr> & <chr> & <chr> & <dbl> & <chr> & <chr> & <chr> & <chr>\\\\\n",
       "\\hline\n",
       "\t Bossk              & 190 & 113 & none        & green      & red    & 53 & male   & masculine & Trandosha   & Trandoshan\\\\\n",
       "\t Dud Bolt           &  94 &  45 & none        & blue, grey & yellow & NA & male   & masculine & Vulpter     & Vulptereen\\\\\n",
       "\t Dexter Jettster    & 198 & 102 & none        & brown      & yellow & NA & male   & masculine & Ojom        & Besalisk  \\\\\n",
       "\t Kit Fisto          & 196 &  87 & none        & green      & black  & NA & male   & masculine & Glee Anselm & Nautolan  \\\\\n",
       "\t Beru Whitesun Lars & 165 &  75 & brown       & light      & blue   & 47 & female & feminine  & Tatooine    & Human     \\\\\n",
       "\t Jek Tono Porkins   & 180 & 110 & brown       & fair       & blue   & NA & NA     & NA        & Bestine IV  & NA        \\\\\n",
       "\t Owen Lars          & 178 & 120 & brown, grey & light      & blue   & 52 & male   & masculine & Tatooine    & Human     \\\\\n",
       "\t Finis Valorum      & 170 &  NA & blond       & fair       & blue   & 91 & male   & masculine & Coruscant   & Human     \\\\\n",
       "\\end{tabular}\n"
      ],
      "text/markdown": [
       "\n",
       "A tibble: 8 × 11\n",
       "\n",
       "| name &lt;chr&gt; | height &lt;int&gt; | mass &lt;dbl&gt; | hair_color &lt;chr&gt; | skin_color &lt;chr&gt; | eye_color &lt;chr&gt; | birth_year &lt;dbl&gt; | sex &lt;chr&gt; | gender &lt;chr&gt; | homeworld &lt;chr&gt; | species &lt;chr&gt; |\n",
       "|---|---|---|---|---|---|---|---|---|---|---|\n",
       "| Bossk              | 190 | 113 | none        | green      | red    | 53 | male   | masculine | Trandosha   | Trandoshan |\n",
       "| Dud Bolt           |  94 |  45 | none        | blue, grey | yellow | NA | male   | masculine | Vulpter     | Vulptereen |\n",
       "| Dexter Jettster    | 198 | 102 | none        | brown      | yellow | NA | male   | masculine | Ojom        | Besalisk   |\n",
       "| Kit Fisto          | 196 |  87 | none        | green      | black  | NA | male   | masculine | Glee Anselm | Nautolan   |\n",
       "| Beru Whitesun Lars | 165 |  75 | brown       | light      | blue   | 47 | female | feminine  | Tatooine    | Human      |\n",
       "| Jek Tono Porkins   | 180 | 110 | brown       | fair       | blue   | NA | NA     | NA        | Bestine IV  | NA         |\n",
       "| Owen Lars          | 178 | 120 | brown, grey | light      | blue   | 52 | male   | masculine | Tatooine    | Human      |\n",
       "| Finis Valorum      | 170 |  NA | blond       | fair       | blue   | 91 | male   | masculine | Coruscant   | Human      |\n",
       "\n"
      ],
      "text/plain": [
       "  name               height mass hair_color  skin_color eye_color birth_year\n",
       "1 Bossk              190    113  none        green      red       53        \n",
       "2 Dud Bolt            94     45  none        blue, grey yellow    NA        \n",
       "3 Dexter Jettster    198    102  none        brown      yellow    NA        \n",
       "4 Kit Fisto          196     87  none        green      black     NA        \n",
       "5 Beru Whitesun Lars 165     75  brown       light      blue      47        \n",
       "6 Jek Tono Porkins   180    110  brown       fair       blue      NA        \n",
       "7 Owen Lars          178    120  brown, grey light      blue      52        \n",
       "8 Finis Valorum      170     NA  blond       fair       blue      91        \n",
       "  sex    gender    homeworld   species   \n",
       "1 male   masculine Trandosha   Trandoshan\n",
       "2 male   masculine Vulpter     Vulptereen\n",
       "3 male   masculine Ojom        Besalisk  \n",
       "4 male   masculine Glee Anselm Nautolan  \n",
       "5 female feminine  Tatooine    Human     \n",
       "6 NA     NA        Bestine IV  NA        \n",
       "7 male   masculine Tatooine    Human     \n",
       "8 male   masculine Coruscant   Human     "
      ]
     },
     "metadata": {},
     "output_type": "display_data"
    }
   ],
   "source": [
    "starwars.filters %>% slice_sample(prop = 0.1)"
   ]
  },
  {
   "cell_type": "code",
   "execution_count": null,
   "id": "af80608b",
   "metadata": {
    "vscode": {
     "languageId": "r"
    }
   },
   "outputs": [],
   "source": []
  }
 ],
 "metadata": {
  "kernelspec": {
   "display_name": "R",
   "language": "R",
   "name": "ir"
  },
  "language_info": {
   "codemirror_mode": "r",
   "file_extension": ".r",
   "mimetype": "text/x-r-source",
   "name": "R",
   "pygments_lexer": "r",
   "version": "4.5.1"
  }
 },
 "nbformat": 4,
 "nbformat_minor": 5
}
