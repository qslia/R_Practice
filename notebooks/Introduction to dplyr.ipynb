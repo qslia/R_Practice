{
 "cells": [
  {
   "cell_type": "code",
   "execution_count": 6,
   "id": "f2951c64",
   "metadata": {
    "vscode": {
     "languageId": "r"
    }
   },
   "outputs": [
    {
     "data": {
      "text/html": [
       "<style>\n",
       ".list-inline {list-style: none; margin:0; padding: 0}\n",
       ".list-inline>li {display: inline-block}\n",
       ".list-inline>li:not(:last-child)::after {content: \"\\00b7\"; padding: 0 .5ex}\n",
       "</style>\n",
       "<ol class=list-inline><li>87</li><li>14</li></ol>\n"
      ],
      "text/latex": [
       "\\begin{enumerate*}\n",
       "\\item 87\n",
       "\\item 14\n",
       "\\end{enumerate*}\n"
      ],
      "text/markdown": [
       "1. 87\n",
       "2. 14\n",
       "\n",
       "\n"
      ],
      "text/plain": [
       "[1] 87 14"
      ]
     },
     "metadata": {},
     "output_type": "display_data"
    }
   ],
   "source": [
    "# Load the dplyr library\n",
    "library(dplyr)\n",
    "\n",
    "# Check the dimensions of the starwars dataset\n",
    "dim(starwars)"
   ]
  },
  {
   "cell_type": "code",
   "execution_count": 12,
   "id": "39ea707f",
   "metadata": {
    "vscode": {
     "languageId": "r"
    }
   },
   "outputs": [
    {
     "name": "stdout",
     "output_type": "stream",
     "text": [
      "tibble [87 × 14] (S3: tbl_df/tbl/data.frame)\n",
      " $ name      : chr [1:87] \"Luke Skywalker\" \"C-3PO\" \"R2-D2\" \"Darth Vader\" ...\n",
      " $ height    : int [1:87] 172 167 96 202 150 178 165 97 183 182 ...\n",
      " $ mass      : num [1:87] 77 75 32 136 49 120 75 32 84 77 ...\n",
      " $ hair_color: chr [1:87] \"blond\" NA NA \"none\" ...\n",
      " $ skin_color: chr [1:87] \"fair\" \"gold\" \"white, blue\" \"white\" ...\n",
      " $ eye_color : chr [1:87] \"blue\" \"yellow\" \"red\" \"yellow\" ...\n",
      " $ birth_year: num [1:87] 19 112 33 41.9 19 52 47 NA 24 57 ...\n",
      " $ sex       : chr [1:87] \"male\" \"none\" \"none\" \"male\" ...\n",
      " $ gender    : chr [1:87] \"masculine\" \"masculine\" \"masculine\" \"masculine\" ...\n",
      " $ homeworld : chr [1:87] \"Tatooine\" \"Tatooine\" \"Naboo\" \"Tatooine\" ...\n",
      " $ species   : chr [1:87] \"Human\" \"Droid\" \"Droid\" \"Human\" ...\n",
      " $ films     :List of 87\n",
      "  ..$ : chr [1:5] \"A New Hope\" \"The Empire Strikes Back\" \"Return of the Jedi\" \"Revenge of the Sith\" ...\n",
      "  ..$ : chr [1:6] \"A New Hope\" \"The Empire Strikes Back\" \"Return of the Jedi\" \"The Phantom Menace\" ...\n",
      "  ..$ : chr [1:7] \"A New Hope\" \"The Empire Strikes Back\" \"Return of the Jedi\" \"The Phantom Menace\" ...\n",
      "  ..$ : chr [1:4] \"A New Hope\" \"The Empire Strikes Back\" \"Return of the Jedi\" \"Revenge of the Sith\"\n",
      "  ..$ : chr [1:5] \"A New Hope\" \"The Empire Strikes Back\" \"Return of the Jedi\" \"Revenge of the Sith\" ...\n",
      "  ..$ : chr [1:3] \"A New Hope\" \"Attack of the Clones\" \"Revenge of the Sith\"\n",
      "  ..$ : chr [1:3] \"A New Hope\" \"Attack of the Clones\" \"Revenge of the Sith\"\n",
      "  ..$ : chr \"A New Hope\"\n",
      "  ..$ : chr \"A New Hope\"\n",
      "  ..$ : chr [1:6] \"A New Hope\" \"The Empire Strikes Back\" \"Return of the Jedi\" \"The Phantom Menace\" ...\n",
      "  ..$ : chr [1:3] \"The Phantom Menace\" \"Attack of the Clones\" \"Revenge of the Sith\"\n",
      "  ..$ : chr [1:2] \"A New Hope\" \"Revenge of the Sith\"\n",
      "  ..$ : chr [1:5] \"A New Hope\" \"The Empire Strikes Back\" \"Return of the Jedi\" \"Revenge of the Sith\" ...\n",
      "  ..$ : chr [1:4] \"A New Hope\" \"The Empire Strikes Back\" \"Return of the Jedi\" \"The Force Awakens\"\n",
      "  ..$ : chr \"A New Hope\"\n",
      "  ..$ : chr [1:3] \"A New Hope\" \"Return of the Jedi\" \"The Phantom Menace\"\n",
      "  ..$ : chr [1:3] \"A New Hope\" \"The Empire Strikes Back\" \"Return of the Jedi\"\n",
      "  ..$ : chr \"A New Hope\"\n",
      "  ..$ : chr [1:5] \"The Empire Strikes Back\" \"Return of the Jedi\" \"The Phantom Menace\" \"Attack of the Clones\" ...\n",
      "  ..$ : chr [1:5] \"The Empire Strikes Back\" \"Return of the Jedi\" \"The Phantom Menace\" \"Attack of the Clones\" ...\n",
      "  ..$ : chr [1:3] \"The Empire Strikes Back\" \"Return of the Jedi\" \"Attack of the Clones\"\n",
      "  ..$ : chr \"The Empire Strikes Back\"\n",
      "  ..$ : chr \"The Empire Strikes Back\"\n",
      "  ..$ : chr [1:2] \"The Empire Strikes Back\" \"Return of the Jedi\"\n",
      "  ..$ : chr \"The Empire Strikes Back\"\n",
      "  ..$ : chr [1:2] \"Return of the Jedi\" \"The Force Awakens\"\n",
      "  ..$ : chr \"Return of the Jedi\"\n",
      "  ..$ : chr \"Return of the Jedi\"\n",
      "  ..$ : chr \"Return of the Jedi\"\n",
      "  ..$ : chr \"Return of the Jedi\"\n",
      "  ..$ : chr \"The Phantom Menace\"\n",
      "  ..$ : chr [1:3] \"The Phantom Menace\" \"Attack of the Clones\" \"Revenge of the Sith\"\n",
      "  ..$ : chr \"The Phantom Menace\"\n",
      "  ..$ : chr [1:3] \"The Phantom Menace\" \"Attack of the Clones\" \"Revenge of the Sith\"\n",
      "  ..$ : chr [1:2] \"The Phantom Menace\" \"Attack of the Clones\"\n",
      "  ..$ : chr \"The Phantom Menace\"\n",
      "  ..$ : chr \"The Phantom Menace\"\n",
      "  ..$ : chr \"The Phantom Menace\"\n",
      "  ..$ : chr [1:2] \"The Phantom Menace\" \"Attack of the Clones\"\n",
      "  ..$ : chr \"The Phantom Menace\"\n",
      "  ..$ : chr \"The Phantom Menace\"\n",
      "  ..$ : chr [1:2] \"The Phantom Menace\" \"Attack of the Clones\"\n",
      "  ..$ : chr \"The Phantom Menace\"\n",
      "  ..$ : chr \"Return of the Jedi\"\n",
      "  ..$ : chr [1:3] \"The Phantom Menace\" \"Attack of the Clones\" \"Revenge of the Sith\"\n",
      "  ..$ : chr \"The Phantom Menace\"\n",
      "  ..$ : chr \"The Phantom Menace\"\n",
      "  ..$ : chr \"The Phantom Menace\"\n",
      "  ..$ : chr \"The Phantom Menace\"\n",
      "  ..$ : chr [1:3] \"The Phantom Menace\" \"Attack of the Clones\" \"Revenge of the Sith\"\n",
      "  ..$ : chr [1:3] \"The Phantom Menace\" \"Attack of the Clones\" \"Revenge of the Sith\"\n",
      "  ..$ : chr [1:3] \"The Phantom Menace\" \"Attack of the Clones\" \"Revenge of the Sith\"\n",
      "  ..$ : chr [1:2] \"The Phantom Menace\" \"Revenge of the Sith\"\n",
      "  ..$ : chr [1:2] \"The Phantom Menace\" \"Revenge of the Sith\"\n",
      "  ..$ : chr [1:2] \"The Phantom Menace\" \"Revenge of the Sith\"\n",
      "  ..$ : chr \"The Phantom Menace\"\n",
      "  ..$ : chr [1:3] \"The Phantom Menace\" \"Attack of the Clones\" \"Revenge of the Sith\"\n",
      "  ..$ : chr [1:2] \"The Phantom Menace\" \"Attack of the Clones\"\n",
      "  ..$ : chr \"Attack of the Clones\"\n",
      "  ..$ : chr \"Attack of the Clones\"\n",
      "  ..$ : chr \"Attack of the Clones\"\n",
      "  ..$ : chr [1:2] \"Attack of the Clones\" \"Revenge of the Sith\"\n",
      "  ..$ : chr [1:2] \"Attack of the Clones\" \"Revenge of the Sith\"\n",
      "  ..$ : chr \"Attack of the Clones\"\n",
      "  ..$ : chr \"Attack of the Clones\"\n",
      "  ..$ : chr [1:2] \"Attack of the Clones\" \"Revenge of the Sith\"\n",
      "  ..$ : chr [1:2] \"Attack of the Clones\" \"Revenge of the Sith\"\n",
      "  ..$ : chr \"Attack of the Clones\"\n",
      "  ..$ : chr \"Attack of the Clones\"\n",
      "  ..$ : chr \"Attack of the Clones\"\n",
      "  ..$ : chr \"Attack of the Clones\"\n",
      "  ..$ : chr \"Attack of the Clones\"\n",
      "  ..$ : chr \"Attack of the Clones\"\n",
      "  ..$ : chr [1:2] \"Attack of the Clones\" \"Revenge of the Sith\"\n",
      "  ..$ : chr \"Attack of the Clones\"\n",
      "  ..$ : chr \"Attack of the Clones\"\n",
      "  ..$ : chr [1:2] \"Attack of the Clones\" \"Revenge of the Sith\"\n",
      "  ..$ : chr \"Revenge of the Sith\"\n",
      "  ..$ : chr \"Revenge of the Sith\"\n",
      "  ..$ : chr [1:2] \"A New Hope\" \"Revenge of the Sith\"\n",
      "  ..$ : chr [1:2] \"Attack of the Clones\" \"Revenge of the Sith\"\n",
      "  ..$ : chr \"Revenge of the Sith\"\n",
      "  ..$ : chr \"The Force Awakens\"\n",
      "  ..$ : chr \"The Force Awakens\"\n",
      "  ..$ : chr \"The Force Awakens\"\n",
      "  ..$ : chr \"The Force Awakens\"\n",
      "  ..$ : chr \"The Force Awakens\"\n",
      " $ vehicles  :List of 87\n",
      "  ..$ : chr [1:2] \"Snowspeeder\" \"Imperial Speeder Bike\"\n",
      "  ..$ : chr(0) \n",
      "  ..$ : chr(0) \n",
      "  ..$ : chr(0) \n",
      "  ..$ : chr \"Imperial Speeder Bike\"\n",
      "  ..$ : chr(0) \n",
      "  ..$ : chr(0) \n",
      "  ..$ : chr(0) \n",
      "  ..$ : chr(0) \n",
      "  ..$ : chr \"Tribubble bongo\"\n",
      "  ..$ : chr [1:2] \"Zephyr-G swoop bike\" \"XJ-6 airspeeder\"\n",
      "  ..$ : chr(0) \n",
      "  ..$ : chr \"AT-ST\"\n",
      "  ..$ : chr(0) \n",
      "  ..$ : chr(0) \n",
      "  ..$ : chr(0) \n",
      "  ..$ : chr \"Snowspeeder\"\n",
      "  ..$ : chr(0) \n",
      "  ..$ : chr(0) \n",
      "  ..$ : chr(0) \n",
      "  ..$ : chr(0) \n",
      "  ..$ : chr(0) \n",
      "  ..$ : chr(0) \n",
      "  ..$ : chr(0) \n",
      "  ..$ : chr(0) \n",
      "  ..$ : chr(0) \n",
      "  ..$ : chr(0) \n",
      "  ..$ : chr(0) \n",
      "  ..$ : chr(0) \n",
      "  ..$ : chr(0) \n",
      "  ..$ : chr \"Tribubble bongo\"\n",
      "  ..$ : chr(0) \n",
      "  ..$ : chr(0) \n",
      "  ..$ : chr(0) \n",
      "  ..$ : chr(0) \n",
      "  ..$ : chr(0) \n",
      "  ..$ : chr(0) \n",
      "  ..$ : chr(0) \n",
      "  ..$ : chr(0) \n",
      "  ..$ : chr(0) \n",
      "  ..$ : chr(0) \n",
      "  ..$ : chr(0) \n",
      "  ..$ : chr \"Sith speeder\"\n",
      "  ..$ : chr(0) \n",
      "  ..$ : chr(0) \n",
      "  ..$ : chr(0) \n",
      "  ..$ : chr(0) \n",
      "  ..$ : chr(0) \n",
      "  ..$ : chr(0) \n",
      "  ..$ : chr(0) \n",
      "  ..$ : chr(0) \n",
      "  ..$ : chr(0) \n",
      "  ..$ : chr(0) \n",
      "  ..$ : chr(0) \n",
      "  ..$ : chr(0) \n",
      "  ..$ : chr(0) \n",
      "  ..$ : chr(0) \n",
      "  ..$ : chr(0) \n",
      "  ..$ : chr(0) \n",
      "  ..$ : chr(0) \n",
      "  ..$ : chr(0) \n",
      "  ..$ : chr(0) \n",
      "  ..$ : chr(0) \n",
      "  ..$ : chr(0) \n",
      "  ..$ : chr(0) \n",
      "  ..$ : chr \"Flitknot speeder\"\n",
      "  ..$ : chr(0) \n",
      "  ..$ : chr(0) \n",
      "  ..$ : chr \"Koro-2 Exodrive airspeeder\"\n",
      "  ..$ : chr(0) \n",
      "  ..$ : chr(0) \n",
      "  ..$ : chr(0) \n",
      "  ..$ : chr(0) \n",
      "  ..$ : chr(0) \n",
      "  ..$ : chr(0) \n",
      "  ..$ : chr(0) \n",
      "  ..$ : chr(0) \n",
      "  ..$ : chr \"Tsmeu-6 personal wheel bike\"\n",
      "  ..$ : chr(0) \n",
      "  ..$ : chr(0) \n",
      "  ..$ : chr(0) \n",
      "  ..$ : chr(0) \n",
      "  ..$ : chr(0) \n",
      "  ..$ : chr(0) \n",
      "  ..$ : chr(0) \n",
      "  ..$ : chr(0) \n",
      "  ..$ : chr(0) \n",
      " $ starships :List of 87\n",
      "  ..$ : chr [1:2] \"X-wing\" \"Imperial shuttle\"\n",
      "  ..$ : chr(0) \n",
      "  ..$ : chr(0) \n",
      "  ..$ : chr \"TIE Advanced x1\"\n",
      "  ..$ : chr(0) \n",
      "  ..$ : chr(0) \n",
      "  ..$ : chr(0) \n",
      "  ..$ : chr(0) \n",
      "  ..$ : chr \"X-wing\"\n",
      "  ..$ : chr [1:5] \"Jedi starfighter\" \"Trade Federation cruiser\" \"Naboo star skiff\" \"Jedi Interceptor\" ...\n",
      "  ..$ : chr [1:3] \"Naboo fighter\" \"Trade Federation cruiser\" \"Jedi Interceptor\"\n",
      "  ..$ : chr(0) \n",
      "  ..$ : chr [1:2] \"Millennium Falcon\" \"Imperial shuttle\"\n",
      "  ..$ : chr [1:2] \"Millennium Falcon\" \"Imperial shuttle\"\n",
      "  ..$ : chr(0) \n",
      "  ..$ : chr(0) \n",
      "  ..$ : chr \"X-wing\"\n",
      "  ..$ : chr \"X-wing\"\n",
      "  ..$ : chr(0) \n",
      "  ..$ : chr(0) \n",
      "  ..$ : chr \"Slave 1\"\n",
      "  ..$ : chr(0) \n",
      "  ..$ : chr(0) \n",
      "  ..$ : chr \"Millennium Falcon\"\n",
      "  ..$ : chr(0) \n",
      "  ..$ : chr(0) \n",
      "  ..$ : chr(0) \n",
      "  ..$ : chr \"A-wing\"\n",
      "  ..$ : chr(0) \n",
      "  ..$ : chr \"Millennium Falcon\"\n",
      "  ..$ : chr(0) \n",
      "  ..$ : chr(0) \n",
      "  ..$ : chr(0) \n",
      "  ..$ : chr [1:3] \"Naboo fighter\" \"H-type Nubian yacht\" \"Naboo star skiff\"\n",
      "  ..$ : chr(0) \n",
      "  ..$ : chr(0) \n",
      "  ..$ : chr(0) \n",
      "  ..$ : chr \"Naboo Royal Starship\"\n",
      "  ..$ : chr(0) \n",
      "  ..$ : chr(0) \n",
      "  ..$ : chr(0) \n",
      "  ..$ : chr(0) \n",
      "  ..$ : chr \"Scimitar\"\n",
      "  ..$ : chr(0) \n",
      "  ..$ : chr(0) \n",
      "  ..$ : chr(0) \n",
      "  ..$ : chr(0) \n",
      "  ..$ : chr(0) \n",
      "  ..$ : chr(0) \n",
      "  ..$ : chr(0) \n",
      "  ..$ : chr(0) \n",
      "  ..$ : chr(0) \n",
      "  ..$ : chr(0) \n",
      "  ..$ : chr(0) \n",
      "  ..$ : chr(0) \n",
      "  ..$ : chr(0) \n",
      "  ..$ : chr \"Jedi starfighter\"\n",
      "  ..$ : chr(0) \n",
      "  ..$ : chr \"Naboo fighter\"\n",
      "  ..$ : chr(0) \n",
      "  ..$ : chr(0) \n",
      "  ..$ : chr(0) \n",
      "  ..$ : chr(0) \n",
      "  ..$ : chr(0) \n",
      "  ..$ : chr(0) \n",
      "  ..$ : chr(0) \n",
      "  ..$ : chr(0) \n",
      "  ..$ : chr(0) \n",
      "  ..$ : chr(0) \n",
      "  ..$ : chr(0) \n",
      "  ..$ : chr(0) \n",
      "  ..$ : chr(0) \n",
      "  ..$ : chr(0) \n",
      "  ..$ : chr(0) \n",
      "  ..$ : chr(0) \n",
      "  ..$ : chr(0) \n",
      "  ..$ : chr(0) \n",
      "  ..$ : chr \"Belbullab-22 starfighter\"\n",
      "  ..$ : chr(0) \n",
      "  ..$ : chr(0) \n",
      "  ..$ : chr(0) \n",
      "  ..$ : chr(0) \n",
      "  ..$ : chr(0) \n",
      "  ..$ : chr(0) \n",
      "  ..$ : chr \"X-wing\"\n",
      "  ..$ : chr(0) \n",
      "  ..$ : chr(0) \n"
     ]
    }
   ],
   "source": [
    "str(starwars)"
   ]
  },
  {
   "cell_type": "code",
   "execution_count": 20,
   "id": "d1f0a36f",
   "metadata": {
    "vscode": {
     "languageId": "r"
    }
   },
   "outputs": [
    {
     "name": "stdout",
     "output_type": "stream",
     "text": [
      "Rows: 87\n",
      "Columns: 14\n",
      "$ name       \u001b[3m\u001b[90m<chr>\u001b[39m\u001b[23m \"Luke Skywalker\"\u001b[90m, \u001b[39m\"C-3PO\"\u001b[90m, \u001b[39m\"R2-D2\"\u001b[90m, \u001b[39m\"Darth Vader\"\u001b[90m, \u001b[39m\"Leia Or…\n",
      "$ height     \u001b[3m\u001b[90m<int>\u001b[39m\u001b[23m 172\u001b[90m, \u001b[39m167\u001b[90m, \u001b[39m96\u001b[90m, \u001b[39m202\u001b[90m, \u001b[39m150\u001b[90m, \u001b[39m178\u001b[90m, \u001b[39m165\u001b[90m, \u001b[39m97\u001b[90m, \u001b[39m183\u001b[90m, \u001b[39m182\u001b[90m, \u001b[39m188\u001b[90m, \u001b[39m180\u001b[90m, \u001b[39m2…\n",
      "$ mass       \u001b[3m\u001b[90m<dbl>\u001b[39m\u001b[23m 77.0\u001b[90m, \u001b[39m75.0\u001b[90m, \u001b[39m32.0\u001b[90m, \u001b[39m136.0\u001b[90m, \u001b[39m49.0\u001b[90m, \u001b[39m120.0\u001b[90m, \u001b[39m75.0\u001b[90m, \u001b[39m32.0\u001b[90m, \u001b[39m84.0\u001b[90m, \u001b[39m77.…\n",
      "$ hair_color \u001b[3m\u001b[90m<chr>\u001b[39m\u001b[23m \"blond\"\u001b[90m, \u001b[39m\u001b[31mNA\u001b[39m\u001b[90m, \u001b[39m\u001b[31mNA\u001b[39m\u001b[90m, \u001b[39m\"none\"\u001b[90m, \u001b[39m\"brown\"\u001b[90m, \u001b[39m\"brown, grey\"\u001b[90m, \u001b[39m\"brown\"\u001b[90m, \u001b[39m\u001b[31mN\u001b[39m…\n",
      "$ skin_color \u001b[3m\u001b[90m<chr>\u001b[39m\u001b[23m \"fair\"\u001b[90m, \u001b[39m\"gold\"\u001b[90m, \u001b[39m\"white, blue\"\u001b[90m, \u001b[39m\"white\"\u001b[90m, \u001b[39m\"light\"\u001b[90m, \u001b[39m\"light\"\u001b[90m, \u001b[39m\"…\n",
      "$ eye_color  \u001b[3m\u001b[90m<chr>\u001b[39m\u001b[23m \"blue\"\u001b[90m, \u001b[39m\"yellow\"\u001b[90m, \u001b[39m\"red\"\u001b[90m, \u001b[39m\"yellow\"\u001b[90m, \u001b[39m\"brown\"\u001b[90m, \u001b[39m\"blue\"\u001b[90m, \u001b[39m\"blue\"\u001b[90m,\u001b[39m…\n",
      "$ birth_year \u001b[3m\u001b[90m<dbl>\u001b[39m\u001b[23m 19.0\u001b[90m, \u001b[39m112.0\u001b[90m, \u001b[39m33.0\u001b[90m, \u001b[39m41.9\u001b[90m, \u001b[39m19.0\u001b[90m, \u001b[39m52.0\u001b[90m, \u001b[39m47.0\u001b[90m, \u001b[39m\u001b[31mNA\u001b[39m\u001b[90m, \u001b[39m24.0\u001b[90m, \u001b[39m57.0\u001b[90m, \u001b[39m…\n",
      "$ sex        \u001b[3m\u001b[90m<chr>\u001b[39m\u001b[23m \"male\"\u001b[90m, \u001b[39m\"none\"\u001b[90m, \u001b[39m\"none\"\u001b[90m, \u001b[39m\"male\"\u001b[90m, \u001b[39m\"female\"\u001b[90m, \u001b[39m\"male\"\u001b[90m, \u001b[39m\"female\"\u001b[90m,\u001b[39m…\n",
      "$ gender     \u001b[3m\u001b[90m<chr>\u001b[39m\u001b[23m \"masculine\"\u001b[90m, \u001b[39m\"masculine\"\u001b[90m, \u001b[39m\"masculine\"\u001b[90m, \u001b[39m\"masculine\"\u001b[90m, \u001b[39m\"femini…\n",
      "$ homeworld  \u001b[3m\u001b[90m<chr>\u001b[39m\u001b[23m \"Tatooine\"\u001b[90m, \u001b[39m\"Tatooine\"\u001b[90m, \u001b[39m\"Naboo\"\u001b[90m, \u001b[39m\"Tatooine\"\u001b[90m, \u001b[39m\"Alderaan\"\u001b[90m, \u001b[39m\"T…\n",
      "$ species    \u001b[3m\u001b[90m<chr>\u001b[39m\u001b[23m \"Human\"\u001b[90m, \u001b[39m\"Droid\"\u001b[90m, \u001b[39m\"Droid\"\u001b[90m, \u001b[39m\"Human\"\u001b[90m, \u001b[39m\"Human\"\u001b[90m, \u001b[39m\"Human\"\u001b[90m, \u001b[39m\"Huma…\n",
      "$ films      \u001b[3m\u001b[90m<list>\u001b[39m\u001b[23m <\"A New Hope\", \"The Empire Strikes Back\", \"Return of the J…\n",
      "$ vehicles   \u001b[3m\u001b[90m<list>\u001b[39m\u001b[23m <\"Snowspeeder\", \"Imperial Speeder Bike\">\u001b[90m, \u001b[39m<>\u001b[90m, \u001b[39m<>\u001b[90m, \u001b[39m<>\u001b[90m, \u001b[39m\"Imp…\n",
      "$ starships  \u001b[3m\u001b[90m<list>\u001b[39m\u001b[23m <\"X-wing\", \"Imperial shuttle\">\u001b[90m, \u001b[39m<>\u001b[90m, \u001b[39m<>\u001b[90m, \u001b[39m\"TIE Advanced x1\"\u001b[90m,\u001b[39m…\n"
     ]
    }
   ],
   "source": [
    "# Get a glimpse of the dataset structure\n",
    "glimpse(starwars)"
   ]
  },
  {
   "cell_type": "code",
   "execution_count": 17,
   "id": "2773b10e",
   "metadata": {
    "vscode": {
     "languageId": "r"
    }
   },
   "outputs": [
    {
     "data": {
      "text/html": [
       "<style>\n",
       ".list-inline {list-style: none; margin:0; padding: 0}\n",
       ".list-inline>li {display: inline-block}\n",
       ".list-inline>li:not(:last-child)::after {content: \"\\00b7\"; padding: 0 .5ex}\n",
       "</style>\n",
       "<ol class=list-inline><li>'name'</li><li>'height'</li><li>'mass'</li><li>'hair_color'</li><li>'skin_color'</li><li>'eye_color'</li><li>'birth_year'</li><li>'sex'</li><li>'gender'</li><li>'homeworld'</li><li>'species'</li><li>'films'</li><li>'vehicles'</li><li>'starships'</li></ol>\n"
      ],
      "text/latex": [
       "\\begin{enumerate*}\n",
       "\\item 'name'\n",
       "\\item 'height'\n",
       "\\item 'mass'\n",
       "\\item 'hair\\_color'\n",
       "\\item 'skin\\_color'\n",
       "\\item 'eye\\_color'\n",
       "\\item 'birth\\_year'\n",
       "\\item 'sex'\n",
       "\\item 'gender'\n",
       "\\item 'homeworld'\n",
       "\\item 'species'\n",
       "\\item 'films'\n",
       "\\item 'vehicles'\n",
       "\\item 'starships'\n",
       "\\end{enumerate*}\n"
      ],
      "text/markdown": [
       "1. 'name'\n",
       "2. 'height'\n",
       "3. 'mass'\n",
       "4. 'hair_color'\n",
       "5. 'skin_color'\n",
       "6. 'eye_color'\n",
       "7. 'birth_year'\n",
       "8. 'sex'\n",
       "9. 'gender'\n",
       "10. 'homeworld'\n",
       "11. 'species'\n",
       "12. 'films'\n",
       "13. 'vehicles'\n",
       "14. 'starships'\n",
       "\n",
       "\n"
      ],
      "text/plain": [
       " [1] \"name\"       \"height\"     \"mass\"       \"hair_color\" \"skin_color\"\n",
       " [6] \"eye_color\"  \"birth_year\" \"sex\"        \"gender\"     \"homeworld\" \n",
       "[11] \"species\"    \"films\"      \"vehicles\"   \"starships\" "
      ]
     },
     "metadata": {},
     "output_type": "display_data"
    }
   ],
   "source": [
    "# Get column names\n",
    "names(starwars)"
   ]
  },
  {
   "cell_type": "code",
   "execution_count": 13,
   "id": "ce1e9dbf",
   "metadata": {
    "vscode": {
     "languageId": "r"
    }
   },
   "outputs": [
    {
     "data": {
      "text/html": [
       "<table class=\"dataframe\">\n",
       "<caption>A tibble: 6 × 11</caption>\n",
       "<thead>\n",
       "\t<tr><th scope=col>name</th><th scope=col>height</th><th scope=col>mass</th><th scope=col>hair_color</th><th scope=col>skin_color</th><th scope=col>eye_color</th><th scope=col>birth_year</th><th scope=col>sex</th><th scope=col>gender</th><th scope=col>homeworld</th><th scope=col>species</th></tr>\n",
       "\t<tr><th scope=col>&lt;chr&gt;</th><th scope=col>&lt;int&gt;</th><th scope=col>&lt;dbl&gt;</th><th scope=col>&lt;chr&gt;</th><th scope=col>&lt;chr&gt;</th><th scope=col>&lt;chr&gt;</th><th scope=col>&lt;dbl&gt;</th><th scope=col>&lt;chr&gt;</th><th scope=col>&lt;chr&gt;</th><th scope=col>&lt;chr&gt;</th><th scope=col>&lt;chr&gt;</th></tr>\n",
       "</thead>\n",
       "<tbody>\n",
       "\t<tr><td>Luke Skywalker</td><td>172</td><td> 77</td><td>blond      </td><td>fair       </td><td>blue  </td><td> 19.0</td><td>male  </td><td>masculine</td><td>Tatooine</td><td>Human</td></tr>\n",
       "\t<tr><td>C-3PO         </td><td>167</td><td> 75</td><td>NA         </td><td>gold       </td><td>yellow</td><td>112.0</td><td>none  </td><td>masculine</td><td>Tatooine</td><td>Droid</td></tr>\n",
       "\t<tr><td>R2-D2         </td><td> 96</td><td> 32</td><td>NA         </td><td>white, blue</td><td>red   </td><td> 33.0</td><td>none  </td><td>masculine</td><td>Naboo   </td><td>Droid</td></tr>\n",
       "\t<tr><td>Darth Vader   </td><td>202</td><td>136</td><td>none       </td><td>white      </td><td>yellow</td><td> 41.9</td><td>male  </td><td>masculine</td><td>Tatooine</td><td>Human</td></tr>\n",
       "\t<tr><td>Leia Organa   </td><td>150</td><td> 49</td><td>brown      </td><td>light      </td><td>brown </td><td> 19.0</td><td>female</td><td>feminine </td><td>Alderaan</td><td>Human</td></tr>\n",
       "\t<tr><td>Owen Lars     </td><td>178</td><td>120</td><td>brown, grey</td><td>light      </td><td>blue  </td><td> 52.0</td><td>male  </td><td>masculine</td><td>Tatooine</td><td>Human</td></tr>\n",
       "</tbody>\n",
       "</table>\n"
      ],
      "text/latex": [
       "A tibble: 6 × 11\n",
       "\\begin{tabular}{lllllllllll}\n",
       " name & height & mass & hair\\_color & skin\\_color & eye\\_color & birth\\_year & sex & gender & homeworld & species\\\\\n",
       " <chr> & <int> & <dbl> & <chr> & <chr> & <chr> & <dbl> & <chr> & <chr> & <chr> & <chr>\\\\\n",
       "\\hline\n",
       "\t Luke Skywalker & 172 &  77 & blond       & fair        & blue   &  19.0 & male   & masculine & Tatooine & Human\\\\\n",
       "\t C-3PO          & 167 &  75 & NA          & gold        & yellow & 112.0 & none   & masculine & Tatooine & Droid\\\\\n",
       "\t R2-D2          &  96 &  32 & NA          & white, blue & red    &  33.0 & none   & masculine & Naboo    & Droid\\\\\n",
       "\t Darth Vader    & 202 & 136 & none        & white       & yellow &  41.9 & male   & masculine & Tatooine & Human\\\\\n",
       "\t Leia Organa    & 150 &  49 & brown       & light       & brown  &  19.0 & female & feminine  & Alderaan & Human\\\\\n",
       "\t Owen Lars      & 178 & 120 & brown, grey & light       & blue   &  52.0 & male   & masculine & Tatooine & Human\\\\\n",
       "\\end{tabular}\n"
      ],
      "text/markdown": [
       "\n",
       "A tibble: 6 × 11\n",
       "\n",
       "| name &lt;chr&gt; | height &lt;int&gt; | mass &lt;dbl&gt; | hair_color &lt;chr&gt; | skin_color &lt;chr&gt; | eye_color &lt;chr&gt; | birth_year &lt;dbl&gt; | sex &lt;chr&gt; | gender &lt;chr&gt; | homeworld &lt;chr&gt; | species &lt;chr&gt; |\n",
       "|---|---|---|---|---|---|---|---|---|---|---|\n",
       "| Luke Skywalker | 172 |  77 | blond       | fair        | blue   |  19.0 | male   | masculine | Tatooine | Human |\n",
       "| C-3PO          | 167 |  75 | NA          | gold        | yellow | 112.0 | none   | masculine | Tatooine | Droid |\n",
       "| R2-D2          |  96 |  32 | NA          | white, blue | red    |  33.0 | none   | masculine | Naboo    | Droid |\n",
       "| Darth Vader    | 202 | 136 | none        | white       | yellow |  41.9 | male   | masculine | Tatooine | Human |\n",
       "| Leia Organa    | 150 |  49 | brown       | light       | brown  |  19.0 | female | feminine  | Alderaan | Human |\n",
       "| Owen Lars      | 178 | 120 | brown, grey | light       | blue   |  52.0 | male   | masculine | Tatooine | Human |\n",
       "\n"
      ],
      "text/plain": [
       "  name           height mass hair_color  skin_color  eye_color birth_year\n",
       "1 Luke Skywalker 172     77  blond       fair        blue       19.0     \n",
       "2 C-3PO          167     75  NA          gold        yellow    112.0     \n",
       "3 R2-D2           96     32  NA          white, blue red        33.0     \n",
       "4 Darth Vader    202    136  none        white       yellow     41.9     \n",
       "5 Leia Organa    150     49  brown       light       brown      19.0     \n",
       "6 Owen Lars      178    120  brown, grey light       blue       52.0     \n",
       "  sex    gender    homeworld species\n",
       "1 male   masculine Tatooine  Human  \n",
       "2 none   masculine Tatooine  Droid  \n",
       "3 none   masculine Naboo     Droid  \n",
       "4 male   masculine Tatooine  Human  \n",
       "5 female feminine  Alderaan  Human  \n",
       "6 male   masculine Tatooine  Human  "
      ]
     },
     "metadata": {},
     "output_type": "display_data"
    }
   ],
   "source": [
    "starwars %>% \n",
    "  select(-films, -vehicles, -starships) %>% \n",
    "  head()"
   ]
  },
  {
   "cell_type": "code",
   "execution_count": 19,
   "id": "c453a5cb",
   "metadata": {
    "vscode": {
     "languageId": "r"
    }
   },
   "outputs": [
    {
     "data": {
      "text/html": [
       "<ol>\n",
       "\t<li><style>\n",
       ".list-inline {list-style: none; margin:0; padding: 0}\n",
       ".list-inline>li {display: inline-block}\n",
       ".list-inline>li:not(:last-child)::after {content: \"\\00b7\"; padding: 0 .5ex}\n",
       "</style>\n",
       "<ol class=list-inline><li>'A New Hope'</li><li>'The Empire Strikes Back'</li><li>'Return of the Jedi'</li><li>'Revenge of the Sith'</li><li>'The Force Awakens'</li></ol>\n",
       "</li>\n",
       "\t<li><style>\n",
       ".list-inline {list-style: none; margin:0; padding: 0}\n",
       ".list-inline>li {display: inline-block}\n",
       ".list-inline>li:not(:last-child)::after {content: \"\\00b7\"; padding: 0 .5ex}\n",
       "</style>\n",
       "<ol class=list-inline><li>'A New Hope'</li><li>'The Empire Strikes Back'</li><li>'Return of the Jedi'</li><li>'The Phantom Menace'</li><li>'Attack of the Clones'</li><li>'Revenge of the Sith'</li></ol>\n",
       "</li>\n",
       "\t<li><style>\n",
       ".list-inline {list-style: none; margin:0; padding: 0}\n",
       ".list-inline>li {display: inline-block}\n",
       ".list-inline>li:not(:last-child)::after {content: \"\\00b7\"; padding: 0 .5ex}\n",
       "</style>\n",
       "<ol class=list-inline><li>'A New Hope'</li><li>'The Empire Strikes Back'</li><li>'Return of the Jedi'</li><li>'The Phantom Menace'</li><li>'Attack of the Clones'</li><li>'Revenge of the Sith'</li><li>'The Force Awakens'</li></ol>\n",
       "</li>\n",
       "\t<li><style>\n",
       ".list-inline {list-style: none; margin:0; padding: 0}\n",
       ".list-inline>li {display: inline-block}\n",
       ".list-inline>li:not(:last-child)::after {content: \"\\00b7\"; padding: 0 .5ex}\n",
       "</style>\n",
       "<ol class=list-inline><li>'A New Hope'</li><li>'The Empire Strikes Back'</li><li>'Return of the Jedi'</li><li>'Revenge of the Sith'</li></ol>\n",
       "</li>\n",
       "\t<li><style>\n",
       ".list-inline {list-style: none; margin:0; padding: 0}\n",
       ".list-inline>li {display: inline-block}\n",
       ".list-inline>li:not(:last-child)::after {content: \"\\00b7\"; padding: 0 .5ex}\n",
       "</style>\n",
       "<ol class=list-inline><li>'A New Hope'</li><li>'The Empire Strikes Back'</li><li>'Return of the Jedi'</li><li>'Revenge of the Sith'</li><li>'The Force Awakens'</li></ol>\n",
       "</li>\n",
       "</ol>\n"
      ],
      "text/latex": [
       "\\begin{enumerate}\n",
       "\\item \\begin{enumerate*}\n",
       "\\item 'A New Hope'\n",
       "\\item 'The Empire Strikes Back'\n",
       "\\item 'Return of the Jedi'\n",
       "\\item 'Revenge of the Sith'\n",
       "\\item 'The Force Awakens'\n",
       "\\end{enumerate*}\n",
       "\n",
       "\\item \\begin{enumerate*}\n",
       "\\item 'A New Hope'\n",
       "\\item 'The Empire Strikes Back'\n",
       "\\item 'Return of the Jedi'\n",
       "\\item 'The Phantom Menace'\n",
       "\\item 'Attack of the Clones'\n",
       "\\item 'Revenge of the Sith'\n",
       "\\end{enumerate*}\n",
       "\n",
       "\\item \\begin{enumerate*}\n",
       "\\item 'A New Hope'\n",
       "\\item 'The Empire Strikes Back'\n",
       "\\item 'Return of the Jedi'\n",
       "\\item 'The Phantom Menace'\n",
       "\\item 'Attack of the Clones'\n",
       "\\item 'Revenge of the Sith'\n",
       "\\item 'The Force Awakens'\n",
       "\\end{enumerate*}\n",
       "\n",
       "\\item \\begin{enumerate*}\n",
       "\\item 'A New Hope'\n",
       "\\item 'The Empire Strikes Back'\n",
       "\\item 'Return of the Jedi'\n",
       "\\item 'Revenge of the Sith'\n",
       "\\end{enumerate*}\n",
       "\n",
       "\\item \\begin{enumerate*}\n",
       "\\item 'A New Hope'\n",
       "\\item 'The Empire Strikes Back'\n",
       "\\item 'Return of the Jedi'\n",
       "\\item 'Revenge of the Sith'\n",
       "\\item 'The Force Awakens'\n",
       "\\end{enumerate*}\n",
       "\n",
       "\\end{enumerate}\n"
      ],
      "text/markdown": [
       "1. 1. 'A New Hope'\n",
       "2. 'The Empire Strikes Back'\n",
       "3. 'Return of the Jedi'\n",
       "4. 'Revenge of the Sith'\n",
       "5. 'The Force Awakens'\n",
       "\n",
       "\n",
       "\n",
       "2. 1. 'A New Hope'\n",
       "2. 'The Empire Strikes Back'\n",
       "3. 'Return of the Jedi'\n",
       "4. 'The Phantom Menace'\n",
       "5. 'Attack of the Clones'\n",
       "6. 'Revenge of the Sith'\n",
       "\n",
       "\n",
       "\n",
       "3. 1. 'A New Hope'\n",
       "2. 'The Empire Strikes Back'\n",
       "3. 'Return of the Jedi'\n",
       "4. 'The Phantom Menace'\n",
       "5. 'Attack of the Clones'\n",
       "6. 'Revenge of the Sith'\n",
       "7. 'The Force Awakens'\n",
       "\n",
       "\n",
       "\n",
       "4. 1. 'A New Hope'\n",
       "2. 'The Empire Strikes Back'\n",
       "3. 'Return of the Jedi'\n",
       "4. 'Revenge of the Sith'\n",
       "\n",
       "\n",
       "\n",
       "5. 1. 'A New Hope'\n",
       "2. 'The Empire Strikes Back'\n",
       "3. 'Return of the Jedi'\n",
       "4. 'Revenge of the Sith'\n",
       "5. 'The Force Awakens'\n",
       "\n",
       "\n",
       "\n",
       "\n",
       "\n"
      ],
      "text/plain": [
       "[[1]]\n",
       "[1] \"A New Hope\"              \"The Empire Strikes Back\"\n",
       "[3] \"Return of the Jedi\"      \"Revenge of the Sith\"    \n",
       "[5] \"The Force Awakens\"      \n",
       "\n",
       "[[2]]\n",
       "[1] \"A New Hope\"              \"The Empire Strikes Back\"\n",
       "[3] \"Return of the Jedi\"      \"The Phantom Menace\"     \n",
       "[5] \"Attack of the Clones\"    \"Revenge of the Sith\"    \n",
       "\n",
       "[[3]]\n",
       "[1] \"A New Hope\"              \"The Empire Strikes Back\"\n",
       "[3] \"Return of the Jedi\"      \"The Phantom Menace\"     \n",
       "[5] \"Attack of the Clones\"    \"Revenge of the Sith\"    \n",
       "[7] \"The Force Awakens\"      \n",
       "\n",
       "[[4]]\n",
       "[1] \"A New Hope\"              \"The Empire Strikes Back\"\n",
       "[3] \"Return of the Jedi\"      \"Revenge of the Sith\"    \n",
       "\n",
       "[[5]]\n",
       "[1] \"A New Hope\"              \"The Empire Strikes Back\"\n",
       "[3] \"Return of the Jedi\"      \"Revenge of the Sith\"    \n",
       "[5] \"The Force Awakens\"      \n"
      ]
     },
     "metadata": {},
     "output_type": "display_data"
    }
   ],
   "source": [
    "starwars$films[1:5]"
   ]
  },
  {
   "cell_type": "code",
   "execution_count": 24,
   "id": "732ae088",
   "metadata": {
    "vscode": {
     "languageId": "r"
    }
   },
   "outputs": [
    {
     "name": "stdout",
     "output_type": "stream",
     "text": [
      "Films for first 3 characters:\n",
      "Luke Skywalker : A New Hope, The Empire Strikes Back, Return of the Jedi, Revenge of the Sith, The Force Awakens \n",
      "C-3PO : A New Hope, The Empire Strikes Back, Return of the Jedi, The Phantom Menace, Attack of the Clones, Revenge of the Sith \n",
      "R2-D2 : A New Hope, The Empire Strikes Back, Return of the Jedi, The Phantom Menace, Attack of the Clones, Revenge of the Sith, The Force Awakens \n"
     ]
    }
   ],
   "source": [
    "# Examine the list columns (films, vehicles, starships) for first few characters\n",
    "cat(\"Films for first 3 characters:\\n\")\n",
    "for(i in 1:3) {\n",
    "  cat(starwars$name[i], \":\", paste(starwars$films[[i]], collapse = \", \"), \"\\n\")\n",
    "}"
   ]
  },
  {
   "cell_type": "code",
   "execution_count": 21,
   "id": "1425c5f4",
   "metadata": {
    "vscode": {
     "languageId": "r"
    }
   },
   "outputs": [
    {
     "data": {
      "text/html": [
       "<style>\n",
       ".list-inline {list-style: none; margin:0; padding: 0}\n",
       ".list-inline>li {display: inline-block}\n",
       ".list-inline>li:not(:last-child)::after {content: \"\\00b7\"; padding: 0 .5ex}\n",
       "</style>\n",
       "<ol class=list-inline><li>'A'</li><li>'B'</li><li>'C'</li></ol>\n"
      ],
      "text/latex": [
       "\\begin{enumerate*}\n",
       "\\item 'A'\n",
       "\\item 'B'\n",
       "\\item 'C'\n",
       "\\end{enumerate*}\n"
      ],
      "text/markdown": [
       "1. 'A'\n",
       "2. 'B'\n",
       "3. 'C'\n",
       "\n",
       "\n"
      ],
      "text/plain": [
       "[1] \"A\" \"B\" \"C\""
      ]
     },
     "metadata": {},
     "output_type": "display_data"
    }
   ],
   "source": [
    "paste(c(\"A\", \"B\", \"C\"))"
   ]
  },
  {
   "cell_type": "code",
   "execution_count": 22,
   "id": "851addaa",
   "metadata": {
    "vscode": {
     "languageId": "r"
    }
   },
   "outputs": [
    {
     "data": {
      "text/html": [
       "'A, B, C'"
      ],
      "text/latex": [
       "'A, B, C'"
      ],
      "text/markdown": [
       "'A, B, C'"
      ],
      "text/plain": [
       "[1] \"A, B, C\""
      ]
     },
     "metadata": {},
     "output_type": "display_data"
    }
   ],
   "source": [
    "paste(c(\"A\", \"B\", \"C\"), collapse = \", \")"
   ]
  },
  {
   "cell_type": "code",
   "execution_count": null,
   "id": "b3f18933",
   "metadata": {
    "vscode": {
     "languageId": "r"
    }
   },
   "outputs": [],
   "source": [
    "   "
   ]
  },
  {
   "cell_type": "code",
   "execution_count": null,
   "id": "8b818ce1",
   "metadata": {
    "vscode": {
     "languageId": "r"
    }
   },
   "outputs": [],
   "source": []
  },
  {
   "cell_type": "code",
   "execution_count": null,
   "id": "78fab007",
   "metadata": {
    "vscode": {
     "languageId": "r"
    }
   },
   "outputs": [],
   "source": []
  }
 ],
 "metadata": {
  "kernelspec": {
   "display_name": "R",
   "language": "R",
   "name": "ir"
  },
  "language_info": {
   "codemirror_mode": "r",
   "file_extension": ".r",
   "mimetype": "text/x-r-source",
   "name": "R",
   "pygments_lexer": "r",
   "version": "4.5.1"
  }
 },
 "nbformat": 4,
 "nbformat_minor": 5
}
