{
 "cells": [
  {
   "cell_type": "code",
   "execution_count": 2,
   "id": "b41c58b1",
   "metadata": {
    "vscode": {
     "languageId": "r"
    }
   },
   "outputs": [
    {
     "name": "stderr",
     "output_type": "stream",
     "text": [
      "── \u001b[1mAttaching core tidyverse packages\u001b[22m ──────────────────────── tidyverse 2.0.0 ──\n",
      "\u001b[32m✔\u001b[39m \u001b[34mdplyr    \u001b[39m 1.1.4     \u001b[32m✔\u001b[39m \u001b[34mreadr    \u001b[39m 2.1.5\n",
      "\u001b[32m✔\u001b[39m \u001b[34mforcats  \u001b[39m 1.0.0     \u001b[32m✔\u001b[39m \u001b[34mstringr  \u001b[39m 1.5.1\n",
      "\u001b[32m✔\u001b[39m \u001b[34mggplot2  \u001b[39m 3.5.2     \u001b[32m✔\u001b[39m \u001b[34mtibble   \u001b[39m 3.3.0\n",
      "\u001b[32m✔\u001b[39m \u001b[34mlubridate\u001b[39m 1.9.4     \u001b[32m✔\u001b[39m \u001b[34mtidyr    \u001b[39m 1.3.1\n",
      "\u001b[32m✔\u001b[39m \u001b[34mpurrr    \u001b[39m 1.1.0     \n",
      "── \u001b[1mConflicts\u001b[22m ────────────────────────────────────────── tidyverse_conflicts() ──\n",
      "\u001b[31m✖\u001b[39m \u001b[34mdplyr\u001b[39m::\u001b[32mfilter()\u001b[39m masks \u001b[34mstats\u001b[39m::filter()\n",
      "\u001b[31m✖\u001b[39m \u001b[34mdplyr\u001b[39m::\u001b[32mlag()\u001b[39m    masks \u001b[34mstats\u001b[39m::lag()\n",
      "\u001b[36mℹ\u001b[39m Use the conflicted package (\u001b[3m\u001b[34m<http://conflicted.r-lib.org/>\u001b[39m\u001b[23m) to force all conflicts to become errors\n"
     ]
    }
   ],
   "source": [
    "library(tidyverse)"
   ]
  },
  {
   "cell_type": "code",
   "execution_count": null,
   "id": "f97a45df",
   "metadata": {
    "vscode": {
     "languageId": "r"
    }
   },
   "outputs": [
    {
     "name": "stderr",
     "output_type": "stream",
     "text": [
      "\u001b[1mRows: \u001b[22m\u001b[34m344\u001b[39m \u001b[1mColumns: \u001b[22m\u001b[34m7\u001b[39m\n",
      "\u001b[36m──\u001b[39m \u001b[1mColumn specification\u001b[22m \u001b[36m────────────────────────────────────────────────────────\u001b[39m\n",
      "\u001b[1mDelimiter:\u001b[22m \",\"\n",
      "\u001b[31mchr\u001b[39m (3): species, island, sex\n",
      "\u001b[32mdbl\u001b[39m (4): culmen_length_mm, culmen_depth_mm, flipper_length_mm, body_mass_g\n",
      "\n",
      "\u001b[36mℹ\u001b[39m Use `spec()` to retrieve the full column specification for this data.\n",
      "\u001b[36mℹ\u001b[39m Specify the column types or set `show_col_types = FALSE` to quiet this message.\n"
     ]
    }
   ],
   "source": [
    "penguins <- read_csv('data/penguins_size.csv')"
   ]
  },
  {
   "cell_type": "code",
   "execution_count": 4,
   "id": "f002b451",
   "metadata": {
    "vscode": {
     "languageId": "r"
    }
   },
   "outputs": [
    {
     "name": "stdout",
     "output_type": "stream",
     "text": [
      "Rows: 344\n",
      "Columns: 7\n",
      "$ species           \u001b[3m\u001b[90m<chr>\u001b[39m\u001b[23m \"Adelie\"\u001b[90m, \u001b[39m\"Adelie\"\u001b[90m, \u001b[39m\"Adelie\"\u001b[90m, \u001b[39m\"Adelie\"\u001b[90m, \u001b[39m\"Adelie\"\u001b[90m, \u001b[39m\"A…\n",
      "$ island            \u001b[3m\u001b[90m<chr>\u001b[39m\u001b[23m \"Torgersen\"\u001b[90m, \u001b[39m\"Torgersen\"\u001b[90m, \u001b[39m\"Torgersen\"\u001b[90m, \u001b[39m\"Torgersen\"\u001b[90m, \u001b[39m…\n",
      "$ culmen_length_mm  \u001b[3m\u001b[90m<dbl>\u001b[39m\u001b[23m 39.1\u001b[90m, \u001b[39m39.5\u001b[90m, \u001b[39m40.3\u001b[90m, \u001b[39m\u001b[31mNA\u001b[39m\u001b[90m, \u001b[39m36.7\u001b[90m, \u001b[39m39.3\u001b[90m, \u001b[39m38.9\u001b[90m, \u001b[39m39.2\u001b[90m, \u001b[39m34.1\u001b[90m, \u001b[39m…\n",
      "$ culmen_depth_mm   \u001b[3m\u001b[90m<dbl>\u001b[39m\u001b[23m 18.7\u001b[90m, \u001b[39m17.4\u001b[90m, \u001b[39m18.0\u001b[90m, \u001b[39m\u001b[31mNA\u001b[39m\u001b[90m, \u001b[39m19.3\u001b[90m, \u001b[39m20.6\u001b[90m, \u001b[39m17.8\u001b[90m, \u001b[39m19.6\u001b[90m, \u001b[39m18.1\u001b[90m, \u001b[39m…\n",
      "$ flipper_length_mm \u001b[3m\u001b[90m<dbl>\u001b[39m\u001b[23m 181\u001b[90m, \u001b[39m186\u001b[90m, \u001b[39m195\u001b[90m, \u001b[39m\u001b[31mNA\u001b[39m\u001b[90m, \u001b[39m193\u001b[90m, \u001b[39m190\u001b[90m, \u001b[39m181\u001b[90m, \u001b[39m195\u001b[90m, \u001b[39m193\u001b[90m, \u001b[39m190\u001b[90m, \u001b[39m186…\n",
      "$ body_mass_g       \u001b[3m\u001b[90m<dbl>\u001b[39m\u001b[23m 3750\u001b[90m, \u001b[39m3800\u001b[90m, \u001b[39m3250\u001b[90m, \u001b[39m\u001b[31mNA\u001b[39m\u001b[90m, \u001b[39m3450\u001b[90m, \u001b[39m3650\u001b[90m, \u001b[39m3625\u001b[90m, \u001b[39m4675\u001b[90m, \u001b[39m3475\u001b[90m, \u001b[39m…\n",
      "$ sex               \u001b[3m\u001b[90m<chr>\u001b[39m\u001b[23m \"MALE\"\u001b[90m, \u001b[39m\"FEMALE\"\u001b[90m, \u001b[39m\"FEMALE\"\u001b[90m, \u001b[39m\u001b[31mNA\u001b[39m\u001b[90m, \u001b[39m\"FEMALE\"\u001b[90m, \u001b[39m\"MALE\"\u001b[90m, \u001b[39m\"F…\n"
     ]
    }
   ],
   "source": [
    "glimpse(penguins)"
   ]
  },
  {
   "cell_type": "code",
   "execution_count": 5,
   "id": "5cc855c6",
   "metadata": {
    "vscode": {
     "languageId": "r"
    }
   },
   "outputs": [
    {
     "data": {
      "text/html": [
       "<table class=\"dataframe\">\n",
       "<caption>A tibble: 6 × 7</caption>\n",
       "<thead>\n",
       "\t<tr><th scope=col>species</th><th scope=col>island</th><th scope=col>culmen_length_mm</th><th scope=col>culmen_depth_mm</th><th scope=col>flipper_length_mm</th><th scope=col>body_mass_g</th><th scope=col>sex</th></tr>\n",
       "\t<tr><th scope=col>&lt;chr&gt;</th><th scope=col>&lt;chr&gt;</th><th scope=col>&lt;dbl&gt;</th><th scope=col>&lt;dbl&gt;</th><th scope=col>&lt;dbl&gt;</th><th scope=col>&lt;dbl&gt;</th><th scope=col>&lt;chr&gt;</th></tr>\n",
       "</thead>\n",
       "<tbody>\n",
       "\t<tr><td>Adelie</td><td>Torgersen</td><td>39.1</td><td>18.7</td><td>181</td><td>3750</td><td>MALE  </td></tr>\n",
       "\t<tr><td>Adelie</td><td>Torgersen</td><td>39.5</td><td>17.4</td><td>186</td><td>3800</td><td>FEMALE</td></tr>\n",
       "\t<tr><td>Adelie</td><td>Torgersen</td><td>40.3</td><td>18.0</td><td>195</td><td>3250</td><td>FEMALE</td></tr>\n",
       "\t<tr><td>Adelie</td><td>Torgersen</td><td>  NA</td><td>  NA</td><td> NA</td><td>  NA</td><td>NA    </td></tr>\n",
       "\t<tr><td>Adelie</td><td>Torgersen</td><td>36.7</td><td>19.3</td><td>193</td><td>3450</td><td>FEMALE</td></tr>\n",
       "\t<tr><td>Adelie</td><td>Torgersen</td><td>39.3</td><td>20.6</td><td>190</td><td>3650</td><td>MALE  </td></tr>\n",
       "</tbody>\n",
       "</table>\n"
      ],
      "text/latex": [
       "A tibble: 6 × 7\n",
       "\\begin{tabular}{lllllll}\n",
       " species & island & culmen\\_length\\_mm & culmen\\_depth\\_mm & flipper\\_length\\_mm & body\\_mass\\_g & sex\\\\\n",
       " <chr> & <chr> & <dbl> & <dbl> & <dbl> & <dbl> & <chr>\\\\\n",
       "\\hline\n",
       "\t Adelie & Torgersen & 39.1 & 18.7 & 181 & 3750 & MALE  \\\\\n",
       "\t Adelie & Torgersen & 39.5 & 17.4 & 186 & 3800 & FEMALE\\\\\n",
       "\t Adelie & Torgersen & 40.3 & 18.0 & 195 & 3250 & FEMALE\\\\\n",
       "\t Adelie & Torgersen &   NA &   NA &  NA &   NA & NA    \\\\\n",
       "\t Adelie & Torgersen & 36.7 & 19.3 & 193 & 3450 & FEMALE\\\\\n",
       "\t Adelie & Torgersen & 39.3 & 20.6 & 190 & 3650 & MALE  \\\\\n",
       "\\end{tabular}\n"
      ],
      "text/markdown": [
       "\n",
       "A tibble: 6 × 7\n",
       "\n",
       "| species &lt;chr&gt; | island &lt;chr&gt; | culmen_length_mm &lt;dbl&gt; | culmen_depth_mm &lt;dbl&gt; | flipper_length_mm &lt;dbl&gt; | body_mass_g &lt;dbl&gt; | sex &lt;chr&gt; |\n",
       "|---|---|---|---|---|---|---|\n",
       "| Adelie | Torgersen | 39.1 | 18.7 | 181 | 3750 | MALE   |\n",
       "| Adelie | Torgersen | 39.5 | 17.4 | 186 | 3800 | FEMALE |\n",
       "| Adelie | Torgersen | 40.3 | 18.0 | 195 | 3250 | FEMALE |\n",
       "| Adelie | Torgersen |   NA |   NA |  NA |   NA | NA     |\n",
       "| Adelie | Torgersen | 36.7 | 19.3 | 193 | 3450 | FEMALE |\n",
       "| Adelie | Torgersen | 39.3 | 20.6 | 190 | 3650 | MALE   |\n",
       "\n"
      ],
      "text/plain": [
       "  species island    culmen_length_mm culmen_depth_mm flipper_length_mm\n",
       "1 Adelie  Torgersen 39.1             18.7            181              \n",
       "2 Adelie  Torgersen 39.5             17.4            186              \n",
       "3 Adelie  Torgersen 40.3             18.0            195              \n",
       "4 Adelie  Torgersen   NA               NA             NA              \n",
       "5 Adelie  Torgersen 36.7             19.3            193              \n",
       "6 Adelie  Torgersen 39.3             20.6            190              \n",
       "  body_mass_g sex   \n",
       "1 3750        MALE  \n",
       "2 3800        FEMALE\n",
       "3 3250        FEMALE\n",
       "4   NA        NA    \n",
       "5 3450        FEMALE\n",
       "6 3650        MALE  "
      ]
     },
     "metadata": {},
     "output_type": "display_data"
    }
   ],
   "source": [
    "head(penguins)"
   ]
  },
  {
   "cell_type": "code",
   "execution_count": 6,
   "id": "538bd2b9",
   "metadata": {
    "vscode": {
     "languageId": "r"
    }
   },
   "outputs": [
    {
     "data": {
      "text/plain": [
       "   species             island          culmen_length_mm culmen_depth_mm\n",
       " Length:344         Length:344         Min.   :32.10    Min.   :13.10  \n",
       " Class :character   Class :character   1st Qu.:39.23    1st Qu.:15.60  \n",
       " Mode  :character   Mode  :character   Median :44.45    Median :17.30  \n",
       "                                       Mean   :43.92    Mean   :17.15  \n",
       "                                       3rd Qu.:48.50    3rd Qu.:18.70  \n",
       "                                       Max.   :59.60    Max.   :21.50  \n",
       "                                       NA's   :2        NA's   :2      \n",
       " flipper_length_mm  body_mass_g       sex           \n",
       " Min.   :172.0     Min.   :2700   Length:344        \n",
       " 1st Qu.:190.0     1st Qu.:3550   Class :character  \n",
       " Median :197.0     Median :4050   Mode  :character  \n",
       " Mean   :200.9     Mean   :4202                     \n",
       " 3rd Qu.:213.0     3rd Qu.:4750                     \n",
       " Max.   :231.0     Max.   :6300                     \n",
       " NA's   :2         NA's   :2                        "
      ]
     },
     "metadata": {},
     "output_type": "display_data"
    }
   ],
   "source": [
    "summary(penguins)"
   ]
  },
  {
   "cell_type": "code",
   "execution_count": 7,
   "id": "d6a14342",
   "metadata": {
    "vscode": {
     "languageId": "r"
    }
   },
   "outputs": [
    {
     "data": {
      "text/html": [
       "<style>\n",
       ".list-inline {list-style: none; margin:0; padding: 0}\n",
       ".list-inline>li {display: inline-block}\n",
       ".list-inline>li:not(:last-child)::after {content: \"\\00b7\"; padding: 0 .5ex}\n",
       "</style>\n",
       "<ol class=list-inline><li>'species'</li><li>'island'</li><li>'culmen_length_mm'</li><li>'culmen_depth_mm'</li><li>'flipper_length_mm'</li><li>'body_mass_g'</li><li>'sex'</li></ol>\n"
      ],
      "text/latex": [
       "\\begin{enumerate*}\n",
       "\\item 'species'\n",
       "\\item 'island'\n",
       "\\item 'culmen\\_length\\_mm'\n",
       "\\item 'culmen\\_depth\\_mm'\n",
       "\\item 'flipper\\_length\\_mm'\n",
       "\\item 'body\\_mass\\_g'\n",
       "\\item 'sex'\n",
       "\\end{enumerate*}\n"
      ],
      "text/markdown": [
       "1. 'species'\n",
       "2. 'island'\n",
       "3. 'culmen_length_mm'\n",
       "4. 'culmen_depth_mm'\n",
       "5. 'flipper_length_mm'\n",
       "6. 'body_mass_g'\n",
       "7. 'sex'\n",
       "\n",
       "\n"
      ],
      "text/plain": [
       "[1] \"species\"           \"island\"            \"culmen_length_mm\" \n",
       "[4] \"culmen_depth_mm\"   \"flipper_length_mm\" \"body_mass_g\"      \n",
       "[7] \"sex\"              "
      ]
     },
     "metadata": {},
     "output_type": "display_data"
    }
   ],
   "source": [
    "names(penguins)"
   ]
  },
  {
   "cell_type": "code",
   "execution_count": 15,
   "id": "13a9649c",
   "metadata": {
    "vscode": {
     "languageId": "r"
    }
   },
   "outputs": [
    {
     "data": {
      "text/html": [
       "<table class=\"dataframe\">\n",
       "<caption>A tibble: 6 × 7</caption>\n",
       "<thead>\n",
       "\t<tr><th scope=col>species</th><th scope=col>island</th><th scope=col>culmen_length_mm</th><th scope=col>culmen_depth_mm</th><th scope=col>flipper_length_mm</th><th scope=col>body_mass_g</th><th scope=col>sex</th></tr>\n",
       "\t<tr><th scope=col>&lt;chr&gt;</th><th scope=col>&lt;chr&gt;</th><th scope=col>&lt;dbl&gt;</th><th scope=col>&lt;dbl&gt;</th><th scope=col>&lt;dbl&gt;</th><th scope=col>&lt;dbl&gt;</th><th scope=col>&lt;chr&gt;</th></tr>\n",
       "</thead>\n",
       "<tbody>\n",
       "\t<tr><td>Adelie</td><td>Torgersen</td><td>39.1</td><td>18.7</td><td>181</td><td>3750</td><td>MALE  </td></tr>\n",
       "\t<tr><td>Adelie</td><td>Torgersen</td><td>39.5</td><td>17.4</td><td>186</td><td>3800</td><td>FEMALE</td></tr>\n",
       "\t<tr><td>Adelie</td><td>Torgersen</td><td>40.3</td><td>18.0</td><td>195</td><td>3250</td><td>FEMALE</td></tr>\n",
       "\t<tr><td>Adelie</td><td>Torgersen</td><td>  NA</td><td>  NA</td><td> NA</td><td>  NA</td><td>NA    </td></tr>\n",
       "\t<tr><td>Adelie</td><td>Torgersen</td><td>36.7</td><td>19.3</td><td>193</td><td>3450</td><td>FEMALE</td></tr>\n",
       "\t<tr><td>Adelie</td><td>Torgersen</td><td>39.3</td><td>20.6</td><td>190</td><td>3650</td><td>MALE  </td></tr>\n",
       "</tbody>\n",
       "</table>\n"
      ],
      "text/latex": [
       "A tibble: 6 × 7\n",
       "\\begin{tabular}{lllllll}\n",
       " species & island & culmen\\_length\\_mm & culmen\\_depth\\_mm & flipper\\_length\\_mm & body\\_mass\\_g & sex\\\\\n",
       " <chr> & <chr> & <dbl> & <dbl> & <dbl> & <dbl> & <chr>\\\\\n",
       "\\hline\n",
       "\t Adelie & Torgersen & 39.1 & 18.7 & 181 & 3750 & MALE  \\\\\n",
       "\t Adelie & Torgersen & 39.5 & 17.4 & 186 & 3800 & FEMALE\\\\\n",
       "\t Adelie & Torgersen & 40.3 & 18.0 & 195 & 3250 & FEMALE\\\\\n",
       "\t Adelie & Torgersen &   NA &   NA &  NA &   NA & NA    \\\\\n",
       "\t Adelie & Torgersen & 36.7 & 19.3 & 193 & 3450 & FEMALE\\\\\n",
       "\t Adelie & Torgersen & 39.3 & 20.6 & 190 & 3650 & MALE  \\\\\n",
       "\\end{tabular}\n"
      ],
      "text/markdown": [
       "\n",
       "A tibble: 6 × 7\n",
       "\n",
       "| species &lt;chr&gt; | island &lt;chr&gt; | culmen_length_mm &lt;dbl&gt; | culmen_depth_mm &lt;dbl&gt; | flipper_length_mm &lt;dbl&gt; | body_mass_g &lt;dbl&gt; | sex &lt;chr&gt; |\n",
       "|---|---|---|---|---|---|---|\n",
       "| Adelie | Torgersen | 39.1 | 18.7 | 181 | 3750 | MALE   |\n",
       "| Adelie | Torgersen | 39.5 | 17.4 | 186 | 3800 | FEMALE |\n",
       "| Adelie | Torgersen | 40.3 | 18.0 | 195 | 3250 | FEMALE |\n",
       "| Adelie | Torgersen |   NA |   NA |  NA |   NA | NA     |\n",
       "| Adelie | Torgersen | 36.7 | 19.3 | 193 | 3450 | FEMALE |\n",
       "| Adelie | Torgersen | 39.3 | 20.6 | 190 | 3650 | MALE   |\n",
       "\n"
      ],
      "text/plain": [
       "  species island    culmen_length_mm culmen_depth_mm flipper_length_mm\n",
       "1 Adelie  Torgersen 39.1             18.7            181              \n",
       "2 Adelie  Torgersen 39.5             17.4            186              \n",
       "3 Adelie  Torgersen 40.3             18.0            195              \n",
       "4 Adelie  Torgersen   NA               NA             NA              \n",
       "5 Adelie  Torgersen 36.7             19.3            193              \n",
       "6 Adelie  Torgersen 39.3             20.6            190              \n",
       "  body_mass_g sex   \n",
       "1 3750        MALE  \n",
       "2 3800        FEMALE\n",
       "3 3250        FEMALE\n",
       "4   NA        NA    \n",
       "5 3450        FEMALE\n",
       "6 3650        MALE  "
      ]
     },
     "metadata": {},
     "output_type": "display_data"
    }
   ],
   "source": [
    "penguins %>%\n",
    "  filter(island == \"Torgersen\") %>%\n",
    "  head()"
   ]
  },
  {
   "cell_type": "code",
   "execution_count": 9,
   "id": "0cafd800",
   "metadata": {
    "vscode": {
     "languageId": "r"
    }
   },
   "outputs": [
    {
     "data": {
      "text/html": [
       "<table class=\"dataframe\">\n",
       "<caption>A tibble: 6 × 7</caption>\n",
       "<thead>\n",
       "\t<tr><th scope=col>species</th><th scope=col>island</th><th scope=col>culmen_length_mm</th><th scope=col>culmen_depth_mm</th><th scope=col>flipper_length_mm</th><th scope=col>body_mass_g</th><th scope=col>sex</th></tr>\n",
       "\t<tr><th scope=col>&lt;chr&gt;</th><th scope=col>&lt;chr&gt;</th><th scope=col>&lt;dbl&gt;</th><th scope=col>&lt;dbl&gt;</th><th scope=col>&lt;dbl&gt;</th><th scope=col>&lt;dbl&gt;</th><th scope=col>&lt;chr&gt;</th></tr>\n",
       "</thead>\n",
       "<tbody>\n",
       "\t<tr><td>Adelie</td><td>Torgersen</td><td>39.1</td><td>18.7</td><td>181</td><td>3750</td><td>MALE  </td></tr>\n",
       "\t<tr><td>Adelie</td><td>Torgersen</td><td>39.5</td><td>17.4</td><td>186</td><td>3800</td><td>FEMALE</td></tr>\n",
       "\t<tr><td>Adelie</td><td>Torgersen</td><td>40.3</td><td>18.0</td><td>195</td><td>3250</td><td>FEMALE</td></tr>\n",
       "\t<tr><td>Adelie</td><td>Torgersen</td><td>  NA</td><td>  NA</td><td> NA</td><td>  NA</td><td>NA    </td></tr>\n",
       "\t<tr><td>Adelie</td><td>Torgersen</td><td>36.7</td><td>19.3</td><td>193</td><td>3450</td><td>FEMALE</td></tr>\n",
       "\t<tr><td>Adelie</td><td>Torgersen</td><td>39.3</td><td>20.6</td><td>190</td><td>3650</td><td>MALE  </td></tr>\n",
       "</tbody>\n",
       "</table>\n"
      ],
      "text/latex": [
       "A tibble: 6 × 7\n",
       "\\begin{tabular}{lllllll}\n",
       " species & island & culmen\\_length\\_mm & culmen\\_depth\\_mm & flipper\\_length\\_mm & body\\_mass\\_g & sex\\\\\n",
       " <chr> & <chr> & <dbl> & <dbl> & <dbl> & <dbl> & <chr>\\\\\n",
       "\\hline\n",
       "\t Adelie & Torgersen & 39.1 & 18.7 & 181 & 3750 & MALE  \\\\\n",
       "\t Adelie & Torgersen & 39.5 & 17.4 & 186 & 3800 & FEMALE\\\\\n",
       "\t Adelie & Torgersen & 40.3 & 18.0 & 195 & 3250 & FEMALE\\\\\n",
       "\t Adelie & Torgersen &   NA &   NA &  NA &   NA & NA    \\\\\n",
       "\t Adelie & Torgersen & 36.7 & 19.3 & 193 & 3450 & FEMALE\\\\\n",
       "\t Adelie & Torgersen & 39.3 & 20.6 & 190 & 3650 & MALE  \\\\\n",
       "\\end{tabular}\n"
      ],
      "text/markdown": [
       "\n",
       "A tibble: 6 × 7\n",
       "\n",
       "| species &lt;chr&gt; | island &lt;chr&gt; | culmen_length_mm &lt;dbl&gt; | culmen_depth_mm &lt;dbl&gt; | flipper_length_mm &lt;dbl&gt; | body_mass_g &lt;dbl&gt; | sex &lt;chr&gt; |\n",
       "|---|---|---|---|---|---|---|\n",
       "| Adelie | Torgersen | 39.1 | 18.7 | 181 | 3750 | MALE   |\n",
       "| Adelie | Torgersen | 39.5 | 17.4 | 186 | 3800 | FEMALE |\n",
       "| Adelie | Torgersen | 40.3 | 18.0 | 195 | 3250 | FEMALE |\n",
       "| Adelie | Torgersen |   NA |   NA |  NA |   NA | NA     |\n",
       "| Adelie | Torgersen | 36.7 | 19.3 | 193 | 3450 | FEMALE |\n",
       "| Adelie | Torgersen | 39.3 | 20.6 | 190 | 3650 | MALE   |\n",
       "\n"
      ],
      "text/plain": [
       "  species island    culmen_length_mm culmen_depth_mm flipper_length_mm\n",
       "1 Adelie  Torgersen 39.1             18.7            181              \n",
       "2 Adelie  Torgersen 39.5             17.4            186              \n",
       "3 Adelie  Torgersen 40.3             18.0            195              \n",
       "4 Adelie  Torgersen   NA               NA             NA              \n",
       "5 Adelie  Torgersen 36.7             19.3            193              \n",
       "6 Adelie  Torgersen 39.3             20.6            190              \n",
       "  body_mass_g sex   \n",
       "1 3750        MALE  \n",
       "2 3800        FEMALE\n",
       "3 3250        FEMALE\n",
       "4   NA        NA    \n",
       "5 3450        FEMALE\n",
       "6 3650        MALE  "
      ]
     },
     "metadata": {},
     "output_type": "display_data"
    }
   ],
   "source": [
    "penguins %>%\n",
    "  filter(island == \"Torgersen\") %>%\n",
    "  head()"
   ]
  },
  {
   "cell_type": "code",
   "execution_count": 10,
   "id": "e56fd78d",
   "metadata": {
    "vscode": {
     "languageId": "r"
    }
   },
   "outputs": [
    {
     "data": {
      "text/html": [
       "<table class=\"dataframe\">\n",
       "<caption>A tibble: 6 × 7</caption>\n",
       "<thead>\n",
       "\t<tr><th scope=col>species</th><th scope=col>island</th><th scope=col>culmen_length_mm</th><th scope=col>culmen_depth_mm</th><th scope=col>flipper_length_mm</th><th scope=col>body_mass_g</th><th scope=col>sex</th></tr>\n",
       "\t<tr><th scope=col>&lt;chr&gt;</th><th scope=col>&lt;chr&gt;</th><th scope=col>&lt;dbl&gt;</th><th scope=col>&lt;dbl&gt;</th><th scope=col>&lt;dbl&gt;</th><th scope=col>&lt;dbl&gt;</th><th scope=col>&lt;chr&gt;</th></tr>\n",
       "</thead>\n",
       "<tbody>\n",
       "\t<tr><td>Adelie</td><td>Dream    </td><td>32.1</td><td>15.5</td><td>188</td><td>3050</td><td>FEMALE</td></tr>\n",
       "\t<tr><td>Adelie</td><td>Dream    </td><td>33.1</td><td>16.1</td><td>178</td><td>2900</td><td>FEMALE</td></tr>\n",
       "\t<tr><td>Adelie</td><td>Torgersen</td><td>33.5</td><td>19.0</td><td>190</td><td>3600</td><td>FEMALE</td></tr>\n",
       "\t<tr><td>Adelie</td><td>Dream    </td><td>34.0</td><td>17.1</td><td>185</td><td>3400</td><td>FEMALE</td></tr>\n",
       "\t<tr><td>Adelie</td><td>Torgersen</td><td>34.1</td><td>18.1</td><td>193</td><td>3475</td><td>NA    </td></tr>\n",
       "\t<tr><td>Adelie</td><td>Torgersen</td><td>34.4</td><td>18.4</td><td>184</td><td>3325</td><td>FEMALE</td></tr>\n",
       "</tbody>\n",
       "</table>\n"
      ],
      "text/latex": [
       "A tibble: 6 × 7\n",
       "\\begin{tabular}{lllllll}\n",
       " species & island & culmen\\_length\\_mm & culmen\\_depth\\_mm & flipper\\_length\\_mm & body\\_mass\\_g & sex\\\\\n",
       " <chr> & <chr> & <dbl> & <dbl> & <dbl> & <dbl> & <chr>\\\\\n",
       "\\hline\n",
       "\t Adelie & Dream     & 32.1 & 15.5 & 188 & 3050 & FEMALE\\\\\n",
       "\t Adelie & Dream     & 33.1 & 16.1 & 178 & 2900 & FEMALE\\\\\n",
       "\t Adelie & Torgersen & 33.5 & 19.0 & 190 & 3600 & FEMALE\\\\\n",
       "\t Adelie & Dream     & 34.0 & 17.1 & 185 & 3400 & FEMALE\\\\\n",
       "\t Adelie & Torgersen & 34.1 & 18.1 & 193 & 3475 & NA    \\\\\n",
       "\t Adelie & Torgersen & 34.4 & 18.4 & 184 & 3325 & FEMALE\\\\\n",
       "\\end{tabular}\n"
      ],
      "text/markdown": [
       "\n",
       "A tibble: 6 × 7\n",
       "\n",
       "| species &lt;chr&gt; | island &lt;chr&gt; | culmen_length_mm &lt;dbl&gt; | culmen_depth_mm &lt;dbl&gt; | flipper_length_mm &lt;dbl&gt; | body_mass_g &lt;dbl&gt; | sex &lt;chr&gt; |\n",
       "|---|---|---|---|---|---|---|\n",
       "| Adelie | Dream     | 32.1 | 15.5 | 188 | 3050 | FEMALE |\n",
       "| Adelie | Dream     | 33.1 | 16.1 | 178 | 2900 | FEMALE |\n",
       "| Adelie | Torgersen | 33.5 | 19.0 | 190 | 3600 | FEMALE |\n",
       "| Adelie | Dream     | 34.0 | 17.1 | 185 | 3400 | FEMALE |\n",
       "| Adelie | Torgersen | 34.1 | 18.1 | 193 | 3475 | NA     |\n",
       "| Adelie | Torgersen | 34.4 | 18.4 | 184 | 3325 | FEMALE |\n",
       "\n"
      ],
      "text/plain": [
       "  species island    culmen_length_mm culmen_depth_mm flipper_length_mm\n",
       "1 Adelie  Dream     32.1             15.5            188              \n",
       "2 Adelie  Dream     33.1             16.1            178              \n",
       "3 Adelie  Torgersen 33.5             19.0            190              \n",
       "4 Adelie  Dream     34.0             17.1            185              \n",
       "5 Adelie  Torgersen 34.1             18.1            193              \n",
       "6 Adelie  Torgersen 34.4             18.4            184              \n",
       "  body_mass_g sex   \n",
       "1 3050        FEMALE\n",
       "2 2900        FEMALE\n",
       "3 3600        FEMALE\n",
       "4 3400        FEMALE\n",
       "5 3475        NA    \n",
       "6 3325        FEMALE"
      ]
     },
     "metadata": {},
     "output_type": "display_data"
    }
   ],
   "source": [
    "penguins %>%\n",
    "  arrange(culmen_length_mm) %>%  head() # arrange() \"arranges,\" or organizes, our data in ascending order, starting from the lowest value and running to the highest (or in the case of character data, in alphabetical order)."
   ]
  },
  {
   "cell_type": "code",
   "execution_count": 16,
   "id": "5955f568",
   "metadata": {
    "vscode": {
     "languageId": "r"
    }
   },
   "outputs": [
    {
     "data": {
      "text/html": [
       "<table class=\"dataframe\">\n",
       "<caption>A tibble: 6 × 7</caption>\n",
       "<thead>\n",
       "\t<tr><th scope=col>species</th><th scope=col>island</th><th scope=col>culmen_length_mm</th><th scope=col>culmen_depth_mm</th><th scope=col>flipper_length_mm</th><th scope=col>body_mass_g</th><th scope=col>sex</th></tr>\n",
       "\t<tr><th scope=col>&lt;chr&gt;</th><th scope=col>&lt;chr&gt;</th><th scope=col>&lt;dbl&gt;</th><th scope=col>&lt;dbl&gt;</th><th scope=col>&lt;dbl&gt;</th><th scope=col>&lt;dbl&gt;</th><th scope=col>&lt;chr&gt;</th></tr>\n",
       "</thead>\n",
       "<tbody>\n",
       "\t<tr><td>Adelie</td><td>Torgersen</td><td>39.1</td><td>18.7</td><td>181</td><td>3750</td><td>MALE  </td></tr>\n",
       "\t<tr><td>Adelie</td><td>Torgersen</td><td>39.5</td><td>17.4</td><td>186</td><td>3800</td><td>FEMALE</td></tr>\n",
       "\t<tr><td>Adelie</td><td>Torgersen</td><td>40.3</td><td>18.0</td><td>195</td><td>3250</td><td>FEMALE</td></tr>\n",
       "\t<tr><td>Adelie</td><td>Torgersen</td><td>  NA</td><td>  NA</td><td> NA</td><td>  NA</td><td>NA    </td></tr>\n",
       "\t<tr><td>Adelie</td><td>Torgersen</td><td>36.7</td><td>19.3</td><td>193</td><td>3450</td><td>FEMALE</td></tr>\n",
       "\t<tr><td>Adelie</td><td>Torgersen</td><td>39.3</td><td>20.6</td><td>190</td><td>3650</td><td>MALE  </td></tr>\n",
       "</tbody>\n",
       "</table>\n"
      ],
      "text/latex": [
       "A tibble: 6 × 7\n",
       "\\begin{tabular}{lllllll}\n",
       " species & island & culmen\\_length\\_mm & culmen\\_depth\\_mm & flipper\\_length\\_mm & body\\_mass\\_g & sex\\\\\n",
       " <chr> & <chr> & <dbl> & <dbl> & <dbl> & <dbl> & <chr>\\\\\n",
       "\\hline\n",
       "\t Adelie & Torgersen & 39.1 & 18.7 & 181 & 3750 & MALE  \\\\\n",
       "\t Adelie & Torgersen & 39.5 & 17.4 & 186 & 3800 & FEMALE\\\\\n",
       "\t Adelie & Torgersen & 40.3 & 18.0 & 195 & 3250 & FEMALE\\\\\n",
       "\t Adelie & Torgersen &   NA &   NA &  NA &   NA & NA    \\\\\n",
       "\t Adelie & Torgersen & 36.7 & 19.3 & 193 & 3450 & FEMALE\\\\\n",
       "\t Adelie & Torgersen & 39.3 & 20.6 & 190 & 3650 & MALE  \\\\\n",
       "\\end{tabular}\n"
      ],
      "text/markdown": [
       "\n",
       "A tibble: 6 × 7\n",
       "\n",
       "| species &lt;chr&gt; | island &lt;chr&gt; | culmen_length_mm &lt;dbl&gt; | culmen_depth_mm &lt;dbl&gt; | flipper_length_mm &lt;dbl&gt; | body_mass_g &lt;dbl&gt; | sex &lt;chr&gt; |\n",
       "|---|---|---|---|---|---|---|\n",
       "| Adelie | Torgersen | 39.1 | 18.7 | 181 | 3750 | MALE   |\n",
       "| Adelie | Torgersen | 39.5 | 17.4 | 186 | 3800 | FEMALE |\n",
       "| Adelie | Torgersen | 40.3 | 18.0 | 195 | 3250 | FEMALE |\n",
       "| Adelie | Torgersen |   NA |   NA |  NA |   NA | NA     |\n",
       "| Adelie | Torgersen | 36.7 | 19.3 | 193 | 3450 | FEMALE |\n",
       "| Adelie | Torgersen | 39.3 | 20.6 | 190 | 3650 | MALE   |\n",
       "\n"
      ],
      "text/plain": [
       "  species island    culmen_length_mm culmen_depth_mm flipper_length_mm\n",
       "1 Adelie  Torgersen 39.1             18.7            181              \n",
       "2 Adelie  Torgersen 39.5             17.4            186              \n",
       "3 Adelie  Torgersen 40.3             18.0            195              \n",
       "4 Adelie  Torgersen   NA               NA             NA              \n",
       "5 Adelie  Torgersen 36.7             19.3            193              \n",
       "6 Adelie  Torgersen 39.3             20.6            190              \n",
       "  body_mass_g sex   \n",
       "1 3750        MALE  \n",
       "2 3800        FEMALE\n",
       "3 3250        FEMALE\n",
       "4   NA        NA    \n",
       "5 3450        FEMALE\n",
       "6 3650        MALE  "
      ]
     },
     "metadata": {},
     "output_type": "display_data"
    }
   ],
   "source": [
    "penguins %>%\n",
    "  arrange(species) %>% head()"
   ]
  },
  {
   "cell_type": "code",
   "execution_count": 12,
   "id": "8116c7a9",
   "metadata": {
    "vscode": {
     "languageId": "r"
    }
   },
   "outputs": [
    {
     "data": {
      "text/html": [
       "<table class=\"dataframe\">\n",
       "<caption>A spec_tbl_df: 12 × 7</caption>\n",
       "<thead>\n",
       "\t<tr><th scope=col>species</th><th scope=col>island</th><th scope=col>culmen_length_mm</th><th scope=col>culmen_depth_mm</th><th scope=col>flipper_length_mm</th><th scope=col>body_mass_g</th><th scope=col>sex</th></tr>\n",
       "\t<tr><th scope=col>&lt;chr&gt;</th><th scope=col>&lt;chr&gt;</th><th scope=col>&lt;dbl&gt;</th><th scope=col>&lt;dbl&gt;</th><th scope=col>&lt;dbl&gt;</th><th scope=col>&lt;dbl&gt;</th><th scope=col>&lt;chr&gt;</th></tr>\n",
       "</thead>\n",
       "<tbody>\n",
       "\t<tr><td>Adelie   </td><td>Torgersen</td><td>41.4</td><td>18.5</td><td>202</td><td>3875</td><td>MALE  </td></tr>\n",
       "\t<tr><td>Chinstrap</td><td>Dream    </td><td>50.1</td><td>17.9</td><td>190</td><td>3400</td><td>FEMALE</td></tr>\n",
       "\t<tr><td>Gentoo   </td><td>Biscoe   </td><td>50.5</td><td>15.9</td><td>222</td><td>5550</td><td>MALE  </td></tr>\n",
       "\t<tr><td>Chinstrap</td><td>Dream    </td><td>49.0</td><td>19.6</td><td>212</td><td>4300</td><td>MALE  </td></tr>\n",
       "\t<tr><td>Chinstrap</td><td>Dream    </td><td>43.5</td><td>18.1</td><td>202</td><td>3400</td><td>FEMALE</td></tr>\n",
       "\t<tr><td>Gentoo   </td><td>Biscoe   </td><td>51.5</td><td>16.3</td><td>230</td><td>5500</td><td>MALE  </td></tr>\n",
       "\t<tr><td>Adelie   </td><td>Biscoe   </td><td>40.5</td><td>17.9</td><td>187</td><td>3200</td><td>FEMALE</td></tr>\n",
       "\t<tr><td>Gentoo   </td><td>Biscoe   </td><td>43.5</td><td>15.2</td><td>213</td><td>4650</td><td>FEMALE</td></tr>\n",
       "\t<tr><td>Adelie   </td><td>Dream    </td><td>36.3</td><td>19.5</td><td>190</td><td>3800</td><td>MALE  </td></tr>\n",
       "\t<tr><td>Adelie   </td><td>Torgersen</td><td>39.0</td><td>17.1</td><td>191</td><td>3050</td><td>FEMALE</td></tr>\n",
       "\t<tr><td>Adelie   </td><td>Biscoe   </td><td>41.6</td><td>18.0</td><td>192</td><td>3950</td><td>MALE  </td></tr>\n",
       "\t<tr><td>Gentoo   </td><td>Biscoe   </td><td>47.6</td><td>14.5</td><td>215</td><td>5400</td><td>MALE  </td></tr>\n",
       "</tbody>\n",
       "</table>\n"
      ],
      "text/latex": [
       "A spec\\_tbl\\_df: 12 × 7\n",
       "\\begin{tabular}{lllllll}\n",
       " species & island & culmen\\_length\\_mm & culmen\\_depth\\_mm & flipper\\_length\\_mm & body\\_mass\\_g & sex\\\\\n",
       " <chr> & <chr> & <dbl> & <dbl> & <dbl> & <dbl> & <chr>\\\\\n",
       "\\hline\n",
       "\t Adelie    & Torgersen & 41.4 & 18.5 & 202 & 3875 & MALE  \\\\\n",
       "\t Chinstrap & Dream     & 50.1 & 17.9 & 190 & 3400 & FEMALE\\\\\n",
       "\t Gentoo    & Biscoe    & 50.5 & 15.9 & 222 & 5550 & MALE  \\\\\n",
       "\t Chinstrap & Dream     & 49.0 & 19.6 & 212 & 4300 & MALE  \\\\\n",
       "\t Chinstrap & Dream     & 43.5 & 18.1 & 202 & 3400 & FEMALE\\\\\n",
       "\t Gentoo    & Biscoe    & 51.5 & 16.3 & 230 & 5500 & MALE  \\\\\n",
       "\t Adelie    & Biscoe    & 40.5 & 17.9 & 187 & 3200 & FEMALE\\\\\n",
       "\t Gentoo    & Biscoe    & 43.5 & 15.2 & 213 & 4650 & FEMALE\\\\\n",
       "\t Adelie    & Dream     & 36.3 & 19.5 & 190 & 3800 & MALE  \\\\\n",
       "\t Adelie    & Torgersen & 39.0 & 17.1 & 191 & 3050 & FEMALE\\\\\n",
       "\t Adelie    & Biscoe    & 41.6 & 18.0 & 192 & 3950 & MALE  \\\\\n",
       "\t Gentoo    & Biscoe    & 47.6 & 14.5 & 215 & 5400 & MALE  \\\\\n",
       "\\end{tabular}\n"
      ],
      "text/markdown": [
       "\n",
       "A spec_tbl_df: 12 × 7\n",
       "\n",
       "| species &lt;chr&gt; | island &lt;chr&gt; | culmen_length_mm &lt;dbl&gt; | culmen_depth_mm &lt;dbl&gt; | flipper_length_mm &lt;dbl&gt; | body_mass_g &lt;dbl&gt; | sex &lt;chr&gt; |\n",
       "|---|---|---|---|---|---|---|\n",
       "| Adelie    | Torgersen | 41.4 | 18.5 | 202 | 3875 | MALE   |\n",
       "| Chinstrap | Dream     | 50.1 | 17.9 | 190 | 3400 | FEMALE |\n",
       "| Gentoo    | Biscoe    | 50.5 | 15.9 | 222 | 5550 | MALE   |\n",
       "| Chinstrap | Dream     | 49.0 | 19.6 | 212 | 4300 | MALE   |\n",
       "| Chinstrap | Dream     | 43.5 | 18.1 | 202 | 3400 | FEMALE |\n",
       "| Gentoo    | Biscoe    | 51.5 | 16.3 | 230 | 5500 | MALE   |\n",
       "| Adelie    | Biscoe    | 40.5 | 17.9 | 187 | 3200 | FEMALE |\n",
       "| Gentoo    | Biscoe    | 43.5 | 15.2 | 213 | 4650 | FEMALE |\n",
       "| Adelie    | Dream     | 36.3 | 19.5 | 190 | 3800 | MALE   |\n",
       "| Adelie    | Torgersen | 39.0 | 17.1 | 191 | 3050 | FEMALE |\n",
       "| Adelie    | Biscoe    | 41.6 | 18.0 | 192 | 3950 | MALE   |\n",
       "| Gentoo    | Biscoe    | 47.6 | 14.5 | 215 | 5400 | MALE   |\n",
       "\n"
      ],
      "text/plain": [
       "   species   island    culmen_length_mm culmen_depth_mm flipper_length_mm\n",
       "1  Adelie    Torgersen 41.4             18.5            202              \n",
       "2  Chinstrap Dream     50.1             17.9            190              \n",
       "3  Gentoo    Biscoe    50.5             15.9            222              \n",
       "4  Chinstrap Dream     49.0             19.6            212              \n",
       "5  Chinstrap Dream     43.5             18.1            202              \n",
       "6  Gentoo    Biscoe    51.5             16.3            230              \n",
       "7  Adelie    Biscoe    40.5             17.9            187              \n",
       "8  Gentoo    Biscoe    43.5             15.2            213              \n",
       "9  Adelie    Dream     36.3             19.5            190              \n",
       "10 Adelie    Torgersen 39.0             17.1            191              \n",
       "11 Adelie    Biscoe    41.6             18.0            192              \n",
       "12 Gentoo    Biscoe    47.6             14.5            215              \n",
       "   body_mass_g sex   \n",
       "1  3875        MALE  \n",
       "2  3400        FEMALE\n",
       "3  5550        MALE  \n",
       "4  4300        MALE  \n",
       "5  3400        FEMALE\n",
       "6  5500        MALE  \n",
       "7  3200        FEMALE\n",
       "8  4650        FEMALE\n",
       "9  3800        MALE  \n",
       "10 3050        FEMALE\n",
       "11 3950        MALE  \n",
       "12 5400        MALE  "
      ]
     },
     "metadata": {},
     "output_type": "display_data"
    }
   ],
   "source": [
    "# creating a random subset of the penguins dataset\n",
    "set.seed(406)\n",
    "\n",
    "penguins_subset <- penguins %>%\n",
    "  sample_n(12)  # another dplyr function!\n",
    "\n",
    "penguins_subset"
   ]
  },
  {
   "cell_type": "code",
   "execution_count": 13,
   "id": "231ab931",
   "metadata": {
    "vscode": {
     "languageId": "r"
    }
   },
   "outputs": [
    {
     "data": {
      "text/html": [
       "<table class=\"dataframe\">\n",
       "<caption>A spec_tbl_df: 12 × 7</caption>\n",
       "<thead>\n",
       "\t<tr><th scope=col>species</th><th scope=col>island</th><th scope=col>culmen_length_mm</th><th scope=col>culmen_depth_mm</th><th scope=col>flipper_length_mm</th><th scope=col>body_mass_g</th><th scope=col>sex</th></tr>\n",
       "\t<tr><th scope=col>&lt;chr&gt;</th><th scope=col>&lt;chr&gt;</th><th scope=col>&lt;dbl&gt;</th><th scope=col>&lt;dbl&gt;</th><th scope=col>&lt;dbl&gt;</th><th scope=col>&lt;dbl&gt;</th><th scope=col>&lt;chr&gt;</th></tr>\n",
       "</thead>\n",
       "<tbody>\n",
       "\t<tr><td>Adelie   </td><td>Torgersen</td><td>41.4</td><td>18.5</td><td>202</td><td>3875</td><td>MALE  </td></tr>\n",
       "\t<tr><td>Adelie   </td><td>Biscoe   </td><td>40.5</td><td>17.9</td><td>187</td><td>3200</td><td>FEMALE</td></tr>\n",
       "\t<tr><td>Adelie   </td><td>Dream    </td><td>36.3</td><td>19.5</td><td>190</td><td>3800</td><td>MALE  </td></tr>\n",
       "\t<tr><td>Adelie   </td><td>Torgersen</td><td>39.0</td><td>17.1</td><td>191</td><td>3050</td><td>FEMALE</td></tr>\n",
       "\t<tr><td>Adelie   </td><td>Biscoe   </td><td>41.6</td><td>18.0</td><td>192</td><td>3950</td><td>MALE  </td></tr>\n",
       "\t<tr><td>Chinstrap</td><td>Dream    </td><td>50.1</td><td>17.9</td><td>190</td><td>3400</td><td>FEMALE</td></tr>\n",
       "\t<tr><td>Chinstrap</td><td>Dream    </td><td>49.0</td><td>19.6</td><td>212</td><td>4300</td><td>MALE  </td></tr>\n",
       "\t<tr><td>Chinstrap</td><td>Dream    </td><td>43.5</td><td>18.1</td><td>202</td><td>3400</td><td>FEMALE</td></tr>\n",
       "\t<tr><td>Gentoo   </td><td>Biscoe   </td><td>50.5</td><td>15.9</td><td>222</td><td>5550</td><td>MALE  </td></tr>\n",
       "\t<tr><td>Gentoo   </td><td>Biscoe   </td><td>51.5</td><td>16.3</td><td>230</td><td>5500</td><td>MALE  </td></tr>\n",
       "\t<tr><td>Gentoo   </td><td>Biscoe   </td><td>43.5</td><td>15.2</td><td>213</td><td>4650</td><td>FEMALE</td></tr>\n",
       "\t<tr><td>Gentoo   </td><td>Biscoe   </td><td>47.6</td><td>14.5</td><td>215</td><td>5400</td><td>MALE  </td></tr>\n",
       "</tbody>\n",
       "</table>\n"
      ],
      "text/latex": [
       "A spec\\_tbl\\_df: 12 × 7\n",
       "\\begin{tabular}{lllllll}\n",
       " species & island & culmen\\_length\\_mm & culmen\\_depth\\_mm & flipper\\_length\\_mm & body\\_mass\\_g & sex\\\\\n",
       " <chr> & <chr> & <dbl> & <dbl> & <dbl> & <dbl> & <chr>\\\\\n",
       "\\hline\n",
       "\t Adelie    & Torgersen & 41.4 & 18.5 & 202 & 3875 & MALE  \\\\\n",
       "\t Adelie    & Biscoe    & 40.5 & 17.9 & 187 & 3200 & FEMALE\\\\\n",
       "\t Adelie    & Dream     & 36.3 & 19.5 & 190 & 3800 & MALE  \\\\\n",
       "\t Adelie    & Torgersen & 39.0 & 17.1 & 191 & 3050 & FEMALE\\\\\n",
       "\t Adelie    & Biscoe    & 41.6 & 18.0 & 192 & 3950 & MALE  \\\\\n",
       "\t Chinstrap & Dream     & 50.1 & 17.9 & 190 & 3400 & FEMALE\\\\\n",
       "\t Chinstrap & Dream     & 49.0 & 19.6 & 212 & 4300 & MALE  \\\\\n",
       "\t Chinstrap & Dream     & 43.5 & 18.1 & 202 & 3400 & FEMALE\\\\\n",
       "\t Gentoo    & Biscoe    & 50.5 & 15.9 & 222 & 5550 & MALE  \\\\\n",
       "\t Gentoo    & Biscoe    & 51.5 & 16.3 & 230 & 5500 & MALE  \\\\\n",
       "\t Gentoo    & Biscoe    & 43.5 & 15.2 & 213 & 4650 & FEMALE\\\\\n",
       "\t Gentoo    & Biscoe    & 47.6 & 14.5 & 215 & 5400 & MALE  \\\\\n",
       "\\end{tabular}\n"
      ],
      "text/markdown": [
       "\n",
       "A spec_tbl_df: 12 × 7\n",
       "\n",
       "| species &lt;chr&gt; | island &lt;chr&gt; | culmen_length_mm &lt;dbl&gt; | culmen_depth_mm &lt;dbl&gt; | flipper_length_mm &lt;dbl&gt; | body_mass_g &lt;dbl&gt; | sex &lt;chr&gt; |\n",
       "|---|---|---|---|---|---|---|\n",
       "| Adelie    | Torgersen | 41.4 | 18.5 | 202 | 3875 | MALE   |\n",
       "| Adelie    | Biscoe    | 40.5 | 17.9 | 187 | 3200 | FEMALE |\n",
       "| Adelie    | Dream     | 36.3 | 19.5 | 190 | 3800 | MALE   |\n",
       "| Adelie    | Torgersen | 39.0 | 17.1 | 191 | 3050 | FEMALE |\n",
       "| Adelie    | Biscoe    | 41.6 | 18.0 | 192 | 3950 | MALE   |\n",
       "| Chinstrap | Dream     | 50.1 | 17.9 | 190 | 3400 | FEMALE |\n",
       "| Chinstrap | Dream     | 49.0 | 19.6 | 212 | 4300 | MALE   |\n",
       "| Chinstrap | Dream     | 43.5 | 18.1 | 202 | 3400 | FEMALE |\n",
       "| Gentoo    | Biscoe    | 50.5 | 15.9 | 222 | 5550 | MALE   |\n",
       "| Gentoo    | Biscoe    | 51.5 | 16.3 | 230 | 5500 | MALE   |\n",
       "| Gentoo    | Biscoe    | 43.5 | 15.2 | 213 | 4650 | FEMALE |\n",
       "| Gentoo    | Biscoe    | 47.6 | 14.5 | 215 | 5400 | MALE   |\n",
       "\n"
      ],
      "text/plain": [
       "   species   island    culmen_length_mm culmen_depth_mm flipper_length_mm\n",
       "1  Adelie    Torgersen 41.4             18.5            202              \n",
       "2  Adelie    Biscoe    40.5             17.9            187              \n",
       "3  Adelie    Dream     36.3             19.5            190              \n",
       "4  Adelie    Torgersen 39.0             17.1            191              \n",
       "5  Adelie    Biscoe    41.6             18.0            192              \n",
       "6  Chinstrap Dream     50.1             17.9            190              \n",
       "7  Chinstrap Dream     49.0             19.6            212              \n",
       "8  Chinstrap Dream     43.5             18.1            202              \n",
       "9  Gentoo    Biscoe    50.5             15.9            222              \n",
       "10 Gentoo    Biscoe    51.5             16.3            230              \n",
       "11 Gentoo    Biscoe    43.5             15.2            213              \n",
       "12 Gentoo    Biscoe    47.6             14.5            215              \n",
       "   body_mass_g sex   \n",
       "1  3875        MALE  \n",
       "2  3200        FEMALE\n",
       "3  3800        MALE  \n",
       "4  3050        FEMALE\n",
       "5  3950        MALE  \n",
       "6  3400        FEMALE\n",
       "7  4300        MALE  \n",
       "8  3400        FEMALE\n",
       "9  5550        MALE  \n",
       "10 5500        MALE  \n",
       "11 4650        FEMALE\n",
       "12 5400        MALE  "
      ]
     },
     "metadata": {},
     "output_type": "display_data"
    }
   ],
   "source": [
    "penguins_subset %>%\n",
    "  arrange(species)"
   ]
  },
  {
   "cell_type": "code",
   "execution_count": 17,
   "id": "548494dc",
   "metadata": {
    "vscode": {
     "languageId": "r"
    }
   },
   "outputs": [
    {
     "data": {
      "text/html": [
       "<table class=\"dataframe\">\n",
       "<caption>A spec_tbl_df: 12 × 7</caption>\n",
       "<thead>\n",
       "\t<tr><th scope=col>species</th><th scope=col>island</th><th scope=col>culmen_length_mm</th><th scope=col>culmen_depth_mm</th><th scope=col>flipper_length_mm</th><th scope=col>body_mass_g</th><th scope=col>sex</th></tr>\n",
       "\t<tr><th scope=col>&lt;chr&gt;</th><th scope=col>&lt;chr&gt;</th><th scope=col>&lt;dbl&gt;</th><th scope=col>&lt;dbl&gt;</th><th scope=col>&lt;dbl&gt;</th><th scope=col>&lt;dbl&gt;</th><th scope=col>&lt;chr&gt;</th></tr>\n",
       "</thead>\n",
       "<tbody>\n",
       "\t<tr><td>Gentoo   </td><td>Biscoe   </td><td>51.5</td><td>16.3</td><td>230</td><td>5500</td><td>MALE  </td></tr>\n",
       "\t<tr><td>Gentoo   </td><td>Biscoe   </td><td>50.5</td><td>15.9</td><td>222</td><td>5550</td><td>MALE  </td></tr>\n",
       "\t<tr><td>Chinstrap</td><td>Dream    </td><td>50.1</td><td>17.9</td><td>190</td><td>3400</td><td>FEMALE</td></tr>\n",
       "\t<tr><td>Chinstrap</td><td>Dream    </td><td>49.0</td><td>19.6</td><td>212</td><td>4300</td><td>MALE  </td></tr>\n",
       "\t<tr><td>Gentoo   </td><td>Biscoe   </td><td>47.6</td><td>14.5</td><td>215</td><td>5400</td><td>MALE  </td></tr>\n",
       "\t<tr><td>Chinstrap</td><td>Dream    </td><td>43.5</td><td>18.1</td><td>202</td><td>3400</td><td>FEMALE</td></tr>\n",
       "\t<tr><td>Gentoo   </td><td>Biscoe   </td><td>43.5</td><td>15.2</td><td>213</td><td>4650</td><td>FEMALE</td></tr>\n",
       "\t<tr><td>Adelie   </td><td>Biscoe   </td><td>41.6</td><td>18.0</td><td>192</td><td>3950</td><td>MALE  </td></tr>\n",
       "\t<tr><td>Adelie   </td><td>Torgersen</td><td>41.4</td><td>18.5</td><td>202</td><td>3875</td><td>MALE  </td></tr>\n",
       "\t<tr><td>Adelie   </td><td>Biscoe   </td><td>40.5</td><td>17.9</td><td>187</td><td>3200</td><td>FEMALE</td></tr>\n",
       "\t<tr><td>Adelie   </td><td>Torgersen</td><td>39.0</td><td>17.1</td><td>191</td><td>3050</td><td>FEMALE</td></tr>\n",
       "\t<tr><td>Adelie   </td><td>Dream    </td><td>36.3</td><td>19.5</td><td>190</td><td>3800</td><td>MALE  </td></tr>\n",
       "</tbody>\n",
       "</table>\n"
      ],
      "text/latex": [
       "A spec\\_tbl\\_df: 12 × 7\n",
       "\\begin{tabular}{lllllll}\n",
       " species & island & culmen\\_length\\_mm & culmen\\_depth\\_mm & flipper\\_length\\_mm & body\\_mass\\_g & sex\\\\\n",
       " <chr> & <chr> & <dbl> & <dbl> & <dbl> & <dbl> & <chr>\\\\\n",
       "\\hline\n",
       "\t Gentoo    & Biscoe    & 51.5 & 16.3 & 230 & 5500 & MALE  \\\\\n",
       "\t Gentoo    & Biscoe    & 50.5 & 15.9 & 222 & 5550 & MALE  \\\\\n",
       "\t Chinstrap & Dream     & 50.1 & 17.9 & 190 & 3400 & FEMALE\\\\\n",
       "\t Chinstrap & Dream     & 49.0 & 19.6 & 212 & 4300 & MALE  \\\\\n",
       "\t Gentoo    & Biscoe    & 47.6 & 14.5 & 215 & 5400 & MALE  \\\\\n",
       "\t Chinstrap & Dream     & 43.5 & 18.1 & 202 & 3400 & FEMALE\\\\\n",
       "\t Gentoo    & Biscoe    & 43.5 & 15.2 & 213 & 4650 & FEMALE\\\\\n",
       "\t Adelie    & Biscoe    & 41.6 & 18.0 & 192 & 3950 & MALE  \\\\\n",
       "\t Adelie    & Torgersen & 41.4 & 18.5 & 202 & 3875 & MALE  \\\\\n",
       "\t Adelie    & Biscoe    & 40.5 & 17.9 & 187 & 3200 & FEMALE\\\\\n",
       "\t Adelie    & Torgersen & 39.0 & 17.1 & 191 & 3050 & FEMALE\\\\\n",
       "\t Adelie    & Dream     & 36.3 & 19.5 & 190 & 3800 & MALE  \\\\\n",
       "\\end{tabular}\n"
      ],
      "text/markdown": [
       "\n",
       "A spec_tbl_df: 12 × 7\n",
       "\n",
       "| species &lt;chr&gt; | island &lt;chr&gt; | culmen_length_mm &lt;dbl&gt; | culmen_depth_mm &lt;dbl&gt; | flipper_length_mm &lt;dbl&gt; | body_mass_g &lt;dbl&gt; | sex &lt;chr&gt; |\n",
       "|---|---|---|---|---|---|---|\n",
       "| Gentoo    | Biscoe    | 51.5 | 16.3 | 230 | 5500 | MALE   |\n",
       "| Gentoo    | Biscoe    | 50.5 | 15.9 | 222 | 5550 | MALE   |\n",
       "| Chinstrap | Dream     | 50.1 | 17.9 | 190 | 3400 | FEMALE |\n",
       "| Chinstrap | Dream     | 49.0 | 19.6 | 212 | 4300 | MALE   |\n",
       "| Gentoo    | Biscoe    | 47.6 | 14.5 | 215 | 5400 | MALE   |\n",
       "| Chinstrap | Dream     | 43.5 | 18.1 | 202 | 3400 | FEMALE |\n",
       "| Gentoo    | Biscoe    | 43.5 | 15.2 | 213 | 4650 | FEMALE |\n",
       "| Adelie    | Biscoe    | 41.6 | 18.0 | 192 | 3950 | MALE   |\n",
       "| Adelie    | Torgersen | 41.4 | 18.5 | 202 | 3875 | MALE   |\n",
       "| Adelie    | Biscoe    | 40.5 | 17.9 | 187 | 3200 | FEMALE |\n",
       "| Adelie    | Torgersen | 39.0 | 17.1 | 191 | 3050 | FEMALE |\n",
       "| Adelie    | Dream     | 36.3 | 19.5 | 190 | 3800 | MALE   |\n",
       "\n"
      ],
      "text/plain": [
       "   species   island    culmen_length_mm culmen_depth_mm flipper_length_mm\n",
       "1  Gentoo    Biscoe    51.5             16.3            230              \n",
       "2  Gentoo    Biscoe    50.5             15.9            222              \n",
       "3  Chinstrap Dream     50.1             17.9            190              \n",
       "4  Chinstrap Dream     49.0             19.6            212              \n",
       "5  Gentoo    Biscoe    47.6             14.5            215              \n",
       "6  Chinstrap Dream     43.5             18.1            202              \n",
       "7  Gentoo    Biscoe    43.5             15.2            213              \n",
       "8  Adelie    Biscoe    41.6             18.0            192              \n",
       "9  Adelie    Torgersen 41.4             18.5            202              \n",
       "10 Adelie    Biscoe    40.5             17.9            187              \n",
       "11 Adelie    Torgersen 39.0             17.1            191              \n",
       "12 Adelie    Dream     36.3             19.5            190              \n",
       "   body_mass_g sex   \n",
       "1  5500        MALE  \n",
       "2  5550        MALE  \n",
       "3  3400        FEMALE\n",
       "4  4300        MALE  \n",
       "5  5400        MALE  \n",
       "6  3400        FEMALE\n",
       "7  4650        FEMALE\n",
       "8  3950        MALE  \n",
       "9  3875        MALE  \n",
       "10 3200        FEMALE\n",
       "11 3050        FEMALE\n",
       "12 3800        MALE  "
      ]
     },
     "metadata": {},
     "output_type": "display_data"
    }
   ],
   "source": [
    "penguins_subset %>%\n",
    "  arrange(desc(culmen_length_mm)) # desc() function, which stands for descending, within the arrange() function. This will then order our numeric data from highest to lowest, and our character data in reverse alphabetical order."
   ]
  },
  {
   "cell_type": "code",
   "execution_count": 18,
   "id": "e3d7b7a8",
   "metadata": {
    "vscode": {
     "languageId": "r"
    }
   },
   "outputs": [
    {
     "data": {
      "text/html": [
       "<table class=\"dataframe\">\n",
       "<caption>A spec_tbl_df: 12 × 7</caption>\n",
       "<thead>\n",
       "\t<tr><th scope=col>species</th><th scope=col>island</th><th scope=col>culmen_length_mm</th><th scope=col>culmen_depth_mm</th><th scope=col>flipper_length_mm</th><th scope=col>body_mass_g</th><th scope=col>sex</th></tr>\n",
       "\t<tr><th scope=col>&lt;chr&gt;</th><th scope=col>&lt;chr&gt;</th><th scope=col>&lt;dbl&gt;</th><th scope=col>&lt;dbl&gt;</th><th scope=col>&lt;dbl&gt;</th><th scope=col>&lt;dbl&gt;</th><th scope=col>&lt;chr&gt;</th></tr>\n",
       "</thead>\n",
       "<tbody>\n",
       "\t<tr><td>Gentoo   </td><td>Biscoe   </td><td>50.5</td><td>15.9</td><td>222</td><td>5550</td><td>MALE  </td></tr>\n",
       "\t<tr><td>Gentoo   </td><td>Biscoe   </td><td>51.5</td><td>16.3</td><td>230</td><td>5500</td><td>MALE  </td></tr>\n",
       "\t<tr><td>Gentoo   </td><td>Biscoe   </td><td>43.5</td><td>15.2</td><td>213</td><td>4650</td><td>FEMALE</td></tr>\n",
       "\t<tr><td>Gentoo   </td><td>Biscoe   </td><td>47.6</td><td>14.5</td><td>215</td><td>5400</td><td>MALE  </td></tr>\n",
       "\t<tr><td>Chinstrap</td><td>Dream    </td><td>50.1</td><td>17.9</td><td>190</td><td>3400</td><td>FEMALE</td></tr>\n",
       "\t<tr><td>Chinstrap</td><td>Dream    </td><td>49.0</td><td>19.6</td><td>212</td><td>4300</td><td>MALE  </td></tr>\n",
       "\t<tr><td>Chinstrap</td><td>Dream    </td><td>43.5</td><td>18.1</td><td>202</td><td>3400</td><td>FEMALE</td></tr>\n",
       "\t<tr><td>Adelie   </td><td>Torgersen</td><td>41.4</td><td>18.5</td><td>202</td><td>3875</td><td>MALE  </td></tr>\n",
       "\t<tr><td>Adelie   </td><td>Biscoe   </td><td>40.5</td><td>17.9</td><td>187</td><td>3200</td><td>FEMALE</td></tr>\n",
       "\t<tr><td>Adelie   </td><td>Dream    </td><td>36.3</td><td>19.5</td><td>190</td><td>3800</td><td>MALE  </td></tr>\n",
       "\t<tr><td>Adelie   </td><td>Torgersen</td><td>39.0</td><td>17.1</td><td>191</td><td>3050</td><td>FEMALE</td></tr>\n",
       "\t<tr><td>Adelie   </td><td>Biscoe   </td><td>41.6</td><td>18.0</td><td>192</td><td>3950</td><td>MALE  </td></tr>\n",
       "</tbody>\n",
       "</table>\n"
      ],
      "text/latex": [
       "A spec\\_tbl\\_df: 12 × 7\n",
       "\\begin{tabular}{lllllll}\n",
       " species & island & culmen\\_length\\_mm & culmen\\_depth\\_mm & flipper\\_length\\_mm & body\\_mass\\_g & sex\\\\\n",
       " <chr> & <chr> & <dbl> & <dbl> & <dbl> & <dbl> & <chr>\\\\\n",
       "\\hline\n",
       "\t Gentoo    & Biscoe    & 50.5 & 15.9 & 222 & 5550 & MALE  \\\\\n",
       "\t Gentoo    & Biscoe    & 51.5 & 16.3 & 230 & 5500 & MALE  \\\\\n",
       "\t Gentoo    & Biscoe    & 43.5 & 15.2 & 213 & 4650 & FEMALE\\\\\n",
       "\t Gentoo    & Biscoe    & 47.6 & 14.5 & 215 & 5400 & MALE  \\\\\n",
       "\t Chinstrap & Dream     & 50.1 & 17.9 & 190 & 3400 & FEMALE\\\\\n",
       "\t Chinstrap & Dream     & 49.0 & 19.6 & 212 & 4300 & MALE  \\\\\n",
       "\t Chinstrap & Dream     & 43.5 & 18.1 & 202 & 3400 & FEMALE\\\\\n",
       "\t Adelie    & Torgersen & 41.4 & 18.5 & 202 & 3875 & MALE  \\\\\n",
       "\t Adelie    & Biscoe    & 40.5 & 17.9 & 187 & 3200 & FEMALE\\\\\n",
       "\t Adelie    & Dream     & 36.3 & 19.5 & 190 & 3800 & MALE  \\\\\n",
       "\t Adelie    & Torgersen & 39.0 & 17.1 & 191 & 3050 & FEMALE\\\\\n",
       "\t Adelie    & Biscoe    & 41.6 & 18.0 & 192 & 3950 & MALE  \\\\\n",
       "\\end{tabular}\n"
      ],
      "text/markdown": [
       "\n",
       "A spec_tbl_df: 12 × 7\n",
       "\n",
       "| species &lt;chr&gt; | island &lt;chr&gt; | culmen_length_mm &lt;dbl&gt; | culmen_depth_mm &lt;dbl&gt; | flipper_length_mm &lt;dbl&gt; | body_mass_g &lt;dbl&gt; | sex &lt;chr&gt; |\n",
       "|---|---|---|---|---|---|---|\n",
       "| Gentoo    | Biscoe    | 50.5 | 15.9 | 222 | 5550 | MALE   |\n",
       "| Gentoo    | Biscoe    | 51.5 | 16.3 | 230 | 5500 | MALE   |\n",
       "| Gentoo    | Biscoe    | 43.5 | 15.2 | 213 | 4650 | FEMALE |\n",
       "| Gentoo    | Biscoe    | 47.6 | 14.5 | 215 | 5400 | MALE   |\n",
       "| Chinstrap | Dream     | 50.1 | 17.9 | 190 | 3400 | FEMALE |\n",
       "| Chinstrap | Dream     | 49.0 | 19.6 | 212 | 4300 | MALE   |\n",
       "| Chinstrap | Dream     | 43.5 | 18.1 | 202 | 3400 | FEMALE |\n",
       "| Adelie    | Torgersen | 41.4 | 18.5 | 202 | 3875 | MALE   |\n",
       "| Adelie    | Biscoe    | 40.5 | 17.9 | 187 | 3200 | FEMALE |\n",
       "| Adelie    | Dream     | 36.3 | 19.5 | 190 | 3800 | MALE   |\n",
       "| Adelie    | Torgersen | 39.0 | 17.1 | 191 | 3050 | FEMALE |\n",
       "| Adelie    | Biscoe    | 41.6 | 18.0 | 192 | 3950 | MALE   |\n",
       "\n"
      ],
      "text/plain": [
       "   species   island    culmen_length_mm culmen_depth_mm flipper_length_mm\n",
       "1  Gentoo    Biscoe    50.5             15.9            222              \n",
       "2  Gentoo    Biscoe    51.5             16.3            230              \n",
       "3  Gentoo    Biscoe    43.5             15.2            213              \n",
       "4  Gentoo    Biscoe    47.6             14.5            215              \n",
       "5  Chinstrap Dream     50.1             17.9            190              \n",
       "6  Chinstrap Dream     49.0             19.6            212              \n",
       "7  Chinstrap Dream     43.5             18.1            202              \n",
       "8  Adelie    Torgersen 41.4             18.5            202              \n",
       "9  Adelie    Biscoe    40.5             17.9            187              \n",
       "10 Adelie    Dream     36.3             19.5            190              \n",
       "11 Adelie    Torgersen 39.0             17.1            191              \n",
       "12 Adelie    Biscoe    41.6             18.0            192              \n",
       "   body_mass_g sex   \n",
       "1  5550        MALE  \n",
       "2  5500        MALE  \n",
       "3  4650        FEMALE\n",
       "4  5400        MALE  \n",
       "5  3400        FEMALE\n",
       "6  4300        MALE  \n",
       "7  3400        FEMALE\n",
       "8  3875        MALE  \n",
       "9  3200        FEMALE\n",
       "10 3800        MALE  \n",
       "11 3050        FEMALE\n",
       "12 3950        MALE  "
      ]
     },
     "metadata": {},
     "output_type": "display_data"
    }
   ],
   "source": [
    "penguins_subset %>%\n",
    "  arrange(desc(species))"
   ]
  },
  {
   "cell_type": "code",
   "execution_count": 19,
   "id": "378b1697",
   "metadata": {
    "vscode": {
     "languageId": "r"
    }
   },
   "outputs": [
    {
     "data": {
      "text/html": [
       "<table class=\"dataframe\">\n",
       "<caption>A spec_tbl_df: 9 × 7</caption>\n",
       "<thead>\n",
       "\t<tr><th scope=col>species</th><th scope=col>island</th><th scope=col>culmen_length_mm</th><th scope=col>culmen_depth_mm</th><th scope=col>flipper_length_mm</th><th scope=col>body_mass_g</th><th scope=col>sex</th></tr>\n",
       "\t<tr><th scope=col>&lt;chr&gt;</th><th scope=col>&lt;chr&gt;</th><th scope=col>&lt;dbl&gt;</th><th scope=col>&lt;dbl&gt;</th><th scope=col>&lt;dbl&gt;</th><th scope=col>&lt;dbl&gt;</th><th scope=col>&lt;chr&gt;</th></tr>\n",
       "</thead>\n",
       "<tbody>\n",
       "\t<tr><td>Adelie   </td><td>Torgersen</td><td>41.4</td><td>18.5</td><td>202</td><td>3875</td><td>MALE  </td></tr>\n",
       "\t<tr><td>Chinstrap</td><td>Dream    </td><td>50.1</td><td>17.9</td><td>190</td><td>3400</td><td>FEMALE</td></tr>\n",
       "\t<tr><td>Chinstrap</td><td>Dream    </td><td>49.0</td><td>19.6</td><td>212</td><td>4300</td><td>MALE  </td></tr>\n",
       "\t<tr><td>Chinstrap</td><td>Dream    </td><td>43.5</td><td>18.1</td><td>202</td><td>3400</td><td>FEMALE</td></tr>\n",
       "\t<tr><td>Gentoo   </td><td>Biscoe   </td><td>51.5</td><td>16.3</td><td>230</td><td>5500</td><td>MALE  </td></tr>\n",
       "\t<tr><td>Adelie   </td><td>Biscoe   </td><td>40.5</td><td>17.9</td><td>187</td><td>3200</td><td>FEMALE</td></tr>\n",
       "\t<tr><td>Adelie   </td><td>Dream    </td><td>36.3</td><td>19.5</td><td>190</td><td>3800</td><td>MALE  </td></tr>\n",
       "\t<tr><td>Adelie   </td><td>Torgersen</td><td>39.0</td><td>17.1</td><td>191</td><td>3050</td><td>FEMALE</td></tr>\n",
       "\t<tr><td>Adelie   </td><td>Biscoe   </td><td>41.6</td><td>18.0</td><td>192</td><td>3950</td><td>MALE  </td></tr>\n",
       "</tbody>\n",
       "</table>\n"
      ],
      "text/latex": [
       "A spec\\_tbl\\_df: 9 × 7\n",
       "\\begin{tabular}{lllllll}\n",
       " species & island & culmen\\_length\\_mm & culmen\\_depth\\_mm & flipper\\_length\\_mm & body\\_mass\\_g & sex\\\\\n",
       " <chr> & <chr> & <dbl> & <dbl> & <dbl> & <dbl> & <chr>\\\\\n",
       "\\hline\n",
       "\t Adelie    & Torgersen & 41.4 & 18.5 & 202 & 3875 & MALE  \\\\\n",
       "\t Chinstrap & Dream     & 50.1 & 17.9 & 190 & 3400 & FEMALE\\\\\n",
       "\t Chinstrap & Dream     & 49.0 & 19.6 & 212 & 4300 & MALE  \\\\\n",
       "\t Chinstrap & Dream     & 43.5 & 18.1 & 202 & 3400 & FEMALE\\\\\n",
       "\t Gentoo    & Biscoe    & 51.5 & 16.3 & 230 & 5500 & MALE  \\\\\n",
       "\t Adelie    & Biscoe    & 40.5 & 17.9 & 187 & 3200 & FEMALE\\\\\n",
       "\t Adelie    & Dream     & 36.3 & 19.5 & 190 & 3800 & MALE  \\\\\n",
       "\t Adelie    & Torgersen & 39.0 & 17.1 & 191 & 3050 & FEMALE\\\\\n",
       "\t Adelie    & Biscoe    & 41.6 & 18.0 & 192 & 3950 & MALE  \\\\\n",
       "\\end{tabular}\n"
      ],
      "text/markdown": [
       "\n",
       "A spec_tbl_df: 9 × 7\n",
       "\n",
       "| species &lt;chr&gt; | island &lt;chr&gt; | culmen_length_mm &lt;dbl&gt; | culmen_depth_mm &lt;dbl&gt; | flipper_length_mm &lt;dbl&gt; | body_mass_g &lt;dbl&gt; | sex &lt;chr&gt; |\n",
       "|---|---|---|---|---|---|---|\n",
       "| Adelie    | Torgersen | 41.4 | 18.5 | 202 | 3875 | MALE   |\n",
       "| Chinstrap | Dream     | 50.1 | 17.9 | 190 | 3400 | FEMALE |\n",
       "| Chinstrap | Dream     | 49.0 | 19.6 | 212 | 4300 | MALE   |\n",
       "| Chinstrap | Dream     | 43.5 | 18.1 | 202 | 3400 | FEMALE |\n",
       "| Gentoo    | Biscoe    | 51.5 | 16.3 | 230 | 5500 | MALE   |\n",
       "| Adelie    | Biscoe    | 40.5 | 17.9 | 187 | 3200 | FEMALE |\n",
       "| Adelie    | Dream     | 36.3 | 19.5 | 190 | 3800 | MALE   |\n",
       "| Adelie    | Torgersen | 39.0 | 17.1 | 191 | 3050 | FEMALE |\n",
       "| Adelie    | Biscoe    | 41.6 | 18.0 | 192 | 3950 | MALE   |\n",
       "\n"
      ],
      "text/plain": [
       "  species   island    culmen_length_mm culmen_depth_mm flipper_length_mm\n",
       "1 Adelie    Torgersen 41.4             18.5            202              \n",
       "2 Chinstrap Dream     50.1             17.9            190              \n",
       "3 Chinstrap Dream     49.0             19.6            212              \n",
       "4 Chinstrap Dream     43.5             18.1            202              \n",
       "5 Gentoo    Biscoe    51.5             16.3            230              \n",
       "6 Adelie    Biscoe    40.5             17.9            187              \n",
       "7 Adelie    Dream     36.3             19.5            190              \n",
       "8 Adelie    Torgersen 39.0             17.1            191              \n",
       "9 Adelie    Biscoe    41.6             18.0            192              \n",
       "  body_mass_g sex   \n",
       "1 3875        MALE  \n",
       "2 3400        FEMALE\n",
       "3 4300        MALE  \n",
       "4 3400        FEMALE\n",
       "5 5500        MALE  \n",
       "6 3200        FEMALE\n",
       "7 3800        MALE  \n",
       "8 3050        FEMALE\n",
       "9 3950        MALE  "
      ]
     },
     "metadata": {},
     "output_type": "display_data"
    }
   ],
   "source": [
    "penguins_subset %>%\n",
    "  filter(culmen_depth_mm > 16.2)"
   ]
  },
  {
   "cell_type": "code",
   "execution_count": 20,
   "id": "83f73530",
   "metadata": {
    "vscode": {
     "languageId": "r"
    }
   },
   "outputs": [
    {
     "data": {
      "text/html": [
       "<table class=\"dataframe\">\n",
       "<caption>A spec_tbl_df: 4 × 7</caption>\n",
       "<thead>\n",
       "\t<tr><th scope=col>species</th><th scope=col>island</th><th scope=col>culmen_length_mm</th><th scope=col>culmen_depth_mm</th><th scope=col>flipper_length_mm</th><th scope=col>body_mass_g</th><th scope=col>sex</th></tr>\n",
       "\t<tr><th scope=col>&lt;chr&gt;</th><th scope=col>&lt;chr&gt;</th><th scope=col>&lt;dbl&gt;</th><th scope=col>&lt;dbl&gt;</th><th scope=col>&lt;dbl&gt;</th><th scope=col>&lt;dbl&gt;</th><th scope=col>&lt;chr&gt;</th></tr>\n",
       "</thead>\n",
       "<tbody>\n",
       "\t<tr><td>Chinstrap</td><td>Dream</td><td>50.1</td><td>17.9</td><td>190</td><td>3400</td><td>FEMALE</td></tr>\n",
       "\t<tr><td>Chinstrap</td><td>Dream</td><td>49.0</td><td>19.6</td><td>212</td><td>4300</td><td>MALE  </td></tr>\n",
       "\t<tr><td>Chinstrap</td><td>Dream</td><td>43.5</td><td>18.1</td><td>202</td><td>3400</td><td>FEMALE</td></tr>\n",
       "\t<tr><td>Adelie   </td><td>Dream</td><td>36.3</td><td>19.5</td><td>190</td><td>3800</td><td>MALE  </td></tr>\n",
       "</tbody>\n",
       "</table>\n"
      ],
      "text/latex": [
       "A spec\\_tbl\\_df: 4 × 7\n",
       "\\begin{tabular}{lllllll}\n",
       " species & island & culmen\\_length\\_mm & culmen\\_depth\\_mm & flipper\\_length\\_mm & body\\_mass\\_g & sex\\\\\n",
       " <chr> & <chr> & <dbl> & <dbl> & <dbl> & <dbl> & <chr>\\\\\n",
       "\\hline\n",
       "\t Chinstrap & Dream & 50.1 & 17.9 & 190 & 3400 & FEMALE\\\\\n",
       "\t Chinstrap & Dream & 49.0 & 19.6 & 212 & 4300 & MALE  \\\\\n",
       "\t Chinstrap & Dream & 43.5 & 18.1 & 202 & 3400 & FEMALE\\\\\n",
       "\t Adelie    & Dream & 36.3 & 19.5 & 190 & 3800 & MALE  \\\\\n",
       "\\end{tabular}\n"
      ],
      "text/markdown": [
       "\n",
       "A spec_tbl_df: 4 × 7\n",
       "\n",
       "| species &lt;chr&gt; | island &lt;chr&gt; | culmen_length_mm &lt;dbl&gt; | culmen_depth_mm &lt;dbl&gt; | flipper_length_mm &lt;dbl&gt; | body_mass_g &lt;dbl&gt; | sex &lt;chr&gt; |\n",
       "|---|---|---|---|---|---|---|\n",
       "| Chinstrap | Dream | 50.1 | 17.9 | 190 | 3400 | FEMALE |\n",
       "| Chinstrap | Dream | 49.0 | 19.6 | 212 | 4300 | MALE   |\n",
       "| Chinstrap | Dream | 43.5 | 18.1 | 202 | 3400 | FEMALE |\n",
       "| Adelie    | Dream | 36.3 | 19.5 | 190 | 3800 | MALE   |\n",
       "\n"
      ],
      "text/plain": [
       "  species   island culmen_length_mm culmen_depth_mm flipper_length_mm\n",
       "1 Chinstrap Dream  50.1             17.9            190              \n",
       "2 Chinstrap Dream  49.0             19.6            212              \n",
       "3 Chinstrap Dream  43.5             18.1            202              \n",
       "4 Adelie    Dream  36.3             19.5            190              \n",
       "  body_mass_g sex   \n",
       "1 3400        FEMALE\n",
       "2 4300        MALE  \n",
       "3 3400        FEMALE\n",
       "4 3800        MALE  "
      ]
     },
     "metadata": {},
     "output_type": "display_data"
    }
   ],
   "source": [
    "penguins_subset %>%\n",
    "  filter(island == \"Dream\")"
   ]
  },
  {
   "cell_type": "code",
   "execution_count": 21,
   "id": "2b624e6e",
   "metadata": {
    "vscode": {
     "languageId": "r"
    }
   },
   "outputs": [
    {
     "data": {
      "text/html": [
       "<table class=\"dataframe\">\n",
       "<caption>A spec_tbl_df: 6 × 7</caption>\n",
       "<thead>\n",
       "\t<tr><th scope=col>species</th><th scope=col>island</th><th scope=col>culmen_length_mm</th><th scope=col>culmen_depth_mm</th><th scope=col>flipper_length_mm</th><th scope=col>body_mass_g</th><th scope=col>sex</th></tr>\n",
       "\t<tr><th scope=col>&lt;chr&gt;</th><th scope=col>&lt;chr&gt;</th><th scope=col>&lt;dbl&gt;</th><th scope=col>&lt;dbl&gt;</th><th scope=col>&lt;dbl&gt;</th><th scope=col>&lt;dbl&gt;</th><th scope=col>&lt;chr&gt;</th></tr>\n",
       "</thead>\n",
       "<tbody>\n",
       "\t<tr><td>Chinstrap</td><td>Dream    </td><td>50.1</td><td>17.9</td><td>190</td><td>3400</td><td>FEMALE</td></tr>\n",
       "\t<tr><td>Chinstrap</td><td>Dream    </td><td>43.5</td><td>18.1</td><td>202</td><td>3400</td><td>FEMALE</td></tr>\n",
       "\t<tr><td>Gentoo   </td><td>Biscoe   </td><td>51.5</td><td>16.3</td><td>230</td><td>5500</td><td>MALE  </td></tr>\n",
       "\t<tr><td>Adelie   </td><td>Biscoe   </td><td>40.5</td><td>17.9</td><td>187</td><td>3200</td><td>FEMALE</td></tr>\n",
       "\t<tr><td>Adelie   </td><td>Torgersen</td><td>39.0</td><td>17.1</td><td>191</td><td>3050</td><td>FEMALE</td></tr>\n",
       "\t<tr><td>Adelie   </td><td>Biscoe   </td><td>41.6</td><td>18.0</td><td>192</td><td>3950</td><td>MALE  </td></tr>\n",
       "</tbody>\n",
       "</table>\n"
      ],
      "text/latex": [
       "A spec\\_tbl\\_df: 6 × 7\n",
       "\\begin{tabular}{lllllll}\n",
       " species & island & culmen\\_length\\_mm & culmen\\_depth\\_mm & flipper\\_length\\_mm & body\\_mass\\_g & sex\\\\\n",
       " <chr> & <chr> & <dbl> & <dbl> & <dbl> & <dbl> & <chr>\\\\\n",
       "\\hline\n",
       "\t Chinstrap & Dream     & 50.1 & 17.9 & 190 & 3400 & FEMALE\\\\\n",
       "\t Chinstrap & Dream     & 43.5 & 18.1 & 202 & 3400 & FEMALE\\\\\n",
       "\t Gentoo    & Biscoe    & 51.5 & 16.3 & 230 & 5500 & MALE  \\\\\n",
       "\t Adelie    & Biscoe    & 40.5 & 17.9 & 187 & 3200 & FEMALE\\\\\n",
       "\t Adelie    & Torgersen & 39.0 & 17.1 & 191 & 3050 & FEMALE\\\\\n",
       "\t Adelie    & Biscoe    & 41.6 & 18.0 & 192 & 3950 & MALE  \\\\\n",
       "\\end{tabular}\n"
      ],
      "text/markdown": [
       "\n",
       "A spec_tbl_df: 6 × 7\n",
       "\n",
       "| species &lt;chr&gt; | island &lt;chr&gt; | culmen_length_mm &lt;dbl&gt; | culmen_depth_mm &lt;dbl&gt; | flipper_length_mm &lt;dbl&gt; | body_mass_g &lt;dbl&gt; | sex &lt;chr&gt; |\n",
       "|---|---|---|---|---|---|---|\n",
       "| Chinstrap | Dream     | 50.1 | 17.9 | 190 | 3400 | FEMALE |\n",
       "| Chinstrap | Dream     | 43.5 | 18.1 | 202 | 3400 | FEMALE |\n",
       "| Gentoo    | Biscoe    | 51.5 | 16.3 | 230 | 5500 | MALE   |\n",
       "| Adelie    | Biscoe    | 40.5 | 17.9 | 187 | 3200 | FEMALE |\n",
       "| Adelie    | Torgersen | 39.0 | 17.1 | 191 | 3050 | FEMALE |\n",
       "| Adelie    | Biscoe    | 41.6 | 18.0 | 192 | 3950 | MALE   |\n",
       "\n"
      ],
      "text/plain": [
       "  species   island    culmen_length_mm culmen_depth_mm flipper_length_mm\n",
       "1 Chinstrap Dream     50.1             17.9            190              \n",
       "2 Chinstrap Dream     43.5             18.1            202              \n",
       "3 Gentoo    Biscoe    51.5             16.3            230              \n",
       "4 Adelie    Biscoe    40.5             17.9            187              \n",
       "5 Adelie    Torgersen 39.0             17.1            191              \n",
       "6 Adelie    Biscoe    41.6             18.0            192              \n",
       "  body_mass_g sex   \n",
       "1 3400        FEMALE\n",
       "2 3400        FEMALE\n",
       "3 5500        MALE  \n",
       "4 3200        FEMALE\n",
       "5 3050        FEMALE\n",
       "6 3950        MALE  "
      ]
     },
     "metadata": {},
     "output_type": "display_data"
    }
   ],
   "source": [
    "penguins_subset %>%\n",
    "  filter(between(culmen_depth_mm, 16.2, 18.1 ))"
   ]
  },
  {
   "cell_type": "code",
   "execution_count": 22,
   "id": "bab545ff",
   "metadata": {
    "vscode": {
     "languageId": "r"
    }
   },
   "outputs": [
    {
     "data": {
      "text/html": [
       "<table class=\"dataframe\">\n",
       "<caption>A tibble: 12 × 3</caption>\n",
       "<thead>\n",
       "\t<tr><th scope=col>species</th><th scope=col>flipper_length_mm</th><th scope=col>sex</th></tr>\n",
       "\t<tr><th scope=col>&lt;chr&gt;</th><th scope=col>&lt;dbl&gt;</th><th scope=col>&lt;chr&gt;</th></tr>\n",
       "</thead>\n",
       "<tbody>\n",
       "\t<tr><td>Adelie   </td><td>202</td><td>MALE  </td></tr>\n",
       "\t<tr><td>Chinstrap</td><td>190</td><td>FEMALE</td></tr>\n",
       "\t<tr><td>Gentoo   </td><td>222</td><td>MALE  </td></tr>\n",
       "\t<tr><td>Chinstrap</td><td>212</td><td>MALE  </td></tr>\n",
       "\t<tr><td>Chinstrap</td><td>202</td><td>FEMALE</td></tr>\n",
       "\t<tr><td>Gentoo   </td><td>230</td><td>MALE  </td></tr>\n",
       "\t<tr><td>Adelie   </td><td>187</td><td>FEMALE</td></tr>\n",
       "\t<tr><td>Gentoo   </td><td>213</td><td>FEMALE</td></tr>\n",
       "\t<tr><td>Adelie   </td><td>190</td><td>MALE  </td></tr>\n",
       "\t<tr><td>Adelie   </td><td>191</td><td>FEMALE</td></tr>\n",
       "\t<tr><td>Adelie   </td><td>192</td><td>MALE  </td></tr>\n",
       "\t<tr><td>Gentoo   </td><td>215</td><td>MALE  </td></tr>\n",
       "</tbody>\n",
       "</table>\n"
      ],
      "text/latex": [
       "A tibble: 12 × 3\n",
       "\\begin{tabular}{lll}\n",
       " species & flipper\\_length\\_mm & sex\\\\\n",
       " <chr> & <dbl> & <chr>\\\\\n",
       "\\hline\n",
       "\t Adelie    & 202 & MALE  \\\\\n",
       "\t Chinstrap & 190 & FEMALE\\\\\n",
       "\t Gentoo    & 222 & MALE  \\\\\n",
       "\t Chinstrap & 212 & MALE  \\\\\n",
       "\t Chinstrap & 202 & FEMALE\\\\\n",
       "\t Gentoo    & 230 & MALE  \\\\\n",
       "\t Adelie    & 187 & FEMALE\\\\\n",
       "\t Gentoo    & 213 & FEMALE\\\\\n",
       "\t Adelie    & 190 & MALE  \\\\\n",
       "\t Adelie    & 191 & FEMALE\\\\\n",
       "\t Adelie    & 192 & MALE  \\\\\n",
       "\t Gentoo    & 215 & MALE  \\\\\n",
       "\\end{tabular}\n"
      ],
      "text/markdown": [
       "\n",
       "A tibble: 12 × 3\n",
       "\n",
       "| species &lt;chr&gt; | flipper_length_mm &lt;dbl&gt; | sex &lt;chr&gt; |\n",
       "|---|---|---|\n",
       "| Adelie    | 202 | MALE   |\n",
       "| Chinstrap | 190 | FEMALE |\n",
       "| Gentoo    | 222 | MALE   |\n",
       "| Chinstrap | 212 | MALE   |\n",
       "| Chinstrap | 202 | FEMALE |\n",
       "| Gentoo    | 230 | MALE   |\n",
       "| Adelie    | 187 | FEMALE |\n",
       "| Gentoo    | 213 | FEMALE |\n",
       "| Adelie    | 190 | MALE   |\n",
       "| Adelie    | 191 | FEMALE |\n",
       "| Adelie    | 192 | MALE   |\n",
       "| Gentoo    | 215 | MALE   |\n",
       "\n"
      ],
      "text/plain": [
       "   species   flipper_length_mm sex   \n",
       "1  Adelie    202               MALE  \n",
       "2  Chinstrap 190               FEMALE\n",
       "3  Gentoo    222               MALE  \n",
       "4  Chinstrap 212               MALE  \n",
       "5  Chinstrap 202               FEMALE\n",
       "6  Gentoo    230               MALE  \n",
       "7  Adelie    187               FEMALE\n",
       "8  Gentoo    213               FEMALE\n",
       "9  Adelie    190               MALE  \n",
       "10 Adelie    191               FEMALE\n",
       "11 Adelie    192               MALE  \n",
       "12 Gentoo    215               MALE  "
      ]
     },
     "metadata": {},
     "output_type": "display_data"
    }
   ],
   "source": [
    "penguins_subset %>%\n",
    "  select(species, flipper_length_mm, sex)"
   ]
  },
  {
   "cell_type": "code",
   "execution_count": 23,
   "id": "2a2f2292",
   "metadata": {
    "vscode": {
     "languageId": "r"
    }
   },
   "outputs": [
    {
     "data": {
      "text/html": [
       "<table class=\"dataframe\">\n",
       "<caption>A tibble: 12 × 3</caption>\n",
       "<thead>\n",
       "\t<tr><th scope=col>species</th><th scope=col>island</th><th scope=col>sex</th></tr>\n",
       "\t<tr><th scope=col>&lt;chr&gt;</th><th scope=col>&lt;chr&gt;</th><th scope=col>&lt;chr&gt;</th></tr>\n",
       "</thead>\n",
       "<tbody>\n",
       "\t<tr><td>Adelie   </td><td>Torgersen</td><td>MALE  </td></tr>\n",
       "\t<tr><td>Chinstrap</td><td>Dream    </td><td>FEMALE</td></tr>\n",
       "\t<tr><td>Gentoo   </td><td>Biscoe   </td><td>MALE  </td></tr>\n",
       "\t<tr><td>Chinstrap</td><td>Dream    </td><td>MALE  </td></tr>\n",
       "\t<tr><td>Chinstrap</td><td>Dream    </td><td>FEMALE</td></tr>\n",
       "\t<tr><td>Gentoo   </td><td>Biscoe   </td><td>MALE  </td></tr>\n",
       "\t<tr><td>Adelie   </td><td>Biscoe   </td><td>FEMALE</td></tr>\n",
       "\t<tr><td>Gentoo   </td><td>Biscoe   </td><td>FEMALE</td></tr>\n",
       "\t<tr><td>Adelie   </td><td>Dream    </td><td>MALE  </td></tr>\n",
       "\t<tr><td>Adelie   </td><td>Torgersen</td><td>FEMALE</td></tr>\n",
       "\t<tr><td>Adelie   </td><td>Biscoe   </td><td>MALE  </td></tr>\n",
       "\t<tr><td>Gentoo   </td><td>Biscoe   </td><td>MALE  </td></tr>\n",
       "</tbody>\n",
       "</table>\n"
      ],
      "text/latex": [
       "A tibble: 12 × 3\n",
       "\\begin{tabular}{lll}\n",
       " species & island & sex\\\\\n",
       " <chr> & <chr> & <chr>\\\\\n",
       "\\hline\n",
       "\t Adelie    & Torgersen & MALE  \\\\\n",
       "\t Chinstrap & Dream     & FEMALE\\\\\n",
       "\t Gentoo    & Biscoe    & MALE  \\\\\n",
       "\t Chinstrap & Dream     & MALE  \\\\\n",
       "\t Chinstrap & Dream     & FEMALE\\\\\n",
       "\t Gentoo    & Biscoe    & MALE  \\\\\n",
       "\t Adelie    & Biscoe    & FEMALE\\\\\n",
       "\t Gentoo    & Biscoe    & FEMALE\\\\\n",
       "\t Adelie    & Dream     & MALE  \\\\\n",
       "\t Adelie    & Torgersen & FEMALE\\\\\n",
       "\t Adelie    & Biscoe    & MALE  \\\\\n",
       "\t Gentoo    & Biscoe    & MALE  \\\\\n",
       "\\end{tabular}\n"
      ],
      "text/markdown": [
       "\n",
       "A tibble: 12 × 3\n",
       "\n",
       "| species &lt;chr&gt; | island &lt;chr&gt; | sex &lt;chr&gt; |\n",
       "|---|---|---|\n",
       "| Adelie    | Torgersen | MALE   |\n",
       "| Chinstrap | Dream     | FEMALE |\n",
       "| Gentoo    | Biscoe    | MALE   |\n",
       "| Chinstrap | Dream     | MALE   |\n",
       "| Chinstrap | Dream     | FEMALE |\n",
       "| Gentoo    | Biscoe    | MALE   |\n",
       "| Adelie    | Biscoe    | FEMALE |\n",
       "| Gentoo    | Biscoe    | FEMALE |\n",
       "| Adelie    | Dream     | MALE   |\n",
       "| Adelie    | Torgersen | FEMALE |\n",
       "| Adelie    | Biscoe    | MALE   |\n",
       "| Gentoo    | Biscoe    | MALE   |\n",
       "\n"
      ],
      "text/plain": [
       "   species   island    sex   \n",
       "1  Adelie    Torgersen MALE  \n",
       "2  Chinstrap Dream     FEMALE\n",
       "3  Gentoo    Biscoe    MALE  \n",
       "4  Chinstrap Dream     MALE  \n",
       "5  Chinstrap Dream     FEMALE\n",
       "6  Gentoo    Biscoe    MALE  \n",
       "7  Adelie    Biscoe    FEMALE\n",
       "8  Gentoo    Biscoe    FEMALE\n",
       "9  Adelie    Dream     MALE  \n",
       "10 Adelie    Torgersen FEMALE\n",
       "11 Adelie    Biscoe    MALE  \n",
       "12 Gentoo    Biscoe    MALE  "
      ]
     },
     "metadata": {},
     "output_type": "display_data"
    }
   ],
   "source": [
    "penguins_subset %>%\n",
    "  select(where(is.character))"
   ]
  },
  {
   "cell_type": "code",
   "execution_count": 24,
   "id": "c3b58966",
   "metadata": {
    "vscode": {
     "languageId": "r"
    }
   },
   "outputs": [
    {
     "data": {
      "text/html": [
       "<table class=\"dataframe\">\n",
       "<caption>A tibble: 12 × 4</caption>\n",
       "<thead>\n",
       "\t<tr><th scope=col>culmen_length_mm</th><th scope=col>culmen_depth_mm</th><th scope=col>flipper_length_mm</th><th scope=col>body_mass_g</th></tr>\n",
       "\t<tr><th scope=col>&lt;dbl&gt;</th><th scope=col>&lt;dbl&gt;</th><th scope=col>&lt;dbl&gt;</th><th scope=col>&lt;dbl&gt;</th></tr>\n",
       "</thead>\n",
       "<tbody>\n",
       "\t<tr><td>41.4</td><td>18.5</td><td>202</td><td>3875</td></tr>\n",
       "\t<tr><td>50.1</td><td>17.9</td><td>190</td><td>3400</td></tr>\n",
       "\t<tr><td>50.5</td><td>15.9</td><td>222</td><td>5550</td></tr>\n",
       "\t<tr><td>49.0</td><td>19.6</td><td>212</td><td>4300</td></tr>\n",
       "\t<tr><td>43.5</td><td>18.1</td><td>202</td><td>3400</td></tr>\n",
       "\t<tr><td>51.5</td><td>16.3</td><td>230</td><td>5500</td></tr>\n",
       "\t<tr><td>40.5</td><td>17.9</td><td>187</td><td>3200</td></tr>\n",
       "\t<tr><td>43.5</td><td>15.2</td><td>213</td><td>4650</td></tr>\n",
       "\t<tr><td>36.3</td><td>19.5</td><td>190</td><td>3800</td></tr>\n",
       "\t<tr><td>39.0</td><td>17.1</td><td>191</td><td>3050</td></tr>\n",
       "\t<tr><td>41.6</td><td>18.0</td><td>192</td><td>3950</td></tr>\n",
       "\t<tr><td>47.6</td><td>14.5</td><td>215</td><td>5400</td></tr>\n",
       "</tbody>\n",
       "</table>\n"
      ],
      "text/latex": [
       "A tibble: 12 × 4\n",
       "\\begin{tabular}{llll}\n",
       " culmen\\_length\\_mm & culmen\\_depth\\_mm & flipper\\_length\\_mm & body\\_mass\\_g\\\\\n",
       " <dbl> & <dbl> & <dbl> & <dbl>\\\\\n",
       "\\hline\n",
       "\t 41.4 & 18.5 & 202 & 3875\\\\\n",
       "\t 50.1 & 17.9 & 190 & 3400\\\\\n",
       "\t 50.5 & 15.9 & 222 & 5550\\\\\n",
       "\t 49.0 & 19.6 & 212 & 4300\\\\\n",
       "\t 43.5 & 18.1 & 202 & 3400\\\\\n",
       "\t 51.5 & 16.3 & 230 & 5500\\\\\n",
       "\t 40.5 & 17.9 & 187 & 3200\\\\\n",
       "\t 43.5 & 15.2 & 213 & 4650\\\\\n",
       "\t 36.3 & 19.5 & 190 & 3800\\\\\n",
       "\t 39.0 & 17.1 & 191 & 3050\\\\\n",
       "\t 41.6 & 18.0 & 192 & 3950\\\\\n",
       "\t 47.6 & 14.5 & 215 & 5400\\\\\n",
       "\\end{tabular}\n"
      ],
      "text/markdown": [
       "\n",
       "A tibble: 12 × 4\n",
       "\n",
       "| culmen_length_mm &lt;dbl&gt; | culmen_depth_mm &lt;dbl&gt; | flipper_length_mm &lt;dbl&gt; | body_mass_g &lt;dbl&gt; |\n",
       "|---|---|---|---|\n",
       "| 41.4 | 18.5 | 202 | 3875 |\n",
       "| 50.1 | 17.9 | 190 | 3400 |\n",
       "| 50.5 | 15.9 | 222 | 5550 |\n",
       "| 49.0 | 19.6 | 212 | 4300 |\n",
       "| 43.5 | 18.1 | 202 | 3400 |\n",
       "| 51.5 | 16.3 | 230 | 5500 |\n",
       "| 40.5 | 17.9 | 187 | 3200 |\n",
       "| 43.5 | 15.2 | 213 | 4650 |\n",
       "| 36.3 | 19.5 | 190 | 3800 |\n",
       "| 39.0 | 17.1 | 191 | 3050 |\n",
       "| 41.6 | 18.0 | 192 | 3950 |\n",
       "| 47.6 | 14.5 | 215 | 5400 |\n",
       "\n"
      ],
      "text/plain": [
       "   culmen_length_mm culmen_depth_mm flipper_length_mm body_mass_g\n",
       "1  41.4             18.5            202               3875       \n",
       "2  50.1             17.9            190               3400       \n",
       "3  50.5             15.9            222               5550       \n",
       "4  49.0             19.6            212               4300       \n",
       "5  43.5             18.1            202               3400       \n",
       "6  51.5             16.3            230               5500       \n",
       "7  40.5             17.9            187               3200       \n",
       "8  43.5             15.2            213               4650       \n",
       "9  36.3             19.5            190               3800       \n",
       "10 39.0             17.1            191               3050       \n",
       "11 41.6             18.0            192               3950       \n",
       "12 47.6             14.5            215               5400       "
      ]
     },
     "metadata": {},
     "output_type": "display_data"
    }
   ],
   "source": [
    "penguins_subset %>%\n",
    "  select(where(is.numeric))"
   ]
  },
  {
   "cell_type": "code",
   "execution_count": 25,
   "id": "5bf40398",
   "metadata": {
    "vscode": {
     "languageId": "r"
    }
   },
   "outputs": [
    {
     "data": {
      "text/html": [
       "<table class=\"dataframe\">\n",
       "<caption>A tibble: 12 × 3</caption>\n",
       "<thead>\n",
       "\t<tr><th scope=col>species</th><th scope=col>island</th><th scope=col>sex</th></tr>\n",
       "\t<tr><th scope=col>&lt;chr&gt;</th><th scope=col>&lt;chr&gt;</th><th scope=col>&lt;chr&gt;</th></tr>\n",
       "</thead>\n",
       "<tbody>\n",
       "\t<tr><td>Adelie   </td><td>Torgersen</td><td>MALE  </td></tr>\n",
       "\t<tr><td>Chinstrap</td><td>Dream    </td><td>FEMALE</td></tr>\n",
       "\t<tr><td>Gentoo   </td><td>Biscoe   </td><td>MALE  </td></tr>\n",
       "\t<tr><td>Chinstrap</td><td>Dream    </td><td>MALE  </td></tr>\n",
       "\t<tr><td>Chinstrap</td><td>Dream    </td><td>FEMALE</td></tr>\n",
       "\t<tr><td>Gentoo   </td><td>Biscoe   </td><td>MALE  </td></tr>\n",
       "\t<tr><td>Adelie   </td><td>Biscoe   </td><td>FEMALE</td></tr>\n",
       "\t<tr><td>Gentoo   </td><td>Biscoe   </td><td>FEMALE</td></tr>\n",
       "\t<tr><td>Adelie   </td><td>Dream    </td><td>MALE  </td></tr>\n",
       "\t<tr><td>Adelie   </td><td>Torgersen</td><td>FEMALE</td></tr>\n",
       "\t<tr><td>Adelie   </td><td>Biscoe   </td><td>MALE  </td></tr>\n",
       "\t<tr><td>Gentoo   </td><td>Biscoe   </td><td>MALE  </td></tr>\n",
       "</tbody>\n",
       "</table>\n"
      ],
      "text/latex": [
       "A tibble: 12 × 3\n",
       "\\begin{tabular}{lll}\n",
       " species & island & sex\\\\\n",
       " <chr> & <chr> & <chr>\\\\\n",
       "\\hline\n",
       "\t Adelie    & Torgersen & MALE  \\\\\n",
       "\t Chinstrap & Dream     & FEMALE\\\\\n",
       "\t Gentoo    & Biscoe    & MALE  \\\\\n",
       "\t Chinstrap & Dream     & MALE  \\\\\n",
       "\t Chinstrap & Dream     & FEMALE\\\\\n",
       "\t Gentoo    & Biscoe    & MALE  \\\\\n",
       "\t Adelie    & Biscoe    & FEMALE\\\\\n",
       "\t Gentoo    & Biscoe    & FEMALE\\\\\n",
       "\t Adelie    & Dream     & MALE  \\\\\n",
       "\t Adelie    & Torgersen & FEMALE\\\\\n",
       "\t Adelie    & Biscoe    & MALE  \\\\\n",
       "\t Gentoo    & Biscoe    & MALE  \\\\\n",
       "\\end{tabular}\n"
      ],
      "text/markdown": [
       "\n",
       "A tibble: 12 × 3\n",
       "\n",
       "| species &lt;chr&gt; | island &lt;chr&gt; | sex &lt;chr&gt; |\n",
       "|---|---|---|\n",
       "| Adelie    | Torgersen | MALE   |\n",
       "| Chinstrap | Dream     | FEMALE |\n",
       "| Gentoo    | Biscoe    | MALE   |\n",
       "| Chinstrap | Dream     | MALE   |\n",
       "| Chinstrap | Dream     | FEMALE |\n",
       "| Gentoo    | Biscoe    | MALE   |\n",
       "| Adelie    | Biscoe    | FEMALE |\n",
       "| Gentoo    | Biscoe    | FEMALE |\n",
       "| Adelie    | Dream     | MALE   |\n",
       "| Adelie    | Torgersen | FEMALE |\n",
       "| Adelie    | Biscoe    | MALE   |\n",
       "| Gentoo    | Biscoe    | MALE   |\n",
       "\n"
      ],
      "text/plain": [
       "   species   island    sex   \n",
       "1  Adelie    Torgersen MALE  \n",
       "2  Chinstrap Dream     FEMALE\n",
       "3  Gentoo    Biscoe    MALE  \n",
       "4  Chinstrap Dream     MALE  \n",
       "5  Chinstrap Dream     FEMALE\n",
       "6  Gentoo    Biscoe    MALE  \n",
       "7  Adelie    Biscoe    FEMALE\n",
       "8  Gentoo    Biscoe    FEMALE\n",
       "9  Adelie    Dream     MALE  \n",
       "10 Adelie    Torgersen FEMALE\n",
       "11 Adelie    Biscoe    MALE  \n",
       "12 Gentoo    Biscoe    MALE  "
      ]
     },
     "metadata": {},
     "output_type": "display_data"
    }
   ],
   "source": [
    "penguins_subset %>%\n",
    "  select(!where(is.numeric))"
   ]
  },
  {
   "cell_type": "code",
   "execution_count": 27,
   "id": "fc2cae7e",
   "metadata": {
    "vscode": {
     "languageId": "r"
    }
   },
   "outputs": [
    {
     "data": {
      "text/html": [
       "<table class=\"dataframe\">\n",
       "<caption>A tibble: 12 × 8</caption>\n",
       "<thead>\n",
       "\t<tr><th scope=col>species</th><th scope=col>island</th><th scope=col>culmen_length_mm</th><th scope=col>culmen_depth_mm</th><th scope=col>flipper_length_mm</th><th scope=col>body_mass_g</th><th scope=col>sex</th><th scope=col>body_weight_pounds</th></tr>\n",
       "\t<tr><th scope=col>&lt;chr&gt;</th><th scope=col>&lt;chr&gt;</th><th scope=col>&lt;dbl&gt;</th><th scope=col>&lt;dbl&gt;</th><th scope=col>&lt;dbl&gt;</th><th scope=col>&lt;dbl&gt;</th><th scope=col>&lt;chr&gt;</th><th scope=col>&lt;dbl&gt;</th></tr>\n",
       "</thead>\n",
       "<tbody>\n",
       "\t<tr><td>Adelie   </td><td>Torgersen</td><td>41.4</td><td>18.5</td><td>202</td><td>3875</td><td>MALE  </td><td> 8.542913</td></tr>\n",
       "\t<tr><td>Chinstrap</td><td>Dream    </td><td>50.1</td><td>17.9</td><td>190</td><td>3400</td><td>FEMALE</td><td> 7.495717</td></tr>\n",
       "\t<tr><td>Gentoo   </td><td>Biscoe   </td><td>50.5</td><td>15.9</td><td>222</td><td>5550</td><td>MALE  </td><td>12.235656</td></tr>\n",
       "\t<tr><td>Chinstrap</td><td>Dream    </td><td>49.0</td><td>19.6</td><td>212</td><td>4300</td><td>MALE  </td><td> 9.479877</td></tr>\n",
       "\t<tr><td>Chinstrap</td><td>Dream    </td><td>43.5</td><td>18.1</td><td>202</td><td>3400</td><td>FEMALE</td><td> 7.495717</td></tr>\n",
       "\t<tr><td>Gentoo   </td><td>Biscoe   </td><td>51.5</td><td>16.3</td><td>230</td><td>5500</td><td>MALE  </td><td>12.125424</td></tr>\n",
       "\t<tr><td>Adelie   </td><td>Biscoe   </td><td>40.5</td><td>17.9</td><td>187</td><td>3200</td><td>FEMALE</td><td> 7.054792</td></tr>\n",
       "\t<tr><td>Gentoo   </td><td>Biscoe   </td><td>43.5</td><td>15.2</td><td>213</td><td>4650</td><td>FEMALE</td><td>10.251495</td></tr>\n",
       "\t<tr><td>Adelie   </td><td>Dream    </td><td>36.3</td><td>19.5</td><td>190</td><td>3800</td><td>MALE  </td><td> 8.377566</td></tr>\n",
       "\t<tr><td>Adelie   </td><td>Torgersen</td><td>39.0</td><td>17.1</td><td>191</td><td>3050</td><td>FEMALE</td><td> 6.724099</td></tr>\n",
       "\t<tr><td>Adelie   </td><td>Biscoe   </td><td>41.6</td><td>18.0</td><td>192</td><td>3950</td><td>MALE  </td><td> 8.708259</td></tr>\n",
       "\t<tr><td>Gentoo   </td><td>Biscoe   </td><td>47.6</td><td>14.5</td><td>215</td><td>5400</td><td>MALE  </td><td>11.904962</td></tr>\n",
       "</tbody>\n",
       "</table>\n"
      ],
      "text/latex": [
       "A tibble: 12 × 8\n",
       "\\begin{tabular}{llllllll}\n",
       " species & island & culmen\\_length\\_mm & culmen\\_depth\\_mm & flipper\\_length\\_mm & body\\_mass\\_g & sex & body\\_weight\\_pounds\\\\\n",
       " <chr> & <chr> & <dbl> & <dbl> & <dbl> & <dbl> & <chr> & <dbl>\\\\\n",
       "\\hline\n",
       "\t Adelie    & Torgersen & 41.4 & 18.5 & 202 & 3875 & MALE   &  8.542913\\\\\n",
       "\t Chinstrap & Dream     & 50.1 & 17.9 & 190 & 3400 & FEMALE &  7.495717\\\\\n",
       "\t Gentoo    & Biscoe    & 50.5 & 15.9 & 222 & 5550 & MALE   & 12.235656\\\\\n",
       "\t Chinstrap & Dream     & 49.0 & 19.6 & 212 & 4300 & MALE   &  9.479877\\\\\n",
       "\t Chinstrap & Dream     & 43.5 & 18.1 & 202 & 3400 & FEMALE &  7.495717\\\\\n",
       "\t Gentoo    & Biscoe    & 51.5 & 16.3 & 230 & 5500 & MALE   & 12.125424\\\\\n",
       "\t Adelie    & Biscoe    & 40.5 & 17.9 & 187 & 3200 & FEMALE &  7.054792\\\\\n",
       "\t Gentoo    & Biscoe    & 43.5 & 15.2 & 213 & 4650 & FEMALE & 10.251495\\\\\n",
       "\t Adelie    & Dream     & 36.3 & 19.5 & 190 & 3800 & MALE   &  8.377566\\\\\n",
       "\t Adelie    & Torgersen & 39.0 & 17.1 & 191 & 3050 & FEMALE &  6.724099\\\\\n",
       "\t Adelie    & Biscoe    & 41.6 & 18.0 & 192 & 3950 & MALE   &  8.708259\\\\\n",
       "\t Gentoo    & Biscoe    & 47.6 & 14.5 & 215 & 5400 & MALE   & 11.904962\\\\\n",
       "\\end{tabular}\n"
      ],
      "text/markdown": [
       "\n",
       "A tibble: 12 × 8\n",
       "\n",
       "| species &lt;chr&gt; | island &lt;chr&gt; | culmen_length_mm &lt;dbl&gt; | culmen_depth_mm &lt;dbl&gt; | flipper_length_mm &lt;dbl&gt; | body_mass_g &lt;dbl&gt; | sex &lt;chr&gt; | body_weight_pounds &lt;dbl&gt; |\n",
       "|---|---|---|---|---|---|---|---|\n",
       "| Adelie    | Torgersen | 41.4 | 18.5 | 202 | 3875 | MALE   |  8.542913 |\n",
       "| Chinstrap | Dream     | 50.1 | 17.9 | 190 | 3400 | FEMALE |  7.495717 |\n",
       "| Gentoo    | Biscoe    | 50.5 | 15.9 | 222 | 5550 | MALE   | 12.235656 |\n",
       "| Chinstrap | Dream     | 49.0 | 19.6 | 212 | 4300 | MALE   |  9.479877 |\n",
       "| Chinstrap | Dream     | 43.5 | 18.1 | 202 | 3400 | FEMALE |  7.495717 |\n",
       "| Gentoo    | Biscoe    | 51.5 | 16.3 | 230 | 5500 | MALE   | 12.125424 |\n",
       "| Adelie    | Biscoe    | 40.5 | 17.9 | 187 | 3200 | FEMALE |  7.054792 |\n",
       "| Gentoo    | Biscoe    | 43.5 | 15.2 | 213 | 4650 | FEMALE | 10.251495 |\n",
       "| Adelie    | Dream     | 36.3 | 19.5 | 190 | 3800 | MALE   |  8.377566 |\n",
       "| Adelie    | Torgersen | 39.0 | 17.1 | 191 | 3050 | FEMALE |  6.724099 |\n",
       "| Adelie    | Biscoe    | 41.6 | 18.0 | 192 | 3950 | MALE   |  8.708259 |\n",
       "| Gentoo    | Biscoe    | 47.6 | 14.5 | 215 | 5400 | MALE   | 11.904962 |\n",
       "\n"
      ],
      "text/plain": [
       "   species   island    culmen_length_mm culmen_depth_mm flipper_length_mm\n",
       "1  Adelie    Torgersen 41.4             18.5            202              \n",
       "2  Chinstrap Dream     50.1             17.9            190              \n",
       "3  Gentoo    Biscoe    50.5             15.9            222              \n",
       "4  Chinstrap Dream     49.0             19.6            212              \n",
       "5  Chinstrap Dream     43.5             18.1            202              \n",
       "6  Gentoo    Biscoe    51.5             16.3            230              \n",
       "7  Adelie    Biscoe    40.5             17.9            187              \n",
       "8  Gentoo    Biscoe    43.5             15.2            213              \n",
       "9  Adelie    Dream     36.3             19.5            190              \n",
       "10 Adelie    Torgersen 39.0             17.1            191              \n",
       "11 Adelie    Biscoe    41.6             18.0            192              \n",
       "12 Gentoo    Biscoe    47.6             14.5            215              \n",
       "   body_mass_g sex    body_weight_pounds\n",
       "1  3875        MALE    8.542913         \n",
       "2  3400        FEMALE  7.495717         \n",
       "3  5550        MALE   12.235656         \n",
       "4  4300        MALE    9.479877         \n",
       "5  3400        FEMALE  7.495717         \n",
       "6  5500        MALE   12.125424         \n",
       "7  3200        FEMALE  7.054792         \n",
       "8  4650        FEMALE 10.251495         \n",
       "9  3800        MALE    8.377566         \n",
       "10 3050        FEMALE  6.724099         \n",
       "11 3950        MALE    8.708259         \n",
       "12 5400        MALE   11.904962         "
      ]
     },
     "metadata": {},
     "output_type": "display_data"
    }
   ],
   "source": [
    "penguins_subset %>%\n",
    "  mutate(body_weight_pounds = body_mass_g / 453.59237)"
   ]
  },
  {
   "cell_type": "code",
   "execution_count": 28,
   "id": "f01ba714",
   "metadata": {
    "vscode": {
     "languageId": "r"
    }
   },
   "outputs": [
    {
     "data": {
      "text/html": [
       "<table class=\"dataframe\">\n",
       "<caption>A tibble: 12 × 8</caption>\n",
       "<thead>\n",
       "\t<tr><th scope=col>species</th><th scope=col>body_mass_g</th><th scope=col>body_weight_pounds</th><th scope=col>island</th><th scope=col>culmen_length_mm</th><th scope=col>culmen_depth_mm</th><th scope=col>flipper_length_mm</th><th scope=col>sex</th></tr>\n",
       "\t<tr><th scope=col>&lt;chr&gt;</th><th scope=col>&lt;dbl&gt;</th><th scope=col>&lt;dbl&gt;</th><th scope=col>&lt;chr&gt;</th><th scope=col>&lt;dbl&gt;</th><th scope=col>&lt;dbl&gt;</th><th scope=col>&lt;dbl&gt;</th><th scope=col>&lt;chr&gt;</th></tr>\n",
       "</thead>\n",
       "<tbody>\n",
       "\t<tr><td>Adelie   </td><td>3875</td><td> 8.542913</td><td>Torgersen</td><td>41.4</td><td>18.5</td><td>202</td><td>MALE  </td></tr>\n",
       "\t<tr><td>Chinstrap</td><td>3400</td><td> 7.495717</td><td>Dream    </td><td>50.1</td><td>17.9</td><td>190</td><td>FEMALE</td></tr>\n",
       "\t<tr><td>Gentoo   </td><td>5550</td><td>12.235656</td><td>Biscoe   </td><td>50.5</td><td>15.9</td><td>222</td><td>MALE  </td></tr>\n",
       "\t<tr><td>Chinstrap</td><td>4300</td><td> 9.479877</td><td>Dream    </td><td>49.0</td><td>19.6</td><td>212</td><td>MALE  </td></tr>\n",
       "\t<tr><td>Chinstrap</td><td>3400</td><td> 7.495717</td><td>Dream    </td><td>43.5</td><td>18.1</td><td>202</td><td>FEMALE</td></tr>\n",
       "\t<tr><td>Gentoo   </td><td>5500</td><td>12.125424</td><td>Biscoe   </td><td>51.5</td><td>16.3</td><td>230</td><td>MALE  </td></tr>\n",
       "\t<tr><td>Adelie   </td><td>3200</td><td> 7.054792</td><td>Biscoe   </td><td>40.5</td><td>17.9</td><td>187</td><td>FEMALE</td></tr>\n",
       "\t<tr><td>Gentoo   </td><td>4650</td><td>10.251495</td><td>Biscoe   </td><td>43.5</td><td>15.2</td><td>213</td><td>FEMALE</td></tr>\n",
       "\t<tr><td>Adelie   </td><td>3800</td><td> 8.377566</td><td>Dream    </td><td>36.3</td><td>19.5</td><td>190</td><td>MALE  </td></tr>\n",
       "\t<tr><td>Adelie   </td><td>3050</td><td> 6.724099</td><td>Torgersen</td><td>39.0</td><td>17.1</td><td>191</td><td>FEMALE</td></tr>\n",
       "\t<tr><td>Adelie   </td><td>3950</td><td> 8.708259</td><td>Biscoe   </td><td>41.6</td><td>18.0</td><td>192</td><td>MALE  </td></tr>\n",
       "\t<tr><td>Gentoo   </td><td>5400</td><td>11.904962</td><td>Biscoe   </td><td>47.6</td><td>14.5</td><td>215</td><td>MALE  </td></tr>\n",
       "</tbody>\n",
       "</table>\n"
      ],
      "text/latex": [
       "A tibble: 12 × 8\n",
       "\\begin{tabular}{llllllll}\n",
       " species & body\\_mass\\_g & body\\_weight\\_pounds & island & culmen\\_length\\_mm & culmen\\_depth\\_mm & flipper\\_length\\_mm & sex\\\\\n",
       " <chr> & <dbl> & <dbl> & <chr> & <dbl> & <dbl> & <dbl> & <chr>\\\\\n",
       "\\hline\n",
       "\t Adelie    & 3875 &  8.542913 & Torgersen & 41.4 & 18.5 & 202 & MALE  \\\\\n",
       "\t Chinstrap & 3400 &  7.495717 & Dream     & 50.1 & 17.9 & 190 & FEMALE\\\\\n",
       "\t Gentoo    & 5550 & 12.235656 & Biscoe    & 50.5 & 15.9 & 222 & MALE  \\\\\n",
       "\t Chinstrap & 4300 &  9.479877 & Dream     & 49.0 & 19.6 & 212 & MALE  \\\\\n",
       "\t Chinstrap & 3400 &  7.495717 & Dream     & 43.5 & 18.1 & 202 & FEMALE\\\\\n",
       "\t Gentoo    & 5500 & 12.125424 & Biscoe    & 51.5 & 16.3 & 230 & MALE  \\\\\n",
       "\t Adelie    & 3200 &  7.054792 & Biscoe    & 40.5 & 17.9 & 187 & FEMALE\\\\\n",
       "\t Gentoo    & 4650 & 10.251495 & Biscoe    & 43.5 & 15.2 & 213 & FEMALE\\\\\n",
       "\t Adelie    & 3800 &  8.377566 & Dream     & 36.3 & 19.5 & 190 & MALE  \\\\\n",
       "\t Adelie    & 3050 &  6.724099 & Torgersen & 39.0 & 17.1 & 191 & FEMALE\\\\\n",
       "\t Adelie    & 3950 &  8.708259 & Biscoe    & 41.6 & 18.0 & 192 & MALE  \\\\\n",
       "\t Gentoo    & 5400 & 11.904962 & Biscoe    & 47.6 & 14.5 & 215 & MALE  \\\\\n",
       "\\end{tabular}\n"
      ],
      "text/markdown": [
       "\n",
       "A tibble: 12 × 8\n",
       "\n",
       "| species &lt;chr&gt; | body_mass_g &lt;dbl&gt; | body_weight_pounds &lt;dbl&gt; | island &lt;chr&gt; | culmen_length_mm &lt;dbl&gt; | culmen_depth_mm &lt;dbl&gt; | flipper_length_mm &lt;dbl&gt; | sex &lt;chr&gt; |\n",
       "|---|---|---|---|---|---|---|---|\n",
       "| Adelie    | 3875 |  8.542913 | Torgersen | 41.4 | 18.5 | 202 | MALE   |\n",
       "| Chinstrap | 3400 |  7.495717 | Dream     | 50.1 | 17.9 | 190 | FEMALE |\n",
       "| Gentoo    | 5550 | 12.235656 | Biscoe    | 50.5 | 15.9 | 222 | MALE   |\n",
       "| Chinstrap | 4300 |  9.479877 | Dream     | 49.0 | 19.6 | 212 | MALE   |\n",
       "| Chinstrap | 3400 |  7.495717 | Dream     | 43.5 | 18.1 | 202 | FEMALE |\n",
       "| Gentoo    | 5500 | 12.125424 | Biscoe    | 51.5 | 16.3 | 230 | MALE   |\n",
       "| Adelie    | 3200 |  7.054792 | Biscoe    | 40.5 | 17.9 | 187 | FEMALE |\n",
       "| Gentoo    | 4650 | 10.251495 | Biscoe    | 43.5 | 15.2 | 213 | FEMALE |\n",
       "| Adelie    | 3800 |  8.377566 | Dream     | 36.3 | 19.5 | 190 | MALE   |\n",
       "| Adelie    | 3050 |  6.724099 | Torgersen | 39.0 | 17.1 | 191 | FEMALE |\n",
       "| Adelie    | 3950 |  8.708259 | Biscoe    | 41.6 | 18.0 | 192 | MALE   |\n",
       "| Gentoo    | 5400 | 11.904962 | Biscoe    | 47.6 | 14.5 | 215 | MALE   |\n",
       "\n"
      ],
      "text/plain": [
       "   species   body_mass_g body_weight_pounds island    culmen_length_mm\n",
       "1  Adelie    3875         8.542913          Torgersen 41.4            \n",
       "2  Chinstrap 3400         7.495717          Dream     50.1            \n",
       "3  Gentoo    5550        12.235656          Biscoe    50.5            \n",
       "4  Chinstrap 4300         9.479877          Dream     49.0            \n",
       "5  Chinstrap 3400         7.495717          Dream     43.5            \n",
       "6  Gentoo    5500        12.125424          Biscoe    51.5            \n",
       "7  Adelie    3200         7.054792          Biscoe    40.5            \n",
       "8  Gentoo    4650        10.251495          Biscoe    43.5            \n",
       "9  Adelie    3800         8.377566          Dream     36.3            \n",
       "10 Adelie    3050         6.724099          Torgersen 39.0            \n",
       "11 Adelie    3950         8.708259          Biscoe    41.6            \n",
       "12 Gentoo    5400        11.904962          Biscoe    47.6            \n",
       "   culmen_depth_mm flipper_length_mm sex   \n",
       "1  18.5            202               MALE  \n",
       "2  17.9            190               FEMALE\n",
       "3  15.9            222               MALE  \n",
       "4  19.6            212               MALE  \n",
       "5  18.1            202               FEMALE\n",
       "6  16.3            230               MALE  \n",
       "7  17.9            187               FEMALE\n",
       "8  15.2            213               FEMALE\n",
       "9  19.5            190               MALE  \n",
       "10 17.1            191               FEMALE\n",
       "11 18.0            192               MALE  \n",
       "12 14.5            215               MALE  "
      ]
     },
     "metadata": {},
     "output_type": "display_data"
    }
   ],
   "source": [
    "penguins_subset %>%\n",
    "  mutate(body_weight_pounds = body_mass_g / 453.59237) %>%\n",
    "  select(species, body_mass_g, body_weight_pounds, everything())"
   ]
  },
  {
   "cell_type": "code",
   "execution_count": 29,
   "id": "450f38af",
   "metadata": {
    "vscode": {
     "languageId": "r"
    }
   },
   "outputs": [
    {
     "data": {
      "text/html": [
       "<table class=\"dataframe\">\n",
       "<caption>A tibble: 1 × 1</caption>\n",
       "<thead>\n",
       "\t<tr><th scope=col>avg_body_mass</th></tr>\n",
       "\t<tr><th scope=col>&lt;dbl&gt;</th></tr>\n",
       "</thead>\n",
       "<tbody>\n",
       "\t<tr><td>4172.917</td></tr>\n",
       "</tbody>\n",
       "</table>\n"
      ],
      "text/latex": [
       "A tibble: 1 × 1\n",
       "\\begin{tabular}{l}\n",
       " avg\\_body\\_mass\\\\\n",
       " <dbl>\\\\\n",
       "\\hline\n",
       "\t 4172.917\\\\\n",
       "\\end{tabular}\n"
      ],
      "text/markdown": [
       "\n",
       "A tibble: 1 × 1\n",
       "\n",
       "| avg_body_mass &lt;dbl&gt; |\n",
       "|---|\n",
       "| 4172.917 |\n",
       "\n"
      ],
      "text/plain": [
       "  avg_body_mass\n",
       "1 4172.917     "
      ]
     },
     "metadata": {},
     "output_type": "display_data"
    }
   ],
   "source": [
    "penguins_subset %>%\n",
    "  summarise(avg_body_mass = mean(body_mass_g))"
   ]
  },
  {
   "cell_type": "code",
   "execution_count": 30,
   "id": "765ce153",
   "metadata": {
    "vscode": {
     "languageId": "r"
    }
   },
   "outputs": [
    {
     "data": {
      "text/html": [
       "<table class=\"dataframe\">\n",
       "<caption>A tibble: 1 × 1</caption>\n",
       "<thead>\n",
       "\t<tr><th scope=col>avg_body_mass</th></tr>\n",
       "\t<tr><th scope=col>&lt;dbl&gt;</th></tr>\n",
       "</thead>\n",
       "<tbody>\n",
       "\t<tr><td>NA</td></tr>\n",
       "</tbody>\n",
       "</table>\n"
      ],
      "text/latex": [
       "A tibble: 1 × 1\n",
       "\\begin{tabular}{l}\n",
       " avg\\_body\\_mass\\\\\n",
       " <dbl>\\\\\n",
       "\\hline\n",
       "\t NA\\\\\n",
       "\\end{tabular}\n"
      ],
      "text/markdown": [
       "\n",
       "A tibble: 1 × 1\n",
       "\n",
       "| avg_body_mass &lt;dbl&gt; |\n",
       "|---|\n",
       "| NA |\n",
       "\n"
      ],
      "text/plain": [
       "  avg_body_mass\n",
       "1 NA           "
      ]
     },
     "metadata": {},
     "output_type": "display_data"
    }
   ],
   "source": [
    "penguins %>%\n",
    "  summarise(avg_body_mass = mean(body_mass_g))"
   ]
  },
  {
   "cell_type": "code",
   "execution_count": 31,
   "id": "16a12d4a",
   "metadata": {
    "vscode": {
     "languageId": "r"
    }
   },
   "outputs": [
    {
     "data": {
      "text/html": [
       "<table class=\"dataframe\">\n",
       "<caption>A tibble: 1 × 1</caption>\n",
       "<thead>\n",
       "\t<tr><th scope=col>avg_body_mass</th></tr>\n",
       "\t<tr><th scope=col>&lt;dbl&gt;</th></tr>\n",
       "</thead>\n",
       "<tbody>\n",
       "\t<tr><td>4201.754</td></tr>\n",
       "</tbody>\n",
       "</table>\n"
      ],
      "text/latex": [
       "A tibble: 1 × 1\n",
       "\\begin{tabular}{l}\n",
       " avg\\_body\\_mass\\\\\n",
       " <dbl>\\\\\n",
       "\\hline\n",
       "\t 4201.754\\\\\n",
       "\\end{tabular}\n"
      ],
      "text/markdown": [
       "\n",
       "A tibble: 1 × 1\n",
       "\n",
       "| avg_body_mass &lt;dbl&gt; |\n",
       "|---|\n",
       "| 4201.754 |\n",
       "\n"
      ],
      "text/plain": [
       "  avg_body_mass\n",
       "1 4201.754     "
      ]
     },
     "metadata": {},
     "output_type": "display_data"
    }
   ],
   "source": [
    "penguins %>%\n",
    "  summarise(avg_body_mass = mean(body_mass_g, na.rm = TRUE))"
   ]
  },
  {
   "cell_type": "code",
   "execution_count": 32,
   "id": "bfe8d640",
   "metadata": {
    "vscode": {
     "languageId": "r"
    }
   },
   "outputs": [
    {
     "data": {
      "text/html": [
       "<table class=\"dataframe\">\n",
       "<caption>A tibble: 3 × 2</caption>\n",
       "<thead>\n",
       "\t<tr><th scope=col>species</th><th scope=col>avg_species_body_mass</th></tr>\n",
       "\t<tr><th scope=col>&lt;chr&gt;</th><th scope=col>&lt;dbl&gt;</th></tr>\n",
       "</thead>\n",
       "<tbody>\n",
       "\t<tr><td>Adelie   </td><td>3700.662</td></tr>\n",
       "\t<tr><td>Chinstrap</td><td>3733.088</td></tr>\n",
       "\t<tr><td>Gentoo   </td><td>5076.016</td></tr>\n",
       "</tbody>\n",
       "</table>\n"
      ],
      "text/latex": [
       "A tibble: 3 × 2\n",
       "\\begin{tabular}{ll}\n",
       " species & avg\\_species\\_body\\_mass\\\\\n",
       " <chr> & <dbl>\\\\\n",
       "\\hline\n",
       "\t Adelie    & 3700.662\\\\\n",
       "\t Chinstrap & 3733.088\\\\\n",
       "\t Gentoo    & 5076.016\\\\\n",
       "\\end{tabular}\n"
      ],
      "text/markdown": [
       "\n",
       "A tibble: 3 × 2\n",
       "\n",
       "| species &lt;chr&gt; | avg_species_body_mass &lt;dbl&gt; |\n",
       "|---|---|\n",
       "| Adelie    | 3700.662 |\n",
       "| Chinstrap | 3733.088 |\n",
       "| Gentoo    | 5076.016 |\n",
       "\n"
      ],
      "text/plain": [
       "  species   avg_species_body_mass\n",
       "1 Adelie    3700.662             \n",
       "2 Chinstrap 3733.088             \n",
       "3 Gentoo    5076.016             "
      ]
     },
     "metadata": {},
     "output_type": "display_data"
    }
   ],
   "source": [
    "penguins %>%\n",
    "  group_by(species) %>%\n",
    "  summarise(avg_species_body_mass = mean(body_mass_g, na.rm = TRUE))"
   ]
  },
  {
   "cell_type": "code",
   "execution_count": 33,
   "id": "0e93a029",
   "metadata": {
    "vscode": {
     "languageId": "r"
    }
   },
   "outputs": [
    {
     "name": "stderr",
     "output_type": "stream",
     "text": [
      "\u001b[1m\u001b[22m`summarise()` has grouped output by 'species'. You can override using the\n",
      "`.groups` argument.\n"
     ]
    },
    {
     "data": {
      "text/html": [
       "<table class=\"dataframe\">\n",
       "<caption>A grouped_df: 5 × 3</caption>\n",
       "<thead>\n",
       "\t<tr><th scope=col>species</th><th scope=col>island</th><th scope=col>avg_species_body_mass</th></tr>\n",
       "\t<tr><th scope=col>&lt;chr&gt;</th><th scope=col>&lt;chr&gt;</th><th scope=col>&lt;dbl&gt;</th></tr>\n",
       "</thead>\n",
       "<tbody>\n",
       "\t<tr><td>Adelie   </td><td>Biscoe   </td><td>3709.659</td></tr>\n",
       "\t<tr><td>Adelie   </td><td>Dream    </td><td>3688.393</td></tr>\n",
       "\t<tr><td>Adelie   </td><td>Torgersen</td><td>3706.373</td></tr>\n",
       "\t<tr><td>Chinstrap</td><td>Dream    </td><td>3733.088</td></tr>\n",
       "\t<tr><td>Gentoo   </td><td>Biscoe   </td><td>5076.016</td></tr>\n",
       "</tbody>\n",
       "</table>\n"
      ],
      "text/latex": [
       "A grouped\\_df: 5 × 3\n",
       "\\begin{tabular}{lll}\n",
       " species & island & avg\\_species\\_body\\_mass\\\\\n",
       " <chr> & <chr> & <dbl>\\\\\n",
       "\\hline\n",
       "\t Adelie    & Biscoe    & 3709.659\\\\\n",
       "\t Adelie    & Dream     & 3688.393\\\\\n",
       "\t Adelie    & Torgersen & 3706.373\\\\\n",
       "\t Chinstrap & Dream     & 3733.088\\\\\n",
       "\t Gentoo    & Biscoe    & 5076.016\\\\\n",
       "\\end{tabular}\n"
      ],
      "text/markdown": [
       "\n",
       "A grouped_df: 5 × 3\n",
       "\n",
       "| species &lt;chr&gt; | island &lt;chr&gt; | avg_species_body_mass &lt;dbl&gt; |\n",
       "|---|---|---|\n",
       "| Adelie    | Biscoe    | 3709.659 |\n",
       "| Adelie    | Dream     | 3688.393 |\n",
       "| Adelie    | Torgersen | 3706.373 |\n",
       "| Chinstrap | Dream     | 3733.088 |\n",
       "| Gentoo    | Biscoe    | 5076.016 |\n",
       "\n"
      ],
      "text/plain": [
       "  species   island    avg_species_body_mass\n",
       "1 Adelie    Biscoe    3709.659             \n",
       "2 Adelie    Dream     3688.393             \n",
       "3 Adelie    Torgersen 3706.373             \n",
       "4 Chinstrap Dream     3733.088             \n",
       "5 Gentoo    Biscoe    5076.016             "
      ]
     },
     "metadata": {},
     "output_type": "display_data"
    }
   ],
   "source": [
    "penguins %>%\n",
    "  group_by(species, island) %>%\n",
    "  summarise(avg_species_body_mass = mean(body_mass_g, na.rm = TRUE)) "
   ]
  },
  {
   "cell_type": "code",
   "execution_count": null,
   "id": "8438fb92",
   "metadata": {
    "vscode": {
     "languageId": "r"
    }
   },
   "outputs": [],
   "source": []
  }
 ],
 "metadata": {
  "kernelspec": {
   "display_name": "R",
   "language": "R",
   "name": "ir"
  },
  "language_info": {
   "codemirror_mode": "r",
   "file_extension": ".r",
   "mimetype": "text/x-r-source",
   "name": "R",
   "pygments_lexer": "r",
   "version": "4.5.1"
  }
 },
 "nbformat": 4,
 "nbformat_minor": 5
}
