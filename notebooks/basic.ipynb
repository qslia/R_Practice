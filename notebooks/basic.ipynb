{
 "cells": [
  {
   "cell_type": "code",
   "execution_count": 3,
   "id": "0f69ef7e",
   "metadata": {
    "vscode": {
     "languageId": "r"
    }
   },
   "outputs": [
    {
     "name": "stderr",
     "output_type": "stream",
     "text": [
      "Installing packages into 'C:/Users/qslia/AppData/Local/R/win-library/4.5'\n",
      "(as 'lib' is unspecified)\n",
      "\n"
     ]
    },
    {
     "name": "stdout",
     "output_type": "stream",
     "text": [
      "package 'nnet' successfully unpacked and MD5 sums checked\n"
     ]
    },
    {
     "name": "stderr",
     "output_type": "stream",
     "text": [
      "Warning message:\n",
      "\"cannot remove prior installation of package 'nnet'\"\n",
      "Warning message in file.copy(savedcopy, lib, recursive = TRUE):\n",
      "\"problem copying C:\\Users\\qslia\\AppData\\Local\\R\\win-library\\4.5\\00LOCK\\nnet\\libs\\x64\\nnet.dll to C:\\Users\\qslia\\AppData\\Local\\R\\win-library\\4.5\\nnet\\libs\\x64\\nnet.dll: Permission denied\"\n",
      "Warning message:\n",
      "\"restored 'nnet'\"\n"
     ]
    },
    {
     "name": "stdout",
     "output_type": "stream",
     "text": [
      "package 'tidyverse' successfully unpacked and MD5 sums checked\n",
      "package 'caret' successfully unpacked and MD5 sums checked\n"
     ]
    },
    {
     "name": "stderr",
     "output_type": "stream",
     "text": [
      "Warning message:\n",
      "\"cannot remove prior installation of package 'caret'\"\n",
      "Warning message in file.copy(savedcopy, lib, recursive = TRUE):\n",
      "\"problem copying C:\\Users\\qslia\\AppData\\Local\\R\\win-library\\4.5\\00LOCK\\caret\\libs\\x64\\caret.dll to C:\\Users\\qslia\\AppData\\Local\\R\\win-library\\4.5\\caret\\libs\\x64\\caret.dll: Permission denied\"\n",
      "Warning message:\n",
      "\"restored 'caret'\"\n"
     ]
    },
    {
     "name": "stdout",
     "output_type": "stream",
     "text": [
      "package 'VIM' successfully unpacked and MD5 sums checked\n",
      "package 'corrplot' successfully unpacked and MD5 sums checked\n",
      "package 'pROC' successfully unpacked and MD5 sums checked\n"
     ]
    },
    {
     "name": "stderr",
     "output_type": "stream",
     "text": [
      "Warning message:\n",
      "\"cannot remove prior installation of package 'pROC'\"\n",
      "Warning message in file.copy(savedcopy, lib, recursive = TRUE):\n",
      "\"problem copying C:\\Users\\qslia\\AppData\\Local\\R\\win-library\\4.5\\00LOCK\\pROC\\libs\\x64\\pROC.dll to C:\\Users\\qslia\\AppData\\Local\\R\\win-library\\4.5\\pROC\\libs\\x64\\pROC.dll: Permission denied\"\n",
      "Warning message:\n",
      "\"restored 'pROC'\"\n"
     ]
    },
    {
     "name": "stdout",
     "output_type": "stream",
     "text": [
      "\n",
      "The downloaded binary packages are in\n",
      "\tC:\\Users\\qslia\\AppData\\Local\\Temp\\Rtmp4WXflW\\downloaded_packages\n"
     ]
    }
   ],
   "source": [
    "install.packages(c(\"nnet\", \"tidyverse\", \"caret\", \"VIM\", \"corrplot\", \"pROC\"), dependencies = TRUE, verbose = False)"
   ]
  },
  {
   "cell_type": "code",
   "execution_count": 7,
   "id": "82a38aa9",
   "metadata": {
    "vscode": {
     "languageId": "r"
    }
   },
   "outputs": [
    {
     "data": {
      "text/html": [
       "<style>\n",
       ".list-inline {list-style: none; margin:0; padding: 0}\n",
       ".list-inline>li {display: inline-block}\n",
       ".list-inline>li:not(:last-child)::after {content: \"\\00b7\"; padding: 0 .5ex}\n",
       "</style>\n",
       "<ol class=list-inline><li>10.4</li><li>5.6</li><li>3.1</li><li>6.4</li><li>21.7</li></ol>\n"
      ],
      "text/latex": [
       "\\begin{enumerate*}\n",
       "\\item 10.4\n",
       "\\item 5.6\n",
       "\\item 3.1\n",
       "\\item 6.4\n",
       "\\item 21.7\n",
       "\\end{enumerate*}\n"
      ],
      "text/markdown": [
       "1. 10.4\n",
       "2. 5.6\n",
       "3. 3.1\n",
       "4. 6.4\n",
       "5. 21.7\n",
       "\n",
       "\n"
      ],
      "text/plain": [
       "[1] 10.4  5.6  3.1  6.4 21.7"
      ]
     },
     "metadata": {},
     "output_type": "display_data"
    }
   ],
   "source": [
    "x <- c(10.4, 5.6, 3.1, 6.4, 21.7)\n",
    "x"
   ]
  },
  {
   "cell_type": "code",
   "execution_count": null,
   "id": "bf530739",
   "metadata": {
    "vscode": {
     "languageId": "r"
    }
   },
   "outputs": [],
   "source": [
    "assign(\"x\", c(10.4, 5.6, 3.1, 6.4, 21.7))\n",
    "c(10.4, 5.6, 3.1, 6.4, 21.7) -> x"
   ]
  },
  {
   "cell_type": "code",
   "execution_count": 6,
   "id": "093b54a8",
   "metadata": {
    "vscode": {
     "languageId": "r"
    }
   },
   "outputs": [
    {
     "data": {
      "text/html": [
       "<style>\n",
       ".list-inline {list-style: none; margin:0; padding: 0}\n",
       ".list-inline>li {display: inline-block}\n",
       ".list-inline>li:not(:last-child)::after {content: \"\\00b7\"; padding: 0 .5ex}\n",
       "</style>\n",
       "<ol class=list-inline><li>0.0961538461538461</li><li>0.178571428571429</li><li>0.32258064516129</li><li>0.15625</li><li>0.0460829493087558</li></ol>\n"
      ],
      "text/latex": [
       "\\begin{enumerate*}\n",
       "\\item 0.0961538461538461\n",
       "\\item 0.178571428571429\n",
       "\\item 0.32258064516129\n",
       "\\item 0.15625\n",
       "\\item 0.0460829493087558\n",
       "\\end{enumerate*}\n"
      ],
      "text/markdown": [
       "1. 0.0961538461538461\n",
       "2. 0.178571428571429\n",
       "3. 0.32258064516129\n",
       "4. 0.15625\n",
       "5. 0.0460829493087558\n",
       "\n",
       "\n"
      ],
      "text/plain": [
       "[1] 0.09615385 0.17857143 0.32258065 0.15625000 0.04608295"
      ]
     },
     "metadata": {},
     "output_type": "display_data"
    }
   ],
   "source": [
    "1 / x"
   ]
  },
  {
   "cell_type": "code",
   "execution_count": 5,
   "id": "18a42645",
   "metadata": {
    "vscode": {
     "languageId": "r"
    }
   },
   "outputs": [
    {
     "data": {
      "text/html": [
       "<style>\n",
       ".list-inline {list-style: none; margin:0; padding: 0}\n",
       ".list-inline>li {display: inline-block}\n",
       ".list-inline>li:not(:last-child)::after {content: \"\\00b7\"; padding: 0 .5ex}\n",
       "</style>\n",
       "<ol class=list-inline><li>10.4</li><li>5.6</li><li>3.1</li><li>6.4</li><li>21.7</li><li>0</li><li>10.4</li><li>5.6</li><li>3.1</li><li>6.4</li><li>21.7</li></ol>\n"
      ],
      "text/latex": [
       "\\begin{enumerate*}\n",
       "\\item 10.4\n",
       "\\item 5.6\n",
       "\\item 3.1\n",
       "\\item 6.4\n",
       "\\item 21.7\n",
       "\\item 0\n",
       "\\item 10.4\n",
       "\\item 5.6\n",
       "\\item 3.1\n",
       "\\item 6.4\n",
       "\\item 21.7\n",
       "\\end{enumerate*}\n"
      ],
      "text/markdown": [
       "1. 10.4\n",
       "2. 5.6\n",
       "3. 3.1\n",
       "4. 6.4\n",
       "5. 21.7\n",
       "6. 0\n",
       "7. 10.4\n",
       "8. 5.6\n",
       "9. 3.1\n",
       "10. 6.4\n",
       "11. 21.7\n",
       "\n",
       "\n"
      ],
      "text/plain": [
       " [1] 10.4  5.6  3.1  6.4 21.7  0.0 10.4  5.6  3.1  6.4 21.7"
      ]
     },
     "metadata": {},
     "output_type": "display_data"
    }
   ],
   "source": [
    " y <- c(x, 0, x)\n",
    " y"
   ]
  },
  {
   "cell_type": "code",
   "execution_count": null,
   "id": "671ff86d",
   "metadata": {
    "vscode": {
     "languageId": "r"
    }
   },
   "outputs": [
    {
     "data": {
      "text/html": [
       "<style>\n",
       ".list-inline {list-style: none; margin:0; padding: 0}\n",
       ".list-inline>li {display: inline-block}\n",
       ".list-inline>li:not(:last-child)::after {content: \"\\00b7\"; padding: 0 .5ex}\n",
       "</style>\n",
       "<ol class=list-inline><li>10.4</li><li>5.6</li><li>3.1</li><li>6.4</li><li>21.7</li><li>10.4</li><li>5.6</li><li>3.1</li><li>6.4</li><li>21.7</li><li>10.4</li><li>5.6</li><li>3.1</li><li>6.4</li><li>21.7</li><li>10.4</li><li>5.6</li><li>3.1</li><li>6.4</li><li>21.7</li><li>10.4</li><li>5.6</li><li>3.1</li><li>6.4</li><li>21.7</li></ol>\n"
      ],
      "text/latex": [
       "\\begin{enumerate*}\n",
       "\\item 10.4\n",
       "\\item 5.6\n",
       "\\item 3.1\n",
       "\\item 6.4\n",
       "\\item 21.7\n",
       "\\item 10.4\n",
       "\\item 5.6\n",
       "\\item 3.1\n",
       "\\item 6.4\n",
       "\\item 21.7\n",
       "\\item 10.4\n",
       "\\item 5.6\n",
       "\\item 3.1\n",
       "\\item 6.4\n",
       "\\item 21.7\n",
       "\\item 10.4\n",
       "\\item 5.6\n",
       "\\item 3.1\n",
       "\\item 6.4\n",
       "\\item 21.7\n",
       "\\item 10.4\n",
       "\\item 5.6\n",
       "\\item 3.1\n",
       "\\item 6.4\n",
       "\\item 21.7\n",
       "\\end{enumerate*}\n"
      ],
      "text/markdown": [
       "1. 10.4\n",
       "2. 5.6\n",
       "3. 3.1\n",
       "4. 6.4\n",
       "5. 21.7\n",
       "6. 10.4\n",
       "7. 5.6\n",
       "8. 3.1\n",
       "9. 6.4\n",
       "10. 21.7\n",
       "11. 10.4\n",
       "12. 5.6\n",
       "13. 3.1\n",
       "14. 6.4\n",
       "15. 21.7\n",
       "16. 10.4\n",
       "17. 5.6\n",
       "18. 3.1\n",
       "19. 6.4\n",
       "20. 21.7\n",
       "21. 10.4\n",
       "22. 5.6\n",
       "23. 3.1\n",
       "24. 6.4\n",
       "25. 21.7\n",
       "\n",
       "\n"
      ],
      "text/plain": [
       " [1] 10.4  5.6  3.1  6.4 21.7 10.4  5.6  3.1  6.4 21.7 10.4  5.6  3.1  6.4 21.7\n",
       "[16] 10.4  5.6  3.1  6.4 21.7 10.4  5.6  3.1  6.4 21.7"
      ]
     },
     "metadata": {},
     "output_type": "display_data"
    }
   ],
   "source": [
    "s5 <- rep(x, times = 5)\n",
    "s5"
   ]
  },
  {
   "cell_type": "code",
   "execution_count": 11,
   "id": "b5d25863",
   "metadata": {
    "vscode": {
     "languageId": "r"
    }
   },
   "outputs": [
    {
     "data": {
      "text/html": [
       "<style>\n",
       ".list-inline {list-style: none; margin:0; padding: 0}\n",
       ".list-inline>li {display: inline-block}\n",
       ".list-inline>li:not(:last-child)::after {content: \"\\00b7\"; padding: 0 .5ex}\n",
       "</style>\n",
       "<ol class=list-inline><li>10.4</li><li>5.6</li><li>3.1</li><li>6.4</li><li>21.7</li></ol>\n"
      ],
      "text/latex": [
       "\\begin{enumerate*}\n",
       "\\item 10.4\n",
       "\\item 5.6\n",
       "\\item 3.1\n",
       "\\item 6.4\n",
       "\\item 21.7\n",
       "\\end{enumerate*}\n"
      ],
      "text/markdown": [
       "1. 10.4\n",
       "2. 5.6\n",
       "3. 3.1\n",
       "4. 6.4\n",
       "5. 21.7\n",
       "\n",
       "\n"
      ],
      "text/plain": [
       "[1] 10.4  5.6  3.1  6.4 21.7"
      ]
     },
     "metadata": {},
     "output_type": "display_data"
    }
   ],
   "source": [
    "x"
   ]
  },
  {
   "cell_type": "code",
   "execution_count": 12,
   "id": "803fa77b",
   "metadata": {
    "vscode": {
     "languageId": "r"
    }
   },
   "outputs": [
    {
     "data": {
      "text/html": [
       "<style>\n",
       ".list-inline {list-style: none; margin:0; padding: 0}\n",
       ".list-inline>li {display: inline-block}\n",
       ".list-inline>li:not(:last-child)::after {content: \"\\00b7\"; padding: 0 .5ex}\n",
       "</style>\n",
       "<ol class=list-inline><li>FALSE</li><li>FALSE</li><li>FALSE</li><li>FALSE</li><li>TRUE</li></ol>\n"
      ],
      "text/latex": [
       "\\begin{enumerate*}\n",
       "\\item FALSE\n",
       "\\item FALSE\n",
       "\\item FALSE\n",
       "\\item FALSE\n",
       "\\item TRUE\n",
       "\\end{enumerate*}\n"
      ],
      "text/markdown": [
       "1. FALSE\n",
       "2. FALSE\n",
       "3. FALSE\n",
       "4. FALSE\n",
       "5. TRUE\n",
       "\n",
       "\n"
      ],
      "text/plain": [
       "[1] FALSE FALSE FALSE FALSE  TRUE"
      ]
     },
     "metadata": {},
     "output_type": "display_data"
    }
   ],
   "source": [
    "temp <- x > 13\n",
    "temp"
   ]
  },
  {
   "cell_type": "code",
   "execution_count": 13,
   "id": "9f2ad152",
   "metadata": {
    "vscode": {
     "languageId": "r"
    }
   },
   "outputs": [
    {
     "data": {
      "text/html": [
       "<style>\n",
       ".list-inline {list-style: none; margin:0; padding: 0}\n",
       ".list-inline>li {display: inline-block}\n",
       ".list-inline>li:not(:last-child)::after {content: \"\\00b7\"; padding: 0 .5ex}\n",
       "</style>\n",
       "<ol class=list-inline><li>1</li><li>2</li><li>3</li><li>&lt;NA&gt;</li></ol>\n"
      ],
      "text/latex": [
       "\\begin{enumerate*}\n",
       "\\item 1\n",
       "\\item 2\n",
       "\\item 3\n",
       "\\item <NA>\n",
       "\\end{enumerate*}\n"
      ],
      "text/markdown": [
       "1. 1\n",
       "2. 2\n",
       "3. 3\n",
       "4. &lt;NA&gt;\n",
       "\n",
       "\n"
      ],
      "text/plain": [
       "[1]  1  2  3 NA"
      ]
     },
     "metadata": {},
     "output_type": "display_data"
    }
   ],
   "source": [
    "z <- c(1:3, NA);\n",
    "z"
   ]
  },
  {
   "cell_type": "code",
   "execution_count": 15,
   "id": "0f19562e",
   "metadata": {
    "vscode": {
     "languageId": "r"
    }
   },
   "outputs": [
    {
     "data": {
      "text/html": [
       "<style>\n",
       ".list-inline {list-style: none; margin:0; padding: 0}\n",
       ".list-inline>li {display: inline-block}\n",
       ".list-inline>li:not(:last-child)::after {content: \"\\00b7\"; padding: 0 .5ex}\n",
       "</style>\n",
       "<ol class=list-inline><li>FALSE</li><li>FALSE</li><li>FALSE</li><li>TRUE</li></ol>\n"
      ],
      "text/latex": [
       "\\begin{enumerate*}\n",
       "\\item FALSE\n",
       "\\item FALSE\n",
       "\\item FALSE\n",
       "\\item TRUE\n",
       "\\end{enumerate*}\n"
      ],
      "text/markdown": [
       "1. FALSE\n",
       "2. FALSE\n",
       "3. FALSE\n",
       "4. TRUE\n",
       "\n",
       "\n"
      ],
      "text/plain": [
       "[1] FALSE FALSE FALSE  TRUE"
      ]
     },
     "metadata": {},
     "output_type": "display_data"
    }
   ],
   "source": [
    "ind <- is.na(z)\n",
    "ind"
   ]
  },
  {
   "cell_type": "code",
   "execution_count": 16,
   "id": "47947221",
   "metadata": {
    "vscode": {
     "languageId": "r"
    }
   },
   "outputs": [
    {
     "data": {
      "text/html": [
       "'x-values'"
      ],
      "text/latex": [
       "'x-values'"
      ],
      "text/markdown": [
       "'x-values'"
      ],
      "text/plain": [
       "[1] \"x-values\""
      ]
     },
     "metadata": {},
     "output_type": "display_data"
    }
   ],
   "source": [
    "x <- \"x-values\"\n",
    "x"
   ]
  },
  {
   "cell_type": "code",
   "execution_count": 17,
   "id": "0ab3a2a7",
   "metadata": {
    "vscode": {
     "languageId": "r"
    }
   },
   "outputs": [
    {
     "data": {
      "text/html": [
       "<style>\n",
       ".list-inline {list-style: none; margin:0; padding: 0}\n",
       ".list-inline>li {display: inline-block}\n",
       ".list-inline>li:not(:last-child)::after {content: \"\\00b7\"; padding: 0 .5ex}\n",
       "</style>\n",
       "<ol class=list-inline><li>'X1'</li><li>'Y2'</li><li>'X3'</li><li>'Y4'</li><li>'X5'</li><li>'Y6'</li><li>'X7'</li><li>'Y8'</li><li>'X9'</li><li>'Y10'</li></ol>\n"
      ],
      "text/latex": [
       "\\begin{enumerate*}\n",
       "\\item 'X1'\n",
       "\\item 'Y2'\n",
       "\\item 'X3'\n",
       "\\item 'Y4'\n",
       "\\item 'X5'\n",
       "\\item 'Y6'\n",
       "\\item 'X7'\n",
       "\\item 'Y8'\n",
       "\\item 'X9'\n",
       "\\item 'Y10'\n",
       "\\end{enumerate*}\n"
      ],
      "text/markdown": [
       "1. 'X1'\n",
       "2. 'Y2'\n",
       "3. 'X3'\n",
       "4. 'Y4'\n",
       "5. 'X5'\n",
       "6. 'Y6'\n",
       "7. 'X7'\n",
       "8. 'Y8'\n",
       "9. 'X9'\n",
       "10. 'Y10'\n",
       "\n",
       "\n"
      ],
      "text/plain": [
       " [1] \"X1\"  \"Y2\"  \"X3\"  \"Y4\"  \"X5\"  \"Y6\"  \"X7\"  \"Y8\"  \"X9\"  \"Y10\""
      ]
     },
     "metadata": {},
     "output_type": "display_data"
    }
   ],
   "source": [
    "labs <- paste(c(\"X\", \"Y\"), 1:10, sep = \"\")\n",
    "labs"
   ]
  },
  {
   "cell_type": "code",
   "execution_count": 18,
   "id": "e89f95a5",
   "metadata": {
    "vscode": {
     "languageId": "r"
    }
   },
   "outputs": [
    {
     "data": {
      "text/html": [
       "<style>\n",
       ".list-inline {list-style: none; margin:0; padding: 0}\n",
       ".list-inline>li {display: inline-block}\n",
       ".list-inline>li:not(:last-child)::after {content: \"\\00b7\"; padding: 0 .5ex}\n",
       "</style>\n",
       "<ol class=list-inline><li>'X#1'</li><li>'Y#2'</li><li>'X#3'</li><li>'Y#4'</li><li>'X#5'</li><li>'Y#6'</li><li>'X#7'</li><li>'Y#8'</li><li>'X#9'</li><li>'Y#10'</li></ol>\n"
      ],
      "text/latex": [
       "\\begin{enumerate*}\n",
       "\\item 'X\\#1'\n",
       "\\item 'Y\\#2'\n",
       "\\item 'X\\#3'\n",
       "\\item 'Y\\#4'\n",
       "\\item 'X\\#5'\n",
       "\\item 'Y\\#6'\n",
       "\\item 'X\\#7'\n",
       "\\item 'Y\\#8'\n",
       "\\item 'X\\#9'\n",
       "\\item 'Y\\#10'\n",
       "\\end{enumerate*}\n"
      ],
      "text/markdown": [
       "1. 'X#1'\n",
       "2. 'Y#2'\n",
       "3. 'X#3'\n",
       "4. 'Y#4'\n",
       "5. 'X#5'\n",
       "6. 'Y#6'\n",
       "7. 'X#7'\n",
       "8. 'Y#8'\n",
       "9. 'X#9'\n",
       "10. 'Y#10'\n",
       "\n",
       "\n"
      ],
      "text/plain": [
       " [1] \"X#1\"  \"Y#2\"  \"X#3\"  \"Y#4\"  \"X#5\"  \"Y#6\"  \"X#7\"  \"Y#8\"  \"X#9\"  \"Y#10\""
      ]
     },
     "metadata": {},
     "output_type": "display_data"
    }
   ],
   "source": [
    "labs <- paste(c(\"X\", \"Y\"), 1:10, sep = \"#\")\n",
    "labs"
   ]
  },
  {
   "cell_type": "code",
   "execution_count": 19,
   "id": "30fd5819",
   "metadata": {
    "vscode": {
     "languageId": "r"
    }
   },
   "outputs": [],
   "source": [
    "x <- c(-10.4, -5.6, -0.2, 3.1, 6.4, 21.7, NA, 9.3, 7.7, 3.5, 1.0)"
   ]
  },
  {
   "cell_type": "code",
   "execution_count": 2,
   "id": "145bc966",
   "metadata": {
    "vscode": {
     "languageId": "r"
    }
   },
   "outputs": [
    {
     "data": {
      "text/html": [
       "<style>\n",
       ".list-inline {list-style: none; margin:0; padding: 0}\n",
       ".list-inline>li {display: inline-block}\n",
       ".list-inline>li:not(:last-child)::after {content: \"\\00b7\"; padding: 0 .5ex}\n",
       "</style>\n",
       "<ol class=list-inline><li>-10.4</li><li>-5.6</li><li>-0.2</li><li>3.1</li><li>6.4</li><li>21.7</li><li>9.3</li><li>7.7</li><li>3.5</li><li>1</li></ol>\n"
      ],
      "text/latex": [
       "\\begin{enumerate*}\n",
       "\\item -10.4\n",
       "\\item -5.6\n",
       "\\item -0.2\n",
       "\\item 3.1\n",
       "\\item 6.4\n",
       "\\item 21.7\n",
       "\\item 9.3\n",
       "\\item 7.7\n",
       "\\item 3.5\n",
       "\\item 1\n",
       "\\end{enumerate*}\n"
      ],
      "text/markdown": [
       "1. -10.4\n",
       "2. -5.6\n",
       "3. -0.2\n",
       "4. 3.1\n",
       "5. 6.4\n",
       "6. 21.7\n",
       "7. 9.3\n",
       "8. 7.7\n",
       "9. 3.5\n",
       "10. 1\n",
       "\n",
       "\n"
      ],
      "text/plain": [
       " [1] -10.4  -5.6  -0.2   3.1   6.4  21.7   9.3   7.7   3.5   1.0"
      ]
     },
     "metadata": {},
     "output_type": "display_data"
    }
   ],
   "source": [
    "y <- x[!is.na(x)]\n",
    "y"
   ]
  },
  {
   "cell_type": "code",
   "execution_count": 20,
   "id": "f9b0d3ae",
   "metadata": {
    "vscode": {
     "languageId": "r"
    }
   },
   "outputs": [
    {
     "data": {
      "text/html": [
       "<style>\n",
       ".list-inline {list-style: none; margin:0; padding: 0}\n",
       ".list-inline>li {display: inline-block}\n",
       ".list-inline>li:not(:last-child)::after {content: \"\\00b7\"; padding: 0 .5ex}\n",
       "</style>\n",
       "<ol class=list-inline><li>4.1</li><li>7.4</li><li>22.7</li><li>10.3</li><li>8.7</li><li>4.5</li><li>2</li></ol>\n"
      ],
      "text/latex": [
       "\\begin{enumerate*}\n",
       "\\item 4.1\n",
       "\\item 7.4\n",
       "\\item 22.7\n",
       "\\item 10.3\n",
       "\\item 8.7\n",
       "\\item 4.5\n",
       "\\item 2\n",
       "\\end{enumerate*}\n"
      ],
      "text/markdown": [
       "1. 4.1\n",
       "2. 7.4\n",
       "3. 22.7\n",
       "4. 10.3\n",
       "5. 8.7\n",
       "6. 4.5\n",
       "7. 2\n",
       "\n",
       "\n"
      ],
      "text/plain": [
       "[1]  4.1  7.4 22.7 10.3  8.7  4.5  2.0"
      ]
     },
     "metadata": {},
     "output_type": "display_data"
    }
   ],
   "source": [
    "(x + 1)[(!is.na(x)) & x > 0] -> z\n",
    "z"
   ]
  },
  {
   "cell_type": "code",
   "execution_count": 22,
   "id": "057661a0",
   "metadata": {
    "vscode": {
     "languageId": "r"
    }
   },
   "outputs": [
    {
     "data": {
      "text/html": [
       "<style>\n",
       ".list-inline {list-style: none; margin:0; padding: 0}\n",
       ".list-inline>li {display: inline-block}\n",
       ".list-inline>li:not(:last-child)::after {content: \"\\00b7\"; padding: 0 .5ex}\n",
       "</style>\n",
       "<ol class=list-inline><li>-10.4</li><li>-5.6</li><li>-0.2</li><li>3.1</li><li>6.4</li><li>21.7</li><li>&lt;NA&gt;</li><li>9.3</li><li>7.7</li><li>3.5</li><li>1</li></ol>\n"
      ],
      "text/latex": [
       "\\begin{enumerate*}\n",
       "\\item -10.4\n",
       "\\item -5.6\n",
       "\\item -0.2\n",
       "\\item 3.1\n",
       "\\item 6.4\n",
       "\\item 21.7\n",
       "\\item <NA>\n",
       "\\item 9.3\n",
       "\\item 7.7\n",
       "\\item 3.5\n",
       "\\item 1\n",
       "\\end{enumerate*}\n"
      ],
      "text/markdown": [
       "1. -10.4\n",
       "2. -5.6\n",
       "3. -0.2\n",
       "4. 3.1\n",
       "5. 6.4\n",
       "6. 21.7\n",
       "7. &lt;NA&gt;\n",
       "8. 9.3\n",
       "9. 7.7\n",
       "10. 3.5\n",
       "11. 1\n",
       "\n",
       "\n"
      ],
      "text/plain": [
       " [1] -10.4  -5.6  -0.2   3.1   6.4  21.7    NA   9.3   7.7   3.5   1.0"
      ]
     },
     "metadata": {},
     "output_type": "display_data"
    }
   ],
   "source": [
    "x"
   ]
  },
  {
   "cell_type": "code",
   "execution_count": 26,
   "id": "6b73c0e5",
   "metadata": {
    "vscode": {
     "languageId": "r"
    }
   },
   "outputs": [
    {
     "data": {
      "text/html": [
       "11"
      ],
      "text/latex": [
       "11"
      ],
      "text/markdown": [
       "11"
      ],
      "text/plain": [
       "[1] 11"
      ]
     },
     "metadata": {},
     "output_type": "display_data"
    }
   ],
   "source": [
    "length(x)"
   ]
  },
  {
   "cell_type": "code",
   "execution_count": 21,
   "id": "71aef545",
   "metadata": {
    "vscode": {
     "languageId": "r"
    }
   },
   "outputs": [
    {
     "data": {
      "text/html": [
       "<style>\n",
       ".list-inline {list-style: none; margin:0; padding: 0}\n",
       ".list-inline>li {display: inline-block}\n",
       ".list-inline>li:not(:last-child)::after {content: \"\\00b7\"; padding: 0 .5ex}\n",
       "</style>\n",
       "<ol class=list-inline><li>-10.4</li><li>-5.6</li><li>-0.2</li><li>3.1</li><li>6.4</li><li>21.7</li><li>&lt;NA&gt;</li><li>9.3</li><li>7.7</li><li>3.5</li></ol>\n"
      ],
      "text/latex": [
       "\\begin{enumerate*}\n",
       "\\item -10.4\n",
       "\\item -5.6\n",
       "\\item -0.2\n",
       "\\item 3.1\n",
       "\\item 6.4\n",
       "\\item 21.7\n",
       "\\item <NA>\n",
       "\\item 9.3\n",
       "\\item 7.7\n",
       "\\item 3.5\n",
       "\\end{enumerate*}\n"
      ],
      "text/markdown": [
       "1. -10.4\n",
       "2. -5.6\n",
       "3. -0.2\n",
       "4. 3.1\n",
       "5. 6.4\n",
       "6. 21.7\n",
       "7. &lt;NA&gt;\n",
       "8. 9.3\n",
       "9. 7.7\n",
       "10. 3.5\n",
       "\n",
       "\n"
      ],
      "text/plain": [
       " [1] -10.4  -5.6  -0.2   3.1   6.4  21.7    NA   9.3   7.7   3.5"
      ]
     },
     "metadata": {},
     "output_type": "display_data"
    }
   ],
   "source": [
    "x[1:10]"
   ]
  },
  {
   "cell_type": "code",
   "execution_count": 27,
   "id": "58a16ba8",
   "metadata": {
    "vscode": {
     "languageId": "r"
    }
   },
   "outputs": [
    {
     "data": {
      "text/html": [
       "<style>\n",
       ".list-inline {list-style: none; margin:0; padding: 0}\n",
       ".list-inline>li {display: inline-block}\n",
       ".list-inline>li:not(:last-child)::after {content: \"\\00b7\"; padding: 0 .5ex}\n",
       "</style>\n",
       "<ol class=list-inline><li>'x'</li><li>'y'</li><li>'y'</li><li>'x'</li><li>'x'</li><li>'y'</li><li>'y'</li><li>'x'</li><li>'x'</li><li>'y'</li><li>'y'</li><li>'x'</li><li>'x'</li><li>'y'</li><li>'y'</li><li>'x'</li></ol>\n"
      ],
      "text/latex": [
       "\\begin{enumerate*}\n",
       "\\item 'x'\n",
       "\\item 'y'\n",
       "\\item 'y'\n",
       "\\item 'x'\n",
       "\\item 'x'\n",
       "\\item 'y'\n",
       "\\item 'y'\n",
       "\\item 'x'\n",
       "\\item 'x'\n",
       "\\item 'y'\n",
       "\\item 'y'\n",
       "\\item 'x'\n",
       "\\item 'x'\n",
       "\\item 'y'\n",
       "\\item 'y'\n",
       "\\item 'x'\n",
       "\\end{enumerate*}\n"
      ],
      "text/markdown": [
       "1. 'x'\n",
       "2. 'y'\n",
       "3. 'y'\n",
       "4. 'x'\n",
       "5. 'x'\n",
       "6. 'y'\n",
       "7. 'y'\n",
       "8. 'x'\n",
       "9. 'x'\n",
       "10. 'y'\n",
       "11. 'y'\n",
       "12. 'x'\n",
       "13. 'x'\n",
       "14. 'y'\n",
       "15. 'y'\n",
       "16. 'x'\n",
       "\n",
       "\n"
      ],
      "text/plain": [
       " [1] \"x\" \"y\" \"y\" \"x\" \"x\" \"y\" \"y\" \"x\" \"x\" \"y\" \"y\" \"x\" \"x\" \"y\" \"y\" \"x\""
      ]
     },
     "metadata": {},
     "output_type": "display_data"
    }
   ],
   "source": [
    "c(\"x\", \"y\")[rep(c(1, 2, 2, 1), times = 4)]"
   ]
  },
  {
   "cell_type": "markdown",
   "id": "9918c151",
   "metadata": {},
   "source": [
    "### **Step 1: Create the vector**\n",
    "```r\n",
    "c(\"x\",\"y\")\n",
    "```\n",
    "- Creates a character vector with two elements\n",
    "- `\"x\"` is at position 1\n",
    "- `\"y\"` is at position 2\n",
    "\n",
    "### **Step 2: Create the index pattern**\n",
    "```r\n",
    "c(1,2,2,1)\n",
    "```\n",
    "- Creates a numeric vector with the pattern: 1, 2, 2, 1\n",
    "- These will be used as indices to select from `c(\"x\",\"y\")`\n",
    "\n",
    "### **Step 3: Repeat the pattern**\n",
    "```r\n",
    "rep(c(1,2,2,1), times=4)\n",
    "```\n",
    "- `rep()` repeats the pattern `c(1,2,2,1)` four times\n",
    "- Result: `1, 2, 2, 1, 1, 2, 2, 1, 1, 2, 2, 1, 1, 2, 2, 1`\n",
    "\n",
    "### **Step 4: Use as indices**\n",
    "```r\n",
    "c(\"x\",\"y\")[rep(c(1,2,2,1), times=4)]\n",
    "```\n",
    "- Uses the repeated pattern as indices to select from `c(\"x\",\"y\")`\n",
    "- Index 1 → \"x\"\n",
    "- Index 2 → \"y\""
   ]
  },
  {
   "cell_type": "code",
   "execution_count": 28,
   "id": "177d6f90",
   "metadata": {
    "vscode": {
     "languageId": "r"
    }
   },
   "outputs": [
    {
     "data": {
      "text/html": [
       "<style>\n",
       ".list-inline {list-style: none; margin:0; padding: 0}\n",
       ".list-inline>li {display: inline-block}\n",
       ".list-inline>li:not(:last-child)::after {content: \"\\00b7\"; padding: 0 .5ex}\n",
       "</style>\n",
       "<ol class=list-inline><li>0</li><li>1</li><li>2</li><li>3</li><li>4</li><li>5</li><li>6</li><li>7</li><li>8</li><li>9</li></ol>\n"
      ],
      "text/latex": [
       "\\begin{enumerate*}\n",
       "\\item 0\n",
       "\\item 1\n",
       "\\item 2\n",
       "\\item 3\n",
       "\\item 4\n",
       "\\item 5\n",
       "\\item 6\n",
       "\\item 7\n",
       "\\item 8\n",
       "\\item 9\n",
       "\\end{enumerate*}\n"
      ],
      "text/markdown": [
       "1. 0\n",
       "2. 1\n",
       "3. 2\n",
       "4. 3\n",
       "5. 4\n",
       "6. 5\n",
       "7. 6\n",
       "8. 7\n",
       "9. 8\n",
       "10. 9\n",
       "\n",
       "\n"
      ],
      "text/plain": [
       " [1] 0 1 2 3 4 5 6 7 8 9"
      ]
     },
     "metadata": {},
     "output_type": "display_data"
    }
   ],
   "source": [
    "z <- 0:9\n",
    "z"
   ]
  },
  {
   "cell_type": "code",
   "execution_count": 29,
   "id": "6f5e7abb",
   "metadata": {
    "vscode": {
     "languageId": "r"
    }
   },
   "outputs": [
    {
     "data": {
      "text/html": [
       "<style>\n",
       ".list-inline {list-style: none; margin:0; padding: 0}\n",
       ".list-inline>li {display: inline-block}\n",
       ".list-inline>li:not(:last-child)::after {content: \"\\00b7\"; padding: 0 .5ex}\n",
       "</style>\n",
       "<ol class=list-inline><li>'0'</li><li>'1'</li><li>'2'</li><li>'3'</li><li>'4'</li><li>'5'</li><li>'6'</li><li>'7'</li><li>'8'</li><li>'9'</li></ol>\n"
      ],
      "text/latex": [
       "\\begin{enumerate*}\n",
       "\\item '0'\n",
       "\\item '1'\n",
       "\\item '2'\n",
       "\\item '3'\n",
       "\\item '4'\n",
       "\\item '5'\n",
       "\\item '6'\n",
       "\\item '7'\n",
       "\\item '8'\n",
       "\\item '9'\n",
       "\\end{enumerate*}\n"
      ],
      "text/markdown": [
       "1. '0'\n",
       "2. '1'\n",
       "3. '2'\n",
       "4. '3'\n",
       "5. '4'\n",
       "6. '5'\n",
       "7. '6'\n",
       "8. '7'\n",
       "9. '8'\n",
       "10. '9'\n",
       "\n",
       "\n"
      ],
      "text/plain": [
       " [1] \"0\" \"1\" \"2\" \"3\" \"4\" \"5\" \"6\" \"7\" \"8\" \"9\""
      ]
     },
     "metadata": {},
     "output_type": "display_data"
    }
   ],
   "source": [
    "digits <- as.character(z)\n",
    "digits"
   ]
  },
  {
   "cell_type": "code",
   "execution_count": 30,
   "id": "cbc8ae0d",
   "metadata": {
    "vscode": {
     "languageId": "r"
    }
   },
   "outputs": [
    {
     "data": {
      "text/html": [
       "<style>\n",
       ".list-inline {list-style: none; margin:0; padding: 0}\n",
       ".list-inline>li {display: inline-block}\n",
       ".list-inline>li:not(:last-child)::after {content: \"\\00b7\"; padding: 0 .5ex}\n",
       "</style>\n",
       "<ol class=list-inline><li>0</li><li>1</li><li>2</li><li>3</li><li>4</li><li>5</li><li>6</li><li>7</li><li>8</li><li>9</li></ol>\n"
      ],
      "text/latex": [
       "\\begin{enumerate*}\n",
       "\\item 0\n",
       "\\item 1\n",
       "\\item 2\n",
       "\\item 3\n",
       "\\item 4\n",
       "\\item 5\n",
       "\\item 6\n",
       "\\item 7\n",
       "\\item 8\n",
       "\\item 9\n",
       "\\end{enumerate*}\n"
      ],
      "text/markdown": [
       "1. 0\n",
       "2. 1\n",
       "3. 2\n",
       "4. 3\n",
       "5. 4\n",
       "6. 5\n",
       "7. 6\n",
       "8. 7\n",
       "9. 8\n",
       "10. 9\n",
       "\n",
       "\n"
      ],
      "text/plain": [
       " [1] 0 1 2 3 4 5 6 7 8 9"
      ]
     },
     "metadata": {},
     "output_type": "display_data"
    }
   ],
   "source": [
    "d <- as.integer(digits)\n",
    "d"
   ]
  },
  {
   "cell_type": "code",
   "execution_count": 31,
   "id": "38938823",
   "metadata": {
    "vscode": {
     "languageId": "r"
    }
   },
   "outputs": [
    {
     "data": {
      "text/html": [],
      "text/latex": [],
      "text/markdown": [],
      "text/plain": [
       "numeric(0)"
      ]
     },
     "metadata": {},
     "output_type": "display_data"
    }
   ],
   "source": [
    "e <- numeric()\n",
    "e"
   ]
  },
  {
   "cell_type": "code",
   "execution_count": 32,
   "id": "77127dde",
   "metadata": {
    "vscode": {
     "languageId": "r"
    }
   },
   "outputs": [
    {
     "data": {
      "text/html": [
       "'numeric'"
      ],
      "text/latex": [
       "'numeric'"
      ],
      "text/markdown": [
       "'numeric'"
      ],
      "text/plain": [
       "[1] \"numeric\""
      ]
     },
     "metadata": {},
     "output_type": "display_data"
    }
   ],
   "source": [
    "mode(e)"
   ]
  },
  {
   "cell_type": "code",
   "execution_count": 33,
   "id": "0369c7e4",
   "metadata": {
    "vscode": {
     "languageId": "r"
    }
   },
   "outputs": [
    {
     "data": {
      "text/html": [
       "0"
      ],
      "text/latex": [
       "0"
      ],
      "text/markdown": [
       "0"
      ],
      "text/plain": [
       "[1] 0"
      ]
     },
     "metadata": {},
     "output_type": "display_data"
    }
   ],
   "source": [
    "length(e)"
   ]
  },
  {
   "cell_type": "code",
   "execution_count": 34,
   "id": "06b93ebb",
   "metadata": {
    "vscode": {
     "languageId": "r"
    }
   },
   "outputs": [
    {
     "data": {
      "text/html": [
       "<style>\n",
       ".list-inline {list-style: none; margin:0; padding: 0}\n",
       ".list-inline>li {display: inline-block}\n",
       ".list-inline>li:not(:last-child)::after {content: \"\\00b7\"; padding: 0 .5ex}\n",
       "</style>\n",
       "<ol class=list-inline><li>&lt;NA&gt;</li><li>&lt;NA&gt;</li><li>17</li></ol>\n"
      ],
      "text/latex": [
       "\\begin{enumerate*}\n",
       "\\item <NA>\n",
       "\\item <NA>\n",
       "\\item 17\n",
       "\\end{enumerate*}\n"
      ],
      "text/markdown": [
       "1. &lt;NA&gt;\n",
       "2. &lt;NA&gt;\n",
       "3. 17\n",
       "\n",
       "\n"
      ],
      "text/plain": [
       "[1] NA NA 17"
      ]
     },
     "metadata": {},
     "output_type": "display_data"
    }
   ],
   "source": [
    "e[3] <- 17\n",
    "e"
   ]
  },
  {
   "cell_type": "code",
   "execution_count": 35,
   "id": "ec186f5b",
   "metadata": {
    "vscode": {
     "languageId": "r"
    }
   },
   "outputs": [
    {
     "data": {
      "text/html": [
       "<style>\n",
       ".list-inline {list-style: none; margin:0; padding: 0}\n",
       ".list-inline>li {display: inline-block}\n",
       ".list-inline>li:not(:last-child)::after {content: \"\\00b7\"; padding: 0 .5ex}\n",
       "</style>\n",
       "<ol class=list-inline><li>1</li><li>2</li><li>3</li><li>4</li><li>5</li><li>6</li><li>7</li><li>8</li><li>9</li><li>10</li></ol>\n"
      ],
      "text/latex": [
       "\\begin{enumerate*}\n",
       "\\item 1\n",
       "\\item 2\n",
       "\\item 3\n",
       "\\item 4\n",
       "\\item 5\n",
       "\\item 6\n",
       "\\item 7\n",
       "\\item 8\n",
       "\\item 9\n",
       "\\item 10\n",
       "\\end{enumerate*}\n"
      ],
      "text/markdown": [
       "1. 1\n",
       "2. 2\n",
       "3. 3\n",
       "4. 4\n",
       "5. 5\n",
       "6. 6\n",
       "7. 7\n",
       "8. 8\n",
       "9. 9\n",
       "10. 10\n",
       "\n",
       "\n"
      ],
      "text/plain": [
       " [1]  1  2  3  4  5  6  7  8  9 10"
      ]
     },
     "metadata": {},
     "output_type": "display_data"
    }
   ],
   "source": [
    "alpha <- 1:10\n",
    "alpha\n"
   ]
  },
  {
   "cell_type": "code",
   "execution_count": 36,
   "id": "7925a108",
   "metadata": {
    "vscode": {
     "languageId": "r"
    }
   },
   "outputs": [
    {
     "data": {
      "text/html": [
       "<style>\n",
       ".list-inline {list-style: none; margin:0; padding: 0}\n",
       ".list-inline>li {display: inline-block}\n",
       ".list-inline>li:not(:last-child)::after {content: \"\\00b7\"; padding: 0 .5ex}\n",
       "</style>\n",
       "<ol class=list-inline><li>2</li><li>4</li><li>6</li><li>8</li><li>10</li></ol>\n"
      ],
      "text/latex": [
       "\\begin{enumerate*}\n",
       "\\item 2\n",
       "\\item 4\n",
       "\\item 6\n",
       "\\item 8\n",
       "\\item 10\n",
       "\\end{enumerate*}\n"
      ],
      "text/markdown": [
       "1. 2\n",
       "2. 4\n",
       "3. 6\n",
       "4. 8\n",
       "5. 10\n",
       "\n",
       "\n"
      ],
      "text/plain": [
       "[1]  2  4  6  8 10"
      ]
     },
     "metadata": {},
     "output_type": "display_data"
    }
   ],
   "source": [
    "# 1:5 creates the sequence: [1, 2, 3, 4, 5]\n",
    "# 2 * 1:5 multiplies each by 2: [2, 4, 6, 8, 10]\n",
    "alpha <- alpha[2 * 1:5]\n",
    "alpha"
   ]
  },
  {
   "cell_type": "code",
   "execution_count": 37,
   "id": "d5b8e83d",
   "metadata": {
    "vscode": {
     "languageId": "r"
    }
   },
   "outputs": [],
   "source": [
    "length(alpha) <- 3"
   ]
  },
  {
   "cell_type": "code",
   "execution_count": 44,
   "id": "322697c8",
   "metadata": {
    "vscode": {
     "languageId": "r"
    }
   },
   "outputs": [
    {
     "data": {
      "text/html": [
       "<style>\n",
       ".list-inline {list-style: none; margin:0; padding: 0}\n",
       ".list-inline>li {display: inline-block}\n",
       ".list-inline>li:not(:last-child)::after {content: \"\\00b7\"; padding: 0 .5ex}\n",
       "</style>\n",
       "<ol class=list-inline><li>2</li><li>4</li><li>6</li></ol>\n"
      ],
      "text/latex": [
       "\\begin{enumerate*}\n",
       "\\item 2\n",
       "\\item 4\n",
       "\\item 6\n",
       "\\end{enumerate*}\n"
      ],
      "text/markdown": [
       "1. 2\n",
       "2. 4\n",
       "3. 6\n",
       "\n",
       "\n"
      ],
      "text/plain": [
       "[1] 2 4 6"
      ]
     },
     "metadata": {},
     "output_type": "display_data"
    }
   ],
   "source": [
    "alpha"
   ]
  },
  {
   "cell_type": "code",
   "execution_count": 38,
   "id": "88dcb894",
   "metadata": {
    "vscode": {
     "languageId": "r"
    }
   },
   "outputs": [
    {
     "data": {
      "text/html": [
       "<style>\n",
       ".list-inline {list-style: none; margin:0; padding: 0}\n",
       ".list-inline>li {display: inline-block}\n",
       ".list-inline>li:not(:last-child)::after {content: \"\\00b7\"; padding: 0 .5ex}\n",
       "</style>\n",
       "<ol class=list-inline><li>1</li><li>2</li><li>3</li><li>4</li><li>5</li><li>6</li><li>7</li><li>8</li><li>9</li><li>10</li><li>11</li><li>12</li><li>13</li><li>14</li><li>15</li><li>16</li><li>17</li><li>18</li><li>19</li><li>20</li><li>21</li><li>22</li><li>23</li><li>24</li><li>25</li><li>26</li><li>27</li><li>28</li><li>29</li><li>30</li><li>31</li><li>32</li><li>33</li><li>34</li><li>35</li><li>36</li><li>37</li><li>38</li><li>39</li><li>40</li><li>41</li><li>42</li><li>43</li><li>44</li><li>45</li><li>46</li><li>47</li><li>48</li><li>49</li><li>50</li><li>51</li><li>52</li><li>53</li><li>54</li><li>55</li><li>56</li><li>57</li><li>58</li><li>59</li><li>60</li><li>61</li><li>62</li><li>63</li><li>64</li><li>65</li><li>66</li><li>67</li><li>68</li><li>69</li><li>70</li><li>71</li><li>72</li><li>73</li><li>74</li><li>75</li><li>76</li><li>77</li><li>78</li><li>79</li><li>80</li><li>81</li><li>82</li><li>83</li><li>84</li><li>85</li><li>86</li><li>87</li><li>88</li><li>89</li><li>90</li><li>91</li><li>92</li><li>93</li><li>94</li><li>95</li><li>96</li><li>97</li><li>98</li><li>99</li><li>100</li></ol>\n"
      ],
      "text/latex": [
       "\\begin{enumerate*}\n",
       "\\item 1\n",
       "\\item 2\n",
       "\\item 3\n",
       "\\item 4\n",
       "\\item 5\n",
       "\\item 6\n",
       "\\item 7\n",
       "\\item 8\n",
       "\\item 9\n",
       "\\item 10\n",
       "\\item 11\n",
       "\\item 12\n",
       "\\item 13\n",
       "\\item 14\n",
       "\\item 15\n",
       "\\item 16\n",
       "\\item 17\n",
       "\\item 18\n",
       "\\item 19\n",
       "\\item 20\n",
       "\\item 21\n",
       "\\item 22\n",
       "\\item 23\n",
       "\\item 24\n",
       "\\item 25\n",
       "\\item 26\n",
       "\\item 27\n",
       "\\item 28\n",
       "\\item 29\n",
       "\\item 30\n",
       "\\item 31\n",
       "\\item 32\n",
       "\\item 33\n",
       "\\item 34\n",
       "\\item 35\n",
       "\\item 36\n",
       "\\item 37\n",
       "\\item 38\n",
       "\\item 39\n",
       "\\item 40\n",
       "\\item 41\n",
       "\\item 42\n",
       "\\item 43\n",
       "\\item 44\n",
       "\\item 45\n",
       "\\item 46\n",
       "\\item 47\n",
       "\\item 48\n",
       "\\item 49\n",
       "\\item 50\n",
       "\\item 51\n",
       "\\item 52\n",
       "\\item 53\n",
       "\\item 54\n",
       "\\item 55\n",
       "\\item 56\n",
       "\\item 57\n",
       "\\item 58\n",
       "\\item 59\n",
       "\\item 60\n",
       "\\item 61\n",
       "\\item 62\n",
       "\\item 63\n",
       "\\item 64\n",
       "\\item 65\n",
       "\\item 66\n",
       "\\item 67\n",
       "\\item 68\n",
       "\\item 69\n",
       "\\item 70\n",
       "\\item 71\n",
       "\\item 72\n",
       "\\item 73\n",
       "\\item 74\n",
       "\\item 75\n",
       "\\item 76\n",
       "\\item 77\n",
       "\\item 78\n",
       "\\item 79\n",
       "\\item 80\n",
       "\\item 81\n",
       "\\item 82\n",
       "\\item 83\n",
       "\\item 84\n",
       "\\item 85\n",
       "\\item 86\n",
       "\\item 87\n",
       "\\item 88\n",
       "\\item 89\n",
       "\\item 90\n",
       "\\item 91\n",
       "\\item 92\n",
       "\\item 93\n",
       "\\item 94\n",
       "\\item 95\n",
       "\\item 96\n",
       "\\item 97\n",
       "\\item 98\n",
       "\\item 99\n",
       "\\item 100\n",
       "\\end{enumerate*}\n"
      ],
      "text/markdown": [
       "1. 1\n",
       "2. 2\n",
       "3. 3\n",
       "4. 4\n",
       "5. 5\n",
       "6. 6\n",
       "7. 7\n",
       "8. 8\n",
       "9. 9\n",
       "10. 10\n",
       "11. 11\n",
       "12. 12\n",
       "13. 13\n",
       "14. 14\n",
       "15. 15\n",
       "16. 16\n",
       "17. 17\n",
       "18. 18\n",
       "19. 19\n",
       "20. 20\n",
       "21. 21\n",
       "22. 22\n",
       "23. 23\n",
       "24. 24\n",
       "25. 25\n",
       "26. 26\n",
       "27. 27\n",
       "28. 28\n",
       "29. 29\n",
       "30. 30\n",
       "31. 31\n",
       "32. 32\n",
       "33. 33\n",
       "34. 34\n",
       "35. 35\n",
       "36. 36\n",
       "37. 37\n",
       "38. 38\n",
       "39. 39\n",
       "40. 40\n",
       "41. 41\n",
       "42. 42\n",
       "43. 43\n",
       "44. 44\n",
       "45. 45\n",
       "46. 46\n",
       "47. 47\n",
       "48. 48\n",
       "49. 49\n",
       "50. 50\n",
       "51. 51\n",
       "52. 52\n",
       "53. 53\n",
       "54. 54\n",
       "55. 55\n",
       "56. 56\n",
       "57. 57\n",
       "58. 58\n",
       "59. 59\n",
       "60. 60\n",
       "61. 61\n",
       "62. 62\n",
       "63. 63\n",
       "64. 64\n",
       "65. 65\n",
       "66. 66\n",
       "67. 67\n",
       "68. 68\n",
       "69. 69\n",
       "70. 70\n",
       "71. 71\n",
       "72. 72\n",
       "73. 73\n",
       "74. 74\n",
       "75. 75\n",
       "76. 76\n",
       "77. 77\n",
       "78. 78\n",
       "79. 79\n",
       "80. 80\n",
       "81. 81\n",
       "82. 82\n",
       "83. 83\n",
       "84. 84\n",
       "85. 85\n",
       "86. 86\n",
       "87. 87\n",
       "88. 88\n",
       "89. 89\n",
       "90. 90\n",
       "91. 91\n",
       "92. 92\n",
       "93. 93\n",
       "94. 94\n",
       "95. 95\n",
       "96. 96\n",
       "97. 97\n",
       "98. 98\n",
       "99. 99\n",
       "100. 100\n",
       "\n",
       "\n"
      ],
      "text/plain": [
       "  [1]   1   2   3   4   5   6   7   8   9  10  11  12  13  14  15  16  17  18\n",
       " [19]  19  20  21  22  23  24  25  26  27  28  29  30  31  32  33  34  35  36\n",
       " [37]  37  38  39  40  41  42  43  44  45  46  47  48  49  50  51  52  53  54\n",
       " [55]  55  56  57  58  59  60  61  62  63  64  65  66  67  68  69  70  71  72\n",
       " [73]  73  74  75  76  77  78  79  80  81  82  83  84  85  86  87  88  89  90\n",
       " [91]  91  92  93  94  95  96  97  98  99 100"
      ]
     },
     "metadata": {},
     "output_type": "display_data"
    }
   ],
   "source": [
    "z <- 1:100\n",
    "z"
   ]
  },
  {
   "cell_type": "code",
   "execution_count": null,
   "id": "7d09b29a",
   "metadata": {
    "vscode": {
     "languageId": "r"
    }
   },
   "outputs": [],
   "source": [
    "attr(z, \"dim\") <- c(10, 10)"
   ]
  },
  {
   "cell_type": "code",
   "execution_count": 40,
   "id": "4628abae",
   "metadata": {
    "vscode": {
     "languageId": "r"
    }
   },
   "outputs": [
    {
     "data": {
      "text/html": [
       "<table class=\"dataframe\">\n",
       "<caption>A matrix: 10 × 10 of type int</caption>\n",
       "<tbody>\n",
       "\t<tr><td> 1</td><td>11</td><td>21</td><td>31</td><td>41</td><td>51</td><td>61</td><td>71</td><td>81</td><td> 91</td></tr>\n",
       "\t<tr><td> 2</td><td>12</td><td>22</td><td>32</td><td>42</td><td>52</td><td>62</td><td>72</td><td>82</td><td> 92</td></tr>\n",
       "\t<tr><td> 3</td><td>13</td><td>23</td><td>33</td><td>43</td><td>53</td><td>63</td><td>73</td><td>83</td><td> 93</td></tr>\n",
       "\t<tr><td> 4</td><td>14</td><td>24</td><td>34</td><td>44</td><td>54</td><td>64</td><td>74</td><td>84</td><td> 94</td></tr>\n",
       "\t<tr><td> 5</td><td>15</td><td>25</td><td>35</td><td>45</td><td>55</td><td>65</td><td>75</td><td>85</td><td> 95</td></tr>\n",
       "\t<tr><td> 6</td><td>16</td><td>26</td><td>36</td><td>46</td><td>56</td><td>66</td><td>76</td><td>86</td><td> 96</td></tr>\n",
       "\t<tr><td> 7</td><td>17</td><td>27</td><td>37</td><td>47</td><td>57</td><td>67</td><td>77</td><td>87</td><td> 97</td></tr>\n",
       "\t<tr><td> 8</td><td>18</td><td>28</td><td>38</td><td>48</td><td>58</td><td>68</td><td>78</td><td>88</td><td> 98</td></tr>\n",
       "\t<tr><td> 9</td><td>19</td><td>29</td><td>39</td><td>49</td><td>59</td><td>69</td><td>79</td><td>89</td><td> 99</td></tr>\n",
       "\t<tr><td>10</td><td>20</td><td>30</td><td>40</td><td>50</td><td>60</td><td>70</td><td>80</td><td>90</td><td>100</td></tr>\n",
       "</tbody>\n",
       "</table>\n"
      ],
      "text/latex": [
       "A matrix: 10 × 10 of type int\n",
       "\\begin{tabular}{llllllllll}\n",
       "\t  1 & 11 & 21 & 31 & 41 & 51 & 61 & 71 & 81 &  91\\\\\n",
       "\t  2 & 12 & 22 & 32 & 42 & 52 & 62 & 72 & 82 &  92\\\\\n",
       "\t  3 & 13 & 23 & 33 & 43 & 53 & 63 & 73 & 83 &  93\\\\\n",
       "\t  4 & 14 & 24 & 34 & 44 & 54 & 64 & 74 & 84 &  94\\\\\n",
       "\t  5 & 15 & 25 & 35 & 45 & 55 & 65 & 75 & 85 &  95\\\\\n",
       "\t  6 & 16 & 26 & 36 & 46 & 56 & 66 & 76 & 86 &  96\\\\\n",
       "\t  7 & 17 & 27 & 37 & 47 & 57 & 67 & 77 & 87 &  97\\\\\n",
       "\t  8 & 18 & 28 & 38 & 48 & 58 & 68 & 78 & 88 &  98\\\\\n",
       "\t  9 & 19 & 29 & 39 & 49 & 59 & 69 & 79 & 89 &  99\\\\\n",
       "\t 10 & 20 & 30 & 40 & 50 & 60 & 70 & 80 & 90 & 100\\\\\n",
       "\\end{tabular}\n"
      ],
      "text/markdown": [
       "\n",
       "A matrix: 10 × 10 of type int\n",
       "\n",
       "|  1 | 11 | 21 | 31 | 41 | 51 | 61 | 71 | 81 |  91 |\n",
       "|  2 | 12 | 22 | 32 | 42 | 52 | 62 | 72 | 82 |  92 |\n",
       "|  3 | 13 | 23 | 33 | 43 | 53 | 63 | 73 | 83 |  93 |\n",
       "|  4 | 14 | 24 | 34 | 44 | 54 | 64 | 74 | 84 |  94 |\n",
       "|  5 | 15 | 25 | 35 | 45 | 55 | 65 | 75 | 85 |  95 |\n",
       "|  6 | 16 | 26 | 36 | 46 | 56 | 66 | 76 | 86 |  96 |\n",
       "|  7 | 17 | 27 | 37 | 47 | 57 | 67 | 77 | 87 |  97 |\n",
       "|  8 | 18 | 28 | 38 | 48 | 58 | 68 | 78 | 88 |  98 |\n",
       "|  9 | 19 | 29 | 39 | 49 | 59 | 69 | 79 | 89 |  99 |\n",
       "| 10 | 20 | 30 | 40 | 50 | 60 | 70 | 80 | 90 | 100 |\n",
       "\n"
      ],
      "text/plain": [
       "      [,1] [,2] [,3] [,4] [,5] [,6] [,7] [,8] [,9] [,10]\n",
       " [1,]  1   11   21   31   41   51   61   71   81    91  \n",
       " [2,]  2   12   22   32   42   52   62   72   82    92  \n",
       " [3,]  3   13   23   33   43   53   63   73   83    93  \n",
       " [4,]  4   14   24   34   44   54   64   74   84    94  \n",
       " [5,]  5   15   25   35   45   55   65   75   85    95  \n",
       " [6,]  6   16   26   36   46   56   66   76   86    96  \n",
       " [7,]  7   17   27   37   47   57   67   77   87    97  \n",
       " [8,]  8   18   28   38   48   58   68   78   88    98  \n",
       " [9,]  9   19   29   39   49   59   69   79   89    99  \n",
       "[10,] 10   20   30   40   50   60   70   80   90   100  "
      ]
     },
     "metadata": {},
     "output_type": "display_data"
    }
   ],
   "source": [
    "z"
   ]
  },
  {
   "cell_type": "code",
   "execution_count": null,
   "id": "176fc5a4",
   "metadata": {
    "vscode": {
     "languageId": "r"
    }
   },
   "outputs": [
    {
     "data": {
      "text/html": [
       "<table class=\"dataframe\">\n",
       "<caption>A matrix: 2 × 8 of type int</caption>\n",
       "<tbody>\n",
       "\t<tr><td>1</td><td>3</td><td>5</td><td>7</td><td> 9</td><td>11</td><td>13</td><td>15</td></tr>\n",
       "\t<tr><td>2</td><td>4</td><td>6</td><td>8</td><td>10</td><td>12</td><td>14</td><td>16</td></tr>\n",
       "</tbody>\n",
       "</table>\n"
      ],
      "text/latex": [
       "A matrix: 2 × 8 of type int\n",
       "\\begin{tabular}{llllllll}\n",
       "\t 1 & 3 & 5 & 7 &  9 & 11 & 13 & 15\\\\\n",
       "\t 2 & 4 & 6 & 8 & 10 & 12 & 14 & 16\\\\\n",
       "\\end{tabular}\n"
      ],
      "text/markdown": [
       "\n",
       "A matrix: 2 × 8 of type int\n",
       "\n",
       "| 1 | 3 | 5 | 7 |  9 | 11 | 13 | 15 |\n",
       "| 2 | 4 | 6 | 8 | 10 | 12 | 14 | 16 |\n",
       "\n"
      ],
      "text/plain": [
       "     [,1] [,2] [,3] [,4] [,5] [,6] [,7] [,8]\n",
       "[1,] 1    3    5    7     9   11   13   15  \n",
       "[2,] 2    4    6    8    10   12   14   16  "
      ]
     },
     "metadata": {},
     "output_type": "display_data"
    }
   ],
   "source": [
    "z <- 1:16\n",
    "attr(z, \"dim\") <- c(2, 8)\n",
    "z"
   ]
  },
  {
   "cell_type": "code",
   "execution_count": 42,
   "id": "d899f64d",
   "metadata": {
    "vscode": {
     "languageId": "r"
    }
   },
   "outputs": [
    {
     "data": {
      "text/html": [
       "<table class=\"dataframe\">\n",
       "<caption>A matrix: 4 × 4 of type int</caption>\n",
       "<tbody>\n",
       "\t<tr><td>1</td><td>5</td><td> 9</td><td>13</td></tr>\n",
       "\t<tr><td>2</td><td>6</td><td>10</td><td>14</td></tr>\n",
       "\t<tr><td>3</td><td>7</td><td>11</td><td>15</td></tr>\n",
       "\t<tr><td>4</td><td>8</td><td>12</td><td>16</td></tr>\n",
       "</tbody>\n",
       "</table>\n"
      ],
      "text/latex": [
       "A matrix: 4 × 4 of type int\n",
       "\\begin{tabular}{llll}\n",
       "\t 1 & 5 &  9 & 13\\\\\n",
       "\t 2 & 6 & 10 & 14\\\\\n",
       "\t 3 & 7 & 11 & 15\\\\\n",
       "\t 4 & 8 & 12 & 16\\\\\n",
       "\\end{tabular}\n"
      ],
      "text/markdown": [
       "\n",
       "A matrix: 4 × 4 of type int\n",
       "\n",
       "| 1 | 5 |  9 | 13 |\n",
       "| 2 | 6 | 10 | 14 |\n",
       "| 3 | 7 | 11 | 15 |\n",
       "| 4 | 8 | 12 | 16 |\n",
       "\n"
      ],
      "text/plain": [
       "     [,1] [,2] [,3] [,4]\n",
       "[1,] 1    5     9   13  \n",
       "[2,] 2    6    10   14  \n",
       "[3,] 3    7    11   15  \n",
       "[4,] 4    8    12   16  "
      ]
     },
     "metadata": {},
     "output_type": "display_data"
    }
   ],
   "source": [
    "z <- 1:16\n",
    "attr(z, \"dim\") <- c(4, 4)\n",
    "z\n"
   ]
  },
  {
   "cell_type": "code",
   "execution_count": 43,
   "id": "38b90e51",
   "metadata": {
    "vscode": {
     "languageId": "r"
    }
   },
   "outputs": [
    {
     "name": "stdout",
     "output_type": "stream",
     "text": [
      "=== Example 1: Simple Vector ===\n",
      "Class: numeric \n",
      "Mode: numeric \n",
      "[1] 1 2 3 4 5\n"
     ]
    }
   ],
   "source": [
    "cat(\"=== Example 1: Simple Vector ===\\n\")\n",
    "numbers <- c(1, 2, 3, 4, 5)\n",
    "cat(\"Class:\", class(numbers), \"\\n\")\n",
    "cat(\"Mode:\", mode(numbers), \"\\n\")\n",
    "print(numbers)"
   ]
  },
  {
   "cell_type": "code",
   "execution_count": 44,
   "id": "27f83ec6",
   "metadata": {
    "vscode": {
     "languageId": "r"
    }
   },
   "outputs": [
    {
     "name": "stdout",
     "output_type": "stream",
     "text": [
      "\n",
      "=== Example 2: Matrix ===\n",
      "Class: matrix array \n",
      "Mode: numeric \n",
      "     [,1] [,2] [,3] [,4]\n",
      "[1,]    1    4    7   10\n",
      "[2,]    2    5    8   11\n",
      "[3,]    3    6    9   12\n"
     ]
    }
   ],
   "source": [
    "cat(\"\\n=== Example 2: Matrix ===\\n\")\n",
    "mat <- matrix(1:12, nrow=3, ncol=4)\n",
    "cat(\"Class:\", class(mat), \"\\n\")\n",
    "cat(\"Mode:\", mode(mat), \"\\n\")\n",
    "print(mat)"
   ]
  },
  {
   "cell_type": "code",
   "execution_count": 45,
   "id": "ed1b48be",
   "metadata": {
    "vscode": {
     "languageId": "r"
    }
   },
   "outputs": [
    {
     "name": "stdout",
     "output_type": "stream",
     "text": [
      "\n",
      "=== Example 3: Data Frame ===\n"
     ]
    },
    {
     "name": "stdout",
     "output_type": "stream",
     "text": [
      "Class: data.frame \n",
      "Mode: list \n",
      "\n",
      "--- Normal data.frame printing ---\n",
      "  month temp  snow\n",
      "1   Dec   -2  TRUE\n",
      "2   Jan   -5  TRUE\n",
      "3   Feb   -1 FALSE\n"
     ]
    }
   ],
   "source": [
    "cat(\"\\n=== Example 3: Data Frame ===\\n\")\n",
    "# Create a data frame (like 'winter' in the example)\n",
    "winter <- data.frame(\n",
    "  month = c(\"Dec\", \"Jan\", \"Feb\"),\n",
    "  temp = c(-2, -5, -1),\n",
    "  snow = c(TRUE, TRUE, FALSE)\n",
    ")\n",
    "cat(\"Class:\", class(winter), \"\\n\")\n",
    "cat(\"Mode:\", mode(winter), \"\\n\")\n",
    "cat(\"\\n--- Normal data.frame printing ---\\n\")\n",
    "print(winter)"
   ]
  },
  {
   "cell_type": "code",
   "execution_count": 46,
   "id": "0a954965",
   "metadata": {
    "vscode": {
     "languageId": "r"
    }
   },
   "outputs": [
    {
     "data": {
      "text/html": [
       "TRUE"
      ],
      "text/latex": [
       "TRUE"
      ],
      "text/markdown": [
       "TRUE"
      ],
      "text/plain": [
       "[1] TRUE"
      ]
     },
     "metadata": {},
     "output_type": "display_data"
    }
   ],
   "source": [
    "is.list(winter)"
   ]
  },
  {
   "cell_type": "code",
   "execution_count": 47,
   "id": "fa9ce421",
   "metadata": {
    "vscode": {
     "languageId": "r"
    }
   },
   "outputs": [
    {
     "data": {
      "text/html": [
       "<dl>\n",
       "\t<dt>$names</dt>\n",
       "\t\t<dd><style>\n",
       ".list-inline {list-style: none; margin:0; padding: 0}\n",
       ".list-inline>li {display: inline-block}\n",
       ".list-inline>li:not(:last-child)::after {content: \"\\00b7\"; padding: 0 .5ex}\n",
       "</style>\n",
       "<ol class=list-inline><li>'month'</li><li>'temp'</li><li>'snow'</li></ol>\n",
       "</dd>\n",
       "\t<dt>$class</dt>\n",
       "\t\t<dd>'data.frame'</dd>\n",
       "\t<dt>$row.names</dt>\n",
       "\t\t<dd><style>\n",
       ".list-inline {list-style: none; margin:0; padding: 0}\n",
       ".list-inline>li {display: inline-block}\n",
       ".list-inline>li:not(:last-child)::after {content: \"\\00b7\"; padding: 0 .5ex}\n",
       "</style>\n",
       "<ol class=list-inline><li>1</li><li>2</li><li>3</li></ol>\n",
       "</dd>\n",
       "</dl>\n"
      ],
      "text/latex": [
       "\\begin{description}\n",
       "\\item[\\$names] \\begin{enumerate*}\n",
       "\\item 'month'\n",
       "\\item 'temp'\n",
       "\\item 'snow'\n",
       "\\end{enumerate*}\n",
       "\n",
       "\\item[\\$class] 'data.frame'\n",
       "\\item[\\$row.names] \\begin{enumerate*}\n",
       "\\item 1\n",
       "\\item 2\n",
       "\\item 3\n",
       "\\end{enumerate*}\n",
       "\n",
       "\\end{description}\n"
      ],
      "text/markdown": [
       "$names\n",
       ":   1. 'month'\n",
       "2. 'temp'\n",
       "3. 'snow'\n",
       "\n",
       "\n",
       "\n",
       "$class\n",
       ":   'data.frame'\n",
       "$row.names\n",
       ":   1. 1\n",
       "2. 2\n",
       "3. 3\n",
       "\n",
       "\n",
       "\n",
       "\n",
       "\n"
      ],
      "text/plain": [
       "$names\n",
       "[1] \"month\" \"temp\"  \"snow\" \n",
       "\n",
       "$class\n",
       "[1] \"data.frame\"\n",
       "\n",
       "$row.names\n",
       "[1] 1 2 3\n"
      ]
     },
     "metadata": {},
     "output_type": "display_data"
    }
   ],
   "source": [
    "attributes(winter)"
   ]
  },
  {
   "cell_type": "code",
   "execution_count": 48,
   "id": "276401a2",
   "metadata": {
    "vscode": {
     "languageId": "r"
    }
   },
   "outputs": [
    {
     "name": "stdout",
     "output_type": "stream",
     "text": [
      "\n",
      "--- Using unclass() ---\n",
      "$month\n",
      "[1] \"Dec\" \"Jan\" \"Feb\"\n",
      "\n",
      "$temp\n",
      "[1] -2 -5 -1\n",
      "\n",
      "$snow\n",
      "[1]  TRUE  TRUE FALSE\n",
      "\n",
      "attr(,\"row.names\")\n",
      "[1] 1 2 3\n"
     ]
    }
   ],
   "source": [
    "cat(\"\\n--- Using unclass() ---\\n\")\n",
    "print(unclass(winter))"
   ]
  },
  {
   "cell_type": "code",
   "execution_count": 49,
   "id": "4e3f1e68",
   "metadata": {
    "vscode": {
     "languageId": "r"
    }
   },
   "outputs": [
    {
     "data": {
      "text/html": [
       "<style>\n",
       ".list-inline {list-style: none; margin:0; padding: 0}\n",
       ".list-inline>li {display: inline-block}\n",
       ".list-inline>li:not(:last-child)::after {content: \"\\00b7\"; padding: 0 .5ex}\n",
       "</style>\n",
       "<ol class=list-inline><li>1</li><li>2</li><li>1</li><li>3</li></ol>\n"
      ],
      "text/latex": [
       "\\begin{enumerate*}\n",
       "\\item 1\n",
       "\\item 2\n",
       "\\item 1\n",
       "\\item 3\n",
       "\\end{enumerate*}\n"
      ],
      "text/markdown": [
       "1. 1\n",
       "2. 2\n",
       "3. 1\n",
       "4. 3\n",
       "\n",
       "\n"
      ],
      "text/plain": [
       "[1] 1 2 1 3\n",
       "attr(,\"levels\")\n",
       "[1] \"A\" \"B\" \"C\""
      ]
     },
     "metadata": {},
     "output_type": "display_data"
    }
   ],
   "source": [
    "# See what a factor really is\n",
    "my_factor <- factor(c(\"A\", \"B\", \"A\", \"C\"))\n",
    "unclass(my_factor)  # Shows integer codes with levels attribute"
   ]
  },
  {
   "cell_type": "code",
   "execution_count": 50,
   "id": "95c2f0be",
   "metadata": {
    "vscode": {
     "languageId": "r"
    }
   },
   "outputs": [
    {
     "data": {
      "text/html": [
       "20344"
      ],
      "text/latex": [
       "20344"
      ],
      "text/markdown": [
       "20344"
      ],
      "text/plain": [
       "[1] 20344"
      ]
     },
     "metadata": {},
     "output_type": "display_data"
    }
   ],
   "source": [
    "today <- Sys.Date()\n",
    "unclass(today)  # Shows days since 1970-01-01"
   ]
  },
  {
   "cell_type": "code",
   "execution_count": 51,
   "id": "e2d98142",
   "metadata": {
    "vscode": {
     "languageId": "r"
    }
   },
   "outputs": [
    {
     "data": {
      "text/html": [
       "<table class=\"dataframe\">\n",
       "<caption>A matrix: 2 × 3 of type int</caption>\n",
       "<tbody>\n",
       "\t<tr><td>1</td><td>3</td><td>5</td></tr>\n",
       "\t<tr><td>2</td><td>4</td><td>6</td></tr>\n",
       "</tbody>\n",
       "</table>\n"
      ],
      "text/latex": [
       "A matrix: 2 × 3 of type int\n",
       "\\begin{tabular}{lll}\n",
       "\t 1 & 3 & 5\\\\\n",
       "\t 2 & 4 & 6\\\\\n",
       "\\end{tabular}\n"
      ],
      "text/markdown": [
       "\n",
       "A matrix: 2 × 3 of type int\n",
       "\n",
       "| 1 | 3 | 5 |\n",
       "| 2 | 4 | 6 |\n",
       "\n"
      ],
      "text/plain": [
       "     [,1] [,2] [,3]\n",
       "[1,] 1    3    5   \n",
       "[2,] 2    4    6   "
      ]
     },
     "metadata": {},
     "output_type": "display_data"
    }
   ],
   "source": [
    "my_matrix <- matrix(1:6, nrow=2)\n",
    "unclass(my_matrix)  # Shows it's a vector with dim attribute"
   ]
  },
  {
   "cell_type": "code",
   "execution_count": 52,
   "id": "ca6af454",
   "metadata": {
    "vscode": {
     "languageId": "r"
    }
   },
   "outputs": [
    {
     "name": "stdout",
     "output_type": "stream",
     "text": [
      "\n",
      "=== Example 4: Factor ===\n",
      "Class: factor \n",
      "Mode: numeric \n",
      "\n",
      "--- Normal factor printing ---\n",
      "[1] Winter Spring Summer Winter\n",
      "Levels: Spring Summer Winter\n"
     ]
    }
   ],
   "source": [
    "# A factor is really just an integer vector under the hood.\n",
    "# Each unique category is assigned a number (1, 2, 3, …).\n",
    "# Then, a levels attribute is added to map those integers back to their labels (strings).\n",
    "# Levels are: \"Spring\", \"Summer\", \"Winter\".\n",
    "# Internally, \"Winter\" = 3, \"Spring\" = 1, \"Summer\" = 2.\n",
    "cat(\"\\n=== Example 4: Factor ===\\n\")\n",
    "seasons <- factor(c(\"Winter\", \"Spring\", \"Summer\", \"Winter\"))\n",
    "cat(\"Class:\", class(seasons), \"\\n\")\n",
    "cat(\"Mode:\", mode(seasons), \"\\n\")\n",
    "cat(\"\\n--- Normal factor printing ---\\n\")\n",
    "print(seasons)"
   ]
  },
  {
   "cell_type": "code",
   "execution_count": 53,
   "id": "6ab1578f",
   "metadata": {
    "vscode": {
     "languageId": "r"
    }
   },
   "outputs": [
    {
     "data": {
      "text/html": [
       "<dl>\n",
       "\t<dt>$levels</dt>\n",
       "\t\t<dd><style>\n",
       ".list-inline {list-style: none; margin:0; padding: 0}\n",
       ".list-inline>li {display: inline-block}\n",
       ".list-inline>li:not(:last-child)::after {content: \"\\00b7\"; padding: 0 .5ex}\n",
       "</style>\n",
       "<ol class=list-inline><li>'Spring'</li><li>'Summer'</li><li>'Winter'</li></ol>\n",
       "</dd>\n",
       "\t<dt>$class</dt>\n",
       "\t\t<dd>'factor'</dd>\n",
       "</dl>\n"
      ],
      "text/latex": [
       "\\begin{description}\n",
       "\\item[\\$levels] \\begin{enumerate*}\n",
       "\\item 'Spring'\n",
       "\\item 'Summer'\n",
       "\\item 'Winter'\n",
       "\\end{enumerate*}\n",
       "\n",
       "\\item[\\$class] 'factor'\n",
       "\\end{description}\n"
      ],
      "text/markdown": [
       "$levels\n",
       ":   1. 'Spring'\n",
       "2. 'Summer'\n",
       "3. 'Winter'\n",
       "\n",
       "\n",
       "\n",
       "$class\n",
       ":   'factor'\n",
       "\n",
       "\n"
      ],
      "text/plain": [
       "$levels\n",
       "[1] \"Spring\" \"Summer\" \"Winter\"\n",
       "\n",
       "$class\n",
       "[1] \"factor\"\n"
      ]
     },
     "metadata": {},
     "output_type": "display_data"
    }
   ],
   "source": [
    "attributes(seasons)"
   ]
  },
  {
   "cell_type": "code",
   "execution_count": 54,
   "id": "1e152e82",
   "metadata": {
    "vscode": {
     "languageId": "r"
    }
   },
   "outputs": [
    {
     "name": "stdout",
     "output_type": "stream",
     "text": [
      "\n",
      "--- Using unclass() ---\n",
      "[1] 3 1 2 3\n",
      "attr(,\"levels\")\n",
      "[1] \"Spring\" \"Summer\" \"Winter\"\n"
     ]
    }
   ],
   "source": [
    "cat(\"\\n--- Using unclass() ---\\n\")\n",
    "print(unclass(seasons))"
   ]
  },
  {
   "cell_type": "code",
   "execution_count": 55,
   "id": "fce7c84c",
   "metadata": {
    "vscode": {
     "languageId": "r"
    }
   },
   "outputs": [
    {
     "name": "stdout",
     "output_type": "stream",
     "text": [
      "\n",
      "=== Example 5: Generic Functions Behavior ===\n",
      "--- summary() on data.frame ---\n"
     ]
    },
    {
     "name": "stdout",
     "output_type": "stream",
     "text": [
      "    month                temp           snow        \n",
      " Length:3           Min.   :-5.000   Mode :logical  \n",
      " Class :character   1st Qu.:-3.500   FALSE:1        \n",
      " Mode  :character   Median :-2.000   TRUE :2        \n",
      "                    Mean   :-2.667                  \n",
      "                    3rd Qu.:-1.500                  \n",
      "                    Max.   :-1.000                  \n"
     ]
    }
   ],
   "source": [
    "\n",
    "cat(\"\\n=== Example 5: Generic Functions Behavior ===\\n\")\n",
    "cat(\"--- summary() on data.frame ---\\n\")\n",
    "print(summary(winter))"
   ]
  },
  {
   "cell_type": "code",
   "execution_count": 57,
   "id": "e520e4f3",
   "metadata": {
    "vscode": {
     "languageId": "r"
    }
   },
   "outputs": [
    {
     "data": {
      "text/html": [
       "<style>\n",
       ".list-inline {list-style: none; margin:0; padding: 0}\n",
       ".list-inline>li {display: inline-block}\n",
       ".list-inline>li:not(:last-child)::after {content: \"\\00b7\"; padding: 0 .5ex}\n",
       "</style>\n",
       "<ol class=list-inline><li>1</li><li>2</li><li>3</li><li>4</li><li>5</li></ol>\n"
      ],
      "text/latex": [
       "\\begin{enumerate*}\n",
       "\\item 1\n",
       "\\item 2\n",
       "\\item 3\n",
       "\\item 4\n",
       "\\item 5\n",
       "\\end{enumerate*}\n"
      ],
      "text/markdown": [
       "1. 1\n",
       "2. 2\n",
       "3. 3\n",
       "4. 4\n",
       "5. 5\n",
       "\n",
       "\n"
      ],
      "text/plain": [
       "[1] 1 2 3 4 5"
      ]
     },
     "metadata": {},
     "output_type": "display_data"
    }
   ],
   "source": [
    "numbers"
   ]
  },
  {
   "cell_type": "code",
   "execution_count": null,
   "id": "d8876af9",
   "metadata": {
    "vscode": {
     "languageId": "r"
    }
   },
   "outputs": [
    {
     "name": "stdout",
     "output_type": "stream",
     "text": [
      "\n",
      "--- summary() on numeric vector ---\n",
      "   Min. 1st Qu.  Median    Mean 3rd Qu.    Max. \n",
      "      1       2       3       3       4       5 \n",
      "\n",
      "--- plot() behavior depends on class ---\n",
      "plot(numbers) creates a simple plot\n",
      "plot(winter) would create multiple plots for each column\n"
     ]
    }
   ],
   "source": [
    "cat(\"\\n--- summary() on numeric vector ---\\n\")\n",
    "print(summary(numbers))\n",
    "\n",
    "cat(\"\\n--- plot() behavior depends on class ---\\n\")\n",
    "cat(\"plot(numbers) creates a simple plot\\n\")\n",
    "cat(\"plot(winter) would create multiple plots for each column\\n\")\n"
   ]
  },
  {
   "cell_type": "code",
   "execution_count": 58,
   "id": "2c8c75f0",
   "metadata": {
    "vscode": {
     "languageId": "r"
    }
   },
   "outputs": [
    {
     "data": {
      "text/html": [
       "<style>\n",
       ".list-inline {list-style: none; margin:0; padding: 0}\n",
       ".list-inline>li {display: inline-block}\n",
       ".list-inline>li:not(:last-child)::after {content: \"\\00b7\"; padding: 0 .5ex}\n",
       "</style>\n",
       "<ol class=list-inline><li>'tas'</li><li>'sa'</li><li>'qld'</li><li>'nsw'</li><li>'nsw'</li><li>'nt'</li><li>'wa'</li><li>'wa'</li><li>'qld'</li><li>'vic'</li><li>'nsw'</li><li>'vic'</li><li>'qld'</li><li>'qld'</li><li>'sa'</li><li>'tas'</li><li>'sa'</li><li>'nt'</li><li>'wa'</li><li>'vic'</li><li>'qld'</li><li>'nsw'</li><li>'nsw'</li><li>'wa'</li><li>'sa'</li><li>'act'</li><li>'nsw'</li><li>'vic'</li><li>'vic'</li><li>'act'</li></ol>\n"
      ],
      "text/latex": [
       "\\begin{enumerate*}\n",
       "\\item 'tas'\n",
       "\\item 'sa'\n",
       "\\item 'qld'\n",
       "\\item 'nsw'\n",
       "\\item 'nsw'\n",
       "\\item 'nt'\n",
       "\\item 'wa'\n",
       "\\item 'wa'\n",
       "\\item 'qld'\n",
       "\\item 'vic'\n",
       "\\item 'nsw'\n",
       "\\item 'vic'\n",
       "\\item 'qld'\n",
       "\\item 'qld'\n",
       "\\item 'sa'\n",
       "\\item 'tas'\n",
       "\\item 'sa'\n",
       "\\item 'nt'\n",
       "\\item 'wa'\n",
       "\\item 'vic'\n",
       "\\item 'qld'\n",
       "\\item 'nsw'\n",
       "\\item 'nsw'\n",
       "\\item 'wa'\n",
       "\\item 'sa'\n",
       "\\item 'act'\n",
       "\\item 'nsw'\n",
       "\\item 'vic'\n",
       "\\item 'vic'\n",
       "\\item 'act'\n",
       "\\end{enumerate*}\n"
      ],
      "text/markdown": [
       "1. 'tas'\n",
       "2. 'sa'\n",
       "3. 'qld'\n",
       "4. 'nsw'\n",
       "5. 'nsw'\n",
       "6. 'nt'\n",
       "7. 'wa'\n",
       "8. 'wa'\n",
       "9. 'qld'\n",
       "10. 'vic'\n",
       "11. 'nsw'\n",
       "12. 'vic'\n",
       "13. 'qld'\n",
       "14. 'qld'\n",
       "15. 'sa'\n",
       "16. 'tas'\n",
       "17. 'sa'\n",
       "18. 'nt'\n",
       "19. 'wa'\n",
       "20. 'vic'\n",
       "21. 'qld'\n",
       "22. 'nsw'\n",
       "23. 'nsw'\n",
       "24. 'wa'\n",
       "25. 'sa'\n",
       "26. 'act'\n",
       "27. 'nsw'\n",
       "28. 'vic'\n",
       "29. 'vic'\n",
       "30. 'act'\n",
       "\n",
       "\n"
      ],
      "text/plain": [
       " [1] \"tas\" \"sa\"  \"qld\" \"nsw\" \"nsw\" \"nt\"  \"wa\"  \"wa\"  \"qld\" \"vic\" \"nsw\" \"vic\"\n",
       "[13] \"qld\" \"qld\" \"sa\"  \"tas\" \"sa\"  \"nt\"  \"wa\"  \"vic\" \"qld\" \"nsw\" \"nsw\" \"wa\" \n",
       "[25] \"sa\"  \"act\" \"nsw\" \"vic\" \"vic\" \"act\""
      ]
     },
     "metadata": {},
     "output_type": "display_data"
    }
   ],
   "source": [
    "state <- c(\n",
    "    \"tas\", \"sa\", \"qld\", \"nsw\", \"nsw\", \"nt\", \"wa\", \"wa\",\n",
    "    \"qld\", \"vic\", \"nsw\", \"vic\", \"qld\", \"qld\", \"sa\", \"tas\",\n",
    "    \"sa\", \"nt\", \"wa\", \"vic\", \"qld\", \"nsw\", \"nsw\", \"wa\",\n",
    "    \"sa\", \"act\", \"nsw\", \"vic\", \"vic\", \"act\"\n",
    ")\n",
    "state\n"
   ]
  },
  {
   "cell_type": "code",
   "execution_count": 59,
   "id": "c54c5bfe",
   "metadata": {
    "vscode": {
     "languageId": "r"
    }
   },
   "outputs": [
    {
     "data": {
      "text/plain": [
       "NULL"
      ]
     },
     "metadata": {},
     "output_type": "display_data"
    }
   ],
   "source": [
    "attributes(state)"
   ]
  },
  {
   "cell_type": "code",
   "execution_count": 60,
   "id": "b2a8ad8b",
   "metadata": {
    "vscode": {
     "languageId": "r"
    }
   },
   "outputs": [
    {
     "data": {
      "text/html": [
       "<style>\n",
       ".list-inline {list-style: none; margin:0; padding: 0}\n",
       ".list-inline>li {display: inline-block}\n",
       ".list-inline>li:not(:last-child)::after {content: \"\\00b7\"; padding: 0 .5ex}\n",
       "</style>\n",
       "<ol class=list-inline><li>tas</li><li>sa</li><li>qld</li><li>nsw</li><li>nsw</li><li>nt</li><li>wa</li><li>wa</li><li>qld</li><li>vic</li><li>nsw</li><li>vic</li><li>qld</li><li>qld</li><li>sa</li><li>tas</li><li>sa</li><li>nt</li><li>wa</li><li>vic</li><li>qld</li><li>nsw</li><li>nsw</li><li>wa</li><li>sa</li><li>act</li><li>nsw</li><li>vic</li><li>vic</li><li>act</li></ol>\n",
       "\n",
       "<details>\n",
       "\t<summary style=display:list-item;cursor:pointer>\n",
       "\t\t<strong>Levels</strong>:\n",
       "\t</summary>\n",
       "\t<style>\n",
       "\t.list-inline {list-style: none; margin:0; padding: 0}\n",
       "\t.list-inline>li {display: inline-block}\n",
       "\t.list-inline>li:not(:last-child)::after {content: \"\\00b7\"; padding: 0 .5ex}\n",
       "\t</style>\n",
       "\t<ol class=list-inline><li>'act'</li><li>'nsw'</li><li>'nt'</li><li>'qld'</li><li>'sa'</li><li>'tas'</li><li>'vic'</li><li>'wa'</li></ol>\n",
       "</details>"
      ],
      "text/latex": [
       "\\begin{enumerate*}\n",
       "\\item tas\n",
       "\\item sa\n",
       "\\item qld\n",
       "\\item nsw\n",
       "\\item nsw\n",
       "\\item nt\n",
       "\\item wa\n",
       "\\item wa\n",
       "\\item qld\n",
       "\\item vic\n",
       "\\item nsw\n",
       "\\item vic\n",
       "\\item qld\n",
       "\\item qld\n",
       "\\item sa\n",
       "\\item tas\n",
       "\\item sa\n",
       "\\item nt\n",
       "\\item wa\n",
       "\\item vic\n",
       "\\item qld\n",
       "\\item nsw\n",
       "\\item nsw\n",
       "\\item wa\n",
       "\\item sa\n",
       "\\item act\n",
       "\\item nsw\n",
       "\\item vic\n",
       "\\item vic\n",
       "\\item act\n",
       "\\end{enumerate*}\n",
       "\n",
       "\\emph{Levels}: \\begin{enumerate*}\n",
       "\\item 'act'\n",
       "\\item 'nsw'\n",
       "\\item 'nt'\n",
       "\\item 'qld'\n",
       "\\item 'sa'\n",
       "\\item 'tas'\n",
       "\\item 'vic'\n",
       "\\item 'wa'\n",
       "\\end{enumerate*}\n"
      ],
      "text/markdown": [
       "1. tas\n",
       "2. sa\n",
       "3. qld\n",
       "4. nsw\n",
       "5. nsw\n",
       "6. nt\n",
       "7. wa\n",
       "8. wa\n",
       "9. qld\n",
       "10. vic\n",
       "11. nsw\n",
       "12. vic\n",
       "13. qld\n",
       "14. qld\n",
       "15. sa\n",
       "16. tas\n",
       "17. sa\n",
       "18. nt\n",
       "19. wa\n",
       "20. vic\n",
       "21. qld\n",
       "22. nsw\n",
       "23. nsw\n",
       "24. wa\n",
       "25. sa\n",
       "26. act\n",
       "27. nsw\n",
       "28. vic\n",
       "29. vic\n",
       "30. act\n",
       "\n",
       "\n",
       "\n",
       "**Levels**: 1. 'act'\n",
       "2. 'nsw'\n",
       "3. 'nt'\n",
       "4. 'qld'\n",
       "5. 'sa'\n",
       "6. 'tas'\n",
       "7. 'vic'\n",
       "8. 'wa'\n",
       "\n",
       "\n"
      ],
      "text/plain": [
       " [1] tas sa  qld nsw nsw nt  wa  wa  qld vic nsw vic qld qld sa  tas sa  nt  wa \n",
       "[20] vic qld nsw nsw wa  sa  act nsw vic vic act\n",
       "Levels: act nsw nt qld sa tas vic wa"
      ]
     },
     "metadata": {},
     "output_type": "display_data"
    }
   ],
   "source": [
    "statef <- factor(state)\n",
    "statef"
   ]
  },
  {
   "cell_type": "code",
   "execution_count": 61,
   "id": "227e0e3d",
   "metadata": {
    "vscode": {
     "languageId": "r"
    }
   },
   "outputs": [
    {
     "data": {
      "text/html": [
       "<dl>\n",
       "\t<dt>$levels</dt>\n",
       "\t\t<dd><style>\n",
       ".list-inline {list-style: none; margin:0; padding: 0}\n",
       ".list-inline>li {display: inline-block}\n",
       ".list-inline>li:not(:last-child)::after {content: \"\\00b7\"; padding: 0 .5ex}\n",
       "</style>\n",
       "<ol class=list-inline><li>'act'</li><li>'nsw'</li><li>'nt'</li><li>'qld'</li><li>'sa'</li><li>'tas'</li><li>'vic'</li><li>'wa'</li></ol>\n",
       "</dd>\n",
       "\t<dt>$class</dt>\n",
       "\t\t<dd>'factor'</dd>\n",
       "</dl>\n"
      ],
      "text/latex": [
       "\\begin{description}\n",
       "\\item[\\$levels] \\begin{enumerate*}\n",
       "\\item 'act'\n",
       "\\item 'nsw'\n",
       "\\item 'nt'\n",
       "\\item 'qld'\n",
       "\\item 'sa'\n",
       "\\item 'tas'\n",
       "\\item 'vic'\n",
       "\\item 'wa'\n",
       "\\end{enumerate*}\n",
       "\n",
       "\\item[\\$class] 'factor'\n",
       "\\end{description}\n"
      ],
      "text/markdown": [
       "$levels\n",
       ":   1. 'act'\n",
       "2. 'nsw'\n",
       "3. 'nt'\n",
       "4. 'qld'\n",
       "5. 'sa'\n",
       "6. 'tas'\n",
       "7. 'vic'\n",
       "8. 'wa'\n",
       "\n",
       "\n",
       "\n",
       "$class\n",
       ":   'factor'\n",
       "\n",
       "\n"
      ],
      "text/plain": [
       "$levels\n",
       "[1] \"act\" \"nsw\" \"nt\"  \"qld\" \"sa\"  \"tas\" \"vic\" \"wa\" \n",
       "\n",
       "$class\n",
       "[1] \"factor\"\n"
      ]
     },
     "metadata": {},
     "output_type": "display_data"
    }
   ],
   "source": [
    "attributes(statef)"
   ]
  },
  {
   "cell_type": "code",
   "execution_count": 62,
   "id": "21c608a9",
   "metadata": {
    "vscode": {
     "languageId": "r"
    }
   },
   "outputs": [
    {
     "data": {
      "text/html": [
       "<style>\n",
       ".list-inline {list-style: none; margin:0; padding: 0}\n",
       ".list-inline>li {display: inline-block}\n",
       ".list-inline>li:not(:last-child)::after {content: \"\\00b7\"; padding: 0 .5ex}\n",
       "</style>\n",
       "<ol class=list-inline><li>'act'</li><li>'nsw'</li><li>'nt'</li><li>'qld'</li><li>'sa'</li><li>'tas'</li><li>'vic'</li><li>'wa'</li></ol>\n"
      ],
      "text/latex": [
       "\\begin{enumerate*}\n",
       "\\item 'act'\n",
       "\\item 'nsw'\n",
       "\\item 'nt'\n",
       "\\item 'qld'\n",
       "\\item 'sa'\n",
       "\\item 'tas'\n",
       "\\item 'vic'\n",
       "\\item 'wa'\n",
       "\\end{enumerate*}\n"
      ],
      "text/markdown": [
       "1. 'act'\n",
       "2. 'nsw'\n",
       "3. 'nt'\n",
       "4. 'qld'\n",
       "5. 'sa'\n",
       "6. 'tas'\n",
       "7. 'vic'\n",
       "8. 'wa'\n",
       "\n",
       "\n"
      ],
      "text/plain": [
       "[1] \"act\" \"nsw\" \"nt\"  \"qld\" \"sa\"  \"tas\" \"vic\" \"wa\" "
      ]
     },
     "metadata": {},
     "output_type": "display_data"
    }
   ],
   "source": [
    "levels(statef)"
   ]
  },
  {
   "cell_type": "code",
   "execution_count": 63,
   "id": "714ba750",
   "metadata": {
    "vscode": {
     "languageId": "r"
    }
   },
   "outputs": [],
   "source": [
    "incomes <- c(\n",
    "    60, 49, 40, 61, 64, 60, 59, 54, 62, 69, 70, 42, 56,\n",
    "    61, 61, 61, 58, 51, 48, 65, 49, 49, 41, 48, 52, 46,\n",
    "    59, 46, 58, 43\n",
    ")\n"
   ]
  },
  {
   "cell_type": "code",
   "execution_count": 64,
   "id": "759284bf",
   "metadata": {
    "vscode": {
     "languageId": "r"
    }
   },
   "outputs": [
    {
     "data": {
      "text/html": [
       "<style>\n",
       ".dl-inline {width: auto; margin:0; padding: 0}\n",
       ".dl-inline>dt, .dl-inline>dd {float: none; width: auto; display: inline-block}\n",
       ".dl-inline>dt::after {content: \":\\0020\"; padding-right: .5ex}\n",
       ".dl-inline>dt:not(:first-of-type) {padding-left: .5ex}\n",
       "</style><dl class=dl-inline><dt>act</dt><dd>44.5</dd><dt>nsw</dt><dd>57.3333333333333</dd><dt>nt</dt><dd>55.5</dd><dt>qld</dt><dd>53.6</dd><dt>sa</dt><dd>55</dd><dt>tas</dt><dd>60.5</dd><dt>vic</dt><dd>56</dd><dt>wa</dt><dd>52.25</dd></dl>\n"
      ],
      "text/latex": [
       "\\begin{description*}\n",
       "\\item[act] 44.5\n",
       "\\item[nsw] 57.3333333333333\n",
       "\\item[nt] 55.5\n",
       "\\item[qld] 53.6\n",
       "\\item[sa] 55\n",
       "\\item[tas] 60.5\n",
       "\\item[vic] 56\n",
       "\\item[wa] 52.25\n",
       "\\end{description*}\n"
      ],
      "text/markdown": [
       "act\n",
       ":   44.5nsw\n",
       ":   57.3333333333333nt\n",
       ":   55.5qld\n",
       ":   53.6sa\n",
       ":   55tas\n",
       ":   60.5vic\n",
       ":   56wa\n",
       ":   52.25\n",
       "\n"
      ],
      "text/plain": [
       "     act      nsw       nt      qld       sa      tas      vic       wa \n",
       "44.50000 57.33333 55.50000 53.60000 55.00000 60.50000 56.00000 52.25000 "
      ]
     },
     "metadata": {},
     "output_type": "display_data"
    }
   ],
   "source": [
    "incmeans <- tapply(incomes, statef, mean)\n",
    "incmeans"
   ]
  },
  {
   "cell_type": "code",
   "execution_count": 68,
   "id": "77936ed2",
   "metadata": {
    "vscode": {
     "languageId": "r"
    }
   },
   "outputs": [
    {
     "data": {
      "text/html": [
       "<pre class=language-r><code>function (x) \n",
       "sqrt(var(x)/length(x))</code></pre>"
      ],
      "text/latex": [
       "\\begin{minted}{r}\n",
       "function (x) \n",
       "sqrt(var(x)/length(x))\n",
       "\\end{minted}"
      ],
      "text/markdown": [
       "```r\n",
       "function (x) \n",
       "sqrt(var(x)/length(x))\n",
       "```"
      ],
      "text/plain": [
       "function (x) \n",
       "sqrt(var(x)/length(x))"
      ]
     },
     "metadata": {},
     "output_type": "display_data"
    }
   ],
   "source": [
    "stdError <- function(x) sqrt(var(x) / length(x))\n",
    "stdError"
   ]
  },
  {
   "cell_type": "code",
   "execution_count": 70,
   "id": "47a0e9bc",
   "metadata": {
    "vscode": {
     "languageId": "r"
    }
   },
   "outputs": [
    {
     "data": {
      "text/html": [
       "1.52446209343804"
      ],
      "text/latex": [
       "1.52446209343804"
      ],
      "text/markdown": [
       "1.52446209343804"
      ],
      "text/plain": [
       "[1] 1.524462"
      ]
     },
     "metadata": {},
     "output_type": "display_data"
    }
   ],
   "source": [
    "stdError(incomes)"
   ]
  },
  {
   "cell_type": "code",
   "execution_count": 71,
   "id": "2057a48f",
   "metadata": {
    "vscode": {
     "languageId": "r"
    }
   },
   "outputs": [
    {
     "data": {
      "text/html": [
       "1.06770782520313"
      ],
      "text/latex": [
       "1.06770782520313"
      ],
      "text/markdown": [
       "1.06770782520313"
      ],
      "text/plain": [
       "[1] 1.067708"
      ]
     },
     "metadata": {},
     "output_type": "display_data"
    }
   ],
   "source": [
    "x <- c(2, 4, 5, 7, 8)\n",
    "var_x <- var(x) # sample variance\n",
    "n <- length(x)\n",
    "SE <- sqrt(var_x / n) # standard error\n",
    "SE\n"
   ]
  },
  {
   "cell_type": "code",
   "execution_count": 72,
   "id": "1b6d93fd",
   "metadata": {
    "vscode": {
     "languageId": "r"
    }
   },
   "outputs": [
    {
     "data": {
      "text/html": [
       "1.06770782520313"
      ],
      "text/latex": [
       "1.06770782520313"
      ],
      "text/markdown": [
       "1.06770782520313"
      ],
      "text/plain": [
       "[1] 1.067708"
      ]
     },
     "metadata": {},
     "output_type": "display_data"
    }
   ],
   "source": [
    "stdError(x)"
   ]
  },
  {
   "cell_type": "code",
   "execution_count": 73,
   "id": "e223130b",
   "metadata": {
    "vscode": {
     "languageId": "r"
    }
   },
   "outputs": [
    {
     "data": {
      "text/html": [
       "<style>\n",
       ".dl-inline {width: auto; margin:0; padding: 0}\n",
       ".dl-inline>dt, .dl-inline>dd {float: none; width: auto; display: inline-block}\n",
       ".dl-inline>dt::after {content: \":\\0020\"; padding-right: .5ex}\n",
       ".dl-inline>dt:not(:first-of-type) {padding-left: .5ex}\n",
       "</style><dl class=dl-inline><dt>act</dt><dd>1.5</dd><dt>nsw</dt><dd>4.31019463339856</dd><dt>nt</dt><dd>4.5</dd><dt>qld</dt><dd>4.10609303352956</dd><dt>sa</dt><dd>2.73861278752583</dd><dt>tas</dt><dd>0.5</dd><dt>vic</dt><dd>5.24404424085076</dd><dt>wa</dt><dd>2.65753645318366</dd></dl>\n"
      ],
      "text/latex": [
       "\\begin{description*}\n",
       "\\item[act] 1.5\n",
       "\\item[nsw] 4.31019463339856\n",
       "\\item[nt] 4.5\n",
       "\\item[qld] 4.10609303352956\n",
       "\\item[sa] 2.73861278752583\n",
       "\\item[tas] 0.5\n",
       "\\item[vic] 5.24404424085076\n",
       "\\item[wa] 2.65753645318366\n",
       "\\end{description*}\n"
      ],
      "text/markdown": [
       "act\n",
       ":   1.5nsw\n",
       ":   4.31019463339856nt\n",
       ":   4.5qld\n",
       ":   4.10609303352956sa\n",
       ":   2.73861278752583tas\n",
       ":   0.5vic\n",
       ":   5.24404424085076wa\n",
       ":   2.65753645318366\n",
       "\n"
      ],
      "text/plain": [
       "     act      nsw       nt      qld       sa      tas      vic       wa \n",
       "1.500000 4.310195 4.500000 4.106093 2.738613 0.500000 5.244044 2.657536 "
      ]
     },
     "metadata": {},
     "output_type": "display_data"
    }
   ],
   "source": [
    "incster <- tapply(incomes, statef, stdError)\n",
    "incster"
   ]
  },
  {
   "cell_type": "code",
   "execution_count": 74,
   "id": "94d05387",
   "metadata": {
    "vscode": {
     "languageId": "r"
    }
   },
   "outputs": [
    {
     "data": {
      "text/html": [
       "<style>\n",
       ".dl-inline {width: auto; margin:0; padding: 0}\n",
       ".dl-inline>dt, .dl-inline>dd {float: none; width: auto; display: inline-block}\n",
       ".dl-inline>dt::after {content: \":\\0020\"; padding-right: .5ex}\n",
       ".dl-inline>dt:not(:first-of-type) {padding-left: .5ex}\n",
       "</style><dl class=dl-inline><dt>act</dt><dd>2</dd><dt>nsw</dt><dd>6</dd><dt>nt</dt><dd>2</dd><dt>qld</dt><dd>5</dd><dt>sa</dt><dd>4</dd><dt>tas</dt><dd>2</dd><dt>vic</dt><dd>5</dd><dt>wa</dt><dd>4</dd></dl>\n"
      ],
      "text/latex": [
       "\\begin{description*}\n",
       "\\item[act] 2\n",
       "\\item[nsw] 6\n",
       "\\item[nt] 2\n",
       "\\item[qld] 5\n",
       "\\item[sa] 4\n",
       "\\item[tas] 2\n",
       "\\item[vic] 5\n",
       "\\item[wa] 4\n",
       "\\end{description*}\n"
      ],
      "text/markdown": [
       "act\n",
       ":   2nsw\n",
       ":   6nt\n",
       ":   2qld\n",
       ":   5sa\n",
       ":   4tas\n",
       ":   2vic\n",
       ":   5wa\n",
       ":   4\n",
       "\n"
      ],
      "text/plain": [
       "act nsw  nt qld  sa tas vic  wa \n",
       "  2   6   2   5   4   2   5   4 "
      ]
     },
     "metadata": {},
     "output_type": "display_data"
    }
   ],
   "source": [
    "l <- tapply(incomes, statef, length)\n",
    "l"
   ]
  },
  {
   "cell_type": "code",
   "execution_count": 75,
   "id": "b4e688bb",
   "metadata": {
    "vscode": {
     "languageId": "r"
    }
   },
   "outputs": [],
   "source": [
    "z <- 1:1500\n",
    "dim(z) <- c(3, 5, 100)\n"
   ]
  },
  {
   "cell_type": "code",
   "execution_count": 76,
   "id": "459e79b0",
   "metadata": {
    "vscode": {
     "languageId": "r"
    }
   },
   "outputs": [
    {
     "data": {
      "text/html": [
       "<strong>$dim</strong> = <style>\n",
       ".list-inline {list-style: none; margin:0; padding: 0}\n",
       ".list-inline>li {display: inline-block}\n",
       ".list-inline>li:not(:last-child)::after {content: \"\\00b7\"; padding: 0 .5ex}\n",
       "</style>\n",
       "<ol class=list-inline><li>3</li><li>5</li><li>100</li></ol>\n"
      ],
      "text/latex": [
       "\\textbf{\\$dim} = \\begin{enumerate*}\n",
       "\\item 3\n",
       "\\item 5\n",
       "\\item 100\n",
       "\\end{enumerate*}\n"
      ],
      "text/markdown": [
       "**$dim** = 1. 3\n",
       "2. 5\n",
       "3. 100\n",
       "\n",
       "\n"
      ],
      "text/plain": [
       "$dim\n",
       "[1]   3   5 100\n"
      ]
     },
     "metadata": {},
     "output_type": "display_data"
    }
   ],
   "source": [
    "attributes(z)"
   ]
  },
  {
   "cell_type": "code",
   "execution_count": 77,
   "id": "8c3307e1",
   "metadata": {
    "vscode": {
     "languageId": "r"
    }
   },
   "outputs": [],
   "source": [
    "z <- 1:24\n",
    "dim(z) <- c(3, 4, 2)\n"
   ]
  },
  {
   "cell_type": "code",
   "execution_count": 78,
   "id": "fcf74d14",
   "metadata": {
    "vscode": {
     "languageId": "r"
    }
   },
   "outputs": [
    {
     "data": {
      "text/html": [
       "<strong>$dim</strong> = <style>\n",
       ".list-inline {list-style: none; margin:0; padding: 0}\n",
       ".list-inline>li {display: inline-block}\n",
       ".list-inline>li:not(:last-child)::after {content: \"\\00b7\"; padding: 0 .5ex}\n",
       "</style>\n",
       "<ol class=list-inline><li>3</li><li>4</li><li>2</li></ol>\n"
      ],
      "text/latex": [
       "\\textbf{\\$dim} = \\begin{enumerate*}\n",
       "\\item 3\n",
       "\\item 4\n",
       "\\item 2\n",
       "\\end{enumerate*}\n"
      ],
      "text/markdown": [
       "**$dim** = 1. 3\n",
       "2. 4\n",
       "3. 2\n",
       "\n",
       "\n"
      ],
      "text/plain": [
       "$dim\n",
       "[1] 3 4 2\n"
      ]
     },
     "metadata": {},
     "output_type": "display_data"
    }
   ],
   "source": [
    "attributes(z)"
   ]
  },
  {
   "cell_type": "code",
   "execution_count": 79,
   "id": "fcb08491",
   "metadata": {
    "vscode": {
     "languageId": "r"
    }
   },
   "outputs": [
    {
     "name": "stdout",
     "output_type": "stream",
     "text": [
      "=== Creating a 3D Array with dimensions c(3,4,2) ===\n",
      "Array dimensions: 3 4 2 \n",
      "Total elements: 24 \n",
      "\n",
      "=== Complete Array ===\n",
      ", , 1\n",
      "\n",
      "     [,1] [,2] [,3] [,4]\n",
      "[1,]    1    4    7   10\n",
      "[2,]    2    5    8   11\n",
      "[3,]    3    6    9   12\n",
      "\n",
      ", , 2\n",
      "\n",
      "     [,1] [,2] [,3] [,4]\n",
      "[1,]   13   16   19   22\n",
      "[2,]   14   17   20   23\n",
      "[3,]   15   18   21   24\n",
      "\n"
     ]
    }
   ],
   "source": [
    "cat(\"=== Creating a 3D Array with dimensions c(3,4,2) ===\\n\")\n",
    "\n",
    "# Create a 3D array with dimensions 3×4×2 = 24 elements\n",
    "# Using numbers 1:24 to see the storage order clearly\n",
    "a <- array(1:24, dim = c(3, 4, 2))\n",
    "\n",
    "cat(\"Array dimensions:\", dim(a), \"\\n\")\n",
    "cat(\"Total elements:\", length(a), \"\\n\\n\")\n",
    "\n",
    "cat(\"=== Complete Array ===\\n\")\n",
    "print(a)"
   ]
  },
  {
   "cell_type": "code",
   "execution_count": 80,
   "id": "2cf1b103",
   "metadata": {
    "vscode": {
     "languageId": "r"
    }
   },
   "outputs": [
    {
     "data": {
      "text/html": [
       "4"
      ],
      "text/latex": [
       "4"
      ],
      "text/markdown": [
       "4"
      ],
      "text/plain": [
       "[1] 4"
      ]
     },
     "metadata": {},
     "output_type": "display_data"
    }
   ],
   "source": [
    "a[1, 2, 1]\n"
   ]
  },
  {
   "cell_type": "code",
   "execution_count": 81,
   "id": "d4cd7b90",
   "metadata": {
    "vscode": {
     "languageId": "r"
    }
   },
   "outputs": [
    {
     "data": {
      "text/html": [
       "<style>\n",
       ".list-inline {list-style: none; margin:0; padding: 0}\n",
       ".list-inline>li {display: inline-block}\n",
       ".list-inline>li:not(:last-child)::after {content: \"\\00b7\"; padding: 0 .5ex}\n",
       "</style>\n",
       "<ol class=list-inline><li>4</li><li>5</li><li>6</li></ol>\n"
      ],
      "text/latex": [
       "\\begin{enumerate*}\n",
       "\\item 4\n",
       "\\item 5\n",
       "\\item 6\n",
       "\\end{enumerate*}\n"
      ],
      "text/markdown": [
       "1. 4\n",
       "2. 5\n",
       "3. 6\n",
       "\n",
       "\n"
      ],
      "text/plain": [
       "[1] 4 5 6"
      ]
     },
     "metadata": {},
     "output_type": "display_data"
    }
   ],
   "source": [
    "a[, 2, 1]\n"
   ]
  },
  {
   "cell_type": "code",
   "execution_count": 82,
   "id": "0483791a",
   "metadata": {
    "vscode": {
     "languageId": "r"
    }
   },
   "outputs": [
    {
     "data": {
      "text/html": [
       "<style>\n",
       ".list-inline {list-style: none; margin:0; padding: 0}\n",
       ".list-inline>li {display: inline-block}\n",
       ".list-inline>li:not(:last-child)::after {content: \"\\00b7\"; padding: 0 .5ex}\n",
       "</style>\n",
       "<ol class=list-inline><li>1</li><li>4</li><li>7</li><li>10</li></ol>\n"
      ],
      "text/latex": [
       "\\begin{enumerate*}\n",
       "\\item 1\n",
       "\\item 4\n",
       "\\item 7\n",
       "\\item 10\n",
       "\\end{enumerate*}\n"
      ],
      "text/markdown": [
       "1. 1\n",
       "2. 4\n",
       "3. 7\n",
       "4. 10\n",
       "\n",
       "\n"
      ],
      "text/plain": [
       "[1]  1  4  7 10"
      ]
     },
     "metadata": {},
     "output_type": "display_data"
    }
   ],
   "source": [
    "a[1, , 1]\n"
   ]
  },
  {
   "cell_type": "code",
   "execution_count": 83,
   "id": "268579d3",
   "metadata": {
    "vscode": {
     "languageId": "r"
    }
   },
   "outputs": [
    {
     "name": "stdout",
     "output_type": "stream",
     "text": [
      "\n",
      "=== Storage Order Demonstration ===\n",
      "R stores array elements in this order:\n",
      "a[1,1,1] = 1 (position 1 in data vector)\n",
      "a[2,1,1] = 2 (position 2 in data vector)\n",
      "a[3,1,1] = 3 (position 3 in data vector)\n",
      "a[1,2,1] = 4 (position 4 in data vector)\n",
      "a[2,2,1] = 5 (position 5 in data vector)\n",
      "a[3,2,1] = 6 (position 6 in data vector)\n",
      "a[1,3,1] = 7 (position 7 in data vector)\n",
      "a[2,3,1] = 8 (position 8 in data vector)\n",
      "a[3,3,1] = 9 (position 9 in data vector)\n",
      "a[1,4,1] = 10 (position 10 in data vector)\n",
      "a[2,4,1] = 11 (position 11 in data vector)\n",
      "a[3,4,1] = 12 (position 12 in data vector)\n",
      "a[1,1,2] = 13 (position 13 in data vector)\n",
      "a[2,1,2] = 14 (position 14 in data vector)\n",
      "a[3,1,2] = 15 (position 15 in data vector)\n",
      "a[1,2,2] = 16 (position 16 in data vector)\n",
      "a[2,2,2] = 17 (position 17 in data vector)\n",
      "a[3,2,2] = 18 (position 18 in data vector)\n",
      "a[1,3,2] = 19 (position 19 in data vector)\n",
      "a[2,3,2] = 20 (position 20 in data vector)\n",
      "a[3,3,2] = 21 (position 21 in data vector)\n",
      "a[1,4,2] = 22 (position 22 in data vector)\n",
      "a[2,4,2] = 23 (position 23 in data vector)\n",
      "a[3,4,2] = 24 (position 24 in data vector)\n"
     ]
    }
   ],
   "source": [
    "cat(\"\\n=== Storage Order Demonstration ===\\n\")\n",
    "cat(\"R stores array elements in this order:\\n\")\n",
    "\n",
    "# Show the storage order by accessing elements sequentially\n",
    "counter <- 1\n",
    "for (k in 1:2) { # Third dimension (layers)\n",
    "  for (j in 1:4) { # Second dimension (columns)\n",
    "    for (i in 1:3) { # First dimension (rows)\n",
    "      cat(sprintf(\n",
    "        \"a[%d,%d,%d] = %d (position %d in data vector)\\n\",\n",
    "        i, j, k, a[i, j, k], counter\n",
    "      ))\n",
    "      counter <- counter + 1\n",
    "    }\n",
    "  }\n",
    "}\n"
   ]
  },
  {
   "cell_type": "code",
   "execution_count": 84,
   "id": "3a7e2b13",
   "metadata": {
    "vscode": {
     "languageId": "r"
    }
   },
   "outputs": [
    {
     "name": "stdout",
     "output_type": "stream",
     "text": [
      "\n",
      "=== Accessing Individual Layers ===\n",
      "Layer 1 (k=1):\n",
      "     [,1] [,2] [,3] [,4]\n",
      "[1,]    1    4    7   10\n",
      "[2,]    2    5    8   11\n",
      "[3,]    3    6    9   12\n",
      "\n",
      "Layer 2 (k=2):\n",
      "     [,1] [,2] [,3] [,4]\n",
      "[1,]   13   16   19   22\n",
      "[2,]   14   17   20   23\n",
      "[3,]   15   18   21   24\n"
     ]
    }
   ],
   "source": [
    "cat(\"\\n=== Accessing Individual Layers ===\\n\")\n",
    "cat(\"Layer 1 (k=1):\\n\")\n",
    "print(a[, , 1])\n",
    "\n",
    "cat(\"\\nLayer 2 (k=2):\\n\")\n",
    "print(a[, , 2])\n"
   ]
  },
  {
   "cell_type": "code",
   "execution_count": 85,
   "id": "1b56ddf1",
   "metadata": {
    "vscode": {
     "languageId": "r"
    }
   },
   "outputs": [
    {
     "name": "stdout",
     "output_type": "stream",
     "text": [
      "\n",
      "=== Verifying Storage Order ===\n",
      "Original data vector:  1 2 3 4 5 6 7 8 9 10 11 12 13 14 15 16 17 18 19 20 21 22 23 24 \n",
      "Array as vector:       1 2 3 4 5 6 7 8 9 10 11 12 13 14 15 16 17 18 19 20 21 22 23 24 \n",
      "Are they identical?    TRUE \n"
     ]
    }
   ],
   "source": [
    "cat(\"\\n=== Verifying Storage Order ===\\n\")\n",
    "cat(\"Original data vector: \", 1:24, \"\\n\")\n",
    "cat(\"Array as vector:      \", as.vector(a), \"\\n\")\n",
    "cat(\"Are they identical?   \", identical(1:24, as.vector(a)), \"\\n\")"
   ]
  },
  {
   "cell_type": "code",
   "execution_count": 86,
   "id": "8575c7e2",
   "metadata": {
    "vscode": {
     "languageId": "r"
    }
   },
   "outputs": [
    {
     "name": "stdout",
     "output_type": "stream",
     "text": [
      "\n",
      "=== Key Insight ===\n",
      "R fills arrays in 'column-major' order:\n",
      "- First dimension (rows) varies fastest\n",
      "- Second dimension (columns) varies next\n",
      "- Third dimension (layers) varies slowest\n"
     ]
    }
   ],
   "source": [
    "\n",
    "cat(\"\\n=== Key Insight ===\\n\")\n",
    "cat(\"R fills arrays in 'column-major' order:\\n\")\n",
    "cat(\"- First dimension (rows) varies fastest\\n\")\n",
    "cat(\"- Second dimension (columns) varies next\\n\")\n",
    "cat(\"- Third dimension (layers) varies slowest\\n\")"
   ]
  },
  {
   "cell_type": "code",
   "execution_count": 87,
   "id": "a3163f83",
   "metadata": {
    "vscode": {
     "languageId": "r"
    }
   },
   "outputs": [
    {
     "data": {
      "text/html": [
       "<table class=\"dataframe\">\n",
       "<caption>A matrix: 4 × 5 of type int</caption>\n",
       "<tbody>\n",
       "\t<tr><td>1</td><td>5</td><td> 9</td><td>13</td><td>17</td></tr>\n",
       "\t<tr><td>2</td><td>6</td><td>10</td><td>14</td><td>18</td></tr>\n",
       "\t<tr><td>3</td><td>7</td><td>11</td><td>15</td><td>19</td></tr>\n",
       "\t<tr><td>4</td><td>8</td><td>12</td><td>16</td><td>20</td></tr>\n",
       "</tbody>\n",
       "</table>\n"
      ],
      "text/latex": [
       "A matrix: 4 × 5 of type int\n",
       "\\begin{tabular}{lllll}\n",
       "\t 1 & 5 &  9 & 13 & 17\\\\\n",
       "\t 2 & 6 & 10 & 14 & 18\\\\\n",
       "\t 3 & 7 & 11 & 15 & 19\\\\\n",
       "\t 4 & 8 & 12 & 16 & 20\\\\\n",
       "\\end{tabular}\n"
      ],
      "text/markdown": [
       "\n",
       "A matrix: 4 × 5 of type int\n",
       "\n",
       "| 1 | 5 |  9 | 13 | 17 |\n",
       "| 2 | 6 | 10 | 14 | 18 |\n",
       "| 3 | 7 | 11 | 15 | 19 |\n",
       "| 4 | 8 | 12 | 16 | 20 |\n",
       "\n"
      ],
      "text/plain": [
       "     [,1] [,2] [,3] [,4] [,5]\n",
       "[1,] 1    5     9   13   17  \n",
       "[2,] 2    6    10   14   18  \n",
       "[3,] 3    7    11   15   19  \n",
       "[4,] 4    8    12   16   20  "
      ]
     },
     "metadata": {},
     "output_type": "display_data"
    }
   ],
   "source": [
    "x <- array(1:20, dim = c(4, 5))\n",
    "x\n"
   ]
  },
  {
   "cell_type": "code",
   "execution_count": 89,
   "id": "208e4939",
   "metadata": {
    "vscode": {
     "languageId": "r"
    }
   },
   "outputs": [
    {
     "data": {
      "text/html": [
       "<style>\n",
       ".list-inline {list-style: none; margin:0; padding: 0}\n",
       ".list-inline>li {display: inline-block}\n",
       ".list-inline>li:not(:last-child)::after {content: \"\\00b7\"; padding: 0 .5ex}\n",
       "</style>\n",
       "<ol class=list-inline><li>1</li><li>2</li><li>3</li><li>3</li><li>2</li><li>1</li></ol>\n"
      ],
      "text/latex": [
       "\\begin{enumerate*}\n",
       "\\item 1\n",
       "\\item 2\n",
       "\\item 3\n",
       "\\item 3\n",
       "\\item 2\n",
       "\\item 1\n",
       "\\end{enumerate*}\n"
      ],
      "text/markdown": [
       "1. 1\n",
       "2. 2\n",
       "3. 3\n",
       "4. 3\n",
       "5. 2\n",
       "6. 1\n",
       "\n",
       "\n"
      ],
      "text/plain": [
       "[1] 1 2 3 3 2 1"
      ]
     },
     "metadata": {},
     "output_type": "display_data"
    }
   ],
   "source": [
    "c(1:3, 3:1)\n"
   ]
  },
  {
   "cell_type": "code",
   "execution_count": 90,
   "id": "c4f79219",
   "metadata": {
    "vscode": {
     "languageId": "r"
    }
   },
   "outputs": [
    {
     "data": {
      "text/html": [
       "<table class=\"dataframe\">\n",
       "<caption>A matrix: 3 × 2 of type int</caption>\n",
       "<tbody>\n",
       "\t<tr><td>1</td><td>3</td></tr>\n",
       "\t<tr><td>2</td><td>2</td></tr>\n",
       "\t<tr><td>3</td><td>1</td></tr>\n",
       "</tbody>\n",
       "</table>\n"
      ],
      "text/latex": [
       "A matrix: 3 × 2 of type int\n",
       "\\begin{tabular}{ll}\n",
       "\t 1 & 3\\\\\n",
       "\t 2 & 2\\\\\n",
       "\t 3 & 1\\\\\n",
       "\\end{tabular}\n"
      ],
      "text/markdown": [
       "\n",
       "A matrix: 3 × 2 of type int\n",
       "\n",
       "| 1 | 3 |\n",
       "| 2 | 2 |\n",
       "| 3 | 1 |\n",
       "\n"
      ],
      "text/plain": [
       "     [,1] [,2]\n",
       "[1,] 1    3   \n",
       "[2,] 2    2   \n",
       "[3,] 3    1   "
      ]
     },
     "metadata": {},
     "output_type": "display_data"
    }
   ],
   "source": [
    "i <- array(c(1:3, 3:1), dim = c(3, 2))\n",
    "i\n"
   ]
  },
  {
   "cell_type": "code",
   "execution_count": 91,
   "id": "d1a98c09",
   "metadata": {
    "vscode": {
     "languageId": "r"
    }
   },
   "outputs": [
    {
     "data": {
      "text/html": [
       "<style>\n",
       ".list-inline {list-style: none; margin:0; padding: 0}\n",
       ".list-inline>li {display: inline-block}\n",
       ".list-inline>li:not(:last-child)::after {content: \"\\00b7\"; padding: 0 .5ex}\n",
       "</style>\n",
       "<ol class=list-inline><li>9</li><li>6</li><li>3</li></ol>\n"
      ],
      "text/latex": [
       "\\begin{enumerate*}\n",
       "\\item 9\n",
       "\\item 6\n",
       "\\item 3\n",
       "\\end{enumerate*}\n"
      ],
      "text/markdown": [
       "1. 9\n",
       "2. 6\n",
       "3. 3\n",
       "\n",
       "\n"
      ],
      "text/plain": [
       "[1] 9 6 3"
      ]
     },
     "metadata": {},
     "output_type": "display_data"
    }
   ],
   "source": [
    "x[i]"
   ]
  },
  {
   "cell_type": "code",
   "execution_count": 92,
   "id": "58af4f7c",
   "metadata": {
    "vscode": {
     "languageId": "r"
    }
   },
   "outputs": [
    {
     "data": {
      "text/html": [
       "<table class=\"dataframe\">\n",
       "<caption>A matrix: 4 × 5 of type dbl</caption>\n",
       "<tbody>\n",
       "\t<tr><td>1</td><td>5</td><td> 0</td><td>13</td><td>17</td></tr>\n",
       "\t<tr><td>2</td><td>0</td><td>10</td><td>14</td><td>18</td></tr>\n",
       "\t<tr><td>0</td><td>7</td><td>11</td><td>15</td><td>19</td></tr>\n",
       "\t<tr><td>4</td><td>8</td><td>12</td><td>16</td><td>20</td></tr>\n",
       "</tbody>\n",
       "</table>\n"
      ],
      "text/latex": [
       "A matrix: 4 × 5 of type dbl\n",
       "\\begin{tabular}{lllll}\n",
       "\t 1 & 5 &  0 & 13 & 17\\\\\n",
       "\t 2 & 0 & 10 & 14 & 18\\\\\n",
       "\t 0 & 7 & 11 & 15 & 19\\\\\n",
       "\t 4 & 8 & 12 & 16 & 20\\\\\n",
       "\\end{tabular}\n"
      ],
      "text/markdown": [
       "\n",
       "A matrix: 4 × 5 of type dbl\n",
       "\n",
       "| 1 | 5 |  0 | 13 | 17 |\n",
       "| 2 | 0 | 10 | 14 | 18 |\n",
       "| 0 | 7 | 11 | 15 | 19 |\n",
       "| 4 | 8 | 12 | 16 | 20 |\n",
       "\n"
      ],
      "text/plain": [
       "     [,1] [,2] [,3] [,4] [,5]\n",
       "[1,] 1    5     0   13   17  \n",
       "[2,] 2    0    10   14   18  \n",
       "[3,] 0    7    11   15   19  \n",
       "[4,] 4    8    12   16   20  "
      ]
     },
     "metadata": {},
     "output_type": "display_data"
    }
   ],
   "source": [
    "x[i] <- 0\n",
    "x"
   ]
  },
  {
   "cell_type": "code",
   "execution_count": 1,
   "id": "fb7cc524",
   "metadata": {
    "vscode": {
     "languageId": "r"
    }
   },
   "outputs": [
    {
     "data": {
      "image/png": "[encoded data removed]",
      "text/plain": [
       "plot without title"
      ]
     },
     "metadata": {
      "image/png": {
       "height": 420,
       "width": 420
      }
     },
     "output_type": "display_data"
    }
   ],
   "source": [
    "plot(1:10)"
   ]
  },
  {
   "cell_type": "code",
   "execution_count": 2,
   "id": "3d8f5646",
   "metadata": {
    "vscode": {
     "languageId": "r"
    }
   },
   "outputs": [],
   "source": [
    "var1 <- var2 <- var3 <- \"Orange\""
   ]
  },
  {
   "cell_type": "code",
   "execution_count": 5,
   "id": "9c844b76",
   "metadata": {
    "vscode": {
     "languageId": "r"
    }
   },
   "outputs": [
    {
     "data": {
      "text/html": [
       "'Orange'"
      ],
      "text/latex": [
       "'Orange'"
      ],
      "text/markdown": [
       "'Orange'"
      ],
      "text/plain": [
       "[1] \"Orange\""
      ]
     },
     "metadata": {},
     "output_type": "display_data"
    },
    {
     "data": {
      "text/html": [
       "'Orange'"
      ],
      "text/latex": [
       "'Orange'"
      ],
      "text/markdown": [
       "'Orange'"
      ],
      "text/plain": [
       "[1] \"Orange\""
      ]
     },
     "metadata": {},
     "output_type": "display_data"
    },
    {
     "data": {
      "text/html": [
       "'Orange'"
      ],
      "text/latex": [
       "'Orange'"
      ],
      "text/markdown": [
       "'Orange'"
      ],
      "text/plain": [
       "[1] \"Orange\""
      ]
     },
     "metadata": {},
     "output_type": "display_data"
    }
   ],
   "source": [
    "var1\n",
    "var2\n",
    "var3"
   ]
  },
  {
   "cell_type": "code",
   "execution_count": 6,
   "id": "827d52e1",
   "metadata": {
    "vscode": {
     "languageId": "r"
    }
   },
   "outputs": [
    {
     "data": {
      "text/html": [
       "'numeric'"
      ],
      "text/latex": [
       "'numeric'"
      ],
      "text/markdown": [
       "'numeric'"
      ],
      "text/plain": [
       "[1] \"numeric\""
      ]
     },
     "metadata": {},
     "output_type": "display_data"
    },
    {
     "data": {
      "text/html": [
       "'integer'"
      ],
      "text/latex": [
       "'integer'"
      ],
      "text/markdown": [
       "'integer'"
      ],
      "text/plain": [
       "[1] \"integer\""
      ]
     },
     "metadata": {},
     "output_type": "display_data"
    },
    {
     "data": {
      "text/html": [
       "'complex'"
      ],
      "text/latex": [
       "'complex'"
      ],
      "text/markdown": [
       "'complex'"
      ],
      "text/plain": [
       "[1] \"complex\""
      ]
     },
     "metadata": {},
     "output_type": "display_data"
    },
    {
     "data": {
      "text/html": [
       "'character'"
      ],
      "text/latex": [
       "'character'"
      ],
      "text/markdown": [
       "'character'"
      ],
      "text/plain": [
       "[1] \"character\""
      ]
     },
     "metadata": {},
     "output_type": "display_data"
    },
    {
     "data": {
      "text/html": [
       "'logical'"
      ],
      "text/latex": [
       "'logical'"
      ],
      "text/markdown": [
       "'logical'"
      ],
      "text/plain": [
       "[1] \"logical\""
      ]
     },
     "metadata": {},
     "output_type": "display_data"
    }
   ],
   "source": [
    "# numeric\n",
    "x <- 10.5\n",
    "class(x)\n",
    "\n",
    "# integer\n",
    "x <- 1000L\n",
    "class(x)\n",
    "\n",
    "# complex\n",
    "x <- 9i + 3\n",
    "class(x)\n",
    "\n",
    "# character/string\n",
    "x <- \"R is exciting\"\n",
    "class(x)\n",
    "\n",
    "# logical/boolean\n",
    "x <- TRUE\n",
    "class(x)"
   ]
  },
  {
   "cell_type": "code",
   "execution_count": 7,
   "id": "b8646caa",
   "metadata": {
    "vscode": {
     "languageId": "r"
    }
   },
   "outputs": [
    {
     "data": {
      "text/html": [
       "'John'"
      ],
      "text/latex": [
       "'John'"
      ],
      "text/markdown": [
       "'John'"
      ],
      "text/plain": [
       "[1] \"John\""
      ]
     },
     "metadata": {},
     "output_type": "display_data"
    },
    {
     "data": {
      "text/html": [
       "40"
      ],
      "text/latex": [
       "40"
      ],
      "text/markdown": [
       "40"
      ],
      "text/plain": [
       "[1] 40"
      ]
     },
     "metadata": {},
     "output_type": "display_data"
    }
   ],
   "source": [
    "name <- \"John\"\n",
    "age <- 40\n",
    "\n",
    "name   # output \"John\"\n",
    "age    # output 40"
   ]
  },
  {
   "cell_type": "code",
   "execution_count": 9,
   "id": "093bc828",
   "metadata": {
    "vscode": {
     "languageId": "r"
    }
   },
   "outputs": [
    {
     "name": "stdout",
     "output_type": "stream",
     "text": [
      "[1] \"John Doe\"\n"
     ]
    }
   ],
   "source": [
    "name <- \"John Doe\"\n",
    "\n",
    "print(name) # print the value of the name variable"
   ]
  },
  {
   "cell_type": "code",
   "execution_count": 8,
   "id": "c6e37f72",
   "metadata": {
    "vscode": {
     "languageId": "r"
    }
   },
   "outputs": [
    {
     "name": "stdout",
     "output_type": "stream",
     "text": [
      "[1] 1\n",
      "[1] 2\n",
      "[1] 3\n",
      "[1] 4\n",
      "[1] 5\n",
      "[1] 6\n",
      "[1] 7\n",
      "[1] 8\n",
      "[1] 9\n",
      "[1] 10\n"
     ]
    }
   ],
   "source": [
    "for (x in 1:10) {\n",
    "  print(x)\n",
    "}"
   ]
  },
  {
   "cell_type": "code",
   "execution_count": 10,
   "id": "9ca7a6d6",
   "metadata": {
    "vscode": {
     "languageId": "r"
    }
   },
   "outputs": [
    {
     "data": {
      "text/html": [
       "'R is awesome'"
      ],
      "text/latex": [
       "'R is awesome'"
      ],
      "text/markdown": [
       "'R is awesome'"
      ],
      "text/plain": [
       "[1] \"R is awesome\""
      ]
     },
     "metadata": {},
     "output_type": "display_data"
    }
   ],
   "source": [
    "text <- \"awesome\"\n",
    "\n",
    "paste(\"R is\", text)"
   ]
  },
  {
   "cell_type": "code",
   "execution_count": 11,
   "id": "71bd166a",
   "metadata": {
    "vscode": {
     "languageId": "r"
    }
   },
   "outputs": [
    {
     "data": {
      "text/html": [
       "'R is awesome'"
      ],
      "text/latex": [
       "'R is awesome'"
      ],
      "text/markdown": [
       "'R is awesome'"
      ],
      "text/plain": [
       "[1] \"R is awesome\""
      ]
     },
     "metadata": {},
     "output_type": "display_data"
    }
   ],
   "source": [
    "text1 <- \"R is\"\n",
    "text2 <- \"awesome\"\n",
    "\n",
    "paste(text1, text2)"
   ]
  },
  {
   "cell_type": "code",
   "execution_count": 13,
   "id": "8e02c083",
   "metadata": {
    "vscode": {
     "languageId": "r"
    }
   },
   "outputs": [
    {
     "data": {
      "text/html": [
       "15"
      ],
      "text/latex": [
       "15"
      ],
      "text/markdown": [
       "15"
      ],
      "text/plain": [
       "[1] 15"
      ]
     },
     "metadata": {},
     "output_type": "display_data"
    }
   ],
   "source": [
    "num1 <- 5\n",
    "num2 <- 10\n",
    "\n",
    "num1 + num2"
   ]
  },
  {
   "cell_type": "code",
   "execution_count": 12,
   "id": "5fa5640b",
   "metadata": {
    "vscode": {
     "languageId": "r"
    }
   },
   "outputs": [
    {
     "ename": "ERROR",
     "evalue": "Error in num + text: non-numeric argument to binary operator\n",
     "output_type": "error",
     "traceback": [
      "Error in num + text: non-numeric argument to binary operator\nTraceback:\n"
     ]
    }
   ],
   "source": [
    "num <- 5\n",
    "text <- \"Some text\"\n",
    "\n",
    "num + text"
   ]
  },
  {
   "cell_type": "code",
   "execution_count": 14,
   "id": "6a4c07cb",
   "metadata": {
    "vscode": {
     "languageId": "r"
    }
   },
   "outputs": [
    {
     "data": {
      "text/html": [
       "1"
      ],
      "text/latex": [
       "1"
      ],
      "text/markdown": [
       "1"
      ],
      "text/plain": [
       "[1] 1"
      ]
     },
     "metadata": {},
     "output_type": "display_data"
    },
    {
     "data": {
      "text/html": [
       "2"
      ],
      "text/latex": [
       "2"
      ],
      "text/markdown": [
       "2"
      ],
      "text/plain": [
       "[1] 2"
      ]
     },
     "metadata": {},
     "output_type": "display_data"
    },
    {
     "data": {
      "text/html": [
       "'numeric'"
      ],
      "text/latex": [
       "'numeric'"
      ],
      "text/markdown": [
       "'numeric'"
      ],
      "text/plain": [
       "[1] \"numeric\""
      ]
     },
     "metadata": {},
     "output_type": "display_data"
    },
    {
     "data": {
      "text/html": [
       "'integer'"
      ],
      "text/latex": [
       "'integer'"
      ],
      "text/markdown": [
       "'integer'"
      ],
      "text/plain": [
       "[1] \"integer\""
      ]
     },
     "metadata": {},
     "output_type": "display_data"
    }
   ],
   "source": [
    "x <- 1L # integer\n",
    "y <- 2 # numeric\n",
    "\n",
    "# convert from integer to numeric:\n",
    "a <- as.numeric(x)\n",
    "\n",
    "# convert from numeric to integer:\n",
    "b <- as.integer(y)\n",
    "\n",
    "# print values of x and y\n",
    "x\n",
    "y\n",
    "\n",
    "# print the class name of a and b\n",
    "class(a)\n",
    "class(b)"
   ]
  },
  {
   "cell_type": "code",
   "execution_count": 16,
   "id": "6a99ac4c",
   "metadata": {
    "vscode": {
     "languageId": "r"
    }
   },
   "outputs": [
    {
     "data": {
      "text/html": [
       "1000"
      ],
      "text/latex": [
       "1000"
      ],
      "text/markdown": [
       "1000"
      ],
      "text/plain": [
       "[1] 1000"
      ]
     },
     "metadata": {},
     "output_type": "display_data"
    },
    {
     "data": {
      "text/html": [
       "55"
      ],
      "text/latex": [
       "55"
      ],
      "text/markdown": [
       "55"
      ],
      "text/plain": [
       "[1] 55"
      ]
     },
     "metadata": {},
     "output_type": "display_data"
    },
    {
     "data": {
      "text/html": [
       "'integer'"
      ],
      "text/latex": [
       "'integer'"
      ],
      "text/markdown": [
       "'integer'"
      ],
      "text/plain": [
       "[1] \"integer\""
      ]
     },
     "metadata": {},
     "output_type": "display_data"
    },
    {
     "data": {
      "text/html": [
       "'integer'"
      ],
      "text/latex": [
       "'integer'"
      ],
      "text/markdown": [
       "'integer'"
      ],
      "text/plain": [
       "[1] \"integer\""
      ]
     },
     "metadata": {},
     "output_type": "display_data"
    },
    {
     "data": {
      "text/html": [
       "'numeric'"
      ],
      "text/latex": [
       "'numeric'"
      ],
      "text/markdown": [
       "'numeric'"
      ],
      "text/plain": [
       "[1] \"numeric\""
      ]
     },
     "metadata": {},
     "output_type": "display_data"
    }
   ],
   "source": [
    "x <- 1000L\n",
    "y <- 55L\n",
    "z <- 1\n",
    "# Print values of x and y\n",
    "x\n",
    "y\n",
    "\n",
    "# Print the class name of x and y\n",
    "class(x)\n",
    "class(y)\n",
    "class(z)"
   ]
  },
  {
   "cell_type": "code",
   "execution_count": 17,
   "id": "af884ae9",
   "metadata": {
    "vscode": {
     "languageId": "r"
    }
   },
   "outputs": [
    {
     "data": {
      "text/html": [
       "'integer'"
      ],
      "text/latex": [
       "'integer'"
      ],
      "text/markdown": [
       "'integer'"
      ],
      "text/plain": [
       "[1] \"integer\""
      ]
     },
     "metadata": {},
     "output_type": "display_data"
    },
    {
     "data": {
      "text/html": [
       "'integer'"
      ],
      "text/latex": [
       "'integer'"
      ],
      "text/markdown": [
       "'integer'"
      ],
      "text/plain": [
       "[1] \"integer\""
      ]
     },
     "metadata": {},
     "output_type": "display_data"
    },
    {
     "data": {
      "text/html": [
       "'numeric'"
      ],
      "text/latex": [
       "'numeric'"
      ],
      "text/markdown": [
       "'numeric'"
      ],
      "text/plain": [
       "[1] \"numeric\""
      ]
     },
     "metadata": {},
     "output_type": "display_data"
    },
    {
     "data": {
      "text/html": [
       "'numeric'"
      ],
      "text/latex": [
       "'numeric'"
      ],
      "text/markdown": [
       "'numeric'"
      ],
      "text/plain": [
       "[1] \"numeric\""
      ]
     },
     "metadata": {},
     "output_type": "display_data"
    }
   ],
   "source": [
    "# Integer\n",
    "x <- 1000L\n",
    "y <- 55L\n",
    "\n",
    "# Numeric (double)\n",
    "z <- 1000\n",
    "w <- 55.5\n",
    "\n",
    "# Check types\n",
    "class(x)  # \"integer\"\n",
    "class(y)  # \"integer\" \n",
    "class(z)  # \"numeric\"\n",
    "class(w)  # \"numeric\""
   ]
  },
  {
   "cell_type": "code",
   "execution_count": 18,
   "id": "6f90f262",
   "metadata": {
    "vscode": {
     "languageId": "r"
    }
   },
   "outputs": [
    {
     "data": {
      "text/html": [
       "'Lorem ipsum dolor sit amet,\\nconsectetur adipiscing elit,\\nsed do eiusmod tempor incididunt\\nut labore et dolore magna aliqua.'"
      ],
      "text/latex": [
       "'Lorem ipsum dolor sit amet,\\textbackslash{}nconsectetur adipiscing elit,\\textbackslash{}nsed do eiusmod tempor incididunt\\textbackslash{}nut labore et dolore magna aliqua.'"
      ],
      "text/markdown": [
       "'Lorem ipsum dolor sit amet,\\nconsectetur adipiscing elit,\\nsed do eiusmod tempor incididunt\\nut labore et dolore magna aliqua.'"
      ],
      "text/plain": [
       "[1] \"Lorem ipsum dolor sit amet,\\nconsectetur adipiscing elit,\\nsed do eiusmod tempor incididunt\\nut labore et dolore magna aliqua.\""
      ]
     },
     "metadata": {},
     "output_type": "display_data"
    }
   ],
   "source": [
    "str <- \"Lorem ipsum dolor sit amet,\n",
    "consectetur adipiscing elit,\n",
    "sed do eiusmod tempor incididunt\n",
    "ut labore et dolore magna aliqua.\"\n",
    "\n",
    "str # print the value of str"
   ]
  },
  {
   "cell_type": "code",
   "execution_count": 19,
   "id": "27822b1b",
   "metadata": {
    "vscode": {
     "languageId": "r"
    }
   },
   "outputs": [
    {
     "name": "stdout",
     "output_type": "stream",
     "text": [
      "Lorem ipsum dolor sit amet,\n",
      "consectetur adipiscing elit,\n",
      "sed do eiusmod tempor incididunt\n",
      "ut labore et dolore magna aliqua."
     ]
    }
   ],
   "source": [
    "str <- \"Lorem ipsum dolor sit amet,\n",
    "consectetur adipiscing elit,\n",
    "sed do eiusmod tempor incididunt\n",
    "ut labore et dolore magna aliqua.\"\n",
    "\n",
    "cat(str)"
   ]
  },
  {
   "cell_type": "code",
   "execution_count": 20,
   "id": "9664eeb0",
   "metadata": {
    "vscode": {
     "languageId": "r"
    }
   },
   "outputs": [
    {
     "data": {
      "text/html": [
       "12"
      ],
      "text/latex": [
       "12"
      ],
      "text/markdown": [
       "12"
      ],
      "text/plain": [
       "[1] 12"
      ]
     },
     "metadata": {},
     "output_type": "display_data"
    }
   ],
   "source": [
    "str <- \"Hello World!\"\n",
    "\n",
    "nchar(str)"
   ]
  },
  {
   "cell_type": "code",
   "execution_count": 21,
   "id": "3e0c7dd3",
   "metadata": {
    "vscode": {
     "languageId": "r"
    }
   },
   "outputs": [
    {
     "data": {
      "text/html": [
       "TRUE"
      ],
      "text/latex": [
       "TRUE"
      ],
      "text/markdown": [
       "TRUE"
      ],
      "text/plain": [
       "[1] TRUE"
      ]
     },
     "metadata": {},
     "output_type": "display_data"
    },
    {
     "data": {
      "text/html": [
       "TRUE"
      ],
      "text/latex": [
       "TRUE"
      ],
      "text/markdown": [
       "TRUE"
      ],
      "text/plain": [
       "[1] TRUE"
      ]
     },
     "metadata": {},
     "output_type": "display_data"
    },
    {
     "data": {
      "text/html": [
       "FALSE"
      ],
      "text/latex": [
       "FALSE"
      ],
      "text/markdown": [
       "FALSE"
      ],
      "text/plain": [
       "[1] FALSE"
      ]
     },
     "metadata": {},
     "output_type": "display_data"
    }
   ],
   "source": [
    "str <- \"Hello World!\"\n",
    "\n",
    "grepl(\"H\", str)\n",
    "grepl(\"Hello\", str)\n",
    "grepl(\"X\", str)"
   ]
  },
  {
   "cell_type": "code",
   "execution_count": null,
   "id": "aaf00ba8",
   "metadata": {
    "vscode": {
     "languageId": "r"
    }
   },
   "outputs": [],
   "source": []
  },
  {
   "cell_type": "code",
   "execution_count": null,
   "id": "b4a1e0d0",
   "metadata": {
    "vscode": {
     "languageId": "r"
    }
   },
   "outputs": [],
   "source": []
  }
 ],
 "metadata": {
  "kernelspec": {
   "display_name": "R",
   "language": "R",
   "name": "ir"
  },
  "language_info": {
   "codemirror_mode": "r",
   "file_extension": ".r",
   "mimetype": "text/x-r-source",
   "name": "R",
   "pygments_lexer": "r",
   "version": "4.5.1"
  }
 },
 "nbformat": 4,
 "nbformat_minor": 5
}
